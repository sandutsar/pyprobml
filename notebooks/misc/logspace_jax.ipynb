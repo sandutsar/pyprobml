{
 "nbformat": 4,
 "nbformat_minor": 0,
 "metadata": {
  "colab": {
   "name": "logspace_jax.ipynb",
   "provenance": [],
   "collapsed_sections": [],
   "include_colab_link": true
  },
  "kernelspec": {
   "name": "python3",
   "display_name": "Python 3"
  },
  "language_info": {
   "name": "python"
  }
 },
 "cells": [
  {
   "cell_type": "markdown",
   "metadata": {
    "id": "view-in-github",
    "colab_type": "text"
   },
   "source": [
    "<a href=\"https://colab.research.google.com/github/probml/probml-notebooks/blob/main/notebooks/logspace_jax.ipynb\" target=\"_parent\"><img src=\"https://colab.research.google.com/assets/colab-badge.svg\" alt=\"Open In Colab\"/></a>"
   ]
  },
  {
   "cell_type": "markdown",
   "source": [
    "#Illustrate log-space computation in JAX\n",
    "\n",
    "Adapted from the TF version: [Notebook](https://github.com/probml/probml-notebooks/blob/main/notebooks/logspace_tf.ipynb)\n",
    "\n",
    "\n",
    "Code is derived from https://github.com/EEA-sensors/sequential-parallelization-examples\n",
    "\n"
   ],
   "metadata": {
    "id": "BbeH8K-_-aQw"
   }
  },
  {
   "cell_type": "code",
   "source": [
    "import jax.numpy as jnp\n",
    "from jax import random\n",
    "from jax import jit"
   ],
   "metadata": {
    "id": "WqUhH_BS__Uk"
   },
   "execution_count": null,
   "outputs": []
  },
  {
   "cell_type": "code",
   "source": [
    "mm = jit(jnp.matmul)\n",
    "mv = jit(jnp.multiply)\n",
    "\n",
    "\n",
    "@jit\n",
    "def log_mv(log_A, log_b):\n",
    "    Amax = jnp.max(log_A, axis=(-1, -2), keepdims=True)\n",
    "    bmax = jnp.max(log_b, axis=(-1), keepdims=True)\n",
    "    return jnp.squeeze(Amax, axis=-1) + bmax + jnp.log(mv(jnp.exp(log_A - Amax), jnp.exp(log_b - bmax)))\n",
    "\n",
    "\n",
    "@jit\n",
    "def semilog_mv(A, log_b):\n",
    "    bmax = jnp.max(log_b, axis=(-1), keepdims=True)\n",
    "    return bmax + jnp.log(mv(A, jnp.exp(log_b - bmax)))\n",
    "\n",
    "\n",
    "@jit\n",
    "def log_mm(log_A, log_B):\n",
    "    Amax = jnp.max(log_A, axis=(-1, -2), keepdims=True)\n",
    "    Bmax = jnp.max(log_B, axis=(-1, -2), keepdims=True)\n",
    "    return Amax + Bmax + jnp.log(mm(jnp.exp(log_A - Amax), jnp.exp(log_B - Bmax)))\n",
    "\n",
    "\n",
    "@jit\n",
    "def log_normalize(log_p):\n",
    "    pmax = jnp.max(log_p, axis=(-1), keepdims=True)\n",
    "    temp = jnp.exp(log_p - pmax)\n",
    "    return jnp.log(temp / jnp.sum(temp, axis=-1, keepdims=True))"
   ],
   "metadata": {
    "id": "YZ124NyoAcTU"
   },
   "execution_count": null,
   "outputs": []
  },
  {
   "cell_type": "code",
   "source": [
    "print(\"Test utility functions:\")\n",
    "key = random.PRNGKey(5)\n",
    "\n",
    "key, subkey1 = random.split(key)\n",
    "key, subkey2 = random.split(key)\n",
    "\n",
    "A = random.uniform(subkey1, shape=[4, 4])\n",
    "B = random.uniform(subkey2, shape=[4, 4])\n",
    "log_A = jnp.log(A)\n",
    "log_B = jnp.log(B)\n",
    "r1 = mm(A, B)\n",
    "r2 = jnp.exp(log_mm(log_A, log_B))\n",
    "assert jnp.allclose(r1, r2)\n",
    "print(r1)\n",
    "del subkey1, subkey2\n",
    "\n",
    "key, subkey1 = random.split(key)\n",
    "\n",
    "b = random.uniform(subkey1, shape=[4])\n",
    "log_b = jnp.log(b)\n",
    "r1 = mv(A, b)\n",
    "r2 = jnp.exp(log_mv(log_A, log_b))\n",
    "r3 = jnp.exp(semilog_mv(A, log_b))\n",
    "assert jnp.allclose(r1, r2)\n",
    "assert jnp.allclose(r1, r3)\n",
    "print(r1)\n",
    "\n",
    "r1 = b / jnp.sum(b, keepdims=True)\n",
    "r2 = jnp.exp(log_normalize(log_b))\n",
    "assert jnp.allclose(r1, r2)\n",
    "print(r1)\n",
    "del subkey1"
   ],
   "metadata": {
    "colab": {
     "base_uri": "https://localhost:8080/"
    },
    "id": "K1D1sv9OFMcJ",
    "outputId": "5486c8e1-2d5a-4df9-dff8-4b8bf7434e77"
   },
   "execution_count": null,
   "outputs": [
    {
     "output_type": "stream",
     "name": "stdout",
     "text": [
      "Test utility functions:\n",
      "[[1.3614577  0.8750447  0.5797691  1.0019269 ]\n",
      " [0.753297   0.56651133 0.37677762 0.3595949 ]\n",
      " [1.3744494  1.3743275  0.96036065 1.8512903 ]\n",
      " [0.21262836 0.66064924 0.50598025 0.67006475]]\n",
      "[[0.4120565  0.02189492 0.51332504 0.7139932 ]\n",
      " [0.20964764 0.00740943 0.04417798 0.64985305]\n",
      " [0.5894005  0.10242306 0.8178628  0.31164294]\n",
      " [0.0631081  0.07607288 0.07739824 0.04151168]]\n",
      "[0.33839598 0.04428024 0.32203266 0.2952911 ]\n"
     ]
    }
   ]
  }
 ]
}