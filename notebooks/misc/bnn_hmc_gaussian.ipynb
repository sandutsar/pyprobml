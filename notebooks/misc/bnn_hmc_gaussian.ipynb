{
 "nbformat": 4,
 "nbformat_minor": 0,
 "metadata": {
  "colab": {
   "name": "bnn-hmc-gaussian.ipynb",
   "provenance": [],
   "toc_visible": true,
   "machine_shape": "hm",
   "authorship_tag": "ABX9TyMsDtd1ZLmJafQ/FyqyB69X",
   "include_colab_link": true
  },
  "kernelspec": {
   "name": "python3",
   "display_name": "Python 3"
  },
  "language_info": {
   "name": "python"
  },
  "accelerator": "GPU"
 },
 "cells": [
  {
   "cell_type": "markdown",
   "metadata": {
    "id": "view-in-github",
    "colab_type": "text"
   },
   "source": [
    "<a href=\"https://colab.research.google.com/github/probml/probml-notebooks/blob/main/notebooks/bnn_hmc_gaussian.ipynb\" target=\"_parent\"><img src=\"https://colab.research.google.com/assets/colab-badge.svg\" alt=\"Open In Colab\"/></a>"
   ]
  },
  {
   "cell_type": "markdown",
   "metadata": {
    "id": "x_FQOPfkt0p-"
   },
   "source": [
    "# (SG)HMC for inferring params of a 2d Gaussian\n",
    "\n",
    "Based on \n",
    "\n",
    "https://github.com/google-research/google-research/blob/master/bnn_hmc/notebooks/mcmc_gaussian_test.ipynb\n"
   ]
  },
  {
   "cell_type": "code",
   "metadata": {
    "colab": {
     "base_uri": "https://localhost:8080/"
    },
    "id": "DmflvLF2vF33",
    "outputId": "8fe23041-f2ad-4264-ba5d-e1ece4f564c5"
   },
   "source": [
    "import jax\n",
    "\n",
    "print(jax.devices())"
   ],
   "execution_count": 1,
   "outputs": [
    {
     "output_type": "stream",
     "name": "stdout",
     "text": [
      "[GpuDevice(id=0, process_index=0)]\n"
     ]
    }
   ]
  },
  {
   "cell_type": "code",
   "metadata": {
    "colab": {
     "base_uri": "https://localhost:8080/"
    },
    "id": "9yPvHi3dtOkI",
    "outputId": "86133c6e-72d9-41a6-da6e-66ca9b15d799"
   },
   "source": [
    "!git clone https://github.com/google-research/google-research.git"
   ],
   "execution_count": 25,
   "outputs": [
    {
     "output_type": "stream",
     "name": "stdout",
     "text": [
      "fatal: destination path 'google-research' already exists and is not an empty directory.\n"
     ]
    }
   ]
  },
  {
   "cell_type": "code",
   "metadata": {
    "colab": {
     "base_uri": "https://localhost:8080/"
    },
    "id": "Sj4tiAWWtYdp",
    "outputId": "dbb50fda-b8bb-4159-ae57-d695bf60f4c0"
   },
   "source": [
    "%cd /content/google-research"
   ],
   "execution_count": 26,
   "outputs": [
    {
     "output_type": "stream",
     "name": "stdout",
     "text": [
      "/content/google-research\n"
     ]
    }
   ]
  },
  {
   "cell_type": "code",
   "metadata": {
    "colab": {
     "base_uri": "https://localhost:8080/"
    },
    "id": "TQBRXFyGuUuH",
    "outputId": "704d91f4-261d-4e0e-85db-1ac7dd697cc5"
   },
   "source": [
    "!ls bnn_hmc"
   ],
   "execution_count": 27,
   "outputs": [
    {
     "output_type": "stream",
     "name": "stdout",
     "text": [
      "core\t\t\t\tREADME.md\t  run_sgd.py\t utils\n",
      "make_posterior_surface_plot.py\trequirements.txt  run_sgmcmc.py\n",
      "notebooks\t\t\trun_hmc.py\t  run_vi.py\n"
     ]
    }
   ]
  },
  {
   "cell_type": "code",
   "metadata": {
    "colab": {
     "base_uri": "https://localhost:8080/"
    },
    "id": "A22SEy8juI0J",
    "outputId": "2be3ebee-bb77-4d96-bc13-2c2188ccfe7e"
   },
   "source": [
    "!pip install optax"
   ],
   "execution_count": 5,
   "outputs": [
    {
     "output_type": "stream",
     "name": "stdout",
     "text": [
      "Collecting optax\n",
      "  Downloading optax-0.0.9-py3-none-any.whl (118 kB)\n",
      "\u001b[?25l\r\u001b[K     |██▊                             | 10 kB 28.6 MB/s eta 0:00:01\r\u001b[K     |█████▌                          | 20 kB 30.6 MB/s eta 0:00:01\r\u001b[K     |████████▎                       | 30 kB 24.3 MB/s eta 0:00:01\r\u001b[K     |███████████                     | 40 kB 19.8 MB/s eta 0:00:01\r\u001b[K     |█████████████▊                  | 51 kB 14.1 MB/s eta 0:00:01\r\u001b[K     |████████████████▌               | 61 kB 10.6 MB/s eta 0:00:01\r\u001b[K     |███████████████████▎            | 71 kB 11.5 MB/s eta 0:00:01\r\u001b[K     |██████████████████████          | 81 kB 12.7 MB/s eta 0:00:01\r\u001b[K     |████████████████████████▉       | 92 kB 11.2 MB/s eta 0:00:01\r\u001b[K     |███████████████████████████▌    | 102 kB 12.1 MB/s eta 0:00:01\r\u001b[K     |██████████████████████████████▎ | 112 kB 12.1 MB/s eta 0:00:01\r\u001b[K     |████████████████████████████████| 118 kB 12.1 MB/s \n",
      "\u001b[?25hRequirement already satisfied: absl-py>=0.7.1 in /usr/local/lib/python3.7/dist-packages (from optax) (0.12.0)\n",
      "Requirement already satisfied: numpy>=1.18.0 in /usr/local/lib/python3.7/dist-packages (from optax) (1.19.5)\n",
      "Collecting chex>=0.0.4\n",
      "  Downloading chex-0.0.8-py3-none-any.whl (57 kB)\n",
      "\u001b[?25l\r\u001b[K     |█████▋                          | 10 kB 46.9 MB/s eta 0:00:01\r\u001b[K     |███████████▎                    | 20 kB 49.0 MB/s eta 0:00:01\r\u001b[K     |█████████████████               | 30 kB 51.8 MB/s eta 0:00:01\r\u001b[K     |██████████████████████▋         | 40 kB 52.8 MB/s eta 0:00:01\r\u001b[K     |████████████████████████████▎   | 51 kB 52.8 MB/s eta 0:00:01\r\u001b[K     |████████████████████████████████| 57 kB 5.7 MB/s \n",
      "\u001b[?25hRequirement already satisfied: jax>=0.1.55 in /usr/local/lib/python3.7/dist-packages (from optax) (0.2.19)\n",
      "Requirement already satisfied: jaxlib>=0.1.37 in /usr/local/lib/python3.7/dist-packages (from optax) (0.1.70+cuda110)\n",
      "Requirement already satisfied: six in /usr/local/lib/python3.7/dist-packages (from absl-py>=0.7.1->optax) (1.15.0)\n",
      "Requirement already satisfied: dm-tree>=0.1.5 in /usr/local/lib/python3.7/dist-packages (from chex>=0.0.4->optax) (0.1.6)\n",
      "Requirement already satisfied: toolz>=0.9.0 in /usr/local/lib/python3.7/dist-packages (from chex>=0.0.4->optax) (0.11.1)\n",
      "Requirement already satisfied: opt-einsum in /usr/local/lib/python3.7/dist-packages (from jax>=0.1.55->optax) (3.3.0)\n",
      "Requirement already satisfied: flatbuffers<3.0,>=1.12 in /usr/local/lib/python3.7/dist-packages (from jaxlib>=0.1.37->optax) (1.12)\n",
      "Requirement already satisfied: scipy in /usr/local/lib/python3.7/dist-packages (from jaxlib>=0.1.37->optax) (1.4.1)\n",
      "Installing collected packages: chex, optax\n",
      "Successfully installed chex-0.0.8 optax-0.0.9\n"
     ]
    }
   ]
  },
  {
   "cell_type": "markdown",
   "metadata": {
    "id": "I9m5GSFGt-1p"
   },
   "source": [
    "# Setup"
   ]
  },
  {
   "cell_type": "code",
   "metadata": {
    "id": "LTD8GR-a2g7T"
   },
   "source": [
    "from jax.config import config\n",
    "import jax\n",
    "from jax import numpy as jnp\n",
    "import numpy as onp\n",
    "import numpy as np"
   ],
   "execution_count": 28,
   "outputs": []
  },
  {
   "cell_type": "code",
   "metadata": {
    "id": "3zxTscnTtrMw"
   },
   "source": [
    "\n",
    "import os\n",
    "import sys\n",
    "\n",
    "import time\n",
    "import tqdm\n",
    "import optax\n",
    "import functools\n",
    "from matplotlib import pyplot as plt\n",
    "\n",
    "from bnn_hmc.utils import losses\n",
    "from bnn_hmc.utils import train_utils\n",
    "from bnn_hmc.utils import tree_utils\n",
    "\n",
    "%matplotlib inline\n",
    "%load_ext autoreload\n",
    "%autoreload 2"
   ],
   "execution_count": 29,
   "outputs": []
  },
  {
   "cell_type": "markdown",
   "metadata": {
    "id": "UaHbJqoMuGAB"
   },
   "source": [
    "# Data and model"
   ]
  },
  {
   "cell_type": "code",
   "metadata": {
    "id": "nz3ecCvjuGsh"
   },
   "source": [
    "mu = jnp.zeros(\n",
    "    [\n",
    "        2,\n",
    "    ]\n",
    ")\n",
    "# sigma = jnp.array([[1., .5], [.5, 1.]])\n",
    "sigma = jnp.array([[1.0e-4, 0], [0.0, 1.0]])\n",
    "sigma_l = jnp.linalg.cholesky(sigma)\n",
    "sigma_inv = jnp.linalg.inv(sigma)\n",
    "sigma_det = jnp.linalg.det(sigma)"
   ],
   "execution_count": 7,
   "outputs": []
  },
  {
   "cell_type": "code",
   "metadata": {
    "colab": {
     "base_uri": "https://localhost:8080/",
     "height": 265
    },
    "id": "t3HMpwVwucXS",
    "outputId": "f824662a-a65e-4e0c-e903-798c5552c7c6"
   },
   "source": [
    "onp.random.seed(0)\n",
    "samples = onp.random.multivariate_normal(onp.asarray(mu), onp.asarray(sigma), size=1000)\n",
    "plt.scatter(samples[:, 0], samples[:, 1], alpha=0.3)\n",
    "plt.grid()"
   ],
   "execution_count": 8,
   "outputs": [
    {
     "output_type": "display_data",
     "data": {
      "image/png": "[encoded data removed]",
      "text/plain": [
       "<Figure size 432x288 with 1 Axes>"
      ]
     },
     "metadata": {
      "needs_background": "light"
     }
    }
   ]
  },
  {
   "cell_type": "code",
   "metadata": {
    "id": "0zE7kTLoucfv"
   },
   "source": [
    "def log_density_fn(params):\n",
    "    assert params.shape == mu.shape, \"Shape error\"\n",
    "    diff = params - mu\n",
    "\n",
    "    k = mu.size\n",
    "\n",
    "    log_density = -jnp.log(2 * jnp.pi) * k / 2\n",
    "    log_density -= jnp.log(sigma_det) / 2\n",
    "    log_density -= diff.T @ sigma_inv @ diff / 2\n",
    "    return log_density"
   ],
   "execution_count": 9,
   "outputs": []
  },
  {
   "cell_type": "code",
   "metadata": {
    "id": "PczV72Jluepq"
   },
   "source": [
    "def log_likelihood_fn(_, params, *args, **kwargs):\n",
    "    return log_density_fn(params), jnp.array(jnp.nan)\n",
    "\n",
    "\n",
    "def log_prior_fn(_):\n",
    "    return 0.0\n",
    "\n",
    "\n",
    "def log_prior_diff_fn(*args):\n",
    "    return 0.0"
   ],
   "execution_count": 30,
   "outputs": []
  },
  {
   "cell_type": "code",
   "metadata": {
    "id": "ET_46VApugW8"
   },
   "source": [
    "fake_net_apply = None\n",
    "fake_data = jnp.array([[jnp.nan,],]), jnp.array(\n",
    "    [\n",
    "        [\n",
    "            jnp.nan,\n",
    "        ],\n",
    "    ]\n",
    ")\n",
    "fake_net_state = jnp.array(\n",
    "    [\n",
    "        jnp.nan,\n",
    "    ]\n",
    ")"
   ],
   "execution_count": 31,
   "outputs": []
  },
  {
   "cell_type": "markdown",
   "metadata": {
    "id": "CyRAU2VWui1K"
   },
   "source": [
    "# HMC\n"
   ]
  },
  {
   "cell_type": "code",
   "metadata": {
    "colab": {
     "base_uri": "https://localhost:8080/"
    },
    "id": "zfeaDJUXujk8",
    "outputId": "c83149ba-3162-49f5-eeb8-4818b637df06"
   },
   "source": [
    "step_size = 1e-1\n",
    "trajectory_len = jnp.pi / 2\n",
    "max_num_leapfrog_steps = int(trajectory_len // step_size + 1)\n",
    "print(\"Leapfrog steps per iteration:\", max_num_leapfrog_steps)"
   ],
   "execution_count": 32,
   "outputs": [
    {
     "output_type": "stream",
     "name": "stdout",
     "text": [
      "Leapfrog steps per iteration: 16\n"
     ]
    }
   ]
  },
  {
   "cell_type": "code",
   "metadata": {
    "id": "BumEky7pumuI"
   },
   "source": [
    "update, get_log_prob_and_grad = train_utils.make_hmc_update(\n",
    "    fake_net_apply, log_likelihood_fn, log_prior_fn, log_prior_diff_fn, max_num_leapfrog_steps, 1.0, 0.0\n",
    ")"
   ],
   "execution_count": 33,
   "outputs": []
  },
  {
   "cell_type": "code",
   "metadata": {
    "id": "Zc0qG7rwuohu"
   },
   "source": [
    "# Initial log-prob and grad values\n",
    "# params = jnp.ones_like(mu)[None, :]\n",
    "params = jnp.ones_like(mu)\n",
    "log_prob, state_grad, log_likelihood, net_state = get_log_prob_and_grad(fake_data, params, fake_net_state)"
   ],
   "execution_count": 34,
   "outputs": []
  },
  {
   "cell_type": "code",
   "metadata": {
    "colab": {
     "base_uri": "https://localhost:8080/"
    },
    "id": "63s5gkqSuqNc",
    "outputId": "67087786-6647-466f-ea2c-c6f173d739ba"
   },
   "source": [
    "%%time\n",
    "num_iterations = 500\n",
    "all_samples = []\n",
    "key = jax.random.PRNGKey(0)\n",
    "\n",
    "for iteration in tqdm.tqdm(range(num_iterations)):\n",
    "\n",
    "    (params, net_state, log_likelihood, state_grad, step_size, key, accept_prob, accepted) = update(\n",
    "        fake_data, params, net_state, log_likelihood, state_grad, key, step_size, trajectory_len, True\n",
    "    )\n",
    "\n",
    "    if accepted:\n",
    "        all_samples.append(onp.asarray(params).copy())\n",
    "\n",
    "#     print(\"It: {} \\t Accept P: {} \\t Accepted {} \\t Log-likelihood: {}\".format(\n",
    "#             iteration, accept_prob, accepted, log_likelihood))"
   ],
   "execution_count": 35,
   "outputs": [
    {
     "output_type": "stream",
     "name": "stderr",
     "text": [
      "100%|██████████| 500/500 [03:26<00:00,  2.42it/s]\n"
     ]
    }
   ]
  },
  {
   "cell_type": "code",
   "metadata": {
    "colab": {
     "base_uri": "https://localhost:8080/"
    },
    "id": "IEQOxzHkwgE-",
    "outputId": "a6677d0d-d4e1-435f-854a-49c9c1d4b629"
   },
   "source": [
    "len(all_samples)"
   ],
   "execution_count": 36,
   "outputs": [
    {
     "output_type": "execute_result",
     "data": {
      "text/plain": [
       "0"
      ]
     },
     "metadata": {},
     "execution_count": 36
    }
   ]
  },
  {
   "cell_type": "code",
   "metadata": {
    "colab": {
     "base_uri": "https://localhost:8080/"
    },
    "id": "a6BSqDajw9w7",
    "outputId": "06423869-2c93-44f7-ef47-7803104bd9e9"
   },
   "source": [
    "log_prob, state_grad, log_likelihood, net_state"
   ],
   "execution_count": 37,
   "outputs": [
    {
     "output_type": "execute_result",
     "data": {
      "text/plain": [
       "(DeviceArray(-4997.733, dtype=float32),\n",
       " DeviceArray([-1.e+04, -1.e+00], dtype=float32),\n",
       " DeviceArray(-4997.733, dtype=float32),\n",
       " ShardedDeviceArray([nan], dtype=float32))"
      ]
     },
     "metadata": {},
     "execution_count": 37
    }
   ]
  },
  {
   "cell_type": "code",
   "metadata": {
    "colab": {
     "base_uri": "https://localhost:8080/",
     "height": 334
    },
    "id": "XexpVxR5us14",
    "outputId": "b4e0d80d-41cc-4caf-9c81-229e888e146d"
   },
   "source": [
    "all_samples_cat = onp.stack(all_samples)"
   ],
   "execution_count": 38,
   "outputs": [
    {
     "output_type": "error",
     "ename": "ValueError",
     "evalue": "ignored",
     "traceback": [
      "\u001b[0;31m---------------------------------------------------------------------------\u001b[0m",
      "\u001b[0;31mValueError\u001b[0m                                Traceback (most recent call last)",
      "\u001b[0;32m<ipython-input-38-dde50ab74494>\u001b[0m in \u001b[0;36m<module>\u001b[0;34m()\u001b[0m\n\u001b[1;32m      1\u001b[0m \u001b[0;34m\u001b[0m\u001b[0m\n\u001b[0;32m----> 2\u001b[0;31m \u001b[0mall_samples_cat\u001b[0m \u001b[0;34m=\u001b[0m \u001b[0monp\u001b[0m\u001b[0;34m.\u001b[0m\u001b[0mstack\u001b[0m\u001b[0;34m(\u001b[0m\u001b[0mall_samples\u001b[0m\u001b[0;34m)\u001b[0m\u001b[0;34m\u001b[0m\u001b[0;34m\u001b[0m\u001b[0m\n\u001b[0m",
      "\u001b[0;32m<__array_function__ internals>\u001b[0m in \u001b[0;36mstack\u001b[0;34m(*args, **kwargs)\u001b[0m\n",
      "\u001b[0;32m/usr/local/lib/python3.7/dist-packages/numpy/core/shape_base.py\u001b[0m in \u001b[0;36mstack\u001b[0;34m(arrays, axis, out)\u001b[0m\n\u001b[1;32m    421\u001b[0m     \u001b[0marrays\u001b[0m \u001b[0;34m=\u001b[0m \u001b[0;34m[\u001b[0m\u001b[0masanyarray\u001b[0m\u001b[0;34m(\u001b[0m\u001b[0marr\u001b[0m\u001b[0;34m)\u001b[0m \u001b[0;32mfor\u001b[0m \u001b[0marr\u001b[0m \u001b[0;32min\u001b[0m \u001b[0marrays\u001b[0m\u001b[0;34m]\u001b[0m\u001b[0;34m\u001b[0m\u001b[0;34m\u001b[0m\u001b[0m\n\u001b[1;32m    422\u001b[0m     \u001b[0;32mif\u001b[0m \u001b[0;32mnot\u001b[0m \u001b[0marrays\u001b[0m\u001b[0;34m:\u001b[0m\u001b[0;34m\u001b[0m\u001b[0;34m\u001b[0m\u001b[0m\n\u001b[0;32m--> 423\u001b[0;31m         \u001b[0;32mraise\u001b[0m \u001b[0mValueError\u001b[0m\u001b[0;34m(\u001b[0m\u001b[0;34m'need at least one array to stack'\u001b[0m\u001b[0;34m)\u001b[0m\u001b[0;34m\u001b[0m\u001b[0;34m\u001b[0m\u001b[0m\n\u001b[0m\u001b[1;32m    424\u001b[0m \u001b[0;34m\u001b[0m\u001b[0m\n\u001b[1;32m    425\u001b[0m     \u001b[0mshapes\u001b[0m \u001b[0;34m=\u001b[0m \u001b[0;34m{\u001b[0m\u001b[0marr\u001b[0m\u001b[0;34m.\u001b[0m\u001b[0mshape\u001b[0m \u001b[0;32mfor\u001b[0m \u001b[0marr\u001b[0m \u001b[0;32min\u001b[0m \u001b[0marrays\u001b[0m\u001b[0;34m}\u001b[0m\u001b[0;34m\u001b[0m\u001b[0;34m\u001b[0m\u001b[0m\n",
      "\u001b[0;31mValueError\u001b[0m: need at least one array to stack"
     ]
    }
   ]
  },
  {
   "cell_type": "code",
   "metadata": {
    "colab": {
     "base_uri": "https://localhost:8080/",
     "height": 181
    },
    "id": "TNiJUXPiwujV",
    "outputId": "f4102920-a128-4b2f-d5bb-491ad11641e7"
   },
   "source": [
    "plt.scatter(all_samples_cat[:, 0], all_samples_cat[:, 1], alpha=0.3)\n",
    "plt.grid()"
   ],
   "execution_count": 19,
   "outputs": [
    {
     "output_type": "error",
     "ename": "NameError",
     "evalue": "ignored",
     "traceback": [
      "\u001b[0;31m---------------------------------------------------------------------------\u001b[0m",
      "\u001b[0;31mNameError\u001b[0m                                 Traceback (most recent call last)",
      "\u001b[0;32m<ipython-input-19-ccd922184a23>\u001b[0m in \u001b[0;36m<module>\u001b[0;34m()\u001b[0m\n\u001b[0;32m----> 1\u001b[0;31m \u001b[0mplt\u001b[0m\u001b[0;34m.\u001b[0m\u001b[0mscatter\u001b[0m\u001b[0;34m(\u001b[0m\u001b[0mall_samples_cat\u001b[0m\u001b[0;34m[\u001b[0m\u001b[0;34m:\u001b[0m\u001b[0;34m,\u001b[0m \u001b[0;36m0\u001b[0m\u001b[0;34m]\u001b[0m\u001b[0;34m,\u001b[0m \u001b[0mall_samples_cat\u001b[0m\u001b[0;34m[\u001b[0m\u001b[0;34m:\u001b[0m\u001b[0;34m,\u001b[0m \u001b[0;36m1\u001b[0m\u001b[0;34m]\u001b[0m\u001b[0;34m,\u001b[0m \u001b[0malpha\u001b[0m\u001b[0;34m=\u001b[0m\u001b[0;36m0.3\u001b[0m\u001b[0;34m)\u001b[0m\u001b[0;34m\u001b[0m\u001b[0;34m\u001b[0m\u001b[0m\n\u001b[0m\u001b[1;32m      2\u001b[0m \u001b[0mplt\u001b[0m\u001b[0;34m.\u001b[0m\u001b[0mgrid\u001b[0m\u001b[0;34m(\u001b[0m\u001b[0;34m)\u001b[0m\u001b[0;34m\u001b[0m\u001b[0;34m\u001b[0m\u001b[0m\n",
      "\u001b[0;31mNameError\u001b[0m: name 'all_samples_cat' is not defined"
     ]
    }
   ]
  },
  {
   "cell_type": "markdown",
   "metadata": {
    "id": "lyuEnif5zdY9"
   },
   "source": [
    "# Blackjax"
   ]
  },
  {
   "cell_type": "code",
   "metadata": {
    "colab": {
     "base_uri": "https://localhost:8080/"
    },
    "id": "N29quFmSxJ5U",
    "outputId": "92507c2b-8cf6-432f-fa84-a330f015b581"
   },
   "source": [
    "!pip install blackjax"
   ],
   "execution_count": 1,
   "outputs": [
    {
     "output_type": "stream",
     "name": "stdout",
     "text": [
      "Requirement already satisfied: blackjax in /usr/local/lib/python3.7/dist-packages (0.2.1)\n"
     ]
    }
   ]
  },
  {
   "cell_type": "code",
   "metadata": {
    "id": "Lcwa1EcBzfiF"
   },
   "source": [
    "import jax\n",
    "import jax.numpy as jnp\n",
    "import jax.scipy.stats as stats\n",
    "import matplotlib.pyplot as plt\n",
    "import numpy as np\n",
    "\n",
    "import blackjax.hmc as hmc\n",
    "import blackjax.nuts as nuts\n",
    "import blackjax.stan_warmup as stan_warmup"
   ],
   "execution_count": 2,
   "outputs": []
  },
  {
   "cell_type": "code",
   "metadata": {
    "colab": {
     "base_uri": "https://localhost:8080/"
    },
    "id": "Pog5ZEqb2TTW",
    "outputId": "eada3760-efe0-498e-ab4f-420e3c33278d"
   },
   "source": [
    "print(jax.devices())"
   ],
   "execution_count": 3,
   "outputs": [
    {
     "output_type": "stream",
     "name": "stdout",
     "text": [
      "[GpuDevice(id=0, process_index=0)]\n"
     ]
    }
   ]
  },
  {
   "cell_type": "code",
   "metadata": {
    "id": "u486wcKo1OpB"
   },
   "source": [
    "potential = lambda x: -log_density_fn(**x)"
   ],
   "execution_count": 17,
   "outputs": []
  },
  {
   "cell_type": "code",
   "metadata": {
    "colab": {
     "base_uri": "https://localhost:8080/"
    },
    "id": "eKG5_84WznYB",
    "outputId": "92c0b14a-f444-4e4d-844c-19b04432bcea"
   },
   "source": [
    "num_integration_steps = 30\n",
    "kernel_generator = lambda step_size, inverse_mass_matrix: hmc.kernel(\n",
    "    potential, step_size, inverse_mass_matrix, num_integration_steps\n",
    ")\n",
    "\n",
    "rng_key = jax.random.PRNGKey(0)\n",
    "\n",
    "\n",
    "initial_position = {\"params\": np.zeros(2)}\n",
    "initial_state = hmc.new_state(initial_position, potential)\n",
    "print(initial_state)"
   ],
   "execution_count": 18,
   "outputs": [
    {
     "output_type": "stream",
     "name": "stdout",
     "text": [
      "HMCState(position={'params': array([0., 0.])}, potential_energy=DeviceArray(-2.7672932, dtype=float32), potential_energy_grad={'params': DeviceArray([0., 0.], dtype=float32)})\n"
     ]
    }
   ]
  },
  {
   "cell_type": "code",
   "metadata": {
    "colab": {
     "base_uri": "https://localhost:8080/"
    },
    "id": "QYaG5YpDzqKL",
    "outputId": "d6062d2b-27f5-4bb9-a8a5-0475b234d678"
   },
   "source": [
    "%%time\n",
    "nsteps = 500\n",
    "final_state, (step_size, inverse_mass_matrix), info = stan_warmup.run(\n",
    "    rng_key,\n",
    "    kernel_generator,\n",
    "    initial_state,\n",
    "    nsteps,\n",
    ")"
   ],
   "execution_count": 20,
   "outputs": [
    {
     "output_type": "stream",
     "name": "stdout",
     "text": [
      "CPU times: user 3.59 s, sys: 132 ms, total: 3.72 s\n",
      "Wall time: 2.07 s\n"
     ]
    }
   ]
  },
  {
   "cell_type": "code",
   "metadata": {
    "colab": {
     "base_uri": "https://localhost:8080/"
    },
    "id": "dCVbjYQj0Pwb",
    "outputId": "84c2d93d-0205-46a1-80a6-b913c6710ca1"
   },
   "source": [
    "%%time\n",
    "kernel = nuts.kernel(potential, step_size, inverse_mass_matrix)\n",
    "kernel = jax.jit(kernel)"
   ],
   "execution_count": 21,
   "outputs": [
    {
     "output_type": "stream",
     "name": "stdout",
     "text": [
      "CPU times: user 1.81 ms, sys: 0 ns, total: 1.81 ms\n",
      "Wall time: 925 µs\n"
     ]
    }
   ]
  },
  {
   "cell_type": "code",
   "metadata": {
    "id": "0sFQRpff1q-Y"
   },
   "source": [
    "def inference_loop(rng_key, kernel, initial_state, num_samples):\n",
    "    def one_step(state, rng_key):\n",
    "        state, _ = kernel(rng_key, state)\n",
    "        return state, state\n",
    "\n",
    "    keys = jax.random.split(rng_key, num_samples)\n",
    "    _, states = jax.lax.scan(one_step, initial_state, keys)\n",
    "\n",
    "    return states"
   ],
   "execution_count": 22,
   "outputs": []
  },
  {
   "cell_type": "code",
   "metadata": {
    "colab": {
     "base_uri": "https://localhost:8080/"
    },
    "id": "LAPSi4Nx1mHt",
    "outputId": "e162efdf-f0a2-40bd-9138-963560dd1ff0"
   },
   "source": [
    "%%time\n",
    "nsamples = 500\n",
    "\n",
    "states = inference_loop(rng_key, kernel, initial_state, nsamples)\n",
    "\n",
    "samples = states.position[\"params\"].block_until_ready()\n",
    "print(samples.shape)"
   ],
   "execution_count": 23,
   "outputs": [
    {
     "output_type": "stream",
     "name": "stdout",
     "text": [
      "(500, 2)\n",
      "CPU times: user 2.54 s, sys: 69.8 ms, total: 2.61 s\n",
      "Wall time: 1.72 s\n"
     ]
    }
   ]
  },
  {
   "cell_type": "code",
   "metadata": {
    "colab": {
     "base_uri": "https://localhost:8080/",
     "height": 269
    },
    "id": "dulLJK0q1xDo",
    "outputId": "c12f244d-3d65-4aa2-ee35-bf8bf8874d0c"
   },
   "source": [
    "plt.scatter(samples[:, 0], samples[:, 1], alpha=0.3)\n",
    "plt.grid()"
   ],
   "execution_count": 24,
   "outputs": [
    {
     "output_type": "display_data",
     "data": {
      "image/png": "[encoded data removed]",
      "text/plain": [
       "<Figure size 432x288 with 1 Axes>"
      ]
     },
     "metadata": {
      "needs_background": "light"
     }
    }
   ]
  },
  {
   "cell_type": "code",
   "metadata": {
    "id": "8hKLqA5W221K"
   },
   "source": [
    ""
   ],
   "execution_count": null,
   "outputs": []
  }
 ]
}