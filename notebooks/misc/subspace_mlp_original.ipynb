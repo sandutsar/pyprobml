{
 "nbformat": 4,
 "nbformat_minor": 5,
 "metadata": {
  "kernelspec": {
   "display_name": "Python 3 (ipykernel)",
   "language": "python",
   "name": "python3"
  },
  "language_info": {
   "codemirror_mode": {
    "name": "ipython",
    "version": 3
   },
   "file_extension": ".py",
   "mimetype": "text/x-python",
   "name": "python",
   "nbconvert_exporter": "python",
   "pygments_lexer": "ipython3",
   "version": "3.9.4"
  },
  "colab": {
   "name": "subspace-mlp-original.ipynb",
   "provenance": [],
   "toc_visible": true,
   "machine_shape": "hm",
   "include_colab_link": true
  },
  "accelerator": "GPU",
  "widgets": {
   "application/vnd.jupyter.widget-state+json": {
    "742c95f45a934f8aa6fcbdf054f62d60": {
     "model_module": "@jupyter-widgets/controls",
     "model_name": "HBoxModel",
     "model_module_version": "1.5.0",
     "state": {
      "_view_name": "HBoxView",
      "_dom_classes": [],
      "_model_name": "HBoxModel",
      "_view_module": "@jupyter-widgets/controls",
      "_model_module_version": "1.5.0",
      "_view_count": null,
      "_view_module_version": "1.5.0",
      "box_style": "",
      "layout": "IPY_MODEL_effe8188827b44988e94f57845294423",
      "_model_module": "@jupyter-widgets/controls",
      "children": [
       "IPY_MODEL_a1062e9e50e24a19b8e51570218a2a79",
       "IPY_MODEL_3bccbe97e25b4d3080843872678a483a",
       "IPY_MODEL_ae485c87945443ddb5f77d9f80321af1"
      ]
     }
    },
    "effe8188827b44988e94f57845294423": {
     "model_module": "@jupyter-widgets/base",
     "model_name": "LayoutModel",
     "model_module_version": "1.2.0",
     "state": {
      "_view_name": "LayoutView",
      "grid_template_rows": null,
      "right": null,
      "justify_content": null,
      "_view_module": "@jupyter-widgets/base",
      "overflow": null,
      "_model_module_version": "1.2.0",
      "_view_count": null,
      "flex_flow": null,
      "width": null,
      "min_width": null,
      "border": null,
      "align_items": null,
      "bottom": null,
      "_model_module": "@jupyter-widgets/base",
      "top": null,
      "grid_column": null,
      "overflow_y": null,
      "overflow_x": null,
      "grid_auto_flow": null,
      "grid_area": null,
      "grid_template_columns": null,
      "flex": null,
      "_model_name": "LayoutModel",
      "justify_items": null,
      "grid_row": null,
      "max_height": null,
      "align_content": null,
      "visibility": null,
      "align_self": null,
      "height": null,
      "min_height": null,
      "padding": null,
      "grid_auto_rows": null,
      "grid_gap": null,
      "max_width": null,
      "order": null,
      "_view_module_version": "1.2.0",
      "grid_template_areas": null,
      "object_position": null,
      "object_fit": null,
      "grid_auto_columns": null,
      "margin": null,
      "display": null,
      "left": null
     }
    },
    "a1062e9e50e24a19b8e51570218a2a79": {
     "model_module": "@jupyter-widgets/controls",
     "model_name": "HTMLModel",
     "model_module_version": "1.5.0",
     "state": {
      "_view_name": "HTMLView",
      "style": "IPY_MODEL_0fc66f38fb824890bb84fb9e93bc490b",
      "_dom_classes": [],
      "description": "",
      "_model_name": "HTMLModel",
      "placeholder": "​",
      "_view_module": "@jupyter-widgets/controls",
      "_model_module_version": "1.5.0",
      "value": "Dl Completed...: 100%",
      "_view_count": null,
      "_view_module_version": "1.5.0",
      "description_tooltip": null,
      "_model_module": "@jupyter-widgets/controls",
      "layout": "IPY_MODEL_d600e15a327745bea45f28a6f1c79003"
     }
    },
    "3bccbe97e25b4d3080843872678a483a": {
     "model_module": "@jupyter-widgets/controls",
     "model_name": "FloatProgressModel",
     "model_module_version": "1.5.0",
     "state": {
      "_view_name": "ProgressView",
      "style": "IPY_MODEL_9d116882c1814b26863865033eb5af50",
      "_dom_classes": [],
      "description": "",
      "_model_name": "FloatProgressModel",
      "bar_style": "success",
      "max": 4,
      "_view_module": "@jupyter-widgets/controls",
      "_model_module_version": "1.5.0",
      "value": 4,
      "_view_count": null,
      "_view_module_version": "1.5.0",
      "orientation": "horizontal",
      "min": 0,
      "description_tooltip": null,
      "_model_module": "@jupyter-widgets/controls",
      "layout": "IPY_MODEL_68045c5115bc4354b3f7613fed839fbf"
     }
    },
    "ae485c87945443ddb5f77d9f80321af1": {
     "model_module": "@jupyter-widgets/controls",
     "model_name": "HTMLModel",
     "model_module_version": "1.5.0",
     "state": {
      "_view_name": "HTMLView",
      "style": "IPY_MODEL_1bb0e615f1f24026b43473145fd5f730",
      "_dom_classes": [],
      "description": "",
      "_model_name": "HTMLModel",
      "placeholder": "​",
      "_view_module": "@jupyter-widgets/controls",
      "_model_module_version": "1.5.0",
      "value": " 4/4 [00:02&lt;00:00,  1.11 file/s]",
      "_view_count": null,
      "_view_module_version": "1.5.0",
      "description_tooltip": null,
      "_model_module": "@jupyter-widgets/controls",
      "layout": "IPY_MODEL_9806d4eda19a42949d63a474164cda45"
     }
    },
    "0fc66f38fb824890bb84fb9e93bc490b": {
     "model_module": "@jupyter-widgets/controls",
     "model_name": "DescriptionStyleModel",
     "model_module_version": "1.5.0",
     "state": {
      "_view_name": "StyleView",
      "_model_name": "DescriptionStyleModel",
      "description_width": "",
      "_view_module": "@jupyter-widgets/base",
      "_model_module_version": "1.5.0",
      "_view_count": null,
      "_view_module_version": "1.2.0",
      "_model_module": "@jupyter-widgets/controls"
     }
    },
    "d600e15a327745bea45f28a6f1c79003": {
     "model_module": "@jupyter-widgets/base",
     "model_name": "LayoutModel",
     "model_module_version": "1.2.0",
     "state": {
      "_view_name": "LayoutView",
      "grid_template_rows": null,
      "right": null,
      "justify_content": null,
      "_view_module": "@jupyter-widgets/base",
      "overflow": null,
      "_model_module_version": "1.2.0",
      "_view_count": null,
      "flex_flow": null,
      "width": null,
      "min_width": null,
      "border": null,
      "align_items": null,
      "bottom": null,
      "_model_module": "@jupyter-widgets/base",
      "top": null,
      "grid_column": null,
      "overflow_y": null,
      "overflow_x": null,
      "grid_auto_flow": null,
      "grid_area": null,
      "grid_template_columns": null,
      "flex": null,
      "_model_name": "LayoutModel",
      "justify_items": null,
      "grid_row": null,
      "max_height": null,
      "align_content": null,
      "visibility": null,
      "align_self": null,
      "height": null,
      "min_height": null,
      "padding": null,
      "grid_auto_rows": null,
      "grid_gap": null,
      "max_width": null,
      "order": null,
      "_view_module_version": "1.2.0",
      "grid_template_areas": null,
      "object_position": null,
      "object_fit": null,
      "grid_auto_columns": null,
      "margin": null,
      "display": null,
      "left": null
     }
    },
    "9d116882c1814b26863865033eb5af50": {
     "model_module": "@jupyter-widgets/controls",
     "model_name": "ProgressStyleModel",
     "model_module_version": "1.5.0",
     "state": {
      "_view_name": "StyleView",
      "_model_name": "ProgressStyleModel",
      "description_width": "",
      "_view_module": "@jupyter-widgets/base",
      "_model_module_version": "1.5.0",
      "_view_count": null,
      "_view_module_version": "1.2.0",
      "bar_color": null,
      "_model_module": "@jupyter-widgets/controls"
     }
    },
    "68045c5115bc4354b3f7613fed839fbf": {
     "model_module": "@jupyter-widgets/base",
     "model_name": "LayoutModel",
     "model_module_version": "1.2.0",
     "state": {
      "_view_name": "LayoutView",
      "grid_template_rows": null,
      "right": null,
      "justify_content": null,
      "_view_module": "@jupyter-widgets/base",
      "overflow": null,
      "_model_module_version": "1.2.0",
      "_view_count": null,
      "flex_flow": null,
      "width": null,
      "min_width": null,
      "border": null,
      "align_items": null,
      "bottom": null,
      "_model_module": "@jupyter-widgets/base",
      "top": null,
      "grid_column": null,
      "overflow_y": null,
      "overflow_x": null,
      "grid_auto_flow": null,
      "grid_area": null,
      "grid_template_columns": null,
      "flex": null,
      "_model_name": "LayoutModel",
      "justify_items": null,
      "grid_row": null,
      "max_height": null,
      "align_content": null,
      "visibility": null,
      "align_self": null,
      "height": null,
      "min_height": null,
      "padding": null,
      "grid_auto_rows": null,
      "grid_gap": null,
      "max_width": null,
      "order": null,
      "_view_module_version": "1.2.0",
      "grid_template_areas": null,
      "object_position": null,
      "object_fit": null,
      "grid_auto_columns": null,
      "margin": null,
      "display": null,
      "left": null
     }
    },
    "1bb0e615f1f24026b43473145fd5f730": {
     "model_module": "@jupyter-widgets/controls",
     "model_name": "DescriptionStyleModel",
     "model_module_version": "1.5.0",
     "state": {
      "_view_name": "StyleView",
      "_model_name": "DescriptionStyleModel",
      "description_width": "",
      "_view_module": "@jupyter-widgets/base",
      "_model_module_version": "1.5.0",
      "_view_count": null,
      "_view_module_version": "1.2.0",
      "_model_module": "@jupyter-widgets/controls"
     }
    },
    "9806d4eda19a42949d63a474164cda45": {
     "model_module": "@jupyter-widgets/base",
     "model_name": "LayoutModel",
     "model_module_version": "1.2.0",
     "state": {
      "_view_name": "LayoutView",
      "grid_template_rows": null,
      "right": null,
      "justify_content": null,
      "_view_module": "@jupyter-widgets/base",
      "overflow": null,
      "_model_module_version": "1.2.0",
      "_view_count": null,
      "flex_flow": null,
      "width": null,
      "min_width": null,
      "border": null,
      "align_items": null,
      "bottom": null,
      "_model_module": "@jupyter-widgets/base",
      "top": null,
      "grid_column": null,
      "overflow_y": null,
      "overflow_x": null,
      "grid_auto_flow": null,
      "grid_area": null,
      "grid_template_columns": null,
      "flex": null,
      "_model_name": "LayoutModel",
      "justify_items": null,
      "grid_row": null,
      "max_height": null,
      "align_content": null,
      "visibility": null,
      "align_self": null,
      "height": null,
      "min_height": null,
      "padding": null,
      "grid_auto_rows": null,
      "grid_gap": null,
      "max_width": null,
      "order": null,
      "_view_module_version": "1.2.0",
      "grid_template_areas": null,
      "object_position": null,
      "object_fit": null,
      "grid_auto_columns": null,
      "margin": null,
      "display": null,
      "left": null
     }
    }
   }
  }
 },
 "cells": [
  {
   "cell_type": "markdown",
   "metadata": {
    "id": "view-in-github",
    "colab_type": "text"
   },
   "source": [
    "<a href=\"https://colab.research.google.com/github/probml/probml-notebooks/blob/main/notebooks/subspace_mlp_original.ipynb\" target=\"_parent\"><img src=\"https://colab.research.google.com/assets/colab-badge.svg\" alt=\"Open In Colab\"/></a>"
   ]
  },
  {
   "cell_type": "markdown",
   "metadata": {
    "id": "1a10f3c2-fd31-416a-8160-1f1e672e5c9a"
   },
   "source": [
    "# Subspace training of an MLP"
   ],
   "id": "1a10f3c2-fd31-416a-8160-1f1e672e5c9a"
  },
  {
   "cell_type": "code",
   "metadata": {
    "id": "I_Km1Kq85uZ-"
   },
   "source": [
    "%%capture\n",
    "!pip install optax\n",
    "!pip install flax"
   ],
   "id": "I_Km1Kq85uZ-",
   "execution_count": 1,
   "outputs": []
  },
  {
   "cell_type": "code",
   "metadata": {
    "id": "457885c0-c08e-4750-9581-64a940c9cc9f"
   },
   "source": [
    "import jax\n",
    "import optax\n",
    "import jax.numpy as jnp\n",
    "import flax.linen as nn\n",
    "import matplotlib.pyplot as plt\n",
    "from jax import random\n",
    "from functools import partial\n",
    "from flax.training import train_state\n",
    "from jax.scipy.optimize import minimize\n",
    "from sklearn.metrics import confusion_matrix, precision_score, recall_score"
   ],
   "id": "457885c0-c08e-4750-9581-64a940c9cc9f",
   "execution_count": 2,
   "outputs": []
  },
  {
   "cell_type": "code",
   "metadata": {
    "id": "64f783dc-0d07-4bce-a5f7-e038401b2a1b"
   },
   "source": [
    "import pickle\n",
    "import numpy as np\n",
    "from sklearn.model_selection import train_test_split"
   ],
   "id": "64f783dc-0d07-4bce-a5f7-e038401b2a1b",
   "execution_count": 3,
   "outputs": []
  },
  {
   "cell_type": "code",
   "metadata": {
    "id": "7724c53f-6d91-4799-8d65-2665cfb965b3"
   },
   "source": [
    "%config InlineBackend.figure_format = \"retina\"\n",
    "#%load_ext line_profiler\n",
    "plt.rcParams[\"axes.spines.right\"] = False\n",
    "plt.rcParams[\"axes.spines.top\"] = False"
   ],
   "id": "7724c53f-6d91-4799-8d65-2665cfb965b3",
   "execution_count": 4,
   "outputs": []
  },
  {
   "cell_type": "markdown",
   "metadata": {
    "id": "RkxbocGb5IPH"
   },
   "source": [
    "# training_utils.py\n",
    "https://github.com/gerdm/probml-research/blob/main/scripts/training_utils.py\n"
   ],
   "id": "RkxbocGb5IPH"
  },
  {
   "cell_type": "code",
   "metadata": {
    "id": "LHx9NhEj5Asd"
   },
   "source": [
    "# Original code taken from https://github.com/ganguli-lab/degrees-of-freedom\n",
    "\n",
    "import numpy as onp  # original numpy\n",
    "import jax.numpy as jnp  # jax numpy\n",
    "import itertools\n",
    "from jax import jit, grad, random\n",
    "import jax\n",
    "\n",
    "\n",
    "def generate_projection(d, D, k_nonzero=None, enforce_no_overlap_if_possible=True):\n",
    "\n",
    "    M_random = onp.random.normal(loc=0.0, scale=1.0, size=(d, D))\n",
    "\n",
    "    if k_nonzero is None:  # no conditions on axis alignment\n",
    "        M_now = M_random\n",
    "    else:\n",
    "        M_now = onp.zeros((d, D))\n",
    "\n",
    "        if (k_nonzero * d <= D) and (enforce_no_overlap_if_possible == True):\n",
    "            ids_flat = onp.random.choice(range(D), (k_nonzero * d), replace=False)\n",
    "            ids_shaped = ids_flat.reshape([d, k_nonzero])\n",
    "        elif (k_nonzero * d <= D) and (enforce_no_overlap_if_possible == False):\n",
    "            ids_flat = onp.random.choice(range(D), (k_nonzero * d), replace=True)\n",
    "            ids_shaped = ids_flat.reshape([d, k_nonzero])\n",
    "        else:\n",
    "            ids_flat = onp.random.choice(range(D), (k_nonzero * d), replace=True)\n",
    "            ids_shaped = ids_flat.reshape([d, k_nonzero])\n",
    "\n",
    "        for i in range(d):\n",
    "            M_now[i, ids_shaped[i]] = M_random[i, ids_shaped[i]]\n",
    "\n",
    "    # normalization to unit length of each basis vector\n",
    "    M_now = M_now / onp.linalg.norm(M_now, axis=-1, keepdims=True)\n",
    "\n",
    "    return M_now\n",
    "\n",
    "\n",
    "## These are the functions required for doing optimization in the hyperplane\n",
    "@jit\n",
    "def flatten_leaves(leaves):\n",
    "    shapes_list = []\n",
    "    vals_list = []\n",
    "    for leaf in leaves:\n",
    "        shapes_list.append(leaf.shape)\n",
    "        vals_list.append(leaf.reshape([-1]))\n",
    "    return jnp.concatenate(vals_list), shapes_list\n",
    "\n",
    "\n",
    "def reform_leaves(vec, shapes_list):\n",
    "    counter = 0\n",
    "    leaves = []\n",
    "    for shape in shapes_list:\n",
    "        shape = jnp.asarray(shape)\n",
    "        step = jnp.prod(shape)\n",
    "        leaves.append((vec[counter : counter + step]).reshape(shape))\n",
    "        counter = counter + step\n",
    "    return leaves\n",
    "\n",
    "\n",
    "@jit\n",
    "def theta_to_flat_params(theta, M, flat_params0):\n",
    "    return jnp.matmul(theta, M)[0] + flat_params0\n",
    "\n",
    "\n",
    "def theta_to_paramstree(theta, M, flat_params0, treedef, shapes_list):\n",
    "    flat_params = theta_to_flat_params(theta, M, flat_params0)\n",
    "    leaves = reform_leaves(flat_params, shapes_list)\n",
    "    return jax.tree_unflatten(treedef, leaves)"
   ],
   "id": "LHx9NhEj5Asd",
   "execution_count": 5,
   "outputs": []
  },
  {
   "cell_type": "code",
   "metadata": {
    "id": "FdZu9xPv60aQ"
   },
   "source": [
    "'''\n",
    "# Sparse matrix vector multiplication\n",
    "@jax.partial(jax.jit, static_argnums=(2))\n",
    "def sp_matmul(A, B, D):\n",
    "\t\"\"\"\n",
    "\tArguments:\n",
    "\t\tA: (N, M) sparse matrix represented as a tuple (indexes, values)\n",
    "\t\tB: (M,K) dense matrix\n",
    "\t\tD: value of N, full weight space dimension\n",
    "\tReturns:\n",
    "\t\t(N, K) dense matrix\n",
    "\tModified from: \n",
    "\t\thttps://gcucurull.github.io/deep-learning/2020/06/03/jax-sparse-matrix-multiplication/\n",
    "\t\"\"\"\n",
    "\tassert B.ndim == 2\n",
    "\trows, cols, values = A\n",
    "\tin_ = B.take(cols.astype('int32'), axis=0)\n",
    "\tprod = in_*values[:, None]\n",
    "\tres = jax.ops.segment_sum(prod, rows.astype('int32'), D)\n",
    "\treturn res\n",
    "\n",
    "#Same functions as above, but using sparse matrix multiplications\n",
    "@jit\n",
    "def sparse_theta_to_flat_params(theta,M,flat_params0):\t\n",
    "\tMTthetaT = sp_matmul(M,theta.T,flat_params0.shape[0])\n",
    "\treturn MTthetaT.T[0] + flat_params0\n",
    "\n",
    "def sparse_theta_to_paramstree(theta,M,flat_params0,treedef,shapes_list):\n",
    "\tflat_params = sparse_theta_to_flat_params(theta,M,flat_params0)\n",
    "\tleaves = reform_leaves(flat_params,shapes_list)\n",
    "\treturn jax.tree_unflatten(treedef,leaves)\n",
    "'''"
   ],
   "id": "FdZu9xPv60aQ",
   "execution_count": null,
   "outputs": []
  },
  {
   "cell_type": "markdown",
   "metadata": {
    "id": "f1178b62-64c2-4758-bda7-dabdd74ad666"
   },
   "source": [
    "## MNIST"
   ],
   "id": "f1178b62-64c2-4758-bda7-dabdd74ad666"
  },
  {
   "cell_type": "code",
   "metadata": {
    "id": "27244b18-dc8c-4342-a261-8b4037ff6322"
   },
   "source": [
    "from time import time\n",
    "import tensorflow_datasets as tfds"
   ],
   "id": "27244b18-dc8c-4342-a261-8b4037ff6322",
   "execution_count": 6,
   "outputs": []
  },
  {
   "cell_type": "code",
   "metadata": {
    "id": "bed04364-f605-4f66-9861-af988eb04a73"
   },
   "source": [
    "import sys\n",
    "\n",
    "# sys.path.append(\"../scripts/\")\n",
    "# import training_utils"
   ],
   "id": "bed04364-f605-4f66-9861-af988eb04a73",
   "execution_count": 7,
   "outputs": []
  },
  {
   "cell_type": "code",
   "metadata": {
    "id": "acba260f-bce9-4eba-a40f-38586fee305d"
   },
   "source": [
    "def get_datasets():\n",
    "    \"\"\"\n",
    "    Load MNIST train and test datasets into memory\n",
    "    \"\"\"\n",
    "    ds_builder = tfds.builder(\"mnist\")\n",
    "    ds_builder.download_and_prepare()\n",
    "    train_ds = tfds.as_numpy(ds_builder.as_dataset(split=\"train\", batch_size=-1))\n",
    "    test_ds = tfds.as_numpy(ds_builder.as_dataset(split=\"test\", batch_size=-1))\n",
    "    train_ds[\"image\"] = jnp.float32(train_ds[\"image\"]) / 255.0\n",
    "    test_ds[\"image\"] = jnp.float32(test_ds[\"image\"]) / 255.0\n",
    "    return train_ds, test_ds"
   ],
   "id": "acba260f-bce9-4eba-a40f-38586fee305d",
   "execution_count": 8,
   "outputs": []
  },
  {
   "cell_type": "code",
   "metadata": {
    "id": "c6c2815e-a862-4bcd-a95b-1f5d964d9158",
    "colab": {
     "base_uri": "https://localhost:8080/",
     "height": 312,
     "referenced_widgets": [
      "742c95f45a934f8aa6fcbdf054f62d60",
      "effe8188827b44988e94f57845294423",
      "a1062e9e50e24a19b8e51570218a2a79",
      "3bccbe97e25b4d3080843872678a483a",
      "ae485c87945443ddb5f77d9f80321af1",
      "0fc66f38fb824890bb84fb9e93bc490b",
      "d600e15a327745bea45f28a6f1c79003",
      "9d116882c1814b26863865033eb5af50",
      "68045c5115bc4354b3f7613fed839fbf",
      "1bb0e615f1f24026b43473145fd5f730",
      "9806d4eda19a42949d63a474164cda45"
     ]
    },
    "outputId": "a49f5612-e941-43ba-9c97-7200c713147f"
   },
   "source": [
    "train_ds, test_ds = get_datasets()\n",
    "train_ds[\"image\"] = train_ds[\"image\"].reshape(-1, 28**2)\n",
    "test_ds[\"image\"] = test_ds[\"image\"].reshape(-1, 28**2)"
   ],
   "id": "c6c2815e-a862-4bcd-a95b-1f5d964d9158",
   "execution_count": 9,
   "outputs": [
    {
     "output_type": "stream",
     "name": "stdout",
     "text": [
      "\u001b[1mDownloading and preparing dataset mnist/3.0.1 (download: 11.06 MiB, generated: 21.00 MiB, total: 32.06 MiB) to /root/tensorflow_datasets/mnist/3.0.1...\u001b[0m\n"
     ]
    },
    {
     "output_type": "stream",
     "name": "stderr",
     "text": [
      "WARNING:absl:Dataset mnist is hosted on GCS. It will automatically be downloaded to your\n",
      "local data directory. If you'd instead prefer to read directly from our public\n",
      "GCS bucket (recommended if you're running on GCP), you can instead pass\n",
      "`try_gcs=True` to `tfds.load` or set `data_dir=gs://tfds-data/datasets`.\n",
      "\n"
     ]
    },
    {
     "output_type": "display_data",
     "data": {
      "application/vnd.jupyter.widget-view+json": {
       "model_id": "742c95f45a934f8aa6fcbdf054f62d60",
       "version_minor": 0,
       "version_major": 2
      },
      "text/plain": [
       "Dl Completed...:   0%|          | 0/4 [00:00<?, ? file/s]"
      ]
     },
     "metadata": {}
    },
    {
     "output_type": "stream",
     "name": "stdout",
     "text": [
      "\n",
      "\u001b[1mDataset mnist downloaded and prepared to /root/tensorflow_datasets/mnist/3.0.1. Subsequent calls will reuse this data.\u001b[0m\n",
      "WARNING:tensorflow:From /usr/local/lib/python3.7/dist-packages/tensorflow_datasets/core/dataset_builder.py:598: get_single_element (from tensorflow.python.data.experimental.ops.get_single_element) is deprecated and will be removed in a future version.\n",
      "Instructions for updating:\n",
      "Use `tf.data.Dataset.get_single_element()`.\n"
     ]
    },
    {
     "output_type": "stream",
     "name": "stderr",
     "text": [
      "WARNING:tensorflow:From /usr/local/lib/python3.7/dist-packages/tensorflow_datasets/core/dataset_builder.py:598: get_single_element (from tensorflow.python.data.experimental.ops.get_single_element) is deprecated and will be removed in a future version.\n",
      "Instructions for updating:\n",
      "Use `tf.data.Dataset.get_single_element()`.\n"
     ]
    }
   ]
  },
  {
   "cell_type": "code",
   "metadata": {
    "id": "edf615db-3582-486f-a4f7-395f3f98756a"
   },
   "source": [
    "class MLP(nn.Module):\n",
    "    @nn.compact\n",
    "    def __call__(self, x):\n",
    "        x = nn.relu(nn.Dense(784)(x))\n",
    "        x = nn.relu(nn.Dense(200)(x))\n",
    "        x = nn.relu(nn.Dense(200)(x))\n",
    "        x = nn.Dense(10)(x)\n",
    "        return nn.log_softmax(x)"
   ],
   "id": "edf615db-3582-486f-a4f7-395f3f98756a",
   "execution_count": 10,
   "outputs": []
  },
  {
   "cell_type": "code",
   "metadata": {
    "id": "7e088dbb-c9be-4279-87a2-1a8818cf5663"
   },
   "source": [
    "@jax.vmap\n",
    "def cross_entropy_loss(logits, label):\n",
    "    return -logits[label]\n",
    "\n",
    "\n",
    "@jax.jit\n",
    "def normal_loss(params, batch):\n",
    "    logits = MLP().apply({\"params\": params}, batch[\"image\"])\n",
    "    logits = jax.nn.log_softmax(logits)\n",
    "    loss = jnp.mean(cross_entropy_loss(logits, batch[\"label\"]))\n",
    "    return loss\n",
    "\n",
    "\n",
    "@jax.jit\n",
    "def normal_accuracy(params, batch):\n",
    "    logits = MLP().apply({\"params\": params}, batch[\"image\"])\n",
    "    logits = jax.nn.log_softmax(logits)\n",
    "    return jnp.mean(jnp.argmax(logits, -1) == batch[\"label\"])"
   ],
   "id": "7e088dbb-c9be-4279-87a2-1a8818cf5663",
   "execution_count": 11,
   "outputs": []
  },
  {
   "cell_type": "code",
   "metadata": {
    "id": "23b4a10c-73f0-4991-8304-f730b05ee815"
   },
   "source": [
    "key = random.PRNGKey(314)\n",
    "init_params = MLP().init(key, train_ds[\"image\"][[0], :])[\"params\"]\n",
    "theta0, reconstruct_tree_params = jax.flatten_util.ravel_pytree(init_params)"
   ],
   "id": "23b4a10c-73f0-4991-8304-f730b05ee815",
   "execution_count": 12,
   "outputs": []
  },
  {
   "cell_type": "code",
   "metadata": {
    "id": "0f1b507b-d9ad-40ec-be34-54aac1d6cb23",
    "colab": {
     "base_uri": "https://localhost:8080/"
    },
    "outputId": "b1d48fce-d618-4bb1-b0e1-2ce4914d11f9"
   },
   "source": [
    "%%time\n",
    "D = len(theta0)\n",
    "d = 100  # 1200\n",
    "M = jnp.array(generate_projection(d, D))"
   ],
   "id": "0f1b507b-d9ad-40ec-be34-54aac1d6cb23",
   "execution_count": 13,
   "outputs": [
    {
     "output_type": "stream",
     "name": "stdout",
     "text": [
      "CPU times: user 3.76 s, sys: 430 ms, total: 4.19 s\n",
      "Wall time: 4.16 s\n"
     ]
    }
   ]
  },
  {
   "cell_type": "code",
   "metadata": {
    "id": "480461bf-a12c-45a2-a640-f023d4500f1b"
   },
   "source": [
    "@jax.jit\n",
    "def project_subspace(theta_flat, M, theta0_flat):\n",
    "    return jnp.matmul(theta_flat, M)[0] + theta0_flat\n",
    "\n",
    "\n",
    "def projected_loss(theta_subspace, batch, M, theta0):\n",
    "    \"\"\"\n",
    "    1. Project theta_subspace ∈ R^d => theta ∈ R^D\n",
    "    2. Compute loss of the model w.r.t. theta_subspace\n",
    "    \"\"\"\n",
    "    projected_subspace_params = project_subspace(theta_subspace, M, theta0)\n",
    "    projected_subspace_params = reconstruct_tree_params(projected_subspace_params)\n",
    "    return normal_loss(projected_subspace_params, batch)\n",
    "\n",
    "\n",
    "loss_grad_wrt_theta = jax.grad(projected_loss)\n",
    "\n",
    "\n",
    "@jax.jit\n",
    "def adam_update(grads, params, mass, velocity, hyperparams):\n",
    "\n",
    "    mass = hyperparams[\"beta_1\"] * mass + (1.0 - hyperparams[\"beta_1\"]) * grads\n",
    "    velocity = hyperparams[\"beta_2\"] * velocity + (1.0 - hyperparams[\"beta_2\"]) * (grads**2.0)\n",
    "    # Bias correction\n",
    "    hat_mass = mass / (1 - hyperparams[\"beta_1\"])\n",
    "    hat_velocity = velocity / (1 - hyperparams[\"beta_2\"])\n",
    "    # Update\n",
    "    params = params - hyperparams[\"lr\"] / (jnp.sqrt(hat_velocity) + hyperparams[\"epsilon\"]) * hat_mass\n",
    "\n",
    "    return params, mass, velocity"
   ],
   "id": "480461bf-a12c-45a2-a640-f023d4500f1b",
   "execution_count": 14,
   "outputs": []
  },
  {
   "cell_type": "code",
   "metadata": {
    "tags": [],
    "id": "da3dffac-ef8f-40d6-be6f-de0cd8b73f36"
   },
   "source": [
    "def mlp_subspace_train(theta0, M, train_ds, test_ds, n_epochs, hyperparams, logline=100, print_status=True):\n",
    "    d, D = M.shape\n",
    "\n",
    "    theta = jnp.zeros((1, d))\n",
    "    mass = jnp.zeros((1, d))\n",
    "    velocity = jnp.zeros((1, d))\n",
    "\n",
    "    projected_loss_part = partial(projected_loss, M=M, theta0=theta0)\n",
    "    loss_grad_wrt_theta = jax.grad(projected_loss_part)\n",
    "\n",
    "    for e in range(n_epochs):\n",
    "        grads = loss_grad_wrt_theta(theta, train_ds)\n",
    "        theta, mass, velocity = adam_update(grads, theta, mass, velocity, hyperparams)\n",
    "\n",
    "        params_now = project_subspace(theta, M, theta0)\n",
    "        params_now = reconstruct_tree_params(params_now)\n",
    "\n",
    "        epoch_loss = normal_loss(params_now, train_ds)\n",
    "        epoch_accuracy = normal_accuracy(params_now, train_ds)\n",
    "\n",
    "        if e % logline == 0 or e == n_epochs - 1:\n",
    "            end = \"\\n\"\n",
    "            epoch_val_accuracy = normal_accuracy(params_now, test_ds)\n",
    "            val_str = f\" || val acc: {epoch_val_accuracy:0.2%}\"\n",
    "        else:\n",
    "            end = \"\\r\"\n",
    "            val_str = \"\"\n",
    "        metric_str = f\"epoch: {e+1:03} || acc: {epoch_accuracy:0.2%} || loss:{epoch_loss:0.2f}\"\n",
    "        metric_str += val_str\n",
    "        if print_status:\n",
    "            print(metric_str, end=end)\n",
    "\n",
    "    epoch_val_loss = normal_loss(params_now, test_ds)\n",
    "    return theta, epoch_val_accuracy, epoch_val_loss"
   ],
   "id": "da3dffac-ef8f-40d6-be6f-de0cd8b73f36",
   "execution_count": 15,
   "outputs": []
  },
  {
   "cell_type": "markdown",
   "metadata": {
    "id": "9af518a7-77ea-4ad3-8c73-3aef7ad4b867"
   },
   "source": [
    "### Training subspace"
   ],
   "id": "9af518a7-77ea-4ad3-8c73-3aef7ad4b867"
  },
  {
   "cell_type": "code",
   "metadata": {
    "id": "61b10ea5-ce2f-442a-8e85-235c98336d03"
   },
   "source": [
    "d_max = 800  # 1200\n",
    "# d_test = jnp.arange(0, 1200 + 20, 20)\n",
    "d_test = jnp.arange(0, d_max + 200, 200)\n",
    "d_test = jax.ops.index_update(d_test, 0, 2)"
   ],
   "id": "61b10ea5-ce2f-442a-8e85-235c98336d03",
   "execution_count": 16,
   "outputs": []
  },
  {
   "cell_type": "code",
   "metadata": {
    "colab": {
     "base_uri": "https://localhost:8080/"
    },
    "id": "fin8eJnw83Vz",
    "outputId": "b35a99fc-ed42-410a-d0b1-bea1e74071f0"
   },
   "source": [
    "print(d_test)"
   ],
   "id": "fin8eJnw83Vz",
   "execution_count": 21,
   "outputs": [
    {
     "output_type": "stream",
     "name": "stdout",
     "text": [
      "[  2 200 400 600 800]\n"
     ]
    }
   ]
  },
  {
   "cell_type": "code",
   "metadata": {
    "id": "06f42bf9-c223-4472-87f2-7e331cae38e7",
    "colab": {
     "base_uri": "https://localhost:8080/"
    },
    "outputId": "7891e0bd-76ce-44c4-c0e4-4b235a90fd95"
   },
   "source": [
    "%%time\n",
    "M = jnp.array(generate_projection(d_max, D))"
   ],
   "id": "06f42bf9-c223-4472-87f2-7e331cae38e7",
   "execution_count": 17,
   "outputs": [
    {
     "output_type": "stream",
     "name": "stdout",
     "text": [
      "CPU times: user 30.2 s, sys: 3.33 s, total: 33.6 s\n",
      "Wall time: 33.4 s\n"
     ]
    }
   ]
  },
  {
   "cell_type": "code",
   "metadata": {
    "colab": {
     "base_uri": "https://localhost:8080/"
    },
    "id": "XlARXRyJ8pcF",
    "outputId": "4d419244-ff9a-4362-aada-1d09f113a6fe"
   },
   "source": [
    "print(M.shape)"
   ],
   "id": "XlARXRyJ8pcF",
   "execution_count": 18,
   "outputs": [
    {
     "output_type": "stream",
     "name": "stdout",
     "text": [
      "(800, 814650)\n"
     ]
    }
   ]
  },
  {
   "cell_type": "code",
   "metadata": {
    "id": "fb4aeac9-217a-4fb0-b82c-ca82b3530a30",
    "colab": {
     "base_uri": "https://localhost:8080/"
    },
    "outputId": "afcfe8d7-a99e-4830-c2d2-1f75de398dfb"
   },
   "source": [
    "val_acc_hist = []\n",
    "val_loss_hist = []\n",
    "\n",
    "n_epochs = 300\n",
    "\n",
    "hyperparams = {\"lr\": 1e-1, \"beta_1\": 0.9, \"beta_2\": 0.999, \"epsilon\": 1e-7}\n",
    "\n",
    "\n",
    "for d in d_test:\n",
    "    print(f\"\\nTesting subpace {d}\")\n",
    "    t_init = time()\n",
    "    _, val_acc, val_loss = mlp_subspace_train(theta0, M[:d], train_ds, test_ds, n_epochs, hyperparams)\n",
    "    t_end = time()\n",
    "    print(f\"Total run: {t_end - t_init:0.2f}s\")\n",
    "    val_acc_hist.append(val_acc.item())\n",
    "    val_loss_hist.append(val_loss.item())"
   ],
   "id": "fb4aeac9-217a-4fb0-b82c-ca82b3530a30",
   "execution_count": 23,
   "outputs": [
    {
     "output_type": "stream",
     "name": "stdout",
     "text": [
      "\n",
      "Testing subpace 2\n",
      "epoch: 001 || acc: 10.21% || loss:2.31 || val acc: 10.75%\n",
      "epoch: 101 || acc: 10.99% || loss:2.29 || val acc: 11.22%\n",
      "epoch: 201 || acc: 12.70% || loss:2.28 || val acc: 12.37%\n",
      "epoch: 300 || acc: 12.86% || loss:2.28 || val acc: 12.53%\n",
      "Total run: 27.23s\n",
      "\n",
      "Testing subpace 200\n",
      "epoch: 001 || acc: 11.83% || loss:2.30 || val acc: 12.30%\n",
      "epoch: 101 || acc: 70.49% || loss:0.92 || val acc: 70.51%\n",
      "epoch: 201 || acc: 74.33% || loss:0.80 || val acc: 74.57%\n",
      "epoch: 300 || acc: 75.53% || loss:0.77 || val acc: 75.89%\n",
      "Total run: 14.60s\n",
      "\n",
      "Testing subpace 400\n",
      "epoch: 001 || acc: 13.63% || loss:2.29 || val acc: 14.13%\n",
      "epoch: 101 || acc: 83.60% || loss:0.53 || val acc: 84.31%\n",
      "epoch: 201 || acc: 85.00% || loss:0.49 || val acc: 85.43%\n",
      "epoch: 300 || acc: 85.36% || loss:0.48 || val acc: 85.87%\n",
      "Total run: 15.27s\n",
      "\n",
      "Testing subpace 600\n",
      "epoch: 001 || acc: 15.08% || loss:2.29 || val acc: 15.33%\n",
      "epoch: 101 || acc: 87.80% || loss:0.40 || val acc: 87.85%\n",
      "epoch: 201 || acc: 88.94% || loss:0.37 || val acc: 89.17%\n",
      "epoch: 300 || acc: 89.24% || loss:0.35 || val acc: 89.37%\n",
      "Total run: 16.42s\n",
      "\n",
      "Testing subpace 800\n",
      "epoch: 001 || acc: 16.67% || loss:2.28 || val acc: 17.15%\n",
      "epoch: 101 || acc: 90.29% || loss:0.32 || val acc: 90.31%\n",
      "epoch: 201 || acc: 91.21% || loss:0.29 || val acc: 91.22%\n",
      "epoch: 300 || acc: 91.54% || loss:0.28 || val acc: 91.56%\n",
      "Total run: 17.58s\n"
     ]
    }
   ]
  },
  {
   "cell_type": "code",
   "metadata": {
    "colab": {
     "base_uri": "https://localhost:8080/",
     "height": 250
    },
    "id": "LcQuu6AR9Z4I",
    "outputId": "46314292-e5ed-4123-b594-3a0b0d1c1719"
   },
   "source": [
    "fig, ax = plt.subplots(figsize=(7, 3))\n",
    "plt.plot(d_test, val_acc_hist)\n",
    "plt.scatter(d_test, val_acc_hist)\n",
    "plt.yticks([0.0, 0.2, 0.4, 0.6, 0.8, 1.0])\n",
    "plt.grid()\n",
    "plt.axhline(y=0.9, c=\"black\", linestyle=\"--\")\n",
    "plt.xlabel(\"Subspace dim $d$\", fontsize=13)\n",
    "plt.ylabel(\"Validation accuracy\", fontsize=13)"
   ],
   "id": "LcQuu6AR9Z4I",
   "execution_count": 25,
   "outputs": [
    {
     "output_type": "execute_result",
     "data": {
      "text/plain": [
       "Text(0, 0.5, 'Validation accuracy')"
      ]
     },
     "metadata": {},
     "execution_count": 25
    },
    {
     "output_type": "display_data",
     "data": {
      "image/png": "[encoded data removed]",
      "text/plain": [
       "<Figure size 504x216 with 1 Axes>"
      ]
     },
     "metadata": {
      "image/png": {
       "width": 445,
       "height": 216
      },
      "needs_background": "light"
     }
    }
   ]
  }
 ]
}