{
 "nbformat": 4,
 "nbformat_minor": 0,
 "metadata": {
  "colab": {
   "name": "bnn-mnist-SGLD.ipynb",
   "provenance": [],
   "collapsed_sections": [],
   "toc_visible": true,
   "machine_shape": "hm"
  },
  "kernelspec": {
   "name": "python3",
   "display_name": "Python 3"
  },
  "language_info": {
   "name": "python"
  },
  "accelerator": "GPU",
  "widgets": {
   "application/vnd.jupyter.widget-state+json": {
    "df42f202e9fa433eb6f306d014b9dc25": {
     "model_module": "@jupyter-widgets/controls",
     "model_name": "HBoxModel",
     "model_module_version": "1.5.0",
     "state": {
      "_view_name": "HBoxView",
      "_dom_classes": [],
      "_model_name": "HBoxModel",
      "_view_module": "@jupyter-widgets/controls",
      "_model_module_version": "1.5.0",
      "_view_count": null,
      "_view_module_version": "1.5.0",
      "box_style": "",
      "layout": "IPY_MODEL_6ce523df19e548c182a8511bd12ef7b8",
      "_model_module": "@jupyter-widgets/controls",
      "children": [
       "IPY_MODEL_b2ec50aa07194c29ac70d22a69450227",
       "IPY_MODEL_0343ebc56b9148a3b398450b5805aae0",
       "IPY_MODEL_d7d817c67edb49e7bab6b856ec232856"
      ]
     }
    },
    "6ce523df19e548c182a8511bd12ef7b8": {
     "model_module": "@jupyter-widgets/base",
     "model_name": "LayoutModel",
     "model_module_version": "1.2.0",
     "state": {
      "_view_name": "LayoutView",
      "grid_template_rows": null,
      "right": null,
      "justify_content": null,
      "_view_module": "@jupyter-widgets/base",
      "overflow": null,
      "_model_module_version": "1.2.0",
      "_view_count": null,
      "flex_flow": null,
      "width": null,
      "min_width": null,
      "border": null,
      "align_items": null,
      "bottom": null,
      "_model_module": "@jupyter-widgets/base",
      "top": null,
      "grid_column": null,
      "overflow_y": null,
      "overflow_x": null,
      "grid_auto_flow": null,
      "grid_area": null,
      "grid_template_columns": null,
      "flex": null,
      "_model_name": "LayoutModel",
      "justify_items": null,
      "grid_row": null,
      "max_height": null,
      "align_content": null,
      "visibility": null,
      "align_self": null,
      "height": null,
      "min_height": null,
      "padding": null,
      "grid_auto_rows": null,
      "grid_gap": null,
      "max_width": null,
      "order": null,
      "_view_module_version": "1.2.0",
      "grid_template_areas": null,
      "object_position": null,
      "object_fit": null,
      "grid_auto_columns": null,
      "margin": null,
      "display": null,
      "left": null
     }
    },
    "b2ec50aa07194c29ac70d22a69450227": {
     "model_module": "@jupyter-widgets/controls",
     "model_name": "HTMLModel",
     "model_module_version": "1.5.0",
     "state": {
      "_view_name": "HTMLView",
      "style": "IPY_MODEL_88e033a2675e416786fdd8db486c66e8",
      "_dom_classes": [],
      "description": "",
      "_model_name": "HTMLModel",
      "placeholder": "​",
      "_view_module": "@jupyter-widgets/controls",
      "_model_module_version": "1.5.0",
      "value": "Dl Completed...: 100%",
      "_view_count": null,
      "_view_module_version": "1.5.0",
      "description_tooltip": null,
      "_model_module": "@jupyter-widgets/controls",
      "layout": "IPY_MODEL_8e461e443a3c4f8eb6dcf274ddfa4723"
     }
    },
    "0343ebc56b9148a3b398450b5805aae0": {
     "model_module": "@jupyter-widgets/controls",
     "model_name": "FloatProgressModel",
     "model_module_version": "1.5.0",
     "state": {
      "_view_name": "ProgressView",
      "style": "IPY_MODEL_93d33b968d2340fb8bfc43ca17941041",
      "_dom_classes": [],
      "description": "",
      "_model_name": "FloatProgressModel",
      "bar_style": "success",
      "max": 4,
      "_view_module": "@jupyter-widgets/controls",
      "_model_module_version": "1.5.0",
      "value": 4,
      "_view_count": null,
      "_view_module_version": "1.5.0",
      "orientation": "horizontal",
      "min": 0,
      "description_tooltip": null,
      "_model_module": "@jupyter-widgets/controls",
      "layout": "IPY_MODEL_c74773affe1f4e228d6c5bb88634abc7"
     }
    },
    "d7d817c67edb49e7bab6b856ec232856": {
     "model_module": "@jupyter-widgets/controls",
     "model_name": "HTMLModel",
     "model_module_version": "1.5.0",
     "state": {
      "_view_name": "HTMLView",
      "style": "IPY_MODEL_cf329a8d51544cee87f8022941f91159",
      "_dom_classes": [],
      "description": "",
      "_model_name": "HTMLModel",
      "placeholder": "​",
      "_view_module": "@jupyter-widgets/controls",
      "_model_module_version": "1.5.0",
      "value": " 4/4 [00:00&lt;00:00, 12.20 file/s]",
      "_view_count": null,
      "_view_module_version": "1.5.0",
      "description_tooltip": null,
      "_model_module": "@jupyter-widgets/controls",
      "layout": "IPY_MODEL_e0e653c54d0b47a2a9cc41835007c7b0"
     }
    },
    "88e033a2675e416786fdd8db486c66e8": {
     "model_module": "@jupyter-widgets/controls",
     "model_name": "DescriptionStyleModel",
     "model_module_version": "1.5.0",
     "state": {
      "_view_name": "StyleView",
      "_model_name": "DescriptionStyleModel",
      "description_width": "",
      "_view_module": "@jupyter-widgets/base",
      "_model_module_version": "1.5.0",
      "_view_count": null,
      "_view_module_version": "1.2.0",
      "_model_module": "@jupyter-widgets/controls"
     }
    },
    "8e461e443a3c4f8eb6dcf274ddfa4723": {
     "model_module": "@jupyter-widgets/base",
     "model_name": "LayoutModel",
     "model_module_version": "1.2.0",
     "state": {
      "_view_name": "LayoutView",
      "grid_template_rows": null,
      "right": null,
      "justify_content": null,
      "_view_module": "@jupyter-widgets/base",
      "overflow": null,
      "_model_module_version": "1.2.0",
      "_view_count": null,
      "flex_flow": null,
      "width": null,
      "min_width": null,
      "border": null,
      "align_items": null,
      "bottom": null,
      "_model_module": "@jupyter-widgets/base",
      "top": null,
      "grid_column": null,
      "overflow_y": null,
      "overflow_x": null,
      "grid_auto_flow": null,
      "grid_area": null,
      "grid_template_columns": null,
      "flex": null,
      "_model_name": "LayoutModel",
      "justify_items": null,
      "grid_row": null,
      "max_height": null,
      "align_content": null,
      "visibility": null,
      "align_self": null,
      "height": null,
      "min_height": null,
      "padding": null,
      "grid_auto_rows": null,
      "grid_gap": null,
      "max_width": null,
      "order": null,
      "_view_module_version": "1.2.0",
      "grid_template_areas": null,
      "object_position": null,
      "object_fit": null,
      "grid_auto_columns": null,
      "margin": null,
      "display": null,
      "left": null
     }
    },
    "93d33b968d2340fb8bfc43ca17941041": {
     "model_module": "@jupyter-widgets/controls",
     "model_name": "ProgressStyleModel",
     "model_module_version": "1.5.0",
     "state": {
      "_view_name": "StyleView",
      "_model_name": "ProgressStyleModel",
      "description_width": "",
      "_view_module": "@jupyter-widgets/base",
      "_model_module_version": "1.5.0",
      "_view_count": null,
      "_view_module_version": "1.2.0",
      "bar_color": null,
      "_model_module": "@jupyter-widgets/controls"
     }
    },
    "c74773affe1f4e228d6c5bb88634abc7": {
     "model_module": "@jupyter-widgets/base",
     "model_name": "LayoutModel",
     "model_module_version": "1.2.0",
     "state": {
      "_view_name": "LayoutView",
      "grid_template_rows": null,
      "right": null,
      "justify_content": null,
      "_view_module": "@jupyter-widgets/base",
      "overflow": null,
      "_model_module_version": "1.2.0",
      "_view_count": null,
      "flex_flow": null,
      "width": null,
      "min_width": null,
      "border": null,
      "align_items": null,
      "bottom": null,
      "_model_module": "@jupyter-widgets/base",
      "top": null,
      "grid_column": null,
      "overflow_y": null,
      "overflow_x": null,
      "grid_auto_flow": null,
      "grid_area": null,
      "grid_template_columns": null,
      "flex": null,
      "_model_name": "LayoutModel",
      "justify_items": null,
      "grid_row": null,
      "max_height": null,
      "align_content": null,
      "visibility": null,
      "align_self": null,
      "height": null,
      "min_height": null,
      "padding": null,
      "grid_auto_rows": null,
      "grid_gap": null,
      "max_width": null,
      "order": null,
      "_view_module_version": "1.2.0",
      "grid_template_areas": null,
      "object_position": null,
      "object_fit": null,
      "grid_auto_columns": null,
      "margin": null,
      "display": null,
      "left": null
     }
    },
    "cf329a8d51544cee87f8022941f91159": {
     "model_module": "@jupyter-widgets/controls",
     "model_name": "DescriptionStyleModel",
     "model_module_version": "1.5.0",
     "state": {
      "_view_name": "StyleView",
      "_model_name": "DescriptionStyleModel",
      "description_width": "",
      "_view_module": "@jupyter-widgets/base",
      "_model_module_version": "1.5.0",
      "_view_count": null,
      "_view_module_version": "1.2.0",
      "_model_module": "@jupyter-widgets/controls"
     }
    },
    "e0e653c54d0b47a2a9cc41835007c7b0": {
     "model_module": "@jupyter-widgets/base",
     "model_name": "LayoutModel",
     "model_module_version": "1.2.0",
     "state": {
      "_view_name": "LayoutView",
      "grid_template_rows": null,
      "right": null,
      "justify_content": null,
      "_view_module": "@jupyter-widgets/base",
      "overflow": null,
      "_model_module_version": "1.2.0",
      "_view_count": null,
      "flex_flow": null,
      "width": null,
      "min_width": null,
      "border": null,
      "align_items": null,
      "bottom": null,
      "_model_module": "@jupyter-widgets/base",
      "top": null,
      "grid_column": null,
      "overflow_y": null,
      "overflow_x": null,
      "grid_auto_flow": null,
      "grid_area": null,
      "grid_template_columns": null,
      "flex": null,
      "_model_name": "LayoutModel",
      "justify_items": null,
      "grid_row": null,
      "max_height": null,
      "align_content": null,
      "visibility": null,
      "align_self": null,
      "height": null,
      "min_height": null,
      "padding": null,
      "grid_auto_rows": null,
      "grid_gap": null,
      "max_width": null,
      "order": null,
      "_view_module_version": "1.2.0",
      "grid_template_areas": null,
      "object_position": null,
      "object_fit": null,
      "grid_auto_columns": null,
      "margin": null,
      "display": null,
      "left": null
     }
    },
    "d16a6dd9792c432b806a5c34fe7adedf": {
     "model_module": "@jupyter-widgets/controls",
     "model_name": "HBoxModel",
     "model_module_version": "1.5.0",
     "state": {
      "_view_name": "HBoxView",
      "_dom_classes": [],
      "_model_name": "HBoxModel",
      "_view_module": "@jupyter-widgets/controls",
      "_model_module_version": "1.5.0",
      "_view_count": null,
      "_view_module_version": "1.5.0",
      "box_style": "",
      "layout": "IPY_MODEL_fe736fb6e8e64a43a7bb92babae4d585",
      "_model_module": "@jupyter-widgets/controls",
      "children": [
       "IPY_MODEL_c0ccc5c9aeec4f668b7b3c3ba28e3154",
       "IPY_MODEL_4100412fa3cd44d19ea335ff88fd3d7c",
       "IPY_MODEL_e322ebee1f50405c817d49fbd0244d1e"
      ]
     }
    },
    "fe736fb6e8e64a43a7bb92babae4d585": {
     "model_module": "@jupyter-widgets/base",
     "model_name": "LayoutModel",
     "model_module_version": "1.2.0",
     "state": {
      "_view_name": "LayoutView",
      "grid_template_rows": null,
      "right": null,
      "justify_content": null,
      "_view_module": "@jupyter-widgets/base",
      "overflow": null,
      "_model_module_version": "1.2.0",
      "_view_count": null,
      "flex_flow": null,
      "width": null,
      "min_width": null,
      "border": null,
      "align_items": null,
      "bottom": null,
      "_model_module": "@jupyter-widgets/base",
      "top": null,
      "grid_column": null,
      "overflow_y": null,
      "overflow_x": null,
      "grid_auto_flow": null,
      "grid_area": null,
      "grid_template_columns": null,
      "flex": null,
      "_model_name": "LayoutModel",
      "justify_items": null,
      "grid_row": null,
      "max_height": null,
      "align_content": null,
      "visibility": null,
      "align_self": null,
      "height": null,
      "min_height": null,
      "padding": null,
      "grid_auto_rows": null,
      "grid_gap": null,
      "max_width": null,
      "order": null,
      "_view_module_version": "1.2.0",
      "grid_template_areas": null,
      "object_position": null,
      "object_fit": null,
      "grid_auto_columns": null,
      "margin": null,
      "display": null,
      "left": null
     }
    },
    "c0ccc5c9aeec4f668b7b3c3ba28e3154": {
     "model_module": "@jupyter-widgets/controls",
     "model_name": "HTMLModel",
     "model_module_version": "1.5.0",
     "state": {
      "_view_name": "HTMLView",
      "style": "IPY_MODEL_73e2fcbef6554241ab75f38eedaef7fa",
      "_dom_classes": [],
      "description": "",
      "_model_name": "HTMLModel",
      "placeholder": "​",
      "_view_module": "@jupyter-widgets/controls",
      "_model_module_version": "1.5.0",
      "value": "Dl Completed...: 100%",
      "_view_count": null,
      "_view_module_version": "1.5.0",
      "description_tooltip": null,
      "_model_module": "@jupyter-widgets/controls",
      "layout": "IPY_MODEL_3edd82123612464d962ca39500aa592e"
     }
    },
    "4100412fa3cd44d19ea335ff88fd3d7c": {
     "model_module": "@jupyter-widgets/controls",
     "model_name": "FloatProgressModel",
     "model_module_version": "1.5.0",
     "state": {
      "_view_name": "ProgressView",
      "style": "IPY_MODEL_cb84826784474bdfaf3f1b9ee6e4efb1",
      "_dom_classes": [],
      "description": "",
      "_model_name": "FloatProgressModel",
      "bar_style": "success",
      "max": 1,
      "_view_module": "@jupyter-widgets/controls",
      "_model_module_version": "1.5.0",
      "value": 1,
      "_view_count": null,
      "_view_module_version": "1.5.0",
      "orientation": "horizontal",
      "min": 0,
      "description_tooltip": null,
      "_model_module": "@jupyter-widgets/controls",
      "layout": "IPY_MODEL_d59293d033234b10a717cc06adb4d16d"
     }
    },
    "e322ebee1f50405c817d49fbd0244d1e": {
     "model_module": "@jupyter-widgets/controls",
     "model_name": "HTMLModel",
     "model_module_version": "1.5.0",
     "state": {
      "_view_name": "HTMLView",
      "style": "IPY_MODEL_2ae0256b02aa446cb893c8c1c921e9f5",
      "_dom_classes": [],
      "description": "",
      "_model_name": "HTMLModel",
      "placeholder": "​",
      "_view_module": "@jupyter-widgets/controls",
      "_model_module_version": "1.5.0",
      "value": " 4/4 [00:03&lt;00:00,  1.18 url/s]",
      "_view_count": null,
      "_view_module_version": "1.5.0",
      "description_tooltip": null,
      "_model_module": "@jupyter-widgets/controls",
      "layout": "IPY_MODEL_f9ef2de8c3b24a8fa53003d7b1f7ce5c"
     }
    },
    "73e2fcbef6554241ab75f38eedaef7fa": {
     "model_module": "@jupyter-widgets/controls",
     "model_name": "DescriptionStyleModel",
     "model_module_version": "1.5.0",
     "state": {
      "_view_name": "StyleView",
      "_model_name": "DescriptionStyleModel",
      "description_width": "",
      "_view_module": "@jupyter-widgets/base",
      "_model_module_version": "1.5.0",
      "_view_count": null,
      "_view_module_version": "1.2.0",
      "_model_module": "@jupyter-widgets/controls"
     }
    },
    "3edd82123612464d962ca39500aa592e": {
     "model_module": "@jupyter-widgets/base",
     "model_name": "LayoutModel",
     "model_module_version": "1.2.0",
     "state": {
      "_view_name": "LayoutView",
      "grid_template_rows": null,
      "right": null,
      "justify_content": null,
      "_view_module": "@jupyter-widgets/base",
      "overflow": null,
      "_model_module_version": "1.2.0",
      "_view_count": null,
      "flex_flow": null,
      "width": null,
      "min_width": null,
      "border": null,
      "align_items": null,
      "bottom": null,
      "_model_module": "@jupyter-widgets/base",
      "top": null,
      "grid_column": null,
      "overflow_y": null,
      "overflow_x": null,
      "grid_auto_flow": null,
      "grid_area": null,
      "grid_template_columns": null,
      "flex": null,
      "_model_name": "LayoutModel",
      "justify_items": null,
      "grid_row": null,
      "max_height": null,
      "align_content": null,
      "visibility": null,
      "align_self": null,
      "height": null,
      "min_height": null,
      "padding": null,
      "grid_auto_rows": null,
      "grid_gap": null,
      "max_width": null,
      "order": null,
      "_view_module_version": "1.2.0",
      "grid_template_areas": null,
      "object_position": null,
      "object_fit": null,
      "grid_auto_columns": null,
      "margin": null,
      "display": null,
      "left": null
     }
    },
    "cb84826784474bdfaf3f1b9ee6e4efb1": {
     "model_module": "@jupyter-widgets/controls",
     "model_name": "ProgressStyleModel",
     "model_module_version": "1.5.0",
     "state": {
      "_view_name": "StyleView",
      "_model_name": "ProgressStyleModel",
      "description_width": "",
      "_view_module": "@jupyter-widgets/base",
      "_model_module_version": "1.5.0",
      "_view_count": null,
      "_view_module_version": "1.2.0",
      "bar_color": null,
      "_model_module": "@jupyter-widgets/controls"
     }
    },
    "d59293d033234b10a717cc06adb4d16d": {
     "model_module": "@jupyter-widgets/base",
     "model_name": "LayoutModel",
     "model_module_version": "1.2.0",
     "state": {
      "_view_name": "LayoutView",
      "grid_template_rows": null,
      "right": null,
      "justify_content": null,
      "_view_module": "@jupyter-widgets/base",
      "overflow": null,
      "_model_module_version": "1.2.0",
      "_view_count": null,
      "flex_flow": null,
      "width": "20px",
      "min_width": null,
      "border": null,
      "align_items": null,
      "bottom": null,
      "_model_module": "@jupyter-widgets/base",
      "top": null,
      "grid_column": null,
      "overflow_y": null,
      "overflow_x": null,
      "grid_auto_flow": null,
      "grid_area": null,
      "grid_template_columns": null,
      "flex": null,
      "_model_name": "LayoutModel",
      "justify_items": null,
      "grid_row": null,
      "max_height": null,
      "align_content": null,
      "visibility": null,
      "align_self": null,
      "height": null,
      "min_height": null,
      "padding": null,
      "grid_auto_rows": null,
      "grid_gap": null,
      "max_width": null,
      "order": null,
      "_view_module_version": "1.2.0",
      "grid_template_areas": null,
      "object_position": null,
      "object_fit": null,
      "grid_auto_columns": null,
      "margin": null,
      "display": null,
      "left": null
     }
    },
    "2ae0256b02aa446cb893c8c1c921e9f5": {
     "model_module": "@jupyter-widgets/controls",
     "model_name": "DescriptionStyleModel",
     "model_module_version": "1.5.0",
     "state": {
      "_view_name": "StyleView",
      "_model_name": "DescriptionStyleModel",
      "description_width": "",
      "_view_module": "@jupyter-widgets/base",
      "_model_module_version": "1.5.0",
      "_view_count": null,
      "_view_module_version": "1.2.0",
      "_model_module": "@jupyter-widgets/controls"
     }
    },
    "f9ef2de8c3b24a8fa53003d7b1f7ce5c": {
     "model_module": "@jupyter-widgets/base",
     "model_name": "LayoutModel",
     "model_module_version": "1.2.0",
     "state": {
      "_view_name": "LayoutView",
      "grid_template_rows": null,
      "right": null,
      "justify_content": null,
      "_view_module": "@jupyter-widgets/base",
      "overflow": null,
      "_model_module_version": "1.2.0",
      "_view_count": null,
      "flex_flow": null,
      "width": null,
      "min_width": null,
      "border": null,
      "align_items": null,
      "bottom": null,
      "_model_module": "@jupyter-widgets/base",
      "top": null,
      "grid_column": null,
      "overflow_y": null,
      "overflow_x": null,
      "grid_auto_flow": null,
      "grid_area": null,
      "grid_template_columns": null,
      "flex": null,
      "_model_name": "LayoutModel",
      "justify_items": null,
      "grid_row": null,
      "max_height": null,
      "align_content": null,
      "visibility": null,
      "align_self": null,
      "height": null,
      "min_height": null,
      "padding": null,
      "grid_auto_rows": null,
      "grid_gap": null,
      "max_width": null,
      "order": null,
      "_view_module_version": "1.2.0",
      "grid_template_areas": null,
      "object_position": null,
      "object_fit": null,
      "grid_auto_columns": null,
      "margin": null,
      "display": null,
      "left": null
     }
    },
    "9242c5bae1c746c09392751bd92958d9": {
     "model_module": "@jupyter-widgets/controls",
     "model_name": "HBoxModel",
     "model_module_version": "1.5.0",
     "state": {
      "_view_name": "HBoxView",
      "_dom_classes": [],
      "_model_name": "HBoxModel",
      "_view_module": "@jupyter-widgets/controls",
      "_model_module_version": "1.5.0",
      "_view_count": null,
      "_view_module_version": "1.5.0",
      "box_style": "",
      "layout": "IPY_MODEL_23eec583df7146bd9ff7958cccea8b8b",
      "_model_module": "@jupyter-widgets/controls",
      "children": [
       "IPY_MODEL_35b0a2275dd94c5c89ff3cb0af11355f",
       "IPY_MODEL_2fe0bc0c8e9f4d9ab2b8e15d941f2774",
       "IPY_MODEL_a4b98a8d59b043d390b57aae01308fed"
      ]
     }
    },
    "23eec583df7146bd9ff7958cccea8b8b": {
     "model_module": "@jupyter-widgets/base",
     "model_name": "LayoutModel",
     "model_module_version": "1.2.0",
     "state": {
      "_view_name": "LayoutView",
      "grid_template_rows": null,
      "right": null,
      "justify_content": null,
      "_view_module": "@jupyter-widgets/base",
      "overflow": null,
      "_model_module_version": "1.2.0",
      "_view_count": null,
      "flex_flow": null,
      "width": null,
      "min_width": null,
      "border": null,
      "align_items": null,
      "bottom": null,
      "_model_module": "@jupyter-widgets/base",
      "top": null,
      "grid_column": null,
      "overflow_y": null,
      "overflow_x": null,
      "grid_auto_flow": null,
      "grid_area": null,
      "grid_template_columns": null,
      "flex": null,
      "_model_name": "LayoutModel",
      "justify_items": null,
      "grid_row": null,
      "max_height": null,
      "align_content": null,
      "visibility": null,
      "align_self": null,
      "height": null,
      "min_height": null,
      "padding": null,
      "grid_auto_rows": null,
      "grid_gap": null,
      "max_width": null,
      "order": null,
      "_view_module_version": "1.2.0",
      "grid_template_areas": null,
      "object_position": null,
      "object_fit": null,
      "grid_auto_columns": null,
      "margin": null,
      "display": null,
      "left": null
     }
    },
    "35b0a2275dd94c5c89ff3cb0af11355f": {
     "model_module": "@jupyter-widgets/controls",
     "model_name": "HTMLModel",
     "model_module_version": "1.5.0",
     "state": {
      "_view_name": "HTMLView",
      "style": "IPY_MODEL_aeb8301b7ae94936be29bf14409351c9",
      "_dom_classes": [],
      "description": "",
      "_model_name": "HTMLModel",
      "placeholder": "​",
      "_view_module": "@jupyter-widgets/controls",
      "_model_module_version": "1.5.0",
      "value": "Dl Size...: 100%",
      "_view_count": null,
      "_view_module_version": "1.5.0",
      "description_tooltip": null,
      "_model_module": "@jupyter-widgets/controls",
      "layout": "IPY_MODEL_740d8bd4b724449487f02383f74a401b"
     }
    },
    "2fe0bc0c8e9f4d9ab2b8e15d941f2774": {
     "model_module": "@jupyter-widgets/controls",
     "model_name": "FloatProgressModel",
     "model_module_version": "1.5.0",
     "state": {
      "_view_name": "ProgressView",
      "style": "IPY_MODEL_8c2b7924b3c5450985b4812b19ad13b5",
      "_dom_classes": [],
      "description": "",
      "_model_name": "FloatProgressModel",
      "bar_style": "success",
      "max": 1,
      "_view_module": "@jupyter-widgets/controls",
      "_model_module_version": "1.5.0",
      "value": 1,
      "_view_count": null,
      "_view_module_version": "1.5.0",
      "orientation": "horizontal",
      "min": 0,
      "description_tooltip": null,
      "_model_module": "@jupyter-widgets/controls",
      "layout": "IPY_MODEL_191e3fe878be4adf87abbfcf26bbf5f3"
     }
    },
    "a4b98a8d59b043d390b57aae01308fed": {
     "model_module": "@jupyter-widgets/controls",
     "model_name": "HTMLModel",
     "model_module_version": "1.5.0",
     "state": {
      "_view_name": "HTMLView",
      "style": "IPY_MODEL_0709a975648d494fb8300e7c3d5e8dc9",
      "_dom_classes": [],
      "description": "",
      "_model_name": "HTMLModel",
      "placeholder": "​",
      "_view_module": "@jupyter-widgets/controls",
      "_model_module_version": "1.5.0",
      "value": " 29/29 [00:03&lt;00:00, 16.69 MiB/s]",
      "_view_count": null,
      "_view_module_version": "1.5.0",
      "description_tooltip": null,
      "_model_module": "@jupyter-widgets/controls",
      "layout": "IPY_MODEL_7f5e14a2a373423f9d53f29ab40ab450"
     }
    },
    "aeb8301b7ae94936be29bf14409351c9": {
     "model_module": "@jupyter-widgets/controls",
     "model_name": "DescriptionStyleModel",
     "model_module_version": "1.5.0",
     "state": {
      "_view_name": "StyleView",
      "_model_name": "DescriptionStyleModel",
      "description_width": "",
      "_view_module": "@jupyter-widgets/base",
      "_model_module_version": "1.5.0",
      "_view_count": null,
      "_view_module_version": "1.2.0",
      "_model_module": "@jupyter-widgets/controls"
     }
    },
    "740d8bd4b724449487f02383f74a401b": {
     "model_module": "@jupyter-widgets/base",
     "model_name": "LayoutModel",
     "model_module_version": "1.2.0",
     "state": {
      "_view_name": "LayoutView",
      "grid_template_rows": null,
      "right": null,
      "justify_content": null,
      "_view_module": "@jupyter-widgets/base",
      "overflow": null,
      "_model_module_version": "1.2.0",
      "_view_count": null,
      "flex_flow": null,
      "width": null,
      "min_width": null,
      "border": null,
      "align_items": null,
      "bottom": null,
      "_model_module": "@jupyter-widgets/base",
      "top": null,
      "grid_column": null,
      "overflow_y": null,
      "overflow_x": null,
      "grid_auto_flow": null,
      "grid_area": null,
      "grid_template_columns": null,
      "flex": null,
      "_model_name": "LayoutModel",
      "justify_items": null,
      "grid_row": null,
      "max_height": null,
      "align_content": null,
      "visibility": null,
      "align_self": null,
      "height": null,
      "min_height": null,
      "padding": null,
      "grid_auto_rows": null,
      "grid_gap": null,
      "max_width": null,
      "order": null,
      "_view_module_version": "1.2.0",
      "grid_template_areas": null,
      "object_position": null,
      "object_fit": null,
      "grid_auto_columns": null,
      "margin": null,
      "display": null,
      "left": null
     }
    },
    "8c2b7924b3c5450985b4812b19ad13b5": {
     "model_module": "@jupyter-widgets/controls",
     "model_name": "ProgressStyleModel",
     "model_module_version": "1.5.0",
     "state": {
      "_view_name": "StyleView",
      "_model_name": "ProgressStyleModel",
      "description_width": "",
      "_view_module": "@jupyter-widgets/base",
      "_model_module_version": "1.5.0",
      "_view_count": null,
      "_view_module_version": "1.2.0",
      "bar_color": null,
      "_model_module": "@jupyter-widgets/controls"
     }
    },
    "191e3fe878be4adf87abbfcf26bbf5f3": {
     "model_module": "@jupyter-widgets/base",
     "model_name": "LayoutModel",
     "model_module_version": "1.2.0",
     "state": {
      "_view_name": "LayoutView",
      "grid_template_rows": null,
      "right": null,
      "justify_content": null,
      "_view_module": "@jupyter-widgets/base",
      "overflow": null,
      "_model_module_version": "1.2.0",
      "_view_count": null,
      "flex_flow": null,
      "width": "20px",
      "min_width": null,
      "border": null,
      "align_items": null,
      "bottom": null,
      "_model_module": "@jupyter-widgets/base",
      "top": null,
      "grid_column": null,
      "overflow_y": null,
      "overflow_x": null,
      "grid_auto_flow": null,
      "grid_area": null,
      "grid_template_columns": null,
      "flex": null,
      "_model_name": "LayoutModel",
      "justify_items": null,
      "grid_row": null,
      "max_height": null,
      "align_content": null,
      "visibility": null,
      "align_self": null,
      "height": null,
      "min_height": null,
      "padding": null,
      "grid_auto_rows": null,
      "grid_gap": null,
      "max_width": null,
      "order": null,
      "_view_module_version": "1.2.0",
      "grid_template_areas": null,
      "object_position": null,
      "object_fit": null,
      "grid_auto_columns": null,
      "margin": null,
      "display": null,
      "left": null
     }
    },
    "0709a975648d494fb8300e7c3d5e8dc9": {
     "model_module": "@jupyter-widgets/controls",
     "model_name": "DescriptionStyleModel",
     "model_module_version": "1.5.0",
     "state": {
      "_view_name": "StyleView",
      "_model_name": "DescriptionStyleModel",
      "description_width": "",
      "_view_module": "@jupyter-widgets/base",
      "_model_module_version": "1.5.0",
      "_view_count": null,
      "_view_module_version": "1.2.0",
      "_model_module": "@jupyter-widgets/controls"
     }
    },
    "7f5e14a2a373423f9d53f29ab40ab450": {
     "model_module": "@jupyter-widgets/base",
     "model_name": "LayoutModel",
     "model_module_version": "1.2.0",
     "state": {
      "_view_name": "LayoutView",
      "grid_template_rows": null,
      "right": null,
      "justify_content": null,
      "_view_module": "@jupyter-widgets/base",
      "overflow": null,
      "_model_module_version": "1.2.0",
      "_view_count": null,
      "flex_flow": null,
      "width": null,
      "min_width": null,
      "border": null,
      "align_items": null,
      "bottom": null,
      "_model_module": "@jupyter-widgets/base",
      "top": null,
      "grid_column": null,
      "overflow_y": null,
      "overflow_x": null,
      "grid_auto_flow": null,
      "grid_area": null,
      "grid_template_columns": null,
      "flex": null,
      "_model_name": "LayoutModel",
      "justify_items": null,
      "grid_row": null,
      "max_height": null,
      "align_content": null,
      "visibility": null,
      "align_self": null,
      "height": null,
      "min_height": null,
      "padding": null,
      "grid_auto_rows": null,
      "grid_gap": null,
      "max_width": null,
      "order": null,
      "_view_module_version": "1.2.0",
      "grid_template_areas": null,
      "object_position": null,
      "object_fit": null,
      "grid_auto_columns": null,
      "margin": null,
      "display": null,
      "left": null
     }
    },
    "e0c3ac1b22254911b99dd40766bc6a73": {
     "model_module": "@jupyter-widgets/controls",
     "model_name": "HBoxModel",
     "model_module_version": "1.5.0",
     "state": {
      "_view_name": "HBoxView",
      "_dom_classes": [],
      "_model_name": "HBoxModel",
      "_view_module": "@jupyter-widgets/controls",
      "_model_module_version": "1.5.0",
      "_view_count": null,
      "_view_module_version": "1.5.0",
      "box_style": "",
      "layout": "IPY_MODEL_99f8034e19114fe28d5cc3d66ba769f9",
      "_model_module": "@jupyter-widgets/controls",
      "children": [
       "IPY_MODEL_4f309b875db3433bbc7593d22e6ae4ea",
       "IPY_MODEL_fe1d49597fd24bd4b78bbf780a325e2d",
       "IPY_MODEL_f3d537b5d5d548818e544e638e0d2eaa"
      ]
     }
    },
    "99f8034e19114fe28d5cc3d66ba769f9": {
     "model_module": "@jupyter-widgets/base",
     "model_name": "LayoutModel",
     "model_module_version": "1.2.0",
     "state": {
      "_view_name": "LayoutView",
      "grid_template_rows": null,
      "right": null,
      "justify_content": null,
      "_view_module": "@jupyter-widgets/base",
      "overflow": null,
      "_model_module_version": "1.2.0",
      "_view_count": null,
      "flex_flow": null,
      "width": null,
      "min_width": null,
      "border": null,
      "align_items": null,
      "bottom": null,
      "_model_module": "@jupyter-widgets/base",
      "top": null,
      "grid_column": null,
      "overflow_y": null,
      "overflow_x": null,
      "grid_auto_flow": null,
      "grid_area": null,
      "grid_template_columns": null,
      "flex": null,
      "_model_name": "LayoutModel",
      "justify_items": null,
      "grid_row": null,
      "max_height": null,
      "align_content": null,
      "visibility": null,
      "align_self": null,
      "height": null,
      "min_height": null,
      "padding": null,
      "grid_auto_rows": null,
      "grid_gap": null,
      "max_width": null,
      "order": null,
      "_view_module_version": "1.2.0",
      "grid_template_areas": null,
      "object_position": null,
      "object_fit": null,
      "grid_auto_columns": null,
      "margin": null,
      "display": null,
      "left": null
     }
    },
    "4f309b875db3433bbc7593d22e6ae4ea": {
     "model_module": "@jupyter-widgets/controls",
     "model_name": "HTMLModel",
     "model_module_version": "1.5.0",
     "state": {
      "_view_name": "HTMLView",
      "style": "IPY_MODEL_1581b58b8b7c404f8a76f0589c66a286",
      "_dom_classes": [],
      "description": "",
      "_model_name": "HTMLModel",
      "placeholder": "​",
      "_view_module": "@jupyter-widgets/controls",
      "_model_module_version": "1.5.0",
      "value": "Extraction completed...: 100%",
      "_view_count": null,
      "_view_module_version": "1.5.0",
      "description_tooltip": null,
      "_model_module": "@jupyter-widgets/controls",
      "layout": "IPY_MODEL_fe15bd0b75ae4760bf091d20b6161d3e"
     }
    },
    "fe1d49597fd24bd4b78bbf780a325e2d": {
     "model_module": "@jupyter-widgets/controls",
     "model_name": "FloatProgressModel",
     "model_module_version": "1.5.0",
     "state": {
      "_view_name": "ProgressView",
      "style": "IPY_MODEL_53afc708e5224682bd3e3e3e60f16e3e",
      "_dom_classes": [],
      "description": "",
      "_model_name": "FloatProgressModel",
      "bar_style": "success",
      "max": 1,
      "_view_module": "@jupyter-widgets/controls",
      "_model_module_version": "1.5.0",
      "value": 1,
      "_view_count": null,
      "_view_module_version": "1.5.0",
      "orientation": "horizontal",
      "min": 0,
      "description_tooltip": null,
      "_model_module": "@jupyter-widgets/controls",
      "layout": "IPY_MODEL_b728fcdf621147dcbaa8709dd002ac8a"
     }
    },
    "f3d537b5d5d548818e544e638e0d2eaa": {
     "model_module": "@jupyter-widgets/controls",
     "model_name": "HTMLModel",
     "model_module_version": "1.5.0",
     "state": {
      "_view_name": "HTMLView",
      "style": "IPY_MODEL_8af73cd1c2af47bf8e62725be15a1111",
      "_dom_classes": [],
      "description": "",
      "_model_name": "HTMLModel",
      "placeholder": "​",
      "_view_module": "@jupyter-widgets/controls",
      "_model_module_version": "1.5.0",
      "value": " 4/4 [00:03&lt;00:00,  1.02 file/s]",
      "_view_count": null,
      "_view_module_version": "1.5.0",
      "description_tooltip": null,
      "_model_module": "@jupyter-widgets/controls",
      "layout": "IPY_MODEL_5aaab61b45c04a279897585221d15393"
     }
    },
    "1581b58b8b7c404f8a76f0589c66a286": {
     "model_module": "@jupyter-widgets/controls",
     "model_name": "DescriptionStyleModel",
     "model_module_version": "1.5.0",
     "state": {
      "_view_name": "StyleView",
      "_model_name": "DescriptionStyleModel",
      "description_width": "",
      "_view_module": "@jupyter-widgets/base",
      "_model_module_version": "1.5.0",
      "_view_count": null,
      "_view_module_version": "1.2.0",
      "_model_module": "@jupyter-widgets/controls"
     }
    },
    "fe15bd0b75ae4760bf091d20b6161d3e": {
     "model_module": "@jupyter-widgets/base",
     "model_name": "LayoutModel",
     "model_module_version": "1.2.0",
     "state": {
      "_view_name": "LayoutView",
      "grid_template_rows": null,
      "right": null,
      "justify_content": null,
      "_view_module": "@jupyter-widgets/base",
      "overflow": null,
      "_model_module_version": "1.2.0",
      "_view_count": null,
      "flex_flow": null,
      "width": null,
      "min_width": null,
      "border": null,
      "align_items": null,
      "bottom": null,
      "_model_module": "@jupyter-widgets/base",
      "top": null,
      "grid_column": null,
      "overflow_y": null,
      "overflow_x": null,
      "grid_auto_flow": null,
      "grid_area": null,
      "grid_template_columns": null,
      "flex": null,
      "_model_name": "LayoutModel",
      "justify_items": null,
      "grid_row": null,
      "max_height": null,
      "align_content": null,
      "visibility": null,
      "align_self": null,
      "height": null,
      "min_height": null,
      "padding": null,
      "grid_auto_rows": null,
      "grid_gap": null,
      "max_width": null,
      "order": null,
      "_view_module_version": "1.2.0",
      "grid_template_areas": null,
      "object_position": null,
      "object_fit": null,
      "grid_auto_columns": null,
      "margin": null,
      "display": null,
      "left": null
     }
    },
    "53afc708e5224682bd3e3e3e60f16e3e": {
     "model_module": "@jupyter-widgets/controls",
     "model_name": "ProgressStyleModel",
     "model_module_version": "1.5.0",
     "state": {
      "_view_name": "StyleView",
      "_model_name": "ProgressStyleModel",
      "description_width": "",
      "_view_module": "@jupyter-widgets/base",
      "_model_module_version": "1.5.0",
      "_view_count": null,
      "_view_module_version": "1.2.0",
      "bar_color": null,
      "_model_module": "@jupyter-widgets/controls"
     }
    },
    "b728fcdf621147dcbaa8709dd002ac8a": {
     "model_module": "@jupyter-widgets/base",
     "model_name": "LayoutModel",
     "model_module_version": "1.2.0",
     "state": {
      "_view_name": "LayoutView",
      "grid_template_rows": null,
      "right": null,
      "justify_content": null,
      "_view_module": "@jupyter-widgets/base",
      "overflow": null,
      "_model_module_version": "1.2.0",
      "_view_count": null,
      "flex_flow": null,
      "width": "20px",
      "min_width": null,
      "border": null,
      "align_items": null,
      "bottom": null,
      "_model_module": "@jupyter-widgets/base",
      "top": null,
      "grid_column": null,
      "overflow_y": null,
      "overflow_x": null,
      "grid_auto_flow": null,
      "grid_area": null,
      "grid_template_columns": null,
      "flex": null,
      "_model_name": "LayoutModel",
      "justify_items": null,
      "grid_row": null,
      "max_height": null,
      "align_content": null,
      "visibility": null,
      "align_self": null,
      "height": null,
      "min_height": null,
      "padding": null,
      "grid_auto_rows": null,
      "grid_gap": null,
      "max_width": null,
      "order": null,
      "_view_module_version": "1.2.0",
      "grid_template_areas": null,
      "object_position": null,
      "object_fit": null,
      "grid_auto_columns": null,
      "margin": null,
      "display": null,
      "left": null
     }
    },
    "8af73cd1c2af47bf8e62725be15a1111": {
     "model_module": "@jupyter-widgets/controls",
     "model_name": "DescriptionStyleModel",
     "model_module_version": "1.5.0",
     "state": {
      "_view_name": "StyleView",
      "_model_name": "DescriptionStyleModel",
      "description_width": "",
      "_view_module": "@jupyter-widgets/base",
      "_model_module_version": "1.5.0",
      "_view_count": null,
      "_view_module_version": "1.2.0",
      "_model_module": "@jupyter-widgets/controls"
     }
    },
    "5aaab61b45c04a279897585221d15393": {
     "model_module": "@jupyter-widgets/base",
     "model_name": "LayoutModel",
     "model_module_version": "1.2.0",
     "state": {
      "_view_name": "LayoutView",
      "grid_template_rows": null,
      "right": null,
      "justify_content": null,
      "_view_module": "@jupyter-widgets/base",
      "overflow": null,
      "_model_module_version": "1.2.0",
      "_view_count": null,
      "flex_flow": null,
      "width": null,
      "min_width": null,
      "border": null,
      "align_items": null,
      "bottom": null,
      "_model_module": "@jupyter-widgets/base",
      "top": null,
      "grid_column": null,
      "overflow_y": null,
      "overflow_x": null,
      "grid_auto_flow": null,
      "grid_area": null,
      "grid_template_columns": null,
      "flex": null,
      "_model_name": "LayoutModel",
      "justify_items": null,
      "grid_row": null,
      "max_height": null,
      "align_content": null,
      "visibility": null,
      "align_self": null,
      "height": null,
      "min_height": null,
      "padding": null,
      "grid_auto_rows": null,
      "grid_gap": null,
      "max_width": null,
      "order": null,
      "_view_module_version": "1.2.0",
      "grid_template_areas": null,
      "object_position": null,
      "object_fit": null,
      "grid_auto_columns": null,
      "margin": null,
      "display": null,
      "left": null
     }
    },
    "7e3847af9f21408fb95c333614a33ad1": {
     "model_module": "@jupyter-widgets/controls",
     "model_name": "HBoxModel",
     "model_module_version": "1.5.0",
     "state": {
      "_view_name": "HBoxView",
      "_dom_classes": [],
      "_model_name": "HBoxModel",
      "_view_module": "@jupyter-widgets/controls",
      "_model_module_version": "1.5.0",
      "_view_count": null,
      "_view_module_version": "1.5.0",
      "box_style": "",
      "layout": "IPY_MODEL_8a1d3c7a41944200b13c2e9728bf99dd",
      "_model_module": "@jupyter-widgets/controls",
      "children": [
       "IPY_MODEL_a04e08f430514c6f880f8629d3f9b1b3",
       "IPY_MODEL_bd217a369a0c4f20bf4fb9de1769ce87",
       "IPY_MODEL_3881cc84d17645d7b2de4ce5d84bfe87"
      ]
     }
    },
    "8a1d3c7a41944200b13c2e9728bf99dd": {
     "model_module": "@jupyter-widgets/base",
     "model_name": "LayoutModel",
     "model_module_version": "1.2.0",
     "state": {
      "_view_name": "LayoutView",
      "grid_template_rows": null,
      "right": null,
      "justify_content": null,
      "_view_module": "@jupyter-widgets/base",
      "overflow": null,
      "_model_module_version": "1.2.0",
      "_view_count": null,
      "flex_flow": null,
      "width": null,
      "min_width": null,
      "border": null,
      "align_items": null,
      "bottom": null,
      "_model_module": "@jupyter-widgets/base",
      "top": null,
      "grid_column": null,
      "overflow_y": null,
      "overflow_x": null,
      "grid_auto_flow": null,
      "grid_area": null,
      "grid_template_columns": null,
      "flex": null,
      "_model_name": "LayoutModel",
      "justify_items": null,
      "grid_row": null,
      "max_height": null,
      "align_content": null,
      "visibility": null,
      "align_self": null,
      "height": null,
      "min_height": null,
      "padding": null,
      "grid_auto_rows": null,
      "grid_gap": null,
      "max_width": null,
      "order": null,
      "_view_module_version": "1.2.0",
      "grid_template_areas": null,
      "object_position": null,
      "object_fit": null,
      "grid_auto_columns": null,
      "margin": null,
      "display": null,
      "left": null
     }
    },
    "a04e08f430514c6f880f8629d3f9b1b3": {
     "model_module": "@jupyter-widgets/controls",
     "model_name": "HTMLModel",
     "model_module_version": "1.5.0",
     "state": {
      "_view_name": "HTMLView",
      "style": "IPY_MODEL_f3a9286bde1a447b807f24cd5786f1d7",
      "_dom_classes": [],
      "description": "",
      "_model_name": "HTMLModel",
      "placeholder": "​",
      "_view_module": "@jupyter-widgets/controls",
      "_model_module_version": "1.5.0",
      "value": "",
      "_view_count": null,
      "_view_module_version": "1.5.0",
      "description_tooltip": null,
      "_model_module": "@jupyter-widgets/controls",
      "layout": "IPY_MODEL_c7e3b4e09f5b4c969c3b067aee89136e"
     }
    },
    "bd217a369a0c4f20bf4fb9de1769ce87": {
     "model_module": "@jupyter-widgets/controls",
     "model_name": "FloatProgressModel",
     "model_module_version": "1.5.0",
     "state": {
      "_view_name": "ProgressView",
      "style": "IPY_MODEL_bfe288eaa4244fe1bd60db2b04870bf6",
      "_dom_classes": [],
      "description": "",
      "_model_name": "FloatProgressModel",
      "bar_style": "info",
      "max": 1,
      "_view_module": "@jupyter-widgets/controls",
      "_model_module_version": "1.5.0",
      "value": 1,
      "_view_count": null,
      "_view_module_version": "1.5.0",
      "orientation": "horizontal",
      "min": 0,
      "description_tooltip": null,
      "_model_module": "@jupyter-widgets/controls",
      "layout": "IPY_MODEL_d046c1f18e604dd4b7761377363650b4"
     }
    },
    "3881cc84d17645d7b2de4ce5d84bfe87": {
     "model_module": "@jupyter-widgets/controls",
     "model_name": "HTMLModel",
     "model_module_version": "1.5.0",
     "state": {
      "_view_name": "HTMLView",
      "style": "IPY_MODEL_3b0861bacae74d39a394aec7c14408f3",
      "_dom_classes": [],
      "description": "",
      "_model_name": "HTMLModel",
      "placeholder": "​",
      "_view_module": "@jupyter-widgets/controls",
      "_model_module_version": "1.5.0",
      "value": " 59935/0 [00:34&lt;00:00, 1736.74 examples/s]",
      "_view_count": null,
      "_view_module_version": "1.5.0",
      "description_tooltip": null,
      "_model_module": "@jupyter-widgets/controls",
      "layout": "IPY_MODEL_73ee320ae19d4a5ca882913c11dbba79"
     }
    },
    "f3a9286bde1a447b807f24cd5786f1d7": {
     "model_module": "@jupyter-widgets/controls",
     "model_name": "DescriptionStyleModel",
     "model_module_version": "1.5.0",
     "state": {
      "_view_name": "StyleView",
      "_model_name": "DescriptionStyleModel",
      "description_width": "",
      "_view_module": "@jupyter-widgets/base",
      "_model_module_version": "1.5.0",
      "_view_count": null,
      "_view_module_version": "1.2.0",
      "_model_module": "@jupyter-widgets/controls"
     }
    },
    "c7e3b4e09f5b4c969c3b067aee89136e": {
     "model_module": "@jupyter-widgets/base",
     "model_name": "LayoutModel",
     "model_module_version": "1.2.0",
     "state": {
      "_view_name": "LayoutView",
      "grid_template_rows": null,
      "right": null,
      "justify_content": null,
      "_view_module": "@jupyter-widgets/base",
      "overflow": null,
      "_model_module_version": "1.2.0",
      "_view_count": null,
      "flex_flow": null,
      "width": null,
      "min_width": null,
      "border": null,
      "align_items": null,
      "bottom": null,
      "_model_module": "@jupyter-widgets/base",
      "top": null,
      "grid_column": null,
      "overflow_y": null,
      "overflow_x": null,
      "grid_auto_flow": null,
      "grid_area": null,
      "grid_template_columns": null,
      "flex": null,
      "_model_name": "LayoutModel",
      "justify_items": null,
      "grid_row": null,
      "max_height": null,
      "align_content": null,
      "visibility": null,
      "align_self": null,
      "height": null,
      "min_height": null,
      "padding": null,
      "grid_auto_rows": null,
      "grid_gap": null,
      "max_width": null,
      "order": null,
      "_view_module_version": "1.2.0",
      "grid_template_areas": null,
      "object_position": null,
      "object_fit": null,
      "grid_auto_columns": null,
      "margin": null,
      "display": null,
      "left": null
     }
    },
    "bfe288eaa4244fe1bd60db2b04870bf6": {
     "model_module": "@jupyter-widgets/controls",
     "model_name": "ProgressStyleModel",
     "model_module_version": "1.5.0",
     "state": {
      "_view_name": "StyleView",
      "_model_name": "ProgressStyleModel",
      "description_width": "",
      "_view_module": "@jupyter-widgets/base",
      "_model_module_version": "1.5.0",
      "_view_count": null,
      "_view_module_version": "1.2.0",
      "bar_color": null,
      "_model_module": "@jupyter-widgets/controls"
     }
    },
    "d046c1f18e604dd4b7761377363650b4": {
     "model_module": "@jupyter-widgets/base",
     "model_name": "LayoutModel",
     "model_module_version": "1.2.0",
     "state": {
      "_view_name": "LayoutView",
      "grid_template_rows": null,
      "right": null,
      "justify_content": null,
      "_view_module": "@jupyter-widgets/base",
      "overflow": null,
      "_model_module_version": "1.2.0",
      "_view_count": null,
      "flex_flow": null,
      "width": "20px",
      "min_width": null,
      "border": null,
      "align_items": null,
      "bottom": null,
      "_model_module": "@jupyter-widgets/base",
      "top": null,
      "grid_column": null,
      "overflow_y": null,
      "overflow_x": null,
      "grid_auto_flow": null,
      "grid_area": null,
      "grid_template_columns": null,
      "flex": null,
      "_model_name": "LayoutModel",
      "justify_items": null,
      "grid_row": null,
      "max_height": null,
      "align_content": null,
      "visibility": null,
      "align_self": null,
      "height": null,
      "min_height": null,
      "padding": null,
      "grid_auto_rows": null,
      "grid_gap": null,
      "max_width": null,
      "order": null,
      "_view_module_version": "1.2.0",
      "grid_template_areas": null,
      "object_position": null,
      "object_fit": null,
      "grid_auto_columns": null,
      "margin": null,
      "display": null,
      "left": null
     }
    },
    "3b0861bacae74d39a394aec7c14408f3": {
     "model_module": "@jupyter-widgets/controls",
     "model_name": "DescriptionStyleModel",
     "model_module_version": "1.5.0",
     "state": {
      "_view_name": "StyleView",
      "_model_name": "DescriptionStyleModel",
      "description_width": "",
      "_view_module": "@jupyter-widgets/base",
      "_model_module_version": "1.5.0",
      "_view_count": null,
      "_view_module_version": "1.2.0",
      "_model_module": "@jupyter-widgets/controls"
     }
    },
    "73ee320ae19d4a5ca882913c11dbba79": {
     "model_module": "@jupyter-widgets/base",
     "model_name": "LayoutModel",
     "model_module_version": "1.2.0",
     "state": {
      "_view_name": "LayoutView",
      "grid_template_rows": null,
      "right": null,
      "justify_content": null,
      "_view_module": "@jupyter-widgets/base",
      "overflow": null,
      "_model_module_version": "1.2.0",
      "_view_count": null,
      "flex_flow": null,
      "width": null,
      "min_width": null,
      "border": null,
      "align_items": null,
      "bottom": null,
      "_model_module": "@jupyter-widgets/base",
      "top": null,
      "grid_column": null,
      "overflow_y": null,
      "overflow_x": null,
      "grid_auto_flow": null,
      "grid_area": null,
      "grid_template_columns": null,
      "flex": null,
      "_model_name": "LayoutModel",
      "justify_items": null,
      "grid_row": null,
      "max_height": null,
      "align_content": null,
      "visibility": null,
      "align_self": null,
      "height": null,
      "min_height": null,
      "padding": null,
      "grid_auto_rows": null,
      "grid_gap": null,
      "max_width": null,
      "order": null,
      "_view_module_version": "1.2.0",
      "grid_template_areas": null,
      "object_position": null,
      "object_fit": null,
      "grid_auto_columns": null,
      "margin": null,
      "display": null,
      "left": null
     }
    },
    "bb12d0bcd40e472fb4dd16f572291800": {
     "model_module": "@jupyter-widgets/controls",
     "model_name": "HBoxModel",
     "model_module_version": "1.5.0",
     "state": {
      "_view_name": "HBoxView",
      "_dom_classes": [],
      "_model_name": "HBoxModel",
      "_view_module": "@jupyter-widgets/controls",
      "_model_module_version": "1.5.0",
      "_view_count": null,
      "_view_module_version": "1.5.0",
      "box_style": "",
      "layout": "IPY_MODEL_f5174b5194c1421ca56b1b333db422b7",
      "_model_module": "@jupyter-widgets/controls",
      "children": [
       "IPY_MODEL_cdadfdcc5a774a9998341edacc978c25",
       "IPY_MODEL_b23fafcd7d944f5eb657d546909cc80e",
       "IPY_MODEL_987acde5d53840f6b3a93e3166120f91"
      ]
     }
    },
    "f5174b5194c1421ca56b1b333db422b7": {
     "model_module": "@jupyter-widgets/base",
     "model_name": "LayoutModel",
     "model_module_version": "1.2.0",
     "state": {
      "_view_name": "LayoutView",
      "grid_template_rows": null,
      "right": null,
      "justify_content": null,
      "_view_module": "@jupyter-widgets/base",
      "overflow": null,
      "_model_module_version": "1.2.0",
      "_view_count": null,
      "flex_flow": null,
      "width": null,
      "min_width": null,
      "border": null,
      "align_items": null,
      "bottom": null,
      "_model_module": "@jupyter-widgets/base",
      "top": null,
      "grid_column": null,
      "overflow_y": null,
      "overflow_x": null,
      "grid_auto_flow": null,
      "grid_area": null,
      "grid_template_columns": null,
      "flex": null,
      "_model_name": "LayoutModel",
      "justify_items": null,
      "grid_row": null,
      "max_height": null,
      "align_content": null,
      "visibility": null,
      "align_self": null,
      "height": null,
      "min_height": null,
      "padding": null,
      "grid_auto_rows": null,
      "grid_gap": null,
      "max_width": null,
      "order": null,
      "_view_module_version": "1.2.0",
      "grid_template_areas": null,
      "object_position": null,
      "object_fit": null,
      "grid_auto_columns": null,
      "margin": null,
      "display": null,
      "left": null
     }
    },
    "cdadfdcc5a774a9998341edacc978c25": {
     "model_module": "@jupyter-widgets/controls",
     "model_name": "HTMLModel",
     "model_module_version": "1.5.0",
     "state": {
      "_view_name": "HTMLView",
      "style": "IPY_MODEL_2b520e60ae6b4a79a2f6b0d0b84278bb",
      "_dom_classes": [],
      "description": "",
      "_model_name": "HTMLModel",
      "placeholder": "​",
      "_view_module": "@jupyter-widgets/controls",
      "_model_module_version": "1.5.0",
      "value": "100%",
      "_view_count": null,
      "_view_module_version": "1.5.0",
      "description_tooltip": null,
      "_model_module": "@jupyter-widgets/controls",
      "layout": "IPY_MODEL_56cfa912aeb84650b7cebc2e62aa89d4"
     }
    },
    "b23fafcd7d944f5eb657d546909cc80e": {
     "model_module": "@jupyter-widgets/controls",
     "model_name": "FloatProgressModel",
     "model_module_version": "1.5.0",
     "state": {
      "_view_name": "ProgressView",
      "style": "IPY_MODEL_df9fd0fa8a114d14b80b1dd70b71c814",
      "_dom_classes": [],
      "description": "",
      "_model_name": "FloatProgressModel",
      "bar_style": "danger",
      "max": 60000,
      "_view_module": "@jupyter-widgets/controls",
      "_model_module_version": "1.5.0",
      "value": 59999,
      "_view_count": null,
      "_view_module_version": "1.5.0",
      "orientation": "horizontal",
      "min": 0,
      "description_tooltip": null,
      "_model_module": "@jupyter-widgets/controls",
      "layout": "IPY_MODEL_a950ea4ca29d4193807536418c2563aa"
     }
    },
    "987acde5d53840f6b3a93e3166120f91": {
     "model_module": "@jupyter-widgets/controls",
     "model_name": "HTMLModel",
     "model_module_version": "1.5.0",
     "state": {
      "_view_name": "HTMLView",
      "style": "IPY_MODEL_8245bbfb8fe548b8bfd209c87da07894",
      "_dom_classes": [],
      "description": "",
      "_model_name": "HTMLModel",
      "placeholder": "​",
      "_view_module": "@jupyter-widgets/controls",
      "_model_module_version": "1.5.0",
      "value": " 59999/60000 [00:00&lt;00:00, 302412.25 examples/s]",
      "_view_count": null,
      "_view_module_version": "1.5.0",
      "description_tooltip": null,
      "_model_module": "@jupyter-widgets/controls",
      "layout": "IPY_MODEL_87ce542fbc0741439e8bb8fa87d7da65"
     }
    },
    "2b520e60ae6b4a79a2f6b0d0b84278bb": {
     "model_module": "@jupyter-widgets/controls",
     "model_name": "DescriptionStyleModel",
     "model_module_version": "1.5.0",
     "state": {
      "_view_name": "StyleView",
      "_model_name": "DescriptionStyleModel",
      "description_width": "",
      "_view_module": "@jupyter-widgets/base",
      "_model_module_version": "1.5.0",
      "_view_count": null,
      "_view_module_version": "1.2.0",
      "_model_module": "@jupyter-widgets/controls"
     }
    },
    "56cfa912aeb84650b7cebc2e62aa89d4": {
     "model_module": "@jupyter-widgets/base",
     "model_name": "LayoutModel",
     "model_module_version": "1.2.0",
     "state": {
      "_view_name": "LayoutView",
      "grid_template_rows": null,
      "right": null,
      "justify_content": null,
      "_view_module": "@jupyter-widgets/base",
      "overflow": null,
      "_model_module_version": "1.2.0",
      "_view_count": null,
      "flex_flow": null,
      "width": null,
      "min_width": null,
      "border": null,
      "align_items": null,
      "bottom": null,
      "_model_module": "@jupyter-widgets/base",
      "top": null,
      "grid_column": null,
      "overflow_y": null,
      "overflow_x": null,
      "grid_auto_flow": null,
      "grid_area": null,
      "grid_template_columns": null,
      "flex": null,
      "_model_name": "LayoutModel",
      "justify_items": null,
      "grid_row": null,
      "max_height": null,
      "align_content": null,
      "visibility": null,
      "align_self": null,
      "height": null,
      "min_height": null,
      "padding": null,
      "grid_auto_rows": null,
      "grid_gap": null,
      "max_width": null,
      "order": null,
      "_view_module_version": "1.2.0",
      "grid_template_areas": null,
      "object_position": null,
      "object_fit": null,
      "grid_auto_columns": null,
      "margin": null,
      "display": null,
      "left": null
     }
    },
    "df9fd0fa8a114d14b80b1dd70b71c814": {
     "model_module": "@jupyter-widgets/controls",
     "model_name": "ProgressStyleModel",
     "model_module_version": "1.5.0",
     "state": {
      "_view_name": "StyleView",
      "_model_name": "ProgressStyleModel",
      "description_width": "",
      "_view_module": "@jupyter-widgets/base",
      "_model_module_version": "1.5.0",
      "_view_count": null,
      "_view_module_version": "1.2.0",
      "bar_color": null,
      "_model_module": "@jupyter-widgets/controls"
     }
    },
    "a950ea4ca29d4193807536418c2563aa": {
     "model_module": "@jupyter-widgets/base",
     "model_name": "LayoutModel",
     "model_module_version": "1.2.0",
     "state": {
      "_view_name": "LayoutView",
      "grid_template_rows": null,
      "right": null,
      "justify_content": null,
      "_view_module": "@jupyter-widgets/base",
      "overflow": null,
      "_model_module_version": "1.2.0",
      "_view_count": null,
      "flex_flow": null,
      "width": null,
      "min_width": null,
      "border": null,
      "align_items": null,
      "bottom": null,
      "_model_module": "@jupyter-widgets/base",
      "top": null,
      "grid_column": null,
      "overflow_y": null,
      "overflow_x": null,
      "grid_auto_flow": null,
      "grid_area": null,
      "grid_template_columns": null,
      "flex": null,
      "_model_name": "LayoutModel",
      "justify_items": null,
      "grid_row": null,
      "max_height": null,
      "align_content": null,
      "visibility": null,
      "align_self": null,
      "height": null,
      "min_height": null,
      "padding": null,
      "grid_auto_rows": null,
      "grid_gap": null,
      "max_width": null,
      "order": null,
      "_view_module_version": "1.2.0",
      "grid_template_areas": null,
      "object_position": null,
      "object_fit": null,
      "grid_auto_columns": null,
      "margin": null,
      "display": null,
      "left": null
     }
    },
    "8245bbfb8fe548b8bfd209c87da07894": {
     "model_module": "@jupyter-widgets/controls",
     "model_name": "DescriptionStyleModel",
     "model_module_version": "1.5.0",
     "state": {
      "_view_name": "StyleView",
      "_model_name": "DescriptionStyleModel",
      "description_width": "",
      "_view_module": "@jupyter-widgets/base",
      "_model_module_version": "1.5.0",
      "_view_count": null,
      "_view_module_version": "1.2.0",
      "_model_module": "@jupyter-widgets/controls"
     }
    },
    "87ce542fbc0741439e8bb8fa87d7da65": {
     "model_module": "@jupyter-widgets/base",
     "model_name": "LayoutModel",
     "model_module_version": "1.2.0",
     "state": {
      "_view_name": "LayoutView",
      "grid_template_rows": null,
      "right": null,
      "justify_content": null,
      "_view_module": "@jupyter-widgets/base",
      "overflow": null,
      "_model_module_version": "1.2.0",
      "_view_count": null,
      "flex_flow": null,
      "width": null,
      "min_width": null,
      "border": null,
      "align_items": null,
      "bottom": null,
      "_model_module": "@jupyter-widgets/base",
      "top": null,
      "grid_column": null,
      "overflow_y": null,
      "overflow_x": null,
      "grid_auto_flow": null,
      "grid_area": null,
      "grid_template_columns": null,
      "flex": null,
      "_model_name": "LayoutModel",
      "justify_items": null,
      "grid_row": null,
      "max_height": null,
      "align_content": null,
      "visibility": null,
      "align_self": null,
      "height": null,
      "min_height": null,
      "padding": null,
      "grid_auto_rows": null,
      "grid_gap": null,
      "max_width": null,
      "order": null,
      "_view_module_version": "1.2.0",
      "grid_template_areas": null,
      "object_position": null,
      "object_fit": null,
      "grid_auto_columns": null,
      "margin": null,
      "display": null,
      "left": null
     }
    },
    "d9216c2b2caa422185a55e06bd43248f": {
     "model_module": "@jupyter-widgets/controls",
     "model_name": "HBoxModel",
     "model_module_version": "1.5.0",
     "state": {
      "_view_name": "HBoxView",
      "_dom_classes": [],
      "_model_name": "HBoxModel",
      "_view_module": "@jupyter-widgets/controls",
      "_model_module_version": "1.5.0",
      "_view_count": null,
      "_view_module_version": "1.5.0",
      "box_style": "",
      "layout": "IPY_MODEL_b505039856b54e3c87084faf25d08b82",
      "_model_module": "@jupyter-widgets/controls",
      "children": [
       "IPY_MODEL_661df0c41fbf48469ac5c8ef074fe973",
       "IPY_MODEL_84d84b425f3e4d269ca382988b4ab11d",
       "IPY_MODEL_4dbb8798c20b489e83ca62c7056dfd53"
      ]
     }
    },
    "b505039856b54e3c87084faf25d08b82": {
     "model_module": "@jupyter-widgets/base",
     "model_name": "LayoutModel",
     "model_module_version": "1.2.0",
     "state": {
      "_view_name": "LayoutView",
      "grid_template_rows": null,
      "right": null,
      "justify_content": null,
      "_view_module": "@jupyter-widgets/base",
      "overflow": null,
      "_model_module_version": "1.2.0",
      "_view_count": null,
      "flex_flow": null,
      "width": null,
      "min_width": null,
      "border": null,
      "align_items": null,
      "bottom": null,
      "_model_module": "@jupyter-widgets/base",
      "top": null,
      "grid_column": null,
      "overflow_y": null,
      "overflow_x": null,
      "grid_auto_flow": null,
      "grid_area": null,
      "grid_template_columns": null,
      "flex": null,
      "_model_name": "LayoutModel",
      "justify_items": null,
      "grid_row": null,
      "max_height": null,
      "align_content": null,
      "visibility": null,
      "align_self": null,
      "height": null,
      "min_height": null,
      "padding": null,
      "grid_auto_rows": null,
      "grid_gap": null,
      "max_width": null,
      "order": null,
      "_view_module_version": "1.2.0",
      "grid_template_areas": null,
      "object_position": null,
      "object_fit": null,
      "grid_auto_columns": null,
      "margin": null,
      "display": null,
      "left": null
     }
    },
    "661df0c41fbf48469ac5c8ef074fe973": {
     "model_module": "@jupyter-widgets/controls",
     "model_name": "HTMLModel",
     "model_module_version": "1.5.0",
     "state": {
      "_view_name": "HTMLView",
      "style": "IPY_MODEL_a551e773f71a4b87b30908c1a07ed2f6",
      "_dom_classes": [],
      "description": "",
      "_model_name": "HTMLModel",
      "placeholder": "​",
      "_view_module": "@jupyter-widgets/controls",
      "_model_module_version": "1.5.0",
      "value": "",
      "_view_count": null,
      "_view_module_version": "1.5.0",
      "description_tooltip": null,
      "_model_module": "@jupyter-widgets/controls",
      "layout": "IPY_MODEL_adfa575a51a248ef8d26002ec12f0ca2"
     }
    },
    "84d84b425f3e4d269ca382988b4ab11d": {
     "model_module": "@jupyter-widgets/controls",
     "model_name": "FloatProgressModel",
     "model_module_version": "1.5.0",
     "state": {
      "_view_name": "ProgressView",
      "style": "IPY_MODEL_21199c1c34e24b3eb55bc67ee676e486",
      "_dom_classes": [],
      "description": "",
      "_model_name": "FloatProgressModel",
      "bar_style": "info",
      "max": 1,
      "_view_module": "@jupyter-widgets/controls",
      "_model_module_version": "1.5.0",
      "value": 1,
      "_view_count": null,
      "_view_module_version": "1.5.0",
      "orientation": "horizontal",
      "min": 0,
      "description_tooltip": null,
      "_model_module": "@jupyter-widgets/controls",
      "layout": "IPY_MODEL_bf965f6411044205a82f1e7cabbc617b"
     }
    },
    "4dbb8798c20b489e83ca62c7056dfd53": {
     "model_module": "@jupyter-widgets/controls",
     "model_name": "HTMLModel",
     "model_module_version": "1.5.0",
     "state": {
      "_view_name": "HTMLView",
      "style": "IPY_MODEL_fe9d4e31940d44dcb9c54de14df58e63",
      "_dom_classes": [],
      "description": "",
      "_model_name": "HTMLModel",
      "placeholder": "​",
      "_view_module": "@jupyter-widgets/controls",
      "_model_module_version": "1.5.0",
      "value": " 9842/0 [00:05&lt;00:00, 1777.58 examples/s]",
      "_view_count": null,
      "_view_module_version": "1.5.0",
      "description_tooltip": null,
      "_model_module": "@jupyter-widgets/controls",
      "layout": "IPY_MODEL_22f4e46a0d7d4581b08cba1d28c7281d"
     }
    },
    "a551e773f71a4b87b30908c1a07ed2f6": {
     "model_module": "@jupyter-widgets/controls",
     "model_name": "DescriptionStyleModel",
     "model_module_version": "1.5.0",
     "state": {
      "_view_name": "StyleView",
      "_model_name": "DescriptionStyleModel",
      "description_width": "",
      "_view_module": "@jupyter-widgets/base",
      "_model_module_version": "1.5.0",
      "_view_count": null,
      "_view_module_version": "1.2.0",
      "_model_module": "@jupyter-widgets/controls"
     }
    },
    "adfa575a51a248ef8d26002ec12f0ca2": {
     "model_module": "@jupyter-widgets/base",
     "model_name": "LayoutModel",
     "model_module_version": "1.2.0",
     "state": {
      "_view_name": "LayoutView",
      "grid_template_rows": null,
      "right": null,
      "justify_content": null,
      "_view_module": "@jupyter-widgets/base",
      "overflow": null,
      "_model_module_version": "1.2.0",
      "_view_count": null,
      "flex_flow": null,
      "width": null,
      "min_width": null,
      "border": null,
      "align_items": null,
      "bottom": null,
      "_model_module": "@jupyter-widgets/base",
      "top": null,
      "grid_column": null,
      "overflow_y": null,
      "overflow_x": null,
      "grid_auto_flow": null,
      "grid_area": null,
      "grid_template_columns": null,
      "flex": null,
      "_model_name": "LayoutModel",
      "justify_items": null,
      "grid_row": null,
      "max_height": null,
      "align_content": null,
      "visibility": null,
      "align_self": null,
      "height": null,
      "min_height": null,
      "padding": null,
      "grid_auto_rows": null,
      "grid_gap": null,
      "max_width": null,
      "order": null,
      "_view_module_version": "1.2.0",
      "grid_template_areas": null,
      "object_position": null,
      "object_fit": null,
      "grid_auto_columns": null,
      "margin": null,
      "display": null,
      "left": null
     }
    },
    "21199c1c34e24b3eb55bc67ee676e486": {
     "model_module": "@jupyter-widgets/controls",
     "model_name": "ProgressStyleModel",
     "model_module_version": "1.5.0",
     "state": {
      "_view_name": "StyleView",
      "_model_name": "ProgressStyleModel",
      "description_width": "",
      "_view_module": "@jupyter-widgets/base",
      "_model_module_version": "1.5.0",
      "_view_count": null,
      "_view_module_version": "1.2.0",
      "bar_color": null,
      "_model_module": "@jupyter-widgets/controls"
     }
    },
    "bf965f6411044205a82f1e7cabbc617b": {
     "model_module": "@jupyter-widgets/base",
     "model_name": "LayoutModel",
     "model_module_version": "1.2.0",
     "state": {
      "_view_name": "LayoutView",
      "grid_template_rows": null,
      "right": null,
      "justify_content": null,
      "_view_module": "@jupyter-widgets/base",
      "overflow": null,
      "_model_module_version": "1.2.0",
      "_view_count": null,
      "flex_flow": null,
      "width": "20px",
      "min_width": null,
      "border": null,
      "align_items": null,
      "bottom": null,
      "_model_module": "@jupyter-widgets/base",
      "top": null,
      "grid_column": null,
      "overflow_y": null,
      "overflow_x": null,
      "grid_auto_flow": null,
      "grid_area": null,
      "grid_template_columns": null,
      "flex": null,
      "_model_name": "LayoutModel",
      "justify_items": null,
      "grid_row": null,
      "max_height": null,
      "align_content": null,
      "visibility": null,
      "align_self": null,
      "height": null,
      "min_height": null,
      "padding": null,
      "grid_auto_rows": null,
      "grid_gap": null,
      "max_width": null,
      "order": null,
      "_view_module_version": "1.2.0",
      "grid_template_areas": null,
      "object_position": null,
      "object_fit": null,
      "grid_auto_columns": null,
      "margin": null,
      "display": null,
      "left": null
     }
    },
    "fe9d4e31940d44dcb9c54de14df58e63": {
     "model_module": "@jupyter-widgets/controls",
     "model_name": "DescriptionStyleModel",
     "model_module_version": "1.5.0",
     "state": {
      "_view_name": "StyleView",
      "_model_name": "DescriptionStyleModel",
      "description_width": "",
      "_view_module": "@jupyter-widgets/base",
      "_model_module_version": "1.5.0",
      "_view_count": null,
      "_view_module_version": "1.2.0",
      "_model_module": "@jupyter-widgets/controls"
     }
    },
    "22f4e46a0d7d4581b08cba1d28c7281d": {
     "model_module": "@jupyter-widgets/base",
     "model_name": "LayoutModel",
     "model_module_version": "1.2.0",
     "state": {
      "_view_name": "LayoutView",
      "grid_template_rows": null,
      "right": null,
      "justify_content": null,
      "_view_module": "@jupyter-widgets/base",
      "overflow": null,
      "_model_module_version": "1.2.0",
      "_view_count": null,
      "flex_flow": null,
      "width": null,
      "min_width": null,
      "border": null,
      "align_items": null,
      "bottom": null,
      "_model_module": "@jupyter-widgets/base",
      "top": null,
      "grid_column": null,
      "overflow_y": null,
      "overflow_x": null,
      "grid_auto_flow": null,
      "grid_area": null,
      "grid_template_columns": null,
      "flex": null,
      "_model_name": "LayoutModel",
      "justify_items": null,
      "grid_row": null,
      "max_height": null,
      "align_content": null,
      "visibility": null,
      "align_self": null,
      "height": null,
      "min_height": null,
      "padding": null,
      "grid_auto_rows": null,
      "grid_gap": null,
      "max_width": null,
      "order": null,
      "_view_module_version": "1.2.0",
      "grid_template_areas": null,
      "object_position": null,
      "object_fit": null,
      "grid_auto_columns": null,
      "margin": null,
      "display": null,
      "left": null
     }
    },
    "4b3a9dd4d79d40ff95ef9b92436a7af6": {
     "model_module": "@jupyter-widgets/controls",
     "model_name": "HBoxModel",
     "model_module_version": "1.5.0",
     "state": {
      "_view_name": "HBoxView",
      "_dom_classes": [],
      "_model_name": "HBoxModel",
      "_view_module": "@jupyter-widgets/controls",
      "_model_module_version": "1.5.0",
      "_view_count": null,
      "_view_module_version": "1.5.0",
      "box_style": "",
      "layout": "IPY_MODEL_b2cdc78ba10c440e8170a0c64bda4ea3",
      "_model_module": "@jupyter-widgets/controls",
      "children": [
       "IPY_MODEL_5fd0b029697441dd8c0d901d9663d72d",
       "IPY_MODEL_f613d95324ad4667b2ff8558771d722a",
       "IPY_MODEL_130057956dbb4aaa92b993a04d99f0a0"
      ]
     }
    },
    "b2cdc78ba10c440e8170a0c64bda4ea3": {
     "model_module": "@jupyter-widgets/base",
     "model_name": "LayoutModel",
     "model_module_version": "1.2.0",
     "state": {
      "_view_name": "LayoutView",
      "grid_template_rows": null,
      "right": null,
      "justify_content": null,
      "_view_module": "@jupyter-widgets/base",
      "overflow": null,
      "_model_module_version": "1.2.0",
      "_view_count": null,
      "flex_flow": null,
      "width": null,
      "min_width": null,
      "border": null,
      "align_items": null,
      "bottom": null,
      "_model_module": "@jupyter-widgets/base",
      "top": null,
      "grid_column": null,
      "overflow_y": null,
      "overflow_x": null,
      "grid_auto_flow": null,
      "grid_area": null,
      "grid_template_columns": null,
      "flex": null,
      "_model_name": "LayoutModel",
      "justify_items": null,
      "grid_row": null,
      "max_height": null,
      "align_content": null,
      "visibility": null,
      "align_self": null,
      "height": null,
      "min_height": null,
      "padding": null,
      "grid_auto_rows": null,
      "grid_gap": null,
      "max_width": null,
      "order": null,
      "_view_module_version": "1.2.0",
      "grid_template_areas": null,
      "object_position": null,
      "object_fit": null,
      "grid_auto_columns": null,
      "margin": null,
      "display": null,
      "left": null
     }
    },
    "5fd0b029697441dd8c0d901d9663d72d": {
     "model_module": "@jupyter-widgets/controls",
     "model_name": "HTMLModel",
     "model_module_version": "1.5.0",
     "state": {
      "_view_name": "HTMLView",
      "style": "IPY_MODEL_851b1d7ca6f942b7945ea65ec5156be8",
      "_dom_classes": [],
      "description": "",
      "_model_name": "HTMLModel",
      "placeholder": "​",
      "_view_module": "@jupyter-widgets/controls",
      "_model_module_version": "1.5.0",
      "value": "100%",
      "_view_count": null,
      "_view_module_version": "1.5.0",
      "description_tooltip": null,
      "_model_module": "@jupyter-widgets/controls",
      "layout": "IPY_MODEL_cb661ca9387647c38337c4cc2bb73498"
     }
    },
    "f613d95324ad4667b2ff8558771d722a": {
     "model_module": "@jupyter-widgets/controls",
     "model_name": "FloatProgressModel",
     "model_module_version": "1.5.0",
     "state": {
      "_view_name": "ProgressView",
      "style": "IPY_MODEL_25294c5dd00149ba83089eafafdb352a",
      "_dom_classes": [],
      "description": "",
      "_model_name": "FloatProgressModel",
      "bar_style": "danger",
      "max": 10000,
      "_view_module": "@jupyter-widgets/controls",
      "_model_module_version": "1.5.0",
      "value": 9999,
      "_view_count": null,
      "_view_module_version": "1.5.0",
      "orientation": "horizontal",
      "min": 0,
      "description_tooltip": null,
      "_model_module": "@jupyter-widgets/controls",
      "layout": "IPY_MODEL_cf41fdabd5df4a569b3d9b3ccdc7932c"
     }
    },
    "130057956dbb4aaa92b993a04d99f0a0": {
     "model_module": "@jupyter-widgets/controls",
     "model_name": "HTMLModel",
     "model_module_version": "1.5.0",
     "state": {
      "_view_name": "HTMLView",
      "style": "IPY_MODEL_cd00ebd1a72f4ab7b184d16021aefc63",
      "_dom_classes": [],
      "description": "",
      "_model_name": "HTMLModel",
      "placeholder": "​",
      "_view_module": "@jupyter-widgets/controls",
      "_model_module_version": "1.5.0",
      "value": " 9999/10000 [00:00&lt;00:00, 163973.50 examples/s]",
      "_view_count": null,
      "_view_module_version": "1.5.0",
      "description_tooltip": null,
      "_model_module": "@jupyter-widgets/controls",
      "layout": "IPY_MODEL_0e044f27697a403ba2a74d195c2d8a6c"
     }
    },
    "851b1d7ca6f942b7945ea65ec5156be8": {
     "model_module": "@jupyter-widgets/controls",
     "model_name": "DescriptionStyleModel",
     "model_module_version": "1.5.0",
     "state": {
      "_view_name": "StyleView",
      "_model_name": "DescriptionStyleModel",
      "description_width": "",
      "_view_module": "@jupyter-widgets/base",
      "_model_module_version": "1.5.0",
      "_view_count": null,
      "_view_module_version": "1.2.0",
      "_model_module": "@jupyter-widgets/controls"
     }
    },
    "cb661ca9387647c38337c4cc2bb73498": {
     "model_module": "@jupyter-widgets/base",
     "model_name": "LayoutModel",
     "model_module_version": "1.2.0",
     "state": {
      "_view_name": "LayoutView",
      "grid_template_rows": null,
      "right": null,
      "justify_content": null,
      "_view_module": "@jupyter-widgets/base",
      "overflow": null,
      "_model_module_version": "1.2.0",
      "_view_count": null,
      "flex_flow": null,
      "width": null,
      "min_width": null,
      "border": null,
      "align_items": null,
      "bottom": null,
      "_model_module": "@jupyter-widgets/base",
      "top": null,
      "grid_column": null,
      "overflow_y": null,
      "overflow_x": null,
      "grid_auto_flow": null,
      "grid_area": null,
      "grid_template_columns": null,
      "flex": null,
      "_model_name": "LayoutModel",
      "justify_items": null,
      "grid_row": null,
      "max_height": null,
      "align_content": null,
      "visibility": null,
      "align_self": null,
      "height": null,
      "min_height": null,
      "padding": null,
      "grid_auto_rows": null,
      "grid_gap": null,
      "max_width": null,
      "order": null,
      "_view_module_version": "1.2.0",
      "grid_template_areas": null,
      "object_position": null,
      "object_fit": null,
      "grid_auto_columns": null,
      "margin": null,
      "display": null,
      "left": null
     }
    },
    "25294c5dd00149ba83089eafafdb352a": {
     "model_module": "@jupyter-widgets/controls",
     "model_name": "ProgressStyleModel",
     "model_module_version": "1.5.0",
     "state": {
      "_view_name": "StyleView",
      "_model_name": "ProgressStyleModel",
      "description_width": "",
      "_view_module": "@jupyter-widgets/base",
      "_model_module_version": "1.5.0",
      "_view_count": null,
      "_view_module_version": "1.2.0",
      "bar_color": null,
      "_model_module": "@jupyter-widgets/controls"
     }
    },
    "cf41fdabd5df4a569b3d9b3ccdc7932c": {
     "model_module": "@jupyter-widgets/base",
     "model_name": "LayoutModel",
     "model_module_version": "1.2.0",
     "state": {
      "_view_name": "LayoutView",
      "grid_template_rows": null,
      "right": null,
      "justify_content": null,
      "_view_module": "@jupyter-widgets/base",
      "overflow": null,
      "_model_module_version": "1.2.0",
      "_view_count": null,
      "flex_flow": null,
      "width": null,
      "min_width": null,
      "border": null,
      "align_items": null,
      "bottom": null,
      "_model_module": "@jupyter-widgets/base",
      "top": null,
      "grid_column": null,
      "overflow_y": null,
      "overflow_x": null,
      "grid_auto_flow": null,
      "grid_area": null,
      "grid_template_columns": null,
      "flex": null,
      "_model_name": "LayoutModel",
      "justify_items": null,
      "grid_row": null,
      "max_height": null,
      "align_content": null,
      "visibility": null,
      "align_self": null,
      "height": null,
      "min_height": null,
      "padding": null,
      "grid_auto_rows": null,
      "grid_gap": null,
      "max_width": null,
      "order": null,
      "_view_module_version": "1.2.0",
      "grid_template_areas": null,
      "object_position": null,
      "object_fit": null,
      "grid_auto_columns": null,
      "margin": null,
      "display": null,
      "left": null
     }
    },
    "cd00ebd1a72f4ab7b184d16021aefc63": {
     "model_module": "@jupyter-widgets/controls",
     "model_name": "DescriptionStyleModel",
     "model_module_version": "1.5.0",
     "state": {
      "_view_name": "StyleView",
      "_model_name": "DescriptionStyleModel",
      "description_width": "",
      "_view_module": "@jupyter-widgets/base",
      "_model_module_version": "1.5.0",
      "_view_count": null,
      "_view_module_version": "1.2.0",
      "_model_module": "@jupyter-widgets/controls"
     }
    },
    "0e044f27697a403ba2a74d195c2d8a6c": {
     "model_module": "@jupyter-widgets/base",
     "model_name": "LayoutModel",
     "model_module_version": "1.2.0",
     "state": {
      "_view_name": "LayoutView",
      "grid_template_rows": null,
      "right": null,
      "justify_content": null,
      "_view_module": "@jupyter-widgets/base",
      "overflow": null,
      "_model_module_version": "1.2.0",
      "_view_count": null,
      "flex_flow": null,
      "width": null,
      "min_width": null,
      "border": null,
      "align_items": null,
      "bottom": null,
      "_model_module": "@jupyter-widgets/base",
      "top": null,
      "grid_column": null,
      "overflow_y": null,
      "overflow_x": null,
      "grid_auto_flow": null,
      "grid_area": null,
      "grid_template_columns": null,
      "flex": null,
      "_model_name": "LayoutModel",
      "justify_items": null,
      "grid_row": null,
      "max_height": null,
      "align_content": null,
      "visibility": null,
      "align_self": null,
      "height": null,
      "min_height": null,
      "padding": null,
      "grid_auto_rows": null,
      "grid_gap": null,
      "max_width": null,
      "order": null,
      "_view_module_version": "1.2.0",
      "grid_template_areas": null,
      "object_position": null,
      "object_fit": null,
      "grid_auto_columns": null,
      "margin": null,
      "display": null,
      "left": null
     }
    }
   }
  }
 },
 "cells": [
  {
   "cell_type": "markdown",
   "metadata": {
    "id": "JSZw_Iv0t5Aw"
   },
   "source": [
    "# Bayesian MLP for MNIST using preconditioned SGLD\n",
    "\n",
    "We use the [Jax Bayes](https://github.com/jamesvuc/jax-bayes) library \n",
    "by  James Vuckovic \n",
    "to fit an MLP to MNIST using SGD, and SGLD (with RMS preconditioning).\n",
    "Code is based on:\n",
    "\n",
    "\n",
    "\n",
    "1.   https://github.com/jamesvuc/jax-bayes/blob/master/examples/deep/mnist/mnist.ipynb\n",
    "2.   https://github.com/jamesvuc/jax-bayes/blob/master/examples/deep/mnist/mnist_mcmc.ipynb\n"
   ]
  },
  {
   "cell_type": "markdown",
   "metadata": {
    "id": "YwuRJZKAuoQs"
   },
   "source": [
    "# Setup"
   ]
  },
  {
   "cell_type": "code",
   "metadata": {
    "id": "PmY4LL3AuL0j"
   },
   "source": [
    "%%capture\n",
    "!pip install git+https://github.com/deepmind/dm-haiku\n",
    "!pip install git+https://github.com/jamesvuc/jax-bayes"
   ],
   "execution_count": 1,
   "outputs": []
  },
  {
   "cell_type": "code",
   "metadata": {
    "id": "2Mz0kTuHwKqy"
   },
   "source": [
    "import haiku as hk\n",
    "\n",
    "import jax.numpy as jnp\n",
    "from jax.experimental import optimizers\n",
    "import jax\n",
    "\n",
    "import jax_bayes\n",
    "\n",
    "import sys, os, math, time\n",
    "import numpy as onp\n",
    "import numpy as np\n",
    "from functools import partial\n",
    "from matplotlib import pyplot as plt\n",
    "\n",
    "os.environ[\"TF_CPP_MIN_LOG_LEVEL\"] = \"2\"\n",
    "import tensorflow_datasets as tfds"
   ],
   "execution_count": 2,
   "outputs": []
  },
  {
   "cell_type": "markdown",
   "metadata": {
    "id": "oyxSjxhZwU2_"
   },
   "source": [
    "# Data"
   ]
  },
  {
   "cell_type": "code",
   "metadata": {
    "id": "2HDMRDZwv9-d"
   },
   "source": [
    "def load_dataset(split, is_training, batch_size):\n",
    "    ds = tfds.load(\"mnist:3.*.*\", split=split).cache().repeat()\n",
    "    if is_training:\n",
    "        ds = ds.shuffle(10 * batch_size, seed=0)\n",
    "    ds = ds.batch(batch_size)\n",
    "    # return tfds.as_numpy(ds)\n",
    "    return iter(tfds.as_numpy(ds))"
   ],
   "execution_count": 3,
   "outputs": []
  },
  {
   "cell_type": "code",
   "metadata": {
    "id": "WcjAlEjtwVr1",
    "colab": {
     "base_uri": "https://localhost:8080/",
     "height": 205,
     "referenced_widgets": [
      "df42f202e9fa433eb6f306d014b9dc25",
      "6ce523df19e548c182a8511bd12ef7b8",
      "b2ec50aa07194c29ac70d22a69450227",
      "0343ebc56b9148a3b398450b5805aae0",
      "d7d817c67edb49e7bab6b856ec232856",
      "88e033a2675e416786fdd8db486c66e8",
      "8e461e443a3c4f8eb6dcf274ddfa4723",
      "93d33b968d2340fb8bfc43ca17941041",
      "c74773affe1f4e228d6c5bb88634abc7",
      "cf329a8d51544cee87f8022941f91159",
      "e0e653c54d0b47a2a9cc41835007c7b0"
     ]
    },
    "outputId": "895bf7c7-d28b-43e4-e2b5-1b51feaf1108"
   },
   "source": [
    "# load the data into memory and create batch iterators\n",
    "train_batches = load_dataset(\"train\", is_training=True, batch_size=1_000)\n",
    "val_batches = load_dataset(\"train\", is_training=False, batch_size=10_000)\n",
    "test_batches = load_dataset(\"test\", is_training=False, batch_size=10_000)"
   ],
   "execution_count": 4,
   "outputs": [
    {
     "output_type": "stream",
     "name": "stdout",
     "text": [
      "\u001b[1mDownloading and preparing dataset mnist/3.0.1 (download: 11.06 MiB, generated: 21.00 MiB, total: 32.06 MiB) to /root/tensorflow_datasets/mnist/3.0.1...\u001b[0m\n"
     ]
    },
    {
     "output_type": "stream",
     "name": "stderr",
     "text": [
      "WARNING:absl:Dataset mnist is hosted on GCS. It will automatically be downloaded to your\n",
      "local data directory. If you'd instead prefer to read directly from our public\n",
      "GCS bucket (recommended if you're running on GCP), you can instead pass\n",
      "`try_gcs=True` to `tfds.load` or set `data_dir=gs://tfds-data/datasets`.\n",
      "\n"
     ]
    },
    {
     "output_type": "display_data",
     "data": {
      "application/vnd.jupyter.widget-view+json": {
       "model_id": "df42f202e9fa433eb6f306d014b9dc25",
       "version_minor": 0,
       "version_major": 2
      },
      "text/plain": [
       "Dl Completed...:   0%|          | 0/4 [00:00<?, ? file/s]"
      ]
     },
     "metadata": {}
    },
    {
     "output_type": "stream",
     "name": "stdout",
     "text": [
      "\n",
      "\u001b[1mDataset mnist downloaded and prepared to /root/tensorflow_datasets/mnist/3.0.1. Subsequent calls will reuse this data.\u001b[0m\n"
     ]
    }
   ]
  },
  {
   "cell_type": "markdown",
   "metadata": {
    "id": "rE5YVKsawZj-"
   },
   "source": [
    "# Model"
   ]
  },
  {
   "cell_type": "code",
   "metadata": {
    "id": "-QMiyBlEwY5q"
   },
   "source": [
    "nclasses = 10\n",
    "\n",
    "\n",
    "def net_fn(batch, sig):\n",
    "    \"\"\"Standard LeNet-300-100 MLP\"\"\"\n",
    "    x = batch[\"image\"].astype(jnp.float32) / 255.0\n",
    "    # x has size (1000, 28, 28, 1)\n",
    "    D = np.prod(x.shape[1:])  # 784\n",
    "    # To match initialization of linear layer\n",
    "    # sigma = 1/sqrt(fan-in)\n",
    "    # https://dm-haiku.readthedocs.io/en/latest/api.html#id1\n",
    "    # w_init = hk.initializers.TruncatedNormal(stddev=stddev)\n",
    "    sizes = [D, 300, 100, nclasses]\n",
    "    sigmas = [sig / jnp.sqrt(fanin) for fanin in sizes]\n",
    "    mlp = hk.Sequential(\n",
    "        [\n",
    "            hk.Flatten(),\n",
    "            hk.Linear(sizes[1], w_init=hk.initializers.TruncatedNormal(stddev=sigmas[0]), b_init=jnp.zeros),\n",
    "            jax.nn.relu,\n",
    "            hk.Linear(sizes[2], w_init=hk.initializers.TruncatedNormal(stddev=sigmas[1]), b_init=jnp.zeros),\n",
    "            jax.nn.relu,\n",
    "            hk.Linear(sizes[3], w_init=hk.initializers.TruncatedNormal(stddev=sigmas[2]), b_init=jnp.zeros),\n",
    "        ]\n",
    "    )\n",
    "\n",
    "    return mlp(x)\n",
    "\n",
    "\n",
    "# L2 regularizer will be added to loss\n",
    "reg = 1e-4"
   ],
   "execution_count": 5,
   "outputs": []
  },
  {
   "cell_type": "markdown",
   "metadata": {
    "id": "vhHWqpc8wkE3"
   },
   "source": [
    "# SGD"
   ]
  },
  {
   "cell_type": "code",
   "metadata": {
    "id": "Erm8G2YZwkcq"
   },
   "source": [
    "net = hk.transform(partial(net_fn, sig=1))\n",
    "\n",
    "lr = 1e-3\n",
    "opt_init, opt_update, opt_get_params = optimizers.rmsprop(lr)\n",
    "\n",
    "# instantiate the model parameters --- requires a sample batch to get size\n",
    "params_init = net.init(jax.random.PRNGKey(42), next(train_batches))\n",
    "\n",
    "# intialize the optimzier state\n",
    "opt_state = opt_init(params_init)\n",
    "\n",
    "\n",
    "def loss(params, batch):\n",
    "    logits = net.apply(params, None, batch)\n",
    "    labels = jax.nn.one_hot(batch[\"label\"], 10)\n",
    "\n",
    "    l2_loss = 0.5 * sum(jnp.sum(jnp.square(p)) for p in jax.tree_leaves(params))\n",
    "\n",
    "    softmax_crossent = -jnp.mean(labels * jax.nn.log_softmax(logits))\n",
    "\n",
    "    return softmax_crossent + reg * l2_loss\n",
    "\n",
    "\n",
    "@jax.jit\n",
    "def accuracy(params, batch):\n",
    "    preds = net.apply(params, None, batch)\n",
    "    return jnp.mean(jnp.argmax(preds, axis=-1) == batch[\"label\"])\n",
    "\n",
    "\n",
    "@jax.jit\n",
    "def train_step(i, opt_state, batch):\n",
    "    params = opt_get_params(opt_state)\n",
    "    dx = jax.grad(loss)(params, batch)\n",
    "    opt_state = opt_update(i, dx, opt_state)\n",
    "    return opt_state"
   ],
   "execution_count": 6,
   "outputs": []
  },
  {
   "cell_type": "code",
   "metadata": {
    "colab": {
     "base_uri": "https://localhost:8080/"
    },
    "id": "vfW2P3jX_yYu",
    "outputId": "0031f6e4-c83c-45e7-b923-47c73629f5b5"
   },
   "source": [
    "print(params_init[\"linear\"][\"w\"].shape)"
   ],
   "execution_count": 7,
   "outputs": [
    {
     "output_type": "stream",
     "name": "stdout",
     "text": [
      "(784, 300)\n"
     ]
    }
   ]
  },
  {
   "cell_type": "code",
   "metadata": {
    "id": "r54UuI0n1f_l"
   },
   "source": [
    "def callback(step, params, train_eval, test_eval, print_every=500):\n",
    "    if step % print_every == 0:\n",
    "        # Periodically evaluate classification accuracy on train & test sets.\n",
    "        train_accuracy = accuracy(params, next(train_eval))\n",
    "        test_accuracy = accuracy(params, next(test_eval))\n",
    "        train_accuracy, test_accuracy = jax.device_get((train_accuracy, test_accuracy))\n",
    "        print(f\"[Step {step}] Train / Test accuracy: \" f\"{train_accuracy:.3f} / {test_accuracy:.3f}.\")"
   ],
   "execution_count": 8,
   "outputs": []
  },
  {
   "cell_type": "code",
   "metadata": {
    "colab": {
     "base_uri": "https://localhost:8080/"
    },
    "id": "b0hKy5QgzfJM",
    "outputId": "35664f3e-2b80-47ca-d0a5-3d1179879a75"
   },
   "source": [
    "%%time\n",
    "\n",
    "nsteps = 5000\n",
    "for step in range(nsteps + 1):\n",
    "    opt_state = train_step(step, opt_state, next(train_batches))\n",
    "    params_sgd = opt_get_params(opt_state)\n",
    "    callback(step, params_sgd, val_batches, test_batches)"
   ],
   "execution_count": 9,
   "outputs": [
    {
     "output_type": "stream",
     "name": "stdout",
     "text": [
      "[Step 0] Train / Test accuracy: 0.362 / 0.368.\n",
      "[Step 500] Train / Test accuracy: 0.971 / 0.963.\n",
      "[Step 1000] Train / Test accuracy: 0.985 / 0.977.\n",
      "[Step 1500] Train / Test accuracy: 0.986 / 0.977.\n",
      "[Step 2000] Train / Test accuracy: 0.989 / 0.980.\n",
      "[Step 2500] Train / Test accuracy: 0.992 / 0.981.\n",
      "[Step 3000] Train / Test accuracy: 0.995 / 0.981.\n",
      "[Step 3500] Train / Test accuracy: 0.991 / 0.973.\n",
      "[Step 4000] Train / Test accuracy: 0.994 / 0.981.\n",
      "[Step 4500] Train / Test accuracy: 0.996 / 0.982.\n",
      "[Step 5000] Train / Test accuracy: 0.994 / 0.981.\n",
      "CPU times: user 30.9 s, sys: 6.12 s, total: 37 s\n",
      "Wall time: 22.9 s\n"
     ]
    }
   ]
  },
  {
   "cell_type": "markdown",
   "metadata": {
    "id": "OlXgvVn56ICo"
   },
   "source": [
    "# SGLD"
   ]
  },
  {
   "cell_type": "code",
   "metadata": {
    "id": "08j-W-vF6Im5"
   },
   "source": [
    "lr = 5e-3\n",
    "\n",
    "num_samples = 10  # number of samples to approximate the posterior\n",
    "init_stddev = 0.01  # 0.1 # params sampled around params_init\n",
    "\n",
    "# we initialize all weights to 0 since we will be sampling them anyway\n",
    "# net_bayes = hk.transform(partial(net_fn, sig=0))\n",
    "\n",
    "sampler_fns = jax_bayes.mcmc.rms_langevin_fns\n",
    "seed = 0\n",
    "key = jax.random.PRNGKey(seed)\n",
    "sampler_init, sampler_propose, sampler_update, sampler_get_params = sampler_fns(\n",
    "    key, num_samples=num_samples, step_size=lr, init_stddev=init_stddev\n",
    ")"
   ],
   "execution_count": 10,
   "outputs": []
  },
  {
   "cell_type": "code",
   "metadata": {
    "id": "UqMB8wbX6nD1"
   },
   "source": [
    "@jax.jit\n",
    "def accuracy_bayes(params_samples, batch):\n",
    "    # average the logits over the parameter samples\n",
    "    pred_fn = jax.vmap(net.apply, in_axes=(0, None, None))\n",
    "    preds = jnp.mean(pred_fn(params_samples, None, batch), axis=0)\n",
    "    return jnp.mean(jnp.argmax(preds, axis=-1) == batch[\"label\"])\n",
    "\n",
    "\n",
    "# the log-probability is the negative of the loss\n",
    "logprob = lambda p, b: -loss(p, b)\n",
    "\n",
    "# build the mcmc step. This is like the opimization step, but for sampling\n",
    "@jax.jit\n",
    "def mcmc_step(i, sampler_state, sampler_keys, batch):\n",
    "    # extract parameters\n",
    "    params = sampler_get_params(sampler_state)\n",
    "\n",
    "    # form a partial eval of logprob on the data\n",
    "    logp = lambda p: logprob(p, batch)\n",
    "\n",
    "    # evaluate *per-sample* gradients\n",
    "    fx, dx = jax.vmap(jax.value_and_grad(logp))(params)\n",
    "\n",
    "    # generat proposal states for the Markov chains\n",
    "    sampler_prop_state, new_keys = sampler_propose(i, dx, sampler_state, sampler_keys)\n",
    "\n",
    "    # we don't need to re-compute gradients for the accept stage (unadjusted Langevin)\n",
    "    fx_prop, dx_prop = fx, dx\n",
    "\n",
    "    # accept the proposal states for the markov chain\n",
    "    sampler_state, new_keys = sampler_update(i, fx, fx_prop, dx, sampler_state, dx_prop, sampler_prop_state, new_keys)\n",
    "\n",
    "    return jnp.mean(fx), sampler_state, new_keys"
   ],
   "execution_count": 11,
   "outputs": []
  },
  {
   "cell_type": "code",
   "metadata": {
    "id": "QgNjQqeh7IS_"
   },
   "source": [
    "def callback_bayes(step, params, val_batches, test_batches, print_every=500):\n",
    "    if step % print_every == 0:\n",
    "        val_acc = accuracy_bayes(params, next(val_batches))\n",
    "        test_acc = accuracy_bayes(params, next(test_batches))\n",
    "        print(f\"step = {step}\" f\" | val acc = {val_acc:.3f}\" f\" | test acc = {test_acc:.3f}\")"
   ],
   "execution_count": 12,
   "outputs": []
  },
  {
   "cell_type": "code",
   "metadata": {
    "colab": {
     "base_uri": "https://localhost:8080/"
    },
    "id": "7aaaOUbD7F7F",
    "outputId": "13842de6-7464-4c7b-b25a-045c901694f7"
   },
   "source": [
    "\n",
    "%%time\n",
    "\n",
    "#get a single sample of the params using the normal hk.init(...)\n",
    "params_init = net.init(jax.random.PRNGKey(42), next(train_batches))\n",
    "\n",
    "# get a SamplerState object with `num_samples` params along dimension 0\n",
    "# generated by adding Gaussian noise (see sampler_fns(..., init_dist='normal'))\n",
    "sampler_state, sampler_keys = sampler_init(params_init)\n",
    "\n",
    "# iterate the the Markov chain\n",
    "nsteps = 5000\n",
    "for step in range(nsteps+1):\n",
    "  train_logprob, sampler_state, sampler_keys = \\\n",
    "    mcmc_step(step, sampler_state, sampler_keys, next(train_batches))\n",
    "  params_samples = sampler_get_params(sampler_state)\n",
    "  callback_bayes(step, params_samples, val_batches, test_batches)\n"
   ],
   "execution_count": 13,
   "outputs": [
    {
     "output_type": "stream",
     "name": "stdout",
     "text": [
      "step = 0 | val acc = 0.060 | test acc = 0.057\n",
      "step = 500 | val acc = 0.512 | test acc = 0.526\n",
      "step = 1000 | val acc = 0.806 | test acc = 0.803\n",
      "step = 1500 | val acc = 0.869 | test acc = 0.875\n",
      "step = 2000 | val acc = 0.902 | test acc = 0.907\n",
      "step = 2500 | val acc = 0.917 | test acc = 0.921\n",
      "step = 3000 | val acc = 0.930 | test acc = 0.929\n",
      "step = 3500 | val acc = 0.940 | test acc = 0.938\n",
      "step = 4000 | val acc = 0.944 | test acc = 0.941\n",
      "step = 4500 | val acc = 0.947 | test acc = 0.944\n",
      "step = 5000 | val acc = 0.952 | test acc = 0.946\n",
      "CPU times: user 24.6 s, sys: 1.34 s, total: 25.9 s\n",
      "Wall time: 23.3 s\n"
     ]
    }
   ]
  },
  {
   "cell_type": "code",
   "metadata": {
    "id": "N4S3nB9tAc4X",
    "colab": {
     "base_uri": "https://localhost:8080/"
    },
    "outputId": "ae1d5a08-36a0-4300-ce73-d4d35f74f33a"
   },
   "source": [
    "print(params_samples[\"linear\"][\"w\"].shape)  # 10 samples of the weights for first layer"
   ],
   "execution_count": 14,
   "outputs": [
    {
     "output_type": "stream",
     "name": "stdout",
     "text": [
      "(10, 784, 300)\n"
     ]
    }
   ]
  },
  {
   "cell_type": "markdown",
   "metadata": {
    "id": "gC1EIJpH8_Bb"
   },
   "source": [
    "# Uncertainty analysis"
   ]
  },
  {
   "cell_type": "markdown",
   "metadata": {
    "id": "e684Q2Tw9BTS"
   },
   "source": [
    "We select the predictions above a confidence threshold, and compute the predictive accuracy on that subset. As we increase the threshold, the accuracy should increase, but fewer examples will be selected."
   ]
  },
  {
   "cell_type": "code",
   "metadata": {
    "id": "xMenkseG9wQv"
   },
   "source": [
    "test_batch = next(test_batches)\n",
    "from jax_bayes.utils import entropy, certainty_acc"
   ],
   "execution_count": 15,
   "outputs": []
  },
  {
   "cell_type": "code",
   "metadata": {
    "id": "NtzhVPR-9ANv"
   },
   "source": [
    "def plot_acc_vs_confidence(predict_fn, test_batch):\n",
    "    # plot how accuracy changes as we increase the required level of certainty\n",
    "    preds = predict_fn(test_batch)  # (batch_size, n_classes) array of probabilities\n",
    "    acc, mask = certainty_acc(preds, test_batch[\"label\"], cert_threshold=0)\n",
    "    thresholds = [0.1 * i for i in range(11)]\n",
    "    cert_accs, pct_certs = [], []\n",
    "    for t in thresholds:\n",
    "        cert_acc, cert_mask = certainty_acc(preds, test_batch[\"label\"], cert_threshold=t)\n",
    "        cert_accs.append(cert_acc)\n",
    "        pct_certs.append(cert_mask.mean())\n",
    "\n",
    "    fig, ax = plt.subplots(1)\n",
    "    line1 = ax.plot(thresholds, cert_accs, label=\"accuracy at certainty\", marker=\"x\")\n",
    "    line2 = ax.axhline(y=acc, label=\"regular accuracy\", color=\"black\")\n",
    "    ax.set_ylabel(\"accuracy\")\n",
    "    ax.set_xlabel(\"certainty threshold\")\n",
    "\n",
    "    axb = ax.twinx()\n",
    "    line3 = axb.plot(thresholds, pct_certs, label=\"pct of certain preds\", color=\"green\", marker=\"x\")\n",
    "    axb.set_ylabel(\"pct certain\")\n",
    "\n",
    "    lines = line1 + [line2] + line3\n",
    "    labels = [l.get_label() for l in lines]\n",
    "    ax.legend(lines, labels, loc=6)\n",
    "\n",
    "    return fig, ax"
   ],
   "execution_count": 16,
   "outputs": []
  },
  {
   "cell_type": "markdown",
   "metadata": {
    "id": "iut61vJp9w5h"
   },
   "source": [
    "## SGD\n",
    "\n",
    "For the plugin estimate, the model is very confident on nearly all of the points."
   ]
  },
  {
   "cell_type": "code",
   "metadata": {
    "id": "JDSDCJcfExTh"
   },
   "source": [
    "# plugin approximation to  posterior predictive\n",
    "@jax.jit\n",
    "def posterior_predictive_plugin(params, batch):\n",
    "    logit_pp = net.apply(params, None, batch)\n",
    "    return jax.nn.softmax(logit_pp, axis=-1)"
   ],
   "execution_count": 17,
   "outputs": []
  },
  {
   "cell_type": "code",
   "metadata": {
    "id": "MSV8qbLX9zca",
    "colab": {
     "base_uri": "https://localhost:8080/",
     "height": 279
    },
    "outputId": "6c868231-9e2a-44e0-9ebe-e29ecaf57fc4"
   },
   "source": [
    "def pred_fn(batch):\n",
    "    return posterior_predictive_plugin(params_sgd, batch)\n",
    "\n",
    "\n",
    "fig, ax = plot_acc_vs_confidence(pred_fn, test_batch)\n",
    "plt.savefig(\"acc-vs-conf-sgd.pdf\")\n",
    "plt.show()"
   ],
   "execution_count": 18,
   "outputs": [
    {
     "output_type": "display_data",
     "data": {
      "image/png": "[encoded data removed]",
      "text/plain": [
       "<Figure size 432x288 with 2 Axes>"
      ]
     },
     "metadata": {
      "needs_background": "light"
     }
    }
   ]
  },
  {
   "cell_type": "markdown",
   "metadata": {
    "id": "bArOtdLYC3re"
   },
   "source": [
    "## SGLD"
   ]
  },
  {
   "cell_type": "code",
   "metadata": {
    "id": "30wKQSDNC4l9"
   },
   "source": [
    "def posterior_predictive_bayes(params_sampled, batch):\n",
    "    \"\"\"computes the posterior_predictive P(class = c | inputs, params) using a histogram\"\"\"\n",
    "    pred_fn = lambda p: net.apply(p, jax.random.PRNGKey(0), batch)\n",
    "    pred_fn = jax.vmap(pred_fn)\n",
    "\n",
    "    logit_samples = pred_fn(params_sampled)  # n_samples x batch_size x n_classes\n",
    "    pred_samples = jnp.argmax(logit_samples, axis=-1)  # n_samples x batch_size\n",
    "\n",
    "    n_classes = logit_samples.shape[-1]\n",
    "    batch_size = logit_samples.shape[1]\n",
    "    probs = np.zeros((batch_size, n_classes))\n",
    "    for c in range(n_classes):\n",
    "        idxs = pred_samples == c\n",
    "        probs[:, c] = idxs.sum(axis=0)\n",
    "\n",
    "    return probs / probs.sum(axis=1, keepdims=True)"
   ],
   "execution_count": 19,
   "outputs": []
  },
  {
   "cell_type": "code",
   "metadata": {
    "id": "NrUeEvkoDdo-",
    "colab": {
     "base_uri": "https://localhost:8080/",
     "height": 279
    },
    "outputId": "88247bea-987f-4b7d-e660-4c86b9faeaaf"
   },
   "source": [
    "def pred_fn(batch):\n",
    "    return posterior_predictive_bayes(params_samples, batch)\n",
    "\n",
    "\n",
    "fig, ax = plot_acc_vs_confidence(pred_fn, test_batch)\n",
    "plt.savefig(\"acc-vs-conf-sgld.pdf\")\n",
    "plt.show()"
   ],
   "execution_count": 20,
   "outputs": [
    {
     "output_type": "display_data",
     "data": {
      "image/png": "[encoded data removed]",
      "text/plain": [
       "<Figure size 432x288 with 2 Axes>"
      ]
     },
     "metadata": {
      "needs_background": "light"
     }
    }
   ]
  },
  {
   "cell_type": "markdown",
   "metadata": {
    "id": "GqINlARzETGs"
   },
   "source": [
    "# Distribution shift\n",
    "\n",
    "We now examine the behavior of the models on the Fashion MNIST dataset.\n",
    "We expect the predictions to be much less confident, since the inputs are now 'out of distribution'. We will see that this is true for the Bayesian approach, but not for the plugin approximation. "
   ]
  },
  {
   "cell_type": "code",
   "metadata": {
    "id": "5NkcBnZ-EhMG",
    "colab": {
     "base_uri": "https://localhost:8080/",
     "height": 316,
     "referenced_widgets": [
      "d16a6dd9792c432b806a5c34fe7adedf",
      "fe736fb6e8e64a43a7bb92babae4d585",
      "c0ccc5c9aeec4f668b7b3c3ba28e3154",
      "4100412fa3cd44d19ea335ff88fd3d7c",
      "e322ebee1f50405c817d49fbd0244d1e",
      "73e2fcbef6554241ab75f38eedaef7fa",
      "3edd82123612464d962ca39500aa592e",
      "cb84826784474bdfaf3f1b9ee6e4efb1",
      "d59293d033234b10a717cc06adb4d16d",
      "2ae0256b02aa446cb893c8c1c921e9f5",
      "f9ef2de8c3b24a8fa53003d7b1f7ce5c",
      "9242c5bae1c746c09392751bd92958d9",
      "23eec583df7146bd9ff7958cccea8b8b",
      "35b0a2275dd94c5c89ff3cb0af11355f",
      "2fe0bc0c8e9f4d9ab2b8e15d941f2774",
      "a4b98a8d59b043d390b57aae01308fed",
      "aeb8301b7ae94936be29bf14409351c9",
      "740d8bd4b724449487f02383f74a401b",
      "8c2b7924b3c5450985b4812b19ad13b5",
      "191e3fe878be4adf87abbfcf26bbf5f3",
      "0709a975648d494fb8300e7c3d5e8dc9",
      "7f5e14a2a373423f9d53f29ab40ab450",
      "e0c3ac1b22254911b99dd40766bc6a73",
      "99f8034e19114fe28d5cc3d66ba769f9",
      "4f309b875db3433bbc7593d22e6ae4ea",
      "fe1d49597fd24bd4b78bbf780a325e2d",
      "f3d537b5d5d548818e544e638e0d2eaa",
      "1581b58b8b7c404f8a76f0589c66a286",
      "fe15bd0b75ae4760bf091d20b6161d3e",
      "53afc708e5224682bd3e3e3e60f16e3e",
      "b728fcdf621147dcbaa8709dd002ac8a",
      "8af73cd1c2af47bf8e62725be15a1111",
      "5aaab61b45c04a279897585221d15393",
      "7e3847af9f21408fb95c333614a33ad1",
      "8a1d3c7a41944200b13c2e9728bf99dd",
      "a04e08f430514c6f880f8629d3f9b1b3",
      "bd217a369a0c4f20bf4fb9de1769ce87",
      "3881cc84d17645d7b2de4ce5d84bfe87",
      "f3a9286bde1a447b807f24cd5786f1d7",
      "c7e3b4e09f5b4c969c3b067aee89136e",
      "bfe288eaa4244fe1bd60db2b04870bf6",
      "d046c1f18e604dd4b7761377363650b4",
      "3b0861bacae74d39a394aec7c14408f3",
      "73ee320ae19d4a5ca882913c11dbba79",
      "bb12d0bcd40e472fb4dd16f572291800",
      "f5174b5194c1421ca56b1b333db422b7",
      "cdadfdcc5a774a9998341edacc978c25",
      "b23fafcd7d944f5eb657d546909cc80e",
      "987acde5d53840f6b3a93e3166120f91",
      "2b520e60ae6b4a79a2f6b0d0b84278bb",
      "56cfa912aeb84650b7cebc2e62aa89d4",
      "df9fd0fa8a114d14b80b1dd70b71c814",
      "a950ea4ca29d4193807536418c2563aa",
      "8245bbfb8fe548b8bfd209c87da07894",
      "87ce542fbc0741439e8bb8fa87d7da65",
      "d9216c2b2caa422185a55e06bd43248f",
      "b505039856b54e3c87084faf25d08b82",
      "661df0c41fbf48469ac5c8ef074fe973",
      "84d84b425f3e4d269ca382988b4ab11d",
      "4dbb8798c20b489e83ca62c7056dfd53",
      "a551e773f71a4b87b30908c1a07ed2f6",
      "adfa575a51a248ef8d26002ec12f0ca2",
      "21199c1c34e24b3eb55bc67ee676e486",
      "bf965f6411044205a82f1e7cabbc617b",
      "fe9d4e31940d44dcb9c54de14df58e63",
      "22f4e46a0d7d4581b08cba1d28c7281d",
      "4b3a9dd4d79d40ff95ef9b92436a7af6",
      "b2cdc78ba10c440e8170a0c64bda4ea3",
      "5fd0b029697441dd8c0d901d9663d72d",
      "f613d95324ad4667b2ff8558771d722a",
      "130057956dbb4aaa92b993a04d99f0a0",
      "851b1d7ca6f942b7945ea65ec5156be8",
      "cb661ca9387647c38337c4cc2bb73498",
      "25294c5dd00149ba83089eafafdb352a",
      "cf41fdabd5df4a569b3d9b3ccdc7932c",
      "cd00ebd1a72f4ab7b184d16021aefc63",
      "0e044f27697a403ba2a74d195c2d8a6c"
     ]
    },
    "outputId": "b8645f41-9690-4e9b-8721-96b7e50a6374"
   },
   "source": [
    "fashion_ds = tfds.load(\"fashion_mnist:3.*.*\", split=\"test\").cache().repeat()\n",
    "fashion_test_batches = tfds.as_numpy(fashion_ds.batch(10_000))\n",
    "fashion_test_batches = iter(fashion_test_batches)\n",
    "\n",
    "fashion_batch = next(fashion_test_batches)"
   ],
   "execution_count": 21,
   "outputs": [
    {
     "output_type": "stream",
     "name": "stdout",
     "text": [
      "\u001b[1mDownloading and preparing dataset fashion_mnist/3.0.1 (download: 29.45 MiB, generated: 36.42 MiB, total: 65.87 MiB) to /root/tensorflow_datasets/fashion_mnist/3.0.1...\u001b[0m\n"
     ]
    },
    {
     "output_type": "display_data",
     "data": {
      "application/vnd.jupyter.widget-view+json": {
       "model_id": "d16a6dd9792c432b806a5c34fe7adedf",
       "version_minor": 0,
       "version_major": 2
      },
      "text/plain": [
       "Dl Completed...: 0 url [00:00, ? url/s]"
      ]
     },
     "metadata": {}
    },
    {
     "output_type": "display_data",
     "data": {
      "application/vnd.jupyter.widget-view+json": {
       "model_id": "9242c5bae1c746c09392751bd92958d9",
       "version_minor": 0,
       "version_major": 2
      },
      "text/plain": [
       "Dl Size...: 0 MiB [00:00, ? MiB/s]"
      ]
     },
     "metadata": {}
    },
    {
     "output_type": "display_data",
     "data": {
      "application/vnd.jupyter.widget-view+json": {
       "model_id": "e0c3ac1b22254911b99dd40766bc6a73",
       "version_minor": 0,
       "version_major": 2
      },
      "text/plain": [
       "Extraction completed...: 0 file [00:00, ? file/s]"
      ]
     },
     "metadata": {}
    },
    {
     "output_type": "stream",
     "name": "stdout",
     "text": [
      "\n",
      "\n",
      "\n"
     ]
    },
    {
     "output_type": "display_data",
     "data": {
      "application/vnd.jupyter.widget-view+json": {
       "model_id": "7e3847af9f21408fb95c333614a33ad1",
       "version_minor": 0,
       "version_major": 2
      },
      "text/plain": [
       "0 examples [00:00, ? examples/s]"
      ]
     },
     "metadata": {}
    },
    {
     "output_type": "stream",
     "name": "stdout",
     "text": [
      "Shuffling and writing examples to /root/tensorflow_datasets/fashion_mnist/3.0.1.incompleteOGMZ6W/fashion_mnist-train.tfrecord\n"
     ]
    },
    {
     "output_type": "display_data",
     "data": {
      "application/vnd.jupyter.widget-view+json": {
       "model_id": "bb12d0bcd40e472fb4dd16f572291800",
       "version_minor": 0,
       "version_major": 2
      },
      "text/plain": [
       "  0%|          | 0/60000 [00:00<?, ? examples/s]"
      ]
     },
     "metadata": {}
    },
    {
     "output_type": "display_data",
     "data": {
      "application/vnd.jupyter.widget-view+json": {
       "model_id": "d9216c2b2caa422185a55e06bd43248f",
       "version_minor": 0,
       "version_major": 2
      },
      "text/plain": [
       "0 examples [00:00, ? examples/s]"
      ]
     },
     "metadata": {}
    },
    {
     "output_type": "stream",
     "name": "stdout",
     "text": [
      "Shuffling and writing examples to /root/tensorflow_datasets/fashion_mnist/3.0.1.incompleteOGMZ6W/fashion_mnist-test.tfrecord\n"
     ]
    },
    {
     "output_type": "display_data",
     "data": {
      "application/vnd.jupyter.widget-view+json": {
       "model_id": "4b3a9dd4d79d40ff95ef9b92436a7af6",
       "version_minor": 0,
       "version_major": 2
      },
      "text/plain": [
       "  0%|          | 0/10000 [00:00<?, ? examples/s]"
      ]
     },
     "metadata": {}
    },
    {
     "output_type": "stream",
     "name": "stdout",
     "text": [
      "\u001b[1mDataset fashion_mnist downloaded and prepared to /root/tensorflow_datasets/fashion_mnist/3.0.1. Subsequent calls will reuse this data.\u001b[0m\n"
     ]
    }
   ]
  },
  {
   "cell_type": "markdown",
   "metadata": {
    "id": "ztiLGAp7Eqxt"
   },
   "source": [
    "## SGD\n",
    "\n",
    "We see that the plugin estimate is confident (but wrong!) on many of the predictions, which is undesirable.\n",
    "If consider a confidence threshold of 0.6, \n",
    "the plugin approach predicts on about 80% of the examples,\n",
    "even though the accuracy is only about 6% on these."
   ]
  },
  {
   "cell_type": "code",
   "metadata": {
    "id": "CISeZjWmEre2",
    "colab": {
     "base_uri": "https://localhost:8080/",
     "height": 279
    },
    "outputId": "b911f418-8b9d-4f0b-cbae-ee8cc6c035f1"
   },
   "source": [
    "def pred_fn(batch):\n",
    "    return posterior_predictive_plugin(params_sgd, batch)\n",
    "\n",
    "\n",
    "fig, ax = plot_acc_vs_confidence(pred_fn, fashion_batch)\n",
    "plt.savefig(\"acc-vs-conf-sgd-fashion.pdf\")\n",
    "plt.show()"
   ],
   "execution_count": 22,
   "outputs": [
    {
     "output_type": "display_data",
     "data": {
      "image/png": "[encoded data removed]",
      "text/plain": [
       "<Figure size 432x288 with 2 Axes>"
      ]
     },
     "metadata": {
      "needs_background": "light"
     }
    }
   ]
  },
  {
   "cell_type": "markdown",
   "metadata": {
    "id": "qwBM58OJGUgO"
   },
   "source": [
    "## SGLD\n",
    "\n",
    "If consider a confidence threshold of 0.6, \n",
    "the Bayesian approach predicts on less than 20% of the examples,\n",
    "on which the accuracy is ~4%.\n"
   ]
  },
  {
   "cell_type": "code",
   "metadata": {
    "id": "8uJGI2D7GVNG",
    "colab": {
     "base_uri": "https://localhost:8080/",
     "height": 281
    },
    "outputId": "3cc2ad12-5047-4fe0-edd0-4522a4d7b1b2"
   },
   "source": [
    "def pred_fn(batch):\n",
    "    return posterior_predictive_bayes(params_samples, batch)\n",
    "\n",
    "\n",
    "fig, ax = plot_acc_vs_confidence(pred_fn, fashion_batch)\n",
    "plt.savefig(\"acc-vs-conf-sgld-fashion.pdf\")\n",
    "plt.show()"
   ],
   "execution_count": 23,
   "outputs": [
    {
     "output_type": "display_data",
     "data": {
      "image/png": "[encoded data removed]",
      "text/plain": [
       "<Figure size 432x288 with 2 Axes>"
      ]
     },
     "metadata": {
      "needs_background": "light"
     }
    }
   ]
  },
  {
   "cell_type": "code",
   "metadata": {
    "id": "6sn8Qkux2oFg"
   },
   "source": [
    ""
   ],
   "execution_count": 23,
   "outputs": []
  }
 ]
}