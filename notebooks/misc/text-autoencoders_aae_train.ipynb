{
 "nbformat": 4,
 "nbformat_minor": 0,
 "metadata": {
  "colab": {
   "name": "train_text_vae.ipynb",
   "provenance": [],
   "collapsed_sections": []
  },
  "kernelspec": {
   "display_name": "Python 3",
   "name": "python3"
  },
  "language_info": {
   "name": "python"
  },
  "accelerator": "GPU"
 },
 "cells": [
  {
   "cell_type": "code",
   "metadata": {
    "id": "eUAv0Mzo0Lcm",
    "colab": {
     "base_uri": "https://localhost:8080/"
    },
    "outputId": "9c1b6474-aff7-4a58-b2bf-34481544f615"
   },
   "source": [
    "from google.colab import drive\n",
    "\n",
    "drive.mount(\"/content/drive\")"
   ],
   "execution_count": 1,
   "outputs": [
    {
     "output_type": "stream",
     "text": [
      "Mounted at /content/drive\n"
     ],
     "name": "stdout"
    }
   ]
  },
  {
   "cell_type": "code",
   "metadata": {
    "id": "CTs9XQvFCZa-",
    "colab": {
     "base_uri": "https://localhost:8080/"
    },
    "outputId": "2084e5fc-3005-48c5-dcd8-3dc716220d28"
   },
   "source": [
    "import torch\n",
    "from multiprocessing import cpu_count\n",
    "\n",
    "print(cpu_count())\n",
    "print(torch.cuda.is_available())"
   ],
   "execution_count": 2,
   "outputs": [
    {
     "output_type": "stream",
     "text": [
      "2\n",
      "True\n"
     ],
     "name": "stdout"
    }
   ]
  },
  {
   "cell_type": "code",
   "metadata": {
    "id": "OHQ1OBH6CbIV",
    "colab": {
     "base_uri": "https://localhost:8080/"
    },
    "outputId": "747bae11-ea87-4107-b5e3-ff71da3d1267"
   },
   "source": [
    "!git clone https://github.com/shentianxiao/text-autoencoders.git"
   ],
   "execution_count": 3,
   "outputs": [
    {
     "output_type": "stream",
     "text": [
      "Cloning into 'text-autoencoders'...\n",
      "remote: Enumerating objects: 114, done.\u001b[K\n",
      "remote: Counting objects: 100% (31/31), done.\u001b[K\n",
      "remote: Compressing objects: 100% (27/27), done.\u001b[K\n",
      "remote: Total 114 (delta 11), reused 12 (delta 4), pack-reused 83\u001b[K\n",
      "Receiving objects: 100% (114/114), 270.78 KiB | 19.34 MiB/s, done.\n",
      "Resolving deltas: 100% (56/56), done.\n"
     ],
     "name": "stdout"
    }
   ]
  },
  {
   "cell_type": "code",
   "metadata": {
    "id": "7LeZIGyOCbQe",
    "colab": {
     "base_uri": "https://localhost:8080/"
    },
    "outputId": "d60b9fd8-fece-45ac-f9d6-d1c2f3cd5a3f"
   },
   "source": [
    "%cd text-autoencoders"
   ],
   "execution_count": 4,
   "outputs": [
    {
     "output_type": "stream",
     "text": [
      "/content/text-autoencoders\n"
     ],
     "name": "stdout"
    }
   ]
  },
  {
   "cell_type": "markdown",
   "metadata": {
    "id": "bzZ_0JsyCnAz"
   },
   "source": [
    "##DATA"
   ]
  },
  {
   "cell_type": "code",
   "metadata": {
    "id": "GtRrInqSCoLc",
    "colab": {
     "base_uri": "https://localhost:8080/"
    },
    "outputId": "0f2bcb44-891e-4727-c054-1b073be02192"
   },
   "source": [
    "!bash download_data.sh"
   ],
   "execution_count": 5,
   "outputs": [
    {
     "output_type": "stream",
     "text": [
      "--2021-07-25 06:11:06--  http://people.csail.mit.edu/tianxiao/data/yelp.zip\n",
      "Resolving people.csail.mit.edu (people.csail.mit.edu)... 128.30.2.133\n",
      "Connecting to people.csail.mit.edu (people.csail.mit.edu)|128.30.2.133|:80... connected.\n",
      "HTTP request sent, awaiting response... 200 OK\n",
      "Length: 3676642 (3.5M) [application/zip]\n",
      "Saving to: ‘yelp.zip’\n",
      "\n",
      "yelp.zip            100%[===================>]   3.51M  --.-KB/s    in 0.1s    \n",
      "\n",
      "2021-07-25 06:11:06 (33.5 MB/s) - ‘yelp.zip’ saved [3676642/3676642]\n",
      "\n",
      "Archive:  yelp.zip\n",
      "   creating: yelp/\n",
      "   creating: yelp/tense/\n",
      "  inflating: yelp/tense/valid.past   \n",
      "  inflating: yelp/tense/valid.present  \n",
      "  inflating: yelp/tense/test.past    \n",
      "  inflating: yelp/tense/test.present  \n",
      "   creating: yelp/sentiment/\n",
      "  inflating: yelp/sentiment/100.neg  \n",
      "  inflating: yelp/sentiment/100.pos  \n",
      "  inflating: yelp/sentiment/1000.neg  \n",
      "  inflating: yelp/sentiment/1000.pos  \n",
      "  inflating: yelp/test.txt           \n",
      "  inflating: yelp/train.txt          \n",
      "  inflating: yelp/valid.txt          \n",
      "   creating: yelp/interpolate/\n",
      "  inflating: yelp/interpolate/example.long  \n",
      "  inflating: yelp/interpolate/example.short  \n",
      "--2021-07-25 06:11:07--  http://people.csail.mit.edu/tianxiao/data/yahoo.zip\n",
      "Resolving people.csail.mit.edu (people.csail.mit.edu)... 128.30.2.133\n",
      "Connecting to people.csail.mit.edu (people.csail.mit.edu)|128.30.2.133|:80... connected.\n",
      "HTTP request sent, awaiting response... 200 OK\n",
      "Length: 11962156 (11M) [application/zip]\n",
      "Saving to: ‘yahoo.zip’\n",
      "\n",
      "yahoo.zip           100%[===================>]  11.41M  56.7MB/s    in 0.2s    \n",
      "\n",
      "2021-07-25 06:11:07 (56.7 MB/s) - ‘yahoo.zip’ saved [11962156/11962156]\n",
      "\n",
      "Archive:  yahoo.zip\n",
      "   creating: yahoo/\n",
      "  inflating: yahoo/test.txt          \n",
      "  inflating: yahoo/train.txt         \n",
      "  inflating: yahoo/valid.txt         \n"
     ],
     "name": "stdout"
    }
   ]
  },
  {
   "cell_type": "markdown",
   "metadata": {
    "id": "Jj1dupiX0z0b"
   },
   "source": [
    "## Training the AAE model for 30 epochs"
   ]
  },
  {
   "cell_type": "code",
   "metadata": {
    "id": "nrcu6QBIhr-5",
    "colab": {
     "base_uri": "https://localhost:8080/"
    },
    "outputId": "5ef8e81e-b5fb-4ffb-a9a2-339ba7354d62"
   },
   "source": [
    "NUM_EPOCHS = 30\n",
    "!python train.py --epochs $NUM_EPOCHS --train data/yelp/train.txt --valid data/yelp/valid.txt --model_type aae --lambda_adv 10 --noise 0.3,0,0,0 --save-dir checkpoints/yelp/daae"
   ],
   "execution_count": 6,
   "outputs": [
    {
     "output_type": "stream",
     "text": [
      "Namespace(batch_size=256, dim_d=512, dim_emb=512, dim_h=1024, dim_z=128, dropout=0.5, epochs=30, lambda_adv=10.0, lambda_kl=0, lambda_p=0, load_model='', log_interval=100, lr=0.0005, model_type='aae', nlayers=1, no_cuda=False, noise=[0.3, 0.0, 0.0, 0.0], save_dir='checkpoints/yelp/daae', seed=1111, train='data/yelp/train.txt', valid='data/yelp/valid.txt', vocab_size=10000)\n",
      "# train sents 200000, tokens 1821469\n",
      "# valid sents 10000, tokens 90833\n",
      "# vocab size 10005\n",
      "# model parameters: 34933782\n",
      "--------------------------------------------------------------------------------\n",
      "| epoch   1 |   100/  790 batches | rec 68.24, adv 0.83, |lvar| 83.43, loss_d 1.33, loss 76.56,\n",
      "| epoch   1 |   200/  790 batches | rec 59.54, adv 0.67, |lvar| 101.88, loss_d 1.42, loss 66.27,\n",
      "| epoch   1 |   300/  790 batches | rec 54.42, adv 0.65, |lvar| 70.78, loss_d 1.43, loss 60.89,\n",
      "| epoch   1 |   400/  790 batches | rec 58.19, adv 0.76, |lvar| 77.14, loss_d 1.41, loss 65.74,\n",
      "| epoch   1 |   500/  790 batches | rec 53.71, adv 0.71, |lvar| 99.88, loss_d 1.47, loss 60.79,\n",
      "| epoch   1 |   600/  790 batches | rec 52.89, adv 0.71, |lvar| 134.50, loss_d 1.45, loss 59.98,\n",
      "| epoch   1 |   700/  790 batches | rec 52.90, adv 0.73, |lvar| 191.29, loss_d 1.46, loss 60.23,\n",
      "--------------------------------------------------------------------------------\n",
      "| end of epoch   1 | time   107s | valid rec 49.50, adv 0.70, |lvar| 197.75, loss_d 1.42, loss 56.52, | saving model\n",
      "--------------------------------------------------------------------------------\n",
      "| epoch   2 |   100/  790 batches | rec 52.23, adv 0.68, |lvar| 193.69, loss_d 1.43, loss 59.01,\n",
      "| epoch   2 |   200/  790 batches | rec 50.17, adv 0.66, |lvar| 243.93, loss_d 1.42, loss 56.81,\n",
      "| epoch   2 |   300/  790 batches | rec 46.20, adv 0.69, |lvar| 242.02, loss_d 1.40, loss 53.08,\n",
      "| epoch   2 |   400/  790 batches | rec 45.90, adv 0.70, |lvar| 249.27, loss_d 1.39, loss 52.85,\n",
      "| epoch   2 |   500/  790 batches | rec 48.70, adv 0.68, |lvar| 253.53, loss_d 1.39, loss 55.50,\n",
      "| epoch   2 |   600/  790 batches | rec 44.49, adv 0.70, |lvar| 252.18, loss_d 1.39, loss 51.49,\n",
      "| epoch   2 |   700/  790 batches | rec 45.74, adv 0.72, |lvar| 286.88, loss_d 1.40, loss 52.98,\n",
      "--------------------------------------------------------------------------------\n",
      "| end of epoch   2 | time   113s | valid rec 41.76, adv 0.72, |lvar| 340.60, loss_d 1.38, loss 48.92, | saving model\n",
      "--------------------------------------------------------------------------------\n",
      "| epoch   3 |   100/  790 batches | rec 41.34, adv 0.71, |lvar| 320.15, loss_d 1.38, loss 48.47,\n",
      "| epoch   3 |   200/  790 batches | rec 43.73, adv 0.70, |lvar| 357.95, loss_d 1.39, loss 50.69,\n",
      "| epoch   3 |   300/  790 batches | rec 42.10, adv 0.72, |lvar| 385.49, loss_d 1.40, loss 49.30,\n",
      "| epoch   3 |   400/  790 batches | rec 42.10, adv 0.70, |lvar| 430.12, loss_d 1.38, loss 49.08,\n",
      "| epoch   3 |   500/  790 batches | rec 40.45, adv 0.71, |lvar| 441.09, loss_d 1.41, loss 47.57,\n",
      "| epoch   3 |   600/  790 batches | rec 41.37, adv 0.69, |lvar| 471.60, loss_d 1.39, loss 48.30,\n",
      "| epoch   3 |   700/  790 batches | rec 41.29, adv 0.69, |lvar| 519.58, loss_d 1.41, loss 48.23,\n",
      "--------------------------------------------------------------------------------\n",
      "| end of epoch   3 | time   116s | valid rec 37.31, adv 0.68, |lvar| 574.89, loss_d 1.43, loss 44.14, | saving model\n",
      "--------------------------------------------------------------------------------\n",
      "| epoch   4 |   100/  790 batches | rec 37.80, adv 0.70, |lvar| 578.41, loss_d 1.41, loss 44.80,\n",
      "| epoch   4 |   200/  790 batches | rec 38.56, adv 0.70, |lvar| 592.78, loss_d 1.39, loss 45.55,\n",
      "| epoch   4 |   300/  790 batches | rec 39.70, adv 0.69, |lvar| 603.24, loss_d 1.39, loss 46.58,\n",
      "| epoch   4 |   400/  790 batches | rec 37.33, adv 0.69, |lvar| 626.04, loss_d 1.42, loss 44.22,\n",
      "| epoch   4 |   500/  790 batches | rec 34.17, adv 0.70, |lvar| 653.73, loss_d 1.39, loss 41.22,\n",
      "| epoch   4 |   600/  790 batches | rec 35.24, adv 0.69, |lvar| 665.88, loss_d 1.41, loss 42.18,\n",
      "| epoch   4 |   700/  790 batches | rec 33.41, adv 0.68, |lvar| 666.68, loss_d 1.41, loss 40.22,\n",
      "--------------------------------------------------------------------------------\n",
      "| end of epoch   4 | time   116s | valid rec 30.44, adv 0.72, |lvar| 702.85, loss_d 1.37, loss 37.64, | saving model\n",
      "--------------------------------------------------------------------------------\n",
      "| epoch   5 |   100/  790 batches | rec 32.08, adv 0.70, |lvar| 706.27, loss_d 1.40, loss 39.03,\n",
      "| epoch   5 |   200/  790 batches | rec 36.59, adv 0.69, |lvar| 732.29, loss_d 1.40, loss 43.53,\n",
      "| epoch   5 |   300/  790 batches | rec 34.58, adv 0.69, |lvar| 745.95, loss_d 1.41, loss 41.47,\n",
      "| epoch   5 |   400/  790 batches | rec 31.86, adv 0.68, |lvar| 759.06, loss_d 1.40, loss 38.71,\n",
      "| epoch   5 |   500/  790 batches | rec 32.40, adv 0.69, |lvar| 785.60, loss_d 1.40, loss 39.30,\n",
      "| epoch   5 |   600/  790 batches | rec 29.13, adv 0.69, |lvar| 771.20, loss_d 1.39, loss 36.04,\n",
      "| epoch   5 |   700/  790 batches | rec 31.22, adv 0.70, |lvar| 766.68, loss_d 1.39, loss 38.23,\n",
      "--------------------------------------------------------------------------------\n",
      "| end of epoch   5 | time   117s | valid rec 24.77, adv 0.63, |lvar| 787.74, loss_d 1.46, loss 31.08, | saving model\n",
      "--------------------------------------------------------------------------------\n",
      "| epoch   6 |   100/  790 batches | rec 28.84, adv 0.69, |lvar| 788.62, loss_d 1.40, loss 35.77,\n",
      "| epoch   6 |   200/  790 batches | rec 30.50, adv 0.69, |lvar| 812.93, loss_d 1.40, loss 37.43,\n",
      "| epoch   6 |   300/  790 batches | rec 31.98, adv 0.69, |lvar| 836.81, loss_d 1.39, loss 38.90,\n",
      "| epoch   6 |   400/  790 batches | rec 28.62, adv 0.70, |lvar| 829.66, loss_d 1.40, loss 35.58,\n",
      "| epoch   6 |   500/  790 batches | rec 29.83, adv 0.69, |lvar| 832.88, loss_d 1.39, loss 36.69,\n",
      "| epoch   6 |   600/  790 batches | rec 28.85, adv 0.70, |lvar| 825.33, loss_d 1.40, loss 35.82,\n",
      "| epoch   6 |   700/  790 batches | rec 28.46, adv 0.69, |lvar| 849.11, loss_d 1.40, loss 35.39,\n",
      "--------------------------------------------------------------------------------\n",
      "| end of epoch   6 | time   117s | valid rec 21.09, adv 0.67, |lvar| 917.61, loss_d 1.42, loss 27.74, | saving model\n",
      "--------------------------------------------------------------------------------\n",
      "| epoch   7 |   100/  790 batches | rec 29.24, adv 0.68, |lvar| 865.57, loss_d 1.41, loss 36.06,\n",
      "| epoch   7 |   200/  790 batches | rec 27.08, adv 0.69, |lvar| 860.24, loss_d 1.40, loss 33.97,\n",
      "| epoch   7 |   300/  790 batches | rec 26.90, adv 0.69, |lvar| 875.02, loss_d 1.39, loss 33.78,\n",
      "| epoch   7 |   400/  790 batches | rec 27.22, adv 0.69, |lvar| 875.22, loss_d 1.40, loss 34.17,\n",
      "| epoch   7 |   500/  790 batches | rec 26.55, adv 0.69, |lvar| 897.40, loss_d 1.40, loss 33.46,\n",
      "| epoch   7 |   600/  790 batches | rec 26.24, adv 0.69, |lvar| 878.07, loss_d 1.40, loss 33.13,\n",
      "| epoch   7 |   700/  790 batches | rec 27.01, adv 0.70, |lvar| 901.25, loss_d 1.39, loss 34.01,\n",
      "--------------------------------------------------------------------------------\n",
      "| end of epoch   7 | time   117s | valid rec 18.30, adv 0.61, |lvar| 899.35, loss_d 1.48, loss 24.40, | saving model\n",
      "--------------------------------------------------------------------------------\n",
      "| epoch   8 |   100/  790 batches | rec 24.28, adv 0.69, |lvar| 895.09, loss_d 1.40, loss 31.15,\n",
      "| epoch   8 |   200/  790 batches | rec 23.59, adv 0.70, |lvar| 905.66, loss_d 1.40, loss 30.55,\n",
      "| epoch   8 |   300/  790 batches | rec 26.14, adv 0.69, |lvar| 931.02, loss_d 1.40, loss 33.03,\n",
      "| epoch   8 |   400/  790 batches | rec 24.51, adv 0.69, |lvar| 911.00, loss_d 1.39, loss 31.40,\n",
      "| epoch   8 |   500/  790 batches | rec 25.17, adv 0.69, |lvar| 920.57, loss_d 1.40, loss 32.08,\n",
      "| epoch   8 |   600/  790 batches | rec 25.55, adv 0.69, |lvar| 930.32, loss_d 1.40, loss 32.47,\n",
      "| epoch   8 |   700/  790 batches | rec 25.72, adv 0.69, |lvar| 945.16, loss_d 1.39, loss 32.65,\n",
      "--------------------------------------------------------------------------------\n",
      "| end of epoch   8 | time   117s | valid rec 15.14, adv 0.67, |lvar| 986.23, loss_d 1.42, loss 21.83, | saving model\n",
      "--------------------------------------------------------------------------------\n",
      "| epoch   9 |   100/  790 batches | rec 23.27, adv 0.69, |lvar| 939.97, loss_d 1.39, loss 30.18,\n",
      "| epoch   9 |   200/  790 batches | rec 22.89, adv 0.70, |lvar| 929.80, loss_d 1.39, loss 29.90,\n",
      "| epoch   9 |   300/  790 batches | rec 24.15, adv 0.70, |lvar| 922.12, loss_d 1.40, loss 31.13,\n",
      "| epoch   9 |   400/  790 batches | rec 22.27, adv 0.69, |lvar| 949.74, loss_d 1.39, loss 29.16,\n",
      "| epoch   9 |   500/  790 batches | rec 25.23, adv 0.70, |lvar| 964.55, loss_d 1.41, loss 32.22,\n",
      "| epoch   9 |   600/  790 batches | rec 23.71, adv 0.68, |lvar| 959.48, loss_d 1.40, loss 30.55,\n",
      "| epoch   9 |   700/  790 batches | rec 23.04, adv 0.69, |lvar| 959.72, loss_d 1.39, loss 29.96,\n",
      "--------------------------------------------------------------------------------\n",
      "| end of epoch   9 | time   117s | valid rec 13.24, adv 0.68, |lvar| 1016.96, loss_d 1.40, loss 20.05, | saving model\n",
      "--------------------------------------------------------------------------------\n",
      "| epoch  10 |   100/  790 batches | rec 21.71, adv 0.69, |lvar| 953.79, loss_d 1.40, loss 28.66,\n",
      "| epoch  10 |   200/  790 batches | rec 22.27, adv 0.69, |lvar| 980.24, loss_d 1.39, loss 29.16,\n",
      "| epoch  10 |   300/  790 batches | rec 21.35, adv 0.69, |lvar| 979.13, loss_d 1.40, loss 28.29,\n",
      "| epoch  10 |   400/  790 batches | rec 23.09, adv 0.70, |lvar| 990.48, loss_d 1.40, loss 30.04,\n",
      "| epoch  10 |   500/  790 batches | rec 22.33, adv 0.69, |lvar| 993.04, loss_d 1.40, loss 29.24,\n",
      "| epoch  10 |   600/  790 batches | rec 21.74, adv 0.70, |lvar| 995.31, loss_d 1.40, loss 28.71,\n",
      "| epoch  10 |   700/  790 batches | rec 20.22, adv 0.69, |lvar| 995.65, loss_d 1.40, loss 27.14,\n",
      "--------------------------------------------------------------------------------\n",
      "| end of epoch  10 | time   117s | valid rec 11.58, adv 0.71, |lvar| 1077.33, loss_d 1.36, loss 18.72, | saving model\n",
      "--------------------------------------------------------------------------------\n",
      "| epoch  11 |   100/  790 batches | rec 20.53, adv 0.69, |lvar| 1014.83, loss_d 1.40, loss 27.43,\n",
      "| epoch  11 |   200/  790 batches | rec 18.80, adv 0.70, |lvar| 982.87, loss_d 1.40, loss 25.76,\n",
      "| epoch  11 |   300/  790 batches | rec 20.57, adv 0.68, |lvar| 1018.79, loss_d 1.40, loss 27.41,\n",
      "| epoch  11 |   400/  790 batches | rec 23.10, adv 0.70, |lvar| 1030.56, loss_d 1.39, loss 30.07,\n",
      "| epoch  11 |   500/  790 batches | rec 21.04, adv 0.70, |lvar| 1023.06, loss_d 1.39, loss 27.99,\n",
      "| epoch  11 |   600/  790 batches | rec 21.03, adv 0.70, |lvar| 1015.36, loss_d 1.40, loss 28.00,\n",
      "| epoch  11 |   700/  790 batches | rec 21.34, adv 0.69, |lvar| 1015.47, loss_d 1.39, loss 28.21,\n",
      "--------------------------------------------------------------------------------\n",
      "| end of epoch  11 | time   117s | valid rec 10.54, adv 0.67, |lvar| 1123.59, loss_d 1.41, loss 17.28, | saving model\n",
      "--------------------------------------------------------------------------------\n",
      "| epoch  12 |   100/  790 batches | rec 20.39, adv 0.69, |lvar| 1042.20, loss_d 1.40, loss 27.30,\n",
      "| epoch  12 |   200/  790 batches | rec 21.05, adv 0.68, |lvar| 1053.35, loss_d 1.39, loss 27.89,\n",
      "| epoch  12 |   300/  790 batches | rec 18.81, adv 0.70, |lvar| 1025.19, loss_d 1.40, loss 25.83,\n",
      "| epoch  12 |   400/  790 batches | rec 22.62, adv 0.69, |lvar| 1053.87, loss_d 1.40, loss 29.51,\n",
      "| epoch  12 |   500/  790 batches | rec 19.38, adv 0.69, |lvar| 1040.44, loss_d 1.39, loss 26.31,\n",
      "| epoch  12 |   600/  790 batches | rec 18.29, adv 0.70, |lvar| 1037.86, loss_d 1.40, loss 25.26,\n",
      "| epoch  12 |   700/  790 batches | rec 19.55, adv 0.69, |lvar| 1028.12, loss_d 1.40, loss 26.47,\n",
      "--------------------------------------------------------------------------------\n",
      "| end of epoch  12 | time   117s | valid rec 9.68, adv 0.69, |lvar| 1126.53, loss_d 1.40, loss 16.60, | saving model\n",
      "--------------------------------------------------------------------------------\n",
      "| epoch  13 |   100/  790 batches | rec 18.88, adv 0.70, |lvar| 1052.31, loss_d 1.39, loss 25.83,\n",
      "| epoch  13 |   200/  790 batches | rec 18.34, adv 0.69, |lvar| 1047.16, loss_d 1.40, loss 25.22,\n",
      "| epoch  13 |   300/  790 batches | rec 18.19, adv 0.70, |lvar| 1037.11, loss_d 1.40, loss 25.21,\n",
      "| epoch  13 |   400/  790 batches | rec 21.49, adv 0.69, |lvar| 1056.77, loss_d 1.40, loss 28.35,\n",
      "| epoch  13 |   500/  790 batches | rec 18.94, adv 0.69, |lvar| 1045.14, loss_d 1.39, loss 25.84,\n",
      "| epoch  13 |   600/  790 batches | rec 17.89, adv 0.71, |lvar| 1050.69, loss_d 1.39, loss 24.96,\n",
      "| epoch  13 |   700/  790 batches | rec 20.22, adv 0.68, |lvar| 1074.84, loss_d 1.40, loss 27.06,\n",
      "--------------------------------------------------------------------------------\n",
      "| end of epoch  13 | time   117s | valid rec 8.84, adv 0.71, |lvar| 1151.13, loss_d 1.40, loss 15.99, | saving model\n",
      "--------------------------------------------------------------------------------\n",
      "| epoch  14 |   100/  790 batches | rec 17.50, adv 0.69, |lvar| 1070.23, loss_d 1.39, loss 24.44,\n",
      "| epoch  14 |   200/  790 batches | rec 18.10, adv 0.70, |lvar| 1074.21, loss_d 1.39, loss 25.05,\n",
      "| epoch  14 |   300/  790 batches | rec 17.56, adv 0.70, |lvar| 1069.27, loss_d 1.40, loss 24.58,\n",
      "| epoch  14 |   400/  790 batches | rec 18.18, adv 0.69, |lvar| 1073.46, loss_d 1.39, loss 25.10,\n",
      "| epoch  14 |   500/  790 batches | rec 18.47, adv 0.70, |lvar| 1064.16, loss_d 1.40, loss 25.45,\n",
      "| epoch  14 |   600/  790 batches | rec 19.58, adv 0.69, |lvar| 1078.23, loss_d 1.39, loss 26.49,\n",
      "| epoch  14 |   700/  790 batches | rec 19.97, adv 0.70, |lvar| 1090.09, loss_d 1.40, loss 26.92,\n",
      "--------------------------------------------------------------------------------\n",
      "| end of epoch  14 | time   117s | valid rec 8.96, adv 0.68, |lvar| 1164.92, loss_d 1.42, loss 15.80, | saving model\n",
      "--------------------------------------------------------------------------------\n",
      "| epoch  15 |   100/  790 batches | rec 19.31, adv 0.69, |lvar| 1099.62, loss_d 1.39, loss 26.17,\n",
      "| epoch  15 |   200/  790 batches | rec 17.16, adv 0.70, |lvar| 1105.94, loss_d 1.39, loss 24.17,\n",
      "| epoch  15 |   300/  790 batches | rec 18.28, adv 0.69, |lvar| 1110.65, loss_d 1.40, loss 25.17,\n",
      "| epoch  15 |   400/  790 batches | rec 17.68, adv 0.69, |lvar| 1098.25, loss_d 1.39, loss 24.61,\n",
      "| epoch  15 |   500/  790 batches | rec 16.87, adv 0.70, |lvar| 1094.54, loss_d 1.39, loss 23.87,\n",
      "| epoch  15 |   600/  790 batches | rec 18.12, adv 0.69, |lvar| 1097.11, loss_d 1.39, loss 25.02,\n",
      "| epoch  15 |   700/  790 batches | rec 17.94, adv 0.70, |lvar| 1090.42, loss_d 1.39, loss 24.92,\n",
      "--------------------------------------------------------------------------------\n",
      "| end of epoch  15 | time   117s | valid rec 7.41, adv 0.66, |lvar| 1194.64, loss_d 1.42, loss 13.98, | saving model\n",
      "--------------------------------------------------------------------------------\n",
      "| epoch  16 |   100/  790 batches | rec 16.12, adv 0.70, |lvar| 1100.89, loss_d 1.39, loss 23.09,\n",
      "| epoch  16 |   200/  790 batches | rec 18.66, adv 0.69, |lvar| 1113.82, loss_d 1.40, loss 25.60,\n",
      "| epoch  16 |   300/  790 batches | rec 16.78, adv 0.69, |lvar| 1089.97, loss_d 1.39, loss 23.71,\n",
      "| epoch  16 |   400/  790 batches | rec 18.95, adv 0.69, |lvar| 1134.48, loss_d 1.39, loss 25.89,\n",
      "| epoch  16 |   500/  790 batches | rec 16.80, adv 0.69, |lvar| 1099.92, loss_d 1.38, loss 23.71,\n",
      "| epoch  16 |   600/  790 batches | rec 18.28, adv 0.70, |lvar| 1103.60, loss_d 1.39, loss 25.25,\n",
      "| epoch  16 |   700/  790 batches | rec 16.28, adv 0.69, |lvar| 1102.86, loss_d 1.40, loss 23.22,\n",
      "--------------------------------------------------------------------------------\n",
      "| end of epoch  16 | time   117s | valid rec 7.39, adv 0.65, |lvar| 1206.63, loss_d 1.44, loss 13.85, | saving model\n",
      "--------------------------------------------------------------------------------\n",
      "| epoch  17 |   100/  790 batches | rec 16.41, adv 0.69, |lvar| 1103.86, loss_d 1.39, loss 23.35,\n",
      "| epoch  17 |   200/  790 batches | rec 16.01, adv 0.69, |lvar| 1119.21, loss_d 1.39, loss 22.95,\n",
      "| epoch  17 |   300/  790 batches | rec 18.12, adv 0.69, |lvar| 1122.81, loss_d 1.39, loss 25.00,\n",
      "| epoch  17 |   400/  790 batches | rec 17.01, adv 0.70, |lvar| 1114.16, loss_d 1.39, loss 24.03,\n",
      "| epoch  17 |   500/  790 batches | rec 17.23, adv 0.69, |lvar| 1110.68, loss_d 1.39, loss 24.11,\n",
      "| epoch  17 |   600/  790 batches | rec 16.85, adv 0.70, |lvar| 1114.49, loss_d 1.39, loss 23.84,\n",
      "| epoch  17 |   700/  790 batches | rec 16.66, adv 0.69, |lvar| 1123.05, loss_d 1.39, loss 23.58,\n",
      "--------------------------------------------------------------------------------\n",
      "| end of epoch  17 | time   116s | valid rec 7.17, adv 0.70, |lvar| 1245.95, loss_d 1.37, loss 14.16,\n",
      "--------------------------------------------------------------------------------\n",
      "| epoch  18 |   100/  790 batches | rec 17.44, adv 0.71, |lvar| 1136.05, loss_d 1.40, loss 24.51,\n",
      "| epoch  18 |   200/  790 batches | rec 16.82, adv 0.70, |lvar| 1137.40, loss_d 1.39, loss 23.86,\n",
      "| epoch  18 |   300/  790 batches | rec 17.52, adv 0.68, |lvar| 1123.77, loss_d 1.39, loss 24.30,\n",
      "| epoch  18 |   400/  790 batches | rec 15.30, adv 0.70, |lvar| 1110.57, loss_d 1.38, loss 22.33,\n",
      "| epoch  18 |   500/  790 batches | rec 16.50, adv 0.69, |lvar| 1126.99, loss_d 1.39, loss 23.40,\n",
      "| epoch  18 |   600/  790 batches | rec 16.52, adv 0.69, |lvar| 1137.18, loss_d 1.39, loss 23.46,\n",
      "| epoch  18 |   700/  790 batches | rec 15.72, adv 0.70, |lvar| 1134.46, loss_d 1.39, loss 22.67,\n",
      "--------------------------------------------------------------------------------\n",
      "| end of epoch  18 | time   116s | valid rec 6.59, adv 0.67, |lvar| 1230.58, loss_d 1.41, loss 13.27, | saving model\n",
      "--------------------------------------------------------------------------------\n",
      "| epoch  19 |   100/  790 batches | rec 16.26, adv 0.69, |lvar| 1145.20, loss_d 1.39, loss 23.21,\n",
      "| epoch  19 |   200/  790 batches | rec 16.57, adv 0.68, |lvar| 1154.73, loss_d 1.39, loss 23.40,\n",
      "| epoch  19 |   300/  790 batches | rec 15.64, adv 0.70, |lvar| 1129.59, loss_d 1.39, loss 22.60,\n",
      "| epoch  19 |   400/  790 batches | rec 16.91, adv 0.70, |lvar| 1148.80, loss_d 1.40, loss 23.87,\n",
      "| epoch  19 |   500/  790 batches | rec 16.47, adv 0.69, |lvar| 1134.61, loss_d 1.39, loss 23.41,\n",
      "| epoch  19 |   600/  790 batches | rec 15.78, adv 0.69, |lvar| 1128.19, loss_d 1.39, loss 22.71,\n",
      "| epoch  19 |   700/  790 batches | rec 15.99, adv 0.69, |lvar| 1157.17, loss_d 1.39, loss 22.92,\n",
      "--------------------------------------------------------------------------------\n",
      "| end of epoch  19 | time   116s | valid rec 6.05, adv 0.66, |lvar| 1243.09, loss_d 1.42, loss 12.69, | saving model\n",
      "--------------------------------------------------------------------------------\n",
      "| epoch  20 |   100/  790 batches | rec 15.77, adv 0.69, |lvar| 1164.34, loss_d 1.39, loss 22.69,\n",
      "| epoch  20 |   200/  790 batches | rec 17.16, adv 0.69, |lvar| 1167.28, loss_d 1.39, loss 24.06,\n",
      "| epoch  20 |   300/  790 batches | rec 15.93, adv 0.70, |lvar| 1173.16, loss_d 1.39, loss 22.94,\n",
      "| epoch  20 |   400/  790 batches | rec 14.38, adv 0.69, |lvar| 1145.73, loss_d 1.39, loss 21.32,\n",
      "| epoch  20 |   500/  790 batches | rec 16.45, adv 0.69, |lvar| 1179.02, loss_d 1.39, loss 23.38,\n",
      "| epoch  20 |   600/  790 batches | rec 17.78, adv 0.70, |lvar| 1185.55, loss_d 1.39, loss 24.75,\n",
      "| epoch  20 |   700/  790 batches | rec 15.22, adv 0.69, |lvar| 1156.06, loss_d 1.39, loss 22.11,\n",
      "--------------------------------------------------------------------------------\n",
      "| end of epoch  20 | time   117s | valid rec 5.65, adv 0.69, |lvar| 1285.47, loss_d 1.40, loss 12.56, | saving model\n",
      "--------------------------------------------------------------------------------\n",
      "| epoch  21 |   100/  790 batches | rec 14.77, adv 0.70, |lvar| 1155.83, loss_d 1.39, loss 21.72,\n",
      "| epoch  21 |   200/  790 batches | rec 15.24, adv 0.70, |lvar| 1183.53, loss_d 1.39, loss 22.20,\n",
      "| epoch  21 |   300/  790 batches | rec 14.14, adv 0.70, |lvar| 1156.57, loss_d 1.39, loss 21.12,\n",
      "| epoch  21 |   400/  790 batches | rec 16.11, adv 0.69, |lvar| 1182.08, loss_d 1.39, loss 23.04,\n",
      "| epoch  21 |   500/  790 batches | rec 16.90, adv 0.70, |lvar| 1166.74, loss_d 1.39, loss 23.87,\n",
      "| epoch  21 |   600/  790 batches | rec 17.07, adv 0.70, |lvar| 1183.29, loss_d 1.38, loss 24.04,\n",
      "| epoch  21 |   700/  790 batches | rec 15.80, adv 0.70, |lvar| 1164.53, loss_d 1.39, loss 22.81,\n",
      "--------------------------------------------------------------------------------\n",
      "| end of epoch  21 | time   117s | valid rec 5.49, adv 0.72, |lvar| 1315.06, loss_d 1.37, loss 12.72,\n",
      "--------------------------------------------------------------------------------\n",
      "| epoch  22 |   100/  790 batches | rec 14.63, adv 0.69, |lvar| 1163.92, loss_d 1.38, loss 21.56,\n",
      "| epoch  22 |   200/  790 batches | rec 16.08, adv 0.70, |lvar| 1180.48, loss_d 1.39, loss 23.07,\n",
      "| epoch  22 |   300/  790 batches | rec 15.71, adv 0.69, |lvar| 1182.52, loss_d 1.39, loss 22.66,\n",
      "| epoch  22 |   400/  790 batches | rec 14.63, adv 0.70, |lvar| 1165.36, loss_d 1.39, loss 21.59,\n",
      "| epoch  22 |   500/  790 batches | rec 16.86, adv 0.69, |lvar| 1190.17, loss_d 1.39, loss 23.75,\n",
      "| epoch  22 |   600/  790 batches | rec 14.78, adv 0.70, |lvar| 1161.54, loss_d 1.38, loss 21.82,\n",
      "| epoch  22 |   700/  790 batches | rec 16.07, adv 0.69, |lvar| 1177.16, loss_d 1.39, loss 22.98,\n",
      "--------------------------------------------------------------------------------\n",
      "| end of epoch  22 | time   116s | valid rec 5.53, adv 0.68, |lvar| 1285.32, loss_d 1.41, loss 12.30, | saving model\n",
      "--------------------------------------------------------------------------------\n",
      "| epoch  23 |   100/  790 batches | rec 14.93, adv 0.69, |lvar| 1165.13, loss_d 1.39, loss 21.88,\n",
      "| epoch  23 |   200/  790 batches | rec 14.49, adv 0.70, |lvar| 1178.22, loss_d 1.38, loss 21.46,\n",
      "| epoch  23 |   300/  790 batches | rec 14.83, adv 0.70, |lvar| 1178.25, loss_d 1.39, loss 21.79,\n",
      "| epoch  23 |   400/  790 batches | rec 15.21, adv 0.69, |lvar| 1193.13, loss_d 1.39, loss 22.16,\n",
      "| epoch  23 |   500/  790 batches | rec 16.65, adv 0.70, |lvar| 1210.04, loss_d 1.39, loss 23.61,\n",
      "| epoch  23 |   600/  790 batches | rec 16.17, adv 0.70, |lvar| 1184.62, loss_d 1.39, loss 23.16,\n",
      "| epoch  23 |   700/  790 batches | rec 14.67, adv 0.70, |lvar| 1192.78, loss_d 1.38, loss 21.62,\n",
      "--------------------------------------------------------------------------------\n",
      "| end of epoch  23 | time   116s | valid rec 5.18, adv 0.64, |lvar| 1331.37, loss_d 1.43, loss 11.57, | saving model\n",
      "--------------------------------------------------------------------------------\n",
      "| epoch  24 |   100/  790 batches | rec 15.83, adv 0.71, |lvar| 1157.77, loss_d 1.38, loss 22.88,\n",
      "| epoch  24 |   200/  790 batches | rec 15.90, adv 0.69, |lvar| 1141.37, loss_d 1.38, loss 22.77,\n",
      "| epoch  24 |   300/  790 batches | rec 14.59, adv 0.70, |lvar| 1152.02, loss_d 1.38, loss 21.63,\n",
      "| epoch  24 |   400/  790 batches | rec 14.87, adv 0.71, |lvar| 1163.89, loss_d 1.38, loss 21.93,\n",
      "| epoch  24 |   500/  790 batches | rec 15.52, adv 0.70, |lvar| 1180.49, loss_d 1.38, loss 22.52,\n",
      "| epoch  24 |   600/  790 batches | rec 16.44, adv 0.70, |lvar| 1187.19, loss_d 1.38, loss 23.40,\n",
      "| epoch  24 |   700/  790 batches | rec 15.39, adv 0.70, |lvar| 1176.64, loss_d 1.39, loss 22.39,\n",
      "--------------------------------------------------------------------------------\n",
      "| end of epoch  24 | time   117s | valid rec 5.18, adv 0.71, |lvar| 1317.07, loss_d 1.40, loss 12.29,\n",
      "--------------------------------------------------------------------------------\n",
      "| epoch  25 |   100/  790 batches | rec 16.09, adv 0.70, |lvar| 1182.39, loss_d 1.38, loss 23.04,\n",
      "| epoch  25 |   200/  790 batches | rec 15.28, adv 0.70, |lvar| 1198.63, loss_d 1.39, loss 22.28,\n",
      "| epoch  25 |   300/  790 batches | rec 15.05, adv 0.71, |lvar| 1207.02, loss_d 1.38, loss 22.10,\n",
      "| epoch  25 |   400/  790 batches | rec 14.33, adv 0.69, |lvar| 1186.76, loss_d 1.39, loss 21.28,\n",
      "| epoch  25 |   500/  790 batches | rec 15.29, adv 0.70, |lvar| 1200.70, loss_d 1.39, loss 22.31,\n",
      "| epoch  25 |   600/  790 batches | rec 14.54, adv 0.70, |lvar| 1191.40, loss_d 1.39, loss 21.50,\n",
      "| epoch  25 |   700/  790 batches | rec 14.91, adv 0.70, |lvar| 1207.75, loss_d 1.39, loss 21.89,\n",
      "--------------------------------------------------------------------------------\n",
      "| end of epoch  25 | time   117s | valid rec 5.55, adv 0.70, |lvar| 1372.06, loss_d 1.39, loss 12.52,\n",
      "--------------------------------------------------------------------------------\n",
      "| epoch  26 |   100/  790 batches | rec 14.78, adv 0.70, |lvar| 1208.13, loss_d 1.39, loss 21.74,\n",
      "| epoch  26 |   200/  790 batches | rec 13.91, adv 0.70, |lvar| 1191.07, loss_d 1.39, loss 20.92,\n",
      "| epoch  26 |   300/  790 batches | rec 13.86, adv 0.70, |lvar| 1197.32, loss_d 1.39, loss 20.87,\n",
      "| epoch  26 |   400/  790 batches | rec 15.63, adv 0.69, |lvar| 1199.40, loss_d 1.38, loss 22.52,\n",
      "| epoch  26 |   500/  790 batches | rec 13.92, adv 0.71, |lvar| 1195.42, loss_d 1.38, loss 20.97,\n",
      "| epoch  26 |   600/  790 batches | rec 16.18, adv 0.70, |lvar| 1225.58, loss_d 1.38, loss 23.16,\n",
      "| epoch  26 |   700/  790 batches | rec 16.21, adv 0.70, |lvar| 1224.87, loss_d 1.38, loss 23.18,\n",
      "--------------------------------------------------------------------------------\n",
      "| end of epoch  26 | time   117s | valid rec 4.73, adv 0.70, |lvar| 1364.54, loss_d 1.38, loss 11.74,\n",
      "--------------------------------------------------------------------------------\n",
      "| epoch  27 |   100/  790 batches | rec 14.74, adv 0.70, |lvar| 1206.85, loss_d 1.39, loss 21.75,\n",
      "| epoch  27 |   200/  790 batches | rec 13.49, adv 0.70, |lvar| 1193.34, loss_d 1.39, loss 20.53,\n",
      "| epoch  27 |   300/  790 batches | rec 14.35, adv 0.70, |lvar| 1198.20, loss_d 1.39, loss 21.34,\n",
      "| epoch  27 |   400/  790 batches | rec 16.27, adv 0.69, |lvar| 1236.38, loss_d 1.38, loss 23.18,\n",
      "| epoch  27 |   500/  790 batches | rec 14.39, adv 0.70, |lvar| 1214.22, loss_d 1.39, loss 21.42,\n",
      "| epoch  27 |   600/  790 batches | rec 16.36, adv 0.69, |lvar| 1229.03, loss_d 1.39, loss 23.29,\n",
      "| epoch  27 |   700/  790 batches | rec 14.41, adv 0.70, |lvar| 1226.28, loss_d 1.39, loss 21.41,\n",
      "--------------------------------------------------------------------------------\n",
      "| end of epoch  27 | time   117s | valid rec 4.94, adv 0.66, |lvar| 1384.95, loss_d 1.43, loss 11.55, | saving model\n",
      "--------------------------------------------------------------------------------\n",
      "| epoch  28 |   100/  790 batches | rec 15.00, adv 0.70, |lvar| 1223.89, loss_d 1.39, loss 22.03,\n",
      "| epoch  28 |   200/  790 batches | rec 14.35, adv 0.70, |lvar| 1209.72, loss_d 1.38, loss 21.31,\n",
      "| epoch  28 |   300/  790 batches | rec 15.52, adv 0.70, |lvar| 1245.16, loss_d 1.39, loss 22.53,\n",
      "| epoch  28 |   400/  790 batches | rec 13.57, adv 0.69, |lvar| 1218.77, loss_d 1.39, loss 20.47,\n",
      "| epoch  28 |   500/  790 batches | rec 15.36, adv 0.70, |lvar| 1235.84, loss_d 1.38, loss 22.37,\n",
      "| epoch  28 |   600/  790 batches | rec 14.42, adv 0.70, |lvar| 1228.93, loss_d 1.39, loss 21.42,\n",
      "| epoch  28 |   700/  790 batches | rec 13.47, adv 0.70, |lvar| 1212.19, loss_d 1.39, loss 20.50,\n",
      "--------------------------------------------------------------------------------\n",
      "| end of epoch  28 | time   117s | valid rec 4.68, adv 0.68, |lvar| 1429.76, loss_d 1.40, loss 11.46, | saving model\n",
      "--------------------------------------------------------------------------------\n",
      "| epoch  29 |   100/  790 batches | rec 15.29, adv 0.70, |lvar| 1249.99, loss_d 1.39, loss 22.28,\n",
      "| epoch  29 |   200/  790 batches | rec 13.13, adv 0.70, |lvar| 1236.56, loss_d 1.39, loss 20.16,\n",
      "| epoch  29 |   300/  790 batches | rec 15.03, adv 0.70, |lvar| 1252.01, loss_d 1.39, loss 22.02,\n",
      "| epoch  29 |   400/  790 batches | rec 14.94, adv 0.69, |lvar| 1263.35, loss_d 1.38, loss 21.85,\n",
      "| epoch  29 |   500/  790 batches | rec 13.93, adv 0.70, |lvar| 1248.54, loss_d 1.38, loss 20.94,\n",
      "| epoch  29 |   600/  790 batches | rec 13.11, adv 0.70, |lvar| 1190.58, loss_d 1.39, loss 20.13,\n",
      "| epoch  29 |   700/  790 batches | rec 14.22, adv 0.70, |lvar| 1236.23, loss_d 1.39, loss 21.19,\n",
      "--------------------------------------------------------------------------------\n",
      "| end of epoch  29 | time   117s | valid rec 4.56, adv 0.69, |lvar| 1405.63, loss_d 1.39, loss 11.47,\n",
      "--------------------------------------------------------------------------------\n",
      "| epoch  30 |   100/  790 batches | rec 12.55, adv 0.70, |lvar| 1231.61, loss_d 1.39, loss 19.60,\n",
      "| epoch  30 |   200/  790 batches | rec 15.15, adv 0.69, |lvar| 1261.56, loss_d 1.39, loss 22.04,\n",
      "| epoch  30 |   300/  790 batches | rec 14.61, adv 0.71, |lvar| 1262.45, loss_d 1.39, loss 21.69,\n",
      "| epoch  30 |   400/  790 batches | rec 15.11, adv 0.69, |lvar| 1252.17, loss_d 1.38, loss 22.04,\n",
      "| epoch  30 |   500/  790 batches | rec 15.16, adv 0.70, |lvar| 1267.43, loss_d 1.38, loss 22.19,\n",
      "| epoch  30 |   600/  790 batches | rec 14.69, adv 0.70, |lvar| 1245.33, loss_d 1.38, loss 21.71,\n",
      "| epoch  30 |   700/  790 batches | rec 13.59, adv 0.69, |lvar| 1231.06, loss_d 1.39, loss 20.53,\n",
      "--------------------------------------------------------------------------------\n",
      "| end of epoch  30 | time   117s | valid rec 4.62, adv 0.70, |lvar| 1419.41, loss_d 1.39, loss 11.63,\n",
      "Done training\n"
     ],
     "name": "stdout"
    }
   ]
  },
  {
   "cell_type": "code",
   "metadata": {
    "colab": {
     "base_uri": "https://localhost:8080/"
    },
    "id": "MlK_CCuVuoLD",
    "outputId": "0ee9b4c5-40a6-45a3-976f-b248827895e6"
   },
   "source": [
    "!zip -r /content/text-autoencoders/checkpoints.zip /content/text-autoencoders/checkpoints/"
   ],
   "execution_count": 7,
   "outputs": [
    {
     "output_type": "stream",
     "text": [
      "  adding: content/text-autoencoders/checkpoints/ (stored 0%)\n",
      "  adding: content/text-autoencoders/checkpoints/yelp/ (stored 0%)\n",
      "  adding: content/text-autoencoders/checkpoints/yelp/daae/ (stored 0%)\n",
      "  adding: content/text-autoencoders/checkpoints/yelp/daae/model.pt (deflated 7%)\n",
      "  adding: content/text-autoencoders/checkpoints/yelp/daae/vocab.txt (deflated 55%)\n",
      "  adding: content/text-autoencoders/checkpoints/yelp/daae/log.txt (deflated 85%)\n"
     ],
     "name": "stdout"
    }
   ]
  },
  {
   "cell_type": "code",
   "metadata": {
    "id": "mKQqSoV_vEDh"
   },
   "source": [
    "!cp /content/text-autoencoders/checkpoints.zip /content/drive/MyDrive/checkpoints"
   ],
   "execution_count": 9,
   "outputs": []
  }
 ]
}