{
 "cells": [
  {
   "cell_type": "code",
   "execution_count": 5,
   "metadata": {},
   "outputs": [],
   "source": [
    "try:\n",
    "    import probml_utils as pml\n",
    "except ModuleNotFoundError:\n",
    "    %pip install -qq git+https://github.com/probml/probml-utils.git\n",
    "    import probml_utils as pml"
   ]
  },
  {
   "cell_type": "code",
   "execution_count": null,
   "metadata": {},
   "outputs": [],
   "source": [
    "from probml_utils.dp_mixgauss_utils import dp_mixgauss_sample, NormalInverseWishart"
   ]
  },
  {
   "cell_type": "code",
   "execution_count": 2,
   "metadata": {},
   "outputs": [],
   "source": [
    "import jax.numpy as jnp\n",
    "from jax import random, vmap\n",
    "from scipy.linalg import sqrtm\n",
    "import matplotlib.pyplot as plt"
   ]
  },
  {
   "cell_type": "code",
   "execution_count": null,
   "metadata": {},
   "outputs": [],
   "source": [
    "# Example\n",
    "dim = 2\n",
    "# Set the hyperparameter for the NIW distribution\n",
    "hyper_params = dict(loc=jnp.zeros(dim), mean_precision=0.05, df=dim + 5, scale=jnp.eye(dim))\n",
    "# Generate the NIW object\n",
    "dp_base_measure = NormalInverseWishart(**hyper_params)\n",
    "key = random.PRNGKey(0)\n",
    "num_of_samples = 1000\n",
    "dp_concentrations = jnp.array([1.0, 2.0])\n",
    "key, *subkeys = random.split(key, 3)\n",
    "# Sampling from the DP mixture distribution\n",
    "cluster_means, cluster_covs, samples = vmap(dp_mixgauss_sample, in_axes=(0, None, 0, None))(\n",
    "    jnp.array(subkeys), num_of_samples, dp_concentrations, dp_base_measure\n",
    ")\n",
    "\n",
    "bb = jnp.arange(0, 2 * jnp.pi, 0.02)\n",
    "sample_size = [50, 500, 1000]\n",
    "fig, axes = plt.subplots(3, 2)\n",
    "plt.setp(axes, xticks=[], yticks=[])\n",
    "for i in range(2):\n",
    "    cluster_mean = cluster_means[i]\n",
    "    cluster_cov = cluster_covs[i]\n",
    "    sample = samples[i]\n",
    "    for j in range(3):\n",
    "        s = sample_size[j]\n",
    "        # plotting samples\n",
    "        axes[j, i].plot(sample[:s, 0], sample[:s, 1], \".\", markersize=5)\n",
    "        # plotting covariance ellipses\n",
    "        mu_per_cluster, indices = jnp.unique(cluster_mean[:s], return_index=True, axis=0)\n",
    "        cov_per_cluster = cluster_cov[indices]\n",
    "        cov_root_per_cluster = jnp.array([sqrtm(cov) for cov in cov_per_cluster])\n",
    "        for mu, cov_root in zip(mu_per_cluster, cov_root_per_cluster):\n",
    "            mu = jnp.atleast_2d(mu).T\n",
    "            circ = mu.dot(jnp.ones((1, len(bb)))) + cov_root.dot(jnp.vstack([jnp.sin(bb), jnp.cos(bb)]))\n",
    "            axes[j, i].plot(circ[0, :], circ[1, :], linewidth=2, color=\"k\")\n",
    "plt.show()"
   ]
  }
 ],
 "metadata": {
  "interpreter": {
   "hash": "916dbcbb3f70747c44a77c7bcd40155683ae19c65e1c03b4aa3499c5328201f1"
  },
  "kernelspec": {
   "display_name": "Python 3.8.10 64-bit",
   "language": "python",
   "name": "python3"
  },
  "language_info": {
   "codemirror_mode": {
    "name": "ipython",
    "version": 3
   },
   "file_extension": ".py",
   "mimetype": "text/x-python",
   "name": "python",
   "nbconvert_exporter": "python",
   "pygments_lexer": "ipython3",
   "version": "3.8.10"
  },
  "orig_nbformat": 4
 },
 "nbformat": 4,
 "nbformat_minor": 2
}
