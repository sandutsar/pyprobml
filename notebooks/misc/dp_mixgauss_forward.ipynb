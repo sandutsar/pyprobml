{
 "cells": [
  {
   "cell_type": "code",
   "execution_count": null,
   "metadata": {},
   "outputs": [],
   "source": [
    "try:\n",
    "    import probml_utils as pml\n",
    "except ModuleNotFoundError:\n",
    "    %pip install -qq git+https://github.com/probml/probml-utils.git\n",
    "    import probml_utils as pml\n",
    "\n",
    "from pml.dp_mixgauss_utils import dp_mixture_simu\n",
    "from pml.multivariate_t_utils import NormalInverseWishart\n",
    "\n",
    "import numpy as np\n",
    "import jax.numpy as jnp\n",
    "from jax import random\n",
    "from jax.scipy.linalg import sqrtm\n",
    "import matplotlib.pyplot as plt"
   ]
  },
  {
   "cell_type": "code",
   "execution_count": null,
   "metadata": {},
   "outputs": [],
   "source": [
    "# Example\n",
    "dim = 2\n",
    "# Set the hyperparameter for the NIW distribution\n",
    "hyper_params = dict(loc=jnp.zeros(dim), mean_precision=0.05, df=dim + 5, scale=jnp.eye(dim))\n",
    "# Generate the NIW object\n",
    "niw = NormalInverseWishart(**hyper_params)\n",
    "\n",
    "# Plot\n",
    "N = 1000\n",
    "alpha = [1.0, 2.0]\n",
    "\n",
    "bb = np.arange(0, 2 * np.pi, 0.02)\n",
    "ss = [50, 500, 1000]\n",
    "fig, axes = plt.subplots(3, 2)\n",
    "plt.setp(axes, xticks=[], yticks=[])\n",
    "\n",
    "key = random.PRNGKey(3)\n",
    "for i in range(2):\n",
    "    Z, X, Mu, Sigma = dp_mixture_simu(N, alpha[i], niw, key)\n",
    "    Sig_root = jnp.array([sqrtm(sigma) for sigma in Sigma])\n",
    "    for j in range(3):\n",
    "        s = ss[j]\n",
    "        axes[j, i].plot(X[:s, 0], X[:s, 1], \".\", markersize=5)\n",
    "        for k in jnp.unique(Z[:s]):\n",
    "            sig_root = Sig_root[\n",
    "                k,\n",
    "            ]\n",
    "            mu = Mu[\n",
    "                [k],\n",
    "            ].T\n",
    "            circ = mu.dot(jnp.ones((1, len(bb)))) + sig_root.dot(jnp.vstack([jnp.sin(bb), jnp.cos(bb)]))\n",
    "            axes[j, i].plot(circ[0, :], circ[1, :], linewidth=2, color=\"k\")\n",
    "\n",
    "pml.savefig(\"dpmForwardKey%sN%s.pdf\" % (key, N))\n",
    "plt.show()"
   ]
  }
 ],
 "metadata": {
  "interpreter": {
   "hash": "916dbcbb3f70747c44a77c7bcd40155683ae19c65e1c03b4aa3499c5328201f1"
  },
  "kernelspec": {
   "display_name": "Python 3.8.10 64-bit",
   "language": "python",
   "name": "python3"
  },
  "language_info": {
   "name": "python",
   "version": "3.8.10"
  },
  "orig_nbformat": 4
 },
 "nbformat": 4,
 "nbformat_minor": 2
}
