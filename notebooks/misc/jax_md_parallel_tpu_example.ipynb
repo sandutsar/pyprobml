{
 "nbformat": 4,
 "nbformat_minor": 0,
 "metadata": {
  "accelerator": "TPU",
  "colab": {
   "name": "jax_md_parallel_tpu_example.ipynb",
   "provenance": []
  },
  "kernelspec": {
   "display_name": "Python 3",
   "name": "python3"
  },
  "language_info": {
   "name": "python"
  }
 },
 "cells": [
  {
   "cell_type": "markdown",
   "metadata": {
    "id": "gn_7TYq4nJ1y"
   },
   "source": [
    "# Parallel simulation of a bubble raft\n",
    "**Important**: This code also works on multi-host TPU setup without any changes !! The key thing to do with a multi-host TPU setup is to ssh the file and run it on all the host at the same time. In order to do that please refer to this [notebook](https://github.com/probml/probml-notebooks/blob/main/notebooks/tpu_colab_tutorial.ipynb)."
   ]
  },
  {
   "cell_type": "markdown",
   "metadata": {
    "id": "0_YmOEQHmdYp"
   },
   "source": [
    "This notebook is based on the first example from the [JAX MD cookbook](https://colab.research.google.com/github/google/jax-md/blob/master/notebooks/jax_md_cookbook.ipynb) i.e the simulating bubble raft example ![alt text](https://upload.wikimedia.org/wikipedia/commons/8/89/Bubblerraft2.jpg)"
   ]
  },
  {
   "cell_type": "markdown",
   "metadata": {
    "id": "TLcqQSFtUwKT"
   },
   "source": [
    " ## Installation"
   ]
  },
  {
   "cell_type": "code",
   "metadata": {
    "colab": {
     "base_uri": "https://localhost:8080/"
    },
    "id": "k1BbpnW5TnzC",
    "outputId": "06bced29-8e56-409f-b9fd-8bbdb9d69c3b"
   },
   "source": [
    "!pip install -q git+https://www.github.com/google/jax-md"
   ],
   "execution_count": 1,
   "outputs": [
    {
     "output_type": "stream",
     "text": [
      "\u001b[?25l\r\u001b[K     |█▏                              | 10 kB 21.7 MB/s eta 0:00:01\r\u001b[K     |██▎                             | 20 kB 27.7 MB/s eta 0:00:01\r\u001b[K     |███▌                            | 30 kB 16.1 MB/s eta 0:00:01\r\u001b[K     |████▋                           | 40 kB 11.8 MB/s eta 0:00:01\r\u001b[K     |█████▊                          | 51 kB 5.7 MB/s eta 0:00:01\r\u001b[K     |███████                         | 61 kB 6.1 MB/s eta 0:00:01\r\u001b[K     |████████                        | 71 kB 5.4 MB/s eta 0:00:01\r\u001b[K     |█████████▏                      | 81 kB 6.0 MB/s eta 0:00:01\r\u001b[K     |██████████▍                     | 92 kB 6.0 MB/s eta 0:00:01\r\u001b[K     |███████████▌                    | 102 kB 5.4 MB/s eta 0:00:01\r\u001b[K     |████████████▊                   | 112 kB 5.4 MB/s eta 0:00:01\r\u001b[K     |█████████████▉                  | 122 kB 5.4 MB/s eta 0:00:01\r\u001b[K     |███████████████                 | 133 kB 5.4 MB/s eta 0:00:01\r\u001b[K     |████████████████▏               | 143 kB 5.4 MB/s eta 0:00:01\r\u001b[K     |█████████████████▎              | 153 kB 5.4 MB/s eta 0:00:01\r\u001b[K     |██████████████████▍             | 163 kB 5.4 MB/s eta 0:00:01\r\u001b[K     |███████████████████▋            | 174 kB 5.4 MB/s eta 0:00:01\r\u001b[K     |████████████████████▊           | 184 kB 5.4 MB/s eta 0:00:01\r\u001b[K     |█████████████████████▉          | 194 kB 5.4 MB/s eta 0:00:01\r\u001b[K     |███████████████████████         | 204 kB 5.4 MB/s eta 0:00:01\r\u001b[K     |████████████████████████▏       | 215 kB 5.4 MB/s eta 0:00:01\r\u001b[K     |█████████████████████████▍      | 225 kB 5.4 MB/s eta 0:00:01\r\u001b[K     |██████████████████████████▌     | 235 kB 5.4 MB/s eta 0:00:01\r\u001b[K     |███████████████████████████▋    | 245 kB 5.4 MB/s eta 0:00:01\r\u001b[K     |████████████████████████████▉   | 256 kB 5.4 MB/s eta 0:00:01\r\u001b[K     |██████████████████████████████  | 266 kB 5.4 MB/s eta 0:00:01\r\u001b[K     |███████████████████████████████ | 276 kB 5.4 MB/s eta 0:00:01\r\u001b[K     |████████████████████████████████| 284 kB 5.4 MB/s \n",
      "\u001b[?25h  Building wheel for jax-md (setup.py) ... \u001b[?25l\u001b[?25hdone\n"
     ],
     "name": "stdout"
    }
   ]
  },
  {
   "cell_type": "code",
   "metadata": {
    "colab": {
     "base_uri": "https://localhost:8080/"
    },
    "id": "yd1MA81jeCL3",
    "outputId": "bde1b03e-2a29-4415-a645-c31f6fbf9598"
   },
   "source": [
    "import jax\n",
    "\n",
    "try:\n",
    "    import jax.tools.colab_tpu\n",
    "\n",
    "    jax.tools.colab_tpu.setup_tpu()\n",
    "except KeyError:\n",
    "    import os\n",
    "jax.devices()"
   ],
   "execution_count": 2,
   "outputs": [
    {
     "output_type": "execute_result",
     "data": {
      "text/plain": [
       "[TpuDevice(id=0, process_index=0, coords=(0,0,0), core_on_chip=0),\n",
       " TpuDevice(id=1, process_index=0, coords=(0,0,0), core_on_chip=1),\n",
       " TpuDevice(id=2, process_index=0, coords=(1,0,0), core_on_chip=0),\n",
       " TpuDevice(id=3, process_index=0, coords=(1,0,0), core_on_chip=1),\n",
       " TpuDevice(id=4, process_index=0, coords=(0,1,0), core_on_chip=0),\n",
       " TpuDevice(id=5, process_index=0, coords=(0,1,0), core_on_chip=1),\n",
       " TpuDevice(id=6, process_index=0, coords=(1,1,0), core_on_chip=0),\n",
       " TpuDevice(id=7, process_index=0, coords=(1,1,0), core_on_chip=1)]"
      ]
     },
     "metadata": {
      "tags": []
     },
     "execution_count": 2
    }
   ]
  },
  {
   "cell_type": "code",
   "metadata": {
    "id": "D-VfDPa0TRuZ"
   },
   "source": [
    "import os\n",
    "import jax.numpy as np\n",
    "\n",
    "from jax import jit\n",
    "from jax import vmap, pmap\n",
    "import jax.numpy as jnp\n",
    "from jax import random\n",
    "from jax import lax\n",
    "\n",
    "\n",
    "from jax_md import space\n",
    "from jax_md import simulate\n",
    "from jax_md import energy\n",
    "\n",
    "os.environ[\"XLA_USE_32BIT_LONG\"] = \"1\""
   ],
   "execution_count": 3,
   "outputs": []
  },
  {
   "cell_type": "code",
   "metadata": {
    "colab": {
     "base_uri": "https://localhost:8080/"
    },
    "id": "dpv-UiZWidCo",
    "outputId": "b1f270db-2326-4d54-ecae-253f4a30cd45"
   },
   "source": [
    "jax.local_device_count()"
   ],
   "execution_count": 4,
   "outputs": [
    {
     "output_type": "execute_result",
     "data": {
      "text/plain": [
       "8"
      ]
     },
     "metadata": {
      "tags": []
     },
     "execution_count": 4
    }
   ]
  },
  {
   "cell_type": "markdown",
   "metadata": {
    "id": "w8r01QugUyU6"
   },
   "source": [
    "## Hyperparameters"
   ]
  },
  {
   "cell_type": "code",
   "metadata": {
    "id": "9wVq3mNdTiIl"
   },
   "source": [
    "f32 = np.float32\n",
    "ensemble_size = 1000\n",
    "nlocal = 8\n",
    "N = 32\n",
    "dt = 1e-1\n",
    "simulation_steps = np.arange(1000)\n",
    "key = random.PRNGKey(0)"
   ],
   "execution_count": 30,
   "outputs": []
  },
  {
   "cell_type": "markdown",
   "metadata": {
    "id": "TLztCRKBU0T0"
   },
   "source": [
    "## Defining the box and the energy function"
   ]
  },
  {
   "cell_type": "code",
   "metadata": {
    "id": "YUzPX3FPTt18"
   },
   "source": [
    "def box_size_at_number_density(particle_count, number_density):\n",
    "    return f32((particle_count / number_density) ** 0.5)\n",
    "\n",
    "\n",
    "box_size = box_size_at_number_density(particle_count=N, number_density=1)\n",
    "displacement, shift = space.periodic(box_size)\n",
    "energy_fun = energy.soft_sphere_pair(displacement)"
   ],
   "execution_count": 19,
   "outputs": []
  },
  {
   "cell_type": "markdown",
   "metadata": {
    "id": "ZvO5aX2FU446"
   },
   "source": [
    "## Defining the solution"
   ]
  },
  {
   "cell_type": "code",
   "metadata": {
    "id": "18Vj_izVTwUa"
   },
   "source": [
    "def simulation(key, temperature):\n",
    "    pos_key, sim_key = random.split(key)\n",
    "\n",
    "    R = random.uniform(pos_key, (N, 2), maxval=box_size)\n",
    "\n",
    "    init_fn, apply_fn = simulate.brownian(energy_fun, shift, dt, temperature)\n",
    "    state = init_fn(sim_key, R)\n",
    "\n",
    "    do_step = lambda state, t: (apply_fn(state, t=t), t)\n",
    "    state, _ = lax.scan(do_step, state, simulation_steps)\n",
    "    return state.position"
   ],
   "execution_count": 20,
   "outputs": []
  },
  {
   "cell_type": "markdown",
   "metadata": {
    "id": "rEi7woP6U7Q_"
   },
   "source": [
    "## Parallelsing the simulation"
   ]
  },
  {
   "cell_type": "code",
   "metadata": {
    "id": "jJ2UJkZCT0p2"
   },
   "source": [
    "vectorized_simulation = vmap(simulation, in_axes=(0, None))\n",
    "parallel_vectorized_simulation = pmap(vectorized_simulation, in_axes=(0, None))"
   ],
   "execution_count": 31,
   "outputs": []
  },
  {
   "cell_type": "code",
   "metadata": {
    "id": "A1yzxGoFUbOe"
   },
   "source": [
    "vectorized_energy = vmap(energy_fun)\n",
    "parallel_vectorized_energy = pmap(vectorized_energy)"
   ],
   "execution_count": 32,
   "outputs": []
  },
  {
   "cell_type": "markdown",
   "metadata": {
    "id": "8x5m4GiCVB1F"
   },
   "source": [
    "## Getting the random keys"
   ]
  },
  {
   "cell_type": "code",
   "metadata": {
    "id": "WXTSjQaSUBrC"
   },
   "source": [
    "simulation_keys_lst = []\n",
    "for i in range(nlocal):\n",
    "    key, *simulation_keys = random.split(key, ensemble_size + 1)\n",
    "    simulation_keys = jnp.stack(simulation_keys)\n",
    "    simulation_keys_lst.append(simulation_keys)\n",
    "simulation_keys = jnp.stack(simulation_keys_lst)"
   ],
   "execution_count": 33,
   "outputs": []
  },
  {
   "cell_type": "markdown",
   "metadata": {
    "id": "5PwlRUx3VETH"
   },
   "source": [
    "## Running the simulation"
   ]
  },
  {
   "cell_type": "code",
   "metadata": {
    "id": "bSLQye23UHM5",
    "colab": {
     "base_uri": "https://localhost:8080/"
    },
    "outputId": "2de80034-2443-4897-8e32-1a14c843238c"
   },
   "source": [
    "bubble_positions = parallel_vectorized_simulation(simulation_keys, 1e-5)\n",
    "bubble_energies = parallel_vectorized_energy(bubble_positions)"
   ],
   "execution_count": 34,
   "outputs": [
    {
     "output_type": "stream",
     "text": [
      "/usr/local/lib/python3.7/dist-packages/jax/_src/numpy/lax_numpy.py:2033: UserWarning: Explicitly requested dtype <class 'jax._src.numpy.lax_numpy.float64'> requested in sum is not available, and will be truncated to dtype float32. To enable more dtypes, set the jax_enable_x64 configuration option or the JAX_ENABLE_X64 shell environment variable. See https://github.com/google/jax#current-gotchas for more.\n",
      "  lax._check_user_dtype_supported(dtype, name)\n"
     ],
     "name": "stderr"
    }
   ]
  },
  {
   "cell_type": "code",
   "metadata": {
    "colab": {
     "base_uri": "https://localhost:8080/",
     "height": 291
    },
    "id": "_tmfwOr9lx5a",
    "outputId": "77d9f9bd-7f65-4f02-f2e6-b070dbddd9d5"
   },
   "source": [
    "import numpy as onp\n",
    "import matplotlib.pyplot as plt\n",
    "\n",
    "\n",
    "def format_plot(x, y):\n",
    "    plt.xlabel(x, fontsize=20)\n",
    "    plt.ylabel(y, fontsize=20)\n",
    "\n",
    "\n",
    "bubble_energies = jax.pmap(lambda x: jax.lax.all_gather(x, \"i\"), axis_name=\"i\")(bubble_energies)[0]\n",
    "counts, bins = onp.histogram(bubble_energies, bins=50)\n",
    "plt.plot(bins[:-1] * 10**5, counts, \"o\")\n",
    "format_plot(\"$E\\\\times 10 ^{-5}$\", \"$P(E)$\")\n",
    "plt.savefig(\"plot.png\")"
   ],
   "execution_count": 36,
   "outputs": [
    {
     "output_type": "display_data",
     "data": {
      "image/png": "[encoded data removed]",
      "text/plain": [
       "<Figure size 432x288 with 1 Axes>"
      ]
     },
     "metadata": {
      "tags": [],
      "needs_background": "light"
     }
    }
   ]
  },
  {
   "cell_type": "code",
   "metadata": {
    "id": "8sctHDSUlU6d"
   },
   "source": [
    ""
   ],
   "execution_count": null,
   "outputs": []
  }
 ]
}