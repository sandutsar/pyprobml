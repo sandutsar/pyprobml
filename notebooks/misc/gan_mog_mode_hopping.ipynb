{
 "nbformat": 4,
 "nbformat_minor": 0,
 "metadata": {
  "colab": {
   "name": "gan-mog-mode-hopping.ipynb",
   "provenance": [],
   "collapsed_sections": [],
   "include_colab_link": true
  },
  "kernelspec": {
   "display_name": "Python 3",
   "name": "python3"
  },
  "accelerator": "GPU"
 },
 "cells": [
  {
   "cell_type": "markdown",
   "metadata": {
    "id": "view-in-github",
    "colab_type": "text"
   },
   "source": [
    "<a href=\"https://colab.research.google.com/github/probml/probml-notebooks/blob/main/notebooks/gan_mog_mode_hopping.ipynb\" target=\"_parent\"><img src=\"https://colab.research.google.com/assets/colab-badge.svg\" alt=\"Open In Colab\"/></a>"
   ]
  },
  {
   "cell_type": "markdown",
   "metadata": {
    "id": "OYWMcJafmrfI"
   },
   "source": [
    "# Mixture of Gaussians example with GANs\n",
    "\n",
    "This code was adapted from the ODEGAN code here: \n",
    "https://github.com/deepmind/deepmind-research/blob/master/ode_gan/odegan_mog16.ipynb\n",
    "\n",
    "**The original colab was created by Chongli Qin**‎. Adapted by Mihaela Rosca.\n"
   ]
  },
  {
   "cell_type": "markdown",
   "metadata": {
    "id": "yAHjf0hcm8Az"
   },
   "source": [
    "# **This code implements GANs for Mixture of Gaussians.**\n",
    "\n",
    "It also provides an implementation of ODEGAN (Training Generative Adversarial Networks by Solving Ordinary Differential Equations by Qin et al.)\n",
    "\n",
    "The approach of ODE-GAN was mentioned in the book as using higer order integrators such as RungeKutta4."
   ]
  },
  {
   "cell_type": "code",
   "metadata": {
    "colab": {
     "base_uri": "https://localhost:8080/"
    },
    "id": "ibLjLVKasC4a",
    "outputId": "c29a7069-200e-4307-da27-54f177aa76d3"
   },
   "source": [
    "!pip install dm-haiku"
   ],
   "execution_count": null,
   "outputs": [
    {
     "output_type": "stream",
     "name": "stdout",
     "text": [
      "Collecting dm-haiku\n",
      "  Downloading dm_haiku-0.0.4-py3-none-any.whl (284 kB)\n",
      "\u001b[?25l\r\u001b[K     |█▏                              | 10 kB 22.5 MB/s eta 0:00:01\r\u001b[K     |██▎                             | 20 kB 26.1 MB/s eta 0:00:01\r\u001b[K     |███▌                            | 30 kB 28.4 MB/s eta 0:00:01\r\u001b[K     |████▋                           | 40 kB 12.6 MB/s eta 0:00:01\r\u001b[K     |█████▊                          | 51 kB 14.5 MB/s eta 0:00:01\r\u001b[K     |███████                         | 61 kB 14.7 MB/s eta 0:00:01\r\u001b[K     |████████                        | 71 kB 8.0 MB/s eta 0:00:01\r\u001b[K     |█████████▏                      | 81 kB 8.8 MB/s eta 0:00:01\r\u001b[K     |██████████▍                     | 92 kB 9.7 MB/s eta 0:00:01\r\u001b[K     |███████████▌                    | 102 kB 10.6 MB/s eta 0:00:01\r\u001b[K     |████████████▊                   | 112 kB 10.6 MB/s eta 0:00:01\r\u001b[K     |█████████████▉                  | 122 kB 10.6 MB/s eta 0:00:01\r\u001b[K     |███████████████                 | 133 kB 10.6 MB/s eta 0:00:01\r\u001b[K     |████████████████▏               | 143 kB 10.6 MB/s eta 0:00:01\r\u001b[K     |█████████████████▎              | 153 kB 10.6 MB/s eta 0:00:01\r\u001b[K     |██████████████████▍             | 163 kB 10.6 MB/s eta 0:00:01\r\u001b[K     |███████████████████▋            | 174 kB 10.6 MB/s eta 0:00:01\r\u001b[K     |████████████████████▊           | 184 kB 10.6 MB/s eta 0:00:01\r\u001b[K     |█████████████████████▉          | 194 kB 10.6 MB/s eta 0:00:01\r\u001b[K     |███████████████████████         | 204 kB 10.6 MB/s eta 0:00:01\r\u001b[K     |████████████████████████▏       | 215 kB 10.6 MB/s eta 0:00:01\r\u001b[K     |█████████████████████████▍      | 225 kB 10.6 MB/s eta 0:00:01\r\u001b[K     |██████████████████████████▌     | 235 kB 10.6 MB/s eta 0:00:01\r\u001b[K     |███████████████████████████▋    | 245 kB 10.6 MB/s eta 0:00:01\r\u001b[K     |████████████████████████████▉   | 256 kB 10.6 MB/s eta 0:00:01\r\u001b[K     |██████████████████████████████  | 266 kB 10.6 MB/s eta 0:00:01\r\u001b[K     |███████████████████████████████ | 276 kB 10.6 MB/s eta 0:00:01\r\u001b[K     |████████████████████████████████| 284 kB 10.6 MB/s \n",
      "\u001b[?25hRequirement already satisfied: tabulate>=0.8.9 in /usr/local/lib/python3.7/dist-packages (from dm-haiku) (0.8.9)\n",
      "Requirement already satisfied: absl-py>=0.7.1 in /usr/local/lib/python3.7/dist-packages (from dm-haiku) (0.12.0)\n",
      "Requirement already satisfied: typing-extensions in /usr/local/lib/python3.7/dist-packages (from dm-haiku) (3.7.4.3)\n",
      "Requirement already satisfied: numpy>=1.18.0 in /usr/local/lib/python3.7/dist-packages (from dm-haiku) (1.19.5)\n",
      "Requirement already satisfied: six in /usr/local/lib/python3.7/dist-packages (from absl-py>=0.7.1->dm-haiku) (1.15.0)\n",
      "Installing collected packages: dm-haiku\n",
      "Successfully installed dm-haiku-0.0.4\n"
     ]
    }
   ]
  },
  {
   "cell_type": "code",
   "metadata": {
    "id": "n8p0WAstrhUT"
   },
   "source": [
    "# @title Imports\n",
    "import jax\n",
    "from jax import lax\n",
    "import jax.numpy as jnp\n",
    "import numpy as np\n",
    "import matplotlib.pyplot as plt\n",
    "import haiku as hk\n",
    "import scipy as sp\n",
    "import functools"
   ],
   "execution_count": null,
   "outputs": []
  },
  {
   "cell_type": "code",
   "metadata": {
    "id": "aoIaRyCysZEs"
   },
   "source": [
    "# @title An MLP Haiku Module\n",
    "\n",
    "\n",
    "class MLP(hk.Module):\n",
    "    def __init__(self, depth, hidden_size, out_dim, name=\"SimpleNet\"):\n",
    "        super(MLP, self).__init__(name=name)\n",
    "        self._depth = depth\n",
    "        self._hidden_size = hidden_size\n",
    "        self._out_dim = out_dim\n",
    "        layers = []\n",
    "        for i in range(self._depth):\n",
    "            layers.append(hk.Linear(self._hidden_size, name=\"linear_%d\" % (i)))\n",
    "        self._layers = layers\n",
    "        self._final_layer = hk.Linear(self._out_dim, name=\"final_layer\")\n",
    "\n",
    "    def __call__(self, input):\n",
    "        h = input\n",
    "        for i in range(self._depth):\n",
    "            h = jax.nn.relu(self._layers[i](h))\n",
    "        return self._final_layer(h)"
   ],
   "execution_count": null,
   "outputs": []
  },
  {
   "cell_type": "code",
   "metadata": {
    "id": "KBgWwKKyv6VI"
   },
   "source": [
    "# @title Real Data\n",
    "def real_data(batch_size):\n",
    "    mog_mean = np.array(\n",
    "        [\n",
    "            [1.50, 1.50],\n",
    "            [1.50, 0.50],\n",
    "            [1.50, -0.50],\n",
    "            [1.50, -1.50],\n",
    "            [0.50, 1.50],\n",
    "            [0.50, 0.50],\n",
    "            [0.50, -0.50],\n",
    "            [0.50, -1.50],\n",
    "            [-1.50, 1.50],\n",
    "            [-1.50, 0.50],\n",
    "            [-1.50, -0.50],\n",
    "            [-1.50, -1.50],\n",
    "            [-0.50, 1.50],\n",
    "            [-0.50, 0.50],\n",
    "            [-0.50, -0.50],\n",
    "            [-0.50, -1.50],\n",
    "        ]\n",
    "    )\n",
    "    temp = np.tile(mog_mean, (batch_size // 16 + 1, 1))\n",
    "    mus = temp[0:batch_size, :]\n",
    "    return mus + 0.02 * np.random.normal(size=(batch_size, 2))"
   ],
   "execution_count": null,
   "outputs": []
  },
  {
   "cell_type": "code",
   "metadata": {
    "id": "E6uViIllRDlL"
   },
   "source": [
    "# @title ODE-integrators\n",
    "def euler_step(func, y0, f0, t0, dt):\n",
    "    # Euler update\n",
    "    y1 = jax.tree_map(lambda u, v: dt * v + u, y0, f0)\n",
    "    return y1\n",
    "\n",
    "\n",
    "def runge_kutta_step(func, y0, f0, t0, dt):\n",
    "    # RK4 Butcher tableaux\n",
    "    alpha = jnp.array([1.0 / 2.0, 1.0 / 2.0, 1.0, 0])\n",
    "    beta = jnp.array(\n",
    "        [\n",
    "            [1.0 / 2.0, 0, 0, 0],\n",
    "            [0, 1.0 / 2.0, 0, 0],\n",
    "            [0, 0, 1.0, 0],\n",
    "        ]\n",
    "    )\n",
    "    c_sol = jnp.array([1.0 / 6.0, 1.0 / 3.0, 1.0 / 3.0, 1.0 / 6.0])\n",
    "\n",
    "    def body_fun(i, k):\n",
    "        ti = t0 + dt * alpha[i - 1]\n",
    "        yi = jax.tree_map(lambda u, v: u + dt * jnp.tensordot(beta[i - 1, :], v, axes=1), y0, k)\n",
    "        ft = func(yi, ti)\n",
    "        return jax.tree_map(lambda x, y: x.at[i, :].set(y), k, ft)\n",
    "\n",
    "    k = jax.tree_map(lambda f: jnp.zeros((4,) + f.shape, f.dtype).at[0, :].set(f), f0)\n",
    "    k = lax.fori_loop(1, 4, body_fun, k)\n",
    "\n",
    "    y1 = jax.tree_map(lambda u, v: dt * jnp.tensordot(c_sol, v, axes=1) + u, y0, k)\n",
    "    return y1"
   ],
   "execution_count": null,
   "outputs": []
  },
  {
   "cell_type": "code",
   "metadata": {
    "id": "NHCYH1tnwaTL"
   },
   "source": [
    "# @title Utility Functions.\n",
    "def disc_loss(disc_params, gen_params, real_examples, latents):\n",
    "    fake_examples = gen_model.apply(gen_params, None, latents)\n",
    "    real_logits = disc_model.apply(disc_params, None, real_examples)\n",
    "    fake_logits = disc_model.apply(disc_params, None, fake_examples)\n",
    "    disc_real = real_logits - jax.nn.log_sigmoid(real_logits)\n",
    "    disc_fake = -jax.nn.log_sigmoid(fake_logits)\n",
    "    return -jnp.mean(disc_real + disc_fake)\n",
    "\n",
    "\n",
    "def gen_loss(disc_params, gen_params, real_examples, latents):\n",
    "    fake_examples = gen_model.apply(gen_params, None, latents)\n",
    "    fake_logits = disc_model.apply(disc_params, None, fake_examples)\n",
    "    disc_fake = fake_logits - jax.nn.log_sigmoid(fake_logits)\n",
    "    return -jnp.mean(disc_fake)\n",
    "\n",
    "\n",
    "def gen_loss_per_example(disc_params, gen_params, real_examples, latents):\n",
    "    fake_examples = gen_model.apply(gen_params, None, latents)\n",
    "    fake_logits = disc_model.apply(disc_params, None, fake_examples)\n",
    "    disc_fake = fake_logits - jax.nn.log_sigmoid(fake_logits)\n",
    "    return -disc_fake\n",
    "\n",
    "\n",
    "def gen_norm_per_example(disc_params, gen_params, real_examples, latents):\n",
    "    grad = jax.jacfwd(gen_loss_per_example, argnums=1)(disc_params, gen_params, real_examples, latents)\n",
    "    flat, _ = jax.tree_flatten(grad)\n",
    "    norm = jnp.zeros(shape=(latents.shape[0],))\n",
    "    for a in flat:\n",
    "        norm += jnp.sum(a * a, axis=np.arange(1, len(a.shape)))\n",
    "    return -jnp.mean(norm)\n",
    "\n",
    "\n",
    "def disc_loss_per_example(disc_params, gen_params, real_examples, latents):\n",
    "    fake_examples = gen_model.apply(gen_params, None, latents)\n",
    "    real_logits = disc_model.apply(disc_params, None, real_examples)\n",
    "    fake_logits = disc_model.apply(disc_params, None, fake_examples)\n",
    "    disc_real = real_logits - jax.nn.log_sigmoid(real_logits)\n",
    "    disc_fake = -jax.nn.log_sigmoid(fake_logits)\n",
    "    return -(disc_real + disc_fake)\n",
    "\n",
    "\n",
    "def disc_norm_per_example(disc_params, gen_params, real_examples, latents):\n",
    "    grad = jax.jacfwd(disc_loss_per_example, argnums=0)(disc_params, gen_params, real_examples, latents)\n",
    "    flat, _ = jax.tree_flatten(grad)\n",
    "    norm = jnp.zeros(shape=(latents.shape[0],))\n",
    "    for a in flat:\n",
    "        norm += jnp.sum(a * a, axis=np.arange(1, len(a.shape)))\n",
    "    return -jnp.mean(norm)\n",
    "\n",
    "\n",
    "def gen_norm(disc_params, gen_params, real_examples, latents):\n",
    "    grad = jax.grad(gen_loss, argnums=1)(disc_params, gen_params, real_examples, latents)\n",
    "    flat, _ = jax.tree_flatten(grad)\n",
    "    norm = 0.0\n",
    "    for a in flat:\n",
    "        norm += jnp.sum(a * a)\n",
    "    return -norm\n",
    "\n",
    "\n",
    "def get_gen_grad(gen_params, t, disc_params, real_examples, latents):\n",
    "    return jax.grad(gen_loss, argnums=1)(disc_params, gen_params, real_examples, latents)\n",
    "\n",
    "\n",
    "def get_disc_grad(disc_params, t, gen_params, real_examples, latents):\n",
    "    return jax.grad(disc_loss, argnums=0)(disc_params, gen_params, real_examples, latents)\n",
    "\n",
    "\n",
    "def variance_calc(disc_params, gen_params, real_examples, latents):\n",
    "    neg_var = gen_norm_per_example(disc_params, gen_params, real_examples, latents)\n",
    "    neg_var -= gen_norm(disc_params, gen_params, real_examples, latents)\n",
    "    return neg_var"
   ],
   "execution_count": null,
   "outputs": []
  },
  {
   "cell_type": "code",
   "metadata": {
    "id": "xjTBhJuOh_wO"
   },
   "source": [
    "# @title Visualising the data.\n",
    "\n",
    "\n",
    "def kde(mu, tau, bbox=None, xlabel=\"\", ylabel=\"\", cmap=\"Blues\", st=0):\n",
    "    values = np.vstack([mu, tau])\n",
    "    kernel = sp.stats.gaussian_kde(values)\n",
    "\n",
    "    fig, ax = plt.subplots()\n",
    "    ax.axis(bbox)\n",
    "    ax.set_aspect(abs(bbox[1] - bbox[0]) / abs(bbox[3] - bbox[2]))\n",
    "    ax.set_xlabel(xlabel)\n",
    "    ax.set_ylabel(ylabel)\n",
    "    ax.set_xticks([])\n",
    "    ax.set_yticks([])\n",
    "\n",
    "    xx, yy = np.mgrid[bbox[0] : bbox[1] : 300j, bbox[2] : bbox[3] : 300j]\n",
    "    positions = np.vstack([xx.ravel(), yy.ravel()])\n",
    "\n",
    "    f = np.reshape(kernel(positions).T, xx.shape)\n",
    "    cfset = ax.contourf(xx, yy, f, cmap=cmap)\n",
    "    plt.tight_layout()\n",
    "    # plt.show()"
   ],
   "execution_count": null,
   "outputs": []
  },
  {
   "cell_type": "code",
   "metadata": {
    "id": "G2G32j5N1psa",
    "colab": {
     "base_uri": "https://localhost:8080/",
     "height": 1000
    },
    "outputId": "fdcc56a2-0497-45fe-d63c-1505645f9708"
   },
   "source": [
    "# @title Integration\n",
    "n_itrs = 20001  # @param {type : 'integer'}\n",
    "n_save = 2000  # @param {type : 'integer'}\n",
    "latent_size = 32  # @param {type : 'integer'}\n",
    "bs = 512  # @param {type : 'integer'}\n",
    "odeint = \"euler_step\"  # @param ['euler_step', 'euler_heun_step', 'runge_kutta_step'] {type : 'string'}\n",
    "delta_t = 0.05  # @param {type : 'number'}\n",
    "reg_param = 0.0  # @param {type : 'number'}\n",
    "t = 0.0\n",
    "\n",
    "\n",
    "def forward_disc(batch):\n",
    "    disc_model = MLP(2, 25, 1)\n",
    "    return disc_model(batch)\n",
    "\n",
    "\n",
    "def forward_gen(batch):\n",
    "    gen_model = MLP(2, 25, 2)\n",
    "    return gen_model(batch)\n",
    "\n",
    "\n",
    "disc_model = hk.transform(forward_disc)\n",
    "gen_model = hk.transform(forward_gen)\n",
    "real_examples = real_data(bs)\n",
    "\n",
    "ODEINT = {\"runge_kutta_step\": runge_kutta_step, \"euler_step\": euler_step}\n",
    "\n",
    "\n",
    "@jax.jit\n",
    "def ode_update(i, disc_params, gen_params, real_examples, latents):\n",
    "    dloss, disc_grad = jax.value_and_grad(disc_loss, argnums=0)(disc_params, gen_params, real_examples, latents)\n",
    "    gloss, gen_grad = jax.value_and_grad(gen_loss, argnums=1)(disc_params, gen_params, real_examples, latents)\n",
    "    variance, disc_gen_grad = jax.value_and_grad(variance_calc)(disc_params, gen_params, real_examples, latents)\n",
    "    norms_per_example, _ = jax.value_and_grad(gen_norm_per_example, argnums=0)(\n",
    "        disc_params, gen_params, real_examples, latents\n",
    "    )\n",
    "    discnorm, gen_disc_grad = jax.value_and_grad(disc_norm_per_example, argnums=1)(\n",
    "        disc_params, gen_params, real_examples, latents\n",
    "    )\n",
    "    norms, _ = jax.value_and_grad(gen_norm, argnums=0)(disc_params, gen_params, real_examples, latents)\n",
    "    grad_disc_fn = functools.partial(\n",
    "        get_disc_grad, **{\"gen_params\": gen_params, \"real_examples\": real_examples, \"latents\": latents}\n",
    "    )\n",
    "    grad_gen_fn = functools.partial(\n",
    "        get_gen_grad, **{\"disc_params\": disc_params, \"real_examples\": real_examples, \"latents\": latents}\n",
    "    )\n",
    "    new_gen_params = ODEINT[odeint](grad_gen_fn, gen_params, gen_grad, 0.0, delta_t)\n",
    "    new_disc_params = ODEINT[odeint](grad_disc_fn, disc_params, disc_grad, 0.0, delta_t)\n",
    "    new_disc_params = jax.tree_map(lambda x, y: x + delta_t * reg_param * y, new_disc_params, disc_gen_grad)\n",
    "    new_gen_params = jax.tree_map(lambda x, y: x + delta_t * reg_param * y, new_gen_params, gen_disc_grad)\n",
    "    return new_disc_params, new_gen_params, -dloss, -gloss\n",
    "\n",
    "\n",
    "rng = jax.random.PRNGKey(np.random.randint(low=0, high=int(1e7)))\n",
    "test_latents = np.random.normal(size=(bs * 10, latent_size))\n",
    "latents = np.random.normal(size=(bs, latent_size))\n",
    "disc_params = disc_model.init(rng, real_examples)\n",
    "gen_params = gen_model.init(jax.random.PRNGKey(np.random.randint(low=0, high=int(1e7))), latents)\n",
    "\n",
    "x = np.arange(-2.0, 2.0, 0.1)\n",
    "y = np.arange(-2.0, 2.0, 0.1)\n",
    "X, Y = np.meshgrid(x, y)\n",
    "pairs = np.stack((X, Y), axis=-1)\n",
    "pairs = np.reshape(pairs, (-1, 2))\n",
    "\n",
    "bbox = [-2, 2, -2, 2]\n",
    "kde(real_examples[:, 0], real_examples[:, 1], bbox=bbox, st=0)\n",
    "plt.title(\"Data\")\n",
    "plt.show()\n",
    "\n",
    "for e in range(n_itrs):\n",
    "    real_examples = real_data(bs)\n",
    "    latents = np.random.normal(size=(bs, latent_size))\n",
    "    (disc_params, gen_params, dloss, gloss) = ode_update(e, disc_params, gen_params, real_examples, latents)\n",
    "    t += delta_t\n",
    "    if e % n_save == 0:\n",
    "        print(\"i = %d, discriminant loss = %s, generator loss = %s\" % (e, dloss, gloss))\n",
    "\n",
    "        fake_examples = gen_model.apply(gen_params, None, test_latents)\n",
    "\n",
    "        kde(fake_examples[:, 0], fake_examples[:, 1], bbox=bbox, st=e)\n",
    "        plt.title(\"Samples at iteration {}\".format(e))\n",
    "        plt.show()"
   ],
   "execution_count": null,
   "outputs": [
    {
     "output_type": "stream",
     "name": "stderr",
     "text": [
      "/usr/local/lib/python3.7/dist-packages/jax/_src/numpy/lax_numpy.py:3176: UserWarning: Explicitly requested dtype float64 requested in zeros is not available, and will be truncated to dtype float32. To enable more dtypes, set the jax_enable_x64 configuration option or the JAX_ENABLE_X64 shell environment variable. See https://github.com/google/jax#current-gotchas for more.\n",
      "  lax._check_user_dtype_supported(dtype, \"zeros\")\n"
     ]
    },
    {
     "output_type": "display_data",
     "data": {
      "image/png": "[encoded data removed]",
      "text/plain": [
       "<Figure size 432x288 with 1 Axes>"
      ]
     },
     "metadata": {}
    },
    {
     "output_type": "stream",
     "name": "stdout",
     "text": [
      "i = 0, discriminant loss = 1.5134295, generator loss = 0.70949596\n"
     ]
    },
    {
     "output_type": "display_data",
     "data": {
      "image/png": "[encoded data removed]",
      "text/plain": [
       "<Figure size 432x288 with 1 Axes>"
      ]
     },
     "metadata": {}
    },
    {
     "output_type": "stream",
     "name": "stdout",
     "text": [
      "i = 2000, discriminant loss = 1.3139982, generator loss = 0.7433742\n"
     ]
    },
    {
     "output_type": "display_data",
     "data": {
      "image/png": "[encoded data removed]",
      "text/plain": [
       "<Figure size 432x288 with 1 Axes>"
      ]
     },
     "metadata": {}
    },
    {
     "output_type": "stream",
     "name": "stdout",
     "text": [
      "i = 4000, discriminant loss = 1.1802745, generator loss = 1.3980222\n"
     ]
    },
    {
     "output_type": "display_data",
     "data": {
      "image/png": "[encoded data removed]",
      "text/plain": [
       "<Figure size 432x288 with 1 Axes>"
      ]
     },
     "metadata": {}
    },
    {
     "output_type": "stream",
     "name": "stdout",
     "text": [
      "i = 6000, discriminant loss = 0.99104536, generator loss = 1.8252661\n"
     ]
    },
    {
     "output_type": "display_data",
     "data": {
      "image/png": "[encoded data removed]",
      "text/plain": [
       "<Figure size 432x288 with 1 Axes>"
      ]
     },
     "metadata": {}
    },
    {
     "output_type": "stream",
     "name": "stdout",
     "text": [
      "i = 8000, discriminant loss = 0.6599817, generator loss = 1.4244308\n"
     ]
    },
    {
     "output_type": "display_data",
     "data": {
      "image/png": "[encoded data removed]",
      "text/plain": [
       "<Figure size 432x288 with 1 Axes>"
      ]
     },
     "metadata": {}
    },
    {
     "output_type": "stream",
     "name": "stdout",
     "text": [
      "i = 10000, discriminant loss = 0.74728256, generator loss = 2.8712406\n"
     ]
    },
    {
     "output_type": "display_data",
     "data": {
      "image/png": "[encoded data removed]",
      "text/plain": [
       "<Figure size 432x288 with 1 Axes>"
      ]
     },
     "metadata": {}
    },
    {
     "output_type": "stream",
     "name": "stdout",
     "text": [
      "i = 12000, discriminant loss = 0.28268716, generator loss = 2.6096854\n"
     ]
    },
    {
     "output_type": "display_data",
     "data": {
      "image/png": "[encoded data removed]",
      "text/plain": [
       "<Figure size 432x288 with 1 Axes>"
      ]
     },
     "metadata": {}
    },
    {
     "output_type": "stream",
     "name": "stdout",
     "text": [
      "i = 14000, discriminant loss = 0.42307052, generator loss = 2.5968158\n"
     ]
    },
    {
     "output_type": "display_data",
     "data": {
      "image/png": "[encoded data removed]",
      "text/plain": [
       "<Figure size 432x288 with 1 Axes>"
      ]
     },
     "metadata": {}
    },
    {
     "output_type": "stream",
     "name": "stdout",
     "text": [
      "i = 16000, discriminant loss = 0.5030432, generator loss = 1.4615185\n"
     ]
    },
    {
     "output_type": "display_data",
     "data": {
      "image/png": "[encoded data removed]",
      "text/plain": [
       "<Figure size 432x288 with 1 Axes>"
      ]
     },
     "metadata": {}
    },
    {
     "output_type": "stream",
     "name": "stdout",
     "text": [
      "i = 18000, discriminant loss = 0.38424677, generator loss = 2.1412582\n"
     ]
    },
    {
     "output_type": "display_data",
     "data": {
      "image/png": "[encoded data removed]",
      "text/plain": [
       "<Figure size 432x288 with 1 Axes>"
      ]
     },
     "metadata": {}
    },
    {
     "output_type": "stream",
     "name": "stdout",
     "text": [
      "i = 20000, discriminant loss = 0.53288984, generator loss = 2.3324332\n"
     ]
    },
    {
     "output_type": "display_data",
     "data": {
      "image/png": "[encoded data removed]",
      "text/plain": [
       "<Figure size 432x288 with 1 Axes>"
      ]
     },
     "metadata": {}
    }
   ]
  },
  {
   "cell_type": "code",
   "metadata": {
    "id": "o4_PsWiQLT8B"
   },
   "source": [
    ""
   ],
   "execution_count": null,
   "outputs": []
  }
 ]
}