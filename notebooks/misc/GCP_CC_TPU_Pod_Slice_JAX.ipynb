{
 "nbformat": 4,
 "nbformat_minor": 0,
 "metadata": {
  "colab": {
   "name": "GCP_CC_TPU_Pod_Slice_JAX.ipynb",
   "provenance": [],
   "collapsed_sections": [],
   "toc_visible": true,
   "authorship_tag": "ABX9TyMTCgLAVRfIvTJou0RNXdeY",
   "include_colab_link": true
  },
  "kernelspec": {
   "name": "python3",
   "display_name": "Python 3"
  },
  "language_info": {
   "name": "python"
  }
 },
 "cells": [
  {
   "cell_type": "markdown",
   "metadata": {
    "id": "view-in-github",
    "colab_type": "text"
   },
   "source": [
    "<a href=\"https://colab.research.google.com/github/probml/probml-notebooks/blob/main/notebooks/GCP_CC_TPU_Pod_Slice_JAX.ipynb\" target=\"_parent\"><img src=\"https://colab.research.google.com/assets/colab-badge.svg\" alt=\"Open In Colab\"/></a>"
   ]
  },
  {
   "cell_type": "code",
   "metadata": {
    "id": "2FWZD92Hirgh"
   },
   "source": [
    "# Hints from :\n",
    "# https://medium.com/analytics-vidhya/how-to-access-files-from-google-cloud-storage-in-colab-notebooks-8edaf9e6c020\n",
    "# https://stackoverflow.com/questions/57772453/login-on-colab-with-gcloud-without-service-account"
   ],
   "execution_count": null,
   "outputs": []
  },
  {
   "cell_type": "markdown",
   "metadata": {
    "id": "Tx91t4CWv08g"
   },
   "source": [
    "# Authenticate GCP"
   ]
  },
  {
   "cell_type": "code",
   "metadata": {
    "id": "y4y8p3GDvvRp"
   },
   "source": [
    "from google.colab import auth\n",
    "\n",
    "auth.authenticate_user()"
   ],
   "execution_count": 1,
   "outputs": []
  },
  {
   "cell_type": "markdown",
   "metadata": {
    "id": "Ee6djykpyMyU"
   },
   "source": [
    "# Install GCloud SDK into a new directory"
   ]
  },
  {
   "cell_type": "code",
   "metadata": {
    "id": "Wwj_VlxIvyVY"
   },
   "source": [
    "!curl https://sdk.cloud.google.com | bash"
   ],
   "execution_count": null,
   "outputs": []
  },
  {
   "cell_type": "markdown",
   "metadata": {
    "id": "8mqpyylvDaBb"
   },
   "source": [
    "#Run the following commands in colab's terminal"
   ]
  },
  {
   "cell_type": "markdown",
   "metadata": {
    "id": "mIsAQFdwySiw"
   },
   "source": [
    "## Install GCloud Alpha components"
   ]
  },
  {
   "cell_type": "markdown",
   "metadata": {
    "id": "gY9Hqn0bGmVO"
   },
   "source": [
    "```bash\n",
    "gcloud1=\"/root/google-cloud-sdk/bin/gcloud\"\n",
    "$gcloud1 components install alpha\n",
    "```"
   ]
  },
  {
   "cell_type": "markdown",
   "metadata": {
    "id": "10fnBjUzDq0v"
   },
   "source": [
    "## Set your GCP Project ID"
   ]
  },
  {
   "cell_type": "markdown",
   "metadata": {
    "id": "yYhPHnpjHeLS"
   },
   "source": [
    "```bash\n",
    "project_id=\"YOUR_PROJECT_ID\"\n",
    "$gcloud1 config set project $project_id\n",
    "```"
   ]
  },
  {
   "cell_type": "markdown",
   "metadata": {
    "id": "jeE8a94TDy_G"
   },
   "source": [
    "## Create your TPU VM  [per the insturctions](https://cloud.google.com/tpu/docs/jax-pods)"
   ]
  },
  {
   "cell_type": "markdown",
   "metadata": {
    "id": "7Ea9jv4lHl9A"
   },
   "source": [
    "```\n",
    "$gcloud1 alpha compute tpus tpu-vm create *YOUR_TPU_VM_NAME* \\\n",
    "  --zone us-east1-d \\\n",
    "  --accelerator-type v3-32 \\\n",
    "  --version v2-alpha\n",
    "```"
   ]
  },
  {
   "cell_type": "markdown",
   "metadata": {
    "id": "gWT8HAYaH_Tp"
   },
   "source": [
    "## Install JAX on the pod slice"
   ]
  },
  {
   "cell_type": "markdown",
   "metadata": {
    "id": "QA3C7wk9H6Bw"
   },
   "source": [
    "```bash\n",
    "$gcloud1 alpha compute tpus tpu-vm ssh *YOUR_TPU_VM_NAME* \\\n",
    "  --zone us-east1-d \\\n",
    "  --worker=all \\\n",
    "  --command=\"pip install 'jax[tpu]>=0.2.16' -f https://storage.googleapis.com/jax-releases/libtpu_releases.html\"\n",
    "```"
   ]
  },
  {
   "cell_type": "markdown",
   "metadata": {
    "id": "WgUj9tEUIx4k"
   },
   "source": [
    "## Run the cell below to write example.py"
   ]
  },
  {
   "cell_type": "code",
   "metadata": {
    "id": "4QmUkD4cIgcl"
   },
   "source": [
    "%%file example.py\n",
    "# The following code snippet will be run on all TPU hosts\n",
    "import jax\n",
    "\n",
    "# The total number of TPU cores in the Pod\n",
    "device_count = jax.device_count()\n",
    "\n",
    "# The number of TPU cores attached to this host\n",
    "local_device_count = jax.local_device_count()\n",
    "\n",
    "# The psum is performed over all mapped devices across the Pod\n",
    "xs = jax.numpy.ones(jax.local_device_count())\n",
    "r = jax.pmap(lambda x: jax.lax.psum(x, 'i'), axis_name='i')(xs)\n",
    "\n",
    "# Print from a single host to avoid duplicated output\n",
    "if jax.process_index() == 0:\n",
    "    print('global device count:', jax.device_count())\n",
    "    print('local device count:', jax.local_device_count())\n",
    "    print('pmap result:', r)\n"
   ],
   "execution_count": null,
   "outputs": []
  },
  {
   "cell_type": "markdown",
   "metadata": {
    "id": "XQnXMO1tJSwN"
   },
   "source": [
    "## Copy example.py to all the TPU pod slice hosts"
   ]
  },
  {
   "cell_type": "markdown",
   "metadata": {
    "id": "1pjGpgwqJZKO"
   },
   "source": [
    "```bash\n",
    "$gcloud1 alpha compute tpus tpu-vm scp /content/example.py *YOUR_TPU_VM_NAME*: \\\n",
    "--worker=all --zone=*YOUR_ZONE*\n",
    "```"
   ]
  },
  {
   "cell_type": "markdown",
   "metadata": {
    "id": "IjCcFwWvJnVK"
   },
   "source": [
    "## Run example.py on the TPU-VM pod slice hosts"
   ]
  },
  {
   "cell_type": "markdown",
   "metadata": {
    "id": "XnEMRW8kJuPm"
   },
   "source": [
    "```bash\n",
    "$gcloud1 alpha compute tpus tpu-vm ssh *YOUR_TPU_VM_NAME* \\\n",
    "  --zone *YOUR_ZONE* --worker=all --command \"python3 example.py\"\n",
    "```"
   ]
  }
 ]
}