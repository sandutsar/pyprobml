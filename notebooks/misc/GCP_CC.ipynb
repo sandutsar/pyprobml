{
 "nbformat": 4,
 "nbformat_minor": 0,
 "metadata": {
  "colab": {
   "name": "GCP_CC.ipynb",
   "provenance": [],
   "collapsed_sections": [],
   "include_colab_link": true
  },
  "kernelspec": {
   "name": "python3",
   "display_name": "Python 3"
  },
  "language_info": {
   "name": "python"
  }
 },
 "cells": [
  {
   "cell_type": "markdown",
   "metadata": {
    "id": "view-in-github",
    "colab_type": "text"
   },
   "source": [
    "<a href=\"https://colab.research.google.com/github/probml/probml-notebooks/blob/main/notebooks/GCP_CC.ipynb\" target=\"_parent\"><img src=\"https://colab.research.google.com/assets/colab-badge.svg\" alt=\"Open In Colab\"/></a>"
   ]
  },
  {
   "cell_type": "code",
   "metadata": {
    "id": "2FWZD92Hirgh"
   },
   "source": [
    "# Hints from :\n",
    "# https://medium.com/analytics-vidhya/how-to-access-files-from-google-cloud-storage-in-colab-notebooks-8edaf9e6c020\n",
    "# https://stackoverflow.com/questions/57772453/login-on-colab-with-gcloud-without-service-account"
   ],
   "execution_count": null,
   "outputs": []
  },
  {
   "cell_type": "markdown",
   "metadata": {
    "id": "Tx91t4CWv08g"
   },
   "source": [
    "# Authenticate GCP"
   ]
  },
  {
   "cell_type": "code",
   "metadata": {
    "id": "y4y8p3GDvvRp"
   },
   "source": [
    "from google.colab import auth\n",
    "\n",
    "auth.authenticate_user()"
   ],
   "execution_count": null,
   "outputs": []
  },
  {
   "cell_type": "markdown",
   "metadata": {
    "id": "gTKpYQUOwRdz"
   },
   "source": [
    "# Validate key"
   ]
  },
  {
   "cell_type": "code",
   "metadata": {
    "id": "5Jgtdsk7vYqn"
   },
   "source": [
    "!cat adc.json"
   ],
   "execution_count": null,
   "outputs": []
  },
  {
   "cell_type": "markdown",
   "metadata": {
    "id": "Ee6djykpyMyU"
   },
   "source": [
    "# Install GCloud SDK into a new directory"
   ]
  },
  {
   "cell_type": "code",
   "metadata": {
    "id": "Wwj_VlxIvyVY"
   },
   "source": [
    "!curl https://sdk.cloud.google.com | bash"
   ],
   "execution_count": null,
   "outputs": []
  },
  {
   "cell_type": "markdown",
   "metadata": {
    "id": "mIsAQFdwySiw"
   },
   "source": [
    "# Install GCloud Alpha components"
   ]
  },
  {
   "cell_type": "code",
   "metadata": {
    "colab": {
     "base_uri": "https://localhost:8080/"
    },
    "id": "UXav8M1cwyzJ",
    "outputId": "1aa8c15b-f388-49f9-d0ee-035c57681df5"
   },
   "source": [
    "gcloud1 = \"/root/google-cloud-sdk/bin/gcloud\"\n",
    "!$gcloud1 components install alpha"
   ],
   "execution_count": null,
   "outputs": [
    {
     "output_type": "stream",
     "text": [
      "\n",
      "All components are up to date.\n"
     ],
     "name": "stdout"
    }
   ]
  },
  {
   "cell_type": "code",
   "metadata": {
    "colab": {
     "base_uri": "https://localhost:8080/"
    },
    "id": "elRv0i11xn52",
    "outputId": "220b8226-b1f3-4cbe-b5dc-f8abfabe0f81"
   },
   "source": [
    "project_id = \"YOUR_PROJECT_ID\"\n",
    "!$gcloud1 config set project $project_id"
   ],
   "execution_count": null,
   "outputs": [
    {
     "output_type": "stream",
     "text": [
      "Updated property [core/project].\n"
     ],
     "name": "stdout"
    }
   ]
  },
  {
   "cell_type": "code",
   "metadata": {
    "colab": {
     "base_uri": "https://localhost:8080/"
    },
    "id": "NNJbzG_K2P4r",
    "outputId": "a83a0746-3459-4791-dceb-0f7423084703"
   },
   "source": [
    "!$gcloud1 alpha compute tpus tpu-vm create probml-00-mjsml \\\n",
    "  --zone us-east1-d \\\n",
    "  --accelerator-type v3-32 \\\n",
    "  --version v2-alpha"
   ],
   "execution_count": null,
   "outputs": [
    {
     "output_type": "stream",
     "text": [
      "Create request issued for: [probml-00-mjsml]\n",
      "Created tpu [probml-00-mjsml].\n"
     ],
     "name": "stdout"
    }
   ]
  },
  {
   "cell_type": "code",
   "metadata": {
    "id": "r4oB33yRzE_8"
   },
   "source": [
    ""
   ],
   "execution_count": null,
   "outputs": []
  }
 ]
}