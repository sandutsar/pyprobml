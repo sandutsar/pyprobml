{
 "nbformat": 4,
 "nbformat_minor": 0,
 "metadata": {
  "colab": {
   "name": "convert-image-formats.ipynb",
   "provenance": [],
   "include_colab_link": true
  },
  "kernelspec": {
   "display_name": "Python 3",
   "name": "python3"
  }
 },
 "cells": [
  {
   "cell_type": "markdown",
   "metadata": {
    "id": "view-in-github",
    "colab_type": "text"
   },
   "source": [
    "<a href=\"https://colab.research.google.com/github/probml/probml-notebooks/blob/main/notebooks/convert_image_formats.ipynb\" target=\"_parent\"><img src=\"https://colab.research.google.com/assets/colab-badge.svg\" alt=\"Open In Colab\"/></a>"
   ]
  },
  {
   "cell_type": "code",
   "metadata": {
    "colab": {
     "base_uri": "https://localhost:8080/"
    },
    "id": "W7b2aANn6nXv",
    "outputId": "dbb0343c-7661-418e-c195-90f8a4a213bd"
   },
   "source": [
    "!pip install pdf2image"
   ],
   "execution_count": 1,
   "outputs": [
    {
     "output_type": "stream",
     "text": [
      "Collecting pdf2image\n",
      "  Downloading pdf2image-1.16.0-py3-none-any.whl (10 kB)\n",
      "Requirement already satisfied: pillow in /usr/local/lib/python3.7/dist-packages (from pdf2image) (7.1.2)\n",
      "Installing collected packages: pdf2image\n",
      "Successfully installed pdf2image-1.16.0\n"
     ],
     "name": "stdout"
    }
   ]
  },
  {
   "cell_type": "code",
   "metadata": {
    "id": "lIYdn1woOS1n"
   },
   "source": [
    "import pdf2image"
   ],
   "execution_count": 2,
   "outputs": []
  },
  {
   "cell_type": "code",
   "metadata": {
    "colab": {
     "base_uri": "https://localhost:8080/"
    },
    "id": "aZot-9nDzZSh",
    "outputId": "fbad35c1-4632-4c98-bd03-88bd85b50944"
   },
   "source": [
    "!sudo apt-get install poppler-utils"
   ],
   "execution_count": 3,
   "outputs": [
    {
     "output_type": "stream",
     "text": [
      "Reading package lists... Done\n",
      "Building dependency tree       \n",
      "Reading state information... Done\n",
      "The following package was automatically installed and is no longer required:\n",
      "  libnvidia-common-460\n",
      "Use 'sudo apt autoremove' to remove it.\n",
      "The following NEW packages will be installed:\n",
      "  poppler-utils\n",
      "0 upgraded, 1 newly installed, 0 to remove and 40 not upgraded.\n",
      "Need to get 154 kB of archives.\n",
      "After this operation, 613 kB of additional disk space will be used.\n",
      "Get:1 http://archive.ubuntu.com/ubuntu bionic-updates/main amd64 poppler-utils amd64 0.62.0-2ubuntu2.12 [154 kB]\n",
      "Fetched 154 kB in 1s (271 kB/s)\n",
      "debconf: unable to initialize frontend: Dialog\n",
      "debconf: (No usable dialog-like program is installed, so the dialog based frontend cannot be used. at /usr/share/perl5/Debconf/FrontEnd/Dialog.pm line 76, <> line 1.)\n",
      "debconf: falling back to frontend: Readline\n",
      "debconf: unable to initialize frontend: Readline\n",
      "debconf: (This frontend requires a controlling tty.)\n",
      "debconf: falling back to frontend: Teletype\n",
      "dpkg-preconfigure: unable to re-open stdin: \n",
      "Selecting previously unselected package poppler-utils.\n",
      "(Reading database ... 148489 files and directories currently installed.)\n",
      "Preparing to unpack .../poppler-utils_0.62.0-2ubuntu2.12_amd64.deb ...\n",
      "Unpacking poppler-utils (0.62.0-2ubuntu2.12) ...\n",
      "Setting up poppler-utils (0.62.0-2ubuntu2.12) ...\n",
      "Processing triggers for man-db (2.8.3-2ubuntu0.1) ...\n"
     ],
     "name": "stdout"
    }
   ]
  },
  {
   "cell_type": "code",
   "metadata": {
    "id": "uUfmQqvT3pML",
    "colab": {
     "base_uri": "https://localhost:8080/"
    },
    "outputId": "56e593a6-fb22-408e-98b3-2e7a0cba9959"
   },
   "source": [
    "from google.colab import drive\n",
    "\n",
    "drive.mount(\"/content/drive\", force_remount=True)"
   ],
   "execution_count": 4,
   "outputs": [
    {
     "output_type": "stream",
     "text": [
      "Mounted at /content/drive\n"
     ],
     "name": "stdout"
    }
   ]
  },
  {
   "cell_type": "code",
   "metadata": {
    "id": "tcFSkwAC08us"
   },
   "source": [
    "# pip install pdf2image\n",
    "# pip install --upgrade pillow\n",
    "\n",
    "import os\n",
    "import shutil\n",
    "from pdf2image import convert_from_path\n",
    "from PIL import Image\n",
    "from PIL import ImageCms\n",
    "import argparse\n",
    "from glob import glob\n",
    "from tqdm import tqdm\n",
    "import functools\n",
    "import multiprocessing\n",
    "import concurrent.futures\n",
    "\n",
    "\n",
    "def split_file_name(input_path):\n",
    "    base_name, dir_name = os.path.basename(input_path), os.path.dirname(input_path)\n",
    "    file_name, ext = os.path.splitext(os.path.basename(base_name))\n",
    "    return base_name, dir_name, file_name, ext\n",
    "\n",
    "\n",
    "def convert(\n",
    "    input_path,\n",
    "    output_path,\n",
    "    color_space=\"CMYK\",\n",
    "    input_profile_path=None,\n",
    "    output_profile_path=None,\n",
    "    quality=100,\n",
    "    verbose=False,\n",
    "    overwrite=False,\n",
    "):\n",
    "    \"\"\"converts an image or pdf into a color space of choice\n",
    "    for CMYK the default output format is JPG\n",
    "    Keyword arguments:\n",
    "    input_path -- the input path of the file\n",
    "    output_path -- the output path for the result to be written.\n",
    "    color_space -- the color space to convert to , default value is CMYK\n",
    "    input_profile_path -- the path to the input profile\n",
    "    output_profile_path -- the path to the output profile\n",
    "    \"\"\"\n",
    "    try:\n",
    "        if not overwrite and os.path.exists(output_path):\n",
    "            return True\n",
    "\n",
    "        if input_path.endswith(\".pdf\") or input_path.endswith(\".PDF\"):\n",
    "            # _, dir_name, file_name, _ =split_file_name(output_path)\n",
    "            _, dir_name, file_name, _ = split_file_name(input_path)\n",
    "            temp_file_name = \"temp\" + file_name\n",
    "            temp_file_path = os.path.join(dir_name, temp_file_name)\n",
    "            print(\"converting \", input_path, \" to \", temp_file_path)\n",
    "            convert_from_path(\n",
    "                input_path,\n",
    "                output_file=temp_file_path,\n",
    "                fmt=\"png\",\n",
    "                use_pdftocairo=True,\n",
    "                single_file=True,\n",
    "                use_cropbox=True,\n",
    "            )\n",
    "            temp_file_path += \".png\"\n",
    "            print(\"converting \", temp_file_path, \" to \", output_path)\n",
    "            _convert_profiles(\n",
    "                temp_file_path,\n",
    "                output_path,\n",
    "                color_space=color_space,\n",
    "                input_profile_path=input_profile_path,\n",
    "                output_profile_path=output_profile_path,\n",
    "                quality=quality,\n",
    "            )\n",
    "            os.remove(temp_file_path)\n",
    "            return True\n",
    "        elif (\n",
    "            input_path.endswith(\".png\")\n",
    "            or input_path.endswith(\".PNG\")\n",
    "            or input_path.endswith(\".jpg\")\n",
    "            or input_path.endswith(\".JPG\")\n",
    "            or input_path.endswith(\".jpeg\")\n",
    "            or input_path.endswith(\".JPEG\")\n",
    "        ):\n",
    "            return _convert_profiles(\n",
    "                input_path,\n",
    "                output_path,\n",
    "                color_space=color_space,\n",
    "                input_profile_path=input_profile_path,\n",
    "                output_profile_path=output_profile_path,\n",
    "                quality=quality,\n",
    "            )\n",
    "        else:\n",
    "            print(f\"{input_path} is not a valid image file, copying it instead to {output_path}.\")\n",
    "            shutil.copy(input_path, output_path)\n",
    "            return False\n",
    "    except Exception as e:\n",
    "        if verbose:\n",
    "            print(f\"Error in file: {input_path}\\n\", e)\n",
    "        return False\n",
    "\n",
    "\n",
    "def _convert_profiles(\n",
    "    input_path=None,\n",
    "    output_path=None,\n",
    "    color_space=\"CMYK\",\n",
    "    input_profile_path=None,\n",
    "    output_profile_path=None,\n",
    "    quality=\"100\",\n",
    "):\n",
    "    try:\n",
    "        with Image.open(input_path) as im:\n",
    "            img_cmyk = ImageCms.profileToProfile(\n",
    "                im, input_profile_path, output_profile_path, renderingIntent=0, outputMode=color_space\n",
    "            )\n",
    "            quality = int(quality)\n",
    "            img_cmyk.save(output_path, quality=quality)\n",
    "\n",
    "            return True\n",
    "    except Exception as e:\n",
    "        print(e)\n",
    "        print(f\"cannot convert{input_path}, copying it instead.\")\n",
    "        shutil.copy(input_path, output_path)\n",
    "        return False\n",
    "\n",
    "\n",
    "# from https://pillow.readthedocs.io/en/stable/handbook/tutorial.html?highlight=cmyk#using-the-image-class\n",
    "def check_image_properties(input_path):\n",
    "    try:\n",
    "        with Image.open(input_path) as im:\n",
    "            print(input_path, im.format, f\"{im.size}x{im.mode}\")\n",
    "    except OSError as e:\n",
    "        print(\"error opening the image\\n\", e)"
   ],
   "execution_count": 5,
   "outputs": []
  },
  {
   "cell_type": "code",
   "metadata": {
    "colab": {
     "base_uri": "https://localhost:8080/"
    },
    "id": "JI2y1Pax7Zu4",
    "outputId": "e8a6cb4e-d8c2-4383-ff50-072f2028f1e9"
   },
   "source": [
    "from glob import glob\n",
    "\n",
    "files = glob(\"/content/drive/MyDrive/MLAPA/book-images-original/*.*\")\n",
    "p = [print(f) for f in files]\n",
    "\n",
    "filenames = []\n",
    "for f in files:\n",
    "    parts = f.split(\"/\")\n",
    "    fname = parts[-1]\n",
    "    base = fname.split(\".\")[:-1][0]\n",
    "    # filenames.append(base)\n",
    "    filenames.append(fname)\n",
    "\n",
    "print(filenames)"
   ],
   "execution_count": 6,
   "outputs": [
    {
     "output_type": "stream",
     "text": [
      "/content/drive/MyDrive/MLAPA/book-images-original/kernelBinaryClassifDemoRVM.pdf\n",
      "/content/drive/MyDrive/MLAPA/book-images-original/kernelBinaryClassifDemologregL2.pdf\n",
      "/content/drive/MyDrive/MLAPA/book-images-original/kernelBinaryClassifDemologregL1.pdf\n",
      "/content/drive/MyDrive/MLAPA/book-images-original/kernelBinaryClassifDemoSVM.pdf\n",
      "['kernelBinaryClassifDemoRVM.pdf', 'kernelBinaryClassifDemologregL2.pdf', 'kernelBinaryClassifDemologregL1.pdf', 'kernelBinaryClassifDemoSVM.pdf']\n"
     ],
     "name": "stdout"
    }
   ]
  },
  {
   "cell_type": "code",
   "metadata": {
    "id": "iLrfkajD4GBx",
    "colab": {
     "base_uri": "https://localhost:8080/"
    },
    "outputId": "82700e09-9fec-43c3-c210-8ce8cacbe23c"
   },
   "source": [
    "in_folder = \"/content/drive/MyDrive/MLAPA/book-images-original\"\n",
    "for use_rgb in [False]:\n",
    "    if use_rgb:\n",
    "        out_folder = \"/content/drive/MyDrive/MLAPA/book-images-rgb-80\"\n",
    "        color_space = \"RGB\"\n",
    "        quality = 80\n",
    "    else:\n",
    "        out_folder = \"/content/drive/MyDrive/MLAPA/book-images-cmyk-100\"\n",
    "        color_space = \"CMYK\"\n",
    "        quality = 100\n",
    "\n",
    "    rgb_profile = \"sRGB Color Space Profile.icm\"\n",
    "    cmyk_profile = \"USWebCoatedSWOP.icc\"\n",
    "    profile_folder = \"/content/drive/MyDrive/MLAPA\"\n",
    "    input_profile_path = f\"{profile_folder}/{rgb_profile}\"\n",
    "    if color_space == \"RGB\":\n",
    "        output_profile_path = f\"{profile_folder}/{rgb_profile}\"\n",
    "    else:\n",
    "        output_profile_path = f\"{profile_folder}/{cmyk_profile}\"\n",
    "\n",
    "    for fname in filenames:\n",
    "        base = fname.split(\".\")[:-1][0]\n",
    "        in_name = f\"{in_folder}/{fname}\"\n",
    "        # in_name = f'{in_folder}/{fname}.pdf'\n",
    "        out_name = f\"{out_folder}/{base}.jpg\"\n",
    "        print(\"!converting \", in_name, \" to \", out_name)\n",
    "        convert(\n",
    "            in_name,\n",
    "            out_name,\n",
    "            color_space=color_space,\n",
    "            quality=quality,\n",
    "            verbose=True,\n",
    "            input_profile_path=input_profile_path,\n",
    "            output_profile_path=output_profile_path,\n",
    "        )"
   ],
   "execution_count": 7,
   "outputs": [
    {
     "output_type": "stream",
     "text": [
      "!converting  /content/drive/MyDrive/MLAPA/book-images-original/kernelBinaryClassifDemoRVM.pdf  to  /content/drive/MyDrive/MLAPA/book-images-cmyk-100/kernelBinaryClassifDemoRVM.jpg\n",
      "converting  /content/drive/MyDrive/MLAPA/book-images-original/kernelBinaryClassifDemoRVM.pdf  to  /content/drive/MyDrive/MLAPA/book-images-original/tempkernelBinaryClassifDemoRVM\n",
      "converting  /content/drive/MyDrive/MLAPA/book-images-original/tempkernelBinaryClassifDemoRVM.png  to  /content/drive/MyDrive/MLAPA/book-images-cmyk-100/kernelBinaryClassifDemoRVM.jpg\n",
      "!converting  /content/drive/MyDrive/MLAPA/book-images-original/kernelBinaryClassifDemologregL2.pdf  to  /content/drive/MyDrive/MLAPA/book-images-cmyk-100/kernelBinaryClassifDemologregL2.jpg\n",
      "converting  /content/drive/MyDrive/MLAPA/book-images-original/kernelBinaryClassifDemologregL2.pdf  to  /content/drive/MyDrive/MLAPA/book-images-original/tempkernelBinaryClassifDemologregL2\n",
      "converting  /content/drive/MyDrive/MLAPA/book-images-original/tempkernelBinaryClassifDemologregL2.png  to  /content/drive/MyDrive/MLAPA/book-images-cmyk-100/kernelBinaryClassifDemologregL2.jpg\n",
      "!converting  /content/drive/MyDrive/MLAPA/book-images-original/kernelBinaryClassifDemologregL1.pdf  to  /content/drive/MyDrive/MLAPA/book-images-cmyk-100/kernelBinaryClassifDemologregL1.jpg\n",
      "converting  /content/drive/MyDrive/MLAPA/book-images-original/kernelBinaryClassifDemologregL1.pdf  to  /content/drive/MyDrive/MLAPA/book-images-original/tempkernelBinaryClassifDemologregL1\n",
      "converting  /content/drive/MyDrive/MLAPA/book-images-original/tempkernelBinaryClassifDemologregL1.png  to  /content/drive/MyDrive/MLAPA/book-images-cmyk-100/kernelBinaryClassifDemologregL1.jpg\n",
      "!converting  /content/drive/MyDrive/MLAPA/book-images-original/kernelBinaryClassifDemoSVM.pdf  to  /content/drive/MyDrive/MLAPA/book-images-cmyk-100/kernelBinaryClassifDemoSVM.jpg\n",
      "converting  /content/drive/MyDrive/MLAPA/book-images-original/kernelBinaryClassifDemoSVM.pdf  to  /content/drive/MyDrive/MLAPA/book-images-original/tempkernelBinaryClassifDemoSVM\n",
      "converting  /content/drive/MyDrive/MLAPA/book-images-original/tempkernelBinaryClassifDemoSVM.png  to  /content/drive/MyDrive/MLAPA/book-images-cmyk-100/kernelBinaryClassifDemoSVM.jpg\n"
     ],
     "name": "stdout"
    }
   ]
  },
  {
   "cell_type": "code",
   "metadata": {
    "colab": {
     "base_uri": "https://localhost:8080/"
    },
    "id": "wixLvxK5Astl",
    "outputId": "f0f29d99-f609-444e-b431-b73283a9956d"
   },
   "source": [
    "!ls /content/drive/MyDrive/MLAPA/book-images-original"
   ],
   "execution_count": 8,
   "outputs": [
    {
     "output_type": "stream",
     "text": [
      "kernelBinaryClassifDemologregL1.pdf  kernelBinaryClassifDemoRVM.pdf\n",
      "kernelBinaryClassifDemologregL2.pdf  kernelBinaryClassifDemoSVM.pdf\n"
     ],
     "name": "stdout"
    }
   ]
  },
  {
   "cell_type": "code",
   "metadata": {
    "id": "ofDLPAvXAx2_",
    "colab": {
     "base_uri": "https://localhost:8080/"
    },
    "outputId": "5e7ee8d1-f290-481a-8019-0e0b80b489d5"
   },
   "source": [
    "!ls /content/drive/MyDrive/MLAPA/book-images-rgb-80"
   ],
   "execution_count": 9,
   "outputs": [
    {
     "output_type": "stream",
     "text": [
      "ae_mnist_conv_20d_linear.jpg   svmCvSurf.jpg\n",
      "ae_mnist_conv_20d_samples.jpg  vae_mnist_conv_20d_linear.jpg\n",
      "largeMarginPrinciple2.jpg      vae_mnist_conv_20d_samples.jpg\n",
      "separable-conv2d.jpg\n"
     ],
     "name": "stdout"
    }
   ]
  },
  {
   "cell_type": "code",
   "metadata": {
    "colab": {
     "base_uri": "https://localhost:8080/"
    },
    "id": "IzQJPfb-KSzK",
    "outputId": "b44a5790-06fa-4c50-915b-517bb0bcb5ff"
   },
   "source": [
    "!ls /content/drive/MyDrive/MLAPA/book-images-cmyk-100"
   ],
   "execution_count": 10,
   "outputs": [
    {
     "output_type": "stream",
     "text": [
      "ae_mnist_conv_20d_linear.jpg\t     largeMarginPrinciple2.jpg\n",
      "ae_mnist_conv_20d_samples.jpg\t     separable-conv2d.jpg\n",
      "kernelBinaryClassifDemologregL1.jpg  svmCvSurf.jpg\n",
      "kernelBinaryClassifDemologregL2.jpg  vae_mnist_conv_20d_linear.jpg\n",
      "kernelBinaryClassifDemoRVM.jpg\t     vae_mnist_conv_20d_samples.jpg\n",
      "kernelBinaryClassifDemoSVM.jpg\n"
     ],
     "name": "stdout"
    }
   ]
  },
  {
   "cell_type": "code",
   "metadata": {
    "id": "qyhK5xB2KWZx"
   },
   "source": [
    ""
   ],
   "execution_count": null,
   "outputs": []
  }
 ]
}