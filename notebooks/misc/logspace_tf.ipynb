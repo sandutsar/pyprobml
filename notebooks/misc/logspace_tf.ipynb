{
 "nbformat": 4,
 "nbformat_minor": 0,
 "metadata": {
  "colab": {
   "name": "logspace-tf.ipynb",
   "provenance": [],
   "authorship_tag": "ABX9TyMdt4SwFzWnfbRQwwvud2Ep",
   "include_colab_link": true
  },
  "kernelspec": {
   "name": "python3",
   "display_name": "Python 3"
  },
  "language_info": {
   "name": "python"
  }
 },
 "cells": [
  {
   "cell_type": "markdown",
   "metadata": {
    "id": "view-in-github",
    "colab_type": "text"
   },
   "source": [
    "<a href=\"https://colab.research.google.com/github/probml/probml-notebooks/blob/main/notebooks/logspace_tf.ipynb\" target=\"_parent\"><img src=\"https://colab.research.google.com/assets/colab-badge.svg\" alt=\"Open In Colab\"/></a>"
   ]
  },
  {
   "cell_type": "markdown",
   "source": [
    "# Illustrate log-space computation in TF\n",
    "\n",
    "Code is derived from\n",
    "https://github.com/EEA-sensors/sequential-parallelization-examples\n"
   ],
   "metadata": {
    "id": "mXRErwjndkIT"
   }
  },
  {
   "cell_type": "code",
   "execution_count": 1,
   "metadata": {
    "id": "HDeI8ZgBde4F"
   },
   "outputs": [],
   "source": [
    "import math\n",
    "\n",
    "import matplotlib.pyplot as plt\n",
    "import numpy as np\n",
    "import scipy as sc\n",
    "\n",
    "\n",
    "from tensorflow import function\n",
    "import tensorflow as tf\n",
    "import tensorflow_probability as tfp\n",
    "\n",
    "mm = tf.linalg.matmul\n",
    "mv = tf.linalg.matvec"
   ]
  },
  {
   "cell_type": "code",
   "source": [
    "@tf.function\n",
    "def log_mv(log_A, log_b, transpose_a=False):\n",
    "    Amax = tf.reduce_max(log_A, axis=(-1, -2), keepdims=True)\n",
    "    bmax = tf.reduce_max(log_b, axis=(-1), keepdims=True)\n",
    "    return (\n",
    "        tf.squeeze(Amax, axis=-1)\n",
    "        + bmax\n",
    "        + tf.math.log(mv(tf.math.exp(log_A - Amax), tf.math.exp(log_b - bmax), transpose_a=transpose_a))\n",
    "    )\n",
    "\n",
    "\n",
    "@tf.function\n",
    "def semilog_mv(A, log_b, transpose_a=False):\n",
    "    bmax = tf.reduce_max(log_b, axis=(-1), keepdims=True)\n",
    "    return bmax + tf.math.log(mv(A, tf.math.exp(log_b - bmax), transpose_a=transpose_a))\n",
    "\n",
    "\n",
    "@tf.function\n",
    "def log_mm(log_A, log_B, transpose_a=False, transpose_b=False):\n",
    "    Amax = tf.reduce_max(log_A, axis=(-1, -2), keepdims=True)\n",
    "    Bmax = tf.reduce_max(log_B, axis=(-1, -2), keepdims=True)\n",
    "    return (\n",
    "        Amax\n",
    "        + Bmax\n",
    "        + tf.math.log(\n",
    "            mm(tf.math.exp(log_A - Amax), tf.math.exp(log_B - Bmax), transpose_a=transpose_a, transpose_b=transpose_b)\n",
    "        )\n",
    "    )\n",
    "\n",
    "\n",
    "@tf.function\n",
    "def log_normalize(log_p):\n",
    "    pmax = tf.reduce_max(log_p, axis=(-1), keepdims=True)\n",
    "    temp = tf.math.exp(log_p - pmax)\n",
    "    return tf.math.log(temp / tf.reduce_sum(temp, axis=-1, keepdims=True))"
   ],
   "metadata": {
    "id": "eF6RT7RRdnjq"
   },
   "execution_count": 2,
   "outputs": []
  },
  {
   "cell_type": "code",
   "source": [
    "print(\"Test utility functions:\")\n",
    "with tf.device(\"/CPU:0\"):\n",
    "    tf.random.set_seed(5)\n",
    "    A = tf.random.uniform(shape=[4, 4])\n",
    "    B = tf.random.uniform(shape=[4, 4])\n",
    "    log_A = tf.math.log(A)\n",
    "    log_B = tf.math.log(B)\n",
    "    r1 = mm(A, B)\n",
    "    r2 = tf.math.exp(log_mm(log_A, log_B))\n",
    "    assert np.allclose(r1, r2)\n",
    "    print(r1)\n",
    "\n",
    "    b = tf.random.uniform(shape=[4])\n",
    "    log_b = tf.math.log(b)\n",
    "    r1 = mv(A, b)\n",
    "    r2 = tf.math.exp(log_mv(log_A, log_b))\n",
    "    r3 = tf.math.exp(semilog_mv(A, log_b))\n",
    "    assert np.allclose(r1, r2)\n",
    "    assert np.allclose(r1, r3)\n",
    "    print(r1)\n",
    "\n",
    "    r1 = b / tf.reduce_sum(b, keepdims=True)\n",
    "    r2 = tf.math.exp(log_normalize(log_b))\n",
    "    assert np.allclose(r1, r2)\n",
    "    print(r1)"
   ],
   "metadata": {
    "colab": {
     "base_uri": "https://localhost:8080/"
    },
    "id": "dEPHLFXxeD76",
    "outputId": "483cedaf-9248-4b26-b9b9-6cf719cfe722"
   },
   "execution_count": 4,
   "outputs": [
    {
     "output_type": "stream",
     "name": "stdout",
     "text": [
      "Test utility functions:\n",
      "tf.Tensor(\n",
      "[[1.4257064  1.0391585  0.7607688  1.0484284 ]\n",
      " [0.9447347  0.76951545 0.44059256 0.6164023 ]\n",
      " [0.35811597 0.34018368 0.16159499 0.33705997]\n",
      " [0.75753486 0.5810969  0.41004145 0.6656992 ]], shape=(4, 4), dtype=float32)\n",
      "tf.Tensor([0.5768026  0.33639905 0.15708235 0.353592  ], shape=(4,), dtype=float32)\n",
      "tf.Tensor([0.19298144 0.3319118  0.0531239  0.42198285], shape=(4,), dtype=float32)\n"
     ]
    }
   ]
  }
 ]
}