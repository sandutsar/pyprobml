{
 "nbformat": 4,
 "nbformat_minor": 0,
 "metadata": {
  "colab": {
   "name": "scratchpad",
   "provenance": [],
   "include_colab_link": true
  },
  "kernelspec": {
   "display_name": "Python 3",
   "name": "python3"
  }
 },
 "cells": [
  {
   "cell_type": "markdown",
   "metadata": {
    "id": "view-in-github",
    "colab_type": "text"
   },
   "source": [
    "<a href=\"https://colab.research.google.com/github/probml/probml-notebooks/blob/main/notebooks/cmyk-magic.ipynb\" target=\"_parent\"><img src=\"https://colab.research.google.com/assets/colab-badge.svg\" alt=\"Open In Colab\"/></a>"
   ]
  },
  {
   "cell_type": "code",
   "metadata": {
    "colab": {
     "base_uri": "https://localhost:8080/",
     "height": 310
    },
    "id": "lIYdn1woOS1n",
    "outputId": "07d63083-8c16-4379-a7b6-58f5926511d1"
   },
   "source": [
    "import pdf2image"
   ],
   "execution_count": 1,
   "outputs": [
    {
     "output_type": "error",
     "ename": "ModuleNotFoundError",
     "evalue": "ignored",
     "traceback": [
      "\u001b[0;31m---------------------------------------------------------------------------\u001b[0m",
      "\u001b[0;31mModuleNotFoundError\u001b[0m                       Traceback (most recent call last)",
      "\u001b[0;32m<ipython-input-1-bd56f4c59bef>\u001b[0m in \u001b[0;36m<module>\u001b[0;34m()\u001b[0m\n\u001b[0;32m----> 1\u001b[0;31m \u001b[0;32mimport\u001b[0m \u001b[0mpdf2image\u001b[0m\u001b[0;34m\u001b[0m\u001b[0;34m\u001b[0m\u001b[0m\n\u001b[0m",
      "\u001b[0;31mModuleNotFoundError\u001b[0m: No module named 'pdf2image'",
      "",
      "\u001b[0;31m---------------------------------------------------------------------------\u001b[0;32m\nNOTE: If your import is failing due to a missing package, you can\nmanually install dependencies using either !pip or !apt.\n\nTo view examples of installing some common dependencies, click the\n\"Open Examples\" button below.\n\u001b[0;31m---------------------------------------------------------------------------\u001b[0m\n"
     ]
    }
   ]
  },
  {
   "cell_type": "code",
   "metadata": {
    "colab": {
     "base_uri": "https://localhost:8080/"
    },
    "id": "qD6GDkgWypCM",
    "outputId": "71dd05c1-e15b-4556-eb47-80d2e58dadac"
   },
   "source": [
    "!pip install pdf2image"
   ],
   "execution_count": 2,
   "outputs": [
    {
     "output_type": "stream",
     "text": [
      "Collecting pdf2image\n",
      "  Downloading pdf2image-1.16.0-py3-none-any.whl (10 kB)\n",
      "Requirement already satisfied: pillow in /usr/local/lib/python3.7/dist-packages (from pdf2image) (7.1.2)\n",
      "Installing collected packages: pdf2image\n",
      "Successfully installed pdf2image-1.16.0\n"
     ],
     "name": "stdout"
    }
   ]
  },
  {
   "cell_type": "code",
   "metadata": {
    "id": "uUfmQqvT3pML",
    "outputId": "6784e2ef-c8c8-4af4-875c-b340a659ff50",
    "colab": {
     "base_uri": "https://localhost:8080/"
    }
   },
   "source": [
    "from google.colab import drive\n",
    "\n",
    "drive.mount(\"/content/drive\")"
   ],
   "execution_count": 33,
   "outputs": [
    {
     "output_type": "stream",
     "text": [
      "Mounted at /content/drive\n"
     ],
     "name": "stdout"
    }
   ]
  },
  {
   "cell_type": "code",
   "metadata": {
    "id": "CgRH6uKy3xkj",
    "outputId": "3b0b56a2-7e7e-401a-a99d-6b72a5d4fe89",
    "colab": {
     "base_uri": "https://localhost:8080/"
    }
   },
   "source": [
    "!ls /content/drive/MyDrive/MLAPA"
   ],
   "execution_count": 36,
   "outputs": [
    {
     "output_type": "stream",
     "text": [
      " cnn-vis-modified.gslides\n",
      "'Flaxifying (V)AE MLAPP examples.gdoc'\n",
      " GANs.gdraw\n",
      " GenModelsTree.gdraw\n",
      " hier-vae.pdf\n",
      " InfTree.gdraw\n",
      "'Introduction to Bayesian Machine Learning.gslides'\n",
      "'Intro to Prob Stats for ML.gslides'\n",
      "'LSTM (1).gdraw'\n",
      " LSTM.gdraw\n",
      "'Machine learning: a probabilistic perspective MLAPA.gdoc'\n",
      " mlapa-30jan17.pdf\n",
      "'MLAPA figures.gslides'\n",
      "'MLAPA todo.gsheet'\n",
      "'MLAPA v2.gdoc'\n",
      " MLtriad.gdraw\n",
      " nnet-8jan16.pdf\n",
      " pmlSol-camera-22may12.pdf\n",
      "'sRGB Color Space Profile.icm'\n",
      " survey-results-google-RG-dec2015.png\n",
      " Text-200416.zip\n",
      " USWebCoatedSWOP.icc\n"
     ],
     "name": "stdout"
    }
   ]
  },
  {
   "cell_type": "code",
   "metadata": {
    "id": "D3DOb8JlyrjW"
   },
   "source": [
    "from pdf2image import convert_from_path"
   ],
   "execution_count": 3,
   "outputs": []
  },
  {
   "cell_type": "code",
   "metadata": {
    "colab": {
     "base_uri": "https://localhost:8080/"
    },
    "id": "zRyb4TeezRiC",
    "outputId": "fc75478b-f8f2-46c8-c603-cf460e0e3108"
   },
   "source": [
    "!ls"
   ],
   "execution_count": 4,
   "outputs": [
    {
     "output_type": "stream",
     "text": [
      "2dgridDAGa.pdf\tsample_data\n"
     ],
     "name": "stdout"
    }
   ]
  },
  {
   "cell_type": "code",
   "metadata": {
    "colab": {
     "base_uri": "https://localhost:8080/"
    },
    "id": "aZot-9nDzZSh",
    "outputId": "590f61c4-7ad3-48e5-d689-6243e008a3c8"
   },
   "source": [
    "!sudo apt-get install poppler-utils"
   ],
   "execution_count": 6,
   "outputs": [
    {
     "output_type": "stream",
     "text": [
      "Reading package lists... Done\n",
      "Building dependency tree       \n",
      "Reading state information... Done\n",
      "The following NEW packages will be installed:\n",
      "  poppler-utils\n",
      "0 upgraded, 1 newly installed, 0 to remove and 40 not upgraded.\n",
      "Need to get 154 kB of archives.\n",
      "After this operation, 613 kB of additional disk space will be used.\n",
      "Get:1 http://archive.ubuntu.com/ubuntu bionic-updates/main amd64 poppler-utils amd64 0.62.0-2ubuntu2.12 [154 kB]\n",
      "Fetched 154 kB in 1s (304 kB/s)\n",
      "debconf: unable to initialize frontend: Dialog\n",
      "debconf: (No usable dialog-like program is installed, so the dialog based frontend cannot be used. at /usr/share/perl5/Debconf/FrontEnd/Dialog.pm line 76, <> line 1.)\n",
      "debconf: falling back to frontend: Readline\n",
      "debconf: unable to initialize frontend: Readline\n",
      "debconf: (This frontend requires a controlling tty.)\n",
      "debconf: falling back to frontend: Teletype\n",
      "dpkg-preconfigure: unable to re-open stdin: \n",
      "Selecting previously unselected package poppler-utils.\n",
      "(Reading database ... 160837 files and directories currently installed.)\n",
      "Preparing to unpack .../poppler-utils_0.62.0-2ubuntu2.12_amd64.deb ...\n",
      "Unpacking poppler-utils (0.62.0-2ubuntu2.12) ...\n",
      "Setting up poppler-utils (0.62.0-2ubuntu2.12) ...\n",
      "Processing triggers for man-db (2.8.3-2ubuntu0.1) ...\n"
     ],
     "name": "stdout"
    }
   ]
  },
  {
   "cell_type": "code",
   "metadata": {
    "id": "Tizd6JxIyw_P"
   },
   "source": [
    "input_path = \"/content/2dgridDAGa.pdf\"\n",
    "temp_file_path = \"/content/temp2dgridDAGa\"\n",
    "out = convert_from_path(input_path, output_file=temp_file_path, use_pdftocairo=True, fmt=\"png\", single_file=True)"
   ],
   "execution_count": 30,
   "outputs": []
  },
  {
   "cell_type": "code",
   "metadata": {
    "colab": {
     "base_uri": "https://localhost:8080/"
    },
    "id": "RqJH9PDY0A5w",
    "outputId": "6dc45038-80c2-476c-9fbc-6cda41536d36"
   },
   "source": [
    "!ls"
   ],
   "execution_count": 32,
   "outputs": [
    {
     "output_type": "stream",
     "text": [
      "2dgridDAGa.pdf\tsample_data  temp2dgridDAGa.png\n"
     ],
     "name": "stdout"
    }
   ]
  },
  {
   "cell_type": "code",
   "metadata": {
    "id": "tcFSkwAC08us"
   },
   "source": [
    "import os\n",
    "import shutil\n",
    "from pdf2image import convert_from_path\n",
    "from PIL import Image\n",
    "from PIL import ImageCms\n",
    "import argparse\n",
    "from glob import glob\n",
    "from tqdm import tqdm\n",
    "import functools\n",
    "import multiprocessing\n",
    "import concurrent.futures\n",
    "\n",
    "\n",
    "def split_file_name(input_path):\n",
    "    base_name, dir_name = os.path.basename(input_path), os.path.dirname(input_path)\n",
    "    file_name, ext = os.path.splitext(os.path.basename(base_name))\n",
    "    return base_name, dir_name, file_name, ext\n",
    "\n",
    "\n",
    "def convert(\n",
    "    input_path,\n",
    "    output_path,\n",
    "    color_space=\"CMYK\",\n",
    "    input_profile_path=None,\n",
    "    output_profile_path=None,\n",
    "    quality=100,\n",
    "    verbose=False,\n",
    "    overwrite=False,\n",
    "):\n",
    "    \"\"\"converts an image or pdf into a color space of choice\n",
    "    for CMYK the default output format is JPG\n",
    "    Keyword arguments:\n",
    "    input_path -- the input path of the file\n",
    "    output_path -- the output path for the result to be written.\n",
    "    color_space -- the color space to convert to , default value is CMYK\n",
    "    input_profile_path -- the path to the input profile\n",
    "    output_profile_path -- the path to the output profile\n",
    "    \"\"\"\n",
    "    try:\n",
    "        if not overwrite and os.path.exists(output_path):\n",
    "            return True\n",
    "\n",
    "        if input_path.endswith(\".pdf\") or input_path.endswith(\".PDF\"):\n",
    "            _, dir_name, file_name, _ = split_file_name(output_path)\n",
    "            temp_file_name = \"temp\" + file_name\n",
    "            temp_file_path = os.path.join(dir_name, temp_file_name)\n",
    "\n",
    "            print(\"input\", input_path)\n",
    "            print(\"output\", temp_file_path)\n",
    "            print(\"call convert \")\n",
    "\n",
    "            # convert_from_path(input_path,output_file=temp_file_path,fmt=\"png\",use_pdftocairo=True,single_file=True)\n",
    "            convert_from_path(input_path, output_file=temp_file_path, fmt=\"png\", single_file=True)\n",
    "            temp_file_path += \".png\"\n",
    "\n",
    "            print(temp_file_path)\n",
    "\n",
    "            _convert_profiles(\n",
    "                temp_file_path,\n",
    "                output_path,\n",
    "                color_space=color_space,\n",
    "                input_profile_path=input_profile_path,\n",
    "                output_profile_path=output_profile_path,\n",
    "                quality=quality,\n",
    "            )\n",
    "            # os.remove(temp_file_path)\n",
    "            print(\"done\")\n",
    "            return True\n",
    "        elif (\n",
    "            input_path.endswith(\".png\")\n",
    "            or input_path.endswith(\".PNG\")\n",
    "            or input_path.endswith(\".jpg\")\n",
    "            or input_path.endswith(\".JPG\")\n",
    "            or input_path.endswith(\".jpeg\")\n",
    "            or input_path.endswith(\".JPEG\")\n",
    "        ):\n",
    "\n",
    "            print(\"else block\")\n",
    "\n",
    "            return _convert_profiles(\n",
    "                input_path,\n",
    "                output_path,\n",
    "                color_space=color_space,\n",
    "                input_profile_path=input_profile_path,\n",
    "                output_profile_path=output_profile_path,\n",
    "                quality=quality,\n",
    "            )\n",
    "        else:\n",
    "            print(f\"{input_path} is not a valid image file, copying it instead to {output_path}.\")\n",
    "            shutil.copy(input_path, output_path)\n",
    "            return False\n",
    "    except Exception as e:\n",
    "        print(\"exception\")\n",
    "        if verbose:\n",
    "            print(f\"Error in file: {input_path}\\n\", e)\n",
    "        return False\n",
    "\n",
    "\n",
    "def _convert_profiles(\n",
    "    input_path=None,\n",
    "    output_path=None,\n",
    "    color_space=\"CMYK\",\n",
    "    input_profile_path=None,\n",
    "    output_profile_path=None,\n",
    "    quality=\"100\",\n",
    "):\n",
    "    try:\n",
    "        with Image.open(input_path) as im:\n",
    "            img_cmyk = ImageCms.profileToProfile(\n",
    "                im, input_profile_path, output_profile_path, renderingIntent=0, outputMode=color_space\n",
    "            )\n",
    "            quality = int(quality)\n",
    "            img_cmyk.save(output_path, quality=quality)\n",
    "\n",
    "            return True\n",
    "    except Exception as e:\n",
    "        print(e)\n",
    "        print(f\"cannot convert{input_path}, copying it instead.\")\n",
    "        shutil.copy(input_path, output_path)\n",
    "        return False"
   ],
   "execution_count": 48,
   "outputs": []
  },
  {
   "cell_type": "code",
   "metadata": {
    "id": "GL3t92sN4QQ2"
   },
   "source": [
    "import os"
   ],
   "execution_count": 41,
   "outputs": []
  },
  {
   "cell_type": "code",
   "metadata": {
    "id": "iLrfkajD4GBx",
    "outputId": "a836f8a1-4408-4de2-e94c-87f0435e879a",
    "colab": {
     "base_uri": "https://localhost:8080/"
    }
   },
   "source": [
    "input_path = \"/content/2dgridDAGa.pdf\"\n",
    "temp_file_path = \"/content/2dgridDAGa\"\n",
    "convert(\n",
    "    input_path,\n",
    "    temp_file_path,\n",
    "    color_space=\"RGB\",\n",
    "    quality=80,\n",
    "    verbose=True,\n",
    "    input_profile_path=\"/content/drive/MyDrive/MLAPA/sRGB Color Space Profile.icm\",\n",
    "    output_profile_path=\"/content/drive/MyDrive/MLAPA/sRGB Color Space Profile.icm\",\n",
    ")"
   ],
   "execution_count": 51,
   "outputs": [
    {
     "output_type": "stream",
     "text": [
      "input /content/2dgridDAGa.pdf\n",
      "output /content/temp2dgridDAGa\n",
      "call convert \n",
      "/content/temp2dgridDAGa.png\n",
      "[Errno 2] No such file or directory: '/content/temp2dgridDAGa.png'\n",
      "cannot convert/content/temp2dgridDAGa.png, copying it instead.\n",
      "exception\n",
      "Error in file: /content/2dgridDAGa.pdf\n",
      " [Errno 2] No such file or directory: '/content/temp2dgridDAGa.png'\n"
     ],
     "name": "stdout"
    },
    {
     "output_type": "execute_result",
     "data": {
      "text/plain": [
       "False"
      ]
     },
     "metadata": {
      "tags": []
     },
     "execution_count": 51
    }
   ]
  },
  {
   "cell_type": "code",
   "metadata": {
    "id": "vQk45N3O474s",
    "outputId": "465c77a7-385e-47b5-fd43-5860f7f1a3c4",
    "colab": {
     "base_uri": "https://localhost:8080/"
    }
   },
   "source": [
    "!ls"
   ],
   "execution_count": 52,
   "outputs": [
    {
     "output_type": "stream",
     "text": [
      "2dgridDAGa.pdf\tdrive  sample_data\n"
     ],
     "name": "stdout"
    }
   ]
  },
  {
   "cell_type": "code",
   "metadata": {
    "id": "tIQWPYQN5NLX"
   },
   "source": [
    ""
   ],
   "execution_count": null,
   "outputs": []
  }
 ]
}