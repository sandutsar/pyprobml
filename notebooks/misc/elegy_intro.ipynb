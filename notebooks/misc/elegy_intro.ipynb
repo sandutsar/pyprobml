{
 "nbformat": 4,
 "nbformat_minor": 0,
 "metadata": {
  "accelerator": "GPU",
  "colab": {
   "name": "elegy-intro.ipynb",
   "provenance": [],
   "toc_visible": true,
   "include_colab_link": true
  },
  "interpreter": {
   "hash": "d1d8a94c4d213422025def0de36f1fa31352e54358c1a64c57418f1b342d5664"
  },
  "kernelspec": {
   "display_name": "Python 3 (ipykernel)",
   "language": "python",
   "name": "python3"
  },
  "language_info": {
   "codemirror_mode": {
    "name": "ipython",
    "version": 3
   },
   "file_extension": ".py",
   "mimetype": "text/x-python",
   "name": "python",
   "nbconvert_exporter": "python",
   "pygments_lexer": "ipython3",
   "version": "3.7.11"
  },
  "widgets": {
   "application/vnd.jupyter.widget-state+json": {
    "65bfe5fdb102457db4619ffd6b7463f5": {
     "model_module": "@jupyter-widgets/controls",
     "model_name": "HBoxModel",
     "model_module_version": "1.5.0",
     "state": {
      "_view_name": "HBoxView",
      "_dom_classes": [],
      "_model_name": "HBoxModel",
      "_view_module": "@jupyter-widgets/controls",
      "_model_module_version": "1.5.0",
      "_view_count": null,
      "_view_module_version": "1.5.0",
      "box_style": "",
      "layout": "IPY_MODEL_fa722095ce6e4e2dbe403c3645d17000",
      "_model_module": "@jupyter-widgets/controls",
      "children": [
       "IPY_MODEL_8244358b593a467cbde52c83df67e35c",
       "IPY_MODEL_28b749a8db614eb5a3f56ab534c5f32f",
       "IPY_MODEL_6a71b41310434254815148093f89d748"
      ]
     }
    },
    "fa722095ce6e4e2dbe403c3645d17000": {
     "model_module": "@jupyter-widgets/base",
     "model_name": "LayoutModel",
     "model_module_version": "1.2.0",
     "state": {
      "_view_name": "LayoutView",
      "grid_template_rows": null,
      "right": null,
      "justify_content": null,
      "_view_module": "@jupyter-widgets/base",
      "overflow": null,
      "_model_module_version": "1.2.0",
      "_view_count": null,
      "flex_flow": null,
      "width": null,
      "min_width": null,
      "border": null,
      "align_items": null,
      "bottom": null,
      "_model_module": "@jupyter-widgets/base",
      "top": null,
      "grid_column": null,
      "overflow_y": null,
      "overflow_x": null,
      "grid_auto_flow": null,
      "grid_area": null,
      "grid_template_columns": null,
      "flex": null,
      "_model_name": "LayoutModel",
      "justify_items": null,
      "grid_row": null,
      "max_height": null,
      "align_content": null,
      "visibility": null,
      "align_self": null,
      "height": null,
      "min_height": null,
      "padding": null,
      "grid_auto_rows": null,
      "grid_gap": null,
      "max_width": null,
      "order": null,
      "_view_module_version": "1.2.0",
      "grid_template_areas": null,
      "object_position": null,
      "object_fit": null,
      "grid_auto_columns": null,
      "margin": null,
      "display": null,
      "left": null
     }
    },
    "8244358b593a467cbde52c83df67e35c": {
     "model_module": "@jupyter-widgets/controls",
     "model_name": "HTMLModel",
     "model_module_version": "1.5.0",
     "state": {
      "_view_name": "HTMLView",
      "style": "IPY_MODEL_555096d529f746bcbdcc81fc0e610b04",
      "_dom_classes": [],
      "description": "",
      "_model_name": "HTMLModel",
      "placeholder": "​",
      "_view_module": "@jupyter-widgets/controls",
      "_model_module_version": "1.5.0",
      "value": "Downloading: ",
      "_view_count": null,
      "_view_module_version": "1.5.0",
      "description_tooltip": null,
      "_model_module": "@jupyter-widgets/controls",
      "layout": "IPY_MODEL_70fcc86478d84419b3789a725842b0b5"
     }
    },
    "28b749a8db614eb5a3f56ab534c5f32f": {
     "model_module": "@jupyter-widgets/controls",
     "model_name": "FloatProgressModel",
     "model_module_version": "1.5.0",
     "state": {
      "_view_name": "ProgressView",
      "style": "IPY_MODEL_6c48d5ff4f46403abc7f7eac20e64917",
      "_dom_classes": [],
      "description": "",
      "_model_name": "FloatProgressModel",
      "bar_style": "success",
      "max": 1583,
      "_view_module": "@jupyter-widgets/controls",
      "_model_module_version": "1.5.0",
      "value": 1583,
      "_view_count": null,
      "_view_module_version": "1.5.0",
      "orientation": "horizontal",
      "min": 0,
      "description_tooltip": null,
      "_model_module": "@jupyter-widgets/controls",
      "layout": "IPY_MODEL_7a30663fd82644958dfa9bf3436bcc75"
     }
    },
    "6a71b41310434254815148093f89d748": {
     "model_module": "@jupyter-widgets/controls",
     "model_name": "HTMLModel",
     "model_module_version": "1.5.0",
     "state": {
      "_view_name": "HTMLView",
      "style": "IPY_MODEL_8af5ab9e63794c2d8a8c68f1c02bc9f4",
      "_dom_classes": [],
      "description": "",
      "_model_name": "HTMLModel",
      "placeholder": "​",
      "_view_module": "@jupyter-widgets/controls",
      "_model_module_version": "1.5.0",
      "value": " 3.78k/? [00:00&lt;00:00, 107kB/s]",
      "_view_count": null,
      "_view_module_version": "1.5.0",
      "description_tooltip": null,
      "_model_module": "@jupyter-widgets/controls",
      "layout": "IPY_MODEL_13fe2d18dad94a12b31a8a5e7908a06b"
     }
    },
    "555096d529f746bcbdcc81fc0e610b04": {
     "model_module": "@jupyter-widgets/controls",
     "model_name": "DescriptionStyleModel",
     "model_module_version": "1.5.0",
     "state": {
      "_view_name": "StyleView",
      "_model_name": "DescriptionStyleModel",
      "description_width": "",
      "_view_module": "@jupyter-widgets/base",
      "_model_module_version": "1.5.0",
      "_view_count": null,
      "_view_module_version": "1.2.0",
      "_model_module": "@jupyter-widgets/controls"
     }
    },
    "70fcc86478d84419b3789a725842b0b5": {
     "model_module": "@jupyter-widgets/base",
     "model_name": "LayoutModel",
     "model_module_version": "1.2.0",
     "state": {
      "_view_name": "LayoutView",
      "grid_template_rows": null,
      "right": null,
      "justify_content": null,
      "_view_module": "@jupyter-widgets/base",
      "overflow": null,
      "_model_module_version": "1.2.0",
      "_view_count": null,
      "flex_flow": null,
      "width": null,
      "min_width": null,
      "border": null,
      "align_items": null,
      "bottom": null,
      "_model_module": "@jupyter-widgets/base",
      "top": null,
      "grid_column": null,
      "overflow_y": null,
      "overflow_x": null,
      "grid_auto_flow": null,
      "grid_area": null,
      "grid_template_columns": null,
      "flex": null,
      "_model_name": "LayoutModel",
      "justify_items": null,
      "grid_row": null,
      "max_height": null,
      "align_content": null,
      "visibility": null,
      "align_self": null,
      "height": null,
      "min_height": null,
      "padding": null,
      "grid_auto_rows": null,
      "grid_gap": null,
      "max_width": null,
      "order": null,
      "_view_module_version": "1.2.0",
      "grid_template_areas": null,
      "object_position": null,
      "object_fit": null,
      "grid_auto_columns": null,
      "margin": null,
      "display": null,
      "left": null
     }
    },
    "6c48d5ff4f46403abc7f7eac20e64917": {
     "model_module": "@jupyter-widgets/controls",
     "model_name": "ProgressStyleModel",
     "model_module_version": "1.5.0",
     "state": {
      "_view_name": "StyleView",
      "_model_name": "ProgressStyleModel",
      "description_width": "",
      "_view_module": "@jupyter-widgets/base",
      "_model_module_version": "1.5.0",
      "_view_count": null,
      "_view_module_version": "1.2.0",
      "bar_color": null,
      "_model_module": "@jupyter-widgets/controls"
     }
    },
    "7a30663fd82644958dfa9bf3436bcc75": {
     "model_module": "@jupyter-widgets/base",
     "model_name": "LayoutModel",
     "model_module_version": "1.2.0",
     "state": {
      "_view_name": "LayoutView",
      "grid_template_rows": null,
      "right": null,
      "justify_content": null,
      "_view_module": "@jupyter-widgets/base",
      "overflow": null,
      "_model_module_version": "1.2.0",
      "_view_count": null,
      "flex_flow": null,
      "width": null,
      "min_width": null,
      "border": null,
      "align_items": null,
      "bottom": null,
      "_model_module": "@jupyter-widgets/base",
      "top": null,
      "grid_column": null,
      "overflow_y": null,
      "overflow_x": null,
      "grid_auto_flow": null,
      "grid_area": null,
      "grid_template_columns": null,
      "flex": null,
      "_model_name": "LayoutModel",
      "justify_items": null,
      "grid_row": null,
      "max_height": null,
      "align_content": null,
      "visibility": null,
      "align_self": null,
      "height": null,
      "min_height": null,
      "padding": null,
      "grid_auto_rows": null,
      "grid_gap": null,
      "max_width": null,
      "order": null,
      "_view_module_version": "1.2.0",
      "grid_template_areas": null,
      "object_position": null,
      "object_fit": null,
      "grid_auto_columns": null,
      "margin": null,
      "display": null,
      "left": null
     }
    },
    "8af5ab9e63794c2d8a8c68f1c02bc9f4": {
     "model_module": "@jupyter-widgets/controls",
     "model_name": "DescriptionStyleModel",
     "model_module_version": "1.5.0",
     "state": {
      "_view_name": "StyleView",
      "_model_name": "DescriptionStyleModel",
      "description_width": "",
      "_view_module": "@jupyter-widgets/base",
      "_model_module_version": "1.5.0",
      "_view_count": null,
      "_view_module_version": "1.2.0",
      "_model_module": "@jupyter-widgets/controls"
     }
    },
    "13fe2d18dad94a12b31a8a5e7908a06b": {
     "model_module": "@jupyter-widgets/base",
     "model_name": "LayoutModel",
     "model_module_version": "1.2.0",
     "state": {
      "_view_name": "LayoutView",
      "grid_template_rows": null,
      "right": null,
      "justify_content": null,
      "_view_module": "@jupyter-widgets/base",
      "overflow": null,
      "_model_module_version": "1.2.0",
      "_view_count": null,
      "flex_flow": null,
      "width": null,
      "min_width": null,
      "border": null,
      "align_items": null,
      "bottom": null,
      "_model_module": "@jupyter-widgets/base",
      "top": null,
      "grid_column": null,
      "overflow_y": null,
      "overflow_x": null,
      "grid_auto_flow": null,
      "grid_area": null,
      "grid_template_columns": null,
      "flex": null,
      "_model_name": "LayoutModel",
      "justify_items": null,
      "grid_row": null,
      "max_height": null,
      "align_content": null,
      "visibility": null,
      "align_self": null,
      "height": null,
      "min_height": null,
      "padding": null,
      "grid_auto_rows": null,
      "grid_gap": null,
      "max_width": null,
      "order": null,
      "_view_module_version": "1.2.0",
      "grid_template_areas": null,
      "object_position": null,
      "object_fit": null,
      "grid_auto_columns": null,
      "margin": null,
      "display": null,
      "left": null
     }
    },
    "f9b0138531c54d149eb14324cb8d450d": {
     "model_module": "@jupyter-widgets/controls",
     "model_name": "HBoxModel",
     "model_module_version": "1.5.0",
     "state": {
      "_view_name": "HBoxView",
      "_dom_classes": [],
      "_model_name": "HBoxModel",
      "_view_module": "@jupyter-widgets/controls",
      "_model_module_version": "1.5.0",
      "_view_count": null,
      "_view_module_version": "1.5.0",
      "box_style": "",
      "layout": "IPY_MODEL_2ac027f6ea0948d99fdd57f96e6fdd3b",
      "_model_module": "@jupyter-widgets/controls",
      "children": [
       "IPY_MODEL_89016d7c19bf43d599e76352d5d53a8b",
       "IPY_MODEL_ceb03809f4ac4a40aaef2add6edfe309",
       "IPY_MODEL_606c7b874aff4b11bb934bff8900e366"
      ]
     }
    },
    "2ac027f6ea0948d99fdd57f96e6fdd3b": {
     "model_module": "@jupyter-widgets/base",
     "model_name": "LayoutModel",
     "model_module_version": "1.2.0",
     "state": {
      "_view_name": "LayoutView",
      "grid_template_rows": null,
      "right": null,
      "justify_content": null,
      "_view_module": "@jupyter-widgets/base",
      "overflow": null,
      "_model_module_version": "1.2.0",
      "_view_count": null,
      "flex_flow": null,
      "width": null,
      "min_width": null,
      "border": null,
      "align_items": null,
      "bottom": null,
      "_model_module": "@jupyter-widgets/base",
      "top": null,
      "grid_column": null,
      "overflow_y": null,
      "overflow_x": null,
      "grid_auto_flow": null,
      "grid_area": null,
      "grid_template_columns": null,
      "flex": null,
      "_model_name": "LayoutModel",
      "justify_items": null,
      "grid_row": null,
      "max_height": null,
      "align_content": null,
      "visibility": null,
      "align_self": null,
      "height": null,
      "min_height": null,
      "padding": null,
      "grid_auto_rows": null,
      "grid_gap": null,
      "max_width": null,
      "order": null,
      "_view_module_version": "1.2.0",
      "grid_template_areas": null,
      "object_position": null,
      "object_fit": null,
      "grid_auto_columns": null,
      "margin": null,
      "display": null,
      "left": null
     }
    },
    "89016d7c19bf43d599e76352d5d53a8b": {
     "model_module": "@jupyter-widgets/controls",
     "model_name": "HTMLModel",
     "model_module_version": "1.5.0",
     "state": {
      "_view_name": "HTMLView",
      "style": "IPY_MODEL_390a28bb951942b0b2c3d919a2e359ff",
      "_dom_classes": [],
      "description": "",
      "_model_name": "HTMLModel",
      "placeholder": "​",
      "_view_module": "@jupyter-widgets/controls",
      "_model_module_version": "1.5.0",
      "value": "Downloading: ",
      "_view_count": null,
      "_view_module_version": "1.5.0",
      "description_tooltip": null,
      "_model_module": "@jupyter-widgets/controls",
      "layout": "IPY_MODEL_285d612827d64f2c9b8abd9b4fffe34f"
     }
    },
    "ceb03809f4ac4a40aaef2add6edfe309": {
     "model_module": "@jupyter-widgets/controls",
     "model_name": "FloatProgressModel",
     "model_module_version": "1.5.0",
     "state": {
      "_view_name": "ProgressView",
      "style": "IPY_MODEL_0c7d681532314dce8bcfd8d34ce0f5d0",
      "_dom_classes": [],
      "description": "",
      "_model_name": "FloatProgressModel",
      "bar_style": "success",
      "max": 989,
      "_view_module": "@jupyter-widgets/controls",
      "_model_module_version": "1.5.0",
      "value": 989,
      "_view_count": null,
      "_view_module_version": "1.5.0",
      "orientation": "horizontal",
      "min": 0,
      "description_tooltip": null,
      "_model_module": "@jupyter-widgets/controls",
      "layout": "IPY_MODEL_e37f60c497dd40c5b9e4eaf37dd01ecc"
     }
    },
    "606c7b874aff4b11bb934bff8900e366": {
     "model_module": "@jupyter-widgets/controls",
     "model_name": "HTMLModel",
     "model_module_version": "1.5.0",
     "state": {
      "_view_name": "HTMLView",
      "style": "IPY_MODEL_dd9f77b58b0f4c8bb89b159b31e1118d",
      "_dom_classes": [],
      "description": "",
      "_model_name": "HTMLModel",
      "placeholder": "​",
      "_view_module": "@jupyter-widgets/controls",
      "_model_module_version": "1.5.0",
      "value": " 2.08k/? [00:00&lt;00:00, 68.7kB/s]",
      "_view_count": null,
      "_view_module_version": "1.5.0",
      "description_tooltip": null,
      "_model_module": "@jupyter-widgets/controls",
      "layout": "IPY_MODEL_bf548cbbf9ec4ebb99f45da4e7078b80"
     }
    },
    "390a28bb951942b0b2c3d919a2e359ff": {
     "model_module": "@jupyter-widgets/controls",
     "model_name": "DescriptionStyleModel",
     "model_module_version": "1.5.0",
     "state": {
      "_view_name": "StyleView",
      "_model_name": "DescriptionStyleModel",
      "description_width": "",
      "_view_module": "@jupyter-widgets/base",
      "_model_module_version": "1.5.0",
      "_view_count": null,
      "_view_module_version": "1.2.0",
      "_model_module": "@jupyter-widgets/controls"
     }
    },
    "285d612827d64f2c9b8abd9b4fffe34f": {
     "model_module": "@jupyter-widgets/base",
     "model_name": "LayoutModel",
     "model_module_version": "1.2.0",
     "state": {
      "_view_name": "LayoutView",
      "grid_template_rows": null,
      "right": null,
      "justify_content": null,
      "_view_module": "@jupyter-widgets/base",
      "overflow": null,
      "_model_module_version": "1.2.0",
      "_view_count": null,
      "flex_flow": null,
      "width": null,
      "min_width": null,
      "border": null,
      "align_items": null,
      "bottom": null,
      "_model_module": "@jupyter-widgets/base",
      "top": null,
      "grid_column": null,
      "overflow_y": null,
      "overflow_x": null,
      "grid_auto_flow": null,
      "grid_area": null,
      "grid_template_columns": null,
      "flex": null,
      "_model_name": "LayoutModel",
      "justify_items": null,
      "grid_row": null,
      "max_height": null,
      "align_content": null,
      "visibility": null,
      "align_self": null,
      "height": null,
      "min_height": null,
      "padding": null,
      "grid_auto_rows": null,
      "grid_gap": null,
      "max_width": null,
      "order": null,
      "_view_module_version": "1.2.0",
      "grid_template_areas": null,
      "object_position": null,
      "object_fit": null,
      "grid_auto_columns": null,
      "margin": null,
      "display": null,
      "left": null
     }
    },
    "0c7d681532314dce8bcfd8d34ce0f5d0": {
     "model_module": "@jupyter-widgets/controls",
     "model_name": "ProgressStyleModel",
     "model_module_version": "1.5.0",
     "state": {
      "_view_name": "StyleView",
      "_model_name": "ProgressStyleModel",
      "description_width": "",
      "_view_module": "@jupyter-widgets/base",
      "_model_module_version": "1.5.0",
      "_view_count": null,
      "_view_module_version": "1.2.0",
      "bar_color": null,
      "_model_module": "@jupyter-widgets/controls"
     }
    },
    "e37f60c497dd40c5b9e4eaf37dd01ecc": {
     "model_module": "@jupyter-widgets/base",
     "model_name": "LayoutModel",
     "model_module_version": "1.2.0",
     "state": {
      "_view_name": "LayoutView",
      "grid_template_rows": null,
      "right": null,
      "justify_content": null,
      "_view_module": "@jupyter-widgets/base",
      "overflow": null,
      "_model_module_version": "1.2.0",
      "_view_count": null,
      "flex_flow": null,
      "width": null,
      "min_width": null,
      "border": null,
      "align_items": null,
      "bottom": null,
      "_model_module": "@jupyter-widgets/base",
      "top": null,
      "grid_column": null,
      "overflow_y": null,
      "overflow_x": null,
      "grid_auto_flow": null,
      "grid_area": null,
      "grid_template_columns": null,
      "flex": null,
      "_model_name": "LayoutModel",
      "justify_items": null,
      "grid_row": null,
      "max_height": null,
      "align_content": null,
      "visibility": null,
      "align_self": null,
      "height": null,
      "min_height": null,
      "padding": null,
      "grid_auto_rows": null,
      "grid_gap": null,
      "max_width": null,
      "order": null,
      "_view_module_version": "1.2.0",
      "grid_template_areas": null,
      "object_position": null,
      "object_fit": null,
      "grid_auto_columns": null,
      "margin": null,
      "display": null,
      "left": null
     }
    },
    "dd9f77b58b0f4c8bb89b159b31e1118d": {
     "model_module": "@jupyter-widgets/controls",
     "model_name": "DescriptionStyleModel",
     "model_module_version": "1.5.0",
     "state": {
      "_view_name": "StyleView",
      "_model_name": "DescriptionStyleModel",
      "description_width": "",
      "_view_module": "@jupyter-widgets/base",
      "_model_module_version": "1.5.0",
      "_view_count": null,
      "_view_module_version": "1.2.0",
      "_model_module": "@jupyter-widgets/controls"
     }
    },
    "bf548cbbf9ec4ebb99f45da4e7078b80": {
     "model_module": "@jupyter-widgets/base",
     "model_name": "LayoutModel",
     "model_module_version": "1.2.0",
     "state": {
      "_view_name": "LayoutView",
      "grid_template_rows": null,
      "right": null,
      "justify_content": null,
      "_view_module": "@jupyter-widgets/base",
      "overflow": null,
      "_model_module_version": "1.2.0",
      "_view_count": null,
      "flex_flow": null,
      "width": null,
      "min_width": null,
      "border": null,
      "align_items": null,
      "bottom": null,
      "_model_module": "@jupyter-widgets/base",
      "top": null,
      "grid_column": null,
      "overflow_y": null,
      "overflow_x": null,
      "grid_auto_flow": null,
      "grid_area": null,
      "grid_template_columns": null,
      "flex": null,
      "_model_name": "LayoutModel",
      "justify_items": null,
      "grid_row": null,
      "max_height": null,
      "align_content": null,
      "visibility": null,
      "align_self": null,
      "height": null,
      "min_height": null,
      "padding": null,
      "grid_auto_rows": null,
      "grid_gap": null,
      "max_width": null,
      "order": null,
      "_view_module_version": "1.2.0",
      "grid_template_areas": null,
      "object_position": null,
      "object_fit": null,
      "grid_auto_columns": null,
      "margin": null,
      "display": null,
      "left": null
     }
    },
    "6866e0e416a54438b2fe139cd166caac": {
     "model_module": "@jupyter-widgets/controls",
     "model_name": "HBoxModel",
     "model_module_version": "1.5.0",
     "state": {
      "_view_name": "HBoxView",
      "_dom_classes": [],
      "_model_name": "HBoxModel",
      "_view_module": "@jupyter-widgets/controls",
      "_model_module_version": "1.5.0",
      "_view_count": null,
      "_view_module_version": "1.5.0",
      "box_style": "",
      "layout": "IPY_MODEL_44762eead99a4617b4d882fddac169b4",
      "_model_module": "@jupyter-widgets/controls",
      "children": [
       "IPY_MODEL_6069d489ce7f46169c1cdda804782128",
       "IPY_MODEL_0a73e7d8365d44d48a7c601bf3008a44",
       "IPY_MODEL_ca300b85e15f42889cdcf656dddf69a8"
      ]
     }
    },
    "44762eead99a4617b4d882fddac169b4": {
     "model_module": "@jupyter-widgets/base",
     "model_name": "LayoutModel",
     "model_module_version": "1.2.0",
     "state": {
      "_view_name": "LayoutView",
      "grid_template_rows": null,
      "right": null,
      "justify_content": null,
      "_view_module": "@jupyter-widgets/base",
      "overflow": null,
      "_model_module_version": "1.2.0",
      "_view_count": null,
      "flex_flow": null,
      "width": null,
      "min_width": null,
      "border": null,
      "align_items": null,
      "bottom": null,
      "_model_module": "@jupyter-widgets/base",
      "top": null,
      "grid_column": null,
      "overflow_y": null,
      "overflow_x": null,
      "grid_auto_flow": null,
      "grid_area": null,
      "grid_template_columns": null,
      "flex": null,
      "_model_name": "LayoutModel",
      "justify_items": null,
      "grid_row": null,
      "max_height": null,
      "align_content": null,
      "visibility": null,
      "align_self": null,
      "height": null,
      "min_height": null,
      "padding": null,
      "grid_auto_rows": null,
      "grid_gap": null,
      "max_width": null,
      "order": null,
      "_view_module_version": "1.2.0",
      "grid_template_areas": null,
      "object_position": null,
      "object_fit": null,
      "grid_auto_columns": null,
      "margin": null,
      "display": null,
      "left": null
     }
    },
    "6069d489ce7f46169c1cdda804782128": {
     "model_module": "@jupyter-widgets/controls",
     "model_name": "HTMLModel",
     "model_module_version": "1.5.0",
     "state": {
      "_view_name": "HTMLView",
      "style": "IPY_MODEL_a556c7207df846d3a41391ece0527190",
      "_dom_classes": [],
      "description": "",
      "_model_name": "HTMLModel",
      "placeholder": "​",
      "_view_module": "@jupyter-widgets/controls",
      "_model_module_version": "1.5.0",
      "value": "100%",
      "_view_count": null,
      "_view_module_version": "1.5.0",
      "description_tooltip": null,
      "_model_module": "@jupyter-widgets/controls",
      "layout": "IPY_MODEL_78e74aa3808045919e90f79ac3de9b3c"
     }
    },
    "0a73e7d8365d44d48a7c601bf3008a44": {
     "model_module": "@jupyter-widgets/controls",
     "model_name": "FloatProgressModel",
     "model_module_version": "1.5.0",
     "state": {
      "_view_name": "ProgressView",
      "style": "IPY_MODEL_a7be91ef0ff34d10ad216e20fdf011cc",
      "_dom_classes": [],
      "description": "",
      "_model_name": "FloatProgressModel",
      "bar_style": "success",
      "max": 4,
      "_view_module": "@jupyter-widgets/controls",
      "_model_module_version": "1.5.0",
      "value": 4,
      "_view_count": null,
      "_view_module_version": "1.5.0",
      "orientation": "horizontal",
      "min": 0,
      "description_tooltip": null,
      "_model_module": "@jupyter-widgets/controls",
      "layout": "IPY_MODEL_4733bf403c1a4d899ce661cff39aa8d4"
     }
    },
    "ca300b85e15f42889cdcf656dddf69a8": {
     "model_module": "@jupyter-widgets/controls",
     "model_name": "HTMLModel",
     "model_module_version": "1.5.0",
     "state": {
      "_view_name": "HTMLView",
      "style": "IPY_MODEL_f2809c0b297d4acda08fa0030c70b261",
      "_dom_classes": [],
      "description": "",
      "_model_name": "HTMLModel",
      "placeholder": "​",
      "_view_module": "@jupyter-widgets/controls",
      "_model_module_version": "1.5.0",
      "value": " 4/4 [00:01&lt;00:00,  3.64it/s]",
      "_view_count": null,
      "_view_module_version": "1.5.0",
      "description_tooltip": null,
      "_model_module": "@jupyter-widgets/controls",
      "layout": "IPY_MODEL_63447861258a4b54a89a2a931d85bfef"
     }
    },
    "a556c7207df846d3a41391ece0527190": {
     "model_module": "@jupyter-widgets/controls",
     "model_name": "DescriptionStyleModel",
     "model_module_version": "1.5.0",
     "state": {
      "_view_name": "StyleView",
      "_model_name": "DescriptionStyleModel",
      "description_width": "",
      "_view_module": "@jupyter-widgets/base",
      "_model_module_version": "1.5.0",
      "_view_count": null,
      "_view_module_version": "1.2.0",
      "_model_module": "@jupyter-widgets/controls"
     }
    },
    "78e74aa3808045919e90f79ac3de9b3c": {
     "model_module": "@jupyter-widgets/base",
     "model_name": "LayoutModel",
     "model_module_version": "1.2.0",
     "state": {
      "_view_name": "LayoutView",
      "grid_template_rows": null,
      "right": null,
      "justify_content": null,
      "_view_module": "@jupyter-widgets/base",
      "overflow": null,
      "_model_module_version": "1.2.0",
      "_view_count": null,
      "flex_flow": null,
      "width": null,
      "min_width": null,
      "border": null,
      "align_items": null,
      "bottom": null,
      "_model_module": "@jupyter-widgets/base",
      "top": null,
      "grid_column": null,
      "overflow_y": null,
      "overflow_x": null,
      "grid_auto_flow": null,
      "grid_area": null,
      "grid_template_columns": null,
      "flex": null,
      "_model_name": "LayoutModel",
      "justify_items": null,
      "grid_row": null,
      "max_height": null,
      "align_content": null,
      "visibility": null,
      "align_self": null,
      "height": null,
      "min_height": null,
      "padding": null,
      "grid_auto_rows": null,
      "grid_gap": null,
      "max_width": null,
      "order": null,
      "_view_module_version": "1.2.0",
      "grid_template_areas": null,
      "object_position": null,
      "object_fit": null,
      "grid_auto_columns": null,
      "margin": null,
      "display": null,
      "left": null
     }
    },
    "a7be91ef0ff34d10ad216e20fdf011cc": {
     "model_module": "@jupyter-widgets/controls",
     "model_name": "ProgressStyleModel",
     "model_module_version": "1.5.0",
     "state": {
      "_view_name": "StyleView",
      "_model_name": "ProgressStyleModel",
      "description_width": "",
      "_view_module": "@jupyter-widgets/base",
      "_model_module_version": "1.5.0",
      "_view_count": null,
      "_view_module_version": "1.2.0",
      "bar_color": null,
      "_model_module": "@jupyter-widgets/controls"
     }
    },
    "4733bf403c1a4d899ce661cff39aa8d4": {
     "model_module": "@jupyter-widgets/base",
     "model_name": "LayoutModel",
     "model_module_version": "1.2.0",
     "state": {
      "_view_name": "LayoutView",
      "grid_template_rows": null,
      "right": null,
      "justify_content": null,
      "_view_module": "@jupyter-widgets/base",
      "overflow": null,
      "_model_module_version": "1.2.0",
      "_view_count": null,
      "flex_flow": null,
      "width": null,
      "min_width": null,
      "border": null,
      "align_items": null,
      "bottom": null,
      "_model_module": "@jupyter-widgets/base",
      "top": null,
      "grid_column": null,
      "overflow_y": null,
      "overflow_x": null,
      "grid_auto_flow": null,
      "grid_area": null,
      "grid_template_columns": null,
      "flex": null,
      "_model_name": "LayoutModel",
      "justify_items": null,
      "grid_row": null,
      "max_height": null,
      "align_content": null,
      "visibility": null,
      "align_self": null,
      "height": null,
      "min_height": null,
      "padding": null,
      "grid_auto_rows": null,
      "grid_gap": null,
      "max_width": null,
      "order": null,
      "_view_module_version": "1.2.0",
      "grid_template_areas": null,
      "object_position": null,
      "object_fit": null,
      "grid_auto_columns": null,
      "margin": null,
      "display": null,
      "left": null
     }
    },
    "f2809c0b297d4acda08fa0030c70b261": {
     "model_module": "@jupyter-widgets/controls",
     "model_name": "DescriptionStyleModel",
     "model_module_version": "1.5.0",
     "state": {
      "_view_name": "StyleView",
      "_model_name": "DescriptionStyleModel",
      "description_width": "",
      "_view_module": "@jupyter-widgets/base",
      "_model_module_version": "1.5.0",
      "_view_count": null,
      "_view_module_version": "1.2.0",
      "_model_module": "@jupyter-widgets/controls"
     }
    },
    "63447861258a4b54a89a2a931d85bfef": {
     "model_module": "@jupyter-widgets/base",
     "model_name": "LayoutModel",
     "model_module_version": "1.2.0",
     "state": {
      "_view_name": "LayoutView",
      "grid_template_rows": null,
      "right": null,
      "justify_content": null,
      "_view_module": "@jupyter-widgets/base",
      "overflow": null,
      "_model_module_version": "1.2.0",
      "_view_count": null,
      "flex_flow": null,
      "width": null,
      "min_width": null,
      "border": null,
      "align_items": null,
      "bottom": null,
      "_model_module": "@jupyter-widgets/base",
      "top": null,
      "grid_column": null,
      "overflow_y": null,
      "overflow_x": null,
      "grid_auto_flow": null,
      "grid_area": null,
      "grid_template_columns": null,
      "flex": null,
      "_model_name": "LayoutModel",
      "justify_items": null,
      "grid_row": null,
      "max_height": null,
      "align_content": null,
      "visibility": null,
      "align_self": null,
      "height": null,
      "min_height": null,
      "padding": null,
      "grid_auto_rows": null,
      "grid_gap": null,
      "max_width": null,
      "order": null,
      "_view_module_version": "1.2.0",
      "grid_template_areas": null,
      "object_position": null,
      "object_fit": null,
      "grid_auto_columns": null,
      "margin": null,
      "display": null,
      "left": null
     }
    },
    "2e62d672d4d2475ab1455def9b4dc6a6": {
     "model_module": "@jupyter-widgets/controls",
     "model_name": "HBoxModel",
     "model_module_version": "1.5.0",
     "state": {
      "_view_name": "HBoxView",
      "_dom_classes": [],
      "_model_name": "HBoxModel",
      "_view_module": "@jupyter-widgets/controls",
      "_model_module_version": "1.5.0",
      "_view_count": null,
      "_view_module_version": "1.5.0",
      "box_style": "",
      "layout": "IPY_MODEL_64b18b8c5330468e8ed4d9394d064a05",
      "_model_module": "@jupyter-widgets/controls",
      "children": [
       "IPY_MODEL_efe34cbbd56e49ff8191a9c79f571f4d",
       "IPY_MODEL_fa5d055a4f3340c19652abf238657540",
       "IPY_MODEL_11ee69f221014e8fb8f66df71278447d"
      ]
     }
    },
    "64b18b8c5330468e8ed4d9394d064a05": {
     "model_module": "@jupyter-widgets/base",
     "model_name": "LayoutModel",
     "model_module_version": "1.2.0",
     "state": {
      "_view_name": "LayoutView",
      "grid_template_rows": null,
      "right": null,
      "justify_content": null,
      "_view_module": "@jupyter-widgets/base",
      "overflow": null,
      "_model_module_version": "1.2.0",
      "_view_count": null,
      "flex_flow": null,
      "width": null,
      "min_width": null,
      "border": null,
      "align_items": null,
      "bottom": null,
      "_model_module": "@jupyter-widgets/base",
      "top": null,
      "grid_column": null,
      "overflow_y": null,
      "overflow_x": null,
      "grid_auto_flow": null,
      "grid_area": null,
      "grid_template_columns": null,
      "flex": null,
      "_model_name": "LayoutModel",
      "justify_items": null,
      "grid_row": null,
      "max_height": null,
      "align_content": null,
      "visibility": null,
      "align_self": null,
      "height": null,
      "min_height": null,
      "padding": null,
      "grid_auto_rows": null,
      "grid_gap": null,
      "max_width": null,
      "order": null,
      "_view_module_version": "1.2.0",
      "grid_template_areas": null,
      "object_position": null,
      "object_fit": null,
      "grid_auto_columns": null,
      "margin": null,
      "display": null,
      "left": null
     }
    },
    "efe34cbbd56e49ff8191a9c79f571f4d": {
     "model_module": "@jupyter-widgets/controls",
     "model_name": "HTMLModel",
     "model_module_version": "1.5.0",
     "state": {
      "_view_name": "HTMLView",
      "style": "IPY_MODEL_7d333f18d34f477e89861900f93fc410",
      "_dom_classes": [],
      "description": "",
      "_model_name": "HTMLModel",
      "placeholder": "​",
      "_view_module": "@jupyter-widgets/controls",
      "_model_module_version": "1.5.0",
      "value": "Downloading: 100%",
      "_view_count": null,
      "_view_module_version": "1.5.0",
      "description_tooltip": null,
      "_model_module": "@jupyter-widgets/controls",
      "layout": "IPY_MODEL_830cf396225247d8af48cc0a75249390"
     }
    },
    "fa5d055a4f3340c19652abf238657540": {
     "model_module": "@jupyter-widgets/controls",
     "model_name": "FloatProgressModel",
     "model_module_version": "1.5.0",
     "state": {
      "_view_name": "ProgressView",
      "style": "IPY_MODEL_95ff23f782bc4d38a7f4c573bbd4ba07",
      "_dom_classes": [],
      "description": "",
      "_model_name": "FloatProgressModel",
      "bar_style": "success",
      "max": 9912422,
      "_view_module": "@jupyter-widgets/controls",
      "_model_module_version": "1.5.0",
      "value": 9912422,
      "_view_count": null,
      "_view_module_version": "1.5.0",
      "orientation": "horizontal",
      "min": 0,
      "description_tooltip": null,
      "_model_module": "@jupyter-widgets/controls",
      "layout": "IPY_MODEL_a0017d924a6b4038a78e3ff552fe3b65"
     }
    },
    "11ee69f221014e8fb8f66df71278447d": {
     "model_module": "@jupyter-widgets/controls",
     "model_name": "HTMLModel",
     "model_module_version": "1.5.0",
     "state": {
      "_view_name": "HTMLView",
      "style": "IPY_MODEL_9a13fa17fde949c79971d348de4454a3",
      "_dom_classes": [],
      "description": "",
      "_model_name": "HTMLModel",
      "placeholder": "​",
      "_view_module": "@jupyter-widgets/controls",
      "_model_module_version": "1.5.0",
      "value": " 9.91M/9.91M [00:00&lt;00:00, 39.3MB/s]",
      "_view_count": null,
      "_view_module_version": "1.5.0",
      "description_tooltip": null,
      "_model_module": "@jupyter-widgets/controls",
      "layout": "IPY_MODEL_cd4f5257ed5346d999c3aadb356fba99"
     }
    },
    "7d333f18d34f477e89861900f93fc410": {
     "model_module": "@jupyter-widgets/controls",
     "model_name": "DescriptionStyleModel",
     "model_module_version": "1.5.0",
     "state": {
      "_view_name": "StyleView",
      "_model_name": "DescriptionStyleModel",
      "description_width": "",
      "_view_module": "@jupyter-widgets/base",
      "_model_module_version": "1.5.0",
      "_view_count": null,
      "_view_module_version": "1.2.0",
      "_model_module": "@jupyter-widgets/controls"
     }
    },
    "830cf396225247d8af48cc0a75249390": {
     "model_module": "@jupyter-widgets/base",
     "model_name": "LayoutModel",
     "model_module_version": "1.2.0",
     "state": {
      "_view_name": "LayoutView",
      "grid_template_rows": null,
      "right": null,
      "justify_content": null,
      "_view_module": "@jupyter-widgets/base",
      "overflow": null,
      "_model_module_version": "1.2.0",
      "_view_count": null,
      "flex_flow": null,
      "width": null,
      "min_width": null,
      "border": null,
      "align_items": null,
      "bottom": null,
      "_model_module": "@jupyter-widgets/base",
      "top": null,
      "grid_column": null,
      "overflow_y": null,
      "overflow_x": null,
      "grid_auto_flow": null,
      "grid_area": null,
      "grid_template_columns": null,
      "flex": null,
      "_model_name": "LayoutModel",
      "justify_items": null,
      "grid_row": null,
      "max_height": null,
      "align_content": null,
      "visibility": null,
      "align_self": null,
      "height": null,
      "min_height": null,
      "padding": null,
      "grid_auto_rows": null,
      "grid_gap": null,
      "max_width": null,
      "order": null,
      "_view_module_version": "1.2.0",
      "grid_template_areas": null,
      "object_position": null,
      "object_fit": null,
      "grid_auto_columns": null,
      "margin": null,
      "display": null,
      "left": null
     }
    },
    "95ff23f782bc4d38a7f4c573bbd4ba07": {
     "model_module": "@jupyter-widgets/controls",
     "model_name": "ProgressStyleModel",
     "model_module_version": "1.5.0",
     "state": {
      "_view_name": "StyleView",
      "_model_name": "ProgressStyleModel",
      "description_width": "",
      "_view_module": "@jupyter-widgets/base",
      "_model_module_version": "1.5.0",
      "_view_count": null,
      "_view_module_version": "1.2.0",
      "bar_color": null,
      "_model_module": "@jupyter-widgets/controls"
     }
    },
    "a0017d924a6b4038a78e3ff552fe3b65": {
     "model_module": "@jupyter-widgets/base",
     "model_name": "LayoutModel",
     "model_module_version": "1.2.0",
     "state": {
      "_view_name": "LayoutView",
      "grid_template_rows": null,
      "right": null,
      "justify_content": null,
      "_view_module": "@jupyter-widgets/base",
      "overflow": null,
      "_model_module_version": "1.2.0",
      "_view_count": null,
      "flex_flow": null,
      "width": null,
      "min_width": null,
      "border": null,
      "align_items": null,
      "bottom": null,
      "_model_module": "@jupyter-widgets/base",
      "top": null,
      "grid_column": null,
      "overflow_y": null,
      "overflow_x": null,
      "grid_auto_flow": null,
      "grid_area": null,
      "grid_template_columns": null,
      "flex": null,
      "_model_name": "LayoutModel",
      "justify_items": null,
      "grid_row": null,
      "max_height": null,
      "align_content": null,
      "visibility": null,
      "align_self": null,
      "height": null,
      "min_height": null,
      "padding": null,
      "grid_auto_rows": null,
      "grid_gap": null,
      "max_width": null,
      "order": null,
      "_view_module_version": "1.2.0",
      "grid_template_areas": null,
      "object_position": null,
      "object_fit": null,
      "grid_auto_columns": null,
      "margin": null,
      "display": null,
      "left": null
     }
    },
    "9a13fa17fde949c79971d348de4454a3": {
     "model_module": "@jupyter-widgets/controls",
     "model_name": "DescriptionStyleModel",
     "model_module_version": "1.5.0",
     "state": {
      "_view_name": "StyleView",
      "_model_name": "DescriptionStyleModel",
      "description_width": "",
      "_view_module": "@jupyter-widgets/base",
      "_model_module_version": "1.5.0",
      "_view_count": null,
      "_view_module_version": "1.2.0",
      "_model_module": "@jupyter-widgets/controls"
     }
    },
    "cd4f5257ed5346d999c3aadb356fba99": {
     "model_module": "@jupyter-widgets/base",
     "model_name": "LayoutModel",
     "model_module_version": "1.2.0",
     "state": {
      "_view_name": "LayoutView",
      "grid_template_rows": null,
      "right": null,
      "justify_content": null,
      "_view_module": "@jupyter-widgets/base",
      "overflow": null,
      "_model_module_version": "1.2.0",
      "_view_count": null,
      "flex_flow": null,
      "width": null,
      "min_width": null,
      "border": null,
      "align_items": null,
      "bottom": null,
      "_model_module": "@jupyter-widgets/base",
      "top": null,
      "grid_column": null,
      "overflow_y": null,
      "overflow_x": null,
      "grid_auto_flow": null,
      "grid_area": null,
      "grid_template_columns": null,
      "flex": null,
      "_model_name": "LayoutModel",
      "justify_items": null,
      "grid_row": null,
      "max_height": null,
      "align_content": null,
      "visibility": null,
      "align_self": null,
      "height": null,
      "min_height": null,
      "padding": null,
      "grid_auto_rows": null,
      "grid_gap": null,
      "max_width": null,
      "order": null,
      "_view_module_version": "1.2.0",
      "grid_template_areas": null,
      "object_position": null,
      "object_fit": null,
      "grid_auto_columns": null,
      "margin": null,
      "display": null,
      "left": null
     }
    },
    "aaf8609ad21e4955b024db9367cdf688": {
     "model_module": "@jupyter-widgets/controls",
     "model_name": "HBoxModel",
     "model_module_version": "1.5.0",
     "state": {
      "_view_name": "HBoxView",
      "_dom_classes": [],
      "_model_name": "HBoxModel",
      "_view_module": "@jupyter-widgets/controls",
      "_model_module_version": "1.5.0",
      "_view_count": null,
      "_view_module_version": "1.5.0",
      "box_style": "",
      "layout": "IPY_MODEL_f3c5e242299547c081448e73cb77991d",
      "_model_module": "@jupyter-widgets/controls",
      "children": [
       "IPY_MODEL_60e6069f287042158887368a3e9dd82f",
       "IPY_MODEL_0a8fc257e3b448a5b8ed8f3939d572f0",
       "IPY_MODEL_c8979e4e99ff46c58641c0d84a79965c"
      ]
     }
    },
    "f3c5e242299547c081448e73cb77991d": {
     "model_module": "@jupyter-widgets/base",
     "model_name": "LayoutModel",
     "model_module_version": "1.2.0",
     "state": {
      "_view_name": "LayoutView",
      "grid_template_rows": null,
      "right": null,
      "justify_content": null,
      "_view_module": "@jupyter-widgets/base",
      "overflow": null,
      "_model_module_version": "1.2.0",
      "_view_count": null,
      "flex_flow": null,
      "width": null,
      "min_width": null,
      "border": null,
      "align_items": null,
      "bottom": null,
      "_model_module": "@jupyter-widgets/base",
      "top": null,
      "grid_column": null,
      "overflow_y": null,
      "overflow_x": null,
      "grid_auto_flow": null,
      "grid_area": null,
      "grid_template_columns": null,
      "flex": null,
      "_model_name": "LayoutModel",
      "justify_items": null,
      "grid_row": null,
      "max_height": null,
      "align_content": null,
      "visibility": null,
      "align_self": null,
      "height": null,
      "min_height": null,
      "padding": null,
      "grid_auto_rows": null,
      "grid_gap": null,
      "max_width": null,
      "order": null,
      "_view_module_version": "1.2.0",
      "grid_template_areas": null,
      "object_position": null,
      "object_fit": null,
      "grid_auto_columns": null,
      "margin": null,
      "display": null,
      "left": null
     }
    },
    "60e6069f287042158887368a3e9dd82f": {
     "model_module": "@jupyter-widgets/controls",
     "model_name": "HTMLModel",
     "model_module_version": "1.5.0",
     "state": {
      "_view_name": "HTMLView",
      "style": "IPY_MODEL_c2c5f037b38f4759aedc29998bcea664",
      "_dom_classes": [],
      "description": "",
      "_model_name": "HTMLModel",
      "placeholder": "​",
      "_view_module": "@jupyter-widgets/controls",
      "_model_module_version": "1.5.0",
      "value": "Downloading: 100%",
      "_view_count": null,
      "_view_module_version": "1.5.0",
      "description_tooltip": null,
      "_model_module": "@jupyter-widgets/controls",
      "layout": "IPY_MODEL_081b37dd3e9a430aad936afac00416e5"
     }
    },
    "0a8fc257e3b448a5b8ed8f3939d572f0": {
     "model_module": "@jupyter-widgets/controls",
     "model_name": "FloatProgressModel",
     "model_module_version": "1.5.0",
     "state": {
      "_view_name": "ProgressView",
      "style": "IPY_MODEL_f4c8427e1f0c4f57857d12fd305d53c2",
      "_dom_classes": [],
      "description": "",
      "_model_name": "FloatProgressModel",
      "bar_style": "success",
      "max": 28881,
      "_view_module": "@jupyter-widgets/controls",
      "_model_module_version": "1.5.0",
      "value": 28881,
      "_view_count": null,
      "_view_module_version": "1.5.0",
      "orientation": "horizontal",
      "min": 0,
      "description_tooltip": null,
      "_model_module": "@jupyter-widgets/controls",
      "layout": "IPY_MODEL_846c317f9ba043568deeb02a287eb43c"
     }
    },
    "c8979e4e99ff46c58641c0d84a79965c": {
     "model_module": "@jupyter-widgets/controls",
     "model_name": "HTMLModel",
     "model_module_version": "1.5.0",
     "state": {
      "_view_name": "HTMLView",
      "style": "IPY_MODEL_b2c66d1eaffa456588c01ae302ee0821",
      "_dom_classes": [],
      "description": "",
      "_model_name": "HTMLModel",
      "placeholder": "​",
      "_view_module": "@jupyter-widgets/controls",
      "_model_module_version": "1.5.0",
      "value": " 28.9k/28.9k [00:00&lt;00:00, 814kB/s]",
      "_view_count": null,
      "_view_module_version": "1.5.0",
      "description_tooltip": null,
      "_model_module": "@jupyter-widgets/controls",
      "layout": "IPY_MODEL_2f6503990d25420f89307dc285dffa91"
     }
    },
    "c2c5f037b38f4759aedc29998bcea664": {
     "model_module": "@jupyter-widgets/controls",
     "model_name": "DescriptionStyleModel",
     "model_module_version": "1.5.0",
     "state": {
      "_view_name": "StyleView",
      "_model_name": "DescriptionStyleModel",
      "description_width": "",
      "_view_module": "@jupyter-widgets/base",
      "_model_module_version": "1.5.0",
      "_view_count": null,
      "_view_module_version": "1.2.0",
      "_model_module": "@jupyter-widgets/controls"
     }
    },
    "081b37dd3e9a430aad936afac00416e5": {
     "model_module": "@jupyter-widgets/base",
     "model_name": "LayoutModel",
     "model_module_version": "1.2.0",
     "state": {
      "_view_name": "LayoutView",
      "grid_template_rows": null,
      "right": null,
      "justify_content": null,
      "_view_module": "@jupyter-widgets/base",
      "overflow": null,
      "_model_module_version": "1.2.0",
      "_view_count": null,
      "flex_flow": null,
      "width": null,
      "min_width": null,
      "border": null,
      "align_items": null,
      "bottom": null,
      "_model_module": "@jupyter-widgets/base",
      "top": null,
      "grid_column": null,
      "overflow_y": null,
      "overflow_x": null,
      "grid_auto_flow": null,
      "grid_area": null,
      "grid_template_columns": null,
      "flex": null,
      "_model_name": "LayoutModel",
      "justify_items": null,
      "grid_row": null,
      "max_height": null,
      "align_content": null,
      "visibility": null,
      "align_self": null,
      "height": null,
      "min_height": null,
      "padding": null,
      "grid_auto_rows": null,
      "grid_gap": null,
      "max_width": null,
      "order": null,
      "_view_module_version": "1.2.0",
      "grid_template_areas": null,
      "object_position": null,
      "object_fit": null,
      "grid_auto_columns": null,
      "margin": null,
      "display": null,
      "left": null
     }
    },
    "f4c8427e1f0c4f57857d12fd305d53c2": {
     "model_module": "@jupyter-widgets/controls",
     "model_name": "ProgressStyleModel",
     "model_module_version": "1.5.0",
     "state": {
      "_view_name": "StyleView",
      "_model_name": "ProgressStyleModel",
      "description_width": "",
      "_view_module": "@jupyter-widgets/base",
      "_model_module_version": "1.5.0",
      "_view_count": null,
      "_view_module_version": "1.2.0",
      "bar_color": null,
      "_model_module": "@jupyter-widgets/controls"
     }
    },
    "846c317f9ba043568deeb02a287eb43c": {
     "model_module": "@jupyter-widgets/base",
     "model_name": "LayoutModel",
     "model_module_version": "1.2.0",
     "state": {
      "_view_name": "LayoutView",
      "grid_template_rows": null,
      "right": null,
      "justify_content": null,
      "_view_module": "@jupyter-widgets/base",
      "overflow": null,
      "_model_module_version": "1.2.0",
      "_view_count": null,
      "flex_flow": null,
      "width": null,
      "min_width": null,
      "border": null,
      "align_items": null,
      "bottom": null,
      "_model_module": "@jupyter-widgets/base",
      "top": null,
      "grid_column": null,
      "overflow_y": null,
      "overflow_x": null,
      "grid_auto_flow": null,
      "grid_area": null,
      "grid_template_columns": null,
      "flex": null,
      "_model_name": "LayoutModel",
      "justify_items": null,
      "grid_row": null,
      "max_height": null,
      "align_content": null,
      "visibility": null,
      "align_self": null,
      "height": null,
      "min_height": null,
      "padding": null,
      "grid_auto_rows": null,
      "grid_gap": null,
      "max_width": null,
      "order": null,
      "_view_module_version": "1.2.0",
      "grid_template_areas": null,
      "object_position": null,
      "object_fit": null,
      "grid_auto_columns": null,
      "margin": null,
      "display": null,
      "left": null
     }
    },
    "b2c66d1eaffa456588c01ae302ee0821": {
     "model_module": "@jupyter-widgets/controls",
     "model_name": "DescriptionStyleModel",
     "model_module_version": "1.5.0",
     "state": {
      "_view_name": "StyleView",
      "_model_name": "DescriptionStyleModel",
      "description_width": "",
      "_view_module": "@jupyter-widgets/base",
      "_model_module_version": "1.5.0",
      "_view_count": null,
      "_view_module_version": "1.2.0",
      "_model_module": "@jupyter-widgets/controls"
     }
    },
    "2f6503990d25420f89307dc285dffa91": {
     "model_module": "@jupyter-widgets/base",
     "model_name": "LayoutModel",
     "model_module_version": "1.2.0",
     "state": {
      "_view_name": "LayoutView",
      "grid_template_rows": null,
      "right": null,
      "justify_content": null,
      "_view_module": "@jupyter-widgets/base",
      "overflow": null,
      "_model_module_version": "1.2.0",
      "_view_count": null,
      "flex_flow": null,
      "width": null,
      "min_width": null,
      "border": null,
      "align_items": null,
      "bottom": null,
      "_model_module": "@jupyter-widgets/base",
      "top": null,
      "grid_column": null,
      "overflow_y": null,
      "overflow_x": null,
      "grid_auto_flow": null,
      "grid_area": null,
      "grid_template_columns": null,
      "flex": null,
      "_model_name": "LayoutModel",
      "justify_items": null,
      "grid_row": null,
      "max_height": null,
      "align_content": null,
      "visibility": null,
      "align_self": null,
      "height": null,
      "min_height": null,
      "padding": null,
      "grid_auto_rows": null,
      "grid_gap": null,
      "max_width": null,
      "order": null,
      "_view_module_version": "1.2.0",
      "grid_template_areas": null,
      "object_position": null,
      "object_fit": null,
      "grid_auto_columns": null,
      "margin": null,
      "display": null,
      "left": null
     }
    },
    "c785e7d7eda441339013bcbe92c071f8": {
     "model_module": "@jupyter-widgets/controls",
     "model_name": "HBoxModel",
     "model_module_version": "1.5.0",
     "state": {
      "_view_name": "HBoxView",
      "_dom_classes": [],
      "_model_name": "HBoxModel",
      "_view_module": "@jupyter-widgets/controls",
      "_model_module_version": "1.5.0",
      "_view_count": null,
      "_view_module_version": "1.5.0",
      "box_style": "",
      "layout": "IPY_MODEL_a604eabc1f924fc5843626b7b99fe780",
      "_model_module": "@jupyter-widgets/controls",
      "children": [
       "IPY_MODEL_be8681df1cb148efa4c201736d9520c6",
       "IPY_MODEL_a1a69bacae0149018534de6ab680eae3",
       "IPY_MODEL_39d354b2b31b466eab68b33a858ecf5a"
      ]
     }
    },
    "a604eabc1f924fc5843626b7b99fe780": {
     "model_module": "@jupyter-widgets/base",
     "model_name": "LayoutModel",
     "model_module_version": "1.2.0",
     "state": {
      "_view_name": "LayoutView",
      "grid_template_rows": null,
      "right": null,
      "justify_content": null,
      "_view_module": "@jupyter-widgets/base",
      "overflow": null,
      "_model_module_version": "1.2.0",
      "_view_count": null,
      "flex_flow": null,
      "width": null,
      "min_width": null,
      "border": null,
      "align_items": null,
      "bottom": null,
      "_model_module": "@jupyter-widgets/base",
      "top": null,
      "grid_column": null,
      "overflow_y": null,
      "overflow_x": null,
      "grid_auto_flow": null,
      "grid_area": null,
      "grid_template_columns": null,
      "flex": null,
      "_model_name": "LayoutModel",
      "justify_items": null,
      "grid_row": null,
      "max_height": null,
      "align_content": null,
      "visibility": null,
      "align_self": null,
      "height": null,
      "min_height": null,
      "padding": null,
      "grid_auto_rows": null,
      "grid_gap": null,
      "max_width": null,
      "order": null,
      "_view_module_version": "1.2.0",
      "grid_template_areas": null,
      "object_position": null,
      "object_fit": null,
      "grid_auto_columns": null,
      "margin": null,
      "display": null,
      "left": null
     }
    },
    "be8681df1cb148efa4c201736d9520c6": {
     "model_module": "@jupyter-widgets/controls",
     "model_name": "HTMLModel",
     "model_module_version": "1.5.0",
     "state": {
      "_view_name": "HTMLView",
      "style": "IPY_MODEL_5e23e2a8724240eeaa99809992671647",
      "_dom_classes": [],
      "description": "",
      "_model_name": "HTMLModel",
      "placeholder": "​",
      "_view_module": "@jupyter-widgets/controls",
      "_model_module_version": "1.5.0",
      "value": "Downloading: 100%",
      "_view_count": null,
      "_view_module_version": "1.5.0",
      "description_tooltip": null,
      "_model_module": "@jupyter-widgets/controls",
      "layout": "IPY_MODEL_a4c58c4ebea64f39947a98b37d2fb5c8"
     }
    },
    "a1a69bacae0149018534de6ab680eae3": {
     "model_module": "@jupyter-widgets/controls",
     "model_name": "FloatProgressModel",
     "model_module_version": "1.5.0",
     "state": {
      "_view_name": "ProgressView",
      "style": "IPY_MODEL_d945cbfe1a9e4de6b919ddb163918306",
      "_dom_classes": [],
      "description": "",
      "_model_name": "FloatProgressModel",
      "bar_style": "success",
      "max": 1648877,
      "_view_module": "@jupyter-widgets/controls",
      "_model_module_version": "1.5.0",
      "value": 1648877,
      "_view_count": null,
      "_view_module_version": "1.5.0",
      "orientation": "horizontal",
      "min": 0,
      "description_tooltip": null,
      "_model_module": "@jupyter-widgets/controls",
      "layout": "IPY_MODEL_0fa253cc99504c7bb8c11ae00de85cca"
     }
    },
    "39d354b2b31b466eab68b33a858ecf5a": {
     "model_module": "@jupyter-widgets/controls",
     "model_name": "HTMLModel",
     "model_module_version": "1.5.0",
     "state": {
      "_view_name": "HTMLView",
      "style": "IPY_MODEL_9531d15333ff4267ac0dbb1e8f1d1117",
      "_dom_classes": [],
      "description": "",
      "_model_name": "HTMLModel",
      "placeholder": "​",
      "_view_module": "@jupyter-widgets/controls",
      "_model_module_version": "1.5.0",
      "value": " 1.65M/1.65M [00:00&lt;00:00, 12.5MB/s]",
      "_view_count": null,
      "_view_module_version": "1.5.0",
      "description_tooltip": null,
      "_model_module": "@jupyter-widgets/controls",
      "layout": "IPY_MODEL_d73c1ebbd21a4630a0a016c5e3b766a4"
     }
    },
    "5e23e2a8724240eeaa99809992671647": {
     "model_module": "@jupyter-widgets/controls",
     "model_name": "DescriptionStyleModel",
     "model_module_version": "1.5.0",
     "state": {
      "_view_name": "StyleView",
      "_model_name": "DescriptionStyleModel",
      "description_width": "",
      "_view_module": "@jupyter-widgets/base",
      "_model_module_version": "1.5.0",
      "_view_count": null,
      "_view_module_version": "1.2.0",
      "_model_module": "@jupyter-widgets/controls"
     }
    },
    "a4c58c4ebea64f39947a98b37d2fb5c8": {
     "model_module": "@jupyter-widgets/base",
     "model_name": "LayoutModel",
     "model_module_version": "1.2.0",
     "state": {
      "_view_name": "LayoutView",
      "grid_template_rows": null,
      "right": null,
      "justify_content": null,
      "_view_module": "@jupyter-widgets/base",
      "overflow": null,
      "_model_module_version": "1.2.0",
      "_view_count": null,
      "flex_flow": null,
      "width": null,
      "min_width": null,
      "border": null,
      "align_items": null,
      "bottom": null,
      "_model_module": "@jupyter-widgets/base",
      "top": null,
      "grid_column": null,
      "overflow_y": null,
      "overflow_x": null,
      "grid_auto_flow": null,
      "grid_area": null,
      "grid_template_columns": null,
      "flex": null,
      "_model_name": "LayoutModel",
      "justify_items": null,
      "grid_row": null,
      "max_height": null,
      "align_content": null,
      "visibility": null,
      "align_self": null,
      "height": null,
      "min_height": null,
      "padding": null,
      "grid_auto_rows": null,
      "grid_gap": null,
      "max_width": null,
      "order": null,
      "_view_module_version": "1.2.0",
      "grid_template_areas": null,
      "object_position": null,
      "object_fit": null,
      "grid_auto_columns": null,
      "margin": null,
      "display": null,
      "left": null
     }
    },
    "d945cbfe1a9e4de6b919ddb163918306": {
     "model_module": "@jupyter-widgets/controls",
     "model_name": "ProgressStyleModel",
     "model_module_version": "1.5.0",
     "state": {
      "_view_name": "StyleView",
      "_model_name": "ProgressStyleModel",
      "description_width": "",
      "_view_module": "@jupyter-widgets/base",
      "_model_module_version": "1.5.0",
      "_view_count": null,
      "_view_module_version": "1.2.0",
      "bar_color": null,
      "_model_module": "@jupyter-widgets/controls"
     }
    },
    "0fa253cc99504c7bb8c11ae00de85cca": {
     "model_module": "@jupyter-widgets/base",
     "model_name": "LayoutModel",
     "model_module_version": "1.2.0",
     "state": {
      "_view_name": "LayoutView",
      "grid_template_rows": null,
      "right": null,
      "justify_content": null,
      "_view_module": "@jupyter-widgets/base",
      "overflow": null,
      "_model_module_version": "1.2.0",
      "_view_count": null,
      "flex_flow": null,
      "width": null,
      "min_width": null,
      "border": null,
      "align_items": null,
      "bottom": null,
      "_model_module": "@jupyter-widgets/base",
      "top": null,
      "grid_column": null,
      "overflow_y": null,
      "overflow_x": null,
      "grid_auto_flow": null,
      "grid_area": null,
      "grid_template_columns": null,
      "flex": null,
      "_model_name": "LayoutModel",
      "justify_items": null,
      "grid_row": null,
      "max_height": null,
      "align_content": null,
      "visibility": null,
      "align_self": null,
      "height": null,
      "min_height": null,
      "padding": null,
      "grid_auto_rows": null,
      "grid_gap": null,
      "max_width": null,
      "order": null,
      "_view_module_version": "1.2.0",
      "grid_template_areas": null,
      "object_position": null,
      "object_fit": null,
      "grid_auto_columns": null,
      "margin": null,
      "display": null,
      "left": null
     }
    },
    "9531d15333ff4267ac0dbb1e8f1d1117": {
     "model_module": "@jupyter-widgets/controls",
     "model_name": "DescriptionStyleModel",
     "model_module_version": "1.5.0",
     "state": {
      "_view_name": "StyleView",
      "_model_name": "DescriptionStyleModel",
      "description_width": "",
      "_view_module": "@jupyter-widgets/base",
      "_model_module_version": "1.5.0",
      "_view_count": null,
      "_view_module_version": "1.2.0",
      "_model_module": "@jupyter-widgets/controls"
     }
    },
    "d73c1ebbd21a4630a0a016c5e3b766a4": {
     "model_module": "@jupyter-widgets/base",
     "model_name": "LayoutModel",
     "model_module_version": "1.2.0",
     "state": {
      "_view_name": "LayoutView",
      "grid_template_rows": null,
      "right": null,
      "justify_content": null,
      "_view_module": "@jupyter-widgets/base",
      "overflow": null,
      "_model_module_version": "1.2.0",
      "_view_count": null,
      "flex_flow": null,
      "width": null,
      "min_width": null,
      "border": null,
      "align_items": null,
      "bottom": null,
      "_model_module": "@jupyter-widgets/base",
      "top": null,
      "grid_column": null,
      "overflow_y": null,
      "overflow_x": null,
      "grid_auto_flow": null,
      "grid_area": null,
      "grid_template_columns": null,
      "flex": null,
      "_model_name": "LayoutModel",
      "justify_items": null,
      "grid_row": null,
      "max_height": null,
      "align_content": null,
      "visibility": null,
      "align_self": null,
      "height": null,
      "min_height": null,
      "padding": null,
      "grid_auto_rows": null,
      "grid_gap": null,
      "max_width": null,
      "order": null,
      "_view_module_version": "1.2.0",
      "grid_template_areas": null,
      "object_position": null,
      "object_fit": null,
      "grid_auto_columns": null,
      "margin": null,
      "display": null,
      "left": null
     }
    },
    "2d1568c817214a1da0fd11ed6b09ebe9": {
     "model_module": "@jupyter-widgets/controls",
     "model_name": "HBoxModel",
     "model_module_version": "1.5.0",
     "state": {
      "_view_name": "HBoxView",
      "_dom_classes": [],
      "_model_name": "HBoxModel",
      "_view_module": "@jupyter-widgets/controls",
      "_model_module_version": "1.5.0",
      "_view_count": null,
      "_view_module_version": "1.5.0",
      "box_style": "",
      "layout": "IPY_MODEL_dda220ae253b44a0934b712ebbfaed55",
      "_model_module": "@jupyter-widgets/controls",
      "children": [
       "IPY_MODEL_3ed8f7dc1a0049888134fa770ad9153c",
       "IPY_MODEL_ec566c7eaa15486f8ef067abe13d2f13",
       "IPY_MODEL_a9894bcb7a4d4b57b3668b1534f268fd"
      ]
     }
    },
    "dda220ae253b44a0934b712ebbfaed55": {
     "model_module": "@jupyter-widgets/base",
     "model_name": "LayoutModel",
     "model_module_version": "1.2.0",
     "state": {
      "_view_name": "LayoutView",
      "grid_template_rows": null,
      "right": null,
      "justify_content": null,
      "_view_module": "@jupyter-widgets/base",
      "overflow": null,
      "_model_module_version": "1.2.0",
      "_view_count": null,
      "flex_flow": null,
      "width": null,
      "min_width": null,
      "border": null,
      "align_items": null,
      "bottom": null,
      "_model_module": "@jupyter-widgets/base",
      "top": null,
      "grid_column": null,
      "overflow_y": null,
      "overflow_x": null,
      "grid_auto_flow": null,
      "grid_area": null,
      "grid_template_columns": null,
      "flex": null,
      "_model_name": "LayoutModel",
      "justify_items": null,
      "grid_row": null,
      "max_height": null,
      "align_content": null,
      "visibility": null,
      "align_self": null,
      "height": null,
      "min_height": null,
      "padding": null,
      "grid_auto_rows": null,
      "grid_gap": null,
      "max_width": null,
      "order": null,
      "_view_module_version": "1.2.0",
      "grid_template_areas": null,
      "object_position": null,
      "object_fit": null,
      "grid_auto_columns": null,
      "margin": null,
      "display": null,
      "left": null
     }
    },
    "3ed8f7dc1a0049888134fa770ad9153c": {
     "model_module": "@jupyter-widgets/controls",
     "model_name": "HTMLModel",
     "model_module_version": "1.5.0",
     "state": {
      "_view_name": "HTMLView",
      "style": "IPY_MODEL_d1b3ef38a2cd4e6395548d7b313ec0b0",
      "_dom_classes": [],
      "description": "",
      "_model_name": "HTMLModel",
      "placeholder": "​",
      "_view_module": "@jupyter-widgets/controls",
      "_model_module_version": "1.5.0",
      "value": "Downloading: 100%",
      "_view_count": null,
      "_view_module_version": "1.5.0",
      "description_tooltip": null,
      "_model_module": "@jupyter-widgets/controls",
      "layout": "IPY_MODEL_10c42275cfa64e64939e943c1b0e30da"
     }
    },
    "ec566c7eaa15486f8ef067abe13d2f13": {
     "model_module": "@jupyter-widgets/controls",
     "model_name": "FloatProgressModel",
     "model_module_version": "1.5.0",
     "state": {
      "_view_name": "ProgressView",
      "style": "IPY_MODEL_bc4eba43d00d47d5b9d9efb2d113cced",
      "_dom_classes": [],
      "description": "",
      "_model_name": "FloatProgressModel",
      "bar_style": "success",
      "max": 4542,
      "_view_module": "@jupyter-widgets/controls",
      "_model_module_version": "1.5.0",
      "value": 4542,
      "_view_count": null,
      "_view_module_version": "1.5.0",
      "orientation": "horizontal",
      "min": 0,
      "description_tooltip": null,
      "_model_module": "@jupyter-widgets/controls",
      "layout": "IPY_MODEL_ed233c1e41cf49e6ad5f6339529f81b8"
     }
    },
    "a9894bcb7a4d4b57b3668b1534f268fd": {
     "model_module": "@jupyter-widgets/controls",
     "model_name": "HTMLModel",
     "model_module_version": "1.5.0",
     "state": {
      "_view_name": "HTMLView",
      "style": "IPY_MODEL_16f1ad87df5c4dda9435bacfbb06dee0",
      "_dom_classes": [],
      "description": "",
      "_model_name": "HTMLModel",
      "placeholder": "​",
      "_view_module": "@jupyter-widgets/controls",
      "_model_module_version": "1.5.0",
      "value": " 4.54k/4.54k [00:00&lt;00:00, 133kB/s]",
      "_view_count": null,
      "_view_module_version": "1.5.0",
      "description_tooltip": null,
      "_model_module": "@jupyter-widgets/controls",
      "layout": "IPY_MODEL_2d83f376e2b34ce7ae327a81486ef417"
     }
    },
    "d1b3ef38a2cd4e6395548d7b313ec0b0": {
     "model_module": "@jupyter-widgets/controls",
     "model_name": "DescriptionStyleModel",
     "model_module_version": "1.5.0",
     "state": {
      "_view_name": "StyleView",
      "_model_name": "DescriptionStyleModel",
      "description_width": "",
      "_view_module": "@jupyter-widgets/base",
      "_model_module_version": "1.5.0",
      "_view_count": null,
      "_view_module_version": "1.2.0",
      "_model_module": "@jupyter-widgets/controls"
     }
    },
    "10c42275cfa64e64939e943c1b0e30da": {
     "model_module": "@jupyter-widgets/base",
     "model_name": "LayoutModel",
     "model_module_version": "1.2.0",
     "state": {
      "_view_name": "LayoutView",
      "grid_template_rows": null,
      "right": null,
      "justify_content": null,
      "_view_module": "@jupyter-widgets/base",
      "overflow": null,
      "_model_module_version": "1.2.0",
      "_view_count": null,
      "flex_flow": null,
      "width": null,
      "min_width": null,
      "border": null,
      "align_items": null,
      "bottom": null,
      "_model_module": "@jupyter-widgets/base",
      "top": null,
      "grid_column": null,
      "overflow_y": null,
      "overflow_x": null,
      "grid_auto_flow": null,
      "grid_area": null,
      "grid_template_columns": null,
      "flex": null,
      "_model_name": "LayoutModel",
      "justify_items": null,
      "grid_row": null,
      "max_height": null,
      "align_content": null,
      "visibility": null,
      "align_self": null,
      "height": null,
      "min_height": null,
      "padding": null,
      "grid_auto_rows": null,
      "grid_gap": null,
      "max_width": null,
      "order": null,
      "_view_module_version": "1.2.0",
      "grid_template_areas": null,
      "object_position": null,
      "object_fit": null,
      "grid_auto_columns": null,
      "margin": null,
      "display": null,
      "left": null
     }
    },
    "bc4eba43d00d47d5b9d9efb2d113cced": {
     "model_module": "@jupyter-widgets/controls",
     "model_name": "ProgressStyleModel",
     "model_module_version": "1.5.0",
     "state": {
      "_view_name": "StyleView",
      "_model_name": "ProgressStyleModel",
      "description_width": "",
      "_view_module": "@jupyter-widgets/base",
      "_model_module_version": "1.5.0",
      "_view_count": null,
      "_view_module_version": "1.2.0",
      "bar_color": null,
      "_model_module": "@jupyter-widgets/controls"
     }
    },
    "ed233c1e41cf49e6ad5f6339529f81b8": {
     "model_module": "@jupyter-widgets/base",
     "model_name": "LayoutModel",
     "model_module_version": "1.2.0",
     "state": {
      "_view_name": "LayoutView",
      "grid_template_rows": null,
      "right": null,
      "justify_content": null,
      "_view_module": "@jupyter-widgets/base",
      "overflow": null,
      "_model_module_version": "1.2.0",
      "_view_count": null,
      "flex_flow": null,
      "width": null,
      "min_width": null,
      "border": null,
      "align_items": null,
      "bottom": null,
      "_model_module": "@jupyter-widgets/base",
      "top": null,
      "grid_column": null,
      "overflow_y": null,
      "overflow_x": null,
      "grid_auto_flow": null,
      "grid_area": null,
      "grid_template_columns": null,
      "flex": null,
      "_model_name": "LayoutModel",
      "justify_items": null,
      "grid_row": null,
      "max_height": null,
      "align_content": null,
      "visibility": null,
      "align_self": null,
      "height": null,
      "min_height": null,
      "padding": null,
      "grid_auto_rows": null,
      "grid_gap": null,
      "max_width": null,
      "order": null,
      "_view_module_version": "1.2.0",
      "grid_template_areas": null,
      "object_position": null,
      "object_fit": null,
      "grid_auto_columns": null,
      "margin": null,
      "display": null,
      "left": null
     }
    },
    "16f1ad87df5c4dda9435bacfbb06dee0": {
     "model_module": "@jupyter-widgets/controls",
     "model_name": "DescriptionStyleModel",
     "model_module_version": "1.5.0",
     "state": {
      "_view_name": "StyleView",
      "_model_name": "DescriptionStyleModel",
      "description_width": "",
      "_view_module": "@jupyter-widgets/base",
      "_model_module_version": "1.5.0",
      "_view_count": null,
      "_view_module_version": "1.2.0",
      "_model_module": "@jupyter-widgets/controls"
     }
    },
    "2d83f376e2b34ce7ae327a81486ef417": {
     "model_module": "@jupyter-widgets/base",
     "model_name": "LayoutModel",
     "model_module_version": "1.2.0",
     "state": {
      "_view_name": "LayoutView",
      "grid_template_rows": null,
      "right": null,
      "justify_content": null,
      "_view_module": "@jupyter-widgets/base",
      "overflow": null,
      "_model_module_version": "1.2.0",
      "_view_count": null,
      "flex_flow": null,
      "width": null,
      "min_width": null,
      "border": null,
      "align_items": null,
      "bottom": null,
      "_model_module": "@jupyter-widgets/base",
      "top": null,
      "grid_column": null,
      "overflow_y": null,
      "overflow_x": null,
      "grid_auto_flow": null,
      "grid_area": null,
      "grid_template_columns": null,
      "flex": null,
      "_model_name": "LayoutModel",
      "justify_items": null,
      "grid_row": null,
      "max_height": null,
      "align_content": null,
      "visibility": null,
      "align_self": null,
      "height": null,
      "min_height": null,
      "padding": null,
      "grid_auto_rows": null,
      "grid_gap": null,
      "max_width": null,
      "order": null,
      "_view_module_version": "1.2.0",
      "grid_template_areas": null,
      "object_position": null,
      "object_fit": null,
      "grid_auto_columns": null,
      "margin": null,
      "display": null,
      "left": null
     }
    },
    "1af81d53e562496bac81cf69d9699521": {
     "model_module": "@jupyter-widgets/controls",
     "model_name": "HBoxModel",
     "model_module_version": "1.5.0",
     "state": {
      "_view_name": "HBoxView",
      "_dom_classes": [],
      "_model_name": "HBoxModel",
      "_view_module": "@jupyter-widgets/controls",
      "_model_module_version": "1.5.0",
      "_view_count": null,
      "_view_module_version": "1.5.0",
      "box_style": "",
      "layout": "IPY_MODEL_2d5a75a0a6a8458fbaa98000884bb5bc",
      "_model_module": "@jupyter-widgets/controls",
      "children": [
       "IPY_MODEL_9d3ba301be584337a6ae1bae092c5c55",
       "IPY_MODEL_dd7b04d0f71f435daeb16d3f8a843427",
       "IPY_MODEL_91168283c5d44ce79dfa5bb0d010d3f7"
      ]
     }
    },
    "2d5a75a0a6a8458fbaa98000884bb5bc": {
     "model_module": "@jupyter-widgets/base",
     "model_name": "LayoutModel",
     "model_module_version": "1.2.0",
     "state": {
      "_view_name": "LayoutView",
      "grid_template_rows": null,
      "right": null,
      "justify_content": null,
      "_view_module": "@jupyter-widgets/base",
      "overflow": null,
      "_model_module_version": "1.2.0",
      "_view_count": null,
      "flex_flow": null,
      "width": null,
      "min_width": null,
      "border": null,
      "align_items": null,
      "bottom": null,
      "_model_module": "@jupyter-widgets/base",
      "top": null,
      "grid_column": null,
      "overflow_y": null,
      "overflow_x": null,
      "grid_auto_flow": null,
      "grid_area": null,
      "grid_template_columns": null,
      "flex": null,
      "_model_name": "LayoutModel",
      "justify_items": null,
      "grid_row": null,
      "max_height": null,
      "align_content": null,
      "visibility": null,
      "align_self": null,
      "height": null,
      "min_height": null,
      "padding": null,
      "grid_auto_rows": null,
      "grid_gap": null,
      "max_width": null,
      "order": null,
      "_view_module_version": "1.2.0",
      "grid_template_areas": null,
      "object_position": null,
      "object_fit": null,
      "grid_auto_columns": null,
      "margin": null,
      "display": null,
      "left": null
     }
    },
    "9d3ba301be584337a6ae1bae092c5c55": {
     "model_module": "@jupyter-widgets/controls",
     "model_name": "HTMLModel",
     "model_module_version": "1.5.0",
     "state": {
      "_view_name": "HTMLView",
      "style": "IPY_MODEL_6f02dcaa4f8b460c85eb941456139c64",
      "_dom_classes": [],
      "description": "",
      "_model_name": "HTMLModel",
      "placeholder": "​",
      "_view_module": "@jupyter-widgets/controls",
      "_model_module_version": "1.5.0",
      "value": "100%",
      "_view_count": null,
      "_view_module_version": "1.5.0",
      "description_tooltip": null,
      "_model_module": "@jupyter-widgets/controls",
      "layout": "IPY_MODEL_576fc9c180d94ad797627950d04d1f17"
     }
    },
    "dd7b04d0f71f435daeb16d3f8a843427": {
     "model_module": "@jupyter-widgets/controls",
     "model_name": "FloatProgressModel",
     "model_module_version": "1.5.0",
     "state": {
      "_view_name": "ProgressView",
      "style": "IPY_MODEL_f1938cda0d9f40a7a19ac2efe5eb36c2",
      "_dom_classes": [],
      "description": "",
      "_model_name": "FloatProgressModel",
      "bar_style": "success",
      "max": 4,
      "_view_module": "@jupyter-widgets/controls",
      "_model_module_version": "1.5.0",
      "value": 4,
      "_view_count": null,
      "_view_module_version": "1.5.0",
      "orientation": "horizontal",
      "min": 0,
      "description_tooltip": null,
      "_model_module": "@jupyter-widgets/controls",
      "layout": "IPY_MODEL_9bc5c2bd5add42b1a489ae72a7096535"
     }
    },
    "91168283c5d44ce79dfa5bb0d010d3f7": {
     "model_module": "@jupyter-widgets/controls",
     "model_name": "HTMLModel",
     "model_module_version": "1.5.0",
     "state": {
      "_view_name": "HTMLView",
      "style": "IPY_MODEL_752588e00f874ff1a2cb2762ead5708b",
      "_dom_classes": [],
      "description": "",
      "_model_name": "HTMLModel",
      "placeholder": "​",
      "_view_module": "@jupyter-widgets/controls",
      "_model_module_version": "1.5.0",
      "value": " 4/4 [00:00&lt;00:00,  3.16it/s]",
      "_view_count": null,
      "_view_module_version": "1.5.0",
      "description_tooltip": null,
      "_model_module": "@jupyter-widgets/controls",
      "layout": "IPY_MODEL_1c7a2ed11a424370b88066f49f1d83f5"
     }
    },
    "6f02dcaa4f8b460c85eb941456139c64": {
     "model_module": "@jupyter-widgets/controls",
     "model_name": "DescriptionStyleModel",
     "model_module_version": "1.5.0",
     "state": {
      "_view_name": "StyleView",
      "_model_name": "DescriptionStyleModel",
      "description_width": "",
      "_view_module": "@jupyter-widgets/base",
      "_model_module_version": "1.5.0",
      "_view_count": null,
      "_view_module_version": "1.2.0",
      "_model_module": "@jupyter-widgets/controls"
     }
    },
    "576fc9c180d94ad797627950d04d1f17": {
     "model_module": "@jupyter-widgets/base",
     "model_name": "LayoutModel",
     "model_module_version": "1.2.0",
     "state": {
      "_view_name": "LayoutView",
      "grid_template_rows": null,
      "right": null,
      "justify_content": null,
      "_view_module": "@jupyter-widgets/base",
      "overflow": null,
      "_model_module_version": "1.2.0",
      "_view_count": null,
      "flex_flow": null,
      "width": null,
      "min_width": null,
      "border": null,
      "align_items": null,
      "bottom": null,
      "_model_module": "@jupyter-widgets/base",
      "top": null,
      "grid_column": null,
      "overflow_y": null,
      "overflow_x": null,
      "grid_auto_flow": null,
      "grid_area": null,
      "grid_template_columns": null,
      "flex": null,
      "_model_name": "LayoutModel",
      "justify_items": null,
      "grid_row": null,
      "max_height": null,
      "align_content": null,
      "visibility": null,
      "align_self": null,
      "height": null,
      "min_height": null,
      "padding": null,
      "grid_auto_rows": null,
      "grid_gap": null,
      "max_width": null,
      "order": null,
      "_view_module_version": "1.2.0",
      "grid_template_areas": null,
      "object_position": null,
      "object_fit": null,
      "grid_auto_columns": null,
      "margin": null,
      "display": null,
      "left": null
     }
    },
    "f1938cda0d9f40a7a19ac2efe5eb36c2": {
     "model_module": "@jupyter-widgets/controls",
     "model_name": "ProgressStyleModel",
     "model_module_version": "1.5.0",
     "state": {
      "_view_name": "StyleView",
      "_model_name": "ProgressStyleModel",
      "description_width": "",
      "_view_module": "@jupyter-widgets/base",
      "_model_module_version": "1.5.0",
      "_view_count": null,
      "_view_module_version": "1.2.0",
      "bar_color": null,
      "_model_module": "@jupyter-widgets/controls"
     }
    },
    "9bc5c2bd5add42b1a489ae72a7096535": {
     "model_module": "@jupyter-widgets/base",
     "model_name": "LayoutModel",
     "model_module_version": "1.2.0",
     "state": {
      "_view_name": "LayoutView",
      "grid_template_rows": null,
      "right": null,
      "justify_content": null,
      "_view_module": "@jupyter-widgets/base",
      "overflow": null,
      "_model_module_version": "1.2.0",
      "_view_count": null,
      "flex_flow": null,
      "width": null,
      "min_width": null,
      "border": null,
      "align_items": null,
      "bottom": null,
      "_model_module": "@jupyter-widgets/base",
      "top": null,
      "grid_column": null,
      "overflow_y": null,
      "overflow_x": null,
      "grid_auto_flow": null,
      "grid_area": null,
      "grid_template_columns": null,
      "flex": null,
      "_model_name": "LayoutModel",
      "justify_items": null,
      "grid_row": null,
      "max_height": null,
      "align_content": null,
      "visibility": null,
      "align_self": null,
      "height": null,
      "min_height": null,
      "padding": null,
      "grid_auto_rows": null,
      "grid_gap": null,
      "max_width": null,
      "order": null,
      "_view_module_version": "1.2.0",
      "grid_template_areas": null,
      "object_position": null,
      "object_fit": null,
      "grid_auto_columns": null,
      "margin": null,
      "display": null,
      "left": null
     }
    },
    "752588e00f874ff1a2cb2762ead5708b": {
     "model_module": "@jupyter-widgets/controls",
     "model_name": "DescriptionStyleModel",
     "model_module_version": "1.5.0",
     "state": {
      "_view_name": "StyleView",
      "_model_name": "DescriptionStyleModel",
      "description_width": "",
      "_view_module": "@jupyter-widgets/base",
      "_model_module_version": "1.5.0",
      "_view_count": null,
      "_view_module_version": "1.2.0",
      "_model_module": "@jupyter-widgets/controls"
     }
    },
    "1c7a2ed11a424370b88066f49f1d83f5": {
     "model_module": "@jupyter-widgets/base",
     "model_name": "LayoutModel",
     "model_module_version": "1.2.0",
     "state": {
      "_view_name": "LayoutView",
      "grid_template_rows": null,
      "right": null,
      "justify_content": null,
      "_view_module": "@jupyter-widgets/base",
      "overflow": null,
      "_model_module_version": "1.2.0",
      "_view_count": null,
      "flex_flow": null,
      "width": null,
      "min_width": null,
      "border": null,
      "align_items": null,
      "bottom": null,
      "_model_module": "@jupyter-widgets/base",
      "top": null,
      "grid_column": null,
      "overflow_y": null,
      "overflow_x": null,
      "grid_auto_flow": null,
      "grid_area": null,
      "grid_template_columns": null,
      "flex": null,
      "_model_name": "LayoutModel",
      "justify_items": null,
      "grid_row": null,
      "max_height": null,
      "align_content": null,
      "visibility": null,
      "align_self": null,
      "height": null,
      "min_height": null,
      "padding": null,
      "grid_auto_rows": null,
      "grid_gap": null,
      "max_width": null,
      "order": null,
      "_view_module_version": "1.2.0",
      "grid_template_areas": null,
      "object_position": null,
      "object_fit": null,
      "grid_auto_columns": null,
      "margin": null,
      "display": null,
      "left": null
     }
    },
    "85e299ea195245bb85be1eb5734355d8": {
     "model_module": "@jupyter-widgets/controls",
     "model_name": "HBoxModel",
     "model_module_version": "1.5.0",
     "state": {
      "_view_name": "HBoxView",
      "_dom_classes": [],
      "_model_name": "HBoxModel",
      "_view_module": "@jupyter-widgets/controls",
      "_model_module_version": "1.5.0",
      "_view_count": null,
      "_view_module_version": "1.5.0",
      "box_style": "",
      "layout": "IPY_MODEL_5a4bcaf30a9341b99622b17e9781a07a",
      "_model_module": "@jupyter-widgets/controls",
      "children": [
       "IPY_MODEL_f3573e3bee0e4c6380c4e75bdfe30e51",
       "IPY_MODEL_e902ba929b9946138ac799f8ac09dc24",
       "IPY_MODEL_896382da324f49ea9494b00c6907a2a3"
      ]
     }
    },
    "5a4bcaf30a9341b99622b17e9781a07a": {
     "model_module": "@jupyter-widgets/base",
     "model_name": "LayoutModel",
     "model_module_version": "1.2.0",
     "state": {
      "_view_name": "LayoutView",
      "grid_template_rows": null,
      "right": null,
      "justify_content": null,
      "_view_module": "@jupyter-widgets/base",
      "overflow": null,
      "_model_module_version": "1.2.0",
      "_view_count": null,
      "flex_flow": null,
      "width": null,
      "min_width": null,
      "border": null,
      "align_items": null,
      "bottom": null,
      "_model_module": "@jupyter-widgets/base",
      "top": null,
      "grid_column": null,
      "overflow_y": null,
      "overflow_x": null,
      "grid_auto_flow": null,
      "grid_area": null,
      "grid_template_columns": null,
      "flex": null,
      "_model_name": "LayoutModel",
      "justify_items": null,
      "grid_row": null,
      "max_height": null,
      "align_content": null,
      "visibility": null,
      "align_self": null,
      "height": null,
      "min_height": null,
      "padding": null,
      "grid_auto_rows": null,
      "grid_gap": null,
      "max_width": null,
      "order": null,
      "_view_module_version": "1.2.0",
      "grid_template_areas": null,
      "object_position": null,
      "object_fit": null,
      "grid_auto_columns": null,
      "margin": null,
      "display": null,
      "left": null
     }
    },
    "f3573e3bee0e4c6380c4e75bdfe30e51": {
     "model_module": "@jupyter-widgets/controls",
     "model_name": "HTMLModel",
     "model_module_version": "1.5.0",
     "state": {
      "_view_name": "HTMLView",
      "style": "IPY_MODEL_ef97d8c5872a4ef692d42d626b24e42f",
      "_dom_classes": [],
      "description": "",
      "_model_name": "HTMLModel",
      "placeholder": "​",
      "_view_module": "@jupyter-widgets/controls",
      "_model_module_version": "1.5.0",
      "value": "",
      "_view_count": null,
      "_view_module_version": "1.5.0",
      "description_tooltip": null,
      "_model_module": "@jupyter-widgets/controls",
      "layout": "IPY_MODEL_793151466be2442b9eedf8bc360396fa"
     }
    },
    "e902ba929b9946138ac799f8ac09dc24": {
     "model_module": "@jupyter-widgets/controls",
     "model_name": "FloatProgressModel",
     "model_module_version": "1.5.0",
     "state": {
      "_view_name": "ProgressView",
      "style": "IPY_MODEL_b17afcde823449d68dac46bf150f99e2",
      "_dom_classes": [],
      "description": "",
      "_model_name": "FloatProgressModel",
      "bar_style": "info",
      "max": 1,
      "_view_module": "@jupyter-widgets/controls",
      "_model_module_version": "1.5.0",
      "value": 1,
      "_view_count": null,
      "_view_module_version": "1.5.0",
      "orientation": "horizontal",
      "min": 0,
      "description_tooltip": null,
      "_model_module": "@jupyter-widgets/controls",
      "layout": "IPY_MODEL_c0a74cce432c4871b96419c1cd2caf61"
     }
    },
    "896382da324f49ea9494b00c6907a2a3": {
     "model_module": "@jupyter-widgets/controls",
     "model_name": "HTMLModel",
     "model_module_version": "1.5.0",
     "state": {
      "_view_name": "HTMLView",
      "style": "IPY_MODEL_050ce16772cb40ceb6ca3585506077be",
      "_dom_classes": [],
      "description": "",
      "_model_name": "HTMLModel",
      "placeholder": "​",
      "_view_module": "@jupyter-widgets/controls",
      "_model_module_version": "1.5.0",
      "value": " 60000/0 [00:05&lt;00:00, 7652.14 examples/s]",
      "_view_count": null,
      "_view_module_version": "1.5.0",
      "description_tooltip": null,
      "_model_module": "@jupyter-widgets/controls",
      "layout": "IPY_MODEL_0b398f1ed4e442db9aea4ebe1eaadcee"
     }
    },
    "ef97d8c5872a4ef692d42d626b24e42f": {
     "model_module": "@jupyter-widgets/controls",
     "model_name": "DescriptionStyleModel",
     "model_module_version": "1.5.0",
     "state": {
      "_view_name": "StyleView",
      "_model_name": "DescriptionStyleModel",
      "description_width": "",
      "_view_module": "@jupyter-widgets/base",
      "_model_module_version": "1.5.0",
      "_view_count": null,
      "_view_module_version": "1.2.0",
      "_model_module": "@jupyter-widgets/controls"
     }
    },
    "793151466be2442b9eedf8bc360396fa": {
     "model_module": "@jupyter-widgets/base",
     "model_name": "LayoutModel",
     "model_module_version": "1.2.0",
     "state": {
      "_view_name": "LayoutView",
      "grid_template_rows": null,
      "right": null,
      "justify_content": null,
      "_view_module": "@jupyter-widgets/base",
      "overflow": null,
      "_model_module_version": "1.2.0",
      "_view_count": null,
      "flex_flow": null,
      "width": null,
      "min_width": null,
      "border": null,
      "align_items": null,
      "bottom": null,
      "_model_module": "@jupyter-widgets/base",
      "top": null,
      "grid_column": null,
      "overflow_y": null,
      "overflow_x": null,
      "grid_auto_flow": null,
      "grid_area": null,
      "grid_template_columns": null,
      "flex": null,
      "_model_name": "LayoutModel",
      "justify_items": null,
      "grid_row": null,
      "max_height": null,
      "align_content": null,
      "visibility": null,
      "align_self": null,
      "height": null,
      "min_height": null,
      "padding": null,
      "grid_auto_rows": null,
      "grid_gap": null,
      "max_width": null,
      "order": null,
      "_view_module_version": "1.2.0",
      "grid_template_areas": null,
      "object_position": null,
      "object_fit": null,
      "grid_auto_columns": null,
      "margin": null,
      "display": null,
      "left": null
     }
    },
    "b17afcde823449d68dac46bf150f99e2": {
     "model_module": "@jupyter-widgets/controls",
     "model_name": "ProgressStyleModel",
     "model_module_version": "1.5.0",
     "state": {
      "_view_name": "StyleView",
      "_model_name": "ProgressStyleModel",
      "description_width": "",
      "_view_module": "@jupyter-widgets/base",
      "_model_module_version": "1.5.0",
      "_view_count": null,
      "_view_module_version": "1.2.0",
      "bar_color": null,
      "_model_module": "@jupyter-widgets/controls"
     }
    },
    "c0a74cce432c4871b96419c1cd2caf61": {
     "model_module": "@jupyter-widgets/base",
     "model_name": "LayoutModel",
     "model_module_version": "1.2.0",
     "state": {
      "_view_name": "LayoutView",
      "grid_template_rows": null,
      "right": null,
      "justify_content": null,
      "_view_module": "@jupyter-widgets/base",
      "overflow": null,
      "_model_module_version": "1.2.0",
      "_view_count": null,
      "flex_flow": null,
      "width": "20px",
      "min_width": null,
      "border": null,
      "align_items": null,
      "bottom": null,
      "_model_module": "@jupyter-widgets/base",
      "top": null,
      "grid_column": null,
      "overflow_y": null,
      "overflow_x": null,
      "grid_auto_flow": null,
      "grid_area": null,
      "grid_template_columns": null,
      "flex": null,
      "_model_name": "LayoutModel",
      "justify_items": null,
      "grid_row": null,
      "max_height": null,
      "align_content": null,
      "visibility": null,
      "align_self": null,
      "height": null,
      "min_height": null,
      "padding": null,
      "grid_auto_rows": null,
      "grid_gap": null,
      "max_width": null,
      "order": null,
      "_view_module_version": "1.2.0",
      "grid_template_areas": null,
      "object_position": null,
      "object_fit": null,
      "grid_auto_columns": null,
      "margin": null,
      "display": null,
      "left": null
     }
    },
    "050ce16772cb40ceb6ca3585506077be": {
     "model_module": "@jupyter-widgets/controls",
     "model_name": "DescriptionStyleModel",
     "model_module_version": "1.5.0",
     "state": {
      "_view_name": "StyleView",
      "_model_name": "DescriptionStyleModel",
      "description_width": "",
      "_view_module": "@jupyter-widgets/base",
      "_model_module_version": "1.5.0",
      "_view_count": null,
      "_view_module_version": "1.2.0",
      "_model_module": "@jupyter-widgets/controls"
     }
    },
    "0b398f1ed4e442db9aea4ebe1eaadcee": {
     "model_module": "@jupyter-widgets/base",
     "model_name": "LayoutModel",
     "model_module_version": "1.2.0",
     "state": {
      "_view_name": "LayoutView",
      "grid_template_rows": null,
      "right": null,
      "justify_content": null,
      "_view_module": "@jupyter-widgets/base",
      "overflow": null,
      "_model_module_version": "1.2.0",
      "_view_count": null,
      "flex_flow": null,
      "width": null,
      "min_width": null,
      "border": null,
      "align_items": null,
      "bottom": null,
      "_model_module": "@jupyter-widgets/base",
      "top": null,
      "grid_column": null,
      "overflow_y": null,
      "overflow_x": null,
      "grid_auto_flow": null,
      "grid_area": null,
      "grid_template_columns": null,
      "flex": null,
      "_model_name": "LayoutModel",
      "justify_items": null,
      "grid_row": null,
      "max_height": null,
      "align_content": null,
      "visibility": null,
      "align_self": null,
      "height": null,
      "min_height": null,
      "padding": null,
      "grid_auto_rows": null,
      "grid_gap": null,
      "max_width": null,
      "order": null,
      "_view_module_version": "1.2.0",
      "grid_template_areas": null,
      "object_position": null,
      "object_fit": null,
      "grid_auto_columns": null,
      "margin": null,
      "display": null,
      "left": null
     }
    },
    "6378d9eda6244cf1a436881095ae711b": {
     "model_module": "@jupyter-widgets/controls",
     "model_name": "HBoxModel",
     "model_module_version": "1.5.0",
     "state": {
      "_view_name": "HBoxView",
      "_dom_classes": [],
      "_model_name": "HBoxModel",
      "_view_module": "@jupyter-widgets/controls",
      "_model_module_version": "1.5.0",
      "_view_count": null,
      "_view_module_version": "1.5.0",
      "box_style": "",
      "layout": "IPY_MODEL_5f3b1be47a9a4604b334379aa880ac9f",
      "_model_module": "@jupyter-widgets/controls",
      "children": [
       "IPY_MODEL_54a89a8689de47abb10561f323a1c2e4",
       "IPY_MODEL_e199ee5934da43ac9317d01780d37af2",
       "IPY_MODEL_4339d40ab0604c40bf4d4d45f4ffe4fd"
      ]
     }
    },
    "5f3b1be47a9a4604b334379aa880ac9f": {
     "model_module": "@jupyter-widgets/base",
     "model_name": "LayoutModel",
     "model_module_version": "1.2.0",
     "state": {
      "_view_name": "LayoutView",
      "grid_template_rows": null,
      "right": null,
      "justify_content": null,
      "_view_module": "@jupyter-widgets/base",
      "overflow": null,
      "_model_module_version": "1.2.0",
      "_view_count": null,
      "flex_flow": null,
      "width": null,
      "min_width": null,
      "border": null,
      "align_items": null,
      "bottom": null,
      "_model_module": "@jupyter-widgets/base",
      "top": null,
      "grid_column": null,
      "overflow_y": null,
      "overflow_x": null,
      "grid_auto_flow": null,
      "grid_area": null,
      "grid_template_columns": null,
      "flex": null,
      "_model_name": "LayoutModel",
      "justify_items": null,
      "grid_row": null,
      "max_height": null,
      "align_content": null,
      "visibility": null,
      "align_self": null,
      "height": null,
      "min_height": null,
      "padding": null,
      "grid_auto_rows": null,
      "grid_gap": null,
      "max_width": null,
      "order": null,
      "_view_module_version": "1.2.0",
      "grid_template_areas": null,
      "object_position": null,
      "object_fit": null,
      "grid_auto_columns": null,
      "margin": null,
      "display": null,
      "left": null
     }
    },
    "54a89a8689de47abb10561f323a1c2e4": {
     "model_module": "@jupyter-widgets/controls",
     "model_name": "HTMLModel",
     "model_module_version": "1.5.0",
     "state": {
      "_view_name": "HTMLView",
      "style": "IPY_MODEL_3271f2a5b8934483a6529b5ac43a597c",
      "_dom_classes": [],
      "description": "",
      "_model_name": "HTMLModel",
      "placeholder": "​",
      "_view_module": "@jupyter-widgets/controls",
      "_model_module_version": "1.5.0",
      "value": "",
      "_view_count": null,
      "_view_module_version": "1.5.0",
      "description_tooltip": null,
      "_model_module": "@jupyter-widgets/controls",
      "layout": "IPY_MODEL_58d95da7881840c19138133e4f38bcfa"
     }
    },
    "e199ee5934da43ac9317d01780d37af2": {
     "model_module": "@jupyter-widgets/controls",
     "model_name": "FloatProgressModel",
     "model_module_version": "1.5.0",
     "state": {
      "_view_name": "ProgressView",
      "style": "IPY_MODEL_8bbe55fc32664457a357cd55818e7598",
      "_dom_classes": [],
      "description": "",
      "_model_name": "FloatProgressModel",
      "bar_style": "info",
      "max": 1,
      "_view_module": "@jupyter-widgets/controls",
      "_model_module_version": "1.5.0",
      "value": 1,
      "_view_count": null,
      "_view_module_version": "1.5.0",
      "orientation": "horizontal",
      "min": 0,
      "description_tooltip": null,
      "_model_module": "@jupyter-widgets/controls",
      "layout": "IPY_MODEL_ce518f6402e34da2adb1a7690eccf72b"
     }
    },
    "4339d40ab0604c40bf4d4d45f4ffe4fd": {
     "model_module": "@jupyter-widgets/controls",
     "model_name": "HTMLModel",
     "model_module_version": "1.5.0",
     "state": {
      "_view_name": "HTMLView",
      "style": "IPY_MODEL_afc70f4c16cd4f6bb0a9356ce64c98fb",
      "_dom_classes": [],
      "description": "",
      "_model_name": "HTMLModel",
      "placeholder": "​",
      "_view_module": "@jupyter-widgets/controls",
      "_model_module_version": "1.5.0",
      "value": " 10000/0 [00:01&lt;00:00, 7313.16 examples/s]",
      "_view_count": null,
      "_view_module_version": "1.5.0",
      "description_tooltip": null,
      "_model_module": "@jupyter-widgets/controls",
      "layout": "IPY_MODEL_fd6e51500909497b812770edcdc7ec86"
     }
    },
    "3271f2a5b8934483a6529b5ac43a597c": {
     "model_module": "@jupyter-widgets/controls",
     "model_name": "DescriptionStyleModel",
     "model_module_version": "1.5.0",
     "state": {
      "_view_name": "StyleView",
      "_model_name": "DescriptionStyleModel",
      "description_width": "",
      "_view_module": "@jupyter-widgets/base",
      "_model_module_version": "1.5.0",
      "_view_count": null,
      "_view_module_version": "1.2.0",
      "_model_module": "@jupyter-widgets/controls"
     }
    },
    "58d95da7881840c19138133e4f38bcfa": {
     "model_module": "@jupyter-widgets/base",
     "model_name": "LayoutModel",
     "model_module_version": "1.2.0",
     "state": {
      "_view_name": "LayoutView",
      "grid_template_rows": null,
      "right": null,
      "justify_content": null,
      "_view_module": "@jupyter-widgets/base",
      "overflow": null,
      "_model_module_version": "1.2.0",
      "_view_count": null,
      "flex_flow": null,
      "width": null,
      "min_width": null,
      "border": null,
      "align_items": null,
      "bottom": null,
      "_model_module": "@jupyter-widgets/base",
      "top": null,
      "grid_column": null,
      "overflow_y": null,
      "overflow_x": null,
      "grid_auto_flow": null,
      "grid_area": null,
      "grid_template_columns": null,
      "flex": null,
      "_model_name": "LayoutModel",
      "justify_items": null,
      "grid_row": null,
      "max_height": null,
      "align_content": null,
      "visibility": null,
      "align_self": null,
      "height": null,
      "min_height": null,
      "padding": null,
      "grid_auto_rows": null,
      "grid_gap": null,
      "max_width": null,
      "order": null,
      "_view_module_version": "1.2.0",
      "grid_template_areas": null,
      "object_position": null,
      "object_fit": null,
      "grid_auto_columns": null,
      "margin": null,
      "display": null,
      "left": null
     }
    },
    "8bbe55fc32664457a357cd55818e7598": {
     "model_module": "@jupyter-widgets/controls",
     "model_name": "ProgressStyleModel",
     "model_module_version": "1.5.0",
     "state": {
      "_view_name": "StyleView",
      "_model_name": "ProgressStyleModel",
      "description_width": "",
      "_view_module": "@jupyter-widgets/base",
      "_model_module_version": "1.5.0",
      "_view_count": null,
      "_view_module_version": "1.2.0",
      "bar_color": null,
      "_model_module": "@jupyter-widgets/controls"
     }
    },
    "ce518f6402e34da2adb1a7690eccf72b": {
     "model_module": "@jupyter-widgets/base",
     "model_name": "LayoutModel",
     "model_module_version": "1.2.0",
     "state": {
      "_view_name": "LayoutView",
      "grid_template_rows": null,
      "right": null,
      "justify_content": null,
      "_view_module": "@jupyter-widgets/base",
      "overflow": null,
      "_model_module_version": "1.2.0",
      "_view_count": null,
      "flex_flow": null,
      "width": "20px",
      "min_width": null,
      "border": null,
      "align_items": null,
      "bottom": null,
      "_model_module": "@jupyter-widgets/base",
      "top": null,
      "grid_column": null,
      "overflow_y": null,
      "overflow_x": null,
      "grid_auto_flow": null,
      "grid_area": null,
      "grid_template_columns": null,
      "flex": null,
      "_model_name": "LayoutModel",
      "justify_items": null,
      "grid_row": null,
      "max_height": null,
      "align_content": null,
      "visibility": null,
      "align_self": null,
      "height": null,
      "min_height": null,
      "padding": null,
      "grid_auto_rows": null,
      "grid_gap": null,
      "max_width": null,
      "order": null,
      "_view_module_version": "1.2.0",
      "grid_template_areas": null,
      "object_position": null,
      "object_fit": null,
      "grid_auto_columns": null,
      "margin": null,
      "display": null,
      "left": null
     }
    },
    "afc70f4c16cd4f6bb0a9356ce64c98fb": {
     "model_module": "@jupyter-widgets/controls",
     "model_name": "DescriptionStyleModel",
     "model_module_version": "1.5.0",
     "state": {
      "_view_name": "StyleView",
      "_model_name": "DescriptionStyleModel",
      "description_width": "",
      "_view_module": "@jupyter-widgets/base",
      "_model_module_version": "1.5.0",
      "_view_count": null,
      "_view_module_version": "1.2.0",
      "_model_module": "@jupyter-widgets/controls"
     }
    },
    "fd6e51500909497b812770edcdc7ec86": {
     "model_module": "@jupyter-widgets/base",
     "model_name": "LayoutModel",
     "model_module_version": "1.2.0",
     "state": {
      "_view_name": "LayoutView",
      "grid_template_rows": null,
      "right": null,
      "justify_content": null,
      "_view_module": "@jupyter-widgets/base",
      "overflow": null,
      "_model_module_version": "1.2.0",
      "_view_count": null,
      "flex_flow": null,
      "width": null,
      "min_width": null,
      "border": null,
      "align_items": null,
      "bottom": null,
      "_model_module": "@jupyter-widgets/base",
      "top": null,
      "grid_column": null,
      "overflow_y": null,
      "overflow_x": null,
      "grid_auto_flow": null,
      "grid_area": null,
      "grid_template_columns": null,
      "flex": null,
      "_model_name": "LayoutModel",
      "justify_items": null,
      "grid_row": null,
      "max_height": null,
      "align_content": null,
      "visibility": null,
      "align_self": null,
      "height": null,
      "min_height": null,
      "padding": null,
      "grid_auto_rows": null,
      "grid_gap": null,
      "max_width": null,
      "order": null,
      "_view_module_version": "1.2.0",
      "grid_template_areas": null,
      "object_position": null,
      "object_fit": null,
      "grid_auto_columns": null,
      "margin": null,
      "display": null,
      "left": null
     }
    },
    "157651a249334c069f5384e761edfb7a": {
     "model_module": "@jupyter-widgets/controls",
     "model_name": "HBoxModel",
     "model_module_version": "1.5.0",
     "state": {
      "_view_name": "HBoxView",
      "_dom_classes": [],
      "_model_name": "HBoxModel",
      "_view_module": "@jupyter-widgets/controls",
      "_model_module_version": "1.5.0",
      "_view_count": null,
      "_view_module_version": "1.5.0",
      "box_style": "",
      "layout": "IPY_MODEL_516697bf6f324f23bfdd984939b5e9e2",
      "_model_module": "@jupyter-widgets/controls",
      "children": [
       "IPY_MODEL_29fbcc52c2be423694cfab68d3eefeb0",
       "IPY_MODEL_ed77e3127b624ea698392e5c8e3da384",
       "IPY_MODEL_5d0bef08a6a348b1bd9cd405abf1d7d5"
      ]
     }
    },
    "516697bf6f324f23bfdd984939b5e9e2": {
     "model_module": "@jupyter-widgets/base",
     "model_name": "LayoutModel",
     "model_module_version": "1.2.0",
     "state": {
      "_view_name": "LayoutView",
      "grid_template_rows": null,
      "right": null,
      "justify_content": null,
      "_view_module": "@jupyter-widgets/base",
      "overflow": null,
      "_model_module_version": "1.2.0",
      "_view_count": null,
      "flex_flow": null,
      "width": null,
      "min_width": null,
      "border": null,
      "align_items": null,
      "bottom": null,
      "_model_module": "@jupyter-widgets/base",
      "top": null,
      "grid_column": null,
      "overflow_y": null,
      "overflow_x": null,
      "grid_auto_flow": null,
      "grid_area": null,
      "grid_template_columns": null,
      "flex": null,
      "_model_name": "LayoutModel",
      "justify_items": null,
      "grid_row": null,
      "max_height": null,
      "align_content": null,
      "visibility": null,
      "align_self": null,
      "height": null,
      "min_height": null,
      "padding": null,
      "grid_auto_rows": null,
      "grid_gap": null,
      "max_width": null,
      "order": null,
      "_view_module_version": "1.2.0",
      "grid_template_areas": null,
      "object_position": null,
      "object_fit": null,
      "grid_auto_columns": null,
      "margin": null,
      "display": null,
      "left": null
     }
    },
    "29fbcc52c2be423694cfab68d3eefeb0": {
     "model_module": "@jupyter-widgets/controls",
     "model_name": "HTMLModel",
     "model_module_version": "1.5.0",
     "state": {
      "_view_name": "HTMLView",
      "style": "IPY_MODEL_3eacca1a3d4e4d4fa56ac79ea99baa05",
      "_dom_classes": [],
      "description": "",
      "_model_name": "HTMLModel",
      "placeholder": "​",
      "_view_module": "@jupyter-widgets/controls",
      "_model_module_version": "1.5.0",
      "value": "100%",
      "_view_count": null,
      "_view_module_version": "1.5.0",
      "description_tooltip": null,
      "_model_module": "@jupyter-widgets/controls",
      "layout": "IPY_MODEL_c60300a85bea434083077e855578a1a0"
     }
    },
    "ed77e3127b624ea698392e5c8e3da384": {
     "model_module": "@jupyter-widgets/controls",
     "model_name": "FloatProgressModel",
     "model_module_version": "1.5.0",
     "state": {
      "_view_name": "ProgressView",
      "style": "IPY_MODEL_4e9ca3cb15c34dc69cb1ef89dce1fef4",
      "_dom_classes": [],
      "description": "",
      "_model_name": "FloatProgressModel",
      "bar_style": "success",
      "max": 2,
      "_view_module": "@jupyter-widgets/controls",
      "_model_module_version": "1.5.0",
      "value": 2,
      "_view_count": null,
      "_view_module_version": "1.5.0",
      "orientation": "horizontal",
      "min": 0,
      "description_tooltip": null,
      "_model_module": "@jupyter-widgets/controls",
      "layout": "IPY_MODEL_497eff029ba141dcaf1cf05f9856809d"
     }
    },
    "5d0bef08a6a348b1bd9cd405abf1d7d5": {
     "model_module": "@jupyter-widgets/controls",
     "model_name": "HTMLModel",
     "model_module_version": "1.5.0",
     "state": {
      "_view_name": "HTMLView",
      "style": "IPY_MODEL_0bf729399556477fbb6289708ed7fee5",
      "_dom_classes": [],
      "description": "",
      "_model_name": "HTMLModel",
      "placeholder": "​",
      "_view_module": "@jupyter-widgets/controls",
      "_model_module_version": "1.5.0",
      "value": " 2/2 [00:00&lt;00:00, 51.00it/s]",
      "_view_count": null,
      "_view_module_version": "1.5.0",
      "description_tooltip": null,
      "_model_module": "@jupyter-widgets/controls",
      "layout": "IPY_MODEL_fc48a2c65caa40318fa2b4f5cbd4459f"
     }
    },
    "3eacca1a3d4e4d4fa56ac79ea99baa05": {
     "model_module": "@jupyter-widgets/controls",
     "model_name": "DescriptionStyleModel",
     "model_module_version": "1.5.0",
     "state": {
      "_view_name": "StyleView",
      "_model_name": "DescriptionStyleModel",
      "description_width": "",
      "_view_module": "@jupyter-widgets/base",
      "_model_module_version": "1.5.0",
      "_view_count": null,
      "_view_module_version": "1.2.0",
      "_model_module": "@jupyter-widgets/controls"
     }
    },
    "c60300a85bea434083077e855578a1a0": {
     "model_module": "@jupyter-widgets/base",
     "model_name": "LayoutModel",
     "model_module_version": "1.2.0",
     "state": {
      "_view_name": "LayoutView",
      "grid_template_rows": null,
      "right": null,
      "justify_content": null,
      "_view_module": "@jupyter-widgets/base",
      "overflow": null,
      "_model_module_version": "1.2.0",
      "_view_count": null,
      "flex_flow": null,
      "width": null,
      "min_width": null,
      "border": null,
      "align_items": null,
      "bottom": null,
      "_model_module": "@jupyter-widgets/base",
      "top": null,
      "grid_column": null,
      "overflow_y": null,
      "overflow_x": null,
      "grid_auto_flow": null,
      "grid_area": null,
      "grid_template_columns": null,
      "flex": null,
      "_model_name": "LayoutModel",
      "justify_items": null,
      "grid_row": null,
      "max_height": null,
      "align_content": null,
      "visibility": null,
      "align_self": null,
      "height": null,
      "min_height": null,
      "padding": null,
      "grid_auto_rows": null,
      "grid_gap": null,
      "max_width": null,
      "order": null,
      "_view_module_version": "1.2.0",
      "grid_template_areas": null,
      "object_position": null,
      "object_fit": null,
      "grid_auto_columns": null,
      "margin": null,
      "display": null,
      "left": null
     }
    },
    "4e9ca3cb15c34dc69cb1ef89dce1fef4": {
     "model_module": "@jupyter-widgets/controls",
     "model_name": "ProgressStyleModel",
     "model_module_version": "1.5.0",
     "state": {
      "_view_name": "StyleView",
      "_model_name": "ProgressStyleModel",
      "description_width": "",
      "_view_module": "@jupyter-widgets/base",
      "_model_module_version": "1.5.0",
      "_view_count": null,
      "_view_module_version": "1.2.0",
      "bar_color": null,
      "_model_module": "@jupyter-widgets/controls"
     }
    },
    "497eff029ba141dcaf1cf05f9856809d": {
     "model_module": "@jupyter-widgets/base",
     "model_name": "LayoutModel",
     "model_module_version": "1.2.0",
     "state": {
      "_view_name": "LayoutView",
      "grid_template_rows": null,
      "right": null,
      "justify_content": null,
      "_view_module": "@jupyter-widgets/base",
      "overflow": null,
      "_model_module_version": "1.2.0",
      "_view_count": null,
      "flex_flow": null,
      "width": null,
      "min_width": null,
      "border": null,
      "align_items": null,
      "bottom": null,
      "_model_module": "@jupyter-widgets/base",
      "top": null,
      "grid_column": null,
      "overflow_y": null,
      "overflow_x": null,
      "grid_auto_flow": null,
      "grid_area": null,
      "grid_template_columns": null,
      "flex": null,
      "_model_name": "LayoutModel",
      "justify_items": null,
      "grid_row": null,
      "max_height": null,
      "align_content": null,
      "visibility": null,
      "align_self": null,
      "height": null,
      "min_height": null,
      "padding": null,
      "grid_auto_rows": null,
      "grid_gap": null,
      "max_width": null,
      "order": null,
      "_view_module_version": "1.2.0",
      "grid_template_areas": null,
      "object_position": null,
      "object_fit": null,
      "grid_auto_columns": null,
      "margin": null,
      "display": null,
      "left": null
     }
    },
    "0bf729399556477fbb6289708ed7fee5": {
     "model_module": "@jupyter-widgets/controls",
     "model_name": "DescriptionStyleModel",
     "model_module_version": "1.5.0",
     "state": {
      "_view_name": "StyleView",
      "_model_name": "DescriptionStyleModel",
      "description_width": "",
      "_view_module": "@jupyter-widgets/base",
      "_model_module_version": "1.5.0",
      "_view_count": null,
      "_view_module_version": "1.2.0",
      "_model_module": "@jupyter-widgets/controls"
     }
    },
    "fc48a2c65caa40318fa2b4f5cbd4459f": {
     "model_module": "@jupyter-widgets/base",
     "model_name": "LayoutModel",
     "model_module_version": "1.2.0",
     "state": {
      "_view_name": "LayoutView",
      "grid_template_rows": null,
      "right": null,
      "justify_content": null,
      "_view_module": "@jupyter-widgets/base",
      "overflow": null,
      "_model_module_version": "1.2.0",
      "_view_count": null,
      "flex_flow": null,
      "width": null,
      "min_width": null,
      "border": null,
      "align_items": null,
      "bottom": null,
      "_model_module": "@jupyter-widgets/base",
      "top": null,
      "grid_column": null,
      "overflow_y": null,
      "overflow_x": null,
      "grid_auto_flow": null,
      "grid_area": null,
      "grid_template_columns": null,
      "flex": null,
      "_model_name": "LayoutModel",
      "justify_items": null,
      "grid_row": null,
      "max_height": null,
      "align_content": null,
      "visibility": null,
      "align_self": null,
      "height": null,
      "min_height": null,
      "padding": null,
      "grid_auto_rows": null,
      "grid_gap": null,
      "max_width": null,
      "order": null,
      "_view_module_version": "1.2.0",
      "grid_template_areas": null,
      "object_position": null,
      "object_fit": null,
      "grid_auto_columns": null,
      "margin": null,
      "display": null,
      "left": null
     }
    }
   }
  }
 },
 "cells": [
  {
   "cell_type": "markdown",
   "metadata": {
    "id": "view-in-github",
    "colab_type": "text"
   },
   "source": [
    "<a href=\"https://colab.research.google.com/github/probml/probml-notebooks/blob/main/notebooks/elegy_intro.ipynb\" target=\"_parent\"><img src=\"https://colab.research.google.com/assets/colab-badge.svg\" alt=\"Open In Colab\"/></a>"
   ]
  },
  {
   "cell_type": "markdown",
   "metadata": {
    "id": "KLnKyx6CWEH_"
   },
   "source": [
    "# Introduction to Elegy\n",
    "\n",
    "This is slightly modified from \n",
    "https://poets-ai.github.io/elegy/getting-started/high-level-api/\n",
    "and \n",
    "https://poets-ai.github.io/elegy/getting-started/low-level-api/\n",
    "\n"
   ]
  },
  {
   "cell_type": "markdown",
   "metadata": {
    "id": "A0kNzIO81GY5"
   },
   "source": [
    "In this tutorial we will explore the basic features of **Elegy**. If you are a Keras user you should feel at home, if you are currently learning JAX things will appear much more streamlined. To get started you will first need to install the following dependencies:"
   ]
  },
  {
   "cell_type": "code",
   "metadata": {
    "id": "4HaiTv5AVxy-"
   },
   "source": [
    "%%capture\n",
    "!pip install git+https://github.com/deepmind/dm-haiku\n",
    "#!pip install -q clu ml-collections git+https://github.com/google/flax"
   ],
   "execution_count": 1,
   "outputs": []
  },
  {
   "cell_type": "code",
   "metadata": {
    "id": "LvmBdeZq1GY6"
   },
   "source": [
    "%%capture\n",
    "! pip install --upgrade pip\n",
    "! pip install elegy datasets matplotlib"
   ],
   "execution_count": 4,
   "outputs": []
  },
  {
   "cell_type": "markdown",
   "metadata": {
    "id": "0f_2f5hG1GZA"
   },
   "source": [
    "\n",
    "## Loading the Data\n",
    "In this tutorial we will train a Neural Network on the MNIST dataset, for this we will first need to download and load the data into memory. Here we will use the `datasets` library to load the dataset."
   ]
  },
  {
   "cell_type": "code",
   "metadata": {
    "colab": {
     "base_uri": "https://localhost:8080/",
     "height": 427,
     "referenced_widgets": [
      "65bfe5fdb102457db4619ffd6b7463f5",
      "fa722095ce6e4e2dbe403c3645d17000",
      "8244358b593a467cbde52c83df67e35c",
      "28b749a8db614eb5a3f56ab534c5f32f",
      "6a71b41310434254815148093f89d748",
      "555096d529f746bcbdcc81fc0e610b04",
      "70fcc86478d84419b3789a725842b0b5",
      "6c48d5ff4f46403abc7f7eac20e64917",
      "7a30663fd82644958dfa9bf3436bcc75",
      "8af5ab9e63794c2d8a8c68f1c02bc9f4",
      "13fe2d18dad94a12b31a8a5e7908a06b",
      "f9b0138531c54d149eb14324cb8d450d",
      "2ac027f6ea0948d99fdd57f96e6fdd3b",
      "89016d7c19bf43d599e76352d5d53a8b",
      "ceb03809f4ac4a40aaef2add6edfe309",
      "606c7b874aff4b11bb934bff8900e366",
      "390a28bb951942b0b2c3d919a2e359ff",
      "285d612827d64f2c9b8abd9b4fffe34f",
      "0c7d681532314dce8bcfd8d34ce0f5d0",
      "e37f60c497dd40c5b9e4eaf37dd01ecc",
      "dd9f77b58b0f4c8bb89b159b31e1118d",
      "bf548cbbf9ec4ebb99f45da4e7078b80",
      "6866e0e416a54438b2fe139cd166caac",
      "44762eead99a4617b4d882fddac169b4",
      "6069d489ce7f46169c1cdda804782128",
      "0a73e7d8365d44d48a7c601bf3008a44",
      "ca300b85e15f42889cdcf656dddf69a8",
      "a556c7207df846d3a41391ece0527190",
      "78e74aa3808045919e90f79ac3de9b3c",
      "a7be91ef0ff34d10ad216e20fdf011cc",
      "4733bf403c1a4d899ce661cff39aa8d4",
      "f2809c0b297d4acda08fa0030c70b261",
      "63447861258a4b54a89a2a931d85bfef",
      "2e62d672d4d2475ab1455def9b4dc6a6",
      "64b18b8c5330468e8ed4d9394d064a05",
      "efe34cbbd56e49ff8191a9c79f571f4d",
      "fa5d055a4f3340c19652abf238657540",
      "11ee69f221014e8fb8f66df71278447d",
      "7d333f18d34f477e89861900f93fc410",
      "830cf396225247d8af48cc0a75249390",
      "95ff23f782bc4d38a7f4c573bbd4ba07",
      "a0017d924a6b4038a78e3ff552fe3b65",
      "9a13fa17fde949c79971d348de4454a3",
      "cd4f5257ed5346d999c3aadb356fba99",
      "aaf8609ad21e4955b024db9367cdf688",
      "f3c5e242299547c081448e73cb77991d",
      "60e6069f287042158887368a3e9dd82f",
      "0a8fc257e3b448a5b8ed8f3939d572f0",
      "c8979e4e99ff46c58641c0d84a79965c",
      "c2c5f037b38f4759aedc29998bcea664",
      "081b37dd3e9a430aad936afac00416e5",
      "f4c8427e1f0c4f57857d12fd305d53c2",
      "846c317f9ba043568deeb02a287eb43c",
      "b2c66d1eaffa456588c01ae302ee0821",
      "2f6503990d25420f89307dc285dffa91",
      "c785e7d7eda441339013bcbe92c071f8",
      "a604eabc1f924fc5843626b7b99fe780",
      "be8681df1cb148efa4c201736d9520c6",
      "a1a69bacae0149018534de6ab680eae3",
      "39d354b2b31b466eab68b33a858ecf5a",
      "5e23e2a8724240eeaa99809992671647",
      "a4c58c4ebea64f39947a98b37d2fb5c8",
      "d945cbfe1a9e4de6b919ddb163918306",
      "0fa253cc99504c7bb8c11ae00de85cca",
      "9531d15333ff4267ac0dbb1e8f1d1117",
      "d73c1ebbd21a4630a0a016c5e3b766a4",
      "2d1568c817214a1da0fd11ed6b09ebe9",
      "dda220ae253b44a0934b712ebbfaed55",
      "3ed8f7dc1a0049888134fa770ad9153c",
      "ec566c7eaa15486f8ef067abe13d2f13",
      "a9894bcb7a4d4b57b3668b1534f268fd",
      "d1b3ef38a2cd4e6395548d7b313ec0b0",
      "10c42275cfa64e64939e943c1b0e30da",
      "bc4eba43d00d47d5b9d9efb2d113cced",
      "ed233c1e41cf49e6ad5f6339529f81b8",
      "16f1ad87df5c4dda9435bacfbb06dee0",
      "2d83f376e2b34ce7ae327a81486ef417",
      "1af81d53e562496bac81cf69d9699521",
      "2d5a75a0a6a8458fbaa98000884bb5bc",
      "9d3ba301be584337a6ae1bae092c5c55",
      "dd7b04d0f71f435daeb16d3f8a843427",
      "91168283c5d44ce79dfa5bb0d010d3f7",
      "6f02dcaa4f8b460c85eb941456139c64",
      "576fc9c180d94ad797627950d04d1f17",
      "f1938cda0d9f40a7a19ac2efe5eb36c2",
      "9bc5c2bd5add42b1a489ae72a7096535",
      "752588e00f874ff1a2cb2762ead5708b",
      "1c7a2ed11a424370b88066f49f1d83f5",
      "85e299ea195245bb85be1eb5734355d8",
      "5a4bcaf30a9341b99622b17e9781a07a",
      "f3573e3bee0e4c6380c4e75bdfe30e51",
      "e902ba929b9946138ac799f8ac09dc24",
      "896382da324f49ea9494b00c6907a2a3",
      "ef97d8c5872a4ef692d42d626b24e42f",
      "793151466be2442b9eedf8bc360396fa",
      "b17afcde823449d68dac46bf150f99e2",
      "c0a74cce432c4871b96419c1cd2caf61",
      "050ce16772cb40ceb6ca3585506077be",
      "0b398f1ed4e442db9aea4ebe1eaadcee",
      "6378d9eda6244cf1a436881095ae711b",
      "5f3b1be47a9a4604b334379aa880ac9f",
      "54a89a8689de47abb10561f323a1c2e4",
      "e199ee5934da43ac9317d01780d37af2",
      "4339d40ab0604c40bf4d4d45f4ffe4fd",
      "3271f2a5b8934483a6529b5ac43a597c",
      "58d95da7881840c19138133e4f38bcfa",
      "8bbe55fc32664457a357cd55818e7598",
      "ce518f6402e34da2adb1a7690eccf72b",
      "afc70f4c16cd4f6bb0a9356ce64c98fb",
      "fd6e51500909497b812770edcdc7ec86",
      "157651a249334c069f5384e761edfb7a",
      "516697bf6f324f23bfdd984939b5e9e2",
      "29fbcc52c2be423694cfab68d3eefeb0",
      "ed77e3127b624ea698392e5c8e3da384",
      "5d0bef08a6a348b1bd9cd405abf1d7d5",
      "3eacca1a3d4e4d4fa56ac79ea99baa05",
      "c60300a85bea434083077e855578a1a0",
      "4e9ca3cb15c34dc69cb1ef89dce1fef4",
      "497eff029ba141dcaf1cf05f9856809d",
      "0bf729399556477fbb6289708ed7fee5",
      "fc48a2c65caa40318fa2b4f5cbd4459f"
     ]
    },
    "id": "RxbhMx0v1GZB",
    "outputId": "0ab3538b-6912-4cca-84a7-62b0995522ec"
   },
   "source": [
    "from datasets.load import load_dataset\n",
    "\n",
    "dataset = load_dataset(\"mnist\")\n",
    "dataset.set_format(\"np\")\n",
    "X_train = dataset[\"train\"][\"image\"]\n",
    "y_train = dataset[\"train\"][\"label\"]\n",
    "X_test = dataset[\"test\"][\"image\"]\n",
    "y_test = dataset[\"test\"][\"label\"]\n",
    "\n",
    "print(\"X_train:\", X_train.shape, X_train.dtype)\n",
    "print(\"y_train:\", y_train.shape, y_train.dtype)\n",
    "print(\"X_test:\", X_test.shape, X_test.dtype)\n",
    "print(\"y_test:\", y_test.shape, y_test.dtype)"
   ],
   "execution_count": 6,
   "outputs": [
    {
     "output_type": "display_data",
     "data": {
      "application/vnd.jupyter.widget-view+json": {
       "model_id": "65bfe5fdb102457db4619ffd6b7463f5",
       "version_minor": 0,
       "version_major": 2
      },
      "text/plain": [
       "Downloading:   0%|          | 0.00/1.58k [00:00<?, ?B/s]"
      ]
     },
     "metadata": {}
    },
    {
     "output_type": "display_data",
     "data": {
      "application/vnd.jupyter.widget-view+json": {
       "model_id": "f9b0138531c54d149eb14324cb8d450d",
       "version_minor": 0,
       "version_major": 2
      },
      "text/plain": [
       "Downloading:   0%|          | 0.00/989 [00:00<?, ?B/s]"
      ]
     },
     "metadata": {}
    },
    {
     "output_type": "stream",
     "name": "stdout",
     "text": [
      "Downloading and preparing dataset mnist/mnist (download: 11.06 MiB, generated: 60.62 MiB, post-processed: Unknown size, total: 71.67 MiB) to /root/.cache/huggingface/datasets/mnist/mnist/1.0.0/5064c25e57a1678f700d2dc798ffe8a6d519405cca7d33670fffda477857a994...\n"
     ]
    },
    {
     "output_type": "display_data",
     "data": {
      "application/vnd.jupyter.widget-view+json": {
       "model_id": "6866e0e416a54438b2fe139cd166caac",
       "version_minor": 0,
       "version_major": 2
      },
      "text/plain": [
       "  0%|          | 0/4 [00:00<?, ?it/s]"
      ]
     },
     "metadata": {}
    },
    {
     "output_type": "display_data",
     "data": {
      "application/vnd.jupyter.widget-view+json": {
       "model_id": "2e62d672d4d2475ab1455def9b4dc6a6",
       "version_minor": 0,
       "version_major": 2
      },
      "text/plain": [
       "Downloading:   0%|          | 0.00/9.91M [00:00<?, ?B/s]"
      ]
     },
     "metadata": {}
    },
    {
     "output_type": "display_data",
     "data": {
      "application/vnd.jupyter.widget-view+json": {
       "model_id": "aaf8609ad21e4955b024db9367cdf688",
       "version_minor": 0,
       "version_major": 2
      },
      "text/plain": [
       "Downloading:   0%|          | 0.00/28.9k [00:00<?, ?B/s]"
      ]
     },
     "metadata": {}
    },
    {
     "output_type": "display_data",
     "data": {
      "application/vnd.jupyter.widget-view+json": {
       "model_id": "c785e7d7eda441339013bcbe92c071f8",
       "version_minor": 0,
       "version_major": 2
      },
      "text/plain": [
       "Downloading:   0%|          | 0.00/1.65M [00:00<?, ?B/s]"
      ]
     },
     "metadata": {}
    },
    {
     "output_type": "display_data",
     "data": {
      "application/vnd.jupyter.widget-view+json": {
       "model_id": "2d1568c817214a1da0fd11ed6b09ebe9",
       "version_minor": 0,
       "version_major": 2
      },
      "text/plain": [
       "Downloading:   0%|          | 0.00/4.54k [00:00<?, ?B/s]"
      ]
     },
     "metadata": {}
    },
    {
     "output_type": "display_data",
     "data": {
      "application/vnd.jupyter.widget-view+json": {
       "model_id": "1af81d53e562496bac81cf69d9699521",
       "version_minor": 0,
       "version_major": 2
      },
      "text/plain": [
       "  0%|          | 0/4 [00:00<?, ?it/s]"
      ]
     },
     "metadata": {}
    },
    {
     "output_type": "display_data",
     "data": {
      "application/vnd.jupyter.widget-view+json": {
       "model_id": "85e299ea195245bb85be1eb5734355d8",
       "version_minor": 0,
       "version_major": 2
      },
      "text/plain": [
       "0 examples [00:00, ? examples/s]"
      ]
     },
     "metadata": {}
    },
    {
     "output_type": "display_data",
     "data": {
      "application/vnd.jupyter.widget-view+json": {
       "model_id": "6378d9eda6244cf1a436881095ae711b",
       "version_minor": 0,
       "version_major": 2
      },
      "text/plain": [
       "0 examples [00:00, ? examples/s]"
      ]
     },
     "metadata": {}
    },
    {
     "output_type": "stream",
     "name": "stdout",
     "text": [
      "Dataset mnist downloaded and prepared to /root/.cache/huggingface/datasets/mnist/mnist/1.0.0/5064c25e57a1678f700d2dc798ffe8a6d519405cca7d33670fffda477857a994. Subsequent calls will reuse this data.\n"
     ]
    },
    {
     "output_type": "display_data",
     "data": {
      "application/vnd.jupyter.widget-view+json": {
       "model_id": "157651a249334c069f5384e761edfb7a",
       "version_minor": 0,
       "version_major": 2
      },
      "text/plain": [
       "  0%|          | 0/2 [00:00<?, ?it/s]"
      ]
     },
     "metadata": {}
    },
    {
     "output_type": "stream",
     "name": "stdout",
     "text": [
      "X_train: (60000, 28, 28) int64\n",
      "y_train: (60000,) int64\n",
      "X_test: (10000, 28, 28) int64\n",
      "y_test: (10000,) int64\n"
     ]
    }
   ]
  },
  {
   "cell_type": "markdown",
   "metadata": {
    "id": "2qt-5RCB1GZG"
   },
   "source": [
    "## Defining the Architecture\n",
    "The first thing we need to do is define our model's architecture inside a `Module`, to do this we just create a class that inherites from `Module` and implement a `__call__` method. In this example we will create a simple 2 layer MLP: "
   ]
  },
  {
   "cell_type": "code",
   "metadata": {
    "id": "K993A1K11GZH"
   },
   "source": [
    "import jax.numpy as jnp\n",
    "import jax\n",
    "\n",
    "import elegy as eg\n",
    "\n",
    "\n",
    "class MLP(eg.Module):\n",
    "    def __init__(self, n1: int, n2: int):\n",
    "        self.n1 = n1\n",
    "        self.n2 = n2\n",
    "\n",
    "    @eg.compact\n",
    "    def __call__(self, x: jnp.ndarray) -> jnp.ndarray:\n",
    "        x = x.astype(jnp.float32) / 255.0\n",
    "        x = eg.nn.Flatten()(x)\n",
    "        # first layers\n",
    "        x = eg.nn.Linear(self.n1)(x)\n",
    "        x = jax.nn.relu(x)\n",
    "        # first layers\n",
    "        x = eg.nn.Linear(self.n2)(x)\n",
    "        x = jax.nn.relu(x)\n",
    "        # output layer\n",
    "        x = eg.nn.Linear(10)(x)\n",
    "\n",
    "        return x"
   ],
   "execution_count": 7,
   "outputs": []
  },
  {
   "cell_type": "markdown",
   "metadata": {
    "id": "SyD7EpFI1GZL"
   },
   "source": [
    "This code should feel familiar to most Keras / PyTorch users, the main difference is that we are using the `@compact` decorator to define submodules inline (e.g. Linear) inline, this tends to produce much shorter and readable code.\n",
    "\n",
    "## Creating the Model\n",
    "\n",
    "Now that we have this module we can create an Elegy `Model` which is Elegy's central API:"
   ]
  },
  {
   "cell_type": "code",
   "metadata": {
    "id": "dM8PdElf1GZL"
   },
   "source": [
    "import optax\n",
    "\n",
    "model = eg.Model(\n",
    "    module=MLP(n1=300, n2=100),\n",
    "    loss=[\n",
    "        eg.losses.Crossentropy(),\n",
    "        eg.regularizers.L2(l=1e-4),\n",
    "    ],\n",
    "    metrics=eg.metrics.Accuracy(),\n",
    "    optimizer=optax.adam(1e-3),\n",
    ")"
   ],
   "execution_count": 8,
   "outputs": []
  },
  {
   "cell_type": "markdown",
   "metadata": {
    "id": "h44wXhQk1GZQ"
   },
   "source": [
    "If you are a Keras user this code should look familiar, main differences are:\n",
    "\n",
    "* You need to pass a `module` with the architecture.\n",
    "* `loss` and `metrics` are a bit more flexible in that they do not need to match the label's structure.\n",
    "* There is no `compile` step, all its done in the constructor.\n",
    "* For the `optimizer` you can use any `optax` optimizer. \n",
    "\n",
    "As in Keras, you can get a rich description of the model by calling `Model.summary` with a sample input:"
   ]
  },
  {
   "cell_type": "code",
   "metadata": {
    "id": "U_EKAZLMAbU1",
    "colab": {
     "base_uri": "https://localhost:8080/",
     "height": 578
    },
    "outputId": "d7effc89-5c73-4b53-fafe-0b166751b39c"
   },
   "source": [
    "model.summary(X_train[:64])"
   ],
   "execution_count": 9,
   "outputs": [
    {
     "output_type": "display_data",
     "data": {
      "text/html": [
       "<pre style=\"white-space:pre;overflow-x:auto;line-height:normal;font-family:Menlo,'DejaVu Sans Mono',consolas,'Courier New',monospace\">┏━━━━━━━━━━┳━━━━━━━━━━━┳━━━━━━━━━━━━━━━━┳━━━━━━━━━━━━━━━━┳━━━━━━━━━━━━━━━━┳━━━━━━━━━━━━━━━━━┓\n",
       "┃<span style=\"font-weight: bold\"> path     </span>┃<span style=\"font-weight: bold\"> module    </span>┃<span style=\"font-weight: bold\"> params         </span>┃<span style=\"font-weight: bold\"> inputs         </span>┃<span style=\"font-weight: bold\"> outputs        </span>┃<span style=\"font-weight: bold\"> Parameter       </span>┃\n",
       "┡━━━━━━━━━━╇━━━━━━━━━━━╇━━━━━━━━━━━━━━━━╇━━━━━━━━━━━━━━━━╇━━━━━━━━━━━━━━━━╇━━━━━━━━━━━━━━━━━┩\n",
       "│ *        │ MLP()     │                │ (<span style=\"color: #008000; text-decoration-color: #008000\">64, 28, 28</span>)   │ (<span style=\"color: #008000; text-decoration-color: #008000\">64, 10</span>)       │                 │\n",
       "│          │           │                │ <span style=\"color: #7f7f7f; text-decoration-color: #7f7f7f\">int32</span>          │ <span style=\"color: #7f7f7f; text-decoration-color: #7f7f7f\">float32</span>        │                 │\n",
       "├──────────┼───────────┼────────────────┼────────────────┼────────────────┼─────────────────┤\n",
       "│ .flatten │ Flatten() │                │ (<span style=\"color: #008000; text-decoration-color: #008000\">64, 28, 28</span>)   │ (<span style=\"color: #008000; text-decoration-color: #008000\">64, 784</span>)      │                 │\n",
       "│          │           │                │ <span style=\"color: #7f7f7f; text-decoration-color: #7f7f7f\">float32</span>        │ <span style=\"color: #7f7f7f; text-decoration-color: #7f7f7f\">float32</span>        │                 │\n",
       "├──────────┼───────────┼────────────────┼────────────────┼────────────────┼─────────────────┤\n",
       "│ .linear  │ Linear()  │ bias:          │ (<span style=\"color: #008000; text-decoration-color: #008000\">64, 784</span>)      │ (<span style=\"color: #008000; text-decoration-color: #008000\">64, 300</span>)      │ <span style=\"color: #008000; text-decoration-color: #008000\">235,500</span>         │\n",
       "│          │           │ Parameter(<span style=\"color: #008000; text-decoration-color: #008000\">300</span>) │ <span style=\"color: #7f7f7f; text-decoration-color: #7f7f7f\">float32</span>        │ <span style=\"color: #7f7f7f; text-decoration-color: #7f7f7f\">float32</span>        │ <span style=\"color: #7f7f7f; text-decoration-color: #7f7f7f\">942.0KB</span>         │\n",
       "│          │           │ <span style=\"color: #7f7f7f; text-decoration-color: #7f7f7f\">float32</span>        │                │                │                 │\n",
       "│          │           │ kernel:        │                │                │                 │\n",
       "│          │           │ Parameter(<span style=\"color: #008000; text-decoration-color: #008000\">784,</span> │                │                │                 │\n",
       "│          │           │ <span style=\"color: #008000; text-decoration-color: #008000\">300</span>)  <span style=\"color: #7f7f7f; text-decoration-color: #7f7f7f\">float32</span>  │                │                │                 │\n",
       "├──────────┼───────────┼────────────────┼────────────────┼────────────────┼─────────────────┤\n",
       "│ .linear2 │ Linear()  │ bias:          │ (<span style=\"color: #008000; text-decoration-color: #008000\">64, 300</span>)      │ (<span style=\"color: #008000; text-decoration-color: #008000\">64, 100</span>)      │ <span style=\"color: #008000; text-decoration-color: #008000\">30,100</span>          │\n",
       "│          │           │ Parameter(<span style=\"color: #008000; text-decoration-color: #008000\">100</span>) │ <span style=\"color: #7f7f7f; text-decoration-color: #7f7f7f\">float32</span>        │ <span style=\"color: #7f7f7f; text-decoration-color: #7f7f7f\">float32</span>        │ <span style=\"color: #7f7f7f; text-decoration-color: #7f7f7f\">120.4KB</span>         │\n",
       "│          │           │ <span style=\"color: #7f7f7f; text-decoration-color: #7f7f7f\">float32</span>        │                │                │                 │\n",
       "│          │           │ kernel:        │                │                │                 │\n",
       "│          │           │ Parameter(<span style=\"color: #008000; text-decoration-color: #008000\">300,</span> │                │                │                 │\n",
       "│          │           │ <span style=\"color: #008000; text-decoration-color: #008000\">100</span>)  <span style=\"color: #7f7f7f; text-decoration-color: #7f7f7f\">float32</span>  │                │                │                 │\n",
       "├──────────┼───────────┼────────────────┼────────────────┼────────────────┼─────────────────┤\n",
       "│ .linear3 │ Linear()  │ bias:          │ (<span style=\"color: #008000; text-decoration-color: #008000\">64, 100</span>)      │ (<span style=\"color: #008000; text-decoration-color: #008000\">64, 10</span>)       │ <span style=\"color: #008000; text-decoration-color: #008000\">1,010</span>    <span style=\"color: #7f7f7f; text-decoration-color: #7f7f7f\">4.0KB</span>  │\n",
       "│          │           │ Parameter(<span style=\"color: #008000; text-decoration-color: #008000\">10</span>)  │ <span style=\"color: #7f7f7f; text-decoration-color: #7f7f7f\">float32</span>        │ <span style=\"color: #7f7f7f; text-decoration-color: #7f7f7f\">float32</span>        │                 │\n",
       "│          │           │ <span style=\"color: #7f7f7f; text-decoration-color: #7f7f7f\">float32</span>        │                │                │                 │\n",
       "│          │           │ kernel:        │                │                │                 │\n",
       "│          │           │ Parameter(<span style=\"color: #008000; text-decoration-color: #008000\">100,</span> │                │                │                 │\n",
       "│          │           │ <span style=\"color: #008000; text-decoration-color: #008000\">10</span>)   <span style=\"color: #7f7f7f; text-decoration-color: #7f7f7f\">float32</span>  │                │                │                 │\n",
       "├──────────┼───────────┼────────────────┼────────────────┼────────────────┼─────────────────┤\n",
       "│<span style=\"font-weight: bold\">          </span>│<span style=\"font-weight: bold\">           </span>│<span style=\"font-weight: bold\">                </span>│<span style=\"font-weight: bold\">                </span>│<span style=\"font-weight: bold\">         Total: </span>│<span style=\"font-weight: bold\"> </span><span style=\"color: #008000; text-decoration-color: #008000; font-weight: bold\">266,610</span><span style=\"font-weight: bold\">  </span><span style=\"color: #7f7f7f; text-decoration-color: #7f7f7f; font-weight: bold\">1.1MB</span><span style=\"font-weight: bold\">  </span>│\n",
       "└──────────┴───────────┴────────────────┴────────────────┴────────────────┴─────────────────┘\n",
       "<span style=\"font-weight: bold\">                                                                                             </span>\n",
       "<span style=\"font-weight: bold\">                              Total Parameters: </span><span style=\"color: #008000; text-decoration-color: #008000; font-weight: bold\">266,610</span><span style=\"font-weight: bold\">  </span><span style=\"color: #7f7f7f; text-decoration-color: #7f7f7f; font-weight: bold\">1.1MB</span><span style=\"font-weight: bold\">                               </span>\n",
       "</pre>\n"
      ],
      "text/plain": [
       "┏━━━━━━━━━━┳━━━━━━━━━━━┳━━━━━━━━━━━━━━━━┳━━━━━━━━━━━━━━━━┳━━━━━━━━━━━━━━━━┳━━━━━━━━━━━━━━━━━┓\n",
       "┃\u001b[1m \u001b[0m\u001b[1mpath    \u001b[0m\u001b[1m \u001b[0m┃\u001b[1m \u001b[0m\u001b[1mmodule   \u001b[0m\u001b[1m \u001b[0m┃\u001b[1m \u001b[0m\u001b[1mparams        \u001b[0m\u001b[1m \u001b[0m┃\u001b[1m \u001b[0m\u001b[1minputs        \u001b[0m\u001b[1m \u001b[0m┃\u001b[1m \u001b[0m\u001b[1moutputs       \u001b[0m\u001b[1m \u001b[0m┃\u001b[1m \u001b[0m\u001b[1mParameter      \u001b[0m\u001b[1m \u001b[0m┃\n",
       "┡━━━━━━━━━━╇━━━━━━━━━━━╇━━━━━━━━━━━━━━━━╇━━━━━━━━━━━━━━━━╇━━━━━━━━━━━━━━━━╇━━━━━━━━━━━━━━━━━┩\n",
       "│ *        │ MLP()     │                │ (\u001b[32m64, 28, 28\u001b[0m)   │ (\u001b[32m64, 10\u001b[0m)       │                 │\n",
       "│          │           │                │ \u001b[2mint32\u001b[0m          │ \u001b[2mfloat32\u001b[0m        │                 │\n",
       "├──────────┼───────────┼────────────────┼────────────────┼────────────────┼─────────────────┤\n",
       "│ .flatten │ Flatten() │                │ (\u001b[32m64, 28, 28\u001b[0m)   │ (\u001b[32m64, 784\u001b[0m)      │                 │\n",
       "│          │           │                │ \u001b[2mfloat32\u001b[0m        │ \u001b[2mfloat32\u001b[0m        │                 │\n",
       "├──────────┼───────────┼────────────────┼────────────────┼────────────────┼─────────────────┤\n",
       "│ .linear  │ Linear()  │ bias:          │ (\u001b[32m64, 784\u001b[0m)      │ (\u001b[32m64, 300\u001b[0m)      │ \u001b[32m235,500\u001b[0m         │\n",
       "│          │           │ Parameter(\u001b[32m300\u001b[0m) │ \u001b[2mfloat32\u001b[0m        │ \u001b[2mfloat32\u001b[0m        │ \u001b[2m942.0KB\u001b[0m         │\n",
       "│          │           │ \u001b[2mfloat32\u001b[0m        │                │                │                 │\n",
       "│          │           │ kernel:        │                │                │                 │\n",
       "│          │           │ Parameter(\u001b[32m784,\u001b[0m │                │                │                 │\n",
       "│          │           │ \u001b[32m300\u001b[0m)  \u001b[2mfloat32\u001b[0m  │                │                │                 │\n",
       "├──────────┼───────────┼────────────────┼────────────────┼────────────────┼─────────────────┤\n",
       "│ .linear2 │ Linear()  │ bias:          │ (\u001b[32m64, 300\u001b[0m)      │ (\u001b[32m64, 100\u001b[0m)      │ \u001b[32m30,100\u001b[0m          │\n",
       "│          │           │ Parameter(\u001b[32m100\u001b[0m) │ \u001b[2mfloat32\u001b[0m        │ \u001b[2mfloat32\u001b[0m        │ \u001b[2m120.4KB\u001b[0m         │\n",
       "│          │           │ \u001b[2mfloat32\u001b[0m        │                │                │                 │\n",
       "│          │           │ kernel:        │                │                │                 │\n",
       "│          │           │ Parameter(\u001b[32m300,\u001b[0m │                │                │                 │\n",
       "│          │           │ \u001b[32m100\u001b[0m)  \u001b[2mfloat32\u001b[0m  │                │                │                 │\n",
       "├──────────┼───────────┼────────────────┼────────────────┼────────────────┼─────────────────┤\n",
       "│ .linear3 │ Linear()  │ bias:          │ (\u001b[32m64, 100\u001b[0m)      │ (\u001b[32m64, 10\u001b[0m)       │ \u001b[32m1,010\u001b[0m    \u001b[2m4.0KB\u001b[0m  │\n",
       "│          │           │ Parameter(\u001b[32m10\u001b[0m)  │ \u001b[2mfloat32\u001b[0m        │ \u001b[2mfloat32\u001b[0m        │                 │\n",
       "│          │           │ \u001b[2mfloat32\u001b[0m        │                │                │                 │\n",
       "│          │           │ kernel:        │                │                │                 │\n",
       "│          │           │ Parameter(\u001b[32m100,\u001b[0m │                │                │                 │\n",
       "│          │           │ \u001b[32m10\u001b[0m)   \u001b[2mfloat32\u001b[0m  │                │                │                 │\n",
       "├──────────┼───────────┼────────────────┼────────────────┼────────────────┼─────────────────┤\n",
       "│\u001b[1m \u001b[0m\u001b[1m        \u001b[0m\u001b[1m \u001b[0m│\u001b[1m \u001b[0m\u001b[1m         \u001b[0m\u001b[1m \u001b[0m│\u001b[1m \u001b[0m\u001b[1m              \u001b[0m\u001b[1m \u001b[0m│\u001b[1m \u001b[0m\u001b[1m              \u001b[0m\u001b[1m \u001b[0m│\u001b[1m \u001b[0m\u001b[1m        Total:\u001b[0m\u001b[1m \u001b[0m│\u001b[1m \u001b[0m\u001b[1;32m266,610\u001b[0m\u001b[1m  \u001b[0m\u001b[1;2m1.1MB\u001b[0m\u001b[1m \u001b[0m\u001b[1m \u001b[0m│\n",
       "└──────────┴───────────┴────────────────┴────────────────┴────────────────┴─────────────────┘\n",
       "\u001b[1m                                                                                             \u001b[0m\n",
       "\u001b[1m                              Total Parameters: \u001b[0m\u001b[1;32m266,610\u001b[0m\u001b[1m  \u001b[0m\u001b[1;2m1.1MB\u001b[0m\u001b[1m                               \u001b[0m\n"
      ]
     },
     "metadata": {}
    },
    {
     "output_type": "stream",
     "name": "stdout",
     "text": [
      "\n"
     ]
    }
   ]
  },
  {
   "cell_type": "markdown",
   "metadata": {
    "id": "e62MGzVz1GZV"
   },
   "source": [
    "## Training the Model\n",
    "We are now ready to pass our model some data to start training, like in Keras this is done via the `fit` method which contains more or less the same signature. Elegy support a variety of input data sources like Tensorflow Dataset, Pytorch DataLoader, Elegy DataLoader, and Python Generators, check out the guide on Data Sources for more information. \n",
    "\n",
    "The following code will train our model for `10` epochs while limiting each epoch to `200` steps and using a batch size of `64`:"
   ]
  },
  {
   "cell_type": "code",
   "metadata": {
    "id": "dfRIJ1uG1GZW",
    "colab": {
     "base_uri": "https://localhost:8080/"
    },
    "outputId": "8eaa3b5e-44d3-4eb9-cfd5-24fcbe992d17"
   },
   "source": [
    "%%time\n",
    "\n",
    "history = model.fit(\n",
    "    inputs=X_train,\n",
    "    labels=y_train,\n",
    "    epochs=10,\n",
    "    steps_per_epoch=200,\n",
    "    batch_size=64,\n",
    "    validation_data=(X_test, y_test),\n",
    "    shuffle=True,\n",
    "    verbose=3,\n",
    "    callbacks=[eg.callbacks.ModelCheckpoint(\"models/high-level\", save_best_only=True)],\n",
    ")"
   ],
   "execution_count": 11,
   "outputs": [
    {
     "output_type": "stream",
     "name": "stdout",
     "text": [
      "[0]Step/Epoch | [1]Time | [2]accuracy | [3]crossentropy_loss | [4]l2_loss | [5]loss\n",
      "[6]val_accuracy | [7]val_crossentropy_loss | [8]val_l2_loss | [9]val_loss\n",
      "                                                                                  \n",
      "###[0]###|###[1]###|##[2]##|##[3]##|##[4]##|##[5]##|##[6]##|##[7]##|##[8]##|##[9]##\n",
      "       0 |    1.0s | 0.980 | 0.067 | 0.046 | 0.113 | 0.970 | 0.095 | 0.047 | 0.142\n",
      "       1 |    0.7s | 0.978 | 0.072 | 0.047 | 0.119 | 0.973 | 0.085 | 0.047 | 0.132\n",
      "       2 |    0.7s | 0.979 | 0.068 | 0.048 | 0.115 | 0.977 | 0.075 | 0.048 | 0.123\n",
      "       3 |    0.7s | 0.980 | 0.065 | 0.048 | 0.113 | 0.975 | 0.082 | 0.048 | 0.130\n",
      "       4 |    0.7s | 0.978 | 0.066 | 0.048 | 0.114 | 0.977 | 0.071 | 0.049 | 0.119\n",
      "       5 |    0.7s | 0.984 | 0.051 | 0.049 | 0.100 | 0.972 | 0.091 | 0.049 | 0.141\n",
      "       6 |    0.7s | 0.981 | 0.062 | 0.049 | 0.111 | 0.972 | 0.088 | 0.049 | 0.138\n",
      "       7 |    0.7s | 0.982 | 0.057 | 0.050 | 0.107 | 0.977 | 0.073 | 0.050 | 0.123\n",
      "       8 |    0.7s | 0.983 | 0.056 | 0.050 | 0.105 | 0.974 | 0.088 | 0.050 | 0.138\n",
      "       9 |    0.7s | 0.987 | 0.044 | 0.050 | 0.094 | 0.976 | 0.077 | 0.049 | 0.126\n",
      "CPU times: user 7.47 s, sys: 1.04 s, total: 8.52 s\n",
      "Wall time: 7.49 s\n"
     ]
    }
   ]
  },
  {
   "cell_type": "markdown",
   "metadata": {
    "id": "1rNWFoBJsGky"
   },
   "source": [
    "The `ModelCheckpoint` callback will periodically save the model in a folder called `\"models/high-level\"`, we will use it later.\n",
    "\n",
    "`fit` returns a `History` object which of the losses and metrics during training which we can visualize."
   ]
  },
  {
   "cell_type": "markdown",
   "metadata": {
    "id": "-zB8XuKXsKC4"
   },
   "source": [
    "## Plotting learning curves"
   ]
  },
  {
   "cell_type": "code",
   "metadata": {
    "colab": {
     "base_uri": "https://localhost:8080/"
    },
    "id": "gpG_5jkzqMeT",
    "outputId": "b05317e3-d7c9-47d2-bd48-c8f78994076c"
   },
   "source": [
    "print(history)\n",
    "print(history.history)\n",
    "print(history.history.keys())"
   ],
   "execution_count": 13,
   "outputs": [
    {
     "output_type": "stream",
     "name": "stdout",
     "text": [
      "<elegy.callbacks.history.History object at 0x7fe724b0e6d0>\n",
      "{'accuracy': [DeviceArray(0.97875, dtype=float32), DeviceArray(0.9777343, dtype=float32), DeviceArray(0.97882813, dtype=float32), DeviceArray(0.9797656, dtype=float32), DeviceArray(0.9784077, dtype=float32), DeviceArray(0.98375, dtype=float32), DeviceArray(0.98085934, dtype=float32), DeviceArray(0.9819531, dtype=float32), DeviceArray(0.98335934, dtype=float32), DeviceArray(0.9867305, dtype=float32)], 'crossentropy_loss': [DeviceArray(0.07138356, dtype=float32), DeviceArray(0.07160068, dtype=float32), DeviceArray(0.06785905, dtype=float32), DeviceArray(0.06543601, dtype=float32), DeviceArray(0.06590888, dtype=float32), DeviceArray(0.05132652, dtype=float32), DeviceArray(0.06165808, dtype=float32), DeviceArray(0.05692255, dtype=float32), DeviceArray(0.05551724, dtype=float32), DeviceArray(0.04438237, dtype=float32)], 'l2_loss': [DeviceArray(0.04622991, dtype=float32), DeviceArray(0.04692444, dtype=float32), DeviceArray(0.04753873, dtype=float32), DeviceArray(0.04794404, dtype=float32), DeviceArray(0.04849428, dtype=float32), DeviceArray(0.04866574, dtype=float32), DeviceArray(0.04930166, dtype=float32), DeviceArray(0.04960426, dtype=float32), DeviceArray(0.0499423, dtype=float32), DeviceArray(0.04967803, dtype=float32)], 'loss': [DeviceArray(0.11761346, dtype=float32), DeviceArray(0.11852512, dtype=float32), DeviceArray(0.11539778, dtype=float32), DeviceArray(0.11338004, dtype=float32), DeviceArray(0.11440316, dtype=float32), DeviceArray(0.09999226, dtype=float32), DeviceArray(0.11095974, dtype=float32), DeviceArray(0.10652682, dtype=float32), DeviceArray(0.10545954, dtype=float32), DeviceArray(0.09406041, dtype=float32)], 'val_accuracy': [DeviceArray(0.9704527, dtype=float32), DeviceArray(0.9729567, dtype=float32), DeviceArray(0.9765625, dtype=float32), DeviceArray(0.97495997, dtype=float32), DeviceArray(0.9771635, dtype=float32), DeviceArray(0.97175485, dtype=float32), DeviceArray(0.9719551, dtype=float32), DeviceArray(0.9765625, dtype=float32), DeviceArray(0.97375804, dtype=float32), DeviceArray(0.9755609, dtype=float32)], 'val_crossentropy_loss': [DeviceArray(0.09511039, dtype=float32), DeviceArray(0.08492564, dtype=float32), DeviceArray(0.07505213, dtype=float32), DeviceArray(0.08205518, dtype=float32), DeviceArray(0.07070775, dtype=float32), DeviceArray(0.09147524, dtype=float32), DeviceArray(0.08829964, dtype=float32), DeviceArray(0.07331534, dtype=float32), DeviceArray(0.08813993, dtype=float32), DeviceArray(0.07674779, dtype=float32)], 'val_l2_loss': [DeviceArray(0.04675827, dtype=float32), DeviceArray(0.04729984, dtype=float32), DeviceArray(0.04779103, dtype=float32), DeviceArray(0.04831493, dtype=float32), DeviceArray(0.04863739, dtype=float32), DeviceArray(0.04911185, dtype=float32), DeviceArray(0.049436, dtype=float32), DeviceArray(0.04980421, dtype=float32), DeviceArray(0.04990685, dtype=float32), DeviceArray(0.04944661, dtype=float32)], 'val_loss': [DeviceArray(0.14186867, dtype=float32), DeviceArray(0.13222548, dtype=float32), DeviceArray(0.12284316, dtype=float32), DeviceArray(0.13037011, dtype=float32), DeviceArray(0.11934513, dtype=float32), DeviceArray(0.14058709, dtype=float32), DeviceArray(0.13773564, dtype=float32), DeviceArray(0.12311955, dtype=float32), DeviceArray(0.13804677, dtype=float32), DeviceArray(0.1261944, dtype=float32)]}\n",
      "dict_keys(['accuracy', 'crossentropy_loss', 'l2_loss', 'loss', 'val_accuracy', 'val_crossentropy_loss', 'val_l2_loss', 'val_loss'])\n"
     ]
    }
   ]
  },
  {
   "cell_type": "code",
   "metadata": {
    "colab": {
     "base_uri": "https://localhost:8080/",
     "height": 1000
    },
    "id": "DAfc-JNd1GZb",
    "outputId": "4d4d940f-7088-455b-f9ac-4863d603f54f"
   },
   "source": [
    "import matplotlib.pyplot as plt\n",
    "\n",
    "\n",
    "def plot_history(history):\n",
    "    n_plots = len(history.history.keys()) // 2\n",
    "    plt.figure(figsize=(14, 24))\n",
    "\n",
    "    for i, key in enumerate(list(history.history.keys())[:n_plots]):\n",
    "        metric = history.history[key]\n",
    "        val_metric = history.history[f\"val_{key}\"]\n",
    "\n",
    "        plt.subplot(n_plots, 1, i + 1)\n",
    "        plt.plot(metric, \"o-\", label=f\"Training {key}\")\n",
    "        plt.plot(val_metric, \"x-\", label=f\"Validation {key}\")\n",
    "        plt.legend(loc=\"lower right\")\n",
    "        plt.ylabel(key)\n",
    "        plt.title(f\"Training and Validation {key}\")\n",
    "    plt.show()\n",
    "\n",
    "\n",
    "plot_history(history)"
   ],
   "execution_count": 14,
   "outputs": [
    {
     "output_type": "display_data",
     "data": {
      "image/png": "[encoded data removed]",
      "text/plain": [
       "<Figure size 1008x1728 with 4 Axes>"
      ]
     },
     "metadata": {
      "needs_background": "light"
     }
    }
   ]
  },
  {
   "cell_type": "code",
   "metadata": {
    "colab": {
     "base_uri": "https://localhost:8080/"
    },
    "id": "ARVwPnkx4squ",
    "outputId": "e44592ad-bfe6-4d52-b6df-95f515dc1cb2"
   },
   "source": [
    "ev = model.evaluate(x=X_test, y=y_test)\n",
    "print(ev)"
   ],
   "execution_count": 15,
   "outputs": [
    {
     "output_type": "stream",
     "name": "stdout",
     "text": [
      "313/313 [==============================] - 3s 11ms/step - accuracy: 0.9716 - crossentropy_loss: 0.0926 - l2_loss: 0.0494 - loss: 0.1421\n",
      "{'accuracy': DeviceArray(0.97560006, dtype=float32), 'crossentropy_loss': DeviceArray(0.07650337, dtype=float32), 'l2_loss': DeviceArray(0.04944682, dtype=float32), 'loss': DeviceArray(0.1259502, dtype=float32), 'size': 32}\n"
     ]
    }
   ]
  },
  {
   "cell_type": "markdown",
   "metadata": {
    "id": "fRlK89tC1GZf"
   },
   "source": [
    "## Generating Predictions\n",
    "\n",
    "Having our trained model we can now get some samples from the test set and generate some predictions. Lets select `9` random images and call `.predict`:"
   ]
  },
  {
   "cell_type": "code",
   "metadata": {
    "id": "FCNlJ74S1GZf"
   },
   "source": [
    "import numpy as np\n",
    "\n",
    "idxs = np.random.randint(0, len(X_test), size=(9,))\n",
    "x_sample = X_test[idxs]\n",
    "\n",
    "y_pred = model.predict(x=x_sample)"
   ],
   "execution_count": 16,
   "outputs": []
  },
  {
   "cell_type": "code",
   "metadata": {
    "colab": {
     "base_uri": "https://localhost:8080/"
    },
    "id": "Edp8jhuwqxZv",
    "outputId": "57a721e2-a2a9-4b3f-e95b-5fc6c77d56ac"
   },
   "source": [
    "print(y_pred.shape)"
   ],
   "execution_count": 17,
   "outputs": [
    {
     "output_type": "stream",
     "name": "stdout",
     "text": [
      "(9, 10)\n"
     ]
    }
   ]
  },
  {
   "cell_type": "markdown",
   "metadata": {
    "id": "JJ1Km-w41GZo"
   },
   "source": [
    "Easy right? Finally lets plot the results to see if they are accurate."
   ]
  },
  {
   "cell_type": "code",
   "metadata": {
    "colab": {
     "base_uri": "https://localhost:8080/",
     "height": 716
    },
    "id": "9rnFhoOl1GZp",
    "outputId": "3e694fa2-a315-45cf-ebc4-5b992ecba624"
   },
   "source": [
    "plt.figure(figsize=(12, 12))\n",
    "for i in range(3):\n",
    "    for j in range(3):\n",
    "        k = 3 * i + j\n",
    "        plt.subplot(3, 3, k + 1)\n",
    "\n",
    "        plt.title(f\"{np.argmax(y_pred[k])}\")\n",
    "        plt.imshow(x_sample[k], cmap=\"gray\")"
   ],
   "execution_count": 18,
   "outputs": [
    {
     "output_type": "display_data",
     "data": {
      "image/png": "[encoded data removed]",
      "text/plain": [
       "<Figure size 864x864 with 9 Axes>"
      ]
     },
     "metadata": {
      "needs_background": "light"
     }
    }
   ]
  },
  {
   "cell_type": "markdown",
   "metadata": {
    "id": "WfmdgSqR1GZv"
   },
   "source": [
    "\n",
    "\n",
    "## Serialization\n",
    "To serialize the `Model` you can use the `model.save(...)`, this will create a folder with some files that contain the model's code plus all parameters and states."
   ]
  },
  {
   "cell_type": "code",
   "metadata": {
    "id": "-ztl-pEarVHX"
   },
   "source": [
    "model.save(\"mymodel\")"
   ],
   "execution_count": 19,
   "outputs": []
  },
  {
   "cell_type": "code",
   "metadata": {
    "colab": {
     "base_uri": "https://localhost:8080/"
    },
    "id": "OYex8WNBrWx2",
    "outputId": "638e9c54-fd4d-41a1-b165-f94cf8e1a7a8"
   },
   "source": [
    "!ls"
   ],
   "execution_count": 20,
   "outputs": [
    {
     "output_type": "stream",
     "name": "stdout",
     "text": [
      "models\tmymodel  sample_data\n"
     ]
    }
   ]
  },
  {
   "cell_type": "code",
   "metadata": {
    "colab": {
     "base_uri": "https://localhost:8080/"
    },
    "id": "vABtpQgcrX6G",
    "outputId": "4b884d9c-61a0-4505-8139-f530fc578aa7"
   },
   "source": [
    "!ls mymodel"
   ],
   "execution_count": 21,
   "outputs": [
    {
     "output_type": "stream",
     "name": "stdout",
     "text": [
      "model.pkl\n"
     ]
    }
   ]
  },
  {
   "cell_type": "markdown",
   "metadata": {
    "id": "w01zUhoLr5dR"
   },
   "source": [
    "\n",
    "\n",
    "However since we had previously used the `ModelCheckpoint` callback we can load it using `elegy.load`. Lets get a new model reference containing the same weights and call its `evaluate` method to verify it loaded correctly:"
   ]
  },
  {
   "cell_type": "code",
   "metadata": {
    "colab": {
     "base_uri": "https://localhost:8080/"
    },
    "id": "Ts86LE44r7X4",
    "outputId": "1a315995-3fec-4f88-83e5-75ba1332b8de"
   },
   "source": [
    "!ls models"
   ],
   "execution_count": 22,
   "outputs": [
    {
     "output_type": "stream",
     "name": "stdout",
     "text": [
      "high-level\n"
     ]
    }
   ]
  },
  {
   "cell_type": "code",
   "metadata": {
    "colab": {
     "base_uri": "https://localhost:8080/"
    },
    "id": "I_jyTb3hr9G4",
    "outputId": "7eb70769-eb5a-4b20-d213-30bb513c9c40"
   },
   "source": [
    "!ls models/high-level"
   ],
   "execution_count": 23,
   "outputs": [
    {
     "output_type": "stream",
     "name": "stdout",
     "text": [
      "model.pkl\n"
     ]
    }
   ]
  },
  {
   "cell_type": "code",
   "metadata": {
    "colab": {
     "base_uri": "https://localhost:8080/"
    },
    "id": "lak2-b9m1GZw",
    "outputId": "9dda9355-3a1a-4aa1-eaa7-d91883ab835f"
   },
   "source": [
    "# current model reference\n",
    "print(\"current model id:\", id(model))\n",
    "\n",
    "model.evaluate(x=X_test, y=y_test)\n",
    "\n",
    "model_old = model\n",
    "\n",
    "# load model from disk\n",
    "model = eg.load(\"models/high-level\")\n",
    "\n",
    "# new model reference\n",
    "print(\"new model id:    \", id(model))\n",
    "\n",
    "# check that it works!\n",
    "model.evaluate(x=X_test, y=y_test)"
   ],
   "execution_count": 24,
   "outputs": [
    {
     "output_type": "stream",
     "name": "stdout",
     "text": [
      "current model id: 140630126070032\n",
      "313/313 [==============================] - 1s 4ms/step - accuracy: 0.9716 - crossentropy_loss: 0.0926 - l2_loss: 0.0494 - loss: 0.1421\n",
      "new model id:     140630642950096\n",
      "313/313 [==============================] - 3s 9ms/step - accuracy: 0.9722 - crossentropy_loss: 0.0852 - l2_loss: 0.0486 - loss: 0.1339\n"
     ]
    },
    {
     "output_type": "execute_result",
     "data": {
      "text/plain": [
       "{'accuracy': DeviceArray(0.97720003, dtype=float32),\n",
       " 'crossentropy_loss': DeviceArray(0.07048728, dtype=float32),\n",
       " 'l2_loss': DeviceArray(0.04863739, dtype=float32),\n",
       " 'loss': DeviceArray(0.11912467, dtype=float32),\n",
       " 'size': 32}"
      ]
     },
     "metadata": {},
     "execution_count": 24
    }
   ]
  },
  {
   "cell_type": "markdown",
   "metadata": {
    "id": "V0nLXQ4zAbU5"
   },
   "source": [
    "\n",
    "You can also serialize your Elegy Model as a TensorFlow SavedModel which is portable to many platforms many platforms and services, to do this you can use the `saved_model` method. `saved_model` will convert the function that creates the predictions for your Model (`pred_step`) in Jax to a TensorFlow version via `jax2tf` and then serialize it to disk.\n",
    "\n",
    "The function `saved_model` accepts a sample to infer the shapes, the path where the model will be saved at, and a list of batch sizes for the different signatures it accepts. Due to some current limitations in Jax it is not possible to create signatures with dynamic dimensions so you must specify a couple which might fit you needs. "
   ]
  },
  {
   "cell_type": "code",
   "metadata": {
    "id": "VGpy1lbxAbU5",
    "colab": {
     "base_uri": "https://localhost:8080/"
    },
    "outputId": "31a1ddb2-7b65-407c-afa6-03e0d29897b8"
   },
   "source": [
    "model.saved_model(x_sample, \"saved-models/high-level\")"
   ],
   "execution_count": 25,
   "outputs": [
    {
     "output_type": "stream",
     "name": "stdout",
     "text": [
      "INFO:tensorflow:Assets written to: saved-models/high-level/assets\n"
     ]
    },
    {
     "output_type": "stream",
     "name": "stderr",
     "text": [
      "INFO:tensorflow:Assets written to: saved-models/high-level/assets\n"
     ]
    }
   ]
  },
  {
   "cell_type": "code",
   "metadata": {
    "colab": {
     "base_uri": "https://localhost:8080/"
    },
    "id": "sBy2Z0MaslDD",
    "outputId": "144ea220-537d-4763-bd90-55f144acc0e0"
   },
   "source": [
    "!ls saved-models/high-level"
   ],
   "execution_count": 26,
   "outputs": [
    {
     "output_type": "stream",
     "name": "stdout",
     "text": [
      "assets\tsaved_model.pb\tvariables\n"
     ]
    }
   ]
  },
  {
   "cell_type": "markdown",
   "metadata": {
    "id": "B6gNfkB-AbU5"
   },
   "source": [
    "We can test our saved model by loading it with TensorFlow and generating a couple of predictions as we did previously:"
   ]
  },
  {
   "cell_type": "code",
   "metadata": {
    "id": "r9Iy0zFDAbU5",
    "colab": {
     "base_uri": "https://localhost:8080/",
     "height": 443
    },
    "outputId": "270520c9-647e-4c7a-8c6c-0eeff386eada"
   },
   "source": [
    "import tensorflow as tf\n",
    "\n",
    "saved_model = tf.saved_model.load(\"saved-models/high-level\")\n",
    "\n",
    "y_pred_tf = saved_model(x_sample.astype(np.int32))\n",
    "\n",
    "plt.figure(figsize=(12, 12))\n",
    "for i in range(3):\n",
    "    for j in range(3):\n",
    "        k = 3 * i + j\n",
    "        plt.subplot(3, 3, k + 1)\n",
    "\n",
    "        plt.title(f\"{np.argmax(y_pred_tf[k])}\")\n",
    "        plt.imshow(x_sample[k], cmap=\"gray\")"
   ],
   "execution_count": 28,
   "outputs": [
    {
     "output_type": "error",
     "ename": "ResourceExhaustedError",
     "evalue": "ignored",
     "traceback": [
      "\u001b[0;31m---------------------------------------------------------------------------\u001b[0m",
      "\u001b[0;31mResourceExhaustedError\u001b[0m                    Traceback (most recent call last)",
      "\u001b[0;32m<ipython-input-28-d29d35341090>\u001b[0m in \u001b[0;36m<module>\u001b[0;34m()\u001b[0m\n\u001b[1;32m      3\u001b[0m \u001b[0msaved_model\u001b[0m \u001b[0;34m=\u001b[0m \u001b[0mtf\u001b[0m\u001b[0;34m.\u001b[0m\u001b[0msaved_model\u001b[0m\u001b[0;34m.\u001b[0m\u001b[0mload\u001b[0m\u001b[0;34m(\u001b[0m\u001b[0;34m\"saved-models/high-level\"\u001b[0m\u001b[0;34m)\u001b[0m\u001b[0;34m\u001b[0m\u001b[0;34m\u001b[0m\u001b[0m\n\u001b[1;32m      4\u001b[0m \u001b[0;34m\u001b[0m\u001b[0m\n\u001b[0;32m----> 5\u001b[0;31m \u001b[0my_pred_tf\u001b[0m \u001b[0;34m=\u001b[0m \u001b[0msaved_model\u001b[0m\u001b[0;34m(\u001b[0m\u001b[0mx_sample\u001b[0m\u001b[0;34m.\u001b[0m\u001b[0mastype\u001b[0m\u001b[0;34m(\u001b[0m\u001b[0mnp\u001b[0m\u001b[0;34m.\u001b[0m\u001b[0mint32\u001b[0m\u001b[0;34m)\u001b[0m\u001b[0;34m)\u001b[0m\u001b[0;34m\u001b[0m\u001b[0;34m\u001b[0m\u001b[0m\n\u001b[0m\u001b[1;32m      6\u001b[0m \u001b[0;34m\u001b[0m\u001b[0m\n\u001b[1;32m      7\u001b[0m \u001b[0mplt\u001b[0m\u001b[0;34m.\u001b[0m\u001b[0mfigure\u001b[0m\u001b[0;34m(\u001b[0m\u001b[0mfigsize\u001b[0m\u001b[0;34m=\u001b[0m\u001b[0;34m(\u001b[0m\u001b[0;36m12\u001b[0m\u001b[0;34m,\u001b[0m \u001b[0;36m12\u001b[0m\u001b[0;34m)\u001b[0m\u001b[0;34m)\u001b[0m\u001b[0;34m\u001b[0m\u001b[0;34m\u001b[0m\u001b[0m\n",
      "\u001b[0;32m/usr/local/lib/python3.7/dist-packages/tensorflow/python/saved_model/load.py\u001b[0m in \u001b[0;36m_call_attribute\u001b[0;34m(instance, *args, **kwargs)\u001b[0m\n\u001b[1;32m    699\u001b[0m \u001b[0;34m\u001b[0m\u001b[0m\n\u001b[1;32m    700\u001b[0m \u001b[0;32mdef\u001b[0m \u001b[0m_call_attribute\u001b[0m\u001b[0;34m(\u001b[0m\u001b[0minstance\u001b[0m\u001b[0;34m,\u001b[0m \u001b[0;34m*\u001b[0m\u001b[0margs\u001b[0m\u001b[0;34m,\u001b[0m \u001b[0;34m**\u001b[0m\u001b[0mkwargs\u001b[0m\u001b[0;34m)\u001b[0m\u001b[0;34m:\u001b[0m\u001b[0;34m\u001b[0m\u001b[0;34m\u001b[0m\u001b[0m\n\u001b[0;32m--> 701\u001b[0;31m   \u001b[0;32mreturn\u001b[0m \u001b[0minstance\u001b[0m\u001b[0;34m.\u001b[0m\u001b[0m__call__\u001b[0m\u001b[0;34m(\u001b[0m\u001b[0;34m*\u001b[0m\u001b[0margs\u001b[0m\u001b[0;34m,\u001b[0m \u001b[0;34m**\u001b[0m\u001b[0mkwargs\u001b[0m\u001b[0;34m)\u001b[0m\u001b[0;34m\u001b[0m\u001b[0;34m\u001b[0m\u001b[0m\n\u001b[0m\u001b[1;32m    702\u001b[0m \u001b[0;34m\u001b[0m\u001b[0m\n\u001b[1;32m    703\u001b[0m \u001b[0;34m\u001b[0m\u001b[0m\n",
      "\u001b[0;32m/usr/local/lib/python3.7/dist-packages/tensorflow/python/util/traceback_utils.py\u001b[0m in \u001b[0;36merror_handler\u001b[0;34m(*args, **kwargs)\u001b[0m\n\u001b[1;32m    151\u001b[0m     \u001b[0;32mexcept\u001b[0m \u001b[0mException\u001b[0m \u001b[0;32mas\u001b[0m \u001b[0me\u001b[0m\u001b[0;34m:\u001b[0m\u001b[0;34m\u001b[0m\u001b[0;34m\u001b[0m\u001b[0m\n\u001b[1;32m    152\u001b[0m       \u001b[0mfiltered_tb\u001b[0m \u001b[0;34m=\u001b[0m \u001b[0m_process_traceback_frames\u001b[0m\u001b[0;34m(\u001b[0m\u001b[0me\u001b[0m\u001b[0;34m.\u001b[0m\u001b[0m__traceback__\u001b[0m\u001b[0;34m)\u001b[0m\u001b[0;34m\u001b[0m\u001b[0;34m\u001b[0m\u001b[0m\n\u001b[0;32m--> 153\u001b[0;31m       \u001b[0;32mraise\u001b[0m \u001b[0me\u001b[0m\u001b[0;34m.\u001b[0m\u001b[0mwith_traceback\u001b[0m\u001b[0;34m(\u001b[0m\u001b[0mfiltered_tb\u001b[0m\u001b[0;34m)\u001b[0m \u001b[0;32mfrom\u001b[0m \u001b[0;32mNone\u001b[0m\u001b[0;34m\u001b[0m\u001b[0;34m\u001b[0m\u001b[0m\n\u001b[0m\u001b[1;32m    154\u001b[0m     \u001b[0;32mfinally\u001b[0m\u001b[0;34m:\u001b[0m\u001b[0;34m\u001b[0m\u001b[0;34m\u001b[0m\u001b[0m\n\u001b[1;32m    155\u001b[0m       \u001b[0;32mdel\u001b[0m \u001b[0mfiltered_tb\u001b[0m\u001b[0;34m\u001b[0m\u001b[0;34m\u001b[0m\u001b[0m\n",
      "\u001b[0;32m/usr/local/lib/python3.7/dist-packages/tensorflow/python/eager/execute.py\u001b[0m in \u001b[0;36mquick_execute\u001b[0;34m(op_name, num_outputs, inputs, attrs, ctx, name)\u001b[0m\n\u001b[1;32m     57\u001b[0m     \u001b[0mctx\u001b[0m\u001b[0;34m.\u001b[0m\u001b[0mensure_initialized\u001b[0m\u001b[0;34m(\u001b[0m\u001b[0;34m)\u001b[0m\u001b[0;34m\u001b[0m\u001b[0;34m\u001b[0m\u001b[0m\n\u001b[1;32m     58\u001b[0m     tensors = pywrap_tfe.TFE_Py_Execute(ctx._handle, device_name, op_name,\n\u001b[0;32m---> 59\u001b[0;31m                                         inputs, attrs, num_outputs)\n\u001b[0m\u001b[1;32m     60\u001b[0m   \u001b[0;32mexcept\u001b[0m \u001b[0mcore\u001b[0m\u001b[0;34m.\u001b[0m\u001b[0m_NotOkStatusException\u001b[0m \u001b[0;32mas\u001b[0m \u001b[0me\u001b[0m\u001b[0;34m:\u001b[0m\u001b[0;34m\u001b[0m\u001b[0;34m\u001b[0m\u001b[0m\n\u001b[1;32m     61\u001b[0m     \u001b[0;32mif\u001b[0m \u001b[0mname\u001b[0m \u001b[0;32mis\u001b[0m \u001b[0;32mnot\u001b[0m \u001b[0;32mNone\u001b[0m\u001b[0;34m:\u001b[0m\u001b[0;34m\u001b[0m\u001b[0;34m\u001b[0m\u001b[0m\n",
      "\u001b[0;31mResourceExhaustedError\u001b[0m:  Out of memory while trying to allocate 16788016 bytes.\n\t [[{{function_node __inference_<lambda>_2495}}{{node XlaDotV2}}]]\nHint: If you want to see a list of allocated tensors when OOM happens, add report_tensor_allocations_upon_oom to RunOptions for current allocation info. This isn't available when running in Eager mode.\n [Op:__inference_restored_function_body_2791]"
     ]
    }
   ]
  },
  {
   "cell_type": "markdown",
   "metadata": {
    "id": "X7yuYgrcuCpc"
   },
   "source": [
    "## Distributed training\n",
    "\n",
    "To parallelize training and inference using pmap on a mulit-core TPU you just need to add\n",
    "```\n",
    "model = model.distributed()\n",
    "```\n",
    "after creating the model.\n",
    "For an example, try running https://github.com/probml/pyprobml/blob/master/scripts/mnist_elegy_distributed.py on a TPU VM v3-8.\n",
    "In colab,  there will not be any speedup, since there is only 1 GPU. (I have not tried TPU mode in colab.)\n",
    "\n",
    "\n"
   ]
  },
  {
   "cell_type": "markdown",
   "metadata": {
    "id": "NP90PeQTmrsP"
   },
   "source": [
    "## Low-level API"
   ]
  },
  {
   "cell_type": "markdown",
   "metadata": {
    "id": "t0V7RLWOnQcL"
   },
   "source": [
    "### Introduction"
   ]
  },
  {
   "cell_type": "markdown",
   "metadata": {
    "id": "F1-2T8ZZmtYu"
   },
   "source": [
    "\n",
    "\n",
    "\n",
    "The low-level API lets you redefine what happens during the various stages of training, evaluation and inference by implementing some methods in a custom class. Here is the list of methods you can define along with the high-level method that uses it:\n",
    "\n",
    "| Low-level Method | High-level Method | \n",
    "| :- | :- |\n",
    "| `pred_step` | `predict` |\n",
    "| `test_step` | `evaluate` |\n",
    "| `grad_step` | NA |\n",
    "| `train_step` | `fit` |\n",
    "\n",
    "Check out the guides on the low-level API for more information.\n",
    "\n",
    "In this tutorial we are going to implement Linear Classifier using pure Jax by overriding`pred_step` which defines the forward pass and `test_step` which defines loss and metrics of our model. \n",
    "\n",
    "`pred_step` returns a tuple with:\n",
    "* `y_pred`: predictions of the model\n",
    "* `states`: a `elegy.States` namedtuple that contains the states for thing like network trainable parameter, network states, metrics states, optimizer states, rng state.\n",
    "\n",
    "`test_step` returns a tuple with:\n",
    "* `loss`: the scalar loss use to calculate the gradient\n",
    "* `logs`: a dictionary with the logs to be reported during training\n",
    "* `states`: a `elegy.States` namedtuple that contains the states for thing like network trainable parameter, network states, metrics states, optimizer states, rng state.\n",
    "\n",
    "Since Jax is functional you will find that low-level API is very explicit with state management, that is, you always get the currrent state as input and you return the new state as output. Lets define `test_step` to make things clearer:"
   ]
  },
  {
   "cell_type": "markdown",
   "metadata": {
    "id": "N_mYnMxym6T7"
   },
   "source": [
    "### Linear classifier"
   ]
  },
  {
   "cell_type": "code",
   "metadata": {
    "id": "1-j-cmf9myXK"
   },
   "source": [
    "import jax\n",
    "import numpy as np\n",
    "import jax.numpy as jnp\n",
    "import typing as tp\n",
    "import elegy as eg\n",
    "\n",
    "M = tp.TypeVar(\"M\", bound=eg.Model)\n",
    "\n",
    "\n",
    "class LinearClassifier(eg.Model):\n",
    "    w: jnp.ndarray = eg.Parameter.node()\n",
    "    b: jnp.ndarray = eg.Parameter.node()\n",
    "\n",
    "    def __init__(\n",
    "        self,\n",
    "        features_out: int,\n",
    "        loss: tp.Any = None,\n",
    "        metrics: tp.Any = None,\n",
    "        optimizer=None,\n",
    "        seed: int = 42,\n",
    "        eager: bool = False,\n",
    "    ):\n",
    "        self.features_out = features_out\n",
    "        super().__init__(\n",
    "            loss=loss,\n",
    "            metrics=metrics,\n",
    "            optimizer=optimizer,\n",
    "            seed=seed,\n",
    "            eager=eager,\n",
    "        )\n",
    "\n",
    "    def init_step(self: M, key: jnp.ndarray, inputs: jnp.ndarray) -> M:\n",
    "        features_in = np.prod(inputs.shape[1:])\n",
    "\n",
    "        self.w = jax.random.uniform(\n",
    "            key,\n",
    "            shape=[\n",
    "                features_in,\n",
    "                self.features_out,\n",
    "            ],\n",
    "        )\n",
    "        self.b = jnp.zeros([self.features_out])\n",
    "\n",
    "        assert self.optimizer is not None\n",
    "        self.optimizer = self.optimizer.init(self)\n",
    "\n",
    "        return self\n",
    "\n",
    "    def pred_step(self: M, inputs: tp.Any) -> eg.PredStepOutput[M]:\n",
    "        # flatten + scale\n",
    "        inputs = jnp.reshape(inputs, (inputs.shape[0], -1)) / 255\n",
    "\n",
    "        # linear\n",
    "        logits = jnp.dot(inputs, self.w) + self.b\n",
    "\n",
    "        return logits, self\n",
    "\n",
    "    def test_step(\n",
    "        self: M,\n",
    "        inputs,\n",
    "        labels,\n",
    "    ) -> eg.TestStepOutput[M]:\n",
    "        model = self\n",
    "\n",
    "        # forward\n",
    "        logits, model = model.pred_step(inputs)\n",
    "\n",
    "        # crossentropy loss\n",
    "        target = jax.nn.one_hot(labels[\"target\"], self.features_out)\n",
    "        loss = jnp.mean(-jnp.sum(target * jax.nn.log_softmax(logits), axis=-1))\n",
    "\n",
    "        # metrics\n",
    "        logs = dict(\n",
    "            acc=jnp.mean(jnp.argmax(logits, axis=-1) == labels[\"target\"]),\n",
    "            loss=loss,\n",
    "        )\n",
    "\n",
    "        return loss, logs, model"
   ],
   "execution_count": 29,
   "outputs": []
  },
  {
   "cell_type": "markdown",
   "metadata": {
    "id": "8YhK4JETnA2C"
   },
   "source": [
    "Notice the following:\n",
    "* We define a bunch of arguments with specific names, Elegy uses Dependency Injection so you can just request what you need.\n",
    "* `initializing` tells us if we should initialize our parameters or not, here we are directly creating them ourselves but if you use a Module system you can conditionally call its `init` method here.\n",
    "* Our model is defined by a simple linear function.\n",
    "* Defined a simple crossentropy loss and an accuracy metric, we added both the the logs.\n",
    "* We set the updated `States.net_params` with the `w` and `b` parameters so we get them as an input on the next run after they are initialized.\n",
    "* `States.update` offers a clean way inmutably update the states without having to copy all fields to a new States structure.\n",
    "\n",
    "Remember `test_step` only defines what happens during `evaluate`, however, `Model`'s default implementation has a structure where on method is defined in terms of another:\n",
    "\n",
    "```\n",
    "pred_step ⬅ test_step ⬅ grad_step ⬅ train_step\n",
    "```\n",
    "\n",
    "Because of this, we get the `train_step` / `fit` for free if we just pass an optimizer to the the constructor as we are going to do next:"
   ]
  },
  {
   "cell_type": "markdown",
   "metadata": {
    "id": "Qek5Z2eznVEg"
   },
   "source": [
    "### Training"
   ]
  },
  {
   "cell_type": "code",
   "metadata": {
    "id": "uxYqZ8c2nBGR"
   },
   "source": [
    "import optax\n",
    "\n",
    "model = LinearClassifier(features_out=10, optimizer=optax.adam(1e-3))"
   ],
   "execution_count": 30,
   "outputs": []
  },
  {
   "cell_type": "code",
   "metadata": {
    "colab": {
     "base_uri": "https://localhost:8080/"
    },
    "id": "zDfWqKI0nIf3",
    "outputId": "fab87be9-891a-4f81-dec6-5e33811d8b1c"
   },
   "source": [
    "history = model.fit(\n",
    "    inputs=X_train,\n",
    "    labels=y_train,\n",
    "    epochs=10,\n",
    "    steps_per_epoch=200,\n",
    "    batch_size=64,\n",
    "    validation_data=(X_test, y_test),\n",
    "    shuffle=True,\n",
    "    callbacks=[eg.callbacks.ModelCheckpoint(\"models/low-level\", save_best_only=True)],\n",
    ")"
   ],
   "execution_count": 31,
   "outputs": [
    {
     "output_type": "stream",
     "name": "stdout",
     "text": [
      "Epoch 1/10\n",
      "200/200 [==============================] - 2s 9ms/step - acc: 0.4387 - loss: 1.9352 - val_acc: 0.5781 - val_loss: 1.4558\n",
      "Epoch 2/10\n",
      "200/200 [==============================] - 0s 2ms/step - acc: 0.7656 - loss: 0.5386 - val_acc: 0.7656 - val_loss: 0.9839\n",
      "Epoch 3/10\n",
      "200/200 [==============================] - 0s 2ms/step - acc: 0.8594 - loss: 0.4755 - val_acc: 0.7969 - val_loss: 0.8447\n",
      "Epoch 4/10\n",
      "200/200 [==============================] - 0s 2ms/step - acc: 0.9062 - loss: 0.3554 - val_acc: 0.8281 - val_loss: 0.7401\n",
      "Epoch 5/10\n",
      "199/200 [============================>.] - 0s 2ms/step - acc: 0.8594 - loss: 0.4128 - val_acc: 0.8438 - val_loss: 0.6882\n",
      "Epoch 6/10\n",
      "200/200 [==============================] - 0s 2ms/step - acc: 0.8750 - loss: 0.3504 - val_acc: 0.8281 - val_loss: 0.6493\n",
      "Epoch 7/10\n",
      "200/200 [==============================] - 0s 2ms/step - acc: 0.9219 - loss: 0.4800 - val_acc: 0.8281 - val_loss: 0.5941\n",
      "Epoch 8/10\n",
      "200/200 [==============================] - 0s 2ms/step - acc: 0.9531 - loss: 0.2488 - val_acc: 0.8281 - val_loss: 0.6200\n",
      "Epoch 9/10\n",
      "200/200 [==============================] - 0s 2ms/step - acc: 0.9531 - loss: 0.1646 - val_acc: 0.8281 - val_loss: 0.5512\n",
      "Epoch 10/10\n",
      "199/200 [============================>.] - 0s 2ms/step - acc: 0.8750 - loss: 0.4206 - val_acc: 0.8438 - val_loss: 0.5409\n"
     ]
    }
   ]
  },
  {
   "cell_type": "code",
   "metadata": {
    "colab": {
     "base_uri": "https://localhost:8080/",
     "height": 1000
    },
    "id": "getHKQaPnOEo",
    "outputId": "821165d3-1e5c-41cf-d3d1-cef98e41cd20"
   },
   "source": [
    "import matplotlib.pyplot as plt\n",
    "\n",
    "\n",
    "def plot_history(history):\n",
    "    n_plots = len(history.history.keys()) // 2\n",
    "    plt.figure(figsize=(14, 24))\n",
    "\n",
    "    for i, key in enumerate(list(history.history.keys())[:n_plots]):\n",
    "        metric = history.history[key]\n",
    "        val_metric = history.history[f\"val_{key}\"]\n",
    "\n",
    "        plt.subplot(n_plots, 1, i + 1)\n",
    "        plt.plot(metric, \"o-\", label=f\"Training {key}\")\n",
    "        plt.plot(val_metric, \"x-\", label=f\"Validation {key}\")\n",
    "        plt.legend(loc=\"lower right\")\n",
    "        plt.ylabel(key)\n",
    "        plt.title(f\"Training and Validation {key}\")\n",
    "    plt.show()\n",
    "\n",
    "\n",
    "plot_history(history)"
   ],
   "execution_count": 33,
   "outputs": [
    {
     "output_type": "display_data",
     "data": {
      "image/png": "[encoded data removed]",
      "text/plain": [
       "<Figure size 1008x1728 with 2 Axes>"
      ]
     },
     "metadata": {
      "needs_background": "light"
     }
    }
   ]
  },
  {
   "cell_type": "markdown",
   "metadata": {
    "id": "ZaPdDJw3nbRy"
   },
   "source": [
    "Notice that the logs are very noisy, this is because for this example we didn't use cummulative metrics so the reported value is just the value for the last batch of that epoch, not the value for the entire epoch. To fix this we could use some of the modules in `elegy.metrics`."
   ]
  },
  {
   "cell_type": "code",
   "metadata": {
    "id": "cMhxydyunbmN"
   },
   "source": [
    ""
   ],
   "execution_count": null,
   "outputs": []
  }
 ]
}