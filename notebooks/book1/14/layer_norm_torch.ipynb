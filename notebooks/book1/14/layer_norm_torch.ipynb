{
 "cells": [
  {
   "cell_type": "markdown",
   "id": "a0f96ce1",
   "metadata": {},
   "source": [
    "Please find jax implementation of this notebook here: https://colab.research.google.com/github/probml/pyprobml/blob/master/notebooks/book1/14/layer_norm_jax.ipynb"
   ]
  },
  {
   "cell_type": "markdown",
   "metadata": {
    "colab_type": "text",
    "id": "view-in-github"
   },
   "source": [
    "<a href=\"https://colab.research.google.com/github/probml/pyprobml/blob/master/notebooks/layer_norm_torch.ipynb\" target=\"_parent\"><img src=\"https://colab.research.google.com/assets/colab-badge.svg\" alt=\"Open In Colab\"/></a>"
   ]
  },
  {
   "cell_type": "code",
   "execution_count": 1,
   "metadata": {
    "id": "pxxCjM4AIsZP"
   },
   "outputs": [],
   "source": [
    "import numpy as np\n",
    "import matplotlib.pyplot as plt\n",
    "\n",
    "np.random.seed(seed=1)\n",
    "import math\n",
    "import collections\n",
    "\n",
    "try:\n",
    "    import torch\n",
    "except ModuleNotFoundError:\n",
    "    %pip install -qq torch\n",
    "    import torch\n",
    "from torch import nn\n",
    "from torch.nn import functional as F"
   ]
  },
  {
   "cell_type": "code",
   "execution_count": 2,
   "metadata": {
    "colab": {
     "base_uri": "https://localhost:8080/"
    },
    "id": "OcFY2bZeImQI",
    "outputId": "bbfe5c4d-b5d4-4657-a446-269662828f4e"
   },
   "outputs": [
    {
     "name": "stdout",
     "output_type": "stream",
     "text": [
      "batch norm\n",
      "[[-1. -1. -1.]\n",
      " [ 1.  1.  1.]]\n",
      "layer norm\n",
      "[[-1.22474487  0.          1.22474487]\n",
      " [-1.22474487  0.          1.22474487]]\n"
     ]
    }
   ],
   "source": [
    "# batch size 3, feature size 2\n",
    "X = np.array([[1, 2, 3], [4, 5, 6]])\n",
    "# X = np.array([[1, 2], [2,3]], dtype=np.float32)\n",
    "\n",
    "print(\"batch norm\")\n",
    "mu_batch = np.mean(X, axis=0)\n",
    "sigma_batch = np.std(X, axis=0)\n",
    "XBN = (X - mu_batch) / sigma_batch\n",
    "print(XBN)\n",
    "\n",
    "print(\"layer norm\")\n",
    "mu_layer = np.expand_dims(np.mean(X, axis=1), axis=1)\n",
    "sigma_layer = np.expand_dims(np.std(X, axis=1), axis=1)\n",
    "XLN = (X - mu_layer) / sigma_layer\n",
    "print(XLN)"
   ]
  },
  {
   "cell_type": "code",
   "execution_count": 4,
   "metadata": {
    "colab": {
     "base_uri": "https://localhost:8080/"
    },
    "id": "6p9f1kSyJbuT",
    "outputId": "c8344ff2-629b-4976-bfaa-bd65663f047b"
   },
   "outputs": [
    {
     "name": "stdout",
     "output_type": "stream",
     "text": [
      "batch norm\n",
      "tensor([[-1.0000, -1.0000, -1.0000],\n",
      "        [ 1.0000,  1.0000,  1.0000]], grad_fn=<NativeBatchNormBackward>)\n",
      "layer norm\n",
      "tensor([[-1.2247e+00,  0.0000e+00,  1.2247e+00],\n",
      "        [-1.2247e+00,  1.1921e-07,  1.2247e+00]],\n",
      "       grad_fn=<NativeLayerNormBackward>)\n"
     ]
    },
    {
     "name": "stderr",
     "output_type": "stream",
     "text": [
      "/usr/local/lib/python3.7/dist-packages/ipykernel_launcher.py:2: UserWarning: To copy construct from a tensor, it is recommended to use sourceTensor.clone().detach() or sourceTensor.clone().detach().requires_grad_(True), rather than torch.tensor(sourceTensor).\n",
      "  \n"
     ]
    }
   ],
   "source": [
    "X = torch.tensor(X, dtype=torch.float32)\n",
    "N, D = X.shape\n",
    "\n",
    "ln = nn.LayerNorm(D)\n",
    "bn = nn.BatchNorm1d(D)\n",
    "\n",
    "print(\"batch norm\")\n",
    "XBN_t = bn(X)\n",
    "print(XBN_t)\n",
    "assert np.allclose(XBN_t.detach().numpy(), XBN, atol=1e-3)\n",
    "\n",
    "print(\"layer norm\")\n",
    "XLN_t = ln(X)\n",
    "print(XLN_t)\n",
    "assert np.allclose(XLN_t.detach().numpy(), XLN, atol=1e-3)"
   ]
  },
  {
   "cell_type": "code",
   "execution_count": null,
   "metadata": {
    "id": "HQU6R65hJvtE"
   },
   "outputs": [],
   "source": []
  }
 ],
 "metadata": {
  "colab": {
   "authorship_tag": "ABX9TyMG1mBr0d4qvpByDjLD3+XP",
   "include_colab_link": true,
   "name": "layer-norm-torch.ipynb",
   "provenance": []
  },
  "kernelspec": {
   "display_name": "Python 3",
   "name": "python3"
  },
  "language_info": {
   "name": "python"
  }
 },
 "nbformat": 4,
 "nbformat_minor": 0
}
