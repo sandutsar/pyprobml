{
 "cells": [
  {
   "cell_type": "markdown",
   "metadata": {},
   "source": [
    "Please find torch implementation of this notebook here: https://colab.research.google.com/github/probml/pyprobml/blob/master/notebooks/book1/14/conv2d_torch.ipynb"
   ]
  },
  {
   "cell_type": "markdown",
   "metadata": {},
   "source": [
    "<a href=\"https://colab.research.google.com/github/arpitvaghela/probml-notebooks/blob/main/notebooks-d2l/conv2d_jax.ipynb\" target=\"_parent\"><img src=\"https://colab.research.google.com/assets/colab-badge.svg\" alt=\"Open In Colab\"/></a>\n"
   ]
  },
  {
   "cell_type": "markdown",
   "metadata": {
    "id": "n1BilhRQhLSv"
   },
   "source": [
    "# Foundations of Convolutional neural nets\n",
    "\n",
    "Based on sec 6.2 of\n",
    "http://d2l.ai/chapter_convolutional-neural-networks/conv-layer.html\n"
   ]
  },
  {
   "cell_type": "code",
   "execution_count": 1,
   "metadata": {
    "colab": {
     "base_uri": "https://localhost:8080/"
    },
    "id": "37BSsAk_hEZI",
    "outputId": "59873e9b-cb24-40e7-e649-7d892296c924"
   },
   "outputs": [
    {
     "name": "stderr",
     "output_type": "stream",
     "text": [
      "WARNING:absl:No GPU/TPU found, falling back to CPU. (Set TF_CPP_MIN_LOG_LEVEL=0 and rerun for more info.)\n"
     ]
    }
   ],
   "source": [
    "import jax\n",
    "import jax.numpy as jnp\n",
    "\n",
    "try:\n",
    "    import flax.linen as nn\n",
    "except ModuleNotFoundError:\n",
    "    %pip install -qq flax\n",
    "    import flax.linen as nn\n",
    "from typing import Tuple\n",
    "\n",
    "!mkdir figures # for saving plots\n",
    "import warnings\n",
    "\n",
    "warnings.filterwarnings(\"ignore\")\n",
    "\n",
    "\n",
    "key = jax.random.PRNGKey(1)"
   ]
  },
  {
   "cell_type": "markdown",
   "metadata": {
    "id": "uj6qHIeFhmaB"
   },
   "source": [
    "# Cross correlation\n",
    "\n",
    "<img src=\"https://github.com/probml/probml-notebooks/blob/main/images/d2l-correlation.png?raw=true\" height=200>"
   ]
  },
  {
   "cell_type": "code",
   "execution_count": 3,
   "metadata": {
    "colab": {
     "base_uri": "https://localhost:8080/"
    },
    "id": "drlxfWU1njUi",
    "outputId": "b92d23fa-bfdb-4e73-eb2e-57097d08f92c"
   },
   "outputs": [
    {
     "name": "stdout",
     "output_type": "stream",
     "text": [
      "[[19. 25.]\n",
      " [37. 43.]]\n"
     ]
    }
   ],
   "source": [
    "# Cross correlation\n",
    "\n",
    "\n",
    "def corr2d(X: jnp.ndarray, K: jnp.ndarray) -> jnp.ndarray:\n",
    "    \"\"\"Compute 2D cross-correlation.\"\"\"\n",
    "    h, w = K.shape\n",
    "    Y = jnp.zeros((X.shape[0] - h + 1, X.shape[1] - w + 1))\n",
    "    for i in range(Y.shape[0]):\n",
    "        for j in range(Y.shape[1]):\n",
    "            Y = Y.at[i, j].set(jnp.sum(X[i : i + h, j : j + w] * K))\n",
    "    return Y\n",
    "\n",
    "\n",
    "X = jnp.array([[0.0, 1.0, 2.0], [3.0, 4.0, 5.0], [6.0, 7.0, 8.0]])\n",
    "K = jnp.array([[0.0, 1.0], [2.0, 3.0]])\n",
    "print(corr2d(X, K))"
   ]
  },
  {
   "cell_type": "markdown",
   "metadata": {
    "id": "ih0vOzPshqZo"
   },
   "source": [
    "# Edge detection\n"
   ]
  },
  {
   "cell_type": "markdown",
   "metadata": {
    "id": "Dl2lJFBahsaR"
   },
   "source": [
    "We make a small image X of 1s, with a vertical stripe (of width 4) of 0s in the middle.\n"
   ]
  },
  {
   "cell_type": "code",
   "execution_count": 4,
   "metadata": {
    "colab": {
     "base_uri": "https://localhost:8080/"
    },
    "id": "ptuoHF5MpMJ3",
    "outputId": "b673e066-f1ce-4803-c64a-1b99614bcf46"
   },
   "outputs": [
    {
     "data": {
      "text/plain": [
       "DeviceArray([[1., 1., 0., 0., 0., 0., 1., 1.],\n",
       "             [1., 1., 0., 0., 0., 0., 1., 1.],\n",
       "             [1., 1., 0., 0., 0., 0., 1., 1.],\n",
       "             [1., 1., 0., 0., 0., 0., 1., 1.],\n",
       "             [1., 1., 0., 0., 0., 0., 1., 1.],\n",
       "             [1., 1., 0., 0., 0., 0., 1., 1.]], dtype=float32)"
      ]
     },
     "execution_count": 4,
     "metadata": {},
     "output_type": "execute_result"
    }
   ],
   "source": [
    "X = jnp.ones((6, 8))\n",
    "X = X.at[:, 2:6].set(0)\n",
    "X"
   ]
  },
  {
   "cell_type": "markdown",
   "metadata": {
    "id": "863GoP0Ph3k0"
   },
   "source": [
    "Now we apply a vertical edge detector. It fires on the 1-0 and 0-1 boundaries.\n"
   ]
  },
  {
   "cell_type": "code",
   "execution_count": 5,
   "metadata": {
    "colab": {
     "base_uri": "https://localhost:8080/"
    },
    "id": "cpm2YdVKpjSu",
    "outputId": "7e60471e-518a-4cfb-f11e-51c71aa80323"
   },
   "outputs": [
    {
     "name": "stdout",
     "output_type": "stream",
     "text": [
      "[[ 0.  1.  0.  0.  0. -1.  0.]\n",
      " [ 0.  1.  0.  0.  0. -1.  0.]\n",
      " [ 0.  1.  0.  0.  0. -1.  0.]\n",
      " [ 0.  1.  0.  0.  0. -1.  0.]\n",
      " [ 0.  1.  0.  0.  0. -1.  0.]\n",
      " [ 0.  1.  0.  0.  0. -1.  0.]]\n"
     ]
    }
   ],
   "source": [
    "K = jnp.array([[1.0, -1.0]])\n",
    "Y = corr2d(X, K)\n",
    "print(Y)"
   ]
  },
  {
   "cell_type": "markdown",
   "metadata": {
    "id": "-pwo2mn2iENa"
   },
   "source": [
    "It fails to detect horizontal edges.\n"
   ]
  },
  {
   "cell_type": "code",
   "execution_count": 6,
   "metadata": {
    "colab": {
     "base_uri": "https://localhost:8080/"
    },
    "id": "_W6VahQah8ol",
    "outputId": "298c5757-8cfa-4c27-ed60-39ad1e850fdb"
   },
   "outputs": [
    {
     "data": {
      "text/plain": [
       "DeviceArray([[0., 0., 0., 0., 0.],\n",
       "             [0., 0., 0., 0., 0.],\n",
       "             [0., 0., 0., 0., 0.],\n",
       "             [0., 0., 0., 0., 0.],\n",
       "             [0., 0., 0., 0., 0.],\n",
       "             [0., 0., 0., 0., 0.],\n",
       "             [0., 0., 0., 0., 0.],\n",
       "             [0., 0., 0., 0., 0.]], dtype=float32)"
      ]
     },
     "execution_count": 6,
     "metadata": {},
     "output_type": "execute_result"
    }
   ],
   "source": [
    "corr2d(X.T, K)"
   ]
  },
  {
   "cell_type": "markdown",
   "metadata": {
    "id": "kAktYXtl6ccn"
   },
   "source": [
    "# Convolution as matrix multiplication\n"
   ]
  },
  {
   "cell_type": "code",
   "execution_count": 7,
   "metadata": {
    "colab": {
     "base_uri": "https://localhost:8080/"
    },
    "id": "sl-FYbLpqf4Y",
    "outputId": "04db5392-89c8-4d67-e4ec-fee50332ebba"
   },
   "outputs": [
    {
     "name": "stdout",
     "output_type": "stream",
     "text": [
      "[[1 2]\n",
      " [3 4]]\n",
      "[[1. 2. 0. 3. 4. 0. 0. 0. 0.]\n",
      " [0. 1. 2. 0. 3. 4. 0. 0. 0.]\n",
      " [0. 0. 0. 1. 2. 0. 3. 4. 0.]\n",
      " [0. 0. 0. 0. 1. 2. 0. 3. 4.]]\n"
     ]
    }
   ],
   "source": [
    "K = jnp.array([[1, 2], [3, 4]])\n",
    "\n",
    "print(K)\n",
    "\n",
    "\n",
    "def kernel2matrix(K: jnp.ndarray) -> jnp.ndarray:\n",
    "    k, W = jnp.zeros(5), jnp.zeros((4, 9))\n",
    "    k = k.at[:2].set(K[0, :])\n",
    "    k = k.at[3:5].set(K[1, :])\n",
    "    W = W.at[0, :5].set(k)\n",
    "    W = W.at[1, 1:6].set(k)\n",
    "    W = W.at[2, 3:8].set(k)\n",
    "    W = W.at[3, 4:].set(k)\n",
    "    return W\n",
    "\n",
    "\n",
    "W = kernel2matrix(K)\n",
    "print(W)"
   ]
  },
  {
   "cell_type": "code",
   "execution_count": 8,
   "metadata": {
    "colab": {
     "base_uri": "https://localhost:8080/"
    },
    "id": "kxU6akAArEqt",
    "outputId": "faa6d878-337d-45d9-e77a-26be84e5dda9"
   },
   "outputs": [
    {
     "name": "stdout",
     "output_type": "stream",
     "text": [
      "[[27. 37.]\n",
      " [57. 67.]]\n"
     ]
    }
   ],
   "source": [
    "X = jnp.arange(9.0).reshape(3, 3)\n",
    "Y = corr2d(X, K)\n",
    "print(Y)\n",
    "\n",
    "Y2 = jnp.dot(W, X.reshape(-1)).reshape(2, 2)\n",
    "assert jnp.allclose(Y, Y2)"
   ]
  },
  {
   "cell_type": "markdown",
   "metadata": {
    "id": "_yhq_TwCiMy5"
   },
   "source": [
    "# Optimizing the kernel parameters\n"
   ]
  },
  {
   "cell_type": "markdown",
   "metadata": {
    "id": "RPRFUokDiPT7"
   },
   "source": [
    "Let's learn a kernel to match the output of our manual edge detector.\n"
   ]
  },
  {
   "cell_type": "code",
   "execution_count": 9,
   "metadata": {
    "colab": {
     "base_uri": "https://localhost:8080/"
    },
    "id": "MQRMQ0W-rsEH",
    "outputId": "ace3f7b8-8cba-4e6e-d743-d7c3776c0de0"
   },
   "outputs": [
    {
     "name": "stdout",
     "output_type": "stream",
     "text": [
      "(6, 7)\n",
      "batch 2, loss 19.368\n",
      "batch 4, loss 5.172\n",
      "batch 6, loss 1.655\n",
      "batch 8, loss 0.600\n",
      "batch 10, loss 0.233\n",
      "[[ 1.0312853  -0.93357116]]\n"
     ]
    }
   ],
   "source": [
    "# Construct a two-dimensional convolutional layer with 1 output channel and a\n",
    "# kernel of shape (1, 2). For the sake of simplicity, we ignore the bias here\n",
    "conv2d = nn.Conv(1, kernel_size=(1, 2), padding=((0, 0), (0, 0)), use_bias=False)\n",
    "\n",
    "# The two-dimensional convolutional layer uses four-dimensional input and\n",
    "# output in the format of (example channel, height, width), where the batch\n",
    "# size (number of examples in the batch) and the number of channels are both 1\n",
    "# Defining X and Y again.\n",
    "X = jnp.ones((6, 8))\n",
    "X = X.at[:, 2:6].set(0)\n",
    "\n",
    "K = jnp.array([[1.0, -1.0]])\n",
    "Y = corr2d(X, K)\n",
    "print(Y.shape)\n",
    "X = jnp.transpose(X.reshape((1, 1, 6, 8)), (0, 2, 3, 1))\n",
    "Y = jnp.transpose(Y.reshape((1, 1, 6, 7)), (0, 2, 3, 1))\n",
    "params = conv2d.init(key, X)\n",
    "\n",
    "\n",
    "@jax.jit\n",
    "def step(params, X, Y):\n",
    "    return jnp.sum((conv2d.apply(params, X) - Y) ** 2)\n",
    "\n",
    "\n",
    "for i in range(10):\n",
    "    l, grads = jax.value_and_grad(step)(params, X, Y)\n",
    "    params = jax.tree_map(lambda p, g: p - 3e-2 * g, params, grads)\n",
    "    if (i + 1) % 2 == 0:\n",
    "        print(f\"batch {i + 1}, loss {l:.3f}\")\n",
    "\n",
    "print(params[\"params\"][\"kernel\"].reshape((1, 2)))"
   ]
  },
  {
   "cell_type": "markdown",
   "metadata": {
    "id": "vTNJUuYn27Kv"
   },
   "source": [
    "# Multiple input channels\n",
    "\n",
    "<img src=\"https://github.com/probml/probml-notebooks/blob/main/images/d2l-conv-multi-in.png?raw=true\" height=200>"
   ]
  },
  {
   "cell_type": "code",
   "execution_count": 10,
   "metadata": {
    "id": "eDrYMCE6M3IB"
   },
   "outputs": [],
   "source": [
    "def corr2d(X: jnp.ndarray, K: jnp.ndarray) -> jnp.ndarray:\n",
    "    \"\"\"Compute 2D cross-correlation.\"\"\"\n",
    "    h, w = K.shape\n",
    "    Y = jnp.zeros((X.shape[0] - h + 1, X.shape[1] - w + 1))\n",
    "    for i in range(Y.shape[0]):\n",
    "        for j in range(Y.shape[1]):\n",
    "            Y = Y.at[i, j].set(jnp.sum((X[i : i + h, j : j + w] * K)))\n",
    "    return Y"
   ]
  },
  {
   "cell_type": "code",
   "execution_count": 11,
   "metadata": {
    "colab": {
     "base_uri": "https://localhost:8080/"
    },
    "id": "UhciSoDyzKjO",
    "outputId": "caab3de6-06be-4814-e038-a21a1387d87e"
   },
   "outputs": [
    {
     "name": "stdout",
     "output_type": "stream",
     "text": [
      "(2, 3, 3)\n",
      "(2, 2, 2)\n",
      "(2, 2)\n",
      "[[ 56.  72.]\n",
      " [104. 120.]]\n"
     ]
    }
   ],
   "source": [
    "def corr2d_multi_in(X: jnp.ndarray, K: jnp.ndarray) -> jnp.ndarray:\n",
    "    # First, iterate through the 0th dimension (channel dimension) of `X` and\n",
    "    # `K`. Then, add them together\n",
    "    return sum(corr2d(x, k) for x, k in zip(X, K))\n",
    "\n",
    "\n",
    "X = jnp.array(\n",
    "    [\n",
    "        [[0.0, 1.0, 2.0], [3.0, 4.0, 5.0], [6.0, 7.0, 8.0]],\n",
    "        [[1.0, 2.0, 3.0], [4.0, 5.0, 6.0], [7.0, 8.0, 9.0]],\n",
    "    ]\n",
    ")\n",
    "K = jnp.array([[[0.0, 1.0], [2.0, 3.0]], [[1.0, 2.0], [3.0, 4.0]]])\n",
    "\n",
    "print(X.shape)  # 2 channels, each 3x3\n",
    "print(K.shape)  # 2 sets of 2x2 filters\n",
    "out = corr2d_multi_in(X, K)\n",
    "print(out.shape)\n",
    "print(out)"
   ]
  },
  {
   "cell_type": "markdown",
   "metadata": {
    "id": "z6FlFthE47Zy"
   },
   "source": [
    "# Multiple output channels\n"
   ]
  },
  {
   "cell_type": "code",
   "execution_count": 12,
   "metadata": {
    "colab": {
     "base_uri": "https://localhost:8080/"
    },
    "id": "5NWV-E6CzcnH",
    "outputId": "057e8e09-8b24-455a-c750-ffb16af3dc15"
   },
   "outputs": [
    {
     "name": "stdout",
     "output_type": "stream",
     "text": [
      "(3, 2, 2, 2)\n",
      "(3, 2, 2)\n"
     ]
    }
   ],
   "source": [
    "def corr2d_multi_in_out(X: jnp.ndarray, K: jnp.ndarray) -> jnp.ndarray:\n",
    "    # Iterate through the 0th dimension of `K`, and each time, perform\n",
    "    # cross-correlation operations with input `X`. All of the results are\n",
    "    # stacked together\n",
    "    return jnp.stack([corr2d_multi_in(X, k) for k in K], 0)\n",
    "\n",
    "\n",
    "K = jnp.stack((K, K + 1, K + 2), 0)\n",
    "print(K.shape)\n",
    "out = corr2d_multi_in_out(X, K)\n",
    "print(out.shape)"
   ]
  },
  {
   "cell_type": "code",
   "execution_count": 13,
   "metadata": {
    "colab": {
     "base_uri": "https://localhost:8080/"
    },
    "id": "OB7QbAJizjZ6",
    "outputId": "e080d75d-3044-4140-a0d6-feda886dd3b9"
   },
   "outputs": [
    {
     "name": "stdout",
     "output_type": "stream",
     "text": [
      "(2, 3, 3)\n"
     ]
    }
   ],
   "source": [
    "# 1x1 conv is same as multiplying each feature column at each pixel\n",
    "# by a fully connected matrix\n",
    "def corr2d_multi_in_out_1x1(X: jnp.ndarray, K: jnp.ndarray) -> jnp.ndarray:\n",
    "    c_i, h, w = X.shape\n",
    "    c_o = K.shape[0]\n",
    "    X = X.reshape((c_i, h * w))\n",
    "    K = K.reshape((c_o, c_i))\n",
    "    Y = jnp.matmul(K, X)  # Matrix multiplication in the fully-connected layer\n",
    "    return Y.reshape((c_o, h, w))\n",
    "\n",
    "\n",
    "X = jax.random.truncated_normal(key, 0, 1, (3, 3, 3))  # 3 channels per pixel\n",
    "K = jax.random.truncated_normal(key, 0, 1, (2, 3, 1, 1))  # map from 3 channels to 2\n",
    "\n",
    "Y1 = corr2d_multi_in_out_1x1(X, K)\n",
    "Y2 = corr2d_multi_in_out(X, K)\n",
    "print(Y2.shape)\n",
    "assert float(jnp.abs(Y1 - Y2).sum()) < 1e-6"
   ]
  },
  {
   "cell_type": "markdown",
   "metadata": {
    "id": "7ZOVZR4R6xEB"
   },
   "source": [
    "# Pooling\n"
   ]
  },
  {
   "cell_type": "code",
   "execution_count": 14,
   "metadata": {
    "id": "IgoSzfYo6x74"
   },
   "outputs": [],
   "source": [
    "def pool2d(X: jnp.ndarray, pool_size: Tuple[int], mode: str = \"max\") -> jnp.ndarray:\n",
    "    p_h, p_w = pool_size\n",
    "    Y = jnp.zeros((X.shape[0] - p_h + 1, X.shape[1] - p_w + 1))\n",
    "    for i in range(Y.shape[0]):\n",
    "        for j in range(Y.shape[1]):\n",
    "            if mode == \"max\":\n",
    "                Y = Y.at[i, j].set(X[i : i + p_h, j : j + p_w].max())\n",
    "            elif mode == \"avg\":\n",
    "                Y = Y.at[i, j].set(X[i : i + p_h, j : j + p_w].mean())\n",
    "    return Y"
   ]
  },
  {
   "cell_type": "code",
   "execution_count": 15,
   "metadata": {
    "colab": {
     "base_uri": "https://localhost:8080/"
    },
    "id": "Wkz44bhS0sUq",
    "outputId": "15566f33-7d6e-427b-eb05-01ffd43fcca9"
   },
   "outputs": [
    {
     "name": "stdout",
     "output_type": "stream",
     "text": [
      "[[ 0  1  2  3]\n",
      " [ 4  5  6  7]\n",
      " [ 8  9 10 11]\n",
      " [12 13 14 15]]\n",
      "(4, 4)\n",
      "[[10. 11.]\n",
      " [14. 15.]]\n"
     ]
    }
   ],
   "source": [
    "X = jnp.arange(16).reshape((4, 4))\n",
    "print(X)\n",
    "print(X.shape)\n",
    "print(pool2d(X, (3, 3), \"max\"))"
   ]
  },
  {
   "cell_type": "code",
   "execution_count": 16,
   "metadata": {
    "colab": {
     "base_uri": "https://localhost:8080/"
    },
    "id": "lNqGNfMq0xpc",
    "outputId": "46cec31e-a214-430f-83f5-9df88e166e0b"
   },
   "outputs": [
    {
     "name": "stdout",
     "output_type": "stream",
     "text": [
      "[[[[10]\n",
      "   [11]]\n",
      "\n",
      "  [[14]\n",
      "   [15]]]]\n"
     ]
    }
   ],
   "source": [
    "X = jnp.arange(16).reshape((1, 4, 4, 1))\n",
    "y = nn.max_pool(X, (3, 3), strides=(1, 1))\n",
    "print(y)"
   ]
  },
  {
   "cell_type": "code",
   "execution_count": null,
   "metadata": {},
   "outputs": [],
   "source": []
  }
 ],
 "metadata": {
  "accelerator": "GPU",
  "colab": {
   "collapsed_sections": [],
   "name": "conv2d_torch.ipynb",
   "provenance": [],
   "toc_visible": true
  },
  "kernelspec": {
   "display_name": "Python 3 (ipykernel)",
   "language": "python",
   "name": "python3"
  },
  "language_info": {
   "codemirror_mode": {
    "name": "ipython",
    "version": 3
   },
   "file_extension": ".py",
   "mimetype": "text/x-python",
   "name": "python",
   "nbconvert_exporter": "python",
   "pygments_lexer": "ipython3",
   "version": "3.9.7"
  }
 },
 "nbformat": 4,
 "nbformat_minor": 1
}
