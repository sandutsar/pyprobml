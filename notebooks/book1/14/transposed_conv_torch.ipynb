{
 "cells": [
  {
   "cell_type": "markdown",
   "id": "aa4352bc",
   "metadata": {},
   "source": [
    "Please find jax implementation of this notebook here: https://colab.research.google.com/github/probml/pyprobml/blob/master/notebooks/book1/14/transposed_conv_jax.ipynb"
   ]
  },
  {
   "cell_type": "code",
   "execution_count": 2,
   "id": "dd73d74b",
   "metadata": {},
   "outputs": [],
   "source": [
    "# Based on http://d2l.ai/chapter_computer-vision/transposed-conv.html\n",
    "try:\n",
    "    import torch\n",
    "except ModuleNotFoundError:\n",
    "    %pip install -qq torch\n",
    "    import torch\n",
    "\n",
    "from torch import nn\n",
    "import numpy as np"
   ]
  },
  {
   "cell_type": "code",
   "execution_count": 3,
   "id": "adb2804a",
   "metadata": {},
   "outputs": [
    {
     "name": "stdout",
     "output_type": "stream",
     "text": [
      "tensor([[ 0.,  0.,  1.],\n",
      "        [ 0.,  4.,  6.],\n",
      "        [ 4., 12.,  9.]])\n",
      "torch.Size([1, 1, 5, 7])\n"
     ]
    }
   ],
   "source": [
    "def trans_conv(X, K):\n",
    "    h, w = K.shape\n",
    "    Y = torch.zeros((X.shape[0] + h - 1, X.shape[1] + w - 1))\n",
    "    for i in range(X.shape[0]):\n",
    "        for j in range(X.shape[1]):\n",
    "            Y[i : i + h, j : j + w] += X[i, j] * K\n",
    "    return Y\n",
    "\n",
    "\n",
    "# Example from D2L fig 13.10.1\n",
    "X = torch.tensor([[0.0, 1], [2, 3]])\n",
    "K = torch.tensor([[0.0, 1], [2, 3]])\n",
    "Y = trans_conv(X, K)\n",
    "print(Y)\n",
    "\n",
    "X, K = X.reshape(1, 1, 2, 2), K.reshape(1, 1, 2, 2)\n",
    "tconv = nn.ConvTranspose2d(1, 1, kernel_size=2, bias=False)\n",
    "tconv.weight.data = K\n",
    "Y2 = tconv(X)\n",
    "# print(Y2)\n",
    "assert torch.allclose(Y, Y2)\n",
    "\n",
    "\n",
    "\"\"\"\n",
    "X, K = X.reshape(1, 1, 2, 2), K.reshape(1, 1, 2, 2)\n",
    "tconv = nn.ConvTranspose2d(1, 1, kernel_size=2, padding = 1, bias=False)\n",
    "tconv.weight.data = K\n",
    "Y2 = tconv(X)\n",
    "print('Y2', Y2)\n",
    "\"\"\"\n",
    "\n",
    "\n",
    "# Transposed Matrix multiplication\n",
    "\n",
    "K = torch.tensor([[1, 2], [3, 4]])\n",
    "\n",
    "\n",
    "def kernel2matrix(K):\n",
    "    k, W = torch.zeros(5), torch.zeros((4, 9))\n",
    "    k[:2], k[3:5] = K[0, :], K[1, :]\n",
    "    W[0, :5], W[1, 1:6], W[2, 3:8], W[3, 4:] = k, k, k, k\n",
    "    return W\n",
    "\n",
    "\n",
    "W = kernel2matrix(K)\n",
    "\n",
    "X = torch.tensor([[0.0, 1], [2, 3]])\n",
    "Y = trans_conv(X, K)\n",
    "Y2 = torch.mv(W.T, X.reshape(-1)).reshape(3, 3)\n",
    "assert torch.allclose(Y, Y2)\n",
    "\n",
    "\n",
    "# Example from Geron fig 14.27\n",
    "\n",
    "X = torch.ones((2, 3))\n",
    "K = torch.ones(3, 3)\n",
    "X, K = X.reshape(1, 1, 2, 3), K.reshape(1, 1, 3, 3)\n",
    "tconv = nn.ConvTranspose2d(1, 1, kernel_size=3, stride=2, bias=False)\n",
    "tconv.weight.data = K\n",
    "Y2 = tconv(X)\n",
    "print(Y2.shape)"
   ]
  },
  {
   "cell_type": "code",
   "execution_count": null,
   "id": "c164813f",
   "metadata": {},
   "outputs": [],
   "source": []
  }
 ],
 "metadata": {
  "kernelspec": {
   "display_name": "Python [conda env:pymc_exp]",
   "language": "python",
   "name": "conda-env-pymc_exp-py"
  },
  "language_info": {
   "codemirror_mode": {
    "name": "ipython",
    "version": 3
   },
   "file_extension": ".py",
   "mimetype": "text/x-python",
   "name": "python",
   "nbconvert_exporter": "python",
   "pygments_lexer": "ipython3",
   "version": "3.8.0"
  }
 },
 "nbformat": 4,
 "nbformat_minor": 5
}
