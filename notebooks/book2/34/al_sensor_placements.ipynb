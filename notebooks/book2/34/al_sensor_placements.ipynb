{
 "cells": [
  {
   "cell_type": "code",
   "execution_count": 1,
   "id": "e17abeaa",
   "metadata": {},
   "outputs": [],
   "source": [
    "%%capture\n",
    "import matplotlib.pyplot as plt\n",
    "import jax\n",
    "from jax.flatten_util import ravel_pytree\n",
    "import jax.numpy as jnp\n",
    "import pandas as pd\n",
    "from sklearn.preprocessing import StandardScaler\n",
    "\n",
    "try:\n",
    "    import probml_utils as pml\n",
    "except ModuleNotFoundError:\n",
    "    %pip install -qq git+https://github.com/probml/probml-utils.git\n",
    "    import probml_utils as pml\n",
    "\n",
    "try:\n",
    "    from tinygp import kernels, GaussianProcess\n",
    "except:\n",
    "    %pip install tinygp\n",
    "    from tinygp import kernels, GaussianProcess\n",
    "\n",
    "try:\n",
    "    import optax\n",
    "except:\n",
    "    %pip install optax\n",
    "    import optax"
   ]
  },
  {
   "cell_type": "code",
   "execution_count": 2,
   "id": "976bedac",
   "metadata": {},
   "outputs": [],
   "source": [
    "# import os;os.environ['LATEXIFY'] = '';os.environ['FIG_DIR'] = 'figures'"
   ]
  },
  {
   "cell_type": "code",
   "execution_count": 3,
   "id": "d71a2abe",
   "metadata": {},
   "outputs": [],
   "source": [
    "pml.latexify(width_scale_factor=2, fig_height=1.5)\n",
    "if pml.is_latexify_enabled():\n",
    "    plt.rcParams[\"lines.markersize\"] = 3"
   ]
  },
  {
   "cell_type": "markdown",
   "id": "0851a640",
   "metadata": {},
   "source": [
    "## Data"
   ]
  },
  {
   "cell_type": "code",
   "execution_count": 4,
   "id": "7c18935e",
   "metadata": {},
   "outputs": [],
   "source": [
    "temperature_data = pd.read_csv(\n",
    "    \"https://raw.githubusercontent.com/probml/probml-data/main/data/moteData/intel_lab_temperature.csv.tar.gz\"\n",
    ")"
   ]
  },
  {
   "cell_type": "code",
   "execution_count": 5,
   "id": "6e8aa10d",
   "metadata": {},
   "outputs": [
    {
     "data": {
      "text/plain": [
       "Index(['Epoch', 'Temp', 'Humidity', 'Light', 'Voltage', 'X', 'Y'], dtype='object')"
      ]
     },
     "execution_count": 5,
     "metadata": {},
     "output_type": "execute_result"
    }
   ],
   "source": [
    "data = temperature_data.set_index(\"Date\")\n",
    "data = data[\"2004-02-28\":\"2004-02-28\"]\n",
    "data = data.groupby(\"ID\").agg(\"mean\")\n",
    "data.columns"
   ]
  },
  {
   "cell_type": "code",
   "execution_count": 6,
   "id": "10ba1db8",
   "metadata": {
    "scrolled": true
   },
   "outputs": [],
   "source": [
    "data[\"X\"] = StandardScaler().fit_transform(data[\"X\"].values.reshape(-1, 1))\n",
    "data[\"Y\"] = StandardScaler().fit_transform(data[\"Y\"].values.reshape(-1, 1))\n",
    "data[\"Temp\"] = StandardScaler().fit_transform(data[\"Temp\"].values.reshape(-1, 1))"
   ]
  },
  {
   "cell_type": "code",
   "execution_count": 7,
   "id": "65f9666c",
   "metadata": {},
   "outputs": [
    {
     "name": "stderr",
     "output_type": "stream",
     "text": [
      "WARNING:absl:No GPU/TPU found, falling back to CPU. (Set TF_CPP_MIN_LOG_LEVEL=0 and rerun for more info.)\n"
     ]
    },
    {
     "data": {
      "text/plain": [
       "((10, 2), (10,))"
      ]
     },
     "execution_count": 7,
     "metadata": {},
     "output_type": "execute_result"
    }
   ],
   "source": [
    "seed = jax.random.PRNGKey(1)\n",
    "idx = jax.random.choice(seed, len(data), (10,), replace=False)\n",
    "initial_data = data.iloc[idx]\n",
    "\n",
    "x_initial = initial_data[[\"X\", \"Y\"]].values\n",
    "y_initial = initial_data[\"Temp\"].values\n",
    "x_initial.shape, y_initial.shape"
   ]
  },
  {
   "cell_type": "code",
   "execution_count": 8,
   "id": "3383d8ac",
   "metadata": {},
   "outputs": [
    {
     "data": {
      "image/png": "[encoded data removed]",
      "text/plain": [
       "<Figure size 216x108 with 1 Axes>"
      ]
     },
     "metadata": {
      "needs_background": "light"
     },
     "output_type": "display_data"
    }
   ],
   "source": [
    "data.plot(\"X\", \"Y\", kind=\"scatter\")\n",
    "plt.scatter(x_initial[:, 0], x_initial[:, 1], label=\"initial\", color=\"red\")\n",
    "plt.legend();"
   ]
  },
  {
   "cell_type": "markdown",
   "id": "193ebd05",
   "metadata": {},
   "source": [
    "## GP Model"
   ]
  },
  {
   "cell_type": "code",
   "execution_count": 9,
   "id": "e1ad2a6b",
   "metadata": {},
   "outputs": [],
   "source": [
    "@jax.tree_util.register_pytree_node_class\n",
    "class GPModel:\n",
    "    def __init__(self, log_var, log_scale, log_noise_var, mean):\n",
    "        self.log_var = log_var\n",
    "        self.log_scale = log_scale\n",
    "        self.log_noise_var = log_noise_var\n",
    "        self.mean = mean\n",
    "\n",
    "    def get_gp(self, x_initial):\n",
    "        kernel = jnp.exp(self.log_var) * kernels.ExpSquared(scale=jnp.exp(self.log_scale))\n",
    "        gp = GaussianProcess(kernel, x_initial, diag=jnp.exp(self.log_noise_var), mean=self.mean)\n",
    "        return gp\n",
    "\n",
    "    def tree_flatten(self):\n",
    "        return (self.log_var, self.log_scale, self.log_noise_var, self.mean), None\n",
    "\n",
    "    def tree_unflatten(self, values, **kwargs):\n",
    "        return GPModel(*values)"
   ]
  },
  {
   "cell_type": "markdown",
   "id": "2dd17658",
   "metadata": {},
   "source": [
    "## initialing"
   ]
  },
  {
   "cell_type": "code",
   "execution_count": 10,
   "id": "f7692d64",
   "metadata": {},
   "outputs": [
    {
     "data": {
      "image/png": "[encoded data removed]",
      "text/plain": [
       "<Figure size 216x108 with 1 Axes>"
      ]
     },
     "metadata": {
      "needs_background": "light"
     },
     "output_type": "display_data"
    }
   ],
   "source": [
    "def loss_fn(model, x, y):\n",
    "    gp = model.get_gp(x_initial=x)\n",
    "    return -gp.log_probability(y)\n",
    "\n",
    "\n",
    "value_and_grad_fn = jax.jit(jax.value_and_grad(loss_fn))\n",
    "\n",
    "n_iters = 200\n",
    "tx = optax.adam(learning_rate=0.1)\n",
    "\n",
    "model = GPModel(log_var=jnp.log(1.0), log_scale=jnp.log(1.0), log_noise_var=jnp.array(-10.0), mean=0.0)\n",
    "state = tx.init(model)\n",
    "\n",
    "losses = []\n",
    "for i in range(n_iters):\n",
    "    loss, grads = value_and_grad_fn(model, x_initial, y_initial)\n",
    "    losses.append(loss)\n",
    "    updates, state = tx.update(grads, state)\n",
    "    model = optax.apply_updates(model, updates)\n",
    "\n",
    "plt.plot(losses);"
   ]
  },
  {
   "cell_type": "markdown",
   "id": "b31abedb",
   "metadata": {},
   "source": [
    "## Inference"
   ]
  },
  {
   "cell_type": "code",
   "execution_count": 11,
   "id": "ba168c78",
   "metadata": {},
   "outputs": [],
   "source": [
    "def get_entropy(gp, y_initial, x_test):\n",
    "    gp = model.get_gp(x_initial)\n",
    "    pred_gp = gp.condition(y_initial, x_test).gp\n",
    "    return pred_gp.variance.reshape(N, N)\n",
    "\n",
    "\n",
    "def get_mi(gp, y_initial, x_test):\n",
    "    gp = model.get_gp(x_initial)\n",
    "    pred_gp = gp.condition(y_initial, x_test).gp\n",
    "    variance = pred_gp.variance\n",
    "    post_cov = gp.kernel(x_test, x_test) + jnp.eye(x_test.shape[0]) * 0.001\n",
    "    chol = jnp.linalg.cholesky(post_cov)\n",
    "    inv_chol = jnp.linalg.inv(chol)\n",
    "    inv = inv_chol.T @ inv_chol\n",
    "    return (variance * jnp.diag(inv)).reshape(N, N)"
   ]
  },
  {
   "cell_type": "code",
   "execution_count": 12,
   "id": "5af3859a",
   "metadata": {},
   "outputs": [],
   "source": [
    "N = 30\n",
    "x1 = jnp.linspace(data[\"X\"].min() - 1.0, data[\"X\"].max() + 1.0, N)\n",
    "x2 = jnp.linspace(data[\"Y\"].min() - 0.5, data[\"Y\"].max() + 2.0, N)\n",
    "X1, X2 = jnp.meshgrid(x1, x2)\n",
    "x_test = jnp.array([(xi, xj) for xi, xj in zip(X1.flatten(), X2.flatten())])\n",
    "gp = model.get_gp(x_initial)\n",
    "\n",
    "entropy = get_entropy(gp, y_initial, x_test)\n",
    "mi = get_mi(gp, y_initial, x_test)"
   ]
  },
  {
   "cell_type": "code",
   "execution_count": 19,
   "id": "dc588270",
   "metadata": {},
   "outputs": [],
   "source": [
    "def plot_it(method):\n",
    "    if method == \"MI\":\n",
    "        acquisition = mi\n",
    "        addx, addy = 0, 0\n",
    "    else:\n",
    "        acquisition = entropy\n",
    "        addx = 0.2\n",
    "        addy = 0.2\n",
    "    chosen_idx = acquisition.ravel().argmax()\n",
    "    chosen_x1 = X1.ravel()[chosen_idx]\n",
    "    chosen_x2 = X2.ravel()[chosen_idx]\n",
    "\n",
    "    plt.figure()\n",
    "    plt.scatter(x_initial[:, 0], x_initial[:, 1], color=\"k\")\n",
    "    plt.scatter(chosen_x1 + addx, chosen_x2 + addy, s=10, c=\"r\", label=f\"maximum {method}\", zorder=10)\n",
    "    plt.contourf(X1, X2, acquisition, alpha=0.5, levels=10)\n",
    "    plt.colorbar(label=method)\n",
    "    plt.legend(loc=\"upper left\")\n",
    "    plt.xlabel(\"$x$\")\n",
    "    plt.ylabel(\"$y$\")\n",
    "    pml.savefig(f\"sensor_placements_{method}\")"
   ]
  },
  {
   "cell_type": "code",
   "execution_count": 20,
   "id": "a256c671",
   "metadata": {},
   "outputs": [
    {
     "name": "stdout",
     "output_type": "stream",
     "text": [
      "saving image to figures/sensor_placements_Entropy_latexified.pdf\n",
      "Figure size: [3.  1.5]\n"
     ]
    },
    {
     "data": {
      "image/png": "[encoded data removed]",
      "text/plain": [
       "<Figure size 216x108 with 2 Axes>"
      ]
     },
     "metadata": {
      "needs_background": "light"
     },
     "output_type": "display_data"
    }
   ],
   "source": [
    "plot_it(\"Entropy\")"
   ]
  },
  {
   "cell_type": "code",
   "execution_count": 21,
   "id": "2e62fb60",
   "metadata": {},
   "outputs": [
    {
     "name": "stdout",
     "output_type": "stream",
     "text": [
      "saving image to figures/sensor_placements_MI_latexified.pdf\n",
      "Figure size: [3.  1.5]\n"
     ]
    },
    {
     "data": {
      "image/png": "[encoded data removed]",
      "text/plain": [
       "<Figure size 216x108 with 2 Axes>"
      ]
     },
     "metadata": {
      "needs_background": "light"
     },
     "output_type": "display_data"
    }
   ],
   "source": [
    "plot_it(\"MI\")"
   ]
  }
 ],
 "metadata": {
  "kernelspec": {
   "display_name": "Python [conda env:ajax]",
   "language": "python",
   "name": "conda-env-ajax-py"
  },
  "language_info": {
   "codemirror_mode": {
    "name": "ipython",
    "version": 3
   },
   "file_extension": ".py",
   "mimetype": "text/x-python",
   "name": "python",
   "nbconvert_exporter": "python",
   "pygments_lexer": "ipython3",
   "version": "3.9.12"
  }
 },
 "nbformat": 4,
 "nbformat_minor": 5
}
