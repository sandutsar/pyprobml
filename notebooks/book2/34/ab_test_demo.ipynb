{
 "cells": [
  {
   "cell_type": "code",
   "execution_count": 11,
   "id": "2fa713e0",
   "metadata": {},
   "outputs": [],
   "source": [
    "# Example 5.1 from \"Test and roll: profit maximizing A/B tests\"\n",
    "# https://pubsonline.informs.org/doi/abs/10.1287/mksc.2019.1194\n",
    "\n",
    "import numpy as np\n",
    "import matplotlib.pyplot as plt\n",
    "import seaborn as sns\n",
    "\n",
    "try:\n",
    "    import probml_utils as pml\n",
    "except ModuleNotFoundError:\n",
    "    %pip install -qq git+https://github.com/probml/probml-utils.git\n",
    "    import probml_utils as pml\n",
    "\n",
    "import os"
   ]
  },
  {
   "cell_type": "code",
   "execution_count": 3,
   "id": "8f638934",
   "metadata": {},
   "outputs": [],
   "source": [
    "os.environ[\"LATEXIFY\"] = \"\"\n",
    "os.environ[\"FIG_DIR\"] = \"figures\""
   ]
  },
  {
   "cell_type": "code",
   "execution_count": 4,
   "id": "d8cb2102",
   "metadata": {},
   "outputs": [],
   "source": [
    "pml.latexify(width_scale_factor=2, fig_height=1.5)"
   ]
  },
  {
   "cell_type": "code",
   "execution_count": 6,
   "id": "9cc57214",
   "metadata": {},
   "outputs": [],
   "source": [
    "def optimal_sample_size(N, s, sigma):\n",
    "    # eqn 10\n",
    "    t = (s / sigma) ** 2\n",
    "    n = np.sqrt(0.25 * N * t + (0.75 * t) ** 2) - 0.75 * t\n",
    "    return n\n",
    "\n",
    "\n",
    "def prob_error(n1, n2, s, sigma):\n",
    "    # eqn 12\n",
    "    x = np.sqrt(2) * sigma / s * np.sqrt(n1 * n2 / (n1 + n2 + 1e-10))\n",
    "    p = 0.25 - 1 / (2 * np.pi) * np.arctan(x)\n",
    "    return 2 * p  # could have m1<m2 or m1>m2\n",
    "\n",
    "\n",
    "def eprofit_deploy(N, n1, n2, s, mu, sigma):\n",
    "    # eqn 9\n",
    "    numer = np.sqrt(2) * sigma**2\n",
    "    tmp = 2 * sigma**2 + (n1 + n2) / (n1 * n2 + 1e-10) * (s**2)\n",
    "    denom = np.sqrt(np.pi) * np.sqrt(tmp)\n",
    "    return (N - n1 - n2) * (mu + numer / denom)\n",
    "\n",
    "\n",
    "def eprofit_test(N, n1, n2, s, mu, sigma):\n",
    "    # eqn 7\n",
    "    return (n1 + n2) * mu\n",
    "\n",
    "\n",
    "def eprofit_total(N, n1, n2, s, mu, sigma):\n",
    "    p1 = eprofit_test(N, n1, n2, s, mu, sigma)\n",
    "    p2 = eprofit_deploy(N, n1, n2, s, mu, sigma)\n",
    "    return p1 + p2"
   ]
  },
  {
   "cell_type": "code",
   "execution_count": 7,
   "id": "46b418e4",
   "metadata": {},
   "outputs": [
    {
     "name": "stdout",
     "output_type": "stream",
     "text": [
      "2283.890028194425\n",
      "0.10012814134508047\n",
      "3106.0904383444185\n",
      "66429.90817920299\n"
     ]
    }
   ],
   "source": [
    "mu = 0.68\n",
    "sigma = 0.03\n",
    "N = 100000\n",
    "s = np.sqrt(mu * (1 - mu))\n",
    "nopt = optimal_sample_size(N, s, sigma)\n",
    "print(nopt)  # 2283.9\n",
    "\n",
    "n1 = nopt\n",
    "n2 = nopt\n",
    "p = prob_error(n1, n2, s, sigma)\n",
    "print(p)  # 0.10\n",
    "\n",
    "\n",
    "print(eprofit_test(N, n1, n2, s, mu, sigma))  # 3106\n",
    "print(eprofit_deploy(N, n1, n2, s, mu, sigma))  # 66429.9\n",
    "eprofit_opt = eprofit_total(N, n1, n2, s, mu, sigma)\n",
    "error_rate_opt = prob_error(n1, n2, s, sigma)\n",
    "\n",
    "ns = np.linspace(0, 50000, 1000)\n",
    "K = len(ns)\n",
    "eprofit = np.zeros(K)\n",
    "error_rate = np.zeros(K)\n",
    "for k, n in enumerate(ns):\n",
    "    n1 = n\n",
    "    n2 = n\n",
    "    eprofit[k] = eprofit_total(N, n1, n2, s, mu, sigma)\n",
    "    error_rate[k] = prob_error(n1, n2, s, sigma)"
   ]
  },
  {
   "cell_type": "code",
   "execution_count": 15,
   "id": "d2bbeacd",
   "metadata": {},
   "outputs": [
    {
     "name": "stdout",
     "output_type": "stream",
     "text": [
      "saving image to figures/ab_profit_latexified.pdf\n",
      "Figure size: [3.  1.5]\n"
     ]
    },
    {
     "data": {
      "image/png": "[encoded data removed]",
      "text/plain": [
       "<Figure size 216x108 with 1 Axes>"
      ]
     },
     "metadata": {
      "needs_background": "light"
     },
     "output_type": "display_data"
    }
   ],
   "source": [
    "plt.figure()\n",
    "plt.plot(ns, eprofit)\n",
    "plt.xlabel(\"Test size\")\n",
    "plt.ylabel(\"Expected no\\nof conversions\")\n",
    "plt.axvline(nopt)\n",
    "plt.axhline(eprofit_opt)\n",
    "plt.text(nopt, eprofit_opt, \"n*={:0.1f}\".format(nopt))\n",
    "sns.despine()\n",
    "pml.savefig(\"ab_profit\")\n",
    "plt.show()"
   ]
  },
  {
   "cell_type": "code",
   "execution_count": 12,
   "id": "552c13e4",
   "metadata": {},
   "outputs": [
    {
     "name": "stdout",
     "output_type": "stream",
     "text": [
      "saving image to figures/ab_error_latexified.pdf\n",
      "Figure size: [3.  1.5]\n"
     ]
    },
    {
     "data": {
      "image/png": "[encoded data removed]",
      "text/plain": [
       "<Figure size 216x108 with 1 Axes>"
      ]
     },
     "metadata": {
      "needs_background": "light"
     },
     "output_type": "display_data"
    }
   ],
   "source": [
    "plt.figure()\n",
    "plt.plot(ns, error_rate)\n",
    "plt.xlabel(\"Test size\")\n",
    "plt.ylabel(\"Expected error rate\")\n",
    "plt.axvline(nopt)\n",
    "plt.axhline(error_rate_opt)\n",
    "plt.text(nopt, error_rate_opt, \"n*={:0.1f}\".format(nopt))\n",
    "sns.despine()\n",
    "pml.savefig(\"ab_error\")"
   ]
  },
  {
   "cell_type": "code",
   "execution_count": null,
   "id": "f5f98a79",
   "metadata": {},
   "outputs": [],
   "source": []
  }
 ],
 "metadata": {
  "kernelspec": {
   "display_name": "Python [conda env:py3713]",
   "language": "python",
   "name": "conda-env-py3713-py"
  },
  "language_info": {
   "codemirror_mode": {
    "name": "ipython",
    "version": 3
   },
   "file_extension": ".py",
   "mimetype": "text/x-python",
   "name": "python",
   "nbconvert_exporter": "python",
   "pygments_lexer": "ipython3",
   "version": "3.7.13"
  }
 },
 "nbformat": 4,
 "nbformat_minor": 5
}
