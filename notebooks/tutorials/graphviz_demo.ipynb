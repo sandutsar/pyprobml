{
 "nbformat": 4,
 "nbformat_minor": 0,
 "metadata": {
  "colab": {
   "name": "graphviz-demo.ipynb",
   "provenance": [],
   "authorship_tag": "ABX9TyNVNMRNrsUqo2MA9lnfkF/T",
   "include_colab_link": true
  },
  "kernelspec": {
   "name": "python3",
   "display_name": "Python 3"
  },
  "language_info": {
   "name": "python"
  }
 },
 "cells": [
  {
   "cell_type": "markdown",
   "metadata": {
    "id": "view-in-github",
    "colab_type": "text"
   },
   "source": [
    "<a href=\"https://colab.research.google.com/github/probml/probml-notebooks/blob/main/graphviz_demo.ipynb\" target=\"_parent\"><img src=\"https://colab.research.google.com/assets/colab-badge.svg\" alt=\"Open In Colab\"/></a>"
   ]
  },
  {
   "cell_type": "code",
   "metadata": {
    "colab": {
     "base_uri": "https://localhost:8080/",
     "height": 35
    },
    "id": "ijbW7UvrIlFp",
    "outputId": "7027ced9-9642-4108-8249-6bf897ab4e34"
   },
   "source": [
    "# https://stackoverflow.com/questions/51272498/set-node-positions-using-graphviz-in-jupyter-python\n",
    "import graphviz\n",
    "from graphviz import Digraph\n",
    "\n",
    "g = Digraph(\"G\", engine=\"neato\", filename=\"ex.gv\", format=\"png\")\n",
    "g.attr(size=\"7\")\n",
    "g.node(\"1\", pos=\"1,2!\")\n",
    "g.node(\"2\", pos=\"2,3!\")\n",
    "g.node(\"3\", pos=\"0,0!\")\n",
    "g.edge(\"1\", \"2\")\n",
    "g.edge(\"1\", \"3\")\n",
    "g.render(\"mygraph\")"
   ],
   "execution_count": 7,
   "outputs": [
    {
     "output_type": "execute_result",
     "data": {
      "application/vnd.google.colaboratory.intrinsic+json": {
       "type": "string"
      },
      "text/plain": [
       "'mygraph.png'"
      ]
     },
     "metadata": {},
     "execution_count": 7
    }
   ]
  },
  {
   "cell_type": "code",
   "metadata": {
    "colab": {
     "base_uri": "https://localhost:8080/"
    },
    "id": "6OMkfBMEIwm_",
    "outputId": "536ee330-f4a8-48d1-d1a2-bfa1516e6577"
   },
   "source": [
    "!ls"
   ],
   "execution_count": 8,
   "outputs": [
    {
     "output_type": "stream",
     "name": "stdout",
     "text": [
      "ex.gv\t   foo\t    foo.png\t mygraph      sample_data\n",
      "ex.gv.pdf  foo.pdf  foo.png.pdf  mygraph.png\n"
     ]
    }
   ]
  },
  {
   "cell_type": "code",
   "metadata": {
    "colab": {
     "base_uri": "https://localhost:8080/",
     "height": 364
    },
    "id": "D7SPblI9Iw8q",
    "outputId": "bf87e86e-1bc6-4b2e-c86c-7dfabd8c1894"
   },
   "source": [
    "from IPython.display import Image\n",
    "\n",
    "fname = \"mygraph.png\"\n",
    "Image(fname)"
   ],
   "execution_count": 9,
   "outputs": [
    {
     "output_type": "execute_result",
     "data": {
      "image/png": "[encoded data removed]",
      "text/plain": [
       "<IPython.core.display.Image object>"
      ]
     },
     "metadata": {},
     "execution_count": 9
    }
   ]
  }
 ]
}