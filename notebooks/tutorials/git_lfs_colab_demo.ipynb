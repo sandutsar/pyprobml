{
 "nbformat": 4,
 "nbformat_minor": 0,
 "metadata": {
  "colab": {
   "name": "git_lfs_colab_demo.ipynb",
   "provenance": [],
   "collapsed_sections": [
    "cZ6RAxZHD3uD"
   ],
   "authorship_tag": "ABX9TyMy7fDP3/hJbCTj6jGHbQRI",
   "include_colab_link": true
  },
  "kernelspec": {
   "display_name": "Python 3",
   "name": "python3"
  },
  "language_info": {
   "name": "python"
  },
  "widgets": {
   "application/vnd.jupyter.widget-state+json": {
    "813ef90665424c0684620d01ad63f5e3": {
     "model_module": "@jupyter-widgets/controls",
     "model_name": "HBoxModel",
     "model_module_version": "1.5.0",
     "state": {
      "_view_name": "HBoxView",
      "_dom_classes": [],
      "_model_name": "HBoxModel",
      "_view_module": "@jupyter-widgets/controls",
      "_model_module_version": "1.5.0",
      "_view_count": null,
      "_view_module_version": "1.5.0",
      "box_style": "",
      "layout": "IPY_MODEL_82cafba9a1aa434eb1b0ac55b67e23b4",
      "_model_module": "@jupyter-widgets/controls",
      "children": [
       "IPY_MODEL_46a83220405b4290921a06ba4e6826b7",
       "IPY_MODEL_cb46226e3acc4527b1808cafaea00dc3"
      ]
     }
    },
    "82cafba9a1aa434eb1b0ac55b67e23b4": {
     "model_module": "@jupyter-widgets/base",
     "model_name": "LayoutModel",
     "model_module_version": "1.2.0",
     "state": {
      "_view_name": "LayoutView",
      "grid_template_rows": null,
      "right": null,
      "justify_content": null,
      "_view_module": "@jupyter-widgets/base",
      "overflow": null,
      "_model_module_version": "1.2.0",
      "_view_count": null,
      "flex_flow": null,
      "width": null,
      "min_width": null,
      "border": null,
      "align_items": null,
      "bottom": null,
      "_model_module": "@jupyter-widgets/base",
      "top": null,
      "grid_column": null,
      "overflow_y": null,
      "overflow_x": null,
      "grid_auto_flow": null,
      "grid_area": null,
      "grid_template_columns": null,
      "flex": null,
      "_model_name": "LayoutModel",
      "justify_items": null,
      "grid_row": null,
      "max_height": null,
      "align_content": null,
      "visibility": null,
      "align_self": null,
      "height": null,
      "min_height": null,
      "padding": null,
      "grid_auto_rows": null,
      "grid_gap": null,
      "max_width": null,
      "order": null,
      "_view_module_version": "1.2.0",
      "grid_template_areas": null,
      "object_position": null,
      "object_fit": null,
      "grid_auto_columns": null,
      "margin": null,
      "display": null,
      "left": null
     }
    },
    "46a83220405b4290921a06ba4e6826b7": {
     "model_module": "@jupyter-widgets/controls",
     "model_name": "FloatProgressModel",
     "model_module_version": "1.5.0",
     "state": {
      "_view_name": "ProgressView",
      "style": "IPY_MODEL_f633b1ae2b294e18966404b3e372c0f9",
      "_dom_classes": [],
      "description": "100%",
      "_model_name": "FloatProgressModel",
      "bar_style": "success",
      "max": 178793939,
      "_view_module": "@jupyter-widgets/controls",
      "_model_module_version": "1.5.0",
      "value": 178793939,
      "_view_count": null,
      "_view_module_version": "1.5.0",
      "orientation": "horizontal",
      "min": 0,
      "description_tooltip": null,
      "_model_module": "@jupyter-widgets/controls",
      "layout": "IPY_MODEL_9341422eba6a4a6c90e13e94307fb074"
     }
    },
    "cb46226e3acc4527b1808cafaea00dc3": {
     "model_module": "@jupyter-widgets/controls",
     "model_name": "HTMLModel",
     "model_module_version": "1.5.0",
     "state": {
      "_view_name": "HTMLView",
      "style": "IPY_MODEL_055a697241944c28878701b215af6c5d",
      "_dom_classes": [],
      "description": "",
      "_model_name": "HTMLModel",
      "placeholder": "​",
      "_view_module": "@jupyter-widgets/controls",
      "_model_module_version": "1.5.0",
      "value": " 171M/171M [00:02&lt;00:00, 79.9MB/s]",
      "_view_count": null,
      "_view_module_version": "1.5.0",
      "description_tooltip": null,
      "_model_module": "@jupyter-widgets/controls",
      "layout": "IPY_MODEL_65f55ebddd974a7999b7a24d5ca157e0"
     }
    },
    "f633b1ae2b294e18966404b3e372c0f9": {
     "model_module": "@jupyter-widgets/controls",
     "model_name": "ProgressStyleModel",
     "model_module_version": "1.5.0",
     "state": {
      "_view_name": "StyleView",
      "_model_name": "ProgressStyleModel",
      "description_width": "initial",
      "_view_module": "@jupyter-widgets/base",
      "_model_module_version": "1.5.0",
      "_view_count": null,
      "_view_module_version": "1.2.0",
      "bar_color": null,
      "_model_module": "@jupyter-widgets/controls"
     }
    },
    "9341422eba6a4a6c90e13e94307fb074": {
     "model_module": "@jupyter-widgets/base",
     "model_name": "LayoutModel",
     "model_module_version": "1.2.0",
     "state": {
      "_view_name": "LayoutView",
      "grid_template_rows": null,
      "right": null,
      "justify_content": null,
      "_view_module": "@jupyter-widgets/base",
      "overflow": null,
      "_model_module_version": "1.2.0",
      "_view_count": null,
      "flex_flow": null,
      "width": null,
      "min_width": null,
      "border": null,
      "align_items": null,
      "bottom": null,
      "_model_module": "@jupyter-widgets/base",
      "top": null,
      "grid_column": null,
      "overflow_y": null,
      "overflow_x": null,
      "grid_auto_flow": null,
      "grid_area": null,
      "grid_template_columns": null,
      "flex": null,
      "_model_name": "LayoutModel",
      "justify_items": null,
      "grid_row": null,
      "max_height": null,
      "align_content": null,
      "visibility": null,
      "align_self": null,
      "height": null,
      "min_height": null,
      "padding": null,
      "grid_auto_rows": null,
      "grid_gap": null,
      "max_width": null,
      "order": null,
      "_view_module_version": "1.2.0",
      "grid_template_areas": null,
      "object_position": null,
      "object_fit": null,
      "grid_auto_columns": null,
      "margin": null,
      "display": null,
      "left": null
     }
    },
    "055a697241944c28878701b215af6c5d": {
     "model_module": "@jupyter-widgets/controls",
     "model_name": "DescriptionStyleModel",
     "model_module_version": "1.5.0",
     "state": {
      "_view_name": "StyleView",
      "_model_name": "DescriptionStyleModel",
      "description_width": "",
      "_view_module": "@jupyter-widgets/base",
      "_model_module_version": "1.5.0",
      "_view_count": null,
      "_view_module_version": "1.2.0",
      "_model_module": "@jupyter-widgets/controls"
     }
    },
    "65f55ebddd974a7999b7a24d5ca157e0": {
     "model_module": "@jupyter-widgets/base",
     "model_name": "LayoutModel",
     "model_module_version": "1.2.0",
     "state": {
      "_view_name": "LayoutView",
      "grid_template_rows": null,
      "right": null,
      "justify_content": null,
      "_view_module": "@jupyter-widgets/base",
      "overflow": null,
      "_model_module_version": "1.2.0",
      "_view_count": null,
      "flex_flow": null,
      "width": null,
      "min_width": null,
      "border": null,
      "align_items": null,
      "bottom": null,
      "_model_module": "@jupyter-widgets/base",
      "top": null,
      "grid_column": null,
      "overflow_y": null,
      "overflow_x": null,
      "grid_auto_flow": null,
      "grid_area": null,
      "grid_template_columns": null,
      "flex": null,
      "_model_name": "LayoutModel",
      "justify_items": null,
      "grid_row": null,
      "max_height": null,
      "align_content": null,
      "visibility": null,
      "align_self": null,
      "height": null,
      "min_height": null,
      "padding": null,
      "grid_auto_rows": null,
      "grid_gap": null,
      "max_width": null,
      "order": null,
      "_view_module_version": "1.2.0",
      "grid_template_areas": null,
      "object_position": null,
      "object_fit": null,
      "grid_auto_columns": null,
      "margin": null,
      "display": null,
      "left": null
     }
    }
   }
  }
 },
 "cells": [
  {
   "cell_type": "markdown",
   "metadata": {
    "id": "view-in-github",
    "colab_type": "text"
   },
   "source": [
    "<a href=\"https://colab.research.google.com/github/always-newbie161/probml-notebooks/blob/lfs_git/notebooks/git_lfs_colab_demo.ipynb\" target=\"_parent\"><img src=\"https://colab.research.google.com/assets/colab-badge.svg\" alt=\"Open In Colab\"/></a>"
   ]
  },
  {
   "cell_type": "markdown",
   "metadata": {
    "id": "ptUkAuD3uNSt"
   },
   "source": [
    "This notebook shows a demo of using a colab to saving and loading data using **[git large file storage](https://git-lfs.github.com/)**"
   ]
  },
  {
   "cell_type": "markdown",
   "metadata": {
    "id": "FqrkbCkYu2Sd"
   },
   "source": [
    "**Pre-Remarks:**\n",
    "\n",
    "\n",
    "*   The remote repo being used (which is cloned) should **not be a public fork** (see this [issue](https://github.com/git-lfs/git-lfs/issues/1906))\n",
    "\n",
    "*  Github offers a free-pack with only 1gb of bandwidth and storage, so its better not to do tests multiple times and with large objects. This demo only uses a ~100mb(to point the fact that github doesn't allow >100mb files) model to store, so that your free pack wil not be affected much\n",
    "So If you want to use LFS regularly, its better to buy a datapack from github billing-plans\n",
    "\n",
    "\n",
    "*   This colab uses SSH to authenticate git, it requires your ssh files(rsa, rsa.pub known_hosts) in your drive in a folder named `ssh`.(If not present, you can follow the instructions mentioned in this [colab_intro](https://colab.research.google.com/github/probml/pyprobml/blob/master/notebooks/colab_intro.ipynb#scrollTo=yaISmcnNmnS7&line=3&uniqifier=1) to upload them)\n",
    "\n"
   ]
  },
  {
   "cell_type": "markdown",
   "metadata": {
    "id": "cZ6RAxZHD3uD"
   },
   "source": [
    "## LFS Installation"
   ]
  },
  {
   "cell_type": "code",
   "metadata": {
    "colab": {
     "base_uri": "https://localhost:8080/"
    },
    "id": "ukUFifeO7uuW",
    "outputId": "08fdf06f-9f80-495f-c9d0-a8d706d73989"
   },
   "source": [
    "!curl -s https://packagecloud.io/install/repositories/github/git-lfs/script.deb.sh | sudo bash"
   ],
   "execution_count": null,
   "outputs": [
    {
     "output_type": "stream",
     "text": [
      "Detected operating system as Ubuntu/bionic.\n",
      "Checking for curl...\n",
      "Detected curl...\n",
      "Checking for gpg...\n",
      "Detected gpg...\n",
      "Running apt-get update... done.\n",
      "Installing apt-transport-https... done.\n",
      "Installing /etc/apt/sources.list.d/github_git-lfs.list...done.\n",
      "Importing packagecloud gpg key... done.\n",
      "Running apt-get update... done.\n",
      "\n",
      "The repository is setup! You can now install packages.\n"
     ],
     "name": "stdout"
    }
   ]
  },
  {
   "cell_type": "code",
   "metadata": {
    "colab": {
     "base_uri": "https://localhost:8080/"
    },
    "id": "xHaDHBef8pK7",
    "outputId": "29d60141-8f61-4e46-810b-7b5d901b602e"
   },
   "source": [
    "!sudo apt-get install git-lfs"
   ],
   "execution_count": null,
   "outputs": [
    {
     "output_type": "stream",
     "text": [
      "Reading package lists... Done\n",
      "Building dependency tree       \n",
      "Reading state information... Done\n",
      "The following NEW packages will be installed:\n",
      "  git-lfs\n",
      "0 upgraded, 1 newly installed, 0 to remove and 58 not upgraded.\n",
      "Need to get 6,229 kB of archives.\n",
      "After this operation, 14.5 MB of additional disk space will be used.\n",
      "Get:1 https://packagecloud.io/github/git-lfs/ubuntu bionic/main amd64 git-lfs amd64 2.13.3 [6,229 kB]\n",
      "Fetched 6,229 kB in 0s (17.4 MB/s)\n",
      "debconf: unable to initialize frontend: Dialog\n",
      "debconf: (No usable dialog-like program is installed, so the dialog based frontend cannot be used. at /usr/share/perl5/Debconf/FrontEnd/Dialog.pm line 76, <> line 1.)\n",
      "debconf: falling back to frontend: Readline\n",
      "debconf: unable to initialize frontend: Readline\n",
      "debconf: (This frontend requires a controlling tty.)\n",
      "debconf: falling back to frontend: Teletype\n",
      "dpkg-preconfigure: unable to re-open stdin: \n",
      "Selecting previously unselected package git-lfs.\n",
      "(Reading database ... 160819 files and directories currently installed.)\n",
      "Preparing to unpack .../git-lfs_2.13.3_amd64.deb ...\n",
      "Unpacking git-lfs (2.13.3) ...\n",
      "Setting up git-lfs (2.13.3) ...\n",
      "Git LFS initialized.\n",
      "Processing triggers for man-db (2.8.3-2ubuntu0.1) ...\n"
     ],
     "name": "stdout"
    }
   ]
  },
  {
   "cell_type": "markdown",
   "metadata": {
    "id": "pEabIbU8D-JJ"
   },
   "source": [
    "## Cloning the repo"
   ]
  },
  {
   "cell_type": "code",
   "metadata": {
    "id": "vqiH7_j7xOxf"
   },
   "source": [
    "# Replace them with your personal credentials.\n",
    "email = \"srikarreddy38@gmail.com\"\n",
    "username = \"always-newbie161\"\n",
    "repo = \"LFS-data\"  # remote repository."
   ],
   "execution_count": null,
   "outputs": []
  },
  {
   "cell_type": "code",
   "metadata": {
    "colab": {
     "base_uri": "https://localhost:8080/"
    },
    "id": "ONJ0Ump4wEho",
    "outputId": "35f07b57-1082-4072-f072-2e56846f78dc"
   },
   "source": [
    "!rm -rf colab_utils.py # remove any old copies of this file\n",
    "!wget https://raw.githubusercontent.com/probml/pyprobml/master/scripts/colab_utils.py\n",
    "import colab_utils as utils"
   ],
   "execution_count": null,
   "outputs": [
    {
     "output_type": "stream",
     "text": [
      "--2021-07-10 16:57:42--  https://raw.githubusercontent.com/probml/pyprobml/master/scripts/colab_utils.py\n",
      "Resolving raw.githubusercontent.com (raw.githubusercontent.com)... 185.199.110.133, 185.199.109.133, 185.199.111.133, ...\n",
      "Connecting to raw.githubusercontent.com (raw.githubusercontent.com)|185.199.110.133|:443... connected.\n",
      "HTTP request sent, awaiting response... 200 OK\n",
      "Length: 2245 (2.2K) [text/plain]\n",
      "Saving to: ‘colab_utils.py’\n",
      "\n",
      "colab_utils.py      100%[===================>]   2.19K  --.-KB/s    in 0s      \n",
      "\n",
      "2021-07-10 16:57:42 (43.5 MB/s) - ‘colab_utils.py’ saved [2245/2245]\n",
      "\n"
     ],
     "name": "stdout"
    }
   ]
  },
  {
   "cell_type": "markdown",
   "metadata": {
    "id": "JGcRpgXF924_"
   },
   "source": [
    "Mount the drive to use the `ssh` files"
   ]
  },
  {
   "cell_type": "code",
   "metadata": {
    "colab": {
     "base_uri": "https://localhost:8080/"
    },
    "id": "H5TTsfsH6jv4",
    "outputId": "b6096f4f-92e7-43e3-cbc1-46201cf0ae62"
   },
   "source": [
    "from google.colab import drive\n",
    "\n",
    "drive.mount(\"/content/drive\")"
   ],
   "execution_count": null,
   "outputs": [
    {
     "output_type": "stream",
     "text": [
      "Mounted at /content/drive\n"
     ],
     "name": "stdout"
    }
   ]
  },
  {
   "cell_type": "code",
   "metadata": {
    "colab": {
     "base_uri": "https://localhost:8080/"
    },
    "id": "eXHs8Hhb-WTW",
    "outputId": "050d205b-d15a-4527-f4c7-c96ed026d618"
   },
   "source": [
    "%cd /content\n",
    "!rm -rf $repo # remove any old copies of this directory\n",
    "cmd = f\"git clone https://github.com/{username}/{repo}.git\"\n",
    "utils.git_ssh(cmd, email=email, username=username, verbose=True)\n",
    "\n",
    "# cd into the current repository.\n",
    "%cd /content/$repo"
   ],
   "execution_count": null,
   "outputs": [
    {
     "output_type": "stream",
     "text": [
      "/content\n",
      "executing command via ssh: git clone git@github.com:always-newbie161/LFS-data.git\n",
      "Copying keys from gdrive to local VM\n",
      "Executing git commands\n",
      "Cleanup local VM\n",
      "/content/LFS-data\n"
     ],
     "name": "stdout"
    }
   ]
  },
  {
   "cell_type": "markdown",
   "metadata": {
    "id": "px3by6kyUgw5"
   },
   "source": [
    "We create a new dir named `lfs_data` which is going to tracked by `git-lfs`, i.e all the new files that will be added to it, will be test_pointers to the actual data which will be stored by LFS(remote server)\n",
    "\n",
    "\n"
   ]
  },
  {
   "cell_type": "markdown",
   "metadata": {
    "id": "6VP0P1MZZW3N"
   },
   "source": [
    "## Track paths to create LFS objects"
   ]
  },
  {
   "cell_type": "code",
   "metadata": {
    "id": "_TKGG3jzAf8T"
   },
   "source": [
    "!mkdir ./lfs_data"
   ],
   "execution_count": null,
   "outputs": []
  },
  {
   "cell_type": "markdown",
   "metadata": {
    "id": "DaJGakW_VnML"
   },
   "source": [
    "This tracks all the files in the folder `lfs_data` of the repository."
   ]
  },
  {
   "cell_type": "code",
   "metadata": {
    "colab": {
     "base_uri": "https://localhost:8080/"
    },
    "id": "vBkRlVCNAnhR",
    "outputId": "535257ca-5cd7-4d7a-e6bc-6f4961dba4b9"
   },
   "source": [
    "!git lfs track 'lfs_data/*'"
   ],
   "execution_count": null,
   "outputs": [
    {
     "output_type": "stream",
     "text": [
      "\"lfs_data/*\" already supported\n"
     ],
     "name": "stdout"
    }
   ]
  },
  {
   "cell_type": "markdown",
   "metadata": {
    "id": "3HpC4KQADEJ_"
   },
   "source": [
    "## Saving pre-trained torch model to git-lfs\n",
    "\n",
    "This notebook uses pre-trained Resnet101 model to save & load."
   ]
  },
  {
   "cell_type": "code",
   "metadata": {
    "id": "QzFJ7Y82vxxb",
    "colab": {
     "base_uri": "https://localhost:8080/",
     "height": 120,
     "referenced_widgets": [
      "813ef90665424c0684620d01ad63f5e3",
      "82cafba9a1aa434eb1b0ac55b67e23b4",
      "46a83220405b4290921a06ba4e6826b7",
      "cb46226e3acc4527b1808cafaea00dc3",
      "f633b1ae2b294e18966404b3e372c0f9",
      "9341422eba6a4a6c90e13e94307fb074",
      "055a697241944c28878701b215af6c5d",
      "65f55ebddd974a7999b7a24d5ca157e0"
     ]
    },
    "outputId": "2652f824-9d73-42b2-8130-bee1763b4662"
   },
   "source": [
    "import torch\n",
    "import torchvision\n",
    "\n",
    "model = torchvision.models.resnet101(pretrained=True, progress=True)\n",
    "print(model.state_dict().keys())"
   ],
   "execution_count": null,
   "outputs": [
    {
     "output_type": "stream",
     "text": [
      "Downloading: \"https://download.pytorch.org/models/resnet101-63fe2227.pth\" to /root/.cache/torch/hub/checkpoints/resnet101-63fe2227.pth\n"
     ],
     "name": "stderr"
    },
    {
     "output_type": "display_data",
     "data": {
      "application/vnd.jupyter.widget-view+json": {
       "model_id": "813ef90665424c0684620d01ad63f5e3",
       "version_minor": 0,
       "version_major": 2
      },
      "text/plain": [
       "HBox(children=(FloatProgress(value=0.0, max=178793939.0), HTML(value='')))"
      ]
     },
     "metadata": {
      "tags": []
     }
    },
    {
     "output_type": "stream",
     "text": [
      "\n",
      "odict_keys(['conv1.weight', 'bn1.weight', 'bn1.bias', 'bn1.running_mean', 'bn1.running_var', 'bn1.num_batches_tracked', 'layer1.0.conv1.weight', 'layer1.0.bn1.weight', 'layer1.0.bn1.bias', 'layer1.0.bn1.running_mean', 'layer1.0.bn1.running_var', 'layer1.0.bn1.num_batches_tracked', 'layer1.0.conv2.weight', 'layer1.0.bn2.weight', 'layer1.0.bn2.bias', 'layer1.0.bn2.running_mean', 'layer1.0.bn2.running_var', 'layer1.0.bn2.num_batches_tracked', 'layer1.0.conv3.weight', 'layer1.0.bn3.weight', 'layer1.0.bn3.bias', 'layer1.0.bn3.running_mean', 'layer1.0.bn3.running_var', 'layer1.0.bn3.num_batches_tracked', 'layer1.0.downsample.0.weight', 'layer1.0.downsample.1.weight', 'layer1.0.downsample.1.bias', 'layer1.0.downsample.1.running_mean', 'layer1.0.downsample.1.running_var', 'layer1.0.downsample.1.num_batches_tracked', 'layer1.1.conv1.weight', 'layer1.1.bn1.weight', 'layer1.1.bn1.bias', 'layer1.1.bn1.running_mean', 'layer1.1.bn1.running_var', 'layer1.1.bn1.num_batches_tracked', 'layer1.1.conv2.weight', 'layer1.1.bn2.weight', 'layer1.1.bn2.bias', 'layer1.1.bn2.running_mean', 'layer1.1.bn2.running_var', 'layer1.1.bn2.num_batches_tracked', 'layer1.1.conv3.weight', 'layer1.1.bn3.weight', 'layer1.1.bn3.bias', 'layer1.1.bn3.running_mean', 'layer1.1.bn3.running_var', 'layer1.1.bn3.num_batches_tracked', 'layer1.2.conv1.weight', 'layer1.2.bn1.weight', 'layer1.2.bn1.bias', 'layer1.2.bn1.running_mean', 'layer1.2.bn1.running_var', 'layer1.2.bn1.num_batches_tracked', 'layer1.2.conv2.weight', 'layer1.2.bn2.weight', 'layer1.2.bn2.bias', 'layer1.2.bn2.running_mean', 'layer1.2.bn2.running_var', 'layer1.2.bn2.num_batches_tracked', 'layer1.2.conv3.weight', 'layer1.2.bn3.weight', 'layer1.2.bn3.bias', 'layer1.2.bn3.running_mean', 'layer1.2.bn3.running_var', 'layer1.2.bn3.num_batches_tracked', 'layer2.0.conv1.weight', 'layer2.0.bn1.weight', 'layer2.0.bn1.bias', 'layer2.0.bn1.running_mean', 'layer2.0.bn1.running_var', 'layer2.0.bn1.num_batches_tracked', 'layer2.0.conv2.weight', 'layer2.0.bn2.weight', 'layer2.0.bn2.bias', 'layer2.0.bn2.running_mean', 'layer2.0.bn2.running_var', 'layer2.0.bn2.num_batches_tracked', 'layer2.0.conv3.weight', 'layer2.0.bn3.weight', 'layer2.0.bn3.bias', 'layer2.0.bn3.running_mean', 'layer2.0.bn3.running_var', 'layer2.0.bn3.num_batches_tracked', 'layer2.0.downsample.0.weight', 'layer2.0.downsample.1.weight', 'layer2.0.downsample.1.bias', 'layer2.0.downsample.1.running_mean', 'layer2.0.downsample.1.running_var', 'layer2.0.downsample.1.num_batches_tracked', 'layer2.1.conv1.weight', 'layer2.1.bn1.weight', 'layer2.1.bn1.bias', 'layer2.1.bn1.running_mean', 'layer2.1.bn1.running_var', 'layer2.1.bn1.num_batches_tracked', 'layer2.1.conv2.weight', 'layer2.1.bn2.weight', 'layer2.1.bn2.bias', 'layer2.1.bn2.running_mean', 'layer2.1.bn2.running_var', 'layer2.1.bn2.num_batches_tracked', 'layer2.1.conv3.weight', 'layer2.1.bn3.weight', 'layer2.1.bn3.bias', 'layer2.1.bn3.running_mean', 'layer2.1.bn3.running_var', 'layer2.1.bn3.num_batches_tracked', 'layer2.2.conv1.weight', 'layer2.2.bn1.weight', 'layer2.2.bn1.bias', 'layer2.2.bn1.running_mean', 'layer2.2.bn1.running_var', 'layer2.2.bn1.num_batches_tracked', 'layer2.2.conv2.weight', 'layer2.2.bn2.weight', 'layer2.2.bn2.bias', 'layer2.2.bn2.running_mean', 'layer2.2.bn2.running_var', 'layer2.2.bn2.num_batches_tracked', 'layer2.2.conv3.weight', 'layer2.2.bn3.weight', 'layer2.2.bn3.bias', 'layer2.2.bn3.running_mean', 'layer2.2.bn3.running_var', 'layer2.2.bn3.num_batches_tracked', 'layer2.3.conv1.weight', 'layer2.3.bn1.weight', 'layer2.3.bn1.bias', 'layer2.3.bn1.running_mean', 'layer2.3.bn1.running_var', 'layer2.3.bn1.num_batches_tracked', 'layer2.3.conv2.weight', 'layer2.3.bn2.weight', 'layer2.3.bn2.bias', 'layer2.3.bn2.running_mean', 'layer2.3.bn2.running_var', 'layer2.3.bn2.num_batches_tracked', 'layer2.3.conv3.weight', 'layer2.3.bn3.weight', 'layer2.3.bn3.bias', 'layer2.3.bn3.running_mean', 'layer2.3.bn3.running_var', 'layer2.3.bn3.num_batches_tracked', 'layer3.0.conv1.weight', 'layer3.0.bn1.weight', 'layer3.0.bn1.bias', 'layer3.0.bn1.running_mean', 'layer3.0.bn1.running_var', 'layer3.0.bn1.num_batches_tracked', 'layer3.0.conv2.weight', 'layer3.0.bn2.weight', 'layer3.0.bn2.bias', 'layer3.0.bn2.running_mean', 'layer3.0.bn2.running_var', 'layer3.0.bn2.num_batches_tracked', 'layer3.0.conv3.weight', 'layer3.0.bn3.weight', 'layer3.0.bn3.bias', 'layer3.0.bn3.running_mean', 'layer3.0.bn3.running_var', 'layer3.0.bn3.num_batches_tracked', 'layer3.0.downsample.0.weight', 'layer3.0.downsample.1.weight', 'layer3.0.downsample.1.bias', 'layer3.0.downsample.1.running_mean', 'layer3.0.downsample.1.running_var', 'layer3.0.downsample.1.num_batches_tracked', 'layer3.1.conv1.weight', 'layer3.1.bn1.weight', 'layer3.1.bn1.bias', 'layer3.1.bn1.running_mean', 'layer3.1.bn1.running_var', 'layer3.1.bn1.num_batches_tracked', 'layer3.1.conv2.weight', 'layer3.1.bn2.weight', 'layer3.1.bn2.bias', 'layer3.1.bn2.running_mean', 'layer3.1.bn2.running_var', 'layer3.1.bn2.num_batches_tracked', 'layer3.1.conv3.weight', 'layer3.1.bn3.weight', 'layer3.1.bn3.bias', 'layer3.1.bn3.running_mean', 'layer3.1.bn3.running_var', 'layer3.1.bn3.num_batches_tracked', 'layer3.2.conv1.weight', 'layer3.2.bn1.weight', 'layer3.2.bn1.bias', 'layer3.2.bn1.running_mean', 'layer3.2.bn1.running_var', 'layer3.2.bn1.num_batches_tracked', 'layer3.2.conv2.weight', 'layer3.2.bn2.weight', 'layer3.2.bn2.bias', 'layer3.2.bn2.running_mean', 'layer3.2.bn2.running_var', 'layer3.2.bn2.num_batches_tracked', 'layer3.2.conv3.weight', 'layer3.2.bn3.weight', 'layer3.2.bn3.bias', 'layer3.2.bn3.running_mean', 'layer3.2.bn3.running_var', 'layer3.2.bn3.num_batches_tracked', 'layer3.3.conv1.weight', 'layer3.3.bn1.weight', 'layer3.3.bn1.bias', 'layer3.3.bn1.running_mean', 'layer3.3.bn1.running_var', 'layer3.3.bn1.num_batches_tracked', 'layer3.3.conv2.weight', 'layer3.3.bn2.weight', 'layer3.3.bn2.bias', 'layer3.3.bn2.running_mean', 'layer3.3.bn2.running_var', 'layer3.3.bn2.num_batches_tracked', 'layer3.3.conv3.weight', 'layer3.3.bn3.weight', 'layer3.3.bn3.bias', 'layer3.3.bn3.running_mean', 'layer3.3.bn3.running_var', 'layer3.3.bn3.num_batches_tracked', 'layer3.4.conv1.weight', 'layer3.4.bn1.weight', 'layer3.4.bn1.bias', 'layer3.4.bn1.running_mean', 'layer3.4.bn1.running_var', 'layer3.4.bn1.num_batches_tracked', 'layer3.4.conv2.weight', 'layer3.4.bn2.weight', 'layer3.4.bn2.bias', 'layer3.4.bn2.running_mean', 'layer3.4.bn2.running_var', 'layer3.4.bn2.num_batches_tracked', 'layer3.4.conv3.weight', 'layer3.4.bn3.weight', 'layer3.4.bn3.bias', 'layer3.4.bn3.running_mean', 'layer3.4.bn3.running_var', 'layer3.4.bn3.num_batches_tracked', 'layer3.5.conv1.weight', 'layer3.5.bn1.weight', 'layer3.5.bn1.bias', 'layer3.5.bn1.running_mean', 'layer3.5.bn1.running_var', 'layer3.5.bn1.num_batches_tracked', 'layer3.5.conv2.weight', 'layer3.5.bn2.weight', 'layer3.5.bn2.bias', 'layer3.5.bn2.running_mean', 'layer3.5.bn2.running_var', 'layer3.5.bn2.num_batches_tracked', 'layer3.5.conv3.weight', 'layer3.5.bn3.weight', 'layer3.5.bn3.bias', 'layer3.5.bn3.running_mean', 'layer3.5.bn3.running_var', 'layer3.5.bn3.num_batches_tracked', 'layer3.6.conv1.weight', 'layer3.6.bn1.weight', 'layer3.6.bn1.bias', 'layer3.6.bn1.running_mean', 'layer3.6.bn1.running_var', 'layer3.6.bn1.num_batches_tracked', 'layer3.6.conv2.weight', 'layer3.6.bn2.weight', 'layer3.6.bn2.bias', 'layer3.6.bn2.running_mean', 'layer3.6.bn2.running_var', 'layer3.6.bn2.num_batches_tracked', 'layer3.6.conv3.weight', 'layer3.6.bn3.weight', 'layer3.6.bn3.bias', 'layer3.6.bn3.running_mean', 'layer3.6.bn3.running_var', 'layer3.6.bn3.num_batches_tracked', 'layer3.7.conv1.weight', 'layer3.7.bn1.weight', 'layer3.7.bn1.bias', 'layer3.7.bn1.running_mean', 'layer3.7.bn1.running_var', 'layer3.7.bn1.num_batches_tracked', 'layer3.7.conv2.weight', 'layer3.7.bn2.weight', 'layer3.7.bn2.bias', 'layer3.7.bn2.running_mean', 'layer3.7.bn2.running_var', 'layer3.7.bn2.num_batches_tracked', 'layer3.7.conv3.weight', 'layer3.7.bn3.weight', 'layer3.7.bn3.bias', 'layer3.7.bn3.running_mean', 'layer3.7.bn3.running_var', 'layer3.7.bn3.num_batches_tracked', 'layer3.8.conv1.weight', 'layer3.8.bn1.weight', 'layer3.8.bn1.bias', 'layer3.8.bn1.running_mean', 'layer3.8.bn1.running_var', 'layer3.8.bn1.num_batches_tracked', 'layer3.8.conv2.weight', 'layer3.8.bn2.weight', 'layer3.8.bn2.bias', 'layer3.8.bn2.running_mean', 'layer3.8.bn2.running_var', 'layer3.8.bn2.num_batches_tracked', 'layer3.8.conv3.weight', 'layer3.8.bn3.weight', 'layer3.8.bn3.bias', 'layer3.8.bn3.running_mean', 'layer3.8.bn3.running_var', 'layer3.8.bn3.num_batches_tracked', 'layer3.9.conv1.weight', 'layer3.9.bn1.weight', 'layer3.9.bn1.bias', 'layer3.9.bn1.running_mean', 'layer3.9.bn1.running_var', 'layer3.9.bn1.num_batches_tracked', 'layer3.9.conv2.weight', 'layer3.9.bn2.weight', 'layer3.9.bn2.bias', 'layer3.9.bn2.running_mean', 'layer3.9.bn2.running_var', 'layer3.9.bn2.num_batches_tracked', 'layer3.9.conv3.weight', 'layer3.9.bn3.weight', 'layer3.9.bn3.bias', 'layer3.9.bn3.running_mean', 'layer3.9.bn3.running_var', 'layer3.9.bn3.num_batches_tracked', 'layer3.10.conv1.weight', 'layer3.10.bn1.weight', 'layer3.10.bn1.bias', 'layer3.10.bn1.running_mean', 'layer3.10.bn1.running_var', 'layer3.10.bn1.num_batches_tracked', 'layer3.10.conv2.weight', 'layer3.10.bn2.weight', 'layer3.10.bn2.bias', 'layer3.10.bn2.running_mean', 'layer3.10.bn2.running_var', 'layer3.10.bn2.num_batches_tracked', 'layer3.10.conv3.weight', 'layer3.10.bn3.weight', 'layer3.10.bn3.bias', 'layer3.10.bn3.running_mean', 'layer3.10.bn3.running_var', 'layer3.10.bn3.num_batches_tracked', 'layer3.11.conv1.weight', 'layer3.11.bn1.weight', 'layer3.11.bn1.bias', 'layer3.11.bn1.running_mean', 'layer3.11.bn1.running_var', 'layer3.11.bn1.num_batches_tracked', 'layer3.11.conv2.weight', 'layer3.11.bn2.weight', 'layer3.11.bn2.bias', 'layer3.11.bn2.running_mean', 'layer3.11.bn2.running_var', 'layer3.11.bn2.num_batches_tracked', 'layer3.11.conv3.weight', 'layer3.11.bn3.weight', 'layer3.11.bn3.bias', 'layer3.11.bn3.running_mean', 'layer3.11.bn3.running_var', 'layer3.11.bn3.num_batches_tracked', 'layer3.12.conv1.weight', 'layer3.12.bn1.weight', 'layer3.12.bn1.bias', 'layer3.12.bn1.running_mean', 'layer3.12.bn1.running_var', 'layer3.12.bn1.num_batches_tracked', 'layer3.12.conv2.weight', 'layer3.12.bn2.weight', 'layer3.12.bn2.bias', 'layer3.12.bn2.running_mean', 'layer3.12.bn2.running_var', 'layer3.12.bn2.num_batches_tracked', 'layer3.12.conv3.weight', 'layer3.12.bn3.weight', 'layer3.12.bn3.bias', 'layer3.12.bn3.running_mean', 'layer3.12.bn3.running_var', 'layer3.12.bn3.num_batches_tracked', 'layer3.13.conv1.weight', 'layer3.13.bn1.weight', 'layer3.13.bn1.bias', 'layer3.13.bn1.running_mean', 'layer3.13.bn1.running_var', 'layer3.13.bn1.num_batches_tracked', 'layer3.13.conv2.weight', 'layer3.13.bn2.weight', 'layer3.13.bn2.bias', 'layer3.13.bn2.running_mean', 'layer3.13.bn2.running_var', 'layer3.13.bn2.num_batches_tracked', 'layer3.13.conv3.weight', 'layer3.13.bn3.weight', 'layer3.13.bn3.bias', 'layer3.13.bn3.running_mean', 'layer3.13.bn3.running_var', 'layer3.13.bn3.num_batches_tracked', 'layer3.14.conv1.weight', 'layer3.14.bn1.weight', 'layer3.14.bn1.bias', 'layer3.14.bn1.running_mean', 'layer3.14.bn1.running_var', 'layer3.14.bn1.num_batches_tracked', 'layer3.14.conv2.weight', 'layer3.14.bn2.weight', 'layer3.14.bn2.bias', 'layer3.14.bn2.running_mean', 'layer3.14.bn2.running_var', 'layer3.14.bn2.num_batches_tracked', 'layer3.14.conv3.weight', 'layer3.14.bn3.weight', 'layer3.14.bn3.bias', 'layer3.14.bn3.running_mean', 'layer3.14.bn3.running_var', 'layer3.14.bn3.num_batches_tracked', 'layer3.15.conv1.weight', 'layer3.15.bn1.weight', 'layer3.15.bn1.bias', 'layer3.15.bn1.running_mean', 'layer3.15.bn1.running_var', 'layer3.15.bn1.num_batches_tracked', 'layer3.15.conv2.weight', 'layer3.15.bn2.weight', 'layer3.15.bn2.bias', 'layer3.15.bn2.running_mean', 'layer3.15.bn2.running_var', 'layer3.15.bn2.num_batches_tracked', 'layer3.15.conv3.weight', 'layer3.15.bn3.weight', 'layer3.15.bn3.bias', 'layer3.15.bn3.running_mean', 'layer3.15.bn3.running_var', 'layer3.15.bn3.num_batches_tracked', 'layer3.16.conv1.weight', 'layer3.16.bn1.weight', 'layer3.16.bn1.bias', 'layer3.16.bn1.running_mean', 'layer3.16.bn1.running_var', 'layer3.16.bn1.num_batches_tracked', 'layer3.16.conv2.weight', 'layer3.16.bn2.weight', 'layer3.16.bn2.bias', 'layer3.16.bn2.running_mean', 'layer3.16.bn2.running_var', 'layer3.16.bn2.num_batches_tracked', 'layer3.16.conv3.weight', 'layer3.16.bn3.weight', 'layer3.16.bn3.bias', 'layer3.16.bn3.running_mean', 'layer3.16.bn3.running_var', 'layer3.16.bn3.num_batches_tracked', 'layer3.17.conv1.weight', 'layer3.17.bn1.weight', 'layer3.17.bn1.bias', 'layer3.17.bn1.running_mean', 'layer3.17.bn1.running_var', 'layer3.17.bn1.num_batches_tracked', 'layer3.17.conv2.weight', 'layer3.17.bn2.weight', 'layer3.17.bn2.bias', 'layer3.17.bn2.running_mean', 'layer3.17.bn2.running_var', 'layer3.17.bn2.num_batches_tracked', 'layer3.17.conv3.weight', 'layer3.17.bn3.weight', 'layer3.17.bn3.bias', 'layer3.17.bn3.running_mean', 'layer3.17.bn3.running_var', 'layer3.17.bn3.num_batches_tracked', 'layer3.18.conv1.weight', 'layer3.18.bn1.weight', 'layer3.18.bn1.bias', 'layer3.18.bn1.running_mean', 'layer3.18.bn1.running_var', 'layer3.18.bn1.num_batches_tracked', 'layer3.18.conv2.weight', 'layer3.18.bn2.weight', 'layer3.18.bn2.bias', 'layer3.18.bn2.running_mean', 'layer3.18.bn2.running_var', 'layer3.18.bn2.num_batches_tracked', 'layer3.18.conv3.weight', 'layer3.18.bn3.weight', 'layer3.18.bn3.bias', 'layer3.18.bn3.running_mean', 'layer3.18.bn3.running_var', 'layer3.18.bn3.num_batches_tracked', 'layer3.19.conv1.weight', 'layer3.19.bn1.weight', 'layer3.19.bn1.bias', 'layer3.19.bn1.running_mean', 'layer3.19.bn1.running_var', 'layer3.19.bn1.num_batches_tracked', 'layer3.19.conv2.weight', 'layer3.19.bn2.weight', 'layer3.19.bn2.bias', 'layer3.19.bn2.running_mean', 'layer3.19.bn2.running_var', 'layer3.19.bn2.num_batches_tracked', 'layer3.19.conv3.weight', 'layer3.19.bn3.weight', 'layer3.19.bn3.bias', 'layer3.19.bn3.running_mean', 'layer3.19.bn3.running_var', 'layer3.19.bn3.num_batches_tracked', 'layer3.20.conv1.weight', 'layer3.20.bn1.weight', 'layer3.20.bn1.bias', 'layer3.20.bn1.running_mean', 'layer3.20.bn1.running_var', 'layer3.20.bn1.num_batches_tracked', 'layer3.20.conv2.weight', 'layer3.20.bn2.weight', 'layer3.20.bn2.bias', 'layer3.20.bn2.running_mean', 'layer3.20.bn2.running_var', 'layer3.20.bn2.num_batches_tracked', 'layer3.20.conv3.weight', 'layer3.20.bn3.weight', 'layer3.20.bn3.bias', 'layer3.20.bn3.running_mean', 'layer3.20.bn3.running_var', 'layer3.20.bn3.num_batches_tracked', 'layer3.21.conv1.weight', 'layer3.21.bn1.weight', 'layer3.21.bn1.bias', 'layer3.21.bn1.running_mean', 'layer3.21.bn1.running_var', 'layer3.21.bn1.num_batches_tracked', 'layer3.21.conv2.weight', 'layer3.21.bn2.weight', 'layer3.21.bn2.bias', 'layer3.21.bn2.running_mean', 'layer3.21.bn2.running_var', 'layer3.21.bn2.num_batches_tracked', 'layer3.21.conv3.weight', 'layer3.21.bn3.weight', 'layer3.21.bn3.bias', 'layer3.21.bn3.running_mean', 'layer3.21.bn3.running_var', 'layer3.21.bn3.num_batches_tracked', 'layer3.22.conv1.weight', 'layer3.22.bn1.weight', 'layer3.22.bn1.bias', 'layer3.22.bn1.running_mean', 'layer3.22.bn1.running_var', 'layer3.22.bn1.num_batches_tracked', 'layer3.22.conv2.weight', 'layer3.22.bn2.weight', 'layer3.22.bn2.bias', 'layer3.22.bn2.running_mean', 'layer3.22.bn2.running_var', 'layer3.22.bn2.num_batches_tracked', 'layer3.22.conv3.weight', 'layer3.22.bn3.weight', 'layer3.22.bn3.bias', 'layer3.22.bn3.running_mean', 'layer3.22.bn3.running_var', 'layer3.22.bn3.num_batches_tracked', 'layer4.0.conv1.weight', 'layer4.0.bn1.weight', 'layer4.0.bn1.bias', 'layer4.0.bn1.running_mean', 'layer4.0.bn1.running_var', 'layer4.0.bn1.num_batches_tracked', 'layer4.0.conv2.weight', 'layer4.0.bn2.weight', 'layer4.0.bn2.bias', 'layer4.0.bn2.running_mean', 'layer4.0.bn2.running_var', 'layer4.0.bn2.num_batches_tracked', 'layer4.0.conv3.weight', 'layer4.0.bn3.weight', 'layer4.0.bn3.bias', 'layer4.0.bn3.running_mean', 'layer4.0.bn3.running_var', 'layer4.0.bn3.num_batches_tracked', 'layer4.0.downsample.0.weight', 'layer4.0.downsample.1.weight', 'layer4.0.downsample.1.bias', 'layer4.0.downsample.1.running_mean', 'layer4.0.downsample.1.running_var', 'layer4.0.downsample.1.num_batches_tracked', 'layer4.1.conv1.weight', 'layer4.1.bn1.weight', 'layer4.1.bn1.bias', 'layer4.1.bn1.running_mean', 'layer4.1.bn1.running_var', 'layer4.1.bn1.num_batches_tracked', 'layer4.1.conv2.weight', 'layer4.1.bn2.weight', 'layer4.1.bn2.bias', 'layer4.1.bn2.running_mean', 'layer4.1.bn2.running_var', 'layer4.1.bn2.num_batches_tracked', 'layer4.1.conv3.weight', 'layer4.1.bn3.weight', 'layer4.1.bn3.bias', 'layer4.1.bn3.running_mean', 'layer4.1.bn3.running_var', 'layer4.1.bn3.num_batches_tracked', 'layer4.2.conv1.weight', 'layer4.2.bn1.weight', 'layer4.2.bn1.bias', 'layer4.2.bn1.running_mean', 'layer4.2.bn1.running_var', 'layer4.2.bn1.num_batches_tracked', 'layer4.2.conv2.weight', 'layer4.2.bn2.weight', 'layer4.2.bn2.bias', 'layer4.2.bn2.running_mean', 'layer4.2.bn2.running_var', 'layer4.2.bn2.num_batches_tracked', 'layer4.2.conv3.weight', 'layer4.2.bn3.weight', 'layer4.2.bn3.bias', 'layer4.2.bn3.running_mean', 'layer4.2.bn3.running_var', 'layer4.2.bn3.num_batches_tracked', 'fc.weight', 'fc.bias'])\n"
     ],
     "name": "stdout"
    }
   ]
  },
  {
   "cell_type": "markdown",
   "metadata": {
    "id": "PvBA05LZhGTv"
   },
   "source": [
    "Saving the model in the `lfs_data` directory"
   ]
  },
  {
   "cell_type": "code",
   "metadata": {
    "id": "KLh4cF5wC1Eh"
   },
   "source": [
    "torch.save(model, \"/content/resnet101_model.pt\")"
   ],
   "execution_count": null,
   "outputs": []
  },
  {
   "cell_type": "code",
   "metadata": {
    "id": "vUuLM04UMImD"
   },
   "source": [
    "!git add ."
   ],
   "execution_count": null,
   "outputs": []
  },
  {
   "cell_type": "code",
   "metadata": {
    "id": "b1GK0JwGGY4M",
    "colab": {
     "base_uri": "https://localhost:8080/"
    },
    "outputId": "177b9b11-2f24-49c8-a067-257816cf95ef"
   },
   "source": [
    "!git status"
   ],
   "execution_count": null,
   "outputs": [
    {
     "output_type": "stream",
     "text": [
      "On branch master\n",
      "Your branch is up to date with 'origin/master'.\n",
      "\n",
      "Changes to be committed:\n",
      "  (use \"git reset HEAD <file>...\" to unstage)\n",
      "\n",
      "\t\u001b[32mnew file:   lfs_data/resnet50_model.pt\u001b[m\n",
      "\n"
     ],
     "name": "stdout"
    }
   ]
  },
  {
   "cell_type": "markdown",
   "metadata": {
    "id": "ZKV8gAEc8HfH"
   },
   "source": [
    "`git lfs ls-files` shows the git LFS files that are found in the tree at the given reference."
   ]
  },
  {
   "cell_type": "code",
   "metadata": {
    "id": "KwD416Nq6x0B",
    "colab": {
     "base_uri": "https://localhost:8080/"
    },
    "outputId": "69cf2375-4e1a-47de-e15c-393e5d2dd498"
   },
   "source": [
    "!git lfs ls-files -all"
   ],
   "execution_count": null,
   "outputs": [
    {
     "output_type": "stream",
     "text": [
      "79058d2fcca26157361bb8687f949d84b914ff631ed7a7d4c9f1b3784fac3b61 * lfs_data/resnet50_model.pt\n",
      "6e04f4033b3f09f5fe1d15ca4903c4a37896cd4dea533ba76db71de8011dc045 - lfs_data/clip_model.pt\n"
     ],
     "name": "stdout"
    }
   ]
  },
  {
   "cell_type": "markdown",
   "metadata": {
    "id": "3CGtcuFOhQuJ"
   },
   "source": [
    "Now, we can just commit and push normally to save the changes."
   ]
  },
  {
   "cell_type": "code",
   "metadata": {
    "colab": {
     "base_uri": "https://localhost:8080/"
    },
    "id": "FZE2TfNyGlvD",
    "outputId": "db6f393e-f680-496d-dafb-779d2086601e"
   },
   "source": [
    "# Commit the changes\n",
    "cmd = 'git commit -m \"Resnet101(pre-trained) model\"'\n",
    "utils.git_ssh(cmd, email=email, username=username, verbose=True)"
   ],
   "execution_count": null,
   "outputs": [
    {
     "output_type": "stream",
     "text": [
      "executing command via ssh: git commit -m \"Resnet50(pre-trained) model\"\n",
      "Copying keys from gdrive to local VM\n",
      "Executing git commands\n",
      "Cleanup local VM\n"
     ],
     "name": "stdout"
    }
   ]
  },
  {
   "cell_type": "code",
   "metadata": {
    "colab": {
     "base_uri": "https://localhost:8080/"
    },
    "id": "cbw8Tz-NG3_N",
    "outputId": "830bfd59-124c-4431-8db1-1914c2158af5"
   },
   "source": [
    "# Push the changes to the remote branch\n",
    "remote_branch = \"master\"\n",
    "cmd = f\"git push -u origin {remote_branch}\"\n",
    "utils.git_ssh(cmd, email=email, username=username, verbose=True)"
   ],
   "execution_count": null,
   "outputs": [
    {
     "output_type": "stream",
     "text": [
      "executing command via ssh: git push -u origin master\n",
      "Copying keys from gdrive to local VM\n",
      "Executing git commands\n",
      "Cleanup local VM\n"
     ],
     "name": "stdout"
    }
   ]
  },
  {
   "cell_type": "markdown",
   "metadata": {
    "id": "z9t1RoHa70LO"
   },
   "source": [
    "Check the file in your repo in Github, you should see something like this."
   ]
  },
  {
   "cell_type": "markdown",
   "metadata": {
    "id": "l-BlP8Ky7v2F"
   },
   "source": [
    "![Screenshot 2021-07-07 at 5.55.58 PM.png](data:image/png;base64,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)"
   ]
  },
  {
   "cell_type": "markdown",
   "metadata": {
    "id": "2frohVUEZpyX"
   },
   "source": [
    "**Note: If you want to transfer already existing files in your git to LFS(or vice-versa) you should use `git lfs migrate` Refer to [docs](https://github.com/git-lfs/git-lfs/blob/main/docs/man/git-lfs-migrate.1.ronn)**"
   ]
  },
  {
   "cell_type": "markdown",
   "metadata": {
    "id": "eVPzqAgSt8YP"
   },
   "source": [
    "## Fetching LFS data"
   ]
  },
  {
   "cell_type": "markdown",
   "metadata": {
    "id": "t_yFLx9ric_Z"
   },
   "source": [
    "Reclone the repo, to test a demo of accessing LFS data."
   ]
  },
  {
   "cell_type": "code",
   "metadata": {
    "colab": {
     "base_uri": "https://localhost:8080/"
    },
    "id": "A21GaJA_nYFb",
    "outputId": "5f61ecca-a38c-4bea-fc1e-37645130152c"
   },
   "source": [
    "%cd /content/"
   ],
   "execution_count": null,
   "outputs": [
    {
     "output_type": "stream",
     "text": [
      "/content\n"
     ],
     "name": "stdout"
    }
   ]
  },
  {
   "cell_type": "code",
   "metadata": {
    "colab": {
     "base_uri": "https://localhost:8080/"
    },
    "id": "c8Jz72UKZ74s",
    "outputId": "97f9eb68-e4d5-4664-a00b-92830eccada7"
   },
   "source": [
    "!rm -rf $repo # remove any old copies of this directory\n",
    "cmd = f\"git clone https://github.com/{username}/{repo}.git\"\n",
    "utils.git_ssh(cmd, email=email, username=username, verbose=True)\n",
    "%cd /content/$repo"
   ],
   "execution_count": null,
   "outputs": [
    {
     "output_type": "stream",
     "text": [
      "executing command via ssh: git clone git@github.com:always-newbie161/LFS-data.git\n",
      "Copying keys from gdrive to local VM\n",
      "Executing git commands\n",
      "Cleanup local VM\n",
      "/content/LFS-data\n"
     ],
     "name": "stdout"
    }
   ]
  },
  {
   "cell_type": "code",
   "metadata": {
    "id": "mqdLjxxHqCUr"
   },
   "source": [
    "!git lfs ls-files --all"
   ],
   "execution_count": null,
   "outputs": []
  },
  {
   "cell_type": "markdown",
   "metadata": {
    "id": "JohizNwk9VP4"
   },
   "source": [
    "`lfs.fetchinclude` and `lfs.fetchexclude` can be used to set the config to control what lfs files to fetch and what to ignore.\n",
    "\n",
    "Here we are including only the `.pt` files in `lfs_data` directory."
   ]
  },
  {
   "cell_type": "code",
   "metadata": {
    "id": "5h-wnushrZZ0"
   },
   "source": [
    "!git config lfs.fetchinclude \"lfs_data/*.pt\""
   ],
   "execution_count": null,
   "outputs": []
  },
  {
   "cell_type": "markdown",
   "metadata": {
    "id": "wY_lIY7g8mLw"
   },
   "source": [
    "`git lfs pull` downloads the git LFS objects and updates the current working tree with these files (by default pull downloads from the default remote(origin here)).\n",
    "\n",
    "Note: you have `git lfs pull` to access the LFS objects in your local rpeository."
   ]
  },
  {
   "cell_type": "code",
   "metadata": {
    "id": "MDlAWWvprp10",
    "colab": {
     "base_uri": "https://localhost:8080/"
    },
    "outputId": "6258ebc2-435f-42cb-c60e-e1a62be5f4db"
   },
   "source": [
    "cmd = \"git lfs pull\"\n",
    "utils.git_ssh(cmd, email=email, username=username, verbose=True)"
   ],
   "execution_count": null,
   "outputs": [
    {
     "output_type": "stream",
     "text": [
      "executing command via ssh: git lfs pull\n",
      "Copying keys from gdrive to local VM\n",
      "Executing git commands\n",
      "Cleanup local VM\n"
     ],
     "name": "stdout"
    }
   ]
  },
  {
   "cell_type": "markdown",
   "metadata": {
    "id": "U_1hHco-jXJD"
   },
   "source": [
    "### Loading the model"
   ]
  },
  {
   "cell_type": "code",
   "metadata": {
    "id": "9OOjz5zts2aE"
   },
   "source": [
    "import torch\n",
    "\n",
    "model = torch.load(f\"/content/{repo}/lfs_data/resnet101_model.pt\")"
   ],
   "execution_count": null,
   "outputs": []
  },
  {
   "cell_type": "code",
   "metadata": {
    "colab": {
     "base_uri": "https://localhost:8080/"
    },
    "id": "JeVmyV8p7TNu",
    "outputId": "33b89c7c-3ed6-4e38-86f6-552059842e56"
   },
   "source": [
    "print(model.state_dict().keys())"
   ],
   "execution_count": null,
   "outputs": [
    {
     "output_type": "stream",
     "text": [
      "odict_keys(['conv1.weight', 'bn1.weight', 'bn1.bias', 'bn1.running_mean', 'bn1.running_var', 'bn1.num_batches_tracked', 'layer1.0.conv1.weight', 'layer1.0.bn1.weight', 'layer1.0.bn1.bias', 'layer1.0.bn1.running_mean', 'layer1.0.bn1.running_var', 'layer1.0.bn1.num_batches_tracked', 'layer1.0.conv2.weight', 'layer1.0.bn2.weight', 'layer1.0.bn2.bias', 'layer1.0.bn2.running_mean', 'layer1.0.bn2.running_var', 'layer1.0.bn2.num_batches_tracked', 'layer1.0.conv3.weight', 'layer1.0.bn3.weight', 'layer1.0.bn3.bias', 'layer1.0.bn3.running_mean', 'layer1.0.bn3.running_var', 'layer1.0.bn3.num_batches_tracked', 'layer1.0.downsample.0.weight', 'layer1.0.downsample.1.weight', 'layer1.0.downsample.1.bias', 'layer1.0.downsample.1.running_mean', 'layer1.0.downsample.1.running_var', 'layer1.0.downsample.1.num_batches_tracked', 'layer1.1.conv1.weight', 'layer1.1.bn1.weight', 'layer1.1.bn1.bias', 'layer1.1.bn1.running_mean', 'layer1.1.bn1.running_var', 'layer1.1.bn1.num_batches_tracked', 'layer1.1.conv2.weight', 'layer1.1.bn2.weight', 'layer1.1.bn2.bias', 'layer1.1.bn2.running_mean', 'layer1.1.bn2.running_var', 'layer1.1.bn2.num_batches_tracked', 'layer1.1.conv3.weight', 'layer1.1.bn3.weight', 'layer1.1.bn3.bias', 'layer1.1.bn3.running_mean', 'layer1.1.bn3.running_var', 'layer1.1.bn3.num_batches_tracked', 'layer1.2.conv1.weight', 'layer1.2.bn1.weight', 'layer1.2.bn1.bias', 'layer1.2.bn1.running_mean', 'layer1.2.bn1.running_var', 'layer1.2.bn1.num_batches_tracked', 'layer1.2.conv2.weight', 'layer1.2.bn2.weight', 'layer1.2.bn2.bias', 'layer1.2.bn2.running_mean', 'layer1.2.bn2.running_var', 'layer1.2.bn2.num_batches_tracked', 'layer1.2.conv3.weight', 'layer1.2.bn3.weight', 'layer1.2.bn3.bias', 'layer1.2.bn3.running_mean', 'layer1.2.bn3.running_var', 'layer1.2.bn3.num_batches_tracked', 'layer2.0.conv1.weight', 'layer2.0.bn1.weight', 'layer2.0.bn1.bias', 'layer2.0.bn1.running_mean', 'layer2.0.bn1.running_var', 'layer2.0.bn1.num_batches_tracked', 'layer2.0.conv2.weight', 'layer2.0.bn2.weight', 'layer2.0.bn2.bias', 'layer2.0.bn2.running_mean', 'layer2.0.bn2.running_var', 'layer2.0.bn2.num_batches_tracked', 'layer2.0.conv3.weight', 'layer2.0.bn3.weight', 'layer2.0.bn3.bias', 'layer2.0.bn3.running_mean', 'layer2.0.bn3.running_var', 'layer2.0.bn3.num_batches_tracked', 'layer2.0.downsample.0.weight', 'layer2.0.downsample.1.weight', 'layer2.0.downsample.1.bias', 'layer2.0.downsample.1.running_mean', 'layer2.0.downsample.1.running_var', 'layer2.0.downsample.1.num_batches_tracked', 'layer2.1.conv1.weight', 'layer2.1.bn1.weight', 'layer2.1.bn1.bias', 'layer2.1.bn1.running_mean', 'layer2.1.bn1.running_var', 'layer2.1.bn1.num_batches_tracked', 'layer2.1.conv2.weight', 'layer2.1.bn2.weight', 'layer2.1.bn2.bias', 'layer2.1.bn2.running_mean', 'layer2.1.bn2.running_var', 'layer2.1.bn2.num_batches_tracked', 'layer2.1.conv3.weight', 'layer2.1.bn3.weight', 'layer2.1.bn3.bias', 'layer2.1.bn3.running_mean', 'layer2.1.bn3.running_var', 'layer2.1.bn3.num_batches_tracked', 'layer2.2.conv1.weight', 'layer2.2.bn1.weight', 'layer2.2.bn1.bias', 'layer2.2.bn1.running_mean', 'layer2.2.bn1.running_var', 'layer2.2.bn1.num_batches_tracked', 'layer2.2.conv2.weight', 'layer2.2.bn2.weight', 'layer2.2.bn2.bias', 'layer2.2.bn2.running_mean', 'layer2.2.bn2.running_var', 'layer2.2.bn2.num_batches_tracked', 'layer2.2.conv3.weight', 'layer2.2.bn3.weight', 'layer2.2.bn3.bias', 'layer2.2.bn3.running_mean', 'layer2.2.bn3.running_var', 'layer2.2.bn3.num_batches_tracked', 'layer2.3.conv1.weight', 'layer2.3.bn1.weight', 'layer2.3.bn1.bias', 'layer2.3.bn1.running_mean', 'layer2.3.bn1.running_var', 'layer2.3.bn1.num_batches_tracked', 'layer2.3.conv2.weight', 'layer2.3.bn2.weight', 'layer2.3.bn2.bias', 'layer2.3.bn2.running_mean', 'layer2.3.bn2.running_var', 'layer2.3.bn2.num_batches_tracked', 'layer2.3.conv3.weight', 'layer2.3.bn3.weight', 'layer2.3.bn3.bias', 'layer2.3.bn3.running_mean', 'layer2.3.bn3.running_var', 'layer2.3.bn3.num_batches_tracked', 'layer3.0.conv1.weight', 'layer3.0.bn1.weight', 'layer3.0.bn1.bias', 'layer3.0.bn1.running_mean', 'layer3.0.bn1.running_var', 'layer3.0.bn1.num_batches_tracked', 'layer3.0.conv2.weight', 'layer3.0.bn2.weight', 'layer3.0.bn2.bias', 'layer3.0.bn2.running_mean', 'layer3.0.bn2.running_var', 'layer3.0.bn2.num_batches_tracked', 'layer3.0.conv3.weight', 'layer3.0.bn3.weight', 'layer3.0.bn3.bias', 'layer3.0.bn3.running_mean', 'layer3.0.bn3.running_var', 'layer3.0.bn3.num_batches_tracked', 'layer3.0.downsample.0.weight', 'layer3.0.downsample.1.weight', 'layer3.0.downsample.1.bias', 'layer3.0.downsample.1.running_mean', 'layer3.0.downsample.1.running_var', 'layer3.0.downsample.1.num_batches_tracked', 'layer3.1.conv1.weight', 'layer3.1.bn1.weight', 'layer3.1.bn1.bias', 'layer3.1.bn1.running_mean', 'layer3.1.bn1.running_var', 'layer3.1.bn1.num_batches_tracked', 'layer3.1.conv2.weight', 'layer3.1.bn2.weight', 'layer3.1.bn2.bias', 'layer3.1.bn2.running_mean', 'layer3.1.bn2.running_var', 'layer3.1.bn2.num_batches_tracked', 'layer3.1.conv3.weight', 'layer3.1.bn3.weight', 'layer3.1.bn3.bias', 'layer3.1.bn3.running_mean', 'layer3.1.bn3.running_var', 'layer3.1.bn3.num_batches_tracked', 'layer3.2.conv1.weight', 'layer3.2.bn1.weight', 'layer3.2.bn1.bias', 'layer3.2.bn1.running_mean', 'layer3.2.bn1.running_var', 'layer3.2.bn1.num_batches_tracked', 'layer3.2.conv2.weight', 'layer3.2.bn2.weight', 'layer3.2.bn2.bias', 'layer3.2.bn2.running_mean', 'layer3.2.bn2.running_var', 'layer3.2.bn2.num_batches_tracked', 'layer3.2.conv3.weight', 'layer3.2.bn3.weight', 'layer3.2.bn3.bias', 'layer3.2.bn3.running_mean', 'layer3.2.bn3.running_var', 'layer3.2.bn3.num_batches_tracked', 'layer3.3.conv1.weight', 'layer3.3.bn1.weight', 'layer3.3.bn1.bias', 'layer3.3.bn1.running_mean', 'layer3.3.bn1.running_var', 'layer3.3.bn1.num_batches_tracked', 'layer3.3.conv2.weight', 'layer3.3.bn2.weight', 'layer3.3.bn2.bias', 'layer3.3.bn2.running_mean', 'layer3.3.bn2.running_var', 'layer3.3.bn2.num_batches_tracked', 'layer3.3.conv3.weight', 'layer3.3.bn3.weight', 'layer3.3.bn3.bias', 'layer3.3.bn3.running_mean', 'layer3.3.bn3.running_var', 'layer3.3.bn3.num_batches_tracked', 'layer3.4.conv1.weight', 'layer3.4.bn1.weight', 'layer3.4.bn1.bias', 'layer3.4.bn1.running_mean', 'layer3.4.bn1.running_var', 'layer3.4.bn1.num_batches_tracked', 'layer3.4.conv2.weight', 'layer3.4.bn2.weight', 'layer3.4.bn2.bias', 'layer3.4.bn2.running_mean', 'layer3.4.bn2.running_var', 'layer3.4.bn2.num_batches_tracked', 'layer3.4.conv3.weight', 'layer3.4.bn3.weight', 'layer3.4.bn3.bias', 'layer3.4.bn3.running_mean', 'layer3.4.bn3.running_var', 'layer3.4.bn3.num_batches_tracked', 'layer3.5.conv1.weight', 'layer3.5.bn1.weight', 'layer3.5.bn1.bias', 'layer3.5.bn1.running_mean', 'layer3.5.bn1.running_var', 'layer3.5.bn1.num_batches_tracked', 'layer3.5.conv2.weight', 'layer3.5.bn2.weight', 'layer3.5.bn2.bias', 'layer3.5.bn2.running_mean', 'layer3.5.bn2.running_var', 'layer3.5.bn2.num_batches_tracked', 'layer3.5.conv3.weight', 'layer3.5.bn3.weight', 'layer3.5.bn3.bias', 'layer3.5.bn3.running_mean', 'layer3.5.bn3.running_var', 'layer3.5.bn3.num_batches_tracked', 'layer4.0.conv1.weight', 'layer4.0.bn1.weight', 'layer4.0.bn1.bias', 'layer4.0.bn1.running_mean', 'layer4.0.bn1.running_var', 'layer4.0.bn1.num_batches_tracked', 'layer4.0.conv2.weight', 'layer4.0.bn2.weight', 'layer4.0.bn2.bias', 'layer4.0.bn2.running_mean', 'layer4.0.bn2.running_var', 'layer4.0.bn2.num_batches_tracked', 'layer4.0.conv3.weight', 'layer4.0.bn3.weight', 'layer4.0.bn3.bias', 'layer4.0.bn3.running_mean', 'layer4.0.bn3.running_var', 'layer4.0.bn3.num_batches_tracked', 'layer4.0.downsample.0.weight', 'layer4.0.downsample.1.weight', 'layer4.0.downsample.1.bias', 'layer4.0.downsample.1.running_mean', 'layer4.0.downsample.1.running_var', 'layer4.0.downsample.1.num_batches_tracked', 'layer4.1.conv1.weight', 'layer4.1.bn1.weight', 'layer4.1.bn1.bias', 'layer4.1.bn1.running_mean', 'layer4.1.bn1.running_var', 'layer4.1.bn1.num_batches_tracked', 'layer4.1.conv2.weight', 'layer4.1.bn2.weight', 'layer4.1.bn2.bias', 'layer4.1.bn2.running_mean', 'layer4.1.bn2.running_var', 'layer4.1.bn2.num_batches_tracked', 'layer4.1.conv3.weight', 'layer4.1.bn3.weight', 'layer4.1.bn3.bias', 'layer4.1.bn3.running_mean', 'layer4.1.bn3.running_var', 'layer4.1.bn3.num_batches_tracked', 'layer4.2.conv1.weight', 'layer4.2.bn1.weight', 'layer4.2.bn1.bias', 'layer4.2.bn1.running_mean', 'layer4.2.bn1.running_var', 'layer4.2.bn1.num_batches_tracked', 'layer4.2.conv2.weight', 'layer4.2.bn2.weight', 'layer4.2.bn2.bias', 'layer4.2.bn2.running_mean', 'layer4.2.bn2.running_var', 'layer4.2.bn2.num_batches_tracked', 'layer4.2.conv3.weight', 'layer4.2.bn3.weight', 'layer4.2.bn3.bias', 'layer4.2.bn3.running_mean', 'layer4.2.bn3.running_var', 'layer4.2.bn3.num_batches_tracked', 'fc.weight', 'fc.bias'])\n"
     ],
     "name": "stdout"
    }
   ]
  }
 ]
}