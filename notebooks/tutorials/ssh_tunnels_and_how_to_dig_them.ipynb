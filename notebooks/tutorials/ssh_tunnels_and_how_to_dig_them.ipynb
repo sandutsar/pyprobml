{
 "nbformat": 4,
 "nbformat_minor": 0,
 "metadata": {
  "colab": {
   "name": "ssh_tunnels_and_how_to_dig_them.ipynb",
   "provenance": [],
   "collapsed_sections": [],
   "machine_shape": "hm",
   "include_colab_link": true
  },
  "kernelspec": {
   "name": "python3",
   "display_name": "Python 3"
  },
  "language_info": {
   "name": "python"
  },
  "accelerator": "GPU"
 },
 "cells": [
  {
   "cell_type": "markdown",
   "metadata": {
    "id": "view-in-github",
    "colab_type": "text"
   },
   "source": [
    "<a href=\"https://colab.research.google.com/github/probml/probml-notebooks/blob/main/notebooks/ssh_tunnels_and_how_to_dig_them.ipynb\" target=\"_parent\"><img src=\"https://colab.research.google.com/assets/colab-badge.svg\" alt=\"Open In Colab\"/></a>"
   ]
  },
  {
   "cell_type": "markdown",
   "metadata": {
    "id": "NMLDAnET7tTh"
   },
   "source": [
    "# Introduction"
   ]
  },
  {
   "cell_type": "markdown",
   "metadata": {
    "id": "ilryC0Hc7VAC"
   },
   "source": [
    "Secure SHell protocol (or ssh) is a very useful protocol that enables users to execute shell commands on remote hosts. Today this powers a slew of IDEs to enable \"remote development\" (i.e. you write code on a thin client, and execute the code on a massive server)."
   ]
  },
  {
   "cell_type": "markdown",
   "metadata": {
    "id": "M7lNjx0B7xfv"
   },
   "source": [
    "# Scenario 1: VSCode to Colab"
   ]
  },
  {
   "cell_type": "markdown",
   "metadata": {
    "id": "I87nrN9CQ-wJ"
   },
   "source": [
    "## Check VM type and resources"
   ]
  },
  {
   "cell_type": "code",
   "metadata": {
    "id": "yfynSjH6OCeI",
    "colab": {
     "base_uri": "https://localhost:8080/"
    },
    "outputId": "c79f67eb-0889-47e3-f75f-5c5b23fe5942"
   },
   "source": [
    "!nvidia-smi\n",
    "!apt install htop >/dev/null"
   ],
   "execution_count": null,
   "outputs": [
    {
     "output_type": "stream",
     "text": [
      "Fri Aug 27 16:09:56 2021       \n",
      "+-----------------------------------------------------------------------------+\n",
      "| NVIDIA-SMI 470.57.02    Driver Version: 460.32.03    CUDA Version: 11.2     |\n",
      "|-------------------------------+----------------------+----------------------+\n",
      "| GPU  Name        Persistence-M| Bus-Id        Disp.A | Volatile Uncorr. ECC |\n",
      "| Fan  Temp  Perf  Pwr:Usage/Cap|         Memory-Usage | GPU-Util  Compute M. |\n",
      "|                               |                      |               MIG M. |\n",
      "|===============================+======================+======================|\n",
      "|   0  Tesla V100-SXM2...  Off  | 00000000:00:04.0 Off |                    0 |\n",
      "| N/A   35C    P0    23W / 300W |      0MiB / 16160MiB |      0%      Default |\n",
      "|                               |                      |                  N/A |\n",
      "+-------------------------------+----------------------+----------------------+\n",
      "                                                                               \n",
      "+-----------------------------------------------------------------------------+\n",
      "| Processes:                                                                  |\n",
      "|  GPU   GI   CI        PID   Type   Process name                  GPU Memory |\n",
      "|        ID   ID                                                   Usage      |\n",
      "|=============================================================================|\n",
      "|  No running processes found                                                 |\n",
      "+-----------------------------------------------------------------------------+\n",
      "\n",
      "WARNING: apt does not have a stable CLI interface. Use with caution in scripts.\n",
      "\n"
     ],
     "name": "stdout"
    }
   ]
  },
  {
   "cell_type": "markdown",
   "metadata": {
    "id": "kBJ2gyc1RI18"
   },
   "source": [
    "## Install colab-ssh"
   ]
  },
  {
   "cell_type": "code",
   "metadata": {
    "id": "508tqLE57Drs",
    "colab": {
     "base_uri": "https://localhost:8080/",
     "height": 325
    },
    "outputId": "effc8382-0177-46d5-f0e2-e8bcdd8fb32c"
   },
   "source": [
    "%%time\n",
    "# Install colab_ssh on google colab\n",
    "!pip install colab_ssh --upgrade\n",
    "\n",
    "from colab_ssh import launch_ssh_cloudflared, init_git_cloudflared\n",
    "\n",
    "ssh_tunnel_password = \"password\"  # @param {type: \"string\"}\n",
    "launch_ssh_cloudflared(password=ssh_tunnel_password)"
   ],
   "execution_count": null,
   "outputs": [
    {
     "output_type": "stream",
     "text": [
      "Collecting colab_ssh\n",
      "  Downloading colab_ssh-0.3.20-py3-none-any.whl (26 kB)\n",
      "Installing collected packages: colab-ssh\n",
      "Successfully installed colab-ssh-0.3.20\n"
     ],
     "name": "stdout"
    },
    {
     "output_type": "display_data",
     "data": {
      "text/html": [
       "<style>\n",
       "*{\n",
       "\toutline:none;\n",
       "}\n",
       "code{\n",
       "\tdisplay:inline-block;\n",
       "\tpadding:5px 10px;\n",
       "\tbackground: #444;\n",
       "\tborder-radius: 4px;\n",
       "\twhite-space: pre-wrap;\n",
       "\tposition:relative;\n",
       "\tcolor:white;\n",
       "}\n",
       ".copy-code-button{\n",
       "\tfloat:right;\n",
       "\tbackground:#333;\n",
       "\tcolor:white;\n",
       "\tborder: none;\n",
       "\tmargin: 0 0 0 10px;\n",
       "\tcursor: pointer;\n",
       "}\n",
       "p, li{\n",
       "\tmax-width:700px;\n",
       "}\n",
       ".choices{\n",
       "\tdisplay:flex;\n",
       "\tflex: 1 0 auto;\n",
       "}\n",
       ".choice-section{\n",
       "\tborder:solid 1px #555;\n",
       "\tborder-radius: 4px;\n",
       "\tmin-width:300px;\n",
       "\tmargin: 10px 15px 0 0;\n",
       "\tpadding: 0 15px 15px 15px ;\n",
       "}\n",
       ".button{\n",
       "\tpadding: 10px 15px;\n",
       "\tbackground:#333;\n",
       "\tborder-radius: 4px;\n",
       "\tborder:solid 1px #555;\n",
       "\tcolor:white;\n",
       "\tfont-weight:bold;\n",
       "\tcursor:pointer;\n",
       "}\n",
       ".pill{\n",
       "\tpadding:2px 4px;\n",
       "\tborder-radius: 100px;\n",
       "\tbackground-color:#e65858;\n",
       "\tfont-size:12px;\n",
       "\tfont-weight:bold;\n",
       "\tmargin: 0 15px;\n",
       "\tcolor:white;\n",
       "}\n",
       "</style>\n",
       "<details class=\"choice-section\">\n",
       "\t<summary style=\"cursor:pointer\">\n",
       "\t\t<h3 style=\"display:inline-block;margin-top:15px\">⚙️ Client machine configuration<span class=\"pill\">Required</span></h3>\n",
       "\t</summary>\n",
       "\t<p>Don't worry, you only have to do this <b>once per client machine</b>.</p>\n",
       "\t<ol>\n",
       "\t\t<li>Download <a href=\"https://developers.cloudflare.com/argo-tunnel/getting-started/installation\">Cloudflared (Argo Tunnel)</a>, then copy the absolute path to the cloudflare binary</li>\n",
       "\t\t<li>Now, you have to append the following to your SSH config file (usually under ~/.ssh/config):</li>\n",
       "\t</ol>\n",
       "\t<code>Host *.trycloudflare.com\n",
       "\tHostName %h\n",
       "\tUser root\n",
       "\tPort 22\n",
       "\tProxyCommand &ltPUT_THE_ABSOLUTE_CLOUDFLARE_PATH_HERE&gt access ssh --hostname %h\n",
       "\t</code>\n",
       "</details>\n",
       "<div class=\"choices\">\n",
       "\t<div class=\"choice-section\">\n",
       "\t\t<h4>SSH Terminal</h4>\n",
       "\t\t<p>To connect using your terminal, type this command:</p>\n",
       "\t\t<code>ssh bonds-turbo-ghost-who.trycloudflare.com</code>\n",
       "\t</div>\n",
       "\t<div class=\"choice-section\">\n",
       "\t\t<h4>VSCode Remote SSH</h4>\n",
       "\t\t<p>You can also connect with VSCode Remote SSH (Ctrl+Shift+P and type \"Connect to Host...\"). Then, paste the following hostname in the opened command palette:</p>\n",
       "\t\t<code>bonds-turbo-ghost-who.trycloudflare.com</code>\n",
       "\t</div>\n",
       "</div>\n",
       "\n",
       "<script>\n",
       "// Copy any string\n",
       "function fallbackCopyTextToClipboard(text) {\n",
       "  var textArea = document.createElement(\"textarea\");\n",
       "  textArea.value = text;\n",
       "  \n",
       "  // Avoid scrolling to bottom\n",
       "  textArea.style.top = \"0\";\n",
       "  textArea.style.left = \"0\";\n",
       "  textArea.style.position = \"fixed\";\n",
       "\n",
       "  document.body.appendChild(textArea);\n",
       "  textArea.focus();\n",
       "  textArea.select();\n",
       "\n",
       "  try {\n",
       "    var successful = document.execCommand('copy');\n",
       "    var msg = successful ? 'successful' : 'unsuccessful';\n",
       "    console.log('Fallback: Copying text command was ' + msg);\n",
       "  } catch (err) {\n",
       "    console.error('Fallback: Oops, unable to copy', err);\n",
       "  }\n",
       "\n",
       "  document.body.removeChild(textArea);\n",
       "}\n",
       "\n",
       "// Show the copy button with every code tag\n",
       "document.querySelectorAll('code').forEach(function (codeBlock) {\n",
       "\tconst codeToCopy= codeBlock.innerText;\n",
       "\tvar pre = document.createElement('pre');\n",
       "\tpre.innerText = codeToCopy;\n",
       "    var button = document.createElement('button');\n",
       "    button.className = 'copy-code-button';\n",
       "    button.type = 'button';\n",
       "    button.innerText = 'Copy';\n",
       "\tbutton.onclick = function(){\n",
       "\t\tfallbackCopyTextToClipboard(codeToCopy);\n",
       "\t\tbutton.innerText = 'Copied'\n",
       "\t\tsetTimeout(()=>{\n",
       "\t\t\tbutton.innerText = 'Copy'\n",
       "\t\t},2000)\n",
       "\t}\n",
       "\tcodeBlock.children = pre;\n",
       "\tcodeBlock.prepend(button)\n",
       "});\n",
       "</script>"
      ],
      "text/plain": [
       "<IPython.core.display.HTML object>"
      ]
     },
     "metadata": {}
    },
    {
     "output_type": "stream",
     "text": [
      "CPU times: user 1.42 s, sys: 138 ms, total: 1.56 s\n",
      "Wall time: 27.3 s\n"
     ],
     "name": "stdout"
    }
   ]
  },
  {
   "cell_type": "markdown",
   "metadata": {
    "id": "TLtWT8vn-Eyh"
   },
   "source": [
    "# Scenario 2: VSCode or PyCharm to a gcloud VM"
   ]
  },
  {
   "cell_type": "markdown",
   "metadata": {
    "id": "Q72GLf-p-TtZ"
   },
   "source": [
    "Steps:\n",
    "\n",
    "\n",
    "1.   Create an [ssh key](https://docs.github.com/en/github/authenticating-to-github/connecting-to-github-with-ssh/generating-a-new-ssh-key-and-adding-it-to-the-ssh-agent). \n",
    "2.   Copy the public key (*.pub) content to your project [meta-data](https://console.cloud.google.com/compute/metadata/sshKeys).\n",
    "3.   Now you can ssh directly to your vm.\n",
    "\n",
    "4.   Add the below example config to your ~/.ssh/config (this is a macOS example config file, you can refer to your ssh client manual on how to link your key file and define the host names).\n",
    "\n",
    "```bash\n",
    "Host *\n",
    "  AddKeysToAgent yes\n",
    "  UseKeychain yes\n",
    "  IdentityFile ~/.ssh/id_ed25519 \n",
    "Host <EXTERNAL_IP_ADDRESS>\n",
    "  HostName <EXTERNAL_IP_ADDRESS>\n",
    "  User <YOUR_USER_NAME>\n",
    "```\n",
    "5.   If you are using VSCode, [this](https://code.visualstudio.com/docs/remote/ssh) help page is very useful. Also VSCode has a \"remote++\" experience, because it installs a \"VSCode server\" on the remote machine to take it even further than the standard ssh. The below figure from the microsoft help article illustrates the architecture of the system that enables the remote development experience for VSCode.\n",
    "<img src=\"https://code.visualstudio.com/assets/docs/remote/ssh/architecture-ssh.png\">\n",
    "\n",
    "6.   If you are using PyCharm, [this](https://www.jetbrains.com/help/pycharm/configuring-remote-interpreters-via-ssh.html#prereq) help page is very useful. PyCharm supports a concept called \"remote interpreters via ssh. It makes remote development possible but VSCode provides a richer experience.\n",
    "\n",
    "\n",
    "\n"
   ]
  }
 ]
}