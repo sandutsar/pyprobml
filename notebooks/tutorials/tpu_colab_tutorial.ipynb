{
 "nbformat": 4,
 "nbformat_minor": 0,
 "metadata": {
  "colab": {
   "name": "tpu-colab-tutorial.ipynb",
   "provenance": [],
   "collapsed_sections": [],
   "toc_visible": true
  },
  "kernelspec": {
   "display_name": "Python 3 (ipykernel)",
   "language": "python",
   "name": "python3"
  },
  "language_info": {
   "codemirror_mode": {
    "name": "ipython",
    "version": 3
   },
   "file_extension": ".py",
   "mimetype": "text/x-python",
   "name": "python",
   "nbconvert_exporter": "python",
   "pygments_lexer": "ipython3",
   "version": "3.9.6"
  }
 },
 "cells": [
  {
   "cell_type": "markdown",
   "metadata": {
    "id": "IKu4IVYuxRaj"
   },
   "source": [
    "# Running JAX on Cloud TPU VMs from Colab\n",
    "**Authors**\n",
    "\n",
    "* Gerardo Durán-Martín\n",
    "* Mahmoud Soliman\n",
    "* Kevin Murphy"
   ]
  },
  {
   "cell_type": "markdown",
   "metadata": {
    "id": "vTABRcvA7NOV"
   },
   "source": [
    "# Define some global variables"
   ]
  },
  {
   "cell_type": "markdown",
   "metadata": {
    "id": "rg6-m18t7SKM"
   },
   "source": [
    "We create a `commands.sh` file that defines some macros.\n",
    "**Edit the values in this file to match your credentials**.\n",
    "\n",
    "This file must be called in every cell below that begins with `%%bash` "
   ]
  },
  {
   "cell_type": "code",
   "metadata": {
    "id": "hz_WY2_h7fSo"
   },
   "source": [
    "--command=\"pip install 'jax[tpu]>=0.2.16' -f https://storage.googleapis.com/jax-releases/libtpu_releases.html\""
   ],
   "execution_count": null,
   "outputs": []
  },
  {
   "cell_type": "code",
   "metadata": {
    "id": "N3kSTM4e7PeI"
   },
   "source": [
    "%%writefile commands.sh\n",
    "gcloud=\"/root/google-cloud-sdk/bin/gcloud\"\n",
    "gtpu=\"gcloud alpha compute tpus tpu-vm\"\n",
    "jax_install=\"pip install 'jax[tpu]>=0.2.16' -f https://storage.googleapis.com/jax-releases/libtpu_releases.html\"\n",
    "\n",
    "# edit lines below\n",
    "\n",
    "#instance_name=\"murphyk-v3-8\" \n",
    "#tpu_zone=\"us-central1-a\" \n",
    "#accelerator_type=\"v3-8\"\n",
    "\n",
    "instance_name=\"murphyk-tpu\" \n",
    "tpu_zone=\"us-east1-d\"\n",
    "accelerator_type=\"v3-32\""
   ],
   "execution_count": null,
   "outputs": []
  },
  {
   "cell_type": "markdown",
   "metadata": {
    "id": "cVs0aV9e3G7F"
   },
   "source": [
    "# Setup GCP"
   ]
  },
  {
   "cell_type": "markdown",
   "metadata": {
    "id": "rSC4o4M6Wxc5"
   },
   "source": [
    " First we authenticate GCP to our current session"
   ]
  },
  {
   "cell_type": "code",
   "metadata": {
    "id": "gbQ4xcYrOVzl"
   },
   "source": [
    "from google.colab import auth\n",
    "\n",
    "auth.authenticate_user()"
   ],
   "execution_count": 1,
   "outputs": []
  },
  {
   "cell_type": "markdown",
   "metadata": {
    "id": "IuKMgyQSXICm"
   },
   "source": [
    " Next, we install GCloud SDK"
   ]
  },
  {
   "cell_type": "code",
   "metadata": {
    "id": "LOnrbTH7XO4O"
   },
   "source": [
    "%%capture\n",
    "!curl -S https://sdk.cloud.google.com  | bash"
   ],
   "execution_count": 2,
   "outputs": []
  },
  {
   "cell_type": "markdown",
   "metadata": {
    "id": "xEDGVNT9zdef"
   },
   "source": [
    "Now we install the gcloud command line interface\n",
    " This will allow us to work with TPUs at Google cloud. Run the following command"
   ]
  },
  {
   "cell_type": "code",
   "metadata": {
    "colab": {
     "base_uri": "https://localhost:8080/"
    },
    "id": "FrXfY-WhRONk",
    "outputId": "365c73e7-03cd-4859-805b-885a4fb3f140"
   },
   "source": [
    "%%bash\n",
    "source /content/commands.sh\n",
    "\n",
    "$gcloud components install alpha"
   ],
   "execution_count": 7,
   "outputs": [
    {
     "output_type": "stream",
     "name": "stderr",
     "text": [
      "\n",
      "All components are up to date.\n"
     ]
    }
   ]
  },
  {
   "cell_type": "markdown",
   "metadata": {
    "id": "Zk33hqJtYeRz"
   },
   "source": [
    "Next, we set the project to `probml` "
   ]
  },
  {
   "cell_type": "code",
   "metadata": {
    "id": "nAhn8jntYmnd",
    "colab": {
     "base_uri": "https://localhost:8080/"
    },
    "outputId": "58513b41-cdc4-4ba6-d4bd-670389c4190f"
   },
   "source": [
    "%%bash\n",
    "source /content/commands.sh\n",
    "\n",
    "$gcloud config set project probml"
   ],
   "execution_count": 8,
   "outputs": [
    {
     "output_type": "stream",
     "name": "stderr",
     "text": [
      "Updated property [core/project].\n"
     ]
    }
   ]
  },
  {
   "cell_type": "markdown",
   "metadata": {
    "id": "dlq-_S2KYoKr"
   },
   "source": [
    "- Verify installation\n",
    "\n",
    "Finally, we verify that you've successfully installed `gcloud alpha` by running the following command. Make sure to have version `alpha 2021.06.25` or later."
   ]
  },
  {
   "cell_type": "code",
   "metadata": {
    "colab": {
     "base_uri": "https://localhost:8080/"
    },
    "id": "wGpoCBwTY9k5",
    "outputId": "12add37f-6485-4e76-fbe8-6b999713d3e7"
   },
   "source": [
    "%%bash\n",
    "source /content/commands.sh\n",
    "\n",
    "$gcloud -v "
   ],
   "execution_count": 9,
   "outputs": [
    {
     "output_type": "stream",
     "name": "stdout",
     "text": [
      "Google Cloud SDK 358.0.0\n",
      "alpha 2021.09.17\n",
      "bq 2.0.71\n",
      "core 2021.09.17\n",
      "gsutil 4.68\n"
     ]
    }
   ]
  },
  {
   "cell_type": "markdown",
   "metadata": {
    "id": "KZnbePahZHfw"
   },
   "source": [
    "# Setup TPUs\n",
    "\n"
   ]
  },
  {
   "cell_type": "markdown",
   "metadata": {
    "id": "F4vE-BUTaFa7"
   },
   "source": [
    "### Creating an instance\n",
    "\n",
    "Each GSoC member obtains 8 v3-32 cores (or a Slice) when following the instructions outlined below.\n",
    "\n",
    "To create our first TPU instance, we run the following command. Note that `instance_name` should be unique (it was defined at the top of this tutorial)"
   ]
  },
  {
   "cell_type": "code",
   "metadata": {
    "colab": {
     "base_uri": "https://localhost:8080/"
    },
    "id": "z_r9Eyti0toh",
    "outputId": "0aecba1a-9761-4237-8df4-cc1d70fd8cbc"
   },
   "source": [
    "%%bash\n",
    "source /content/commands.sh\n",
    "$gtpu create $instance_name \\\n",
    "    --accelerator-type  $accelerator_type \\\n",
    "    --version v2-alpha \\\n",
    "    --zone $tpu_zone"
   ],
   "execution_count": 10,
   "outputs": [
    {
     "output_type": "stream",
     "name": "stderr",
     "text": [
      "ERROR: (gcloud.alpha.compute.tpus.tpu-vm.create) INVALID_ARGUMENT: Cloud TPU received a bad request. the accelerator v3-8 was not found in zone us-east1-d [EID: 0x72c898a0fe1c2eef]\n"
     ]
    }
   ]
  },
  {
   "cell_type": "markdown",
   "metadata": {
    "id": "-X3e-AwvZgDV"
   },
   "source": [
    "You can verify whether your instance has been created by running the following cell"
   ]
  },
  {
   "cell_type": "code",
   "metadata": {
    "colab": {
     "base_uri": "https://localhost:8080/"
    },
    "id": "dg49Jo99OzOM",
    "outputId": "be30cda3-3a36-4c25-a554-bbf2b0d60864"
   },
   "source": [
    "%%bash\n",
    "source /content/commands.sh\n",
    "$gcloud alpha compute tpus list --zone $tpu_zone"
   ],
   "execution_count": 11,
   "outputs": [
    {
     "output_type": "stream",
     "name": "stdout",
     "text": [
      "NAME         ZONE        ACCELERATOR_TYPE  NETWORK  RANGE          STATUS  API_VERSION\n",
      "murphyk-tpu  us-east1-d  v3-32             default  10.142.0.0/20  READY   V2_ALPHA1\n",
      "mjsml-tpu    us-east1-d  v3-32             default  10.142.0.0/20  READY   V2_ALPHA1\n",
      "mjsml-tpu2   us-east1-d  v3-128            default  10.142.0.0/20  READY   V2_ALPHA1\n"
     ]
    }
   ]
  },
  {
   "cell_type": "markdown",
   "metadata": {
    "id": "RYn8VUkOZr33"
   },
   "source": [
    "### Deleting an instance\n",
    "\n",
    "To avoid extra costs, it is important to delete the instance after use (training, testing experimenting, etc.).\n",
    "\n",
    "To delete an instance, we create and run a cell with the following content\n",
    "\n",
    "```bash\n",
    "%%bash\n",
    "source /content/commands.sh\n",
    "\n",
    "$gtpu delete --quiet $instance_name --zone=$tpu_zone\n",
    "```\n",
    "\n",
    "**Make sure to delete your instance once you finish!!**"
   ]
  },
  {
   "cell_type": "markdown",
   "metadata": {
    "id": "Q_HAWg-EaZNI"
   },
   "source": [
    "# Setup JAX"
   ]
  },
  {
   "cell_type": "markdown",
   "metadata": {
    "id": "5RBZsCE6ajyJ"
   },
   "source": [
    "\n",
    "\n",
    "When connecting to an instance directly via ssh, it is important to note that running any Jax command will wait for the other hosts to be active. To avoid this, we have to run the desired code simultaneously on all the hosts.\n",
    "Thus To run JAX code on a TPU Pod slice, you must run the code **on each host in the TPU Pod slice.**\n",
    "\n",
    "In the next cell, we install Jax on each host of our slice."
   ]
  },
  {
   "cell_type": "code",
   "metadata": {
    "id": "bvEUfHCQUBSG"
   },
   "source": [
    "%%bash\n",
    "source /content/commands.sh\n",
    "$gtpu ssh $instance_name \\\n",
    "    --zone $tpu_zone \\\n",
    "    --command \"$jax_install\" \\\n",
    "    --worker all # or machine instance 1..3"
   ],
   "execution_count": null,
   "outputs": []
  },
  {
   "cell_type": "markdown",
   "metadata": {
    "id": "s4vj1wET6xvr"
   },
   "source": [
    ""
   ]
  },
  {
   "cell_type": "markdown",
   "metadata": {
    "id": "eL72x6Ux6x3_"
   },
   "source": [
    "# JAX examples"
   ]
  },
  {
   "cell_type": "markdown",
   "metadata": {
    "id": "2cNiBS0r7jA5"
   },
   "source": [
    "## Example 0\n",
    "\n",
    "https://cloud.google.com/tpu/docs/jax-pods\n"
   ]
  },
  {
   "cell_type": "markdown",
   "metadata": {
    "id": "VVXbpgxEarZd"
   },
   "source": [
    "### Example 1: Hello, TPUs!\n",
    "\n",
    "In this example, we create a `hello_tpu.sh` that asserts whether we can connect to all of the hosts. First, we create the `.sh` file that will be run **in each of the workers**."
   ]
  },
  {
   "cell_type": "code",
   "metadata": {
    "colab": {
     "base_uri": "https://localhost:8080/"
    },
    "id": "h0Rm7QhHUGqx",
    "outputId": "aee29b2f-2707-4134-925b-7984909ca62a"
   },
   "source": [
    "%%writefile hello_tpu.sh\n",
    "#!/bin/bash\n",
    "# file: hello_tpu.sh\n",
    "\n",
    "export gist_url=\"https://gist.github.com/1e8d226e7a744d22d010ca4980456c3a.git\"\n",
    "git clone $gist_url hello_gsoc\n",
    "python3 hello_gsoc/hello_tpu.py"
   ],
   "execution_count": null,
   "outputs": [
    {
     "name": "stdout",
     "output_type": "stream",
     "text": [
      "Writing hello_tpu.sh\n"
     ]
    }
   ]
  },
  {
   "cell_type": "markdown",
   "metadata": {
    "id": "NWxXh1Gga_qJ"
   },
   "source": [
    "The content of `$gist_url` is the following\n",
    "\n",
    "You do not need to store the following file. Our script `hello_tpu.sh` will download the file to each of the hosts and run it.\n",
    "\n",
    "```python\n",
    "# Taken from https://cloud.google.com/tpu/docs/jax-pods\n",
    "# To be used by the Pyprobml GSoC 2021 team\n",
    "# The following code snippet will be run on all TPU hosts\n",
    "import jax\n",
    "\n",
    "# The total number of TPU cores in the pod\n",
    "device_count = jax.device_count()\n",
    "# The number of TPU cores attached to this host\n",
    "local_device_count = jax.local_device_count()\n",
    "\n",
    "# The psum is performed over all mapped devices across the pod\n",
    "xs = jax.numpy.ones(jax.local_device_count())\n",
    "r = jax.pmap(lambda x: jax.lax.psum(x, 'i'), axis_name='i')(xs)\n",
    "\n",
    "# Print from a single host to avoid duplicated output\n",
    "if jax.process_index() == 0:\n",
    "    print('global device count:', jax.device_count())\n",
    "    print('local device count:', jax.local_device_count())\n",
    "    print('pmap result:', r)%\n",
    "```\n",
    "\n",
    "Next, we run the code across all workers"
   ]
  },
  {
   "cell_type": "code",
   "metadata": {
    "colab": {
     "base_uri": "https://localhost:8080/"
    },
    "id": "C0Svilz_U3PE",
    "outputId": "9fb1668e-f9b6-4883-a9b5-a8e3fbe8ca6a"
   },
   "source": [
    "%%bash\n",
    "source /content/commands.sh\n",
    "$gtpu ssh $instance_name \\\n",
    "    --zone $tpu_zone \\\n",
    "    --command \"$(<./hello_tpu.sh)\" \\\n",
    "    --worker all"
   ],
   "execution_count": null,
   "outputs": [
    {
     "name": "stdout",
     "output_type": "stream",
     "text": [
      "global device count: 32\n",
      "local device count: 8\n",
      "pmap result: [32. 32. 32. 32. 32. 32. 32. 32.]\n"
     ]
    },
    {
     "name": "stderr",
     "output_type": "stream",
     "text": [
      "SSH: Attempting to connect to worker 0...\n",
      "SSH: Attempting to connect to worker 1...\n",
      "SSH: Attempting to connect to worker 2...\n",
      "SSH: Attempting to connect to worker 3...\n",
      "Cloning into 'hello_gsoc'...\n",
      "Cloning into 'hello_gsoc'...\n",
      "Cloning into 'hello_gsoc'...\n",
      "Cloning into 'hello_gsoc'...\n"
     ]
    }
   ]
  },
  {
   "cell_type": "markdown",
   "metadata": {
    "id": "FDKJQwnLbQzD"
   },
   "source": [
    "### Example 2: 🚧K-nearest neighbours🚧\n",
    "\n",
    "In this example we train the MNIST dataset using the KNN algorithm `pmap`. Our program clones a Github gist into each of the hosts. We use the multi-device availability of our slice to delegate a part of the training to each of the workers.\n",
    "\n",
    "First, we create the script that will be run on each of the workers"
   ]
  },
  {
   "cell_type": "code",
   "metadata": {
    "colab": {
     "base_uri": "https://localhost:8080/"
    },
    "id": "gD0_Vbr_VFWg",
    "outputId": "3a948227-b745-4d8a-c782-da0756770996"
   },
   "source": [
    "%%writefile knn_tpu.sh\n",
    "#!/bin/bash\n",
    "# file: knn_tpu.sh\n",
    "\n",
    "export gist_url=\"https://gist.github.com/716a7bfd4c5c0c0e1949072f7b2e03a6.git\"\n",
    "pip3 install -q tensorflow_datasets\n",
    "git clone $gist_url demo\n",
    "python3 demo/knn_tpu.py"
   ],
   "execution_count": null,
   "outputs": [
    {
     "name": "stdout",
     "output_type": "stream",
     "text": [
      "Writing knn_tpu.sh\n"
     ]
    }
   ]
  },
  {
   "cell_type": "markdown",
   "metadata": {
    "id": "HbuCmPMLbgzv"
   },
   "source": [
    "Next, we run the script"
   ]
  },
  {
   "cell_type": "code",
   "metadata": {
    "colab": {
     "base_uri": "https://localhost:8080/"
    },
    "id": "4xBAeKlpVedt",
    "outputId": "6ff3a3fb-f799-4404-b0f3-7899dec65fc1"
   },
   "source": [
    "%%bash\n",
    "source /content/commands.sh\n",
    "\n",
    "$gtpu ssh $instance_name \\\n",
    "    --zone $tpu_zone \\\n",
    "    --command \"$(<./knn_tpu.sh)\" \\\n",
    "    --worker all"
   ],
   "execution_count": null,
   "outputs": [
    {
     "name": "stdout",
     "output_type": "stream",
     "text": [
      "(8, 10, 20)\n",
      "class_rate=0.9125\n"
     ]
    },
    {
     "name": "stderr",
     "output_type": "stream",
     "text": [
      "SSH: Attempting to connect to worker 0...\n",
      "SSH: Attempting to connect to worker 1...\n",
      "SSH: Attempting to connect to worker 2...\n",
      "SSH: Attempting to connect to worker 3...\n",
      "WARNING: Running pip as root will break packages and permissions. You should install packages reliably by using venv: https://pip.pypa.io/warnings/venv\n",
      "WARNING: You are using pip version 21.1.2; however, version 21.2.2 is available.\n",
      "You should consider upgrading via the '/usr/bin/python3 -m pip install --upgrade pip' command.\n",
      "WARNING: Running pip as root will break packages and permissions. You should install packages reliably by using venv: https://pip.pypa.io/warnings/venv\n",
      "WARNING: Running pip as root will break packages and permissions. You should install packages reliably by using venv: https://pip.pypa.io/warnings/venv\n",
      "WARNING: You are using pip version 21.1.2; however, version 21.2.2 is available.\n",
      "You should consider upgrading via the '/usr/bin/python3 -m pip install --upgrade pip' command.\n",
      "WARNING: You are using pip version 21.1.2; however, version 21.2.2 is available.\n",
      "You should consider upgrading via the '/usr/bin/python3 -m pip install --upgrade pip' command.\n",
      "WARNING: Running pip as root will break packages and permissions. You should install packages reliably by using venv: https://pip.pypa.io/warnings/venv\n",
      "WARNING: You are using pip version 21.1.2; however, version 21.2.2 is available.\n",
      "You should consider upgrading via the '/usr/bin/python3 -m pip install --upgrade pip' command.\n",
      "fatal: destination path 'demo' already exists and is not an empty directory.\n",
      "fatal: destination path 'demo' already exists and is not an empty directory.\n",
      "fatal: destination path 'demo' already exists and is not an empty directory.\n",
      "fatal: destination path 'demo' already exists and is not an empty directory.\n",
      "WARNING:tensorflow:From /usr/local/lib/python3.8/dist-packages/tensorflow_datasets/core/dataset_builder.py:622: get_single_element (from tensorflow.python.data.experimental.ops.get_single_element) is deprecated and will be removed in a future version.\n",
      "Instructions for updating:\n",
      "Use `tf.data.Dataset.get_single_element()`.\n",
      "WARNING:tensorflow:From /usr/local/lib/python3.8/dist-packages/tensorflow_datasets/core/dataset_builder.py:622: get_single_element (from tensorflow.python.data.experimental.ops.get_single_element) is deprecated and will be removed in a future version.\n",
      "Instructions for updating:\n",
      "Use `tf.data.Dataset.get_single_element()`.\n",
      "WARNING:tensorflow:From /usr/local/lib/python3.8/dist-packages/tensorflow_datasets/core/dataset_builder.py:622: get_single_element (from tensorflow.python.data.experimental.ops.get_single_element) is deprecated and will be removed in a future version.\n",
      "Instructions for updating:\n",
      "Use `tf.data.Dataset.get_single_element()`.\n",
      "WARNING:tensorflow:From /usr/local/lib/python3.8/dist-packages/tensorflow_datasets/core/dataset_builder.py:622: get_single_element (from tensorflow.python.data.experimental.ops.get_single_element) is deprecated and will be removed in a future version.\n",
      "Instructions for updating:\n",
      "Use `tf.data.Dataset.get_single_element()`.\n",
      "WARNING:tensorflow:From /usr/local/lib/python3.8/dist-packages/tensorflow_datasets/core/dataset_builder.py:622: get_single_element (from tensorflow.python.data.experimental.ops.get_single_element) is deprecated and will be removed in a future version.\n",
      "Instructions for updating:\n",
      "Use `tf.data.Dataset.get_single_element()`.\n",
      "WARNING:tensorflow:From /usr/local/lib/python3.8/dist-packages/tensorflow_datasets/core/dataset_builder.py:622: get_single_element (from tensorflow.python.data.experimental.ops.get_single_element) is deprecated and will be removed in a future version.\n",
      "Instructions for updating:\n",
      "Use `tf.data.Dataset.get_single_element()`.\n",
      "WARNING:tensorflow:From /usr/local/lib/python3.8/dist-packages/tensorflow_datasets/core/dataset_builder.py:622: get_single_element (from tensorflow.python.data.experimental.ops.get_single_element) is deprecated and will be removed in a future version.\n",
      "Instructions for updating:\n",
      "Use `tf.data.Dataset.get_single_element()`.\n",
      "WARNING:tensorflow:From /usr/local/lib/python3.8/dist-packages/tensorflow_datasets/core/dataset_builder.py:622: get_single_element (from tensorflow.python.data.experimental.ops.get_single_element) is deprecated and will be removed in a future version.\n",
      "Instructions for updating:\n",
      "Use `tf.data.Dataset.get_single_element()`.\n"
     ]
    }
   ]
  },
  {
   "cell_type": "markdown",
   "metadata": {
    "id": "4mZQ2T2ocEOV"
   },
   "source": [
    "# 🔪TPUs - The Sharp Bits🔪"
   ]
  },
  {
   "cell_type": "markdown",
   "metadata": {
    "id": "CUTrUrLHbvNX"
   },
   "source": [
    "\n",
    "## Service accounts\n",
    "\n",
    "Before creating a new TPU instance, make sure that the Admin of the project grants the correct IAM user/group roles for your service account\n",
    "\n",
    "- `TPU Admin`\n",
    "- `Service Account User`\n",
    "\n",
    "This prevents you from running into the following error\n",
    "\n",
    "![error](https://imgur.com/sMAV2A5.png)\n",
    "\n",
    "## Running Jax on a Pod\n",
    "\n",
    "When creating an instance, we obtain different *slices*. Running a parallel operation on a single slice will not perform any computation until all of the slices have been run in sync. In Jax, this is done using `jax.pmap` function\n",
    "\n",
    "## `pmap`ing a function\n",
    "\n",
    "> *The mapped axis size must be less than or equal to the number of local XLA devices available, as returned by jax.local_device_count() (unless devices is specified, [...])*\n",
    "\n",
    "## Misc\n",
    "\n",
    "- [Padding can tank your performance](https://github.com/google/jax/tree/main/cloud_tpu_colabs#padding)"
   ]
  },
  {
   "cell_type": "markdown",
   "metadata": {
    "id": "UE0c56Z2cLM4"
   },
   "source": [
    "# References\n",
    "\n",
    "- gcloud\n",
    "    - [gcloud CLI cheatsheet](https://cloud.google.com/sdk/docs/cheatsheet)\n",
    "    - [gcloud update components](https://cloud.google.com/sdk/gcloud/reference/components/update)\n",
    "- TPUs\n",
    "    - [Jax cloud TPU](https://cloud.google.com/tpu/docs/jax-quickstart-tpu-vm)\n",
    "    - [TPU VM User's guide](https://cloud.google.com/tpu/docs/users-guide-tpu-vm)\n",
    "    - [Jax TPUs on Slices](https://cloud.google.com/tpu/docs/jax-pods)\n",
    "- Jax\n",
    "    - [MNIST example with Flax](https://github.com/google/flax/tree/master/examples/mnist)\n",
    "    - [Parallelism in Jax](https://jax.readthedocs.io/en/latest/jax-101/06-parallelism.html)\n",
    "    - [Jax multi-hosts](https://jax.readthedocs.io/en/latest/multi_process.html)\n",
    "    - [ColCollective communication operations](https://colab.research.google.com/github/google/jax/blob/main/cloud_tpu_colabs/JAX_demo.ipynb#scrollTo=f-FBsWeo1AXE&uniqifier=1)"
   ]
  }
 ]
}