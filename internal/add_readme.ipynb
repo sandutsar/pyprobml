{
 "cells": [
  {
   "cell_type": "code",
   "execution_count": 1,
   "id": "8e061060",
   "metadata": {},
   "outputs": [],
   "source": [
    "import re\n",
    "from glob import glob\n",
    "import requests\n",
    "import pandas as pd"
   ]
  },
  {
   "cell_type": "markdown",
   "id": "0c7f48b5",
   "metadata": {},
   "source": [
    "## Get chapter names"
   ]
  },
  {
   "cell_type": "code",
   "execution_count": 2,
   "id": "72e13b6e",
   "metadata": {},
   "outputs": [
    {
     "name": "stdout",
     "output_type": "stream",
     "text": [
      "1 ['Introduction']\n",
      "2 ['Probability: univariate models']\n",
      "3 ['Probability: multivariate models']\n",
      "4 ['Statistics']\n",
      "5 ['Decision theory']\n",
      "6 ['Information theory']\n",
      "7 ['Linear algebra']\n",
      "8 ['Optimization']\n",
      "9 ['Linear discriminant analysis']\n",
      "10 ['Logistic regression']\n",
      "11 ['Linear regression']\n",
      "12 ['Generalized linear models']\n",
      "13 ['Neural networks for unstructured data']\n",
      "14 ['Neural networks for images']\n",
      "15 ['Neural networks for sequences']\n",
      "16 ['Exemplar-based methods']\n",
      "17 ['Kernel methods']\n",
      "18 ['Trees']\n",
      "19 ['Learning with fewer labeled examples']\n",
      "20 ['Dimensionality reduction']\n",
      "21 ['Clustering']\n",
      "22 ['Recommender systems']\n",
      "23 ['Graph embeddings']\n"
     ]
    }
   ],
   "source": [
    "chap_names = {}\n",
    "for chap_no in range(1,24):\n",
    "    suppl = f\"https://raw.githubusercontent.com/probml/pml-book/main/pml1/supplements/chap{chap_no}.md\"\n",
    "    text = requests.get(suppl).text\n",
    "    names = re.findall(r\"Chapter.+?[(](.+)[)]\",text)\n",
    "    chap_names[chap_no] = names[0]\n",
    "    print(chap_no, names)"
   ]
  },
  {
   "cell_type": "code",
   "execution_count": 3,
   "id": "3914c55e",
   "metadata": {},
   "outputs": [
    {
     "data": {
      "text/html": [
       "<div>\n",
       "<style scoped>\n",
       "    .dataframe tbody tr th:only-of-type {\n",
       "        vertical-align: middle;\n",
       "    }\n",
       "\n",
       "    .dataframe tbody tr th {\n",
       "        vertical-align: top;\n",
       "    }\n",
       "\n",
       "    .dataframe thead th {\n",
       "        text-align: right;\n",
       "    }\n",
       "</style>\n",
       "<table border=\"1\" class=\"dataframe\">\n",
       "  <thead>\n",
       "    <tr style=\"text-align: right;\">\n",
       "      <th></th>\n",
       "      <th>chap_no</th>\n",
       "      <th>chap_name</th>\n",
       "    </tr>\n",
       "  </thead>\n",
       "  <tbody>\n",
       "    <tr>\n",
       "      <th>0</th>\n",
       "      <td>1</td>\n",
       "      <td>Introduction</td>\n",
       "    </tr>\n",
       "    <tr>\n",
       "      <th>1</th>\n",
       "      <td>2</td>\n",
       "      <td>Probability: univariate models</td>\n",
       "    </tr>\n",
       "    <tr>\n",
       "      <th>2</th>\n",
       "      <td>3</td>\n",
       "      <td>Probability: multivariate models</td>\n",
       "    </tr>\n",
       "    <tr>\n",
       "      <th>3</th>\n",
       "      <td>4</td>\n",
       "      <td>Statistics</td>\n",
       "    </tr>\n",
       "    <tr>\n",
       "      <th>4</th>\n",
       "      <td>5</td>\n",
       "      <td>Decision theory</td>\n",
       "    </tr>\n",
       "    <tr>\n",
       "      <th>5</th>\n",
       "      <td>6</td>\n",
       "      <td>Information theory</td>\n",
       "    </tr>\n",
       "    <tr>\n",
       "      <th>6</th>\n",
       "      <td>7</td>\n",
       "      <td>Linear algebra</td>\n",
       "    </tr>\n",
       "    <tr>\n",
       "      <th>7</th>\n",
       "      <td>8</td>\n",
       "      <td>Optimization</td>\n",
       "    </tr>\n",
       "    <tr>\n",
       "      <th>8</th>\n",
       "      <td>9</td>\n",
       "      <td>Linear discriminant analysis</td>\n",
       "    </tr>\n",
       "    <tr>\n",
       "      <th>9</th>\n",
       "      <td>10</td>\n",
       "      <td>Logistic regression</td>\n",
       "    </tr>\n",
       "    <tr>\n",
       "      <th>10</th>\n",
       "      <td>11</td>\n",
       "      <td>Linear regression</td>\n",
       "    </tr>\n",
       "    <tr>\n",
       "      <th>11</th>\n",
       "      <td>12</td>\n",
       "      <td>Generalized linear models</td>\n",
       "    </tr>\n",
       "    <tr>\n",
       "      <th>12</th>\n",
       "      <td>13</td>\n",
       "      <td>Neural networks for unstructured data</td>\n",
       "    </tr>\n",
       "    <tr>\n",
       "      <th>13</th>\n",
       "      <td>14</td>\n",
       "      <td>Neural networks for images</td>\n",
       "    </tr>\n",
       "    <tr>\n",
       "      <th>14</th>\n",
       "      <td>15</td>\n",
       "      <td>Neural networks for sequences</td>\n",
       "    </tr>\n",
       "    <tr>\n",
       "      <th>15</th>\n",
       "      <td>16</td>\n",
       "      <td>Exemplar-based methods</td>\n",
       "    </tr>\n",
       "    <tr>\n",
       "      <th>16</th>\n",
       "      <td>17</td>\n",
       "      <td>Kernel methods</td>\n",
       "    </tr>\n",
       "    <tr>\n",
       "      <th>17</th>\n",
       "      <td>18</td>\n",
       "      <td>Trees</td>\n",
       "    </tr>\n",
       "    <tr>\n",
       "      <th>18</th>\n",
       "      <td>19</td>\n",
       "      <td>Learning with fewer labeled examples</td>\n",
       "    </tr>\n",
       "    <tr>\n",
       "      <th>19</th>\n",
       "      <td>20</td>\n",
       "      <td>Dimensionality reduction</td>\n",
       "    </tr>\n",
       "    <tr>\n",
       "      <th>20</th>\n",
       "      <td>21</td>\n",
       "      <td>Clustering</td>\n",
       "    </tr>\n",
       "    <tr>\n",
       "      <th>21</th>\n",
       "      <td>22</td>\n",
       "      <td>Recommender systems</td>\n",
       "    </tr>\n",
       "    <tr>\n",
       "      <th>22</th>\n",
       "      <td>23</td>\n",
       "      <td>Graph embeddings</td>\n",
       "    </tr>\n",
       "  </tbody>\n",
       "</table>\n",
       "</div>"
      ],
      "text/plain": [
       "    chap_no                              chap_name\n",
       "0         1                           Introduction\n",
       "1         2         Probability: univariate models\n",
       "2         3       Probability: multivariate models\n",
       "3         4                             Statistics\n",
       "4         5                        Decision theory\n",
       "5         6                     Information theory\n",
       "6         7                         Linear algebra\n",
       "7         8                           Optimization\n",
       "8         9           Linear discriminant analysis\n",
       "9        10                    Logistic regression\n",
       "10       11                      Linear regression\n",
       "11       12              Generalized linear models\n",
       "12       13  Neural networks for unstructured data\n",
       "13       14             Neural networks for images\n",
       "14       15          Neural networks for sequences\n",
       "15       16                 Exemplar-based methods\n",
       "16       17                         Kernel methods\n",
       "17       18                                  Trees\n",
       "18       19   Learning with fewer labeled examples\n",
       "19       20               Dimensionality reduction\n",
       "20       21                             Clustering\n",
       "21       22                    Recommender systems\n",
       "22       23                       Graph embeddings"
      ]
     },
     "execution_count": 3,
     "metadata": {},
     "output_type": "execute_result"
    }
   ],
   "source": [
    "df = pd.DataFrame(chap_names.items(), columns=[\"chap_no\",\"chap_name\"])\n",
    "df"
   ]
  },
  {
   "cell_type": "code",
   "execution_count": 4,
   "id": "be2cee1e",
   "metadata": {},
   "outputs": [],
   "source": [
    "df.to_csv(\"chapter_no_to_name_mapping.csv\", index=None)"
   ]
  },
  {
   "cell_type": "markdown",
   "id": "e432e955",
   "metadata": {},
   "source": [
    "## Create a Readme.md"
   ]
  },
  {
   "cell_type": "code",
   "execution_count": 16,
   "id": "74c38dda",
   "metadata": {},
   "outputs": [
    {
     "data": {
      "text/plain": [
       "'\\n# \"Probabilistic Machine Learning: An Introduction\"\\n\\n## Chapters\\n|Chapter|Name| Notebooks|\\n|-|-|-|\\n| 1 | Introduction | [01/](01/) |\\n| 2 | Probability: univariate models | [02/](02/) |\\n| 3 | Probability: multivariate models | [03/](03/) |\\n| 4 | Statistics | [04/](04/) |\\n| 5 | Decision theory | [05/](05/) |\\n| 6 | Information theory | [06/](06/) |\\n| 7 | Linear algebra | [07/](07/) |\\n| 8 | Optimization | [08/](08/) |\\n| 9 | Linear discriminant analysis | [09/](09/) |\\n| 10 | Logistic regression | [10/](10/) |\\n| 11 | Linear regression | [11/](11/) |\\n| 12 | Generalized linear models | [12/](12/) |\\n| 13 | Neural networks for unstructured data | [13/](13/) |\\n| 14 | Neural networks for images | [14/](14/) |\\n| 15 | Neural networks for sequences | [15/](15/) |\\n| 16 | Exemplar-based methods | [16/](16/) |\\n| 17 | Kernel methods | [17/](17/) |\\n| 18 | Trees | [18/](18/) |\\n| 19 | Learning with fewer labeled examples | [19/](19/) |\\n| 20 | Dimensionality reduction | [20/](20/) |\\n| 21 | Clustering | [21/](21/) |\\n| 22 | Recommender systems | [22/](22/) |\\n| 23 | Graph embeddings | [23/](23/) |\\n'"
      ]
     },
     "execution_count": 16,
     "metadata": {},
     "output_type": "execute_result"
    }
   ],
   "source": [
    "content = '''\n",
    "# \"Probabilistic Machine Learning: An Introduction\"\n",
    "\n",
    "## Chapters\n",
    "|Chapter|Name| Notebooks|\n",
    "|-|-|-|\n",
    "'''\n",
    "\n",
    "for chap_no in range(1,24):\n",
    "    chap_url = f\"https://github.com/probml/pyprobml/tree/master/notebooks/book1/{chap_no:02d}\"\n",
    "    content+=f\"| {chap_no} | {chap_names[chap_no]} | [{chap_no:02d}/]({chap_no:02d}/) |\\n\"\n",
    "content"
   ]
  },
  {
   "cell_type": "code",
   "execution_count": 17,
   "id": "21251e66",
   "metadata": {},
   "outputs": [],
   "source": [
    "readme_file = \"../notebooks/book1/README.md\"\n",
    "with open(readme_file,\"w\") as fp:\n",
    "    fp.write(content)"
   ]
  },
  {
   "cell_type": "code",
   "execution_count": null,
   "id": "09884445",
   "metadata": {},
   "outputs": [],
   "source": []
  },
  {
   "cell_type": "code",
   "execution_count": null,
   "id": "d1544bb0",
   "metadata": {},
   "outputs": [],
   "source": []
  }
 ],
 "metadata": {
  "kernelspec": {
   "display_name": "Python [conda env:root] *",
   "language": "python",
   "name": "conda-root-py"
  },
  "language_info": {
   "codemirror_mode": {
    "name": "ipython",
    "version": 3
   },
   "file_extension": ".py",
   "mimetype": "text/x-python",
   "name": "python",
   "nbconvert_exporter": "python",
   "pygments_lexer": "ipython3",
   "version": "3.9.7"
  }
 },
 "nbformat": 4,
 "nbformat_minor": 5
}
