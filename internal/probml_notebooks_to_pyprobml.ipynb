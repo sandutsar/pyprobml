{
 "cells": [
  {
   "cell_type": "code",
   "execution_count": 47,
   "id": "6a034cf4",
   "metadata": {},
   "outputs": [],
   "source": [
    "from time import time\n",
    "\n",
    "init = time()\n",
    "\n",
    "import re\n",
    "import os\n",
    "import sys\n",
    "import json\n",
    "import yaml\n",
    "from functools import reduce\n",
    "from collections import ChainMap\n",
    "import subprocess\n",
    "import shutil\n",
    "\n",
    "import pandas as pd\n",
    "from glob import glob\n",
    "import nbformat\n",
    "\n",
    "import jax"
   ]
  },
  {
   "cell_type": "code",
   "execution_count": 48,
   "id": "a7a4571f",
   "metadata": {
    "scrolled": true
   },
   "outputs": [
    {
     "data": {
      "text/plain": [
       "['../../../pml-book/pml1/figure_notebooks/chapter9_linear_discriminant_analysis_figures.ipynb',\n",
       " '../../../pml-book/pml1/figure_notebooks/chapter11_linear_regression_figures.ipynb']"
      ]
     },
     "execution_count": 48,
     "metadata": {},
     "output_type": "execute_result"
    }
   ],
   "source": [
    "old_nb_files = glob(\"../../../pml-book/pml1/figure_notebooks/*\")\n",
    "old_nb_files[:2]"
   ]
  },
  {
   "cell_type": "markdown",
   "id": "46eefea0",
   "metadata": {},
   "source": [
    "### Detect all notebooks"
   ]
  },
  {
   "cell_type": "code",
   "execution_count": 49,
   "id": "a6ec2a4f",
   "metadata": {},
   "outputs": [
    {
     "data": {
      "text/plain": [
       "[{'09': [['To reproduce this figure, click the open in colab button: <a href=\"https://colab.research.google.com/github/probml/probml-notebooks/blob/master/notebooks-d2l/naive_bayes_mnist.ipynb\" target=\"_parent\"><img src=\"https://colab.research.google.com/assets/colab-badge.svg\" alt=\"Open In Colab\"/></a>'],\n",
       "   ['To reproduce this figure, click the open in colab button: <a href=\"https://colab.research.google.com/github/probml/probml-notebooks/blob/master/notebooks-d2l/naive_bayes_mnist.ipynb\" target=\"_parent\"><img src=\"https://colab.research.google.com/assets/colab-badge.svg\" alt=\"Open In Colab\"/></a>']]},\n",
       " {'11': []}]"
      ]
     },
     "execution_count": 49,
     "metadata": {},
     "output_type": "execute_result"
    }
   ],
   "source": [
    "def get_fig_wise_scripts(cells):\n",
    "    prev_prev_cell, prev_cell, cell = cells\n",
    "    scripts = re.findall(\"To reproduce this figure, click the open in colab button.*\", cell[\"source\"])\n",
    "    if scripts:\n",
    "        return scripts\n",
    "\n",
    "\n",
    "def process_notebook(file_name):\n",
    "    chap_num, chap_name = file_name.split(\"/\")[-1].split(\".\")[0].split(\"_\", 1)\n",
    "    chap_num = chap_num.replace(\"chapter\", \"\").zfill(2)\n",
    "    chap_name = chap_name.replace(\"_figures\", \"\")\n",
    "    nb = nbformat.read(file_name, as_version=4)\n",
    "\n",
    "    scripts = list(map(get_fig_wise_scripts, zip(nb[\"cells\"], nb[\"cells\"][1:], nb[\"cells\"][2:])))\n",
    "    scripts = list(filter(None, scripts))\n",
    "    # https://stackoverflow.com/a/15714097\n",
    "    return {chap_num: scripts}\n",
    "\n",
    "\n",
    "notebooks = list(map(process_notebook, old_nb_files))\n",
    "notebooks[:2]"
   ]
  },
  {
   "cell_type": "markdown",
   "id": "4276d4a3",
   "metadata": {},
   "source": [
    "### Detect paths and map between old and new"
   ]
  },
  {
   "cell_type": "code",
   "execution_count": 51,
   "id": "1c1c8a0e",
   "metadata": {},
   "outputs": [],
   "source": [
    "find_nb = lambda f: re.findall(\n",
    "    '\"https://colab.research.google.com/github/probml/probml-notebooks/blob/master/(.*)\" target', f\n",
    ")"
   ]
  },
  {
   "cell_type": "code",
   "execution_count": 52,
   "id": "d8d9ec90",
   "metadata": {},
   "outputs": [],
   "source": [
    "old_base = \"../../../probml-notebooks/\"\n",
    "new_base = \"../notebooks/book1/\"\n",
    "old_to_new = {}\n",
    "for i in range(len(notebooks)):\n",
    "    nb_dict = notebooks[i]\n",
    "    for key, value in nb_dict.items():\n",
    "        for nb in jax.tree_leaves(value):\n",
    "            nb_name = find_nb(nb)[0]\n",
    "            old_path = os.path.join(old_base, nb_name)\n",
    "            new_path = os.path.join(new_base, str(key), nb_name.split(\"/\")[-1])\n",
    "            old_to_new.update({old_path: new_path})"
   ]
  },
  {
   "cell_type": "code",
   "execution_count": 55,
   "id": "bd76c13b",
   "metadata": {},
   "outputs": [
    {
     "data": {
      "text/plain": [
       "[('../../../probml-notebooks/notebooks-d2l/naive_bayes_mnist.ipynb',\n",
       "  '../notebooks/book1/09/naive_bayes_mnist.ipynb'),\n",
       " ('../../../probml-notebooks/notebooks/iris_dtree.ipynb',\n",
       "  '../notebooks/book1/01/iris_dtree.ipynb')]"
      ]
     },
     "execution_count": 55,
     "metadata": {},
     "output_type": "execute_result"
    }
   ],
   "source": [
    "list(old_to_new.items())[:2]"
   ]
  },
  {
   "cell_type": "markdown",
   "id": "8285d5a8",
   "metadata": {},
   "source": [
    "### Move to book1 folder"
   ]
  },
  {
   "cell_type": "code",
   "execution_count": 56,
   "id": "ae02d7b4",
   "metadata": {},
   "outputs": [
    {
     "name": "stdout",
     "output_type": "stream",
     "text": [
      "copied ../../../probml-notebooks/notebooks-d2l/naive_bayes_mnist.ipynb to ../notebooks/book1/09/naive_bayes_mnist.ipynb\n",
      "copied ../../../probml-notebooks/notebooks/iris_dtree.ipynb to ../notebooks/book1/01/iris_dtree.ipynb\n",
      "copied ../../../probml-notebooks/notebooks-d2l/conv2d_jax.ipynb to ../notebooks/book1/14/conv2d_jax.ipynb\n",
      "copied ../../../probml-notebooks/notebooks/cnn_mnist_tf.ipynb to ../notebooks/book1/14/cnn_mnist_tf.ipynb\n",
      "copied ../../../probml-notebooks/notebooks/poisson_regression_insurance.ipynb to ../notebooks/book1/12/poisson_regression_insurance.ipynb\n",
      "copied ../../../probml-notebooks/notebooks/mlp_mnist_tf.ipynb to ../notebooks/book1/13/mlp_mnist_tf.ipynb\n",
      "copied ../../../probml-notebooks/notebooks/mlp_1d_regression_hetero_tfp.ipynb to ../notebooks/book1/13/mlp_1d_regression_hetero_tfp.ipynb\n",
      "copied ../../../probml-notebooks/notebooks/activation_fun_deriv_jax.ipynb to ../notebooks/book1/13/activation_fun_deriv_jax.ipynb\n",
      "copied ../../../probml-notebooks/notebooks/sparse_mlp.ipynb to ../notebooks/book1/13/sparse_mlp.ipynb\n",
      "copied ../../../probml-notebooks/notebooks/sgd_minima_variance.ipynb to ../notebooks/book1/13/sgd_minima_variance.ipynb\n",
      "copied ../../../probml-notebooks/notebooks-d2l/rnn_jax.ipynb to ../notebooks/book1/15/rnn_jax.ipynb\n",
      "copied ../../../probml-notebooks/notebooks/kernel_regression_attention.ipynb to ../notebooks/book1/15/kernel_regression_attention.ipynb\n",
      "copied ../../../probml-notebooks/notebooks-d2l/positional_encoding.ipynb to ../notebooks/book1/15/positional_encoding.ipynb\n",
      "copied ../../../probml-notebooks/notebooks/MIC_correlation_2d.ipynb to ../notebooks/book1/06/MIC_correlation_2d.ipynb\n",
      "copied ../../../probml-notebooks/notebooks/matrix_factorization_recommender.ipynb to ../notebooks/book1/22/matrix_factorization_recommender.ipynb\n",
      "[Errno 2] No such file or directory: '../../../probml-notebooks/notebooks/image_augmentation_jax.ipynb' ../notebooks/book1/19/image_augmentation_jax.ipynb\n",
      "copied ../../../probml-notebooks/notebooks/lrschedule_tf.ipynb to ../notebooks/book1/08/lrschedule_tf.ipynb\n",
      "copied ../../../probml-notebooks/notebooks/ae_mnist_tf.ipynb to ../notebooks/book1/20/ae_mnist_tf.ipynb\n",
      "copied ../../../probml-notebooks/notebooks/vae_mnist_conv_lightning.ipynb to ../notebooks/book1/20/vae_mnist_conv_lightning.ipynb\n",
      "copied ../../../probml-notebooks/notebooks/gmm_chooseK_pymc3.ipynb to ../notebooks/book1/21/gmm_chooseK_pymc3.ipynb\n"
     ]
    }
   ],
   "source": [
    "for old_path, new_path in old_to_new.items():\n",
    "    if not os.path.exists(os.path.dirname(new_path)):\n",
    "        os.makedirs(os.path.dirname(new_path))\n",
    "    try:\n",
    "        if old_path.endswith(\"_torch.ipynb\"):\n",
    "            old_path = old_path.replace(\"_torch.ipynb\", \"_jax.ipynb\")\n",
    "            new_path = new_path.replace(\"_torch.ipynb\", \"_jax.ipynb\")\n",
    "        shutil.copy(old_path, new_path)\n",
    "        print(\"copied\", old_path, \"to\", new_path)\n",
    "    except Exception as e:\n",
    "        print(e, new_path)"
   ]
  }
 ],
 "metadata": {
  "kernelspec": {
   "display_name": "Python [conda env:pyprobml]",
   "language": "python",
   "name": "conda-env-pyprobml-py"
  },
  "language_info": {
   "codemirror_mode": {
    "name": "ipython",
    "version": 3
   },
   "file_extension": ".py",
   "mimetype": "text/x-python",
   "name": "python",
   "nbconvert_exporter": "python",
   "pygments_lexer": "ipython3",
   "version": "3.9.12"
  }
 },
 "nbformat": 4,
 "nbformat_minor": 5
}
