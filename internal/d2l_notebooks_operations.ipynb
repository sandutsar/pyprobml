{
 "cells": [
  {
   "cell_type": "markdown",
   "id": "0d11213c",
   "metadata": {},
   "source": [
    "### Add pointer in first cell"
   ]
  },
  {
   "cell_type": "code",
   "execution_count": 10,
   "id": "deef7389",
   "metadata": {},
   "outputs": [],
   "source": [
    "import os\n",
    "import nbformat\n",
    "from probml_utils.url_utils import (\n",
    "    colab_to_githubraw_url,\n",
    "    make_url_from_chapter_no_and_script_name,\n",
    "    is_dead_url,\n",
    "    colab_url_to_github_url,\n",
    ")\n",
    "from glob import glob\n",
    "\n",
    "%config Completer.use_jedi = False"
   ]
  },
  {
   "cell_type": "code",
   "execution_count": 11,
   "id": "f291f756",
   "metadata": {},
   "outputs": [
    {
     "data": {
      "text/plain": [
       "{'naive_bayes_mnist': '09',\n",
       " 'image_augmentation': '19',\n",
       " 'finetune_cnn': '19',\n",
       " 'skipgram': '20',\n",
       " 'nmt_attention': '15',\n",
       " 'resnet': '14',\n",
       " 'lenet': '14',\n",
       " 'batchnorm': '14',\n",
       " 'nmt': '15',\n",
       " 'multi_head_attention': '15',\n",
       " 'gru': '15',\n",
       " 'cnn1d_sentiment': '15',\n",
       " 'entailment_attention_mlp': '15',\n",
       " 'conv2d': '14',\n",
       " 'attention': '15',\n",
       " 'rnn': '15',\n",
       " 'densenet': '14',\n",
       " 'positional_encoding': '15',\n",
       " 'transformers': '15',\n",
       " 'bert': '15',\n",
       " 'rnn_sentiment': '15',\n",
       " 'word_analogies': '20',\n",
       " 'multi_gpu_training': '13',\n",
       " 'lstm': '15'}"
      ]
     },
     "execution_count": 11,
     "metadata": {},
     "output_type": "execute_result"
    }
   ],
   "source": [
    "with open(\"d2l_notebooks_mapping.txt\") as fp:\n",
    "    mapping = eval(fp.read())\n",
    "mapping"
   ]
  },
  {
   "cell_type": "code",
   "execution_count": 12,
   "id": "7d0a2dd1",
   "metadata": {},
   "outputs": [
    {
     "data": {
      "text/plain": [
       "(28, 30)"
      ]
     },
     "execution_count": 12,
     "metadata": {},
     "output_type": "execute_result"
    }
   ],
   "source": [
    "notebooks = glob(\"../notebooks/book1/*/*.ipynb\")\n",
    "torch_version, jax_version = {}, {}\n",
    "for notebook in notebooks:\n",
    "    if \"_torch\" in notebook:\n",
    "        torch_version[notebook.split(\"/\")[-1].split(\".\")[0][:-6]] = notebook.split(\"/\")[-2]\n",
    "    if \"_jax\" in notebook:\n",
    "        jax_version[notebook.split(\"/\")[-1].split(\".\")[0][:-4]] = notebook.split(\"/\")[-2]\n",
    "len(torch_version), len(jax_version)"
   ]
  },
  {
   "cell_type": "code",
   "execution_count": 13,
   "id": "3ee9554c",
   "metadata": {},
   "outputs": [
    {
     "name": "stdout",
     "output_type": "stream",
     "text": [
      "JAX - Torch: {'laplace_approx_beta_binom', 'activation_fun_deriv'}\n",
      "Torch - JAX: set()\n"
     ]
    }
   ],
   "source": [
    "print(\"JAX - Torch:\", jax_version.keys() - torch_version.keys())\n",
    "print(\"Torch - JAX:\", torch_version.keys() - jax_version.keys())"
   ]
  },
  {
   "cell_type": "code",
   "execution_count": 18,
   "id": "811ff860",
   "metadata": {},
   "outputs": [],
   "source": [
    "relative_path = \"../notebooks/book1\"\n",
    "switch = {\"torch\": \"jax\", \"jax\": \"torch\"}\n",
    "\n",
    "\n",
    "def add_pointers_in_notebooks(notebook_without_extension, chapter_no, framework, insert=True):\n",
    "    path = os.path.join(relative_path, chapter_no, notebook + f\"_{framework}.ipynb\")\n",
    "    nb = nbformat.read(path, as_version=4)\n",
    "    url = make_url_from_chapter_no_and_script_name(chapter_no, notebook + f\"_{switch[framework]}.ipynb\")\n",
    "\n",
    "    if is_dead_url(colab_to_githubraw_url(url)) == 1:\n",
    "        print(f\"{url} is dead\")\n",
    "    sentence = f\"Please find {switch[framework]} implementation of this notebook here: {url}\"\n",
    "\n",
    "    if insert:\n",
    "        nb.cells.insert(0, nbformat.v4.new_markdown_cell(sentence))\n",
    "    else:\n",
    "        nb.cells[0][\"source\"] = sentence\n",
    "    nbformat.write(nb, path)"
   ]
  },
  {
   "cell_type": "code",
   "execution_count": 19,
   "id": "f51f3b63",
   "metadata": {},
   "outputs": [
    {
     "name": "stdout",
     "output_type": "stream",
     "text": [
      "emnist_viz\n",
      "https://colab.research.google.com/github/probml/pyprobml/blob/master/notebooks/book1/01/emnist_viz_torch.ipynb is dead\n",
      "text_preproc\n",
      "https://colab.research.google.com/github/probml/pyprobml/blob/master/notebooks/book1/01/text_preproc_torch.ipynb is dead\n",
      "transposed_conv\n",
      "https://colab.research.google.com/github/probml/pyprobml/blob/master/notebooks/book1/14/transposed_conv_torch.ipynb is dead\n",
      "layer_norm\n",
      "https://colab.research.google.com/github/probml/pyprobml/blob/master/notebooks/book1/14/layer_norm_torch.ipynb is dead\n"
     ]
    }
   ],
   "source": [
    "for notebook in torch_version:\n",
    "    if notebook in mapping:\n",
    "        continue\n",
    "    print(notebook)\n",
    "    add_pointers_in_notebooks(notebook, torch_version[notebook], \"torch\")\n",
    "    add_pointers_in_notebooks(notebook, torch_version[notebook], \"jax\")"
   ]
  },
  {
   "cell_type": "markdown",
   "id": "7f9a6b34",
   "metadata": {},
   "source": [
    "### Move d2l-notebooks"
   ]
  },
  {
   "cell_type": "code",
   "execution_count": 33,
   "id": "b3cf0996",
   "metadata": {},
   "outputs": [],
   "source": [
    "source_path = \"../../probml-notebooks/notebooks-d2l\"\n",
    "dest_path = \"../notebooks/book1/\""
   ]
  },
  {
   "cell_type": "code",
   "execution_count": 34,
   "id": "97ee7eb3",
   "metadata": {},
   "outputs": [
    {
     "name": "stderr",
     "output_type": "stream",
     "text": [
      "cp: cannot stat '../../probml-notebooks/notebooks-d2l/naive_bayes_mnist_torch.ipynb': No such file or directory\n",
      "cp: cannot stat '../../probml-notebooks/notebooks-d2l/multi_head_attention_torch.ipynb': No such file or directory\n",
      "cp: cannot stat '../../probml-notebooks/notebooks-d2l/positional_encoding_torch.ipynb': No such file or directory\n"
     ]
    },
    {
     "data": {
      "text/plain": [
       "[['../../probml-notebooks/notebooks-d2l/naive_bayes_mnist_torch.ipynb',\n",
       "  '../notebooks/book1/09/naive_bayes_mnist_torch.ipynb'],\n",
       " ['../../probml-notebooks/notebooks-d2l/multi_head_attention_torch.ipynb',\n",
       "  '../notebooks/book1/15/multi_head_attention_torch.ipynb'],\n",
       " ['../../probml-notebooks/notebooks-d2l/positional_encoding_torch.ipynb',\n",
       "  '../notebooks/book1/15/positional_encoding_torch.ipynb']]"
      ]
     },
     "execution_count": 34,
     "metadata": {},
     "output_type": "execute_result"
    }
   ],
   "source": [
    "failed = []\n",
    "for notebook in mapping:\n",
    "    source_notebook_path = os.path.join(source_path, notebook + \"_torch.ipynb\")\n",
    "    dest_notebook_path = os.path.join(dest_path, mapping[notebook], notebook + \"_torch.ipynb\")\n",
    "    if os.system(f\"cp {source_notebook_path} {dest_notebook_path}\") != 0:\n",
    "        failed.append([source_notebook_path, dest_notebook_path])\n",
    "failed"
   ]
  },
  {
   "cell_type": "code",
   "execution_count": 35,
   "id": "0b6bf9db",
   "metadata": {},
   "outputs": [],
   "source": [
    "for each in failed:\n",
    "    source = each[0].replace(\"_torch\", \"\")\n",
    "    dest = each[1]\n",
    "    os.system(f\"cp {source} {dest}\")"
   ]
  }
 ],
 "metadata": {
  "kernelspec": {
   "display_name": "Python [conda env:pymc_exp]",
   "language": "python",
   "name": "conda-env-pymc_exp-py"
  },
  "language_info": {
   "codemirror_mode": {
    "name": "ipython",
    "version": 3
   },
   "file_extension": ".py",
   "mimetype": "text/x-python",
   "name": "python",
   "nbconvert_exporter": "python",
   "pygments_lexer": "ipython3",
   "version": "3.8.0"
  }
 },
 "nbformat": 4,
 "nbformat_minor": 5
}
