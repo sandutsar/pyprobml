{
 "cells": [
  {
   "cell_type": "code",
   "execution_count": 20,
   "id": "b1311e4f",
   "metadata": {},
   "outputs": [],
   "source": [
    "import os\n",
    "import re\n",
    "import fitz\n",
    "from probml_utils.url_utils import check_dead_urls\n",
    "from glob import glob"
   ]
  },
  {
   "cell_type": "code",
   "execution_count": 2,
   "id": "6eda902c",
   "metadata": {},
   "outputs": [],
   "source": [
    "with fitz.open(\"../../bookv2/vol1/pml1.pdf\") as doc:\n",
    "    text = \"\"\n",
    "    for page in doc:\n",
    "        text += page.get_text() + \"\""
   ]
  },
  {
   "cell_type": "code",
   "execution_count": 3,
   "id": "0cc16f5d",
   "metadata": {},
   "outputs": [],
   "source": [
    "text_one_line = text.replace(\"\\n\", \"\")"
   ]
  },
  {
   "cell_type": "markdown",
   "id": "7dbed055",
   "metadata": {},
   "source": [
    "### Print D2L mapping"
   ]
  },
  {
   "cell_type": "code",
   "execution_count": 4,
   "id": "0da1c0f2",
   "metadata": {},
   "outputs": [],
   "source": [
    "py = re.findall(\"ssssspy(.*?)eeeeepy\", text_one_line)\n",
    "nb = re.findall(\"sssssnb(.*?)eeeeenb\", text_one_line)\n",
    "dl = re.findall(\"sssssdl(.*?)eeeeedl\", text_one_line)\n",
    "# chnb = re.findall(\"ssssschnb(.*?)eeeeechnb\", text_one_line)"
   ]
  },
  {
   "cell_type": "code",
   "execution_count": 5,
   "id": "b23764ad",
   "metadata": {},
   "outputs": [],
   "source": [
    "dl_dict_c2n = {}\n",
    "dl_dict_n2c = {}\n",
    "for each in set(dl):\n",
    "    chap, name = each.split(\"/\")\n",
    "    raw_name = name.replace(\"_jax.ipynb\", \"\")\n",
    "    dl_dict_n2c.update({raw_name: chap})\n",
    "    try:\n",
    "        dl_dict_c2n[chap].append(raw_name)\n",
    "    except KeyError:\n",
    "        dl_dict_c2n[chap] = [raw_name]"
   ]
  },
  {
   "cell_type": "code",
   "execution_count": 6,
   "id": "02f48219",
   "metadata": {
    "scrolled": true
   },
   "outputs": [
    {
     "data": {
      "text/plain": [
       "{'resnet': '14',\n",
       " 'transformers': '15',\n",
       " 'rnn': '15',\n",
       " 'densenet': '14',\n",
       " 'lstm': '15',\n",
       " 'entailment_attention_mlp': '15',\n",
       " 'cnn1d_sentiment': '15',\n",
       " 'naive_bayes_mnist': '09',\n",
       " 'multi_head_attention': '15',\n",
       " 'conv2d': '14',\n",
       " 'batchnorm': '14',\n",
       " 'attention': '15',\n",
       " 'image_augmentation': '19',\n",
       " 'nmt': '15',\n",
       " 'bert': '15',\n",
       " 'lenet': '14',\n",
       " 'positional_encoding': '15',\n",
       " 'multi_gpu_training': '13',\n",
       " 'rnn_sentiment': '15',\n",
       " 'word_analogies': '20',\n",
       " 'gru': '15',\n",
       " 'ﬁnetune_cnn': '19',\n",
       " 'nmt_attention': '15',\n",
       " 'skipgram': '20'}"
      ]
     },
     "execution_count": 6,
     "metadata": {},
     "output_type": "execute_result"
    }
   ],
   "source": [
    "dl_dict_n2c"
   ]
  },
  {
   "cell_type": "code",
   "execution_count": 8,
   "id": "f2345ba7",
   "metadata": {},
   "outputs": [
    {
     "data": {
      "text/plain": [
       "{'14': ['resnet', 'densenet', 'conv2d', 'batchnorm', 'lenet'],\n",
       " '15': ['transformers',\n",
       "  'rnn',\n",
       "  'lstm',\n",
       "  'entailment_attention_mlp',\n",
       "  'cnn1d_sentiment',\n",
       "  'multi_head_attention',\n",
       "  'attention',\n",
       "  'nmt',\n",
       "  'bert',\n",
       "  'positional_encoding',\n",
       "  'rnn_sentiment',\n",
       "  'gru',\n",
       "  'nmt_attention'],\n",
       " '09': ['naive_bayes_mnist'],\n",
       " '19': ['image_augmentation', 'ﬁnetune_cnn'],\n",
       " '13': ['multi_gpu_training'],\n",
       " '20': ['word_analogies', 'skipgram']}"
      ]
     },
     "execution_count": 8,
     "metadata": {},
     "output_type": "execute_result"
    }
   ],
   "source": [
    "dl_dict_c2n"
   ]
  },
  {
   "cell_type": "markdown",
   "id": "abcdcff0",
   "metadata": {},
   "source": [
    "### Combine all"
   ]
  },
  {
   "cell_type": "code",
   "execution_count": 9,
   "id": "108d80c1",
   "metadata": {},
   "outputs": [
    {
     "data": {
      "text/plain": [
       "227"
      ]
     },
     "execution_count": 9,
     "metadata": {},
     "output_type": "execute_result"
    }
   ],
   "source": [
    "all_files = set(py).union(set(nb)).union(set(dl))\n",
    "all_files = list(map(lambda x: x.replace(\"ﬁ\", \"fi\").replace(\"ﬂ\", \"fl\"), all_files))\n",
    "len(all_files)"
   ]
  },
  {
   "cell_type": "code",
   "execution_count": 11,
   "id": "c4542c99",
   "metadata": {},
   "outputs": [],
   "source": [
    "base_url = \"https://github.com/probml/pyprobml/blob/master/notebooks/book1\""
   ]
  },
  {
   "cell_type": "code",
   "execution_count": 12,
   "id": "c0a385e9",
   "metadata": {},
   "outputs": [],
   "source": [
    "dead_urls = check_dead_urls(list(map(lambda x: os.path.join(base_url, x.replace(\".py\", \".ipynb\")), all_files)))"
   ]
  },
  {
   "cell_type": "code",
   "execution_count": 13,
   "id": "593d020b",
   "metadata": {},
   "outputs": [],
   "source": [
    "import numpy as np"
   ]
  },
  {
   "cell_type": "code",
   "execution_count": 14,
   "id": "06bda5a4",
   "metadata": {},
   "outputs": [],
   "source": [
    "failed_files = [list(all_files)[i] for i, status in enumerate(dead_urls) if status == 1]"
   ]
  },
  {
   "cell_type": "code",
   "execution_count": 15,
   "id": "6d79c42b",
   "metadata": {},
   "outputs": [],
   "source": [
    "existing_notebooks = list(\n",
    "    map(lambda x: x.split(\"/\")[-1].replace(\".ipynb\", \"\"), glob(\"../../pyprobml/notebooks/book1/*/*.ipynb\"))\n",
    ")"
   ]
  },
  {
   "cell_type": "code",
   "execution_count": 16,
   "id": "c0d7b973",
   "metadata": {},
   "outputs": [
    {
     "name": "stdout",
     "output_type": "stream",
     "text": [
      "17\n"
     ]
    },
    {
     "data": {
      "text/plain": [
       "['07/cholesky_demo.py',\n",
       " '07/einsum_demo.py',\n",
       " '10/perceptron_demo_2d.py',\n",
       " '14/layer_norm_jax.ipynb',\n",
       " '08/sgd_comparison.ipynb',\n",
       " '03/mix_bernoulli_sgd_mnist.py',\n",
       " '11/linsys_solve_demo.py',\n",
       " '05/dtheory.ipynb',\n",
       " '14/cifar10_cnn_lightning.ipynb',\n",
       " '13/mlp_imdb_tf.ipynb',\n",
       " '14/transposed_conv_jax.py',\n",
       " '01/text_preproc_jax.ipynb',\n",
       " '03/sprinkler_pgm.ipynb',\n",
       " '03/correlation2d.py',\n",
       " '01/tfidf_demo.py',\n",
       " '04/beta_credible_int_demo.py',\n",
       " '07/power_method_demo.py']"
      ]
     },
     "execution_count": 16,
     "metadata": {},
     "output_type": "execute_result"
    }
   ],
   "source": [
    "print(len(failed_files))\n",
    "failed_files"
   ]
  },
  {
   "cell_type": "markdown",
   "id": "2ff13421",
   "metadata": {},
   "source": [
    "### Moved failed files"
   ]
  },
  {
   "cell_type": "code",
   "execution_count": 17,
   "id": "8972d042",
   "metadata": {},
   "outputs": [],
   "source": [
    "import nbformat\n",
    "import shutil"
   ]
  },
  {
   "cell_type": "code",
   "execution_count": 21,
   "id": "173cf285",
   "metadata": {},
   "outputs": [
    {
     "name": "stdout",
     "output_type": "stream",
     "text": [
      "07/cholesky_demo.py transfered\n",
      "07/einsum_demo.py transfered\n",
      "10/perceptron_demo_2d.py transfered\n",
      "14/layer_norm_jax.ipynb transfered\n",
      "08/sgd_comparison.ipynb transfered\n",
      "03/mix_bernoulli_sgd_mnist.py transfered\n",
      "11/linsys_solve_demo.py transfered\n",
      "05/dtheory.ipynb transfered\n",
      "14/cifar10_cnn_lightning.ipynb transfered\n",
      "13/mlp_imdb_tf.ipynb transfered\n",
      "14/transposed_conv_jax.py transfered\n",
      "01/text_preproc_jax.ipynb transfered\n",
      "03/sprinkler_pgm.ipynb transfered\n",
      "03/correlation2d.py transfered\n",
      "01/tfidf_demo.py transfered\n",
      "04/beta_credible_int_demo.py transfered\n",
      "07/power_method_demo.py transfered\n"
     ]
    }
   ],
   "source": [
    "old_nb_path = \"../../probml-notebooks/notebooks/\"\n",
    "old_script_path = \"../scripts/\"\n",
    "new_nb_path = \"../notebooks/book1/\"\n",
    "\n",
    "for each in failed_files:\n",
    "    chap, name = each.split(\"/\")\n",
    "    if name.endswith(\".py\"):\n",
    "        old_path = os.path.join(old_script_path, name)\n",
    "        new_path = os.path.join(new_nb_path, chap, name.replace(\".py\", \".ipynb\"))\n",
    "        nb = nbformat.v4.new_notebook()\n",
    "        with open(old_path) as f:\n",
    "            nb[\"cells\"] = [nbformat.v4.new_code_cell(f.read())]\n",
    "        nbformat.write(nb, new_path)\n",
    "    else:\n",
    "        old_path = os.path.join(old_nb_path, name)\n",
    "        new_path = os.path.join(new_nb_path, chap, name)\n",
    "        shutil.copy(old_path, new_path)\n",
    "    print(each, \"transfered\")"
   ]
  }
 ],
 "metadata": {
  "kernelspec": {
   "display_name": "Python [conda env:pyprobml]",
   "language": "python",
   "name": "conda-env-pyprobml-py"
  },
  "language_info": {
   "codemirror_mode": {
    "name": "ipython",
    "version": 3
   },
   "file_extension": ".py",
   "mimetype": "text/x-python",
   "name": "python",
   "nbconvert_exporter": "python",
   "pygments_lexer": "ipython3",
   "version": "3.7.13"
  }
 },
 "nbformat": 4,
 "nbformat_minor": 5
}
