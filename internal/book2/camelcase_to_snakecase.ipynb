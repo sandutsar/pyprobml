{
 "cells": [
  {
   "cell_type": "code",
   "execution_count": 1,
   "id": "b2b8c50f",
   "metadata": {},
   "outputs": [],
   "source": [
    "from glob import glob\n",
    "import pandas as pd\n",
    "import os\n",
    "import nbformat\n",
    "from functools import reduce"
   ]
  },
  {
   "cell_type": "code",
   "execution_count": 2,
   "id": "08a9f51b",
   "metadata": {},
   "outputs": [
    {
     "data": {
      "text/plain": [
       "(182, '../../notebooks/book2/18/bnn_mnist_sgld.ipynb')"
      ]
     },
     "execution_count": 2,
     "metadata": {},
     "output_type": "execute_result"
    }
   ],
   "source": [
    "book2 = glob(\"../../notebooks/book2/*/*.ipynb\")\n",
    "len(book2), book2[0]"
   ]
  },
  {
   "cell_type": "code",
   "execution_count": 3,
   "id": "7c0d3f4a",
   "metadata": {},
   "outputs": [
    {
     "data": {
      "text/plain": [
       "True"
      ]
     },
     "execution_count": 3,
     "metadata": {},
     "output_type": "execute_result"
    }
   ],
   "source": [
    "a = \"GAN\"\n",
    "a.isupper()"
   ]
  },
  {
   "cell_type": "code",
   "execution_count": 4,
   "id": "270a920d",
   "metadata": {},
   "outputs": [
    {
     "name": "stdout",
     "output_type": "stream",
     "text": [
      "Gan_loss_types.ipynb\n",
      "Gan_Jax_CelebA_demo.ipynb\n",
      "two_moons_normalizingFlow.ipynb\n"
     ]
    }
   ],
   "source": [
    "def upper_to_capitalize(nb):\n",
    "     return \"_\".join(list(map(lambda word: word.capitalize() if word.isupper() else word, nb.split(\"_\"))))\n",
    "    \n",
    "print(upper_to_capitalize(\"GAN_loss_types.ipynb\"))\n",
    "print(upper_to_capitalize(\"GAN_JAX_CelebA_demo.ipynb\"))\n",
    "print(upper_to_capitalize(\"two_moons_normalizingFlow.ipynb\"))"
   ]
  },
  {
   "cell_type": "code",
   "execution_count": 15,
   "id": "f3121c34",
   "metadata": {},
   "outputs": [],
   "source": [
    "edge_cases={\n",
    "\"gan__jax__celeb_a__demo.ipynb\": \"gan_jax_celebA_demo.ipynb\",\n",
    "\"dirac_g_a_n.ipynb\" : \"dirac_gan.ipynb\",\n",
    "\"l_v_a_e.ipynb\": \"lvae.ipynb\",\n",
    "\"sts__t_f_p.ipynb\": \"sts.ipynb\",\n",
    "\"v_i_b_demo2021.ipynb\":\"vib_demo_2021.ipynb\"\n",
    "}\n",
    "\n",
    "def change_case(camel_nb_path):\n",
    "    camel_nb = camel_nb_path.split(\"/\")[-1]\n",
    "    \n",
    "    #handle GAN_loss -> Gan_loss otherwise it would give g_a_n_loss\n",
    "    \n",
    "    snake_nb = upper_to_capitalize(camel_nb) \n",
    "    snake_nb = reduce(lambda x, y: x + ('_' if y.isupper() else '') + y, snake_nb).lower()\n",
    "    snake_nb = snake_nb.replace(\"__\",\"_\")\n",
    "    snake_nb = snake_nb.replace(\"celeb_a\",\"celebA\").replace(\"celeba\",\"celebA\")\n",
    "    \n",
    "    if snake_nb in edge_cases:\n",
    "        snake_nb = edge_cases[snake_nb]\n",
    "    \n",
    "    snake_nb_path = camel_nb_path.replace(camel_nb, snake_nb)\n",
    "    if snake_nb_path != camel_nb_path:\n",
    "        return (camel_nb_path, snake_nb_path)"
   ]
  },
  {
   "cell_type": "code",
   "execution_count": 16,
   "id": "b24e469b",
   "metadata": {},
   "outputs": [
    {
     "name": "stdout",
     "output_type": "stream",
     "text": [
      "3\n",
      "../../notebooks/book2/19/vae_celebA_lightning.ipynb\n",
      "../../notebooks/book2/25/gan_jax_celebA_demo.ipynb\n",
      "../../notebooks/book2/27/mix_ppca_celebA.ipynb\n"
     ]
    }
   ],
   "source": [
    "old_new_nb = list(filter(lambda x: x,list(map(change_case, book2))))\n",
    "print(len(old_new_nb))\n",
    "for (old, new) in old_new_nb:\n",
    "    print(new)"
   ]
  },
  {
   "cell_type": "markdown",
   "id": "8a23aa20",
   "metadata": {},
   "source": [
    "## Rename these notebooks"
   ]
  },
  {
   "cell_type": "code",
   "execution_count": 17,
   "id": "84037550",
   "metadata": {},
   "outputs": [],
   "source": [
    "def rename_nb(pair):\n",
    "    old, new = pair\n",
    "    os.rename(old, new)"
   ]
  },
  {
   "cell_type": "code",
   "execution_count": 18,
   "id": "34481c17",
   "metadata": {},
   "outputs": [
    {
     "data": {
      "text/plain": [
       "[None, None, None]"
      ]
     },
     "execution_count": 18,
     "metadata": {},
     "output_type": "execute_result"
    }
   ],
   "source": [
    "list(map(rename_nb, old_new_nb))"
   ]
  },
  {
   "cell_type": "markdown",
   "id": "5aff57b2",
   "metadata": {},
   "source": [
    "## Update latex source code"
   ]
  },
  {
   "cell_type": "code",
   "execution_count": 19,
   "id": "0f82f7f5",
   "metadata": {},
   "outputs": [
    {
     "data": {
      "text/plain": [
       "('../../../bookv2/book2/comp/comp-methods.tex', 384)"
      ]
     },
     "execution_count": 19,
     "metadata": {},
     "output_type": "execute_result"
    }
   ],
   "source": [
    "tex_files = glob(\"../../../bookv2/book2/*/*.tex\")\n",
    "tex_files[5], len(tex_files)"
   ]
  },
  {
   "cell_type": "code",
   "execution_count": 20,
   "id": "b0e50807",
   "metadata": {},
   "outputs": [],
   "source": [
    "def make_latex_nb(nb_path):\n",
    "    \"\"\"\n",
    "    foo_jax -> foo\\_jax\n",
    "    \"\"\"\n",
    "    nb = nb_path.split(\"/\")[-1]\n",
    "    nb = nb.replace(\"_\", \"\\_\").replace(\".ipynb\", \"\")\n",
    "    return nb\n",
    "\n",
    "\n",
    "def replace_keyword_in_tex(tex_file, old_nb, new_nb):\n",
    "\n",
    "    with open(tex_file, \"r\") as fp:\n",
    "        content = fp.read()\n",
    "\n",
    "    old = \"\\\\notebook{\" + make_latex_nb(old_nb)  # foo_jax -> foo\\_jax\n",
    "    new = \"\\\\notebook{\" + make_latex_nb(new_nb)\n",
    "\n",
    "    if old in content:\n",
    "        print(f\"In {tex_file} - {old} -> {new}\")\n",
    "    content = content.replace(old, new)\n",
    "\n",
    "    with open(tex_file, \"w\") as fp:\n",
    "        fp.write(content)"
   ]
  },
  {
   "cell_type": "code",
   "execution_count": 21,
   "id": "3e6500f2",
   "metadata": {},
   "outputs": [],
   "source": [
    "# replace_keyword_in_tex(tex_files[5],\"advi_beta_binom_jax.ipynb\",\"advi_beta_binom.ipynb\")"
   ]
  },
  {
   "cell_type": "code",
   "execution_count": 22,
   "id": "975b63d5",
   "metadata": {},
   "outputs": [
    {
     "name": "stdout",
     "output_type": "stream",
     "text": [
      "In ../../../bookv2/book2/genmo/genmo.tex - \\notebook{vae\\_celeba\\_lightning -> \\notebook{vae\\_celebA\\_lightning\n",
      "In ../../../bookv2/book2/lfm/mfa.tex - \\notebook{mix\\_\\_ppca\\_celeba -> \\notebook{mix\\_ppca\\_celebA\n"
     ]
    }
   ],
   "source": [
    "for (old, new) in old_new_nb:\n",
    "    list(map(replace_keyword_in_tex, tex_files, [old] * len(tex_files), [new] * len(tex_files)))"
   ]
  },
  {
   "cell_type": "markdown",
   "id": "23c2a00f",
   "metadata": {},
   "source": [
    "## Update in notebooks "
   ]
  },
  {
   "cell_type": "code",
   "execution_count": 61,
   "id": "d2cca598",
   "metadata": {},
   "outputs": [
    {
     "data": {
      "text/plain": [
       "(182, '../../notebooks/book2/18/bnn_mnist_sgld.ipynb')"
      ]
     },
     "execution_count": 61,
     "metadata": {},
     "output_type": "execute_result"
    }
   ],
   "source": [
    "book2 = glob(\"../../notebooks/book2/*/*.ipynb\")\n",
    "len(book2), book2[0]"
   ]
  },
  {
   "cell_type": "code",
   "execution_count": 62,
   "id": "9782d085",
   "metadata": {},
   "outputs": [],
   "source": [
    "def apply_fun_to_notebook(notebook, fun, old_nb_path, new_nb_path):\n",
    "    \"\"\"\n",
    "    fun should take one argument: code\n",
    "    \"\"\"\n",
    "    nb = nbformat.read(notebook, as_version=4)\n",
    "    for cell in nb.cells:\n",
    "        code = cell[\"source\"]\n",
    "        updated_code = fun(code, old_nb_path, new_nb_path)\n",
    "        if updated_code != code:\n",
    "            cell[\"source\"] = updated_code\n",
    "            nbformat.write(nb, notebook)\n",
    "\n",
    "\n",
    "def replace_keyword(code, old_nb_path, new_nb_path):\n",
    "    old_nb = old_nb_path.split(\"/\")[-1]\n",
    "    new_nb = new_nb_path.split(\"/\")[-1]\n",
    "    code = code.replace(old_nb, new_nb)\n",
    "    return code"
   ]
  },
  {
   "cell_type": "code",
   "execution_count": 63,
   "id": "f11451e5",
   "metadata": {},
   "outputs": [],
   "source": [
    "book2 = glob(\"../../notebooks/book2/*/*.ipynb\")\n",
    "for pair in old_new_nb:\n",
    "    list(\n",
    "        map(\n",
    "            apply_fun_to_notebook, book2, [replace_keyword] * len(book2), [pair[0]] * len(book2), [pair[1]] * len(book2)\n",
    "        )\n",
    "    )"
   ]
  },
  {
   "cell_type": "code",
   "execution_count": null,
   "id": "7033f83e",
   "metadata": {},
   "outputs": [],
   "source": []
  },
  {
   "cell_type": "code",
   "execution_count": null,
   "id": "b1635cbd",
   "metadata": {},
   "outputs": [],
   "source": []
  }
 ],
 "metadata": {
  "kernelspec": {
   "display_name": "Python [conda env:py3713]",
   "language": "python",
   "name": "conda-env-py3713-py"
  },
  "language_info": {
   "codemirror_mode": {
    "name": "ipython",
    "version": 3
   },
   "file_extension": ".py",
   "mimetype": "text/x-python",
   "name": "python",
   "nbconvert_exporter": "python",
   "pygments_lexer": "ipython3",
   "version": "3.7.13"
  }
 },
 "nbformat": 4,
 "nbformat_minor": 5
}
