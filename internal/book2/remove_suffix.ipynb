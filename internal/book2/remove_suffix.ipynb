{
 "cells": [
  {
   "cell_type": "code",
   "execution_count": 1,
   "id": "687d1d38",
   "metadata": {},
   "outputs": [],
   "source": [
    "from glob import glob\n",
    "import pandas as pd\n",
    "import os\n",
    "import nbformat"
   ]
  },
  {
   "cell_type": "code",
   "execution_count": 2,
   "id": "6cee79d0",
   "metadata": {},
   "outputs": [
    {
     "data": {
      "text/plain": [
       "(183, '../../notebooks/book2/18/bnn_mnist_sgld.ipynb')"
      ]
     },
     "execution_count": 2,
     "metadata": {},
     "output_type": "execute_result"
    }
   ],
   "source": [
    "book2 = glob(\"../../notebooks/book2/*/*.ipynb\")\n",
    "len(book2), book2[0]"
   ]
  },
  {
   "cell_type": "code",
   "execution_count": 3,
   "id": "e763f450",
   "metadata": {},
   "outputs": [
    {
     "data": {
      "text/plain": [
       "(14,\n",
       " ['../../notebooks/book2/11/funnel_numpyro.ipynb',\n",
       "  '../../notebooks/book2/11/mcmc_traceplots_unigauss_numpyro.ipynb',\n",
       "  '../../notebooks/book2/17/gpc_demo_2d_sklearn.ipynb',\n",
       "  '../../notebooks/book2/15/activation_fun_deriv_jax.ipynb',\n",
       "  '../../notebooks/book2/15/lecun1989_flax.ipynb',\n",
       "  '../../notebooks/book2/14/linreg_hierarchical_non_centered_blackjax.ipynb',\n",
       "  '../../notebooks/book2/14/linreg_height_weight_numpyro.ipynb',\n",
       "  '../../notebooks/book2/14/logreg_iris_bayes_2d_pymc3.ipynb',\n",
       "  '../../notebooks/book2/20/vdvae_flax_demo_cifar.ipynb',\n",
       "  '../../notebooks/book2/28/causal_impact_tfp.ipynb',\n",
       "  '../../notebooks/book2/07/laplace_approx_beta_binom_jax.ipynb',\n",
       "  '../../notebooks/book2/07/hmc_beta_binom_blackjax.ipynb',\n",
       "  '../../notebooks/book2/07/advi_beta_binom_jax.ipynb',\n",
       "  '../../notebooks/book2/22/flow_spline_mnist_jax.ipynb'])"
      ]
     },
     "execution_count": 3,
     "metadata": {},
     "output_type": "execute_result"
    }
   ],
   "source": [
    "suffix = [\"tfp\", \"blackjax\", \"jax\", \"pyro\", \"numpyro\", \"pymc3\", \"pymc\", \"sklearn\", \"flax\"]\n",
    "suffix = [\"_\" + suff for suff in suffix]  # add underscore\n",
    "\n",
    "check_suffix = lambda nb_name: any([suff in nb_name for suff in suffix])\n",
    "nb_suffix = list(filter(lambda x: check_suffix(x), book2))\n",
    "len(nb_suffix), nb_suffix"
   ]
  },
  {
   "cell_type": "code",
   "execution_count": 4,
   "id": "ac528846",
   "metadata": {},
   "outputs": [],
   "source": [
    "def replace_to_without_suffix(nb_path, do_replace):\n",
    "    old_path = nb_path\n",
    "    for suff in suffix:\n",
    "        nb_path = nb_path.replace(suff, \"\")\n",
    "\n",
    "    if do_replace:\n",
    "        os.rename(old_path, nb_path)\n",
    "    return (old_path, nb_path)"
   ]
  },
  {
   "cell_type": "code",
   "execution_count": 5,
   "id": "df72a307",
   "metadata": {},
   "outputs": [
    {
     "data": {
      "text/plain": [
       "(14,\n",
       " [('../../notebooks/book2/11/funnel_numpyro.ipynb',\n",
       "   '../../notebooks/book2/11/funnel.ipynb'),\n",
       "  ('../../notebooks/book2/11/mcmc_traceplots_unigauss_numpyro.ipynb',\n",
       "   '../../notebooks/book2/11/mcmc_traceplots_unigauss.ipynb'),\n",
       "  ('../../notebooks/book2/17/gpc_demo_2d_sklearn.ipynb',\n",
       "   '../../notebooks/book2/17/gpc_demo_2d.ipynb'),\n",
       "  ('../../notebooks/book2/15/activation_fun_deriv_jax.ipynb',\n",
       "   '../../notebooks/book2/15/activation_fun_deriv.ipynb'),\n",
       "  ('../../notebooks/book2/15/lecun1989_flax.ipynb',\n",
       "   '../../notebooks/book2/15/lecun1989.ipynb'),\n",
       "  ('../../notebooks/book2/14/linreg_hierarchical_non_centered_blackjax.ipynb',\n",
       "   '../../notebooks/book2/14/linreg_hierarchical_non_centered.ipynb'),\n",
       "  ('../../notebooks/book2/14/linreg_height_weight_numpyro.ipynb',\n",
       "   '../../notebooks/book2/14/linreg_height_weight.ipynb'),\n",
       "  ('../../notebooks/book2/14/logreg_iris_bayes_2d_pymc3.ipynb',\n",
       "   '../../notebooks/book2/14/logreg_iris_bayes_2d.ipynb'),\n",
       "  ('../../notebooks/book2/20/vdvae_flax_demo_cifar.ipynb',\n",
       "   '../../notebooks/book2/20/vdvae_demo_cifar.ipynb'),\n",
       "  ('../../notebooks/book2/28/causal_impact_tfp.ipynb',\n",
       "   '../../notebooks/book2/28/causal_impact.ipynb'),\n",
       "  ('../../notebooks/book2/07/laplace_approx_beta_binom_jax.ipynb',\n",
       "   '../../notebooks/book2/07/laplace_approx_beta_binom.ipynb'),\n",
       "  ('../../notebooks/book2/07/hmc_beta_binom_blackjax.ipynb',\n",
       "   '../../notebooks/book2/07/hmc_beta_binom.ipynb'),\n",
       "  ('../../notebooks/book2/07/advi_beta_binom_jax.ipynb',\n",
       "   '../../notebooks/book2/07/advi_beta_binom.ipynb'),\n",
       "  ('../../notebooks/book2/22/flow_spline_mnist_jax.ipynb',\n",
       "   '../../notebooks/book2/22/flow_spline_mnist.ipynb')])"
      ]
     },
     "execution_count": 5,
     "metadata": {},
     "output_type": "execute_result"
    }
   ],
   "source": [
    "nb_pairs = list(map(replace_to_without_suffix, nb_suffix, [1] * len(nb_suffix)))\n",
    "len(nb_pairs), nb_pairs"
   ]
  },
  {
   "cell_type": "markdown",
   "id": "5aff57b2",
   "metadata": {},
   "source": [
    "## Update latex source code"
   ]
  },
  {
   "cell_type": "code",
   "execution_count": 9,
   "id": "0f82f7f5",
   "metadata": {},
   "outputs": [
    {
     "data": {
      "text/plain": [
       "('../../../bookv2/book2/comp/comp-methods.tex', 384)"
      ]
     },
     "execution_count": 9,
     "metadata": {},
     "output_type": "execute_result"
    }
   ],
   "source": [
    "tex_files = glob(\"../../../bookv2/book2/*/*.tex\")\n",
    "tex_files[5], len(tex_files)"
   ]
  },
  {
   "cell_type": "code",
   "execution_count": 10,
   "id": "b0e50807",
   "metadata": {},
   "outputs": [],
   "source": [
    "def make_latex_nb(nb_path):\n",
    "    \"\"\"\n",
    "    foo_jax -> foo\\_jax\n",
    "    \"\"\"\n",
    "    nb = nb_path.split(\"/\")[-1]\n",
    "    nb = nb.replace(\"_\", \"\\_\").replace(\".ipynb\", \"\")\n",
    "    return nb\n",
    "\n",
    "\n",
    "def replace_keyword_in_tex(tex_file, old_nb, new_nb):\n",
    "\n",
    "    with open(tex_file, \"r\") as fp:\n",
    "        content = fp.read()\n",
    "\n",
    "    old = make_latex_nb(old_nb)  # foo_jax -> foo\\_jax\n",
    "    new = make_latex_nb(new_nb)\n",
    "\n",
    "    if old in content:\n",
    "        print(f\"In {tex_file} - {old} -> {new}\")\n",
    "    content = content.replace(old, new)\n",
    "\n",
    "    with open(tex_file, \"w\") as fp:\n",
    "        fp.write(content)"
   ]
  },
  {
   "cell_type": "code",
   "execution_count": 11,
   "id": "3e6500f2",
   "metadata": {},
   "outputs": [],
   "source": [
    "# replace_keyword_in_tex(tex_files[5],\"advi_beta_binom_jax.ipynb\",\"advi_beta_binom.ipynb\")"
   ]
  },
  {
   "cell_type": "code",
   "execution_count": 12,
   "id": "975b63d5",
   "metadata": {},
   "outputs": [
    {
     "name": "stdout",
     "output_type": "stream",
     "text": [
      "In ../../../bookv2/book2/gp/gp-classification.tex - gpc\\_demo\\_2d\\_sklearn -> gpc\\_demo\\_2d\n",
      "In ../../../bookv2/book2/dnn/blocks.tex - activation\\_fun\\_deriv\\_jax -> activation\\_fun\\_deriv\n",
      "In ../../../bookv2/book2/dnn/canonical.tex - lecun1989\\_flax -> lecun1989\n",
      "In ../../../bookv2/book2/glm/glmm.tex - linreg\\_hierarchical\\_non\\_centered\\_blackjax -> linreg\\_hierarchical\\_non\\_centered\n",
      "In ../../../bookv2/book2/glm/glm-linreg.tex - linreg\\_height\\_weight\\_numpyro -> linreg\\_height\\_weight\n",
      "In ../../../bookv2/book2/glm/logreg.tex - logreg\\_iris\\_bayes\\_2d\\_pymc3 -> logreg\\_iris\\_bayes\\_2d\n",
      "In ../../../bookv2/book2/nfm/hvae.tex - vdvae\\_flax\\_demo\\_cifar -> vdvae\\_demo\\_cifar\n",
      "In ../../../bookv2/book2/ssm/impact.tex - causal\\_impact\\_tfp -> causal\\_impact\n",
      "In ../../../bookv2/book2/misc/dci.tex - causal\\_impact\\_tfp -> causal\\_impact\n",
      "In ../../../bookv2/book2/comp/comp-methods.tex - laplace\\_approx\\_beta\\_binom\\_jax -> laplace\\_approx\\_beta\\_binom\n",
      "In ../../../bookv2/book2/comp/comp-methods.tex - hmc\\_beta\\_binom\\_blackjax -> hmc\\_beta\\_binom\n",
      "In ../../../bookv2/book2/comp/comp-methods.tex - advi\\_beta\\_binom\\_jax -> advi\\_beta\\_binom\n",
      "In ../../../bookv2/book2/flows/construction.tex - flow\\_spline\\_mnist\\_jax -> flow\\_spline\\_mnist\n"
     ]
    }
   ],
   "source": [
    "for pair in nb_pairs:\n",
    "    old, new = pair\n",
    "    # print(old, new)\n",
    "    list(map(replace_keyword_in_tex, tex_files, [old] * len(tex_files), [new] * len(tex_files)))"
   ]
  },
  {
   "cell_type": "markdown",
   "id": "23c2a00f",
   "metadata": {},
   "source": [
    "## Update in notebooks "
   ]
  },
  {
   "cell_type": "code",
   "execution_count": 13,
   "id": "9782d085",
   "metadata": {},
   "outputs": [],
   "source": [
    "def apply_fun_to_notebook(notebook, fun, old_nb_path, new_nb_path):\n",
    "    \"\"\"\n",
    "    fun should take one argument: code\n",
    "    \"\"\"\n",
    "    nb = nbformat.read(notebook, as_version=4)\n",
    "    for cell in nb.cells:\n",
    "        code = cell[\"source\"]\n",
    "        updated_code = fun(code, old_nb_path, new_nb_path)\n",
    "        if updated_code != code:\n",
    "            cell[\"source\"] = updated_code\n",
    "            nbformat.write(nb, notebook)\n",
    "\n",
    "\n",
    "def replace_keyword(code, old_nb_path, new_nb_path):\n",
    "    old_nb = old_nb_path.split(\"/\")[-1]\n",
    "    new_nb = new_nb_path.split(\"/\")[-1]\n",
    "    code = code.replace(old_nb, new_nb)\n",
    "    return code"
   ]
  },
  {
   "cell_type": "code",
   "execution_count": 14,
   "id": "f11451e5",
   "metadata": {},
   "outputs": [],
   "source": [
    "book2 = glob(\"../../notebooks/book2/*/*.ipynb\")\n",
    "for pair in nb_pairs:\n",
    "    list(\n",
    "        map(\n",
    "            apply_fun_to_notebook, book2, [replace_keyword] * len(book2), [pair[0]] * len(book2), [pair[1]] * len(book2)\n",
    "        )\n",
    "    )"
   ]
  },
  {
   "cell_type": "code",
   "execution_count": null,
   "id": "7033f83e",
   "metadata": {},
   "outputs": [],
   "source": []
  }
 ],
 "metadata": {
  "kernelspec": {
   "display_name": "Python [conda env:py3713]",
   "language": "python",
   "name": "conda-env-py3713-py"
  },
  "language_info": {
   "codemirror_mode": {
    "name": "ipython",
    "version": 3
   },
   "file_extension": ".py",
   "mimetype": "text/x-python",
   "name": "python",
   "nbconvert_exporter": "python",
   "pygments_lexer": "ipython3",
   "version": "3.7.13"
  }
 },
 "nbformat": 4,
 "nbformat_minor": 5
}
