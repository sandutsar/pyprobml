{
 "cells": [
  {
   "cell_type": "markdown",
   "metadata": {
    "id": "view-in-github",
    "colab_type": "text"
   },
   "source": [
    "<a href=\"https://colab.research.google.com/github/probml/probml-notebooks/blob/main/notebooks/gp_mauna_loa.ipynb\" target=\"_parent\"><img src=\"https://colab.research.google.com/assets/colab-badge.svg\" alt=\"Open In Colab\"/></a>"
   ]
  },
  {
   "cell_type": "markdown",
   "source": [
    "# Gaussian process time series forecasting for Mauna Loa CO2\n",
    "\n",
    "In the following, we'll reproduce the analysis for Figure 5.6 in [Chapter 5 of Rasmussen & Williams (R&W)](http://www.gaussianprocess.org/gpml/chapters/RW5.pdf).\n",
    "\n",
    "Code is from \n",
    "https://tinygp.readthedocs.io/en/latest/tutorials/quickstart.html\n",
    "\n"
   ],
   "metadata": {
    "id": "J1WWQI9sYmCH"
   },
   "id": "J1WWQI9sYmCH"
  },
  {
   "cell_type": "code",
   "execution_count": 1,
   "id": "false-finder",
   "metadata": {
    "tags": [
     "hide-cell"
    ],
    "id": "false-finder"
   },
   "outputs": [],
   "source": [
    "try:\n",
    "    import tinygp\n",
    "except ImportError:\n",
    "    !pip install -q tinygp\n",
    "\n",
    "from jax.config import config\n",
    "\n",
    "config.update(\"jax_enable_x64\", True)"
   ]
  },
  {
   "cell_type": "markdown",
   "id": "polish-inquiry",
   "metadata": {
    "id": "polish-inquiry"
   },
   "source": [
    "# Data\n",
    "\n",
    "The data are measurements of the atmospheric CO2 concentration made at Mauna Loa, Hawaii (Keeling & Whorf 2004).\n",
    "Data can be found at  http://scrippsco2.ucsd.edu/data/atmospheric_co2/primary_mlo_co2_record. We use the [statsmodels version](http://statsmodels.sourceforge.net/devel/datasets/generated/co2.html].\n",
    " "
   ]
  },
  {
   "cell_type": "code",
   "execution_count": 2,
   "id": "physical-sarah",
   "metadata": {
    "id": "physical-sarah",
    "outputId": "27f4e4e5-b015-4f15-9a0c-d16d1e2da58d",
    "colab": {
     "base_uri": "https://localhost:8080/",
     "height": 334
    }
   },
   "outputs": [
    {
     "output_type": "stream",
     "name": "stderr",
     "text": [
      "/usr/local/lib/python3.7/dist-packages/statsmodels/tools/_testing.py:19: FutureWarning: pandas.util.testing is deprecated. Use the functions in the public API at pandas.testing instead.\n",
      "  import pandas.util.testing as tm\n"
     ]
    },
    {
     "output_type": "display_data",
     "data": {
      "image/png": "[encoded data removed]",
      "text/plain": [
       "<Figure size 432x288 with 1 Axes>"
      ]
     },
     "metadata": {
      "needs_background": "light"
     }
    }
   ],
   "source": [
    "import numpy as np\n",
    "import matplotlib.pyplot as plt\n",
    "from statsmodels.datasets import co2\n",
    "\n",
    "data = co2.load_pandas().data\n",
    "t = 2000 + (np.array(data.index.to_julian_date()) - 2451545.0) / 365.25\n",
    "y = np.array(data.co2)\n",
    "m = np.isfinite(t) & np.isfinite(y) & (t < 1996)\n",
    "t, y = t[m][::4], y[m][::4]\n",
    "\n",
    "plt.plot(t, y, \".k\")\n",
    "plt.xlim(t.min(), t.max())\n",
    "plt.xlabel(\"year\")\n",
    "_ = plt.ylabel(\"CO$_2$ in ppm\")\n",
    "plt.savefig(\"gp-mauna-loa-data.pdf\")"
   ]
  },
  {
   "cell_type": "markdown",
   "source": [
    "# Kernel"
   ],
   "metadata": {
    "id": "cFZwmTyInJw_"
   },
   "id": "cFZwmTyInJw_"
  },
  {
   "cell_type": "markdown",
   "id": "4bae6bac-8d04-4343-8db3-ab90a02a5d7c",
   "metadata": {
    "id": "4bae6bac-8d04-4343-8db3-ab90a02a5d7c"
   },
   "source": [
    "In this figure, you can see that there is periodic (or quasi-periodic) signal with a year-long period superimposed on a long term trend. We will follow R&W and model these effects non-parametrically using a complicated covariance function. The covariance function that we’ll use is:\n",
    "\n",
    "$$k(r) = k_1(r) + k_2(r) + k_3(r) + k_4(r)$$\n",
    "\n",
    "where\n",
    "\n",
    "$$\n",
    "\\begin{eqnarray}\n",
    "    k_1(r) &=& \\theta_0^2 \\, \\exp \\left(-\\frac{r^2}{2\\,\\theta_1^2} \\right) \\\\\n",
    "    k_2(r) &=& \\theta_2^2 \\, \\exp \\left(-\\frac{r^2}{2\\,\\theta_3^2}\n",
    "                                         -\\theta_5\\,\\sin^2\\left(\n",
    "                                         \\frac{\\pi\\,r}{\\theta_4}\\right)\n",
    "                                        \\right) \\\\\n",
    "    k_3(r) &=& \\theta_6^2 \\, \\left [ 1 + \\frac{r^2}{2\\,\\theta_7^2\\,\\theta_8}\n",
    "                             \\right ]^{-\\theta_8} \\\\\n",
    "    k_4(r) &=& \\theta_{9}^2 \\, \\exp \\left(-\\frac{r^2}{2\\,\\theta_{10}^2} \\right)\n",
    "                + \\theta_{11}^2\\,\\delta_{ij}\n",
    "\\end{eqnarray}\n",
    "$$\n",
    "\n",
    "We can implement this kernel in `tinygp` as follows (we'll use the R&W results as the hyperparameters for now):"
   ]
  },
  {
   "cell_type": "code",
   "execution_count": 8,
   "id": "excessive-reading",
   "metadata": {
    "id": "excessive-reading"
   },
   "outputs": [],
   "source": [
    "import jax\n",
    "import jax.numpy as jnp\n",
    "\n",
    "from tinygp import kernels, transforms, GaussianProcess\n",
    "\n",
    "\n",
    "def build_gp(theta, X):\n",
    "    mean = theta[-1]\n",
    "\n",
    "    # We want most of out parameters to be positive so we take the `exp` here\n",
    "    # Note that we're using `jnp` instead of `np`\n",
    "    theta = jnp.exp(theta[:-1])\n",
    "\n",
    "    # Construct the kernel by multiplying and adding `Kernel` objects\n",
    "    k1 = theta[0] ** 2 * kernels.ExpSquared(theta[1])\n",
    "    k2 = theta[2] ** 2 * kernels.ExpSquared(theta[3]) * kernels.ExpSineSquared(period=theta[4], gamma=theta[5])\n",
    "    k3 = theta[6] ** 2 * kernels.RationalQuadratic(alpha=theta[7], scale=theta[8])\n",
    "    k4 = theta[9] ** 2 * kernels.ExpSquared(theta[10])\n",
    "    kernel = k1 + k2 + k3 + k4\n",
    "\n",
    "    return GaussianProcess(kernel, X, diag=theta[11] ** 2, mean=mean)\n",
    "\n",
    "\n",
    "def neg_log_likelihood(theta, X, y):\n",
    "    gp = build_gp(theta, X)\n",
    "    return -gp.condition(y)"
   ]
  },
  {
   "cell_type": "markdown",
   "source": [
    "# Model fitting"
   ],
   "metadata": {
    "id": "aQv5T4mLnMgg"
   },
   "id": "aQv5T4mLnMgg"
  },
  {
   "cell_type": "code",
   "source": [
    "# Objective\n",
    "obj = jax.jit(jax.value_and_grad(neg_log_likelihood))\n",
    "\n",
    "# These are the parameters from R&W\n",
    "mean_output = 340.0\n",
    "theta_init = np.append(\n",
    "    np.log([66.0, 67.0, 2.4, 90.0, 1.0, 4.3, 0.66, 1.2, 0.78, 0.18, 1.6, 0.19]),\n",
    "    mean_output,\n",
    ")"
   ],
   "metadata": {
    "id": "p1CF5wqZnPN9"
   },
   "id": "p1CF5wqZnPN9",
   "execution_count": null,
   "outputs": []
  },
  {
   "cell_type": "code",
   "source": [
    "obj(theta_init, t, y)"
   ],
   "metadata": {
    "id": "S75aMtGyYdgf",
    "outputId": "3d3053c7-7579-4ab1-b486-d4aa55f5980e",
    "colab": {
     "base_uri": "https://localhost:8080/"
    }
   },
   "id": "S75aMtGyYdgf",
   "execution_count": 11,
   "outputs": [
    {
     "output_type": "execute_result",
     "data": {
      "text/plain": [
       "(DeviceArray(585.37706269, dtype=float64),\n",
       " DeviceArray([-2.58285907e-01,  3.56378508e+00,  1.23388062e+01,\n",
       "              -5.49784599e+00,  2.47378961e+03,  1.67550159e+01,\n",
       "              -1.93739004e+01,  1.82885890e+01,  8.83113233e+01,\n",
       "               1.51907390e-01, -3.30175815e-01, -1.01704645e+03,\n",
       "              -1.12356739e-02], dtype=float64))"
      ]
     },
     "metadata": {},
     "execution_count": 11
    }
   ]
  },
  {
   "cell_type": "markdown",
   "id": "9d1c26a8-e760-4f57-8744-e1b8159540f2",
   "metadata": {
    "id": "9d1c26a8-e760-4f57-8744-e1b8159540f2"
   },
   "source": [
    "\n",
    "\n",
    "Using our loss function defined above, we'll run a gradient based optimization routine from `scipy` (you could also use a `jax`-specific optimizer, but that's not necessary) to fit this model as follows:"
   ]
  },
  {
   "cell_type": "code",
   "execution_count": 12,
   "id": "verified-island",
   "metadata": {
    "id": "verified-island",
    "outputId": "2ce9b700-b2d4-4876-faf0-0685785da910",
    "colab": {
     "base_uri": "https://localhost:8080/"
    }
   },
   "outputs": [
    {
     "output_type": "stream",
     "name": "stdout",
     "text": [
      "Final negative log likelihood: 299.249780494596\n"
     ]
    }
   ],
   "source": [
    "from scipy.optimize import minimize\n",
    "\n",
    "soln = minimize(obj, theta_init, jac=True, args=(t, y))\n",
    "print(f\"Final negative log likelihood: {soln.fun}\")"
   ]
  },
  {
   "cell_type": "markdown",
   "id": "a2cab9bd-7d38-429f-9923-50836e470587",
   "metadata": {
    "id": "a2cab9bd-7d38-429f-9923-50836e470587"
   },
   "source": [
    "**Warning:** *An optimization code something like this should work on most problems but the results can be very sensitive to your choice of initialization and algorithm. If the results are nonsense, try choosing a better initial guess or try a different value of the ``method`` parameter in ``op.minimize``.*\n",
    "\n"
   ]
  },
  {
   "cell_type": "markdown",
   "source": [
    "# Plot results"
   ],
   "metadata": {
    "id": "xSJU6dH-nU3c"
   },
   "id": "xSJU6dH-nU3c"
  },
  {
   "cell_type": "code",
   "execution_count": 16,
   "id": "latin-weather",
   "metadata": {
    "id": "latin-weather",
    "outputId": "598eb9e2-64c8-4e58-c13f-69e7c7cb1725",
    "colab": {
     "base_uri": "https://localhost:8080/",
     "height": 279
    }
   },
   "outputs": [
    {
     "output_type": "display_data",
     "data": {
      "image/png": "[encoded data removed]",
      "text/plain": [
       "<Figure size 432x288 with 1 Axes>"
      ]
     },
     "metadata": {
      "needs_background": "light"
     }
    }
   ],
   "source": [
    "x = np.linspace(max(t), 2025, 2000)\n",
    "gp = build_gp(soln.x, t)\n",
    "mu, var = gp.predict(y, x, return_var=True)\n",
    "\n",
    "plt.plot(t, y, \".k\")\n",
    "plt.fill_between(x, mu + np.sqrt(var), mu - np.sqrt(var), color=\"C0\", alpha=0.5)\n",
    "plt.plot(x, mu, color=\"C0\", lw=2)\n",
    "\n",
    "plt.xlim(t.min(), 2025)\n",
    "plt.xlabel(\"year\")\n",
    "_ = plt.ylabel(\"CO$_2$ in ppm\")\n",
    "plt.savefig(\"gp-mauna-loa-pred.pdf\")"
   ]
  },
  {
   "cell_type": "code",
   "execution_count": null,
   "id": "ab2de9cb-9b13-4cf1-b8be-6d533f9abb37",
   "metadata": {
    "id": "ab2de9cb-9b13-4cf1-b8be-6d533f9abb37"
   },
   "outputs": [],
   "source": [
    ""
   ]
  }
 ],
 "metadata": {
  "kernelspec": {
   "display_name": "Python 3 (ipykernel)",
   "language": "python",
   "name": "python3"
  },
  "language_info": {
   "codemirror_mode": {
    "name": "ipython",
    "version": 3
   },
   "file_extension": ".py",
   "mimetype": "text/x-python",
   "name": "python",
   "nbconvert_exporter": "python",
   "pygments_lexer": "ipython3",
   "version": "3.9.9"
  },
  "colab": {
   "name": "gp-mauna-loa.ipynb",
   "provenance": [],
   "toc_visible": true,
   "include_colab_link": true
  },
  "accelerator": "GPU"
 },
 "nbformat": 4,
 "nbformat_minor": 5
}