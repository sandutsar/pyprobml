{
 "cells": [
  {
   "cell_type": "markdown",
   "metadata": {
    "id": "view-in-github",
    "colab_type": "text"
   },
   "source": [
    "<a href=\"https://colab.research.google.com/github/probml/probml-notebooks/blob/main/notebooks/gp_kernel_opt.ipynb\" target=\"_parent\"><img src=\"https://colab.research.google.com/assets/colab-badge.svg\" alt=\"Open In Colab\"/></a>"
   ]
  },
  {
   "cell_type": "markdown",
   "source": [
    "# GP kernel parameter optimization/ inference \n",
    "\n",
    "Slightly modified from \n",
    "\n",
    "https://tinygp.readthedocs.io/en/latest/tutorials/modeling.html\n",
    "\n",
    "(We simplify the code by not passing the `yerr` variable to the model, and rename the input `t` (for time) to `x`, to make it more generic.) "
   ],
   "metadata": {
    "id": "IH6cIWuxIcAi"
   },
   "id": "IH6cIWuxIcAi"
  },
  {
   "cell_type": "code",
   "execution_count": 1,
   "id": "vertical-survivor",
   "metadata": {
    "tags": [
     "hide-cell"
    ],
    "id": "vertical-survivor",
    "colab": {
     "base_uri": "https://localhost:8080/"
    },
    "outputId": "6c96011b-3e3e-4d1d-d408-3fdfb9b38e01"
   },
   "outputs": [
    {
     "output_type": "stream",
     "name": "stdout",
     "text": [
      "Found existing installation: jax 0.2.25\n",
      "Uninstalling jax-0.2.25:\n",
      "  Successfully uninstalled jax-0.2.25\n",
      "Found existing installation: jaxlib 0.1.71+cuda111\n",
      "Uninstalling jaxlib-0.1.71+cuda111:\n",
      "  Successfully uninstalled jaxlib-0.1.71+cuda111\n",
      "\u001b[K     |████████████████████████████████| 264 kB 932 kB/s \n",
      "\u001b[K     |████████████████████████████████| 873 kB 11.6 MB/s \n",
      "\u001b[K     |████████████████████████████████| 62.2 MB 1.2 MB/s \n",
      "\u001b[?25h  Building wheel for jax (setup.py) ... \u001b[?25l\u001b[?25hdone\n",
      "\u001b[K     |████████████████████████████████| 207 kB 13.4 MB/s \n",
      "\u001b[K     |████████████████████████████████| 126 kB 66.8 MB/s \n",
      "\u001b[K     |████████████████████████████████| 65 kB 4.2 MB/s \n",
      "\u001b[?25h"
     ]
    }
   ],
   "source": [
    "try:\n",
    "    import tinygp\n",
    "except ImportError:\n",
    "    !pip install -q tinygp\n",
    "\n",
    "try:\n",
    "    import numpyro\n",
    "except ImportError:\n",
    "    !pip uninstall -y jax jaxlib\n",
    "    !pip install -q numpyro jax jaxlib\n",
    "\n",
    "try:\n",
    "    import arviz\n",
    "except ImportError:\n",
    "    !pip install arviz\n",
    "\n",
    "try:\n",
    "    import flax\n",
    "except ImportError:\n",
    "    !pip install -q flax\n",
    "\n",
    "try:\n",
    "    import optax\n",
    "except ImportError:\n",
    "    !pip install -q optax\n",
    "\n",
    "from jax.config import config\n",
    "\n",
    "config.update(\"jax_enable_x64\", True)"
   ]
  },
  {
   "cell_type": "markdown",
   "id": "arctic-compilation",
   "metadata": {
    "id": "arctic-compilation"
   },
   "source": [
    "# Data\n"
   ]
  },
  {
   "cell_type": "code",
   "execution_count": 15,
   "id": "insured-myrtle",
   "metadata": {
    "id": "insured-myrtle",
    "colab": {
     "base_uri": "https://localhost:8080/",
     "height": 295
    },
    "outputId": "df008c56-52af-4ab4-a60d-bb2b83b48f3e"
   },
   "outputs": [
    {
     "output_type": "display_data",
     "data": {
      "image/png": "[encoded data removed]",
      "text/plain": [
       "<Figure size 432x288 with 1 Axes>"
      ]
     },
     "metadata": {
      "needs_background": "light"
     }
    }
   ],
   "source": [
    "import numpy as np\n",
    "import matplotlib.pyplot as plt\n",
    "\n",
    "random = np.random.default_rng(42)\n",
    "\n",
    "t = np.sort(\n",
    "    np.append(\n",
    "        random.uniform(0, 3.8, 28),\n",
    "        random.uniform(5.5, 10, 18),\n",
    "    )\n",
    ")\n",
    "yerr = random.uniform(0.08, 0.22, len(t))\n",
    "y = 0.2 * (t - 5) + np.sin(3 * t + 0.1 * (t - 5) ** 2) + yerr * random.normal(size=len(t))\n",
    "\n",
    "true_t = np.linspace(0, 10, 100)\n",
    "true_y = 0.2 * (true_t - 5) + np.sin(3 * true_t + 0.1 * (true_t - 5) ** 2)\n",
    "\n",
    "x = t\n",
    "x_test = true_t\n",
    "y_test = true_y\n",
    "\n",
    "plt.plot(x_test, y_test, \"k\", lw=1.5, alpha=0.3)\n",
    "plt.errorbar(x, y, yerr=yerr, fmt=\".k\", capsize=0)\n",
    "plt.xlabel(\"x [day]\")\n",
    "plt.ylabel(\"y [ppm]\")\n",
    "plt.xlim(0, 10)\n",
    "plt.ylim(-2.5, 2.5)\n",
    "_ = plt.title(\"simulated data\")\n",
    "\n",
    "plt.savefig(\"gp-kernel-opt-data.pdf\")"
   ]
  },
  {
   "cell_type": "markdown",
   "id": "f516ffda-dea9-44e2-bc59-11e071c7984d",
   "metadata": {
    "id": "f516ffda-dea9-44e2-bc59-11e071c7984d"
   },
   "source": [
    "\n",
    "\n",
    "# Optimizing hyper-parameters using flax & optax\n",
    "\n",
    "We  find the maximum (marginal) likelihood hyperparameters for the GP model.\n",
    "\n",
    "\n",
    "To set up our model, we define a custom `linen.Module`, and optimize it's parameters as follows:"
   ]
  },
  {
   "cell_type": "code",
   "execution_count": 16,
   "id": "7673c61b-e117-4c05-9ddf-68ea9ac6b67b",
   "metadata": {
    "id": "7673c61b-e117-4c05-9ddf-68ea9ac6b67b"
   },
   "outputs": [],
   "source": [
    "from tinygp import kernels, GaussianProcess\n",
    "\n",
    "import jax\n",
    "import jax.numpy as jnp\n",
    "\n",
    "import flax.linen as nn\n",
    "from flax.linen.initializers import zeros\n",
    "\n",
    "import optax\n",
    "\n",
    "\n",
    "class GPModule(nn.Module):\n",
    "    @nn.compact\n",
    "    def __call__(self, x, y, t):\n",
    "        # t = test input locations\n",
    "        # Returns loss (-log p(y|x)) and predictions p(y|t)\n",
    "        mean = self.param(\"mean\", zeros, ())\n",
    "        log_jitter = self.param(\"log_jitter\", zeros, ())\n",
    "\n",
    "        log_sigma1 = self.param(\"log_sigma1\", zeros, ())\n",
    "        log_rho1 = self.param(\"log_rho1\", zeros, ())\n",
    "        log_tau = self.param(\"log_tau\", zeros, ())\n",
    "        kernel1 = jnp.exp(2 * log_sigma1) * kernels.ExpSquared(jnp.exp(log_tau)) * kernels.Cosine(jnp.exp(log_rho1))\n",
    "\n",
    "        log_sigma2 = self.param(\"log_sigma2\", zeros, ())\n",
    "        log_rho2 = self.param(\"log_rho2\", zeros, ())\n",
    "        kernel2 = jnp.exp(2 * log_sigma2) * kernels.Matern32(jnp.exp(log_rho2))\n",
    "\n",
    "        kernel = kernel1 + kernel2\n",
    "        gp = GaussianProcess(kernel, x, diag=jnp.exp(log_jitter), mean=mean)\n",
    "\n",
    "        loss = -gp.condition(y)\n",
    "        pred = gp.predict(y, t)\n",
    "\n",
    "        return loss, pred\n",
    "\n",
    "\n",
    "def loss(params):\n",
    "    return model.apply(params, x, y, x_test)[0]"
   ]
  },
  {
   "cell_type": "code",
   "source": [
    "model = GPModule()\n",
    "params = model.init(jax.random.PRNGKey(0), x, y, x_test)\n",
    "tx = optax.sgd(learning_rate=3e-3)\n",
    "opt_state = tx.init(params)\n",
    "loss_grad_fn = jax.jit(jax.value_and_grad(loss))\n",
    "\n",
    "losses = []\n",
    "for i in range(1001):\n",
    "    loss_val, grads = loss_grad_fn(params)\n",
    "    losses.append(loss_val)\n",
    "    updates, opt_state = tx.update(grads, opt_state)\n",
    "    params = optax.apply_updates(params, updates)\n",
    "\n",
    "plt.plot(losses)\n",
    "plt.ylabel(\"negative log likelihood\")\n",
    "_ = plt.xlabel(\"step number\")"
   ],
   "metadata": {
    "colab": {
     "base_uri": "https://localhost:8080/",
     "height": 279
    },
    "id": "ek5sy64HJ5V8",
    "outputId": "761d7d30-6fe7-4788-81c0-696e6047ebf9"
   },
   "id": "ek5sy64HJ5V8",
   "execution_count": 17,
   "outputs": [
    {
     "output_type": "display_data",
     "data": {
      "image/png": "[encoded data removed]",
      "text/plain": [
       "<Figure size 432x288 with 1 Axes>"
      ]
     },
     "metadata": {
      "needs_background": "light"
     }
    }
   ]
  },
  {
   "cell_type": "markdown",
   "id": "2e6777f3-4ec8-43f9-9bae-38c767bcfd64",
   "metadata": {
    "id": "2e6777f3-4ec8-43f9-9bae-38c767bcfd64"
   },
   "source": [
    "Our `Module` defined above also returns the conditional predictions, that we can compare to the true model:"
   ]
  },
  {
   "cell_type": "code",
   "execution_count": 18,
   "id": "7980ad4c-d3d7-4243-b714-8d8216a9e8f1",
   "metadata": {
    "id": "7980ad4c-d3d7-4243-b714-8d8216a9e8f1",
    "colab": {
     "base_uri": "https://localhost:8080/",
     "height": 295
    },
    "outputId": "cbeda40d-e189-4933-9e73-ad0265779d41"
   },
   "outputs": [
    {
     "output_type": "display_data",
     "data": {
      "image/png": "[encoded data removed]",
      "text/plain": [
       "<Figure size 432x288 with 1 Axes>"
      ]
     },
     "metadata": {
      "needs_background": "light"
     }
    }
   ],
   "source": [
    "pred = model.apply(params, x, y, x_test)[1]\n",
    "\n",
    "plt.plot(x_test, y_test, \"k\", lw=1.5, alpha=0.3, label=\"truth\")\n",
    "plt.errorbar(x, y, yerr=yerr, fmt=\".k\", capsize=0)\n",
    "plt.plot(x_test, pred, label=\"max likelihood model\")\n",
    "plt.xlabel(\"x [day]\")\n",
    "plt.ylabel(\"y [ppm]\")\n",
    "plt.xlim(0, 10)\n",
    "plt.ylim(-2.5, 2.5)\n",
    "plt.legend()\n",
    "_ = plt.title(\"maximum likelihood\")\n",
    "plt.savefig(\"gp-kernel-opt-eb.pdf\")"
   ]
  },
  {
   "cell_type": "markdown",
   "id": "3e73424f-b46b-4f2e-a39f-6febc0046c32",
   "metadata": {
    "id": "3e73424f-b46b-4f2e-a39f-6febc0046c32"
   },
   "source": [
    "\n",
    "# Inferring hyper-parameters using HMC in numpyro\n",
    "\n",
    "We can compute a posterior over the kernel parameters, and hence the posterior predictive over the mean function, using HMC."
   ]
  },
  {
   "cell_type": "code",
   "execution_count": 25,
   "id": "recovered-rubber",
   "metadata": {
    "id": "recovered-rubber",
    "colab": {
     "base_uri": "https://localhost:8080/"
    },
    "outputId": "76c1eea1-1dec-4913-e4ca-08363905a3bb"
   },
   "outputs": [
    {
     "output_type": "stream",
     "name": "stderr",
     "text": [
      "/usr/local/lib/python3.7/dist-packages/numpyro/infer/mcmc.py:280: UserWarning: There are not enough devices to run parallel chains: expected 2 but got 1. Chains will be drawn sequentially. If you are running MCMC in CPU, consider using `numpyro.set_host_device_count(2)` at the beginning of your program. You can double-check how many devices are available in your system using `jax.local_device_count()`.\n",
      "  self.num_chains, local_device_count(), self.num_chains\n"
     ]
    }
   ],
   "source": [
    "import numpyro\n",
    "import numpyro.distributions as dist\n",
    "from numpyro.infer import MCMC, NUTS\n",
    "\n",
    "prior_sigma = 5.0\n",
    "\n",
    "\n",
    "def numpyro_model(x, y, x_test_inputs):\n",
    "    mean = numpyro.sample(\"mean\", dist.Normal(0.0, prior_sigma))\n",
    "    jitter = numpyro.sample(\"jitter\", dist.HalfNormal(prior_sigma))\n",
    "\n",
    "    sigma1 = numpyro.sample(\"sigma1\", dist.HalfNormal(prior_sigma))\n",
    "    rho1 = numpyro.sample(\"rho1\", dist.HalfNormal(prior_sigma))\n",
    "    tau = numpyro.sample(\"tau\", dist.HalfNormal(prior_sigma))\n",
    "    kernel1 = sigma1**2 * kernels.ExpSquared(tau) * kernels.Cosine(rho1)\n",
    "\n",
    "    sigma2 = numpyro.sample(\"sigma2\", dist.HalfNormal(prior_sigma))\n",
    "    rho2 = numpyro.sample(\"rho2\", dist.HalfNormal(prior_sigma))\n",
    "    kernel2 = sigma2**2 * kernels.Matern32(rho2)\n",
    "\n",
    "    kernel = kernel1 + kernel2\n",
    "    gp = GaussianProcess(kernel, x, diag=jitter, mean=mean)\n",
    "    numpyro.sample(\"gp\", gp.numpyro_dist(), obs=y)\n",
    "\n",
    "    if y is not None:\n",
    "        numpyro.deterministic(\"pred\", gp.predict(y, x_test_inputs))\n",
    "\n",
    "\n",
    "nuts_kernel = NUTS(numpyro_model, dense_mass=True, target_accept_prob=0.9)\n",
    "mcmc = MCMC(\n",
    "    nuts_kernel,\n",
    "    num_warmup=200,\n",
    "    num_samples=500,\n",
    "    num_chains=2,\n",
    "    progress_bar=False,\n",
    ")\n",
    "rng_key = jax.random.PRNGKey(34923)"
   ]
  },
  {
   "cell_type": "code",
   "execution_count": 26,
   "id": "affected-selection",
   "metadata": {
    "id": "affected-selection",
    "colab": {
     "base_uri": "https://localhost:8080/"
    },
    "outputId": "7e6ee7f5-848c-427c-90aa-25f66a6986c6"
   },
   "outputs": [
    {
     "output_type": "stream",
     "name": "stdout",
     "text": [
      "CPU times: user 33.4 s, sys: 17.4 s, total: 50.7 s\n",
      "Wall time: 29.1 s\n"
     ]
    }
   ],
   "source": [
    "%%time\n",
    "mcmc.run(rng_key, x, y, x_test)\n",
    "samples = mcmc.get_samples()\n",
    "pred = samples[\"pred\"].block_until_ready()  # Blocking to get timing right"
   ]
  },
  {
   "cell_type": "code",
   "source": [
    "print(pred.shape)"
   ],
   "metadata": {
    "colab": {
     "base_uri": "https://localhost:8080/"
    },
    "id": "HJ0SE4uqOXjV",
    "outputId": "1ff11671-b2f7-46d7-b18a-41b15076e9c4"
   },
   "id": "HJ0SE4uqOXjV",
   "execution_count": 24,
   "outputs": [
    {
     "output_type": "stream",
     "name": "stdout",
     "text": [
      "(500, 100)\n"
     ]
    }
   ]
  },
  {
   "cell_type": "markdown",
   "id": "c8e08a5e-2ffe-44ea-9998-d65273dd9c8c",
   "metadata": {
    "id": "c8e08a5e-2ffe-44ea-9998-d65273dd9c8c"
   },
   "source": [
    "Let's examine the posterior. \n",
    "For that task, let's use [`ArviZ`](https://arviz-devs.github.io):"
   ]
  },
  {
   "cell_type": "code",
   "execution_count": 27,
   "id": "chubby-stanford",
   "metadata": {
    "id": "chubby-stanford",
    "colab": {
     "base_uri": "https://localhost:8080/",
     "height": 269
    },
    "outputId": "e3cf1a3a-f9b0-4ebe-b200-0c86e9057907"
   },
   "outputs": [
    {
     "output_type": "execute_result",
     "data": {
      "text/html": [
       "\n",
       "  <div id=\"df-21f9edf3-091f-43ce-90fa-c6824e3718ae\">\n",
       "    <div class=\"colab-df-container\">\n",
       "      <div>\n",
       "<style scoped>\n",
       "    .dataframe tbody tr th:only-of-type {\n",
       "        vertical-align: middle;\n",
       "    }\n",
       "\n",
       "    .dataframe tbody tr th {\n",
       "        vertical-align: top;\n",
       "    }\n",
       "\n",
       "    .dataframe thead th {\n",
       "        text-align: right;\n",
       "    }\n",
       "</style>\n",
       "<table border=\"1\" class=\"dataframe\">\n",
       "  <thead>\n",
       "    <tr style=\"text-align: right;\">\n",
       "      <th></th>\n",
       "      <th>mean</th>\n",
       "      <th>sd</th>\n",
       "      <th>hdi_3%</th>\n",
       "      <th>hdi_97%</th>\n",
       "      <th>mcse_mean</th>\n",
       "      <th>mcse_sd</th>\n",
       "      <th>ess_bulk</th>\n",
       "      <th>ess_tail</th>\n",
       "      <th>r_hat</th>\n",
       "    </tr>\n",
       "  </thead>\n",
       "  <tbody>\n",
       "    <tr>\n",
       "      <th>jitter</th>\n",
       "      <td>0.017</td>\n",
       "      <td>0.005</td>\n",
       "      <td>0.010</td>\n",
       "      <td>0.026</td>\n",
       "      <td>0.000</td>\n",
       "      <td>0.000</td>\n",
       "      <td>833.0</td>\n",
       "      <td>733.0</td>\n",
       "      <td>1.00</td>\n",
       "    </tr>\n",
       "    <tr>\n",
       "      <th>mean</th>\n",
       "      <td>-0.108</td>\n",
       "      <td>1.603</td>\n",
       "      <td>-3.300</td>\n",
       "      <td>2.854</td>\n",
       "      <td>0.097</td>\n",
       "      <td>0.069</td>\n",
       "      <td>356.0</td>\n",
       "      <td>285.0</td>\n",
       "      <td>1.00</td>\n",
       "    </tr>\n",
       "    <tr>\n",
       "      <th>rho1</th>\n",
       "      <td>2.463</td>\n",
       "      <td>1.051</td>\n",
       "      <td>1.777</td>\n",
       "      <td>4.150</td>\n",
       "      <td>0.125</td>\n",
       "      <td>0.089</td>\n",
       "      <td>129.0</td>\n",
       "      <td>93.0</td>\n",
       "      <td>1.00</td>\n",
       "    </tr>\n",
       "    <tr>\n",
       "      <th>rho2</th>\n",
       "      <td>7.360</td>\n",
       "      <td>3.271</td>\n",
       "      <td>1.826</td>\n",
       "      <td>13.339</td>\n",
       "      <td>0.118</td>\n",
       "      <td>0.084</td>\n",
       "      <td>699.0</td>\n",
       "      <td>598.0</td>\n",
       "      <td>1.00</td>\n",
       "    </tr>\n",
       "    <tr>\n",
       "      <th>sigma1</th>\n",
       "      <td>1.114</td>\n",
       "      <td>0.539</td>\n",
       "      <td>0.406</td>\n",
       "      <td>2.021</td>\n",
       "      <td>0.027</td>\n",
       "      <td>0.019</td>\n",
       "      <td>499.0</td>\n",
       "      <td>503.0</td>\n",
       "      <td>1.02</td>\n",
       "    </tr>\n",
       "    <tr>\n",
       "      <th>sigma2</th>\n",
       "      <td>1.777</td>\n",
       "      <td>1.118</td>\n",
       "      <td>0.230</td>\n",
       "      <td>3.772</td>\n",
       "      <td>0.058</td>\n",
       "      <td>0.041</td>\n",
       "      <td>338.0</td>\n",
       "      <td>292.0</td>\n",
       "      <td>1.00</td>\n",
       "    </tr>\n",
       "    <tr>\n",
       "      <th>tau</th>\n",
       "      <td>2.268</td>\n",
       "      <td>1.116</td>\n",
       "      <td>0.623</td>\n",
       "      <td>4.356</td>\n",
       "      <td>0.084</td>\n",
       "      <td>0.060</td>\n",
       "      <td>136.0</td>\n",
       "      <td>148.0</td>\n",
       "      <td>1.01</td>\n",
       "    </tr>\n",
       "  </tbody>\n",
       "</table>\n",
       "</div>\n",
       "      <button class=\"colab-df-convert\" onclick=\"convertToInteractive('df-21f9edf3-091f-43ce-90fa-c6824e3718ae')\"\n",
       "              title=\"Convert this dataframe to an interactive table.\"\n",
       "              style=\"display:none;\">\n",
       "        \n",
       "  <svg xmlns=\"http://www.w3.org/2000/svg\" height=\"24px\"viewBox=\"0 0 24 24\"\n",
       "       width=\"24px\">\n",
       "    <path d=\"M0 0h24v24H0V0z\" fill=\"none\"/>\n",
       "    <path d=\"M18.56 5.44l.94 2.06.94-2.06 2.06-.94-2.06-.94-.94-2.06-.94 2.06-2.06.94zm-11 1L8.5 8.5l.94-2.06 2.06-.94-2.06-.94L8.5 2.5l-.94 2.06-2.06.94zm10 10l.94 2.06.94-2.06 2.06-.94-2.06-.94-.94-2.06-.94 2.06-2.06.94z\"/><path d=\"M17.41 7.96l-1.37-1.37c-.4-.4-.92-.59-1.43-.59-.52 0-1.04.2-1.43.59L10.3 9.45l-7.72 7.72c-.78.78-.78 2.05 0 2.83L4 21.41c.39.39.9.59 1.41.59.51 0 1.02-.2 1.41-.59l7.78-7.78 2.81-2.81c.8-.78.8-2.07 0-2.86zM5.41 20L4 18.59l7.72-7.72 1.47 1.35L5.41 20z\"/>\n",
       "  </svg>\n",
       "      </button>\n",
       "      \n",
       "  <style>\n",
       "    .colab-df-container {\n",
       "      display:flex;\n",
       "      flex-wrap:wrap;\n",
       "      gap: 12px;\n",
       "    }\n",
       "\n",
       "    .colab-df-convert {\n",
       "      background-color: #E8F0FE;\n",
       "      border: none;\n",
       "      border-radius: 50%;\n",
       "      cursor: pointer;\n",
       "      display: none;\n",
       "      fill: #1967D2;\n",
       "      height: 32px;\n",
       "      padding: 0 0 0 0;\n",
       "      width: 32px;\n",
       "    }\n",
       "\n",
       "    .colab-df-convert:hover {\n",
       "      background-color: #E2EBFA;\n",
       "      box-shadow: 0px 1px 2px rgba(60, 64, 67, 0.3), 0px 1px 3px 1px rgba(60, 64, 67, 0.15);\n",
       "      fill: #174EA6;\n",
       "    }\n",
       "\n",
       "    [theme=dark] .colab-df-convert {\n",
       "      background-color: #3B4455;\n",
       "      fill: #D2E3FC;\n",
       "    }\n",
       "\n",
       "    [theme=dark] .colab-df-convert:hover {\n",
       "      background-color: #434B5C;\n",
       "      box-shadow: 0px 1px 3px 1px rgba(0, 0, 0, 0.15);\n",
       "      filter: drop-shadow(0px 1px 2px rgba(0, 0, 0, 0.3));\n",
       "      fill: #FFFFFF;\n",
       "    }\n",
       "  </style>\n",
       "\n",
       "      <script>\n",
       "        const buttonEl =\n",
       "          document.querySelector('#df-21f9edf3-091f-43ce-90fa-c6824e3718ae button.colab-df-convert');\n",
       "        buttonEl.style.display =\n",
       "          google.colab.kernel.accessAllowed ? 'block' : 'none';\n",
       "\n",
       "        async function convertToInteractive(key) {\n",
       "          const element = document.querySelector('#df-21f9edf3-091f-43ce-90fa-c6824e3718ae');\n",
       "          const dataTable =\n",
       "            await google.colab.kernel.invokeFunction('convertToInteractive',\n",
       "                                                     [key], {});\n",
       "          if (!dataTable) return;\n",
       "\n",
       "          const docLinkHtml = 'Like what you see? Visit the ' +\n",
       "            '<a target=\"_blank\" href=https://colab.research.google.com/notebooks/data_table.ipynb>data table notebook</a>'\n",
       "            + ' to learn more about interactive tables.';\n",
       "          element.innerHTML = '';\n",
       "          dataTable['output_type'] = 'display_data';\n",
       "          await google.colab.output.renderOutput(dataTable, element);\n",
       "          const docLink = document.createElement('div');\n",
       "          docLink.innerHTML = docLinkHtml;\n",
       "          element.appendChild(docLink);\n",
       "        }\n",
       "      </script>\n",
       "    </div>\n",
       "  </div>\n",
       "  "
      ],
      "text/plain": [
       "         mean     sd  hdi_3%  hdi_97%  ...  mcse_sd  ess_bulk  ess_tail  r_hat\n",
       "jitter  0.017  0.005   0.010    0.026  ...    0.000     833.0     733.0   1.00\n",
       "mean   -0.108  1.603  -3.300    2.854  ...    0.069     356.0     285.0   1.00\n",
       "rho1    2.463  1.051   1.777    4.150  ...    0.089     129.0      93.0   1.00\n",
       "rho2    7.360  3.271   1.826   13.339  ...    0.084     699.0     598.0   1.00\n",
       "sigma1  1.114  0.539   0.406    2.021  ...    0.019     499.0     503.0   1.02\n",
       "sigma2  1.777  1.118   0.230    3.772  ...    0.041     338.0     292.0   1.00\n",
       "tau     2.268  1.116   0.623    4.356  ...    0.060     136.0     148.0   1.01\n",
       "\n",
       "[7 rows x 9 columns]"
      ]
     },
     "metadata": {},
     "execution_count": 27
    }
   ],
   "source": [
    "import arviz as az\n",
    "\n",
    "data = az.from_numpyro(mcmc)\n",
    "az.summary(data, var_names=[v for v in data.posterior.data_vars if v != \"pred\"])"
   ]
  },
  {
   "cell_type": "markdown",
   "id": "c2f9c49e-9eea-4971-a939-7390a31368fc",
   "metadata": {
    "id": "c2f9c49e-9eea-4971-a939-7390a31368fc"
   },
   "source": [
    "And, finally we can plot our posterior inferences of the comditional process, compared to the true model:"
   ]
  },
  {
   "cell_type": "code",
   "source": [
    "q = np.percentile(pred, [5, 50, 95], axis=0)\n",
    "plt.fill_between(x_test, q[0], q[2], color=\"C0\", alpha=0.5, label=\"inference\")\n",
    "plt.plot(x_test, q[1], color=\"C0\", lw=2)\n",
    "plt.plot(x_test, y_test, \"k\", lw=1.5, alpha=0.3, label=\"truth\")\n",
    "\n",
    "plt.errorbar(x, y, yerr=yerr, fmt=\".k\", capsize=0)\n",
    "plt.xlabel(\"x [day]\")\n",
    "plt.ylabel(\"y [ppm]\")\n",
    "plt.xlim(0, 10)\n",
    "plt.ylim(-2.5, 2.5)\n",
    "plt.legend()\n",
    "_ = plt.title(\"posterior inference\")\n",
    "plt.savefig(\"gp-kernel-opt-hmc.pdf\")"
   ],
   "metadata": {
    "colab": {
     "base_uri": "https://localhost:8080/",
     "height": 295
    },
    "id": "RGBbrkh7PANG",
    "outputId": "49b2d517-4b82-476f-b179-f97e13058908"
   },
   "id": "RGBbrkh7PANG",
   "execution_count": 28,
   "outputs": [
    {
     "output_type": "display_data",
     "data": {
      "image/png": "[encoded data removed]",
      "text/plain": [
       "<Figure size 432x288 with 1 Axes>"
      ]
     },
     "metadata": {
      "needs_background": "light"
     }
    }
   ]
  },
  {
   "cell_type": "markdown",
   "source": [
    "# Inferring hyper-parameters using HMC in BlackJax\n",
    "\n",
    "TBD"
   ],
   "metadata": {
    "id": "dJZaDOH2PVD-"
   },
   "id": "dJZaDOH2PVD-"
  },
  {
   "cell_type": "code",
   "execution_count": null,
   "id": "c3d60b92-4ed5-403a-bd73-bb48c9055ec7",
   "metadata": {
    "id": "c3d60b92-4ed5-403a-bd73-bb48c9055ec7"
   },
   "outputs": [],
   "source": [
    ""
   ]
  }
 ],
 "metadata": {
  "kernelspec": {
   "display_name": "Python 3 (ipykernel)",
   "language": "python",
   "name": "python3"
  },
  "language_info": {
   "codemirror_mode": {
    "name": "ipython",
    "version": 3
   },
   "file_extension": ".py",
   "mimetype": "text/x-python",
   "name": "python",
   "nbconvert_exporter": "python",
   "pygments_lexer": "ipython3",
   "version": "3.9.9"
  },
  "colab": {
   "name": "gp-kernel-opt.ipynb",
   "provenance": [],
   "toc_visible": true,
   "include_colab_link": true
  },
  "accelerator": "GPU"
 },
 "nbformat": 4,
 "nbformat_minor": 5
}