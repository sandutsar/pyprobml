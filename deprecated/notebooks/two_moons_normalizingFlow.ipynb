{
 "nbformat": 4,
 "nbformat_minor": 0,
 "metadata": {
  "colab": {
   "name": "two_moons_normalizingFlow.ipynb",
   "provenance": [],
   "collapsed_sections": []
  },
  "kernelspec": {
   "name": "python3",
   "display_name": "Python 3"
  },
  "language_info": {
   "name": "python"
  },
  "accelerator": "GPU"
 },
 "cells": [
  {
   "cell_type": "markdown",
   "source": [
    "## Two Moons Normalizing Flow Using Distrax + Haiku\n",
    "\n",
    "\n",
    "Neural Spline Flow based off of `distrax` [documentation](https://github.com/deepmind/distrax/blob/master/examples/flow.py) for a flow. Code to load 2 moons example dataset sourced from Chris Waites's jax-flows [demo](https://github.com/ChrisWaites/jax-flows/blob/master/examples/intro.ipynb)."
   ],
   "metadata": {
    "id": "sagJU2jL38hv"
   }
  },
  {
   "cell_type": "code",
   "execution_count": null,
   "metadata": {
    "colab": {
     "base_uri": "https://localhost:8080/"
    },
    "id": "hvCQM5YgdUTm",
    "outputId": "de2761e3-31f9-40ab-c70f-9902d6049843"
   },
   "outputs": [
    {
     "output_type": "stream",
     "name": "stdout",
     "text": [
      "Collecting dm-haiku\n",
      "  Downloading dm_haiku-0.0.6-py3-none-any.whl (309 kB)\n",
      "\u001b[K     |████████████████████████████████| 309 kB 13.1 MB/s \n",
      "\u001b[?25hCollecting distrax\n",
      "  Downloading distrax-0.1.2-py3-none-any.whl (272 kB)\n",
      "\u001b[K     |████████████████████████████████| 272 kB 14.5 MB/s \n",
      "\u001b[?25hCollecting optax\n",
      "  Downloading optax-0.1.1-py3-none-any.whl (136 kB)\n",
      "\u001b[K     |████████████████████████████████| 136 kB 72.1 MB/s \n",
      "\u001b[?25hRequirement already satisfied: typing-extensions in /usr/local/lib/python3.7/dist-packages (from dm-haiku) (3.10.0.2)\n",
      "Requirement already satisfied: numpy>=1.18.0 in /usr/local/lib/python3.7/dist-packages (from dm-haiku) (1.21.5)\n",
      "Requirement already satisfied: tabulate>=0.8.9 in /usr/local/lib/python3.7/dist-packages (from dm-haiku) (0.8.9)\n",
      "Requirement already satisfied: absl-py>=0.7.1 in /usr/local/lib/python3.7/dist-packages (from dm-haiku) (1.0.0)\n",
      "Collecting jmp>=0.0.2\n",
      "  Downloading jmp-0.0.2-py3-none-any.whl (16 kB)\n",
      "Requirement already satisfied: six in /usr/local/lib/python3.7/dist-packages (from absl-py>=0.7.1->dm-haiku) (1.15.0)\n",
      "Requirement already satisfied: tensorflow-probability>=0.15.0 in /usr/local/lib/python3.7/dist-packages (from distrax) (0.16.0)\n",
      "Requirement already satisfied: jax>=0.1.55 in /usr/local/lib/python3.7/dist-packages (from distrax) (0.3.4)\n",
      "Collecting chex>=0.0.7\n",
      "  Downloading chex-0.1.1-py3-none-any.whl (70 kB)\n",
      "\u001b[K     |████████████████████████████████| 70 kB 8.3 MB/s \n",
      "\u001b[?25hRequirement already satisfied: jaxlib>=0.1.67 in /usr/local/lib/python3.7/dist-packages (from distrax) (0.3.2+cuda11.cudnn805)\n",
      "Requirement already satisfied: dm-tree>=0.1.5 in /usr/local/lib/python3.7/dist-packages (from chex>=0.0.7->distrax) (0.1.6)\n",
      "Requirement already satisfied: toolz>=0.9.0 in /usr/local/lib/python3.7/dist-packages (from chex>=0.0.7->distrax) (0.11.2)\n",
      "Requirement already satisfied: scipy>=1.2.1 in /usr/local/lib/python3.7/dist-packages (from jax>=0.1.55->distrax) (1.4.1)\n",
      "Requirement already satisfied: opt-einsum in /usr/local/lib/python3.7/dist-packages (from jax>=0.1.55->distrax) (3.3.0)\n",
      "Requirement already satisfied: flatbuffers<3.0,>=1.12 in /usr/local/lib/python3.7/dist-packages (from jaxlib>=0.1.67->distrax) (2.0)\n",
      "Requirement already satisfied: gast>=0.3.2 in /usr/local/lib/python3.7/dist-packages (from tensorflow-probability>=0.15.0->distrax) (0.5.3)\n",
      "Requirement already satisfied: cloudpickle>=1.3 in /usr/local/lib/python3.7/dist-packages (from tensorflow-probability>=0.15.0->distrax) (1.3.0)\n",
      "Requirement already satisfied: decorator in /usr/local/lib/python3.7/dist-packages (from tensorflow-probability>=0.15.0->distrax) (4.4.2)\n",
      "Installing collected packages: jmp, chex, optax, dm-haiku, distrax\n",
      "Successfully installed chex-0.1.1 distrax-0.1.2 dm-haiku-0.0.6 jmp-0.0.2 optax-0.1.1\n"
     ]
    }
   ],
   "source": [
    "!pip install -U dm-haiku distrax optax"
   ]
  },
  {
   "cell_type": "code",
   "source": [
    "import matplotlib.pyplot as plt\n",
    "from IPython.display import clear_output\n",
    "from sklearn import datasets, preprocessing\n",
    "import distrax\n",
    "import jax\n",
    "import jax.numpy as jnp\n",
    "import numpy as np\n",
    "import haiku as hk\n",
    "import optax\n",
    "import tensorflow as tf\n",
    "import tensorflow_datasets as tfds\n",
    "\n",
    "from tensorflow_probability.substrates import jax as tfp\n",
    "\n",
    "tfd = tfp.distributions\n",
    "\n",
    "# key = jax.random.PRNGKey(1234)"
   ],
   "metadata": {
    "id": "dlwh9VTddelC"
   },
   "execution_count": null,
   "outputs": []
  },
  {
   "cell_type": "markdown",
   "source": [
    "# Plotting 2 moons dataset\n",
    "Code taken directly from Chris Waites's jax-flows [demo](https://github.com/ChrisWaites/jax-flows/blob/master/examples/intro.ipynb). This is the distribution we want to create a bijection to from a simple base distribution, such as a gaussian distribution."
   ],
   "metadata": {
    "id": "otKOHucyeVKn"
   }
  },
  {
   "cell_type": "code",
   "source": [
    "n_samples = 10000\n",
    "plot_range = [(-2, 2), (-2, 2)]\n",
    "n_bins = 100\n",
    "\n",
    "scaler = preprocessing.StandardScaler()\n",
    "X, _ = datasets.make_moons(n_samples=n_samples, noise=0.05)\n",
    "X = scaler.fit_transform(X)\n",
    "plt.hist2d(X[:, 0], X[:, 1], bins=n_bins, range=plot_range)[-1]\n",
    "\n",
    "plt.savefig(\"two-moons-original.pdf\")\n",
    "plt.savefig(\"two-moons-original.png\")"
   ],
   "metadata": {
    "colab": {
     "base_uri": "https://localhost:8080/",
     "height": 269
    },
    "id": "5d_oOMKQde9e",
    "outputId": "49c083e7-14a5-4f89-df18-8f04948ac4d1"
   },
   "execution_count": null,
   "outputs": [
    {
     "output_type": "display_data",
     "data": {
      "text/plain": [
       "<Figure size 432x288 with 1 Axes>"
      ],
      "image/png": "[encoded data removed]"
     },
     "metadata": {
      "needs_background": "light"
     }
    }
   ]
  },
  {
   "cell_type": "markdown",
   "source": [
    "## Creating the normalizing flow in distrax+haiku\n",
    "Instead of a uniform distribution, we use a normal distribution as the base distribution. This makes more sense for a standardized two moons dataset that is scaled according to a normal distribution using `sklearn`'s `StandardScaler()`. Using a uniform base distribution will result in `inf` and `nan` loss."
   ],
   "metadata": {
    "id": "40VCypTshm_z"
   }
  },
  {
   "cell_type": "code",
   "source": [
    "from typing import Any, Iterator, Mapping, Optional, Sequence, Tuple\n",
    "\n",
    "# Hyperparams - change these to experiment\n",
    "flow_num_layers = 8\n",
    "mlp_num_layers = 4\n",
    "hidden_size = 1000\n",
    "num_bins = 8\n",
    "batch_size = 512\n",
    "learning_rate = 1e-4\n",
    "eval_frequency = 100\n",
    "\n",
    "Array = jnp.ndarray\n",
    "PRNGKey = Array\n",
    "Batch = Mapping[str, np.ndarray]\n",
    "OptState = Any\n",
    "\n",
    "\n",
    "# Functions to create a distrax normalizing flow\n",
    "def make_conditioner(\n",
    "    event_shape: Sequence[int], hidden_sizes: Sequence[int], num_bijector_params: int\n",
    ") -> hk.Sequential:\n",
    "    \"\"\"Creates an MLP conditioner for each layer of the flow.\"\"\"\n",
    "    return hk.Sequential(\n",
    "        [\n",
    "            hk.Flatten(preserve_dims=-len(event_shape)),\n",
    "            hk.nets.MLP(hidden_sizes, activate_final=True),\n",
    "            # We initialize this linear layer to zero so that the flow is initialized\n",
    "            # to the identity function.\n",
    "            hk.Linear(np.prod(event_shape) * num_bijector_params, w_init=jnp.zeros, b_init=jnp.zeros),\n",
    "            hk.Reshape(tuple(event_shape) + (num_bijector_params,), preserve_dims=-1),\n",
    "        ]\n",
    "    )\n",
    "\n",
    "\n",
    "def make_flow_model(\n",
    "    event_shape: Sequence[int], num_layers: int, hidden_sizes: Sequence[int], num_bins: int\n",
    ") -> distrax.Transformed:\n",
    "    \"\"\"Creates the flow model.\"\"\"\n",
    "    # Alternating binary mask.\n",
    "    mask = jnp.arange(0, np.prod(event_shape)) % 2\n",
    "    mask = jnp.reshape(mask, event_shape)\n",
    "    mask = mask.astype(bool)\n",
    "\n",
    "    def bijector_fn(params: Array):\n",
    "        return distrax.RationalQuadraticSpline(params, range_min=-2.0, range_max=2.0)\n",
    "\n",
    "    # Number of parameters for the rational-quadratic spline:\n",
    "    # - `num_bins` bin widths\n",
    "    # - `num_bins` bin heights\n",
    "    # - `num_bins + 1` knot slopes\n",
    "    # for a total of `3 * num_bins + 1` parameters.\n",
    "    num_bijector_params = 3 * num_bins + 1\n",
    "\n",
    "    layers = []\n",
    "    for _ in range(num_layers):\n",
    "        layer = distrax.MaskedCoupling(\n",
    "            mask=mask,\n",
    "            bijector=bijector_fn,\n",
    "            conditioner=make_conditioner(event_shape, hidden_sizes, num_bijector_params),\n",
    "        )\n",
    "        layers.append(layer)\n",
    "        # Flip the mask after each layer.\n",
    "        mask = jnp.logical_not(mask)\n",
    "\n",
    "    # We invert the flow so that the `forward` method is called with `log_prob`.\n",
    "    flow = distrax.Inverse(distrax.Chain(layers))\n",
    "\n",
    "    # Making base distribution normal distribution\n",
    "    mu = jnp.zeros(event_shape)\n",
    "    sigma = jnp.ones(event_shape)\n",
    "    base_distribution = distrax.Independent(distrax.MultivariateNormalDiag(mu, sigma))\n",
    "    return distrax.Transformed(base_distribution, flow)\n",
    "\n",
    "\n",
    "def load_dataset(split: tfds.Split, batch_size: int) -> Iterator[Batch]:\n",
    "    # ds = tfds.load(\"mnist\", split=split, shuffle_files=True)\n",
    "    ds = split\n",
    "    ds = ds.shuffle(buffer_size=10 * batch_size)\n",
    "    ds = ds.batch(batch_size)\n",
    "    ds = ds.prefetch(buffer_size=1000)\n",
    "    ds = ds.repeat()\n",
    "    return iter(tfds.as_numpy(ds))\n",
    "\n",
    "\n",
    "def prepare_data(batch: Batch, prng_key: Optional[PRNGKey] = None) -> Array:\n",
    "    data = batch.astype(np.float32)\n",
    "    return data\n",
    "\n",
    "\n",
    "@hk.without_apply_rng\n",
    "@hk.transform\n",
    "def model_sample(key: PRNGKey, num_samples: int) -> Array:\n",
    "    model = make_flow_model(\n",
    "        event_shape=TWO_MOONS_SHAPE,\n",
    "        num_layers=flow_num_layers,\n",
    "        hidden_sizes=[hidden_size] * mlp_num_layers,\n",
    "        num_bins=num_bins,\n",
    "    )\n",
    "    return model.sample(seed=key, sample_shape=[num_samples])\n",
    "\n",
    "\n",
    "@hk.without_apply_rng\n",
    "@hk.transform\n",
    "def log_prob(data: Array) -> Array:\n",
    "    model = make_flow_model(\n",
    "        event_shape=TWO_MOONS_SHAPE,\n",
    "        num_layers=flow_num_layers,\n",
    "        hidden_sizes=[hidden_size] * mlp_num_layers,\n",
    "        num_bins=num_bins,\n",
    "    )\n",
    "    return model.log_prob(data)\n",
    "\n",
    "\n",
    "def loss_fn(params: hk.Params, prng_key: PRNGKey, batch: Batch) -> Array:\n",
    "    data = prepare_data(batch, prng_key)\n",
    "    # Loss is average negative log likelihood.\n",
    "    loss = -jnp.mean(log_prob.apply(params, data))\n",
    "    return loss\n",
    "\n",
    "\n",
    "@jax.jit\n",
    "def eval_fn(params: hk.Params, batch: Batch) -> Array:\n",
    "    data = prepare_data(batch)  # We don't dequantize during evaluation.\n",
    "    loss = -jnp.mean(log_prob.apply(params, data))\n",
    "    return loss"
   ],
   "metadata": {
    "id": "sstrW_OOdwnH"
   },
   "execution_count": null,
   "outputs": []
  },
  {
   "cell_type": "markdown",
   "source": [
    "## Setting up the optimizer"
   ],
   "metadata": {
    "id": "sOZb5SCe6RfF"
   }
  },
  {
   "cell_type": "code",
   "source": [
    "optimizer = optax.adam(learning_rate)\n",
    "\n",
    "\n",
    "@jax.jit\n",
    "def update(params: hk.Params, prng_key: PRNGKey, opt_state: OptState, batch: Batch) -> Tuple[hk.Params, OptState]:\n",
    "    \"\"\"Single SGD update step.\"\"\"\n",
    "    grads = jax.grad(loss_fn)(params, prng_key, batch)\n",
    "    updates, new_opt_state = optimizer.update(grads, opt_state)\n",
    "    new_params = optax.apply_updates(params, updates)\n",
    "    return new_params, new_opt_state"
   ],
   "metadata": {
    "id": "zWjHDrLadwo6"
   },
   "execution_count": null,
   "outputs": []
  },
  {
   "cell_type": "markdown",
   "source": [
    "## Training the flow\n"
   ],
   "metadata": {
    "id": "QPjDjwpi6L3H"
   }
  },
  {
   "cell_type": "code",
   "source": [
    "# Event shape\n",
    "TWO_MOONS_SHAPE = (2,)\n",
    "\n",
    "# Create tf dataset from sklearn dataset\n",
    "dataset = tf.data.Dataset.from_tensor_slices(X)\n",
    "\n",
    "# Splitting into train/validate ds\n",
    "train = dataset.skip(2000)\n",
    "val = dataset.take(2000)\n",
    "\n",
    "# load_dataset(split: tfds.Split, batch_size: int)\n",
    "train_ds = load_dataset(train, 512)\n",
    "valid_ds = load_dataset(val, 512)\n",
    "\n",
    "# Initializing PRNG and Neural Net params\n",
    "prng_seq = hk.PRNGSequence(1)\n",
    "params = log_prob.init(next(prng_seq), np.zeros((1, *TWO_MOONS_SHAPE)))\n",
    "opt_state = optimizer.init(params)\n",
    "\n",
    "training_steps = 1000\n",
    "\n",
    "for step in range(training_steps):\n",
    "    params, opt_state = update(params, next(prng_seq), opt_state, next(train_ds))\n",
    "\n",
    "    if step % eval_frequency == 0:\n",
    "        val_loss = eval_fn(params, next(valid_ds))\n",
    "        print(f\"STEP: {step:5d}; Validation loss: {val_loss:.3f}\")"
   ],
   "metadata": {
    "colab": {
     "base_uri": "https://localhost:8080/"
    },
    "id": "42GR531jdfCZ",
    "outputId": "3d71121c-d505-41d1-a458-faef1b5503ca"
   },
   "execution_count": null,
   "outputs": [
    {
     "output_type": "stream",
     "name": "stdout",
     "text": [
      "STEP:     0; Validation loss: 2.799\n",
      "STEP:   100; Validation loss: 1.549\n",
      "STEP:   200; Validation loss: 1.405\n",
      "STEP:   300; Validation loss: 1.332\n",
      "STEP:   400; Validation loss: 1.309\n",
      "STEP:   500; Validation loss: 1.252\n",
      "STEP:   600; Validation loss: 1.304\n",
      "STEP:   700; Validation loss: 1.291\n",
      "STEP:   800; Validation loss: 1.304\n",
      "STEP:   900; Validation loss: 1.294\n"
     ]
    }
   ]
  },
  {
   "cell_type": "code",
   "source": [
    "n_samples = 10000\n",
    "plot_range = [(-2, 2), (-2, 2)]\n",
    "n_bins = 100\n",
    "\n",
    "X_transf = model_sample.apply(params, next(prng_seq), num_samples=n_samples)\n",
    "plt.hist2d(X_transf[:, 0], X_transf[:, 1], bins=n_bins, range=plot_range)[-1]\n",
    "\n",
    "plt.savefig(\"two-moons-flow.pdf\")\n",
    "plt.savefig(\"two-moons-flow.png\")\n",
    "plt.show()"
   ],
   "metadata": {
    "colab": {
     "base_uri": "https://localhost:8080/",
     "height": 269
    },
    "id": "n-uyUZPyY94K",
    "outputId": "3021e7eb-bef2-463c-8265-9e529253cf2b"
   },
   "execution_count": null,
   "outputs": [
    {
     "output_type": "display_data",
     "data": {
      "text/plain": [
       "<Figure size 432x288 with 1 Axes>"
      ],
      "image/png": "[encoded data removed]"
     },
     "metadata": {
      "needs_background": "light"
     }
    }
   ]
  }
 ]
}