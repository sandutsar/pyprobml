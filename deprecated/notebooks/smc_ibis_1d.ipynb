{
 "nbformat": 4,
 "nbformat_minor": 0,
 "metadata": {
  "colab": {
   "name": "smc-ibis-1d.ipynb",
   "provenance": [],
   "authorship_tag": "ABX9TyOlH2dgcu9NVVVFVwq7lNK6",
   "include_colab_link": true
  },
  "kernelspec": {
   "name": "python3",
   "display_name": "Python 3"
  },
  "language_info": {
   "name": "python"
  }
 },
 "cells": [
  {
   "cell_type": "markdown",
   "metadata": {
    "id": "view-in-github",
    "colab_type": "text"
   },
   "source": [
    "<a href=\"https://colab.research.google.com/github/probml/probml-notebooks/blob/main/notebooks/smc_ibis_1d.ipynb\" target=\"_parent\"><img src=\"https://colab.research.google.com/assets/colab-badge.svg\" alt=\"Open In Colab\"/></a>"
   ]
  },
  {
   "cell_type": "markdown",
   "metadata": {
    "id": "V--ztRRuZV3E"
   },
   "source": [
    "#SMC sequential inference for a static parameter (IBIS) for 1d Gaussian\n",
    "\n",
    "The model is $p(y_t|y_{0:t-1},\\theta)=N(y_t|\\theta.\\mu, \\theta.\\sigma^2)$.\n",
    "\n",
    "Code is from \n",
    "\n",
    "https://github.com/nchopin/particles/blob/master/docs/source/notebooks/SMC_samplers_tutorial.ipynb\n",
    "\n",
    "\n",
    "\n"
   ]
  },
  {
   "cell_type": "code",
   "metadata": {
    "colab": {
     "base_uri": "https://localhost:8080/"
    },
    "id": "v4K4K_ihZpkv",
    "outputId": "232dbd18-a3c8-4754-89c3-a6576c13a1fd"
   },
   "source": [
    "#!git clone https://github.com/nchopin/particles.git\n",
    "!pip install git+https://github.com/nchopin/particles.git"
   ],
   "execution_count": 1,
   "outputs": [
    {
     "output_type": "stream",
     "name": "stdout",
     "text": [
      "Collecting git+https://github.com/nchopin/particles.git\n",
      "  Cloning https://github.com/nchopin/particles.git to /tmp/pip-req-build-7v5t8u0p\n",
      "  Running command git clone -q https://github.com/nchopin/particles.git /tmp/pip-req-build-7v5t8u0p\n",
      "Requirement already satisfied: numpy>=1.18 in /usr/local/lib/python3.7/dist-packages (from particles==0.2) (1.19.5)\n",
      "Collecting scipy>=1.7\n",
      "  Downloading scipy-1.7.1-cp37-cp37m-manylinux_2_5_x86_64.manylinux1_x86_64.whl (28.5 MB)\n",
      "\u001b[K     |████████████████████████████████| 28.5 MB 1.2 MB/s \n",
      "\u001b[?25hRequirement already satisfied: numba in /usr/local/lib/python3.7/dist-packages (from particles==0.2) (0.51.2)\n",
      "Requirement already satisfied: joblib in /usr/local/lib/python3.7/dist-packages (from particles==0.2) (1.0.1)\n",
      "Requirement already satisfied: llvmlite<0.35,>=0.34.0.dev0 in /usr/local/lib/python3.7/dist-packages (from numba->particles==0.2) (0.34.0)\n",
      "Requirement already satisfied: setuptools in /usr/local/lib/python3.7/dist-packages (from numba->particles==0.2) (57.4.0)\n",
      "Building wheels for collected packages: particles\n",
      "  Building wheel for particles (setup.py) ... \u001b[?25l\u001b[?25hdone\n",
      "  Created wheel for particles: filename=particles-0.2-py3-none-any.whl size=573163 sha256=a30e31598fbb79c754460bb72f617d9a086ff88e8748b72d39b81678c1e074ae\n",
      "  Stored in directory: /tmp/pip-ephem-wheel-cache-xq2evopn/wheels/39/c8/56/75c7840e70bdc3dc78074b2e2bc3cfa3023fd0f6d1ff456e2e\n",
      "Successfully built particles\n",
      "Installing collected packages: scipy, particles\n",
      "  Attempting uninstall: scipy\n",
      "    Found existing installation: scipy 1.4.1\n",
      "    Uninstalling scipy-1.4.1:\n",
      "      Successfully uninstalled scipy-1.4.1\n",
      "\u001b[31mERROR: pip's dependency resolver does not currently take into account all the packages that are installed. This behaviour is the source of the following dependency conflicts.\n",
      "albumentations 0.1.12 requires imgaug<0.2.7,>=0.2.5, but you have imgaug 0.2.9 which is incompatible.\u001b[0m\n",
      "Successfully installed particles-0.2 scipy-1.7.1\n"
     ]
    }
   ]
  },
  {
   "cell_type": "code",
   "metadata": {
    "id": "PS5spJ4vaB17"
   },
   "source": [
    "import particles\n",
    "import particles.state_space_models as ssm\n",
    "import particles.distributions as dists"
   ],
   "execution_count": 2,
   "outputs": []
  },
  {
   "cell_type": "code",
   "metadata": {
    "id": "L9_c7vBPaCCg"
   },
   "source": [
    "\n",
    "%matplotlib inline\n",
    "from matplotlib import pyplot as plt\n",
    "import seaborn as sb\n",
    "import numpy as np\n",
    "from scipy import stats\n",
    "\n",
    "import particles\n",
    "from particles import smc_samplers as ssp\n",
    "from particles import distributions as dists\n",
    "\n",
    "class ToyModel(ssp.StaticModel):\n",
    "    def logpyt(self, theta, t):  # density of Y_t given theta and Y_{0:t-1}\n",
    "        return stats.norm.logpdf(self.data[t], loc=theta['mu'],\n",
    "                                 scale = theta['sigma'])\n",
    "        \n",
    "T = 30\n",
    "my_data = stats.norm.rvs(loc=3.14, size=T)  # simulated data\n",
    "my_prior = dists.StructDist({'mu': dists.Normal(scale=10.),\n",
    "                             'sigma': dists.Gamma()})\n",
    "\n",
    "my_static_model = ToyModel(data=my_data, prior=my_prior)"
   ],
   "execution_count": 4,
   "outputs": []
  },
  {
   "cell_type": "markdown",
   "metadata": {
    "id": "PzXyrKabao86"
   },
   "source": [
    "We run IBIS with 20 particles, using 50 MCMC iterations per time step (data point). We use \"waste free\" SMC, so we generate 50*20=1000 samples in total per step."
   ]
  },
  {
   "cell_type": "code",
   "metadata": {
    "colab": {
     "base_uri": "https://localhost:8080/"
    },
    "id": "-5j_OmJRaoVD",
    "outputId": "d82b852f-782b-4f77-c4cd-75ce5cdc4294"
   },
   "source": [
    "%%time\n",
    "\n",
    "my_ibis = ssp.IBIS(my_static_model, len_chain=50)\n",
    "my_alg = particles.SMC(fk=my_ibis, N=20, store_history=True, verbose=True)\n",
    "my_alg.run()"
   ],
   "execution_count": 5,
   "outputs": [
    {
     "output_type": "stream",
     "name": "stdout",
     "text": [
      "t=0, ESS=78.17\n",
      "t=1, Metropolis acc. rate (over 49 steps): 0.214, ESS=467.80\n",
      "t=2, Metropolis acc. rate (over 49 steps): 0.161, ESS=711.16\n",
      "t=3, ESS=293.44\n",
      "t=4, Metropolis acc. rate (over 49 steps): 0.263, ESS=628.07\n",
      "t=5, ESS=777.21\n",
      "t=6, ESS=708.08\n",
      "t=7, ESS=707.61\n",
      "t=8, ESS=672.05\n",
      "t=9, ESS=638.11\n",
      "t=10, ESS=616.74\n",
      "t=11, ESS=585.85\n",
      "t=12, ESS=553.99\n",
      "t=13, ESS=526.01\n",
      "t=14, ESS=491.09\n",
      "t=15, Metropolis acc. rate (over 49 steps): 0.349, ESS=919.21\n",
      "t=16, ESS=715.77\n",
      "t=17, ESS=695.42\n",
      "t=18, ESS=693.24\n",
      "t=19, ESS=652.13\n",
      "t=20, ESS=814.48\n",
      "t=21, ESS=773.12\n",
      "t=22, ESS=692.89\n",
      "t=23, ESS=623.20\n",
      "t=24, ESS=586.51\n",
      "t=25, ESS=514.51\n",
      "t=26, ESS=482.00\n",
      "t=27, Metropolis acc. rate (over 49 steps): 0.369, ESS=984.63\n",
      "t=28, ESS=947.79\n",
      "t=29, ESS=883.01\n",
      "CPU times: user 565 ms, sys: 22.4 ms, total: 588 ms\n",
      "Wall time: 623 ms\n"
     ]
    }
   ]
  },
  {
   "cell_type": "code",
   "metadata": {
    "colab": {
     "base_uri": "https://localhost:8080/"
    },
    "id": "N4lwqfp3bFOU",
    "outputId": "ea477a13-359e-49a6-9138-b23fa806e344"
   },
   "source": [
    "dir(my_alg)"
   ],
   "execution_count": 12,
   "outputs": [
    {
     "output_type": "execute_result",
     "data": {
      "text/plain": [
       "['A',\n",
       " 'ESSrmin',\n",
       " 'N',\n",
       " 'W',\n",
       " 'X',\n",
       " 'Xp',\n",
       " '__class__',\n",
       " '__delattr__',\n",
       " '__dict__',\n",
       " '__dir__',\n",
       " '__doc__',\n",
       " '__eq__',\n",
       " '__format__',\n",
       " '__ge__',\n",
       " '__getattribute__',\n",
       " '__gt__',\n",
       " '__hash__',\n",
       " '__init__',\n",
       " '__init_subclass__',\n",
       " '__iter__',\n",
       " '__le__',\n",
       " '__lt__',\n",
       " '__module__',\n",
       " '__ne__',\n",
       " '__new__',\n",
       " '__next__',\n",
       " '__reduce__',\n",
       " '__reduce_ex__',\n",
       " '__repr__',\n",
       " '__setattr__',\n",
       " '__sizeof__',\n",
       " '__str__',\n",
       " '__subclasshook__',\n",
       " '__weakref__',\n",
       " 'aux',\n",
       " 'compute_summaries',\n",
       " 'cpu_time',\n",
       " 'fk',\n",
       " 'generate_particles',\n",
       " 'hist',\n",
       " 'logLt',\n",
       " 'log_mean_w',\n",
       " 'loglt',\n",
       " 'next',\n",
       " 'qmc',\n",
       " 'resample_move',\n",
       " 'resample_move_qmc',\n",
       " 'resampling',\n",
       " 'reset_weights',\n",
       " 'reweight_particles',\n",
       " 'rs_flag',\n",
       " 'run',\n",
       " 'setup_auxiliary_weights',\n",
       " 'summaries',\n",
       " 't',\n",
       " 'verbose',\n",
       " 'wgts']"
      ]
     },
     "metadata": {},
     "execution_count": 12
    }
   ]
  },
  {
   "cell_type": "code",
   "metadata": {
    "colab": {
     "base_uri": "https://localhost:8080/"
    },
    "id": "JyfP735YbXby",
    "outputId": "80792a2f-b8b4-409b-d452-b9139e2f04b5"
   },
   "source": [
    "dir(my_alg.hist)"
   ],
   "execution_count": 14,
   "outputs": [
    {
     "output_type": "execute_result",
     "data": {
      "text/plain": [
       "['A',\n",
       " 'N',\n",
       " 'T',\n",
       " 'X',\n",
       " '__class__',\n",
       " '__delattr__',\n",
       " '__dict__',\n",
       " '__dir__',\n",
       " '__doc__',\n",
       " '__eq__',\n",
       " '__format__',\n",
       " '__ge__',\n",
       " '__getattribute__',\n",
       " '__gt__',\n",
       " '__hash__',\n",
       " '__init__',\n",
       " '__init_subclass__',\n",
       " '__le__',\n",
       " '__lt__',\n",
       " '__module__',\n",
       " '__ne__',\n",
       " '__new__',\n",
       " '__reduce__',\n",
       " '__reduce_ex__',\n",
       " '__repr__',\n",
       " '__setattr__',\n",
       " '__sizeof__',\n",
       " '__str__',\n",
       " '__subclasshook__',\n",
       " '__weakref__',\n",
       " '_backward_sampling_ON',\n",
       " '_backward_sampling_ON2',\n",
       " '_check_h_orders',\n",
       " '_two_filter_smoothing_ON',\n",
       " '_two_filter_smoothing_ON2',\n",
       " 'backward_sampling',\n",
       " 'backward_sampling_qmc',\n",
       " 'compute_trajectories',\n",
       " 'extract_one_trajectory',\n",
       " 'fk',\n",
       " 'save',\n",
       " 'two_filter_smoothing',\n",
       " 'wgts']"
      ]
     },
     "metadata": {},
     "execution_count": 14
    }
   ]
  },
  {
   "cell_type": "code",
   "metadata": {
    "colab": {
     "base_uri": "https://localhost:8080/"
    },
    "id": "O35r5-F1cGd8",
    "outputId": "5db1e76f-619e-4f5a-f0a8-ed9614e5d24b"
   },
   "source": [
    "xx = my_alg.hist.X[0].theta[\"mu\"]\n",
    "nsamples = xx.shape[0]\n",
    "print(nsamples)"
   ],
   "execution_count": 19,
   "outputs": [
    {
     "output_type": "stream",
     "name": "stdout",
     "text": [
      "1000\n"
     ]
    }
   ]
  },
  {
   "cell_type": "code",
   "metadata": {
    "colab": {
     "base_uri": "https://localhost:8080/",
     "height": 282
    },
    "id": "JjtJqnvOblTp",
    "outputId": "94fe62af-6c26-4a67-a8b6-eaac44587bb2"
   },
   "source": [
    "mus = np.zeros((T, nsamples))\n",
    "times = np.arange(T)\n",
    "for t in times:\n",
    "    mus[t, :] = my_alg.hist.X[t].theta[\"mu\"]\n",
    "\n",
    "print(mus.shape)\n",
    "plt.figure()\n",
    "plt.plot(times, mus, label=\"mu\");"
   ],
   "execution_count": 23,
   "outputs": [
    {
     "output_type": "stream",
     "name": "stdout",
     "text": [
      "(30, 1000)\n"
     ]
    },
    {
     "output_type": "display_data",
     "data": {
      "image/png": "[encoded data removed]",
      "text/plain": [
       "<Figure size 432x288 with 1 Axes>"
      ]
     },
     "metadata": {}
    }
   ]
  },
  {
   "cell_type": "markdown",
   "metadata": {
    "id": "9rb16BAzdq0O"
   },
   "source": [
    "Below we show the histogram of samples at two time steps for each parameter.\n",
    "We see that the posterior concentrates on the true values."
   ]
  },
  {
   "cell_type": "code",
   "metadata": {
    "colab": {
     "base_uri": "https://localhost:8080/",
     "height": 282
    },
    "id": "slcH_GxxdqGq",
    "outputId": "450bc58a-b2d5-4a57-80b7-0f5587eda70b"
   },
   "source": [
    "plt.style.use(\"ggplot\")\n",
    "for i, p in enumerate([\"mu\", \"sigma\"]):\n",
    "    plt.subplot(1, 2, i + 1)\n",
    "    for t in [1, 29]:\n",
    "        plt.hist(my_alg.hist.X[t].theta[p], weights=my_alg.hist.wgts[t].W, label=\"t=%i\" % t, alpha=0.5, density=True)\n",
    "    plt.xlabel(p)\n",
    "plt.legend()\n",
    "plt.savefig(\"ibis-post-histo.png\")\n",
    "plt.savefig(\"ibis-post-histo.pdf\")"
   ],
   "execution_count": 25,
   "outputs": [
    {
     "output_type": "display_data",
     "data": {
      "image/png": "[encoded data removed]",
      "text/plain": [
       "<Figure size 432x288 with 2 Axes>"
      ]
     },
     "metadata": {}
    }
   ]
  },
  {
   "cell_type": "code",
   "metadata": {
    "colab": {
     "base_uri": "https://localhost:8080/",
     "height": 282
    },
    "id": "GwwLc4TseEPA",
    "outputId": "bd9d5284-f431-40c6-cd8e-0a000f324200"
   },
   "source": [
    "plt.plot(my_alg.summaries.ESSs)\n",
    "plt.xlabel(\"t\")\n",
    "plt.ylabel(\"ESS\")\n",
    "plt.axhline(y=500)\n",
    "plt.savefig(\"ibis-ESS-vs-time.png\")\n",
    "plt.savefig(\"ibis-ESS-vs-time.pdf\")"
   ],
   "execution_count": 38,
   "outputs": [
    {
     "output_type": "display_data",
     "data": {
      "image/png": "[encoded data removed]",
      "text/plain": [
       "<Figure size 432x288 with 1 Axes>"
      ]
     },
     "metadata": {}
    }
   ]
  },
  {
   "cell_type": "code",
   "metadata": {
    "colab": {
     "base_uri": "https://localhost:8080/"
    },
    "id": "tzX44v-sgKLf",
    "outputId": "c90624ac-665a-40d3-dcfe-cd4af78db49f"
   },
   "source": [
    "print(my_alg.X.shared.keys())"
   ],
   "execution_count": 30,
   "outputs": [
    {
     "output_type": "stream",
     "name": "stdout",
     "text": [
      "dict_keys(['rs_flag', 'chol_cov', 'acc_rates'])\n"
     ]
    }
   ]
  },
  {
   "cell_type": "code",
   "metadata": {
    "colab": {
     "base_uri": "https://localhost:8080/"
    },
    "id": "ASlXqiwhgLdV",
    "outputId": "eb072e52-4c26-4e0c-a8a5-630983e30a88"
   },
   "source": [
    "rates = my_alg.X.shared[\"acc_rates\"]\n",
    "print(len(rates))\n",
    "for r in rates:\n",
    "    print(np.mean(r))"
   ],
   "execution_count": 35,
   "outputs": [
    {
     "output_type": "stream",
     "name": "stdout",
     "text": [
      "5\n",
      "0.21405374788813664\n",
      "0.16100694015115935\n",
      "0.26278967432180883\n",
      "0.3486559129773304\n",
      "0.36904453629065304\n"
     ]
    }
   ]
  },
  {
   "cell_type": "code",
   "metadata": {
    "id": "fdLZp0lCgpcG"
   },
   "source": [
    ""
   ],
   "execution_count": null,
   "outputs": []
  }
 ]
}